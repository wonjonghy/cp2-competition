{
  "cells": [
    {
      "cell_type": "code",
      "execution_count": null,
      "metadata": {
        "id": "5rR5ZZ6mYFfv"
      },
      "outputs": [],
      "source": [
        "!pip install transformers\n",
        "!pip install datasets\n",
        "!pip install sentencepiece"
      ]
    },
    {
      "cell_type": "code",
      "execution_count": 9,
      "metadata": {
        "colab": {
          "base_uri": "https://localhost:8080/"
        },
        "id": "3_Ygu5DP-AMR",
        "outputId": "73ce5ad3-383d-43ea-d897-4af64af9fa23"
      },
      "outputs": [
        {
          "name": "stdout",
          "output_type": "stream",
          "text": [
            "Archive:  open.zip\n",
            "  inflating: sample_submission.csv   \n",
            "  inflating: test.csv                \n",
            "  inflating: train.csv               \n"
          ]
        }
      ],
      "source": [
        "!unzip open.zip"
      ]
    },
    {
      "cell_type": "code",
      "execution_count": 1,
      "metadata": {
        "id": "DQazEtkuSJdG"
      },
      "outputs": [],
      "source": [
        "import random\n",
        "import pandas as pd\n",
        "import numpy as np\n",
        "import os\n",
        "import re\n",
        "\n",
        "from sklearn.model_selection import train_test_split\n",
        "from sklearn import preprocessing\n",
        "from sklearn.metrics import f1_score\n",
        "\n",
        "import torch\n",
        "import torch.nn as nn\n",
        "import torch.optim as optim\n",
        "import torch.nn.functional as F\n",
        "from torch.utils.data import Dataset, DataLoader\n",
        "\n",
        "from tqdm.auto import tqdm\n",
        "\n",
        "import warnings\n",
        "warnings.filterwarnings(action='ignore') "
      ]
    },
    {
      "cell_type": "code",
      "execution_count": 3,
      "metadata": {
        "id": "QX3USWUETPUQ"
      },
      "outputs": [],
      "source": [
        "device=torch.device('cuda' if torch.cuda.is_available() else 'cpu')"
      ]
    },
    {
      "cell_type": "code",
      "execution_count": 10,
      "metadata": {
        "id": "RMmsqUQXNqtp"
      },
      "outputs": [],
      "source": [
        "CFG = {\n",
        "    'EPOCHS':10,\n",
        "    'LEARNING_RATE':1e-4,\n",
        "    'BATCH_SIZE':256,\n",
        "    'SEED':41\n",
        "}"
      ]
    },
    {
      "cell_type": "code",
      "execution_count": 11,
      "metadata": {
        "id": "bkGnJm_bPfAH"
      },
      "outputs": [],
      "source": [
        "df=pd.read_csv('train.csv').drop(['ID'], axis=1)\n",
        "df_copy=df.copy()\n",
        "df_test=pd.read_csv('test.csv')\n",
        "df_test_copy=df_test.copy()"
      ]
    },
    {
      "cell_type": "code",
      "execution_count": null,
      "metadata": {
        "colab": {
          "base_uri": "https://localhost:8080/",
          "height": 423
        },
        "id": "DnOqFZWxPh_5",
        "outputId": "3206caa2-e1db-458a-d3d7-01c9ab56d7e9"
      },
      "outputs": [
        {
          "data": {
            "text/html": [
              "\n",
              "  <div id=\"df-c25b41ee-1155-468d-a7a5-bfbc430e70fb\">\n",
              "    <div class=\"colab-df-container\">\n",
              "      <div>\n",
              "<style scoped>\n",
              "    .dataframe tbody tr th:only-of-type {\n",
              "        vertical-align: middle;\n",
              "    }\n",
              "\n",
              "    .dataframe tbody tr th {\n",
              "        vertical-align: top;\n",
              "    }\n",
              "\n",
              "    .dataframe thead th {\n",
              "        text-align: right;\n",
              "    }\n",
              "</style>\n",
              "<table border=\"1\" class=\"dataframe\">\n",
              "  <thead>\n",
              "    <tr style=\"text-align: right;\">\n",
              "      <th></th>\n",
              "      <th>문장</th>\n",
              "      <th>유형</th>\n",
              "      <th>극성</th>\n",
              "      <th>시제</th>\n",
              "      <th>확실성</th>\n",
              "      <th>label</th>\n",
              "    </tr>\n",
              "  </thead>\n",
              "  <tbody>\n",
              "    <tr>\n",
              "      <th>0</th>\n",
              "      <td>0.75%포인트 금리 인상은 1994년 이후 28년 만에 처음이다.</td>\n",
              "      <td>사실형</td>\n",
              "      <td>긍정</td>\n",
              "      <td>현재</td>\n",
              "      <td>확실</td>\n",
              "      <td>사실형-긍정-현재-확실</td>\n",
              "    </tr>\n",
              "    <tr>\n",
              "      <th>1</th>\n",
              "      <td>이어 ＂앞으로 전문가들과 함께 4주 단위로 상황을 재평가할 예정＂이라며 ＂그 이전이...</td>\n",
              "      <td>사실형</td>\n",
              "      <td>긍정</td>\n",
              "      <td>과거</td>\n",
              "      <td>확실</td>\n",
              "      <td>사실형-긍정-과거-확실</td>\n",
              "    </tr>\n",
              "    <tr>\n",
              "      <th>2</th>\n",
              "      <td>정부가 고유가 대응을 위해 7월부터 연말까지 유류세 인하 폭을 30%에서 37%까지...</td>\n",
              "      <td>사실형</td>\n",
              "      <td>긍정</td>\n",
              "      <td>미래</td>\n",
              "      <td>확실</td>\n",
              "      <td>사실형-긍정-미래-확실</td>\n",
              "    </tr>\n",
              "    <tr>\n",
              "      <th>3</th>\n",
              "      <td>서울시는 올해 3월 즉시 견인 유예시간 60분을 제공하겠다고 밝혔지만, 하루 만에 ...</td>\n",
              "      <td>사실형</td>\n",
              "      <td>긍정</td>\n",
              "      <td>과거</td>\n",
              "      <td>확실</td>\n",
              "      <td>사실형-긍정-과거-확실</td>\n",
              "    </tr>\n",
              "    <tr>\n",
              "      <th>4</th>\n",
              "      <td>익사한 자는 사다리에 태워 거꾸로 놓고 소금으로 코를 막아 가득 채운다.</td>\n",
              "      <td>사실형</td>\n",
              "      <td>긍정</td>\n",
              "      <td>현재</td>\n",
              "      <td>확실</td>\n",
              "      <td>사실형-긍정-현재-확실</td>\n",
              "    </tr>\n",
              "    <tr>\n",
              "      <th>...</th>\n",
              "      <td>...</td>\n",
              "      <td>...</td>\n",
              "      <td>...</td>\n",
              "      <td>...</td>\n",
              "      <td>...</td>\n",
              "      <td>...</td>\n",
              "    </tr>\n",
              "    <tr>\n",
              "      <th>16536</th>\n",
              "      <td>＇신동덤＇은 ＇신비한 동물사전＇과 ＇해리 포터＇ 시리즈를 잇는 마법 어드벤처물로, ...</td>\n",
              "      <td>사실형</td>\n",
              "      <td>긍정</td>\n",
              "      <td>과거</td>\n",
              "      <td>확실</td>\n",
              "      <td>사실형-긍정-과거-확실</td>\n",
              "    </tr>\n",
              "    <tr>\n",
              "      <th>16537</th>\n",
              "      <td>수족냉증은 어릴 때부터 심했으며 관절은 어디 한 곳이 아니고 목, 어깨, 팔꿈치, ...</td>\n",
              "      <td>사실형</td>\n",
              "      <td>긍정</td>\n",
              "      <td>과거</td>\n",
              "      <td>확실</td>\n",
              "      <td>사실형-긍정-과거-확실</td>\n",
              "    </tr>\n",
              "    <tr>\n",
              "      <th>16538</th>\n",
              "      <td>김금희 소설가는 ＂계약서 조정이 그리 어려운가 작가를 격려한다면서 그런 문구 하나 ...</td>\n",
              "      <td>사실형</td>\n",
              "      <td>긍정</td>\n",
              "      <td>과거</td>\n",
              "      <td>확실</td>\n",
              "      <td>사실형-긍정-과거-확실</td>\n",
              "    </tr>\n",
              "    <tr>\n",
              "      <th>16539</th>\n",
              "      <td>1만명이 넘는 방문자수를 기록한 이번 전시회는 총 77개 작품을 넥슨 사옥을 그대로...</td>\n",
              "      <td>사실형</td>\n",
              "      <td>긍정</td>\n",
              "      <td>과거</td>\n",
              "      <td>불확실</td>\n",
              "      <td>사실형-긍정-과거-불확실</td>\n",
              "    </tr>\n",
              "    <tr>\n",
              "      <th>16540</th>\n",
              "      <td>《목민심서》의 내용이다.</td>\n",
              "      <td>사실형</td>\n",
              "      <td>긍정</td>\n",
              "      <td>현재</td>\n",
              "      <td>확실</td>\n",
              "      <td>사실형-긍정-현재-확실</td>\n",
              "    </tr>\n",
              "  </tbody>\n",
              "</table>\n",
              "<p>16541 rows × 6 columns</p>\n",
              "</div>\n",
              "      <button class=\"colab-df-convert\" onclick=\"convertToInteractive('df-c25b41ee-1155-468d-a7a5-bfbc430e70fb')\"\n",
              "              title=\"Convert this dataframe to an interactive table.\"\n",
              "              style=\"display:none;\">\n",
              "        \n",
              "  <svg xmlns=\"http://www.w3.org/2000/svg\" height=\"24px\"viewBox=\"0 0 24 24\"\n",
              "       width=\"24px\">\n",
              "    <path d=\"M0 0h24v24H0V0z\" fill=\"none\"/>\n",
              "    <path d=\"M18.56 5.44l.94 2.06.94-2.06 2.06-.94-2.06-.94-.94-2.06-.94 2.06-2.06.94zm-11 1L8.5 8.5l.94-2.06 2.06-.94-2.06-.94L8.5 2.5l-.94 2.06-2.06.94zm10 10l.94 2.06.94-2.06 2.06-.94-2.06-.94-.94-2.06-.94 2.06-2.06.94z\"/><path d=\"M17.41 7.96l-1.37-1.37c-.4-.4-.92-.59-1.43-.59-.52 0-1.04.2-1.43.59L10.3 9.45l-7.72 7.72c-.78.78-.78 2.05 0 2.83L4 21.41c.39.39.9.59 1.41.59.51 0 1.02-.2 1.41-.59l7.78-7.78 2.81-2.81c.8-.78.8-2.07 0-2.86zM5.41 20L4 18.59l7.72-7.72 1.47 1.35L5.41 20z\"/>\n",
              "  </svg>\n",
              "      </button>\n",
              "      \n",
              "  <style>\n",
              "    .colab-df-container {\n",
              "      display:flex;\n",
              "      flex-wrap:wrap;\n",
              "      gap: 12px;\n",
              "    }\n",
              "\n",
              "    .colab-df-convert {\n",
              "      background-color: #E8F0FE;\n",
              "      border: none;\n",
              "      border-radius: 50%;\n",
              "      cursor: pointer;\n",
              "      display: none;\n",
              "      fill: #1967D2;\n",
              "      height: 32px;\n",
              "      padding: 0 0 0 0;\n",
              "      width: 32px;\n",
              "    }\n",
              "\n",
              "    .colab-df-convert:hover {\n",
              "      background-color: #E2EBFA;\n",
              "      box-shadow: 0px 1px 2px rgba(60, 64, 67, 0.3), 0px 1px 3px 1px rgba(60, 64, 67, 0.15);\n",
              "      fill: #174EA6;\n",
              "    }\n",
              "\n",
              "    [theme=dark] .colab-df-convert {\n",
              "      background-color: #3B4455;\n",
              "      fill: #D2E3FC;\n",
              "    }\n",
              "\n",
              "    [theme=dark] .colab-df-convert:hover {\n",
              "      background-color: #434B5C;\n",
              "      box-shadow: 0px 1px 3px 1px rgba(0, 0, 0, 0.15);\n",
              "      filter: drop-shadow(0px 1px 2px rgba(0, 0, 0, 0.3));\n",
              "      fill: #FFFFFF;\n",
              "    }\n",
              "  </style>\n",
              "\n",
              "      <script>\n",
              "        const buttonEl =\n",
              "          document.querySelector('#df-c25b41ee-1155-468d-a7a5-bfbc430e70fb button.colab-df-convert');\n",
              "        buttonEl.style.display =\n",
              "          google.colab.kernel.accessAllowed ? 'block' : 'none';\n",
              "\n",
              "        async function convertToInteractive(key) {\n",
              "          const element = document.querySelector('#df-c25b41ee-1155-468d-a7a5-bfbc430e70fb');\n",
              "          const dataTable =\n",
              "            await google.colab.kernel.invokeFunction('convertToInteractive',\n",
              "                                                     [key], {});\n",
              "          if (!dataTable) return;\n",
              "\n",
              "          const docLinkHtml = 'Like what you see? Visit the ' +\n",
              "            '<a target=\"_blank\" href=https://colab.research.google.com/notebooks/data_table.ipynb>data table notebook</a>'\n",
              "            + ' to learn more about interactive tables.';\n",
              "          element.innerHTML = '';\n",
              "          dataTable['output_type'] = 'display_data';\n",
              "          await google.colab.output.renderOutput(dataTable, element);\n",
              "          const docLink = document.createElement('div');\n",
              "          docLink.innerHTML = docLinkHtml;\n",
              "          element.appendChild(docLink);\n",
              "        }\n",
              "      </script>\n",
              "    </div>\n",
              "  </div>\n",
              "  "
            ],
            "text/plain": [
              "                                                      문장   유형  극성  시제  확실성  \\\n",
              "0                  0.75%포인트 금리 인상은 1994년 이후 28년 만에 처음이다.  사실형  긍정  현재   확실   \n",
              "1      이어 ＂앞으로 전문가들과 함께 4주 단위로 상황을 재평가할 예정＂이라며 ＂그 이전이...  사실형  긍정  과거   확실   \n",
              "2      정부가 고유가 대응을 위해 7월부터 연말까지 유류세 인하 폭을 30%에서 37%까지...  사실형  긍정  미래   확실   \n",
              "3      서울시는 올해 3월 즉시 견인 유예시간 60분을 제공하겠다고 밝혔지만, 하루 만에 ...  사실형  긍정  과거   확실   \n",
              "4               익사한 자는 사다리에 태워 거꾸로 놓고 소금으로 코를 막아 가득 채운다.  사실형  긍정  현재   확실   \n",
              "...                                                  ...  ...  ..  ..  ...   \n",
              "16536  ＇신동덤＇은 ＇신비한 동물사전＇과 ＇해리 포터＇ 시리즈를 잇는 마법 어드벤처물로, ...  사실형  긍정  과거   확실   \n",
              "16537  수족냉증은 어릴 때부터 심했으며 관절은 어디 한 곳이 아니고 목, 어깨, 팔꿈치, ...  사실형  긍정  과거   확실   \n",
              "16538  김금희 소설가는 ＂계약서 조정이 그리 어려운가 작가를 격려한다면서 그런 문구 하나 ...  사실형  긍정  과거   확실   \n",
              "16539  1만명이 넘는 방문자수를 기록한 이번 전시회는 총 77개 작품을 넥슨 사옥을 그대로...  사실형  긍정  과거  불확실   \n",
              "16540                                      《목민심서》의 내용이다.  사실형  긍정  현재   확실   \n",
              "\n",
              "               label  \n",
              "0       사실형-긍정-현재-확실  \n",
              "1       사실형-긍정-과거-확실  \n",
              "2       사실형-긍정-미래-확실  \n",
              "3       사실형-긍정-과거-확실  \n",
              "4       사실형-긍정-현재-확실  \n",
              "...              ...  \n",
              "16536   사실형-긍정-과거-확실  \n",
              "16537   사실형-긍정-과거-확실  \n",
              "16538   사실형-긍정-과거-확실  \n",
              "16539  사실형-긍정-과거-불확실  \n",
              "16540   사실형-긍정-현재-확실  \n",
              "\n",
              "[16541 rows x 6 columns]"
            ]
          },
          "execution_count": 8,
          "metadata": {},
          "output_type": "execute_result"
        }
      ],
      "source": [
        "df"
      ]
    },
    {
      "cell_type": "code",
      "execution_count": null,
      "metadata": {
        "id": "U9T-aitR0f7z"
      },
      "outputs": [],
      "source": [
        "for idx, sent in enumerate(df['문장']):\n",
        "  if re.search('토트넘', sent):\n",
        "    print(sent, df['label'][idx], '\\n')"
      ]
    },
    {
      "cell_type": "markdown",
      "metadata": {
        "id": "70vbKbggWo_m"
      },
      "source": [
        "# 텍스트 전처리"
      ]
    },
    {
      "cell_type": "code",
      "execution_count": null,
      "metadata": {
        "colab": {
          "base_uri": "https://localhost:8080/",
          "height": 175
        },
        "id": "TegKZ4rg6gTo",
        "outputId": "09873725-f149-4649-d4c9-0f1abb42d7ca"
      },
      "outputs": [
        {
          "data": {
            "text/html": [
              "\n",
              "  <div id=\"df-e4ae10e8-ada9-45b0-94aa-b448865c4f5b\">\n",
              "    <div class=\"colab-df-container\">\n",
              "      <div>\n",
              "<style scoped>\n",
              "    .dataframe tbody tr th:only-of-type {\n",
              "        vertical-align: middle;\n",
              "    }\n",
              "\n",
              "    .dataframe tbody tr th {\n",
              "        vertical-align: top;\n",
              "    }\n",
              "\n",
              "    .dataframe thead th {\n",
              "        text-align: right;\n",
              "    }\n",
              "</style>\n",
              "<table border=\"1\" class=\"dataframe\">\n",
              "  <thead>\n",
              "    <tr style=\"text-align: right;\">\n",
              "      <th></th>\n",
              "      <th>ID</th>\n",
              "      <th>문장</th>\n",
              "      <th>유형</th>\n",
              "      <th>극성</th>\n",
              "      <th>시제</th>\n",
              "      <th>확실성</th>\n",
              "      <th>label</th>\n",
              "    </tr>\n",
              "  </thead>\n",
              "  <tbody>\n",
              "    <tr>\n",
              "      <th>count</th>\n",
              "      <td>16541</td>\n",
              "      <td>16541</td>\n",
              "      <td>16541</td>\n",
              "      <td>16541</td>\n",
              "      <td>16541</td>\n",
              "      <td>16541</td>\n",
              "      <td>16541</td>\n",
              "    </tr>\n",
              "    <tr>\n",
              "      <th>unique</th>\n",
              "      <td>16541</td>\n",
              "      <td>16506</td>\n",
              "      <td>4</td>\n",
              "      <td>3</td>\n",
              "      <td>3</td>\n",
              "      <td>2</td>\n",
              "      <td>64</td>\n",
              "    </tr>\n",
              "    <tr>\n",
              "      <th>top</th>\n",
              "      <td>TRAIN_00000</td>\n",
              "      <td>이들 게임은 국내 구글 플레이 매출 톱10 진입이 예상되는 기대작이다.</td>\n",
              "      <td>사실형</td>\n",
              "      <td>긍정</td>\n",
              "      <td>과거</td>\n",
              "      <td>확실</td>\n",
              "      <td>사실형-긍정-과거-확실</td>\n",
              "    </tr>\n",
              "    <tr>\n",
              "      <th>freq</th>\n",
              "      <td>1</td>\n",
              "      <td>2</td>\n",
              "      <td>13558</td>\n",
              "      <td>15793</td>\n",
              "      <td>8032</td>\n",
              "      <td>15192</td>\n",
              "      <td>7113</td>\n",
              "    </tr>\n",
              "  </tbody>\n",
              "</table>\n",
              "</div>\n",
              "      <button class=\"colab-df-convert\" onclick=\"convertToInteractive('df-e4ae10e8-ada9-45b0-94aa-b448865c4f5b')\"\n",
              "              title=\"Convert this dataframe to an interactive table.\"\n",
              "              style=\"display:none;\">\n",
              "        \n",
              "  <svg xmlns=\"http://www.w3.org/2000/svg\" height=\"24px\"viewBox=\"0 0 24 24\"\n",
              "       width=\"24px\">\n",
              "    <path d=\"M0 0h24v24H0V0z\" fill=\"none\"/>\n",
              "    <path d=\"M18.56 5.44l.94 2.06.94-2.06 2.06-.94-2.06-.94-.94-2.06-.94 2.06-2.06.94zm-11 1L8.5 8.5l.94-2.06 2.06-.94-2.06-.94L8.5 2.5l-.94 2.06-2.06.94zm10 10l.94 2.06.94-2.06 2.06-.94-2.06-.94-.94-2.06-.94 2.06-2.06.94z\"/><path d=\"M17.41 7.96l-1.37-1.37c-.4-.4-.92-.59-1.43-.59-.52 0-1.04.2-1.43.59L10.3 9.45l-7.72 7.72c-.78.78-.78 2.05 0 2.83L4 21.41c.39.39.9.59 1.41.59.51 0 1.02-.2 1.41-.59l7.78-7.78 2.81-2.81c.8-.78.8-2.07 0-2.86zM5.41 20L4 18.59l7.72-7.72 1.47 1.35L5.41 20z\"/>\n",
              "  </svg>\n",
              "      </button>\n",
              "      \n",
              "  <style>\n",
              "    .colab-df-container {\n",
              "      display:flex;\n",
              "      flex-wrap:wrap;\n",
              "      gap: 12px;\n",
              "    }\n",
              "\n",
              "    .colab-df-convert {\n",
              "      background-color: #E8F0FE;\n",
              "      border: none;\n",
              "      border-radius: 50%;\n",
              "      cursor: pointer;\n",
              "      display: none;\n",
              "      fill: #1967D2;\n",
              "      height: 32px;\n",
              "      padding: 0 0 0 0;\n",
              "      width: 32px;\n",
              "    }\n",
              "\n",
              "    .colab-df-convert:hover {\n",
              "      background-color: #E2EBFA;\n",
              "      box-shadow: 0px 1px 2px rgba(60, 64, 67, 0.3), 0px 1px 3px 1px rgba(60, 64, 67, 0.15);\n",
              "      fill: #174EA6;\n",
              "    }\n",
              "\n",
              "    [theme=dark] .colab-df-convert {\n",
              "      background-color: #3B4455;\n",
              "      fill: #D2E3FC;\n",
              "    }\n",
              "\n",
              "    [theme=dark] .colab-df-convert:hover {\n",
              "      background-color: #434B5C;\n",
              "      box-shadow: 0px 1px 3px 1px rgba(0, 0, 0, 0.15);\n",
              "      filter: drop-shadow(0px 1px 2px rgba(0, 0, 0, 0.3));\n",
              "      fill: #FFFFFF;\n",
              "    }\n",
              "  </style>\n",
              "\n",
              "      <script>\n",
              "        const buttonEl =\n",
              "          document.querySelector('#df-e4ae10e8-ada9-45b0-94aa-b448865c4f5b button.colab-df-convert');\n",
              "        buttonEl.style.display =\n",
              "          google.colab.kernel.accessAllowed ? 'block' : 'none';\n",
              "\n",
              "        async function convertToInteractive(key) {\n",
              "          const element = document.querySelector('#df-e4ae10e8-ada9-45b0-94aa-b448865c4f5b');\n",
              "          const dataTable =\n",
              "            await google.colab.kernel.invokeFunction('convertToInteractive',\n",
              "                                                     [key], {});\n",
              "          if (!dataTable) return;\n",
              "\n",
              "          const docLinkHtml = 'Like what you see? Visit the ' +\n",
              "            '<a target=\"_blank\" href=https://colab.research.google.com/notebooks/data_table.ipynb>data table notebook</a>'\n",
              "            + ' to learn more about interactive tables.';\n",
              "          element.innerHTML = '';\n",
              "          dataTable['output_type'] = 'display_data';\n",
              "          await google.colab.output.renderOutput(dataTable, element);\n",
              "          const docLink = document.createElement('div');\n",
              "          docLink.innerHTML = docLinkHtml;\n",
              "          element.appendChild(docLink);\n",
              "        }\n",
              "      </script>\n",
              "    </div>\n",
              "  </div>\n",
              "  "
            ],
            "text/plain": [
              "                 ID                                       문장     유형     극성  \\\n",
              "count         16541                                    16541  16541  16541   \n",
              "unique        16541                                    16506      4      3   \n",
              "top     TRAIN_00000  이들 게임은 국내 구글 플레이 매출 톱10 진입이 예상되는 기대작이다.    사실형     긍정   \n",
              "freq              1                                        2  13558  15793   \n",
              "\n",
              "           시제    확실성         label  \n",
              "count   16541  16541         16541  \n",
              "unique      3      2            64  \n",
              "top        과거     확실  사실형-긍정-과거-확실  \n",
              "freq     8032  15192          7113  "
            ]
          },
          "execution_count": 10,
          "metadata": {},
          "output_type": "execute_result"
        }
      ],
      "source": [
        "df.describe(exclude='number') #문장 중복 확인"
      ]
    },
    {
      "cell_type": "code",
      "execution_count": null,
      "metadata": {
        "colab": {
          "base_uri": "https://localhost:8080/"
        },
        "id": "aAKZfoEa0iUt",
        "outputId": "89e2e31c-d591-4ce9-ff9a-e1141d14df74"
      },
      "outputs": [
        {
          "data": {
            "text/plain": [
              "Index(['ID', '문장', '유형', '극성', '시제', '확실성', 'label'], dtype='object')"
            ]
          },
          "execution_count": 97,
          "metadata": {},
          "output_type": "execute_result"
        }
      ],
      "source": [
        "df.columns"
      ]
    },
    {
      "cell_type": "code",
      "execution_count": null,
      "metadata": {
        "colab": {
          "base_uri": "https://localhost:8080/"
        },
        "id": "rxdcCO9oFuiv",
        "outputId": "6dd75a23-1f13-432d-84d3-be9408e414d5"
      },
      "outputs": [
        {
          "name": "stdout",
          "output_type": "stream",
          "text": [
            "유형 ['사실형' '추론형' '예측형' '대화형']\n",
            "극성 ['긍정' '부정' '미정']\n",
            "시제 ['현재' '과거' '미래']\n",
            "확실성 ['확실' '불확실']\n"
          ]
        }
      ],
      "source": [
        "for col in df.columns[2:-1]:\n",
        "    print(col, df[col].unique())\n"
      ]
    },
    {
      "cell_type": "code",
      "execution_count": null,
      "metadata": {
        "colab": {
          "base_uri": "https://localhost:8080/"
        },
        "id": "ZfvxXtnCoo6K",
        "outputId": "1f746e3f-ef08-4548-b3ca-6462161e09aa"
      },
      "outputs": [
        {
          "data": {
            "text/plain": [
              "31"
            ]
          },
          "execution_count": 99,
          "metadata": {},
          "output_type": "execute_result"
        }
      ],
      "source": [
        "len(df[df.duplicated(subset=['문장', 'label'])]) #문장과 레이블이 동시에 중복 확인"
      ]
    },
    {
      "cell_type": "code",
      "execution_count": null,
      "metadata": {
        "colab": {
          "base_uri": "https://localhost:8080/"
        },
        "id": "K_x1SgYLoysx",
        "outputId": "a8d73fbd-13eb-4797-9e19-3a9293463ed8"
      },
      "outputs": [
        {
          "data": {
            "text/plain": [
              "35"
            ]
          },
          "execution_count": 100,
          "metadata": {},
          "output_type": "execute_result"
        }
      ],
      "source": [
        "len(df[df.duplicated(subset=['문장'])]) #문장은 중복됐지만 레이블은 다른 경우 확인(4개)"
      ]
    },
    {
      "cell_type": "markdown",
      "metadata": {
        "id": "nCd4_ilnYYbc"
      },
      "source": [
        "## 중복값 제거"
      ]
    },
    {
      "cell_type": "code",
      "execution_count": 12,
      "metadata": {
        "id": "jrQvyEKtsGHU"
      },
      "outputs": [],
      "source": [
        "df.drop_duplicates(subset=['문장', 'label'], inplace=True) #문장, 레이블 동시 중복 제거\n",
        "df.reset_index(drop=True, inplace=True)\n",
        "\n",
        "df['확실성'][14963]='확실'\n",
        "df['label'][14963]='사실형-긍정-현재-확실' #맞게 변경\n",
        "\n",
        "df.drop_duplicates(subset='문장', keep='last', inplace=True) #틀린 레이블을 가진 중복 문장 제거\n",
        "df.reset_index(drop=True, inplace=True)"
      ]
    },
    {
      "cell_type": "code",
      "execution_count": null,
      "metadata": {
        "colab": {
          "base_uri": "https://localhost:8080/",
          "height": 175
        },
        "id": "zz0hLE2l0kF-",
        "outputId": "1a075d40-f770-4803-d2cb-d03f67255f4f"
      },
      "outputs": [
        {
          "data": {
            "text/html": [
              "\n",
              "  <div id=\"df-574b6f61-aa9d-4e5f-9d1d-b6168ead9ea2\">\n",
              "    <div class=\"colab-df-container\">\n",
              "      <div>\n",
              "<style scoped>\n",
              "    .dataframe tbody tr th:only-of-type {\n",
              "        vertical-align: middle;\n",
              "    }\n",
              "\n",
              "    .dataframe tbody tr th {\n",
              "        vertical-align: top;\n",
              "    }\n",
              "\n",
              "    .dataframe thead th {\n",
              "        text-align: right;\n",
              "    }\n",
              "</style>\n",
              "<table border=\"1\" class=\"dataframe\">\n",
              "  <thead>\n",
              "    <tr style=\"text-align: right;\">\n",
              "      <th></th>\n",
              "      <th>ID</th>\n",
              "      <th>문장</th>\n",
              "      <th>유형</th>\n",
              "      <th>극성</th>\n",
              "      <th>시제</th>\n",
              "      <th>확실성</th>\n",
              "      <th>label</th>\n",
              "    </tr>\n",
              "  </thead>\n",
              "  <tbody>\n",
              "    <tr>\n",
              "      <th>count</th>\n",
              "      <td>16506</td>\n",
              "      <td>16506</td>\n",
              "      <td>16506</td>\n",
              "      <td>16506</td>\n",
              "      <td>16506</td>\n",
              "      <td>16506</td>\n",
              "      <td>16506</td>\n",
              "    </tr>\n",
              "    <tr>\n",
              "      <th>unique</th>\n",
              "      <td>16506</td>\n",
              "      <td>16506</td>\n",
              "      <td>4</td>\n",
              "      <td>3</td>\n",
              "      <td>3</td>\n",
              "      <td>2</td>\n",
              "      <td>64</td>\n",
              "    </tr>\n",
              "    <tr>\n",
              "      <th>top</th>\n",
              "      <td>TRAIN_00000</td>\n",
              "      <td>0.75%포인트 금리 인상은 1994년 이후 28년 만에 처음이다.</td>\n",
              "      <td>사실형</td>\n",
              "      <td>긍정</td>\n",
              "      <td>과거</td>\n",
              "      <td>확실</td>\n",
              "      <td>사실형-긍정-과거-확실</td>\n",
              "    </tr>\n",
              "    <tr>\n",
              "      <th>freq</th>\n",
              "      <td>1</td>\n",
              "      <td>1</td>\n",
              "      <td>13530</td>\n",
              "      <td>15758</td>\n",
              "      <td>8014</td>\n",
              "      <td>15163</td>\n",
              "      <td>7099</td>\n",
              "    </tr>\n",
              "  </tbody>\n",
              "</table>\n",
              "</div>\n",
              "      <button class=\"colab-df-convert\" onclick=\"convertToInteractive('df-574b6f61-aa9d-4e5f-9d1d-b6168ead9ea2')\"\n",
              "              title=\"Convert this dataframe to an interactive table.\"\n",
              "              style=\"display:none;\">\n",
              "        \n",
              "  <svg xmlns=\"http://www.w3.org/2000/svg\" height=\"24px\"viewBox=\"0 0 24 24\"\n",
              "       width=\"24px\">\n",
              "    <path d=\"M0 0h24v24H0V0z\" fill=\"none\"/>\n",
              "    <path d=\"M18.56 5.44l.94 2.06.94-2.06 2.06-.94-2.06-.94-.94-2.06-.94 2.06-2.06.94zm-11 1L8.5 8.5l.94-2.06 2.06-.94-2.06-.94L8.5 2.5l-.94 2.06-2.06.94zm10 10l.94 2.06.94-2.06 2.06-.94-2.06-.94-.94-2.06-.94 2.06-2.06.94z\"/><path d=\"M17.41 7.96l-1.37-1.37c-.4-.4-.92-.59-1.43-.59-.52 0-1.04.2-1.43.59L10.3 9.45l-7.72 7.72c-.78.78-.78 2.05 0 2.83L4 21.41c.39.39.9.59 1.41.59.51 0 1.02-.2 1.41-.59l7.78-7.78 2.81-2.81c.8-.78.8-2.07 0-2.86zM5.41 20L4 18.59l7.72-7.72 1.47 1.35L5.41 20z\"/>\n",
              "  </svg>\n",
              "      </button>\n",
              "      \n",
              "  <style>\n",
              "    .colab-df-container {\n",
              "      display:flex;\n",
              "      flex-wrap:wrap;\n",
              "      gap: 12px;\n",
              "    }\n",
              "\n",
              "    .colab-df-convert {\n",
              "      background-color: #E8F0FE;\n",
              "      border: none;\n",
              "      border-radius: 50%;\n",
              "      cursor: pointer;\n",
              "      display: none;\n",
              "      fill: #1967D2;\n",
              "      height: 32px;\n",
              "      padding: 0 0 0 0;\n",
              "      width: 32px;\n",
              "    }\n",
              "\n",
              "    .colab-df-convert:hover {\n",
              "      background-color: #E2EBFA;\n",
              "      box-shadow: 0px 1px 2px rgba(60, 64, 67, 0.3), 0px 1px 3px 1px rgba(60, 64, 67, 0.15);\n",
              "      fill: #174EA6;\n",
              "    }\n",
              "\n",
              "    [theme=dark] .colab-df-convert {\n",
              "      background-color: #3B4455;\n",
              "      fill: #D2E3FC;\n",
              "    }\n",
              "\n",
              "    [theme=dark] .colab-df-convert:hover {\n",
              "      background-color: #434B5C;\n",
              "      box-shadow: 0px 1px 3px 1px rgba(0, 0, 0, 0.15);\n",
              "      filter: drop-shadow(0px 1px 2px rgba(0, 0, 0, 0.3));\n",
              "      fill: #FFFFFF;\n",
              "    }\n",
              "  </style>\n",
              "\n",
              "      <script>\n",
              "        const buttonEl =\n",
              "          document.querySelector('#df-574b6f61-aa9d-4e5f-9d1d-b6168ead9ea2 button.colab-df-convert');\n",
              "        buttonEl.style.display =\n",
              "          google.colab.kernel.accessAllowed ? 'block' : 'none';\n",
              "\n",
              "        async function convertToInteractive(key) {\n",
              "          const element = document.querySelector('#df-574b6f61-aa9d-4e5f-9d1d-b6168ead9ea2');\n",
              "          const dataTable =\n",
              "            await google.colab.kernel.invokeFunction('convertToInteractive',\n",
              "                                                     [key], {});\n",
              "          if (!dataTable) return;\n",
              "\n",
              "          const docLinkHtml = 'Like what you see? Visit the ' +\n",
              "            '<a target=\"_blank\" href=https://colab.research.google.com/notebooks/data_table.ipynb>data table notebook</a>'\n",
              "            + ' to learn more about interactive tables.';\n",
              "          element.innerHTML = '';\n",
              "          dataTable['output_type'] = 'display_data';\n",
              "          await google.colab.output.renderOutput(dataTable, element);\n",
              "          const docLink = document.createElement('div');\n",
              "          docLink.innerHTML = docLinkHtml;\n",
              "          element.appendChild(docLink);\n",
              "        }\n",
              "      </script>\n",
              "    </div>\n",
              "  </div>\n",
              "  "
            ],
            "text/plain": [
              "                 ID                                     문장     유형     극성  \\\n",
              "count         16506                                  16506  16506  16506   \n",
              "unique        16506                                  16506      4      3   \n",
              "top     TRAIN_00000  0.75%포인트 금리 인상은 1994년 이후 28년 만에 처음이다.    사실형     긍정   \n",
              "freq              1                                      1  13530  15758   \n",
              "\n",
              "           시제    확실성         label  \n",
              "count   16506  16506         16506  \n",
              "unique      3      2            64  \n",
              "top        과거     확실  사실형-긍정-과거-확실  \n",
              "freq     8014  15163          7099  "
            ]
          },
          "execution_count": 9,
          "metadata": {},
          "output_type": "execute_result"
        }
      ],
      "source": [
        "df.describe(exclude='number') #중복여부 확인"
      ]
    },
    {
      "cell_type": "code",
      "execution_count": null,
      "metadata": {
        "colab": {
          "base_uri": "https://localhost:8080/"
        },
        "id": "1i962MCplgf_",
        "outputId": "6dc69329-a2d1-45dd-f60a-444ee1672feb"
      },
      "outputs": [
        {
          "name": "stdout",
          "output_type": "stream",
          "text": [
            "사실형    13530\n",
            "추론형     2146\n",
            "대화형      573\n",
            "예측형      257\n",
            "Name: 유형, dtype: int64 \n",
            "\n",
            "긍정    15758\n",
            "부정      565\n",
            "미정      183\n",
            "Name: 극성, dtype: int64 \n",
            "\n",
            "과거    8014\n",
            "현재    6852\n",
            "미래    1640\n",
            "Name: 시제, dtype: int64 \n",
            "\n",
            "확실     15163\n",
            "불확실     1343\n",
            "Name: 확실성, dtype: int64 \n",
            "\n"
          ]
        }
      ],
      "source": [
        "for col in df.columns[1:-1]: #데이터 불균형 확인\n",
        "    print(df[col].value_counts(),'\\n')"
      ]
    },
    {
      "cell_type": "code",
      "execution_count": null,
      "metadata": {
        "colab": {
          "base_uri": "https://localhost:8080/",
          "height": 191
        },
        "id": "_rFQnoA6rMhG",
        "outputId": "5858160c-4cf4-479b-c1c2-036956e6080d"
      },
      "outputs": [],
      "source": [
        "for col in df.columns[1:-1]: #데이터 불균형 확인\n",
        "    print(df[col].value_counts(normalize=True),'\\n')"
      ]
    },
    {
      "cell_type": "markdown",
      "metadata": {
        "id": "JirlpM9vY99t"
      },
      "source": [
        "## 텍스트 증강"
      ]
    },
    {
      "cell_type": "markdown",
      "metadata": {
        "id": "IakN2_7tcEJh"
      },
      "source": [
        "```\n",
        "- 목표: 수가 적은 카테고리의 텍스트에 역번역(ko -> en -> ko)방식과 RS(Random Swap), RD(Random Deletion)방식을 적용해서 데이터 증강.\n",
        "```"
      ]
    },
    {
      "cell_type": "markdown",
      "metadata": {
        "id": "beNNso9Mc-6F"
      },
      "source": [
        "```\n",
        "- 보완\n",
        "  - 번역투(-ㅂ니다.)를 특정해서 분류하므로 번역문을 따로 전처리해야 함.\n",
        "  - 위 과정이 너무 오래 걸리므로 카테고리 내 문장 수가 극히 적은 [유형: 예측], [극성: 미정] 만 역번역 하기로 함.\n",
        "  -  RD는 제거해도 의미가 변하지 않는 불용어와 수식어를 임의로 제거하거나 조사를 임의로 제거\n",
        "  - RS는 처음 또는 끝 단어를 교체하지 않도록 조정. 긴 문장(복문장)의 경우 임의의 단어를 교체할 경우 의미가 크게 달라질 것 같아 긴 문장은 RS에서 제외.\n",
        "```"
      ]
    },
    {
      "cell_type": "markdown",
      "metadata": {
        "id": "pj0xyc1nZALR"
      },
      "source": [
        "### 역번역"
      ]
    },
    {
      "cell_type": "code",
      "execution_count": null,
      "metadata": {
        "id": "DOB61WnXyG47"
      },
      "outputs": [],
      "source": [
        "import random"
      ]
    },
    {
      "cell_type": "code",
      "execution_count": 13,
      "metadata": {
        "id": "Qh0g8fkFczFA"
      },
      "outputs": [],
      "source": [
        "def trans_augmentation_preprocess(df, label, label_cat):\n",
        "  new_df = df.copy()\n",
        "  new_df = new_df[new_df[label]==label_cat].reset_index(drop=True)\n",
        "\n",
        "  new_df['문장']=new_df['문장'].map(lambda x: re.sub(r'\\([^()]*\\)', '', x)) #괄호와 괄호 안 문장 제거\n",
        "  p=re.compile('[《『]') #번역에 부적합한 고전 책 제목 제거 ex)《직지심체요절》\n",
        "  ind_del = []\n",
        "\n",
        "  for ind, doc in enumerate(new_df['문장']):\n",
        "    for char in doc:\n",
        "      if p.search(char):\n",
        "        ind_del.append(ind)\n",
        "\n",
        "  new_df.drop(ind_del, inplace=True)\n",
        "  new_df.reset_index(drop=True, inplace=True)\n",
        "  ind_del.clear()\n",
        "\n",
        "\n",
        "  new_df.reset_index(drop=True, inplace=True)\n",
        "\n",
        "  return new_df"
      ]
    },
    {
      "cell_type": "code",
      "execution_count": 14,
      "metadata": {
        "id": "I_OeMUHwP0UW"
      },
      "outputs": [],
      "source": [
        "df_train_pred_aug = trans_augmentation_preprocess(df, \"유형\", \"예측형\")\n",
        "df_train_non_aug = trans_augmentation_preprocess(df, \"극성\", \"미정\")"
      ]
    },
    {
      "cell_type": "markdown",
      "metadata": {
        "id": "dH_0dyNAGHBe"
      },
      "source": [
        "https://huggingface.co/facebook/m2m100_1.2B"
      ]
    },
    {
      "cell_type": "code",
      "execution_count": null,
      "metadata": {
        "id": "3YcP823jgonG"
      },
      "outputs": [],
      "source": [
        "from transformers import AutoTokenizer, AutoModelForSeq2SeqLM\n",
        "\n",
        "tokenizer = AutoTokenizer.from_pretrained(\"facebook/m2m100_1.2B\")\n",
        "model = AutoModelForSeq2SeqLM.from_pretrained(\"facebook/m2m100_1.2B\").to(device)"
      ]
    },
    {
      "cell_type": "code",
      "execution_count": null,
      "metadata": {
        "id": "5PzCXaUWkaAM"
      },
      "outputs": [],
      "source": [
        "from tqdm import tqdm\n",
        "\n",
        "def trans_augmentation(df, label):\n",
        "  new_df = df.copy()\n",
        "  new_df=new_df.reindex(columns=['번역문', '유형', '극성', '시제', '확실성', 'label'])\n",
        "  # tqdm으로 반복문 진행 상황을 볼 수 있도록 변경\n",
        "\n",
        "  for ind, sent in tqdm(enumerate(df['문장']), total=len(new_df)):\n",
        "    tokenizer.src_lang = \"ko\"\n",
        "    encoded_ko = tokenizer(sent, return_tensors=\"pt\").to(device)\n",
        "    generated_tokens = model.generate(**encoded_ko, forced_bos_token_id=tokenizer.get_lang_id(\"en\"))\n",
        "    result=tokenizer.batch_decode(generated_tokens, skip_special_tokens=True)[0] #ko -> en\n",
        "\n",
        "    tokenizer.src_lang = \"en\"\n",
        "    encoded_en = tokenizer(result, return_tensors=\"pt\").to(device)\n",
        "    generated_tokens = model.generate(**encoded_en, forced_bos_token_id=tokenizer.get_lang_id(\"ko\"))\n",
        "    result2 = tokenizer.batch_decode(generated_tokens, skip_special_tokens=True)[0] #en -> ko\n",
        "    \n",
        "    new_df['번역문'][ind] = result2\n",
        "  \n",
        "  return new_df\n"
      ]
    },
    {
      "cell_type": "markdown",
      "metadata": {
        "id": "LvRXKRdDDvLn"
      },
      "source": [
        "#### [유형: 예측] 역번역"
      ]
    },
    {
      "cell_type": "code",
      "execution_count": null,
      "metadata": {
        "id": "K8P7ZVo1YA_6"
      },
      "outputs": [],
      "source": [
        "df_train_pred_aug"
      ]
    },
    {
      "cell_type": "code",
      "execution_count": null,
      "metadata": {
        "colab": {
          "base_uri": "https://localhost:8080/"
        },
        "id": "MKz68E1pHTsg",
        "outputId": "6548b3e1-9d02-4a55-fd37-916a541ab97e"
      },
      "outputs": [
        {
          "name": "stderr",
          "output_type": "stream",
          "text": [
            "100%|██████████| 257/257 [13:22<00:00,  3.12s/it]\n"
          ]
        }
      ],
      "source": [
        "df_train_pred_aug_ = trans_augmentation(df_train_pred_aug, '유형')"
      ]
    },
    {
      "cell_type": "code",
      "execution_count": null,
      "metadata": {
        "id": "siJx7uuMGNLC"
      },
      "outputs": [],
      "source": [
        "#예측형으로 번역이 안 된 문장 제거\n",
        "pred_aug=df_train_pred_aug_.drop([4, 5, 6, 10, 17, 20, 24, 35, 46, 56, 80, 81, 101, 104, 105, 117, 121, 140, 143, 153, 160, 166, 170, 173, 190, 200, 203, 209, 214, 239, 242, 243, 247, 251])"
      ]
    },
    {
      "cell_type": "code",
      "execution_count": null,
      "metadata": {
        "id": "nqptQ7f8X7Rh"
      },
      "outputs": [],
      "source": [
        "pred_aug.reset_index(drop=True, inplace=True)"
      ]
    },
    {
      "cell_type": "code",
      "execution_count": null,
      "metadata": {
        "colab": {
          "base_uri": "https://localhost:8080/",
          "height": 582
        },
        "id": "hLOq8CfOAkxU",
        "outputId": "bbf34745-e4b5-44aa-c1ff-c6782901b937"
      },
      "outputs": [
        {
          "data": {
            "text/html": [
              "\n",
              "  <div id=\"df-4f46553c-bcfe-4499-bce0-aa5a33af4e42\">\n",
              "    <div class=\"colab-df-container\">\n",
              "      <div>\n",
              "<style scoped>\n",
              "    .dataframe tbody tr th:only-of-type {\n",
              "        vertical-align: middle;\n",
              "    }\n",
              "\n",
              "    .dataframe tbody tr th {\n",
              "        vertical-align: top;\n",
              "    }\n",
              "\n",
              "    .dataframe thead th {\n",
              "        text-align: right;\n",
              "    }\n",
              "</style>\n",
              "<table border=\"1\" class=\"dataframe\">\n",
              "  <thead>\n",
              "    <tr style=\"text-align: right;\">\n",
              "      <th></th>\n",
              "      <th>번역문</th>\n",
              "      <th>유형</th>\n",
              "      <th>극성</th>\n",
              "      <th>시제</th>\n",
              "      <th>확실성</th>\n",
              "      <th>label</th>\n",
              "    </tr>\n",
              "  </thead>\n",
              "  <tbody>\n",
              "    <tr>\n",
              "      <th>1</th>\n",
              "      <td>\"당신이 처음부터 OTT 사업을 성장시키고 싶었다면, Cupplay의 'Time t...</td>\n",
              "      <td>예측형</td>\n",
              "      <td>부정</td>\n",
              "      <td>과거</td>\n",
              "      <td>확실</td>\n",
              "      <td>예측형-부정-과거-확실</td>\n",
              "    </tr>\n",
              "    <tr>\n",
              "      <th>16</th>\n",
              "      <td>시스템 반도체에 대한 수요는 2030 년에 3,400에 도달 할 것으로 예상되며, ...</td>\n",
              "      <td>예측형</td>\n",
              "      <td>긍정</td>\n",
              "      <td>과거</td>\n",
              "      <td>확실</td>\n",
              "      <td>예측형-긍정-과거-확실</td>\n",
              "    </tr>\n",
              "    <tr>\n",
              "      <th>17</th>\n",
              "      <td>그러나 행동 심리학자 B. F. Skinner와 상담했다면 성장 과정, 사건의 실제...</td>\n",
              "      <td>예측형</td>\n",
              "      <td>긍정</td>\n",
              "      <td>과거</td>\n",
              "      <td>불확실</td>\n",
              "      <td>예측형-긍정-과거-불확실</td>\n",
              "    </tr>\n",
              "    <tr>\n",
              "      <th>31</th>\n",
              "      <td>뉴욕 타임즈는 \"이번 주 회의는 1994년 이후 가장 큰 금리 인프라를 논의하는 것...</td>\n",
              "      <td>예측형</td>\n",
              "      <td>긍정</td>\n",
              "      <td>과거</td>\n",
              "      <td>확실</td>\n",
              "      <td>예측형-긍정-과거-확실</td>\n",
              "    </tr>\n",
              "    <tr>\n",
              "      <th>32</th>\n",
              "      <td>성장률은 ‘정상적인’ 수준으로 예상된다.</td>\n",
              "      <td>예측형</td>\n",
              "      <td>긍정</td>\n",
              "      <td>과거</td>\n",
              "      <td>불확실</td>\n",
              "      <td>예측형-긍정-과거-불확실</td>\n",
              "    </tr>\n",
              "    <tr>\n",
              "      <th>44</th>\n",
              "      <td>몽골 파고 (Mongolia Fago)는 서쪽 0.5 ~ 2.0 미터, 남쪽 0.5...</td>\n",
              "      <td>예측형</td>\n",
              "      <td>긍정</td>\n",
              "      <td>과거</td>\n",
              "      <td>확실</td>\n",
              "      <td>예측형-긍정-과거-확실</td>\n",
              "    </tr>\n",
              "    <tr>\n",
              "      <th>58</th>\n",
              "      <td>또한 새로운 코로나 상황이 조직 될 것이라는 신호에 따르면 Bitcoin이 주요 수...</td>\n",
              "      <td>예측형</td>\n",
              "      <td>긍정</td>\n",
              "      <td>과거</td>\n",
              "      <td>불확실</td>\n",
              "      <td>예측형-긍정-과거-불확실</td>\n",
              "    </tr>\n",
              "    <tr>\n",
              "      <th>65</th>\n",
              "      <td>미시시피는 강을 제외한 모든 지역에서 \"행복\"의 수준에있을 것으로 예상됩니다.</td>\n",
              "      <td>예측형</td>\n",
              "      <td>긍정</td>\n",
              "      <td>과거</td>\n",
              "      <td>불확실</td>\n",
              "      <td>예측형-긍정-과거-불확실</td>\n",
              "    </tr>\n",
              "    <tr>\n",
              "      <th>97</th>\n",
              "      <td>기상 기관은 오늘 아침 서부 중앙 바다에 위치한 고온 압력의 경계에서 국가가 대부분...</td>\n",
              "      <td>예측형</td>\n",
              "      <td>긍정</td>\n",
              "      <td>과거</td>\n",
              "      <td>확실</td>\n",
              "      <td>예측형-긍정-과거-확실</td>\n",
              "    </tr>\n",
              "    <tr>\n",
              "      <th>129</th>\n",
              "      <td>2020년에는 한국 경제연구소가 한국의 제4차 산업혁명 분야에서 노동 부족률이 20...</td>\n",
              "      <td>예측형</td>\n",
              "      <td>긍정</td>\n",
              "      <td>과거</td>\n",
              "      <td>불확실</td>\n",
              "      <td>예측형-긍정-과거-불확실</td>\n",
              "    </tr>\n",
              "    <tr>\n",
              "      <th>149</th>\n",
              "      <td>이는 20kg 당 30퍼센트 이상인 것으로 추정됐다.</td>\n",
              "      <td>예측형</td>\n",
              "      <td>긍정</td>\n",
              "      <td>과거</td>\n",
              "      <td>불확실</td>\n",
              "      <td>예측형-긍정-과거-불확실</td>\n",
              "    </tr>\n",
              "    <tr>\n",
              "      <th>151</th>\n",
              "      <td>월스트리트의 바클레이스와 제프리스 투자 은행은 5 월 가격 상승을 발표 한 후 Fe...</td>\n",
              "      <td>예측형</td>\n",
              "      <td>긍정</td>\n",
              "      <td>과거</td>\n",
              "      <td>확실</td>\n",
              "      <td>예측형-긍정-과거-확실</td>\n",
              "    </tr>\n",
              "    <tr>\n",
              "      <th>173</th>\n",
              "      <td>반면에 0.5% 포인트 증가가 7%로 예상되었습니다.</td>\n",
              "      <td>예측형</td>\n",
              "      <td>긍정</td>\n",
              "      <td>과거</td>\n",
              "      <td>확실</td>\n",
              "      <td>예측형-긍정-과거-확실</td>\n",
              "    </tr>\n",
              "    <tr>\n",
              "      <th>180</th>\n",
              "      <td>또한 연간 6,000 파운드에 50 % 이상 증가 할 것으로 예상됩니다.</td>\n",
              "      <td>예측형</td>\n",
              "      <td>긍정</td>\n",
              "      <td>과거</td>\n",
              "      <td>불확실</td>\n",
              "      <td>예측형-긍정-과거-불확실</td>\n",
              "    </tr>\n",
              "    <tr>\n",
              "      <th>209</th>\n",
              "      <td>또한 위험 관리 능력은 이익을 창출하고 지불 가능한 안정성을 유지할 것으로 예상된다.</td>\n",
              "      <td>예측형</td>\n",
              "      <td>긍정</td>\n",
              "      <td>과거</td>\n",
              "      <td>확실</td>\n",
              "      <td>예측형-긍정-과거-확실</td>\n",
              "    </tr>\n",
              "    <tr>\n",
              "      <th>210</th>\n",
              "      <td>스포츠에서 전반적인 도로지도를 그리는 수준에서, 미래의 스포츠에 적합한 게임은 갤럭...</td>\n",
              "      <td>예측형</td>\n",
              "      <td>미정</td>\n",
              "      <td>과거</td>\n",
              "      <td>확실</td>\n",
              "      <td>예측형-미정-과거-확실</td>\n",
              "    </tr>\n",
              "    <tr>\n",
              "      <th>215</th>\n",
              "      <td>최대 온도는 전날보다 4~12도 높아질 예정이다.</td>\n",
              "      <td>예측형</td>\n",
              "      <td>긍정</td>\n",
              "      <td>과거</td>\n",
              "      <td>확실</td>\n",
              "      <td>예측형-긍정-과거-확실</td>\n",
              "    </tr>\n",
              "  </tbody>\n",
              "</table>\n",
              "</div>\n",
              "      <button class=\"colab-df-convert\" onclick=\"convertToInteractive('df-4f46553c-bcfe-4499-bce0-aa5a33af4e42')\"\n",
              "              title=\"Convert this dataframe to an interactive table.\"\n",
              "              style=\"display:none;\">\n",
              "        \n",
              "  <svg xmlns=\"http://www.w3.org/2000/svg\" height=\"24px\"viewBox=\"0 0 24 24\"\n",
              "       width=\"24px\">\n",
              "    <path d=\"M0 0h24v24H0V0z\" fill=\"none\"/>\n",
              "    <path d=\"M18.56 5.44l.94 2.06.94-2.06 2.06-.94-2.06-.94-.94-2.06-.94 2.06-2.06.94zm-11 1L8.5 8.5l.94-2.06 2.06-.94-2.06-.94L8.5 2.5l-.94 2.06-2.06.94zm10 10l.94 2.06.94-2.06 2.06-.94-2.06-.94-.94-2.06-.94 2.06-2.06.94z\"/><path d=\"M17.41 7.96l-1.37-1.37c-.4-.4-.92-.59-1.43-.59-.52 0-1.04.2-1.43.59L10.3 9.45l-7.72 7.72c-.78.78-.78 2.05 0 2.83L4 21.41c.39.39.9.59 1.41.59.51 0 1.02-.2 1.41-.59l7.78-7.78 2.81-2.81c.8-.78.8-2.07 0-2.86zM5.41 20L4 18.59l7.72-7.72 1.47 1.35L5.41 20z\"/>\n",
              "  </svg>\n",
              "      </button>\n",
              "      \n",
              "  <style>\n",
              "    .colab-df-container {\n",
              "      display:flex;\n",
              "      flex-wrap:wrap;\n",
              "      gap: 12px;\n",
              "    }\n",
              "\n",
              "    .colab-df-convert {\n",
              "      background-color: #E8F0FE;\n",
              "      border: none;\n",
              "      border-radius: 50%;\n",
              "      cursor: pointer;\n",
              "      display: none;\n",
              "      fill: #1967D2;\n",
              "      height: 32px;\n",
              "      padding: 0 0 0 0;\n",
              "      width: 32px;\n",
              "    }\n",
              "\n",
              "    .colab-df-convert:hover {\n",
              "      background-color: #E2EBFA;\n",
              "      box-shadow: 0px 1px 2px rgba(60, 64, 67, 0.3), 0px 1px 3px 1px rgba(60, 64, 67, 0.15);\n",
              "      fill: #174EA6;\n",
              "    }\n",
              "\n",
              "    [theme=dark] .colab-df-convert {\n",
              "      background-color: #3B4455;\n",
              "      fill: #D2E3FC;\n",
              "    }\n",
              "\n",
              "    [theme=dark] .colab-df-convert:hover {\n",
              "      background-color: #434B5C;\n",
              "      box-shadow: 0px 1px 3px 1px rgba(0, 0, 0, 0.15);\n",
              "      filter: drop-shadow(0px 1px 2px rgba(0, 0, 0, 0.3));\n",
              "      fill: #FFFFFF;\n",
              "    }\n",
              "  </style>\n",
              "\n",
              "      <script>\n",
              "        const buttonEl =\n",
              "          document.querySelector('#df-4f46553c-bcfe-4499-bce0-aa5a33af4e42 button.colab-df-convert');\n",
              "        buttonEl.style.display =\n",
              "          google.colab.kernel.accessAllowed ? 'block' : 'none';\n",
              "\n",
              "        async function convertToInteractive(key) {\n",
              "          const element = document.querySelector('#df-4f46553c-bcfe-4499-bce0-aa5a33af4e42');\n",
              "          const dataTable =\n",
              "            await google.colab.kernel.invokeFunction('convertToInteractive',\n",
              "                                                     [key], {});\n",
              "          if (!dataTable) return;\n",
              "\n",
              "          const docLinkHtml = 'Like what you see? Visit the ' +\n",
              "            '<a target=\"_blank\" href=https://colab.research.google.com/notebooks/data_table.ipynb>data table notebook</a>'\n",
              "            + ' to learn more about interactive tables.';\n",
              "          element.innerHTML = '';\n",
              "          dataTable['output_type'] = 'display_data';\n",
              "          await google.colab.output.renderOutput(dataTable, element);\n",
              "          const docLink = document.createElement('div');\n",
              "          docLink.innerHTML = docLinkHtml;\n",
              "          element.appendChild(docLink);\n",
              "        }\n",
              "      </script>\n",
              "    </div>\n",
              "  </div>\n",
              "  "
            ],
            "text/plain": [
              "                                                   번역문   유형  극성  시제  확실성  \\\n",
              "1    \"당신이 처음부터 OTT 사업을 성장시키고 싶었다면, Cupplay의 'Time t...  예측형  부정  과거   확실   \n",
              "16   시스템 반도체에 대한 수요는 2030 년에 3,400에 도달 할 것으로 예상되며, ...  예측형  긍정  과거   확실   \n",
              "17   그러나 행동 심리학자 B. F. Skinner와 상담했다면 성장 과정, 사건의 실제...  예측형  긍정  과거  불확실   \n",
              "31   뉴욕 타임즈는 \"이번 주 회의는 1994년 이후 가장 큰 금리 인프라를 논의하는 것...  예측형  긍정  과거   확실   \n",
              "32                              성장률은 ‘정상적인’ 수준으로 예상된다.  예측형  긍정  과거  불확실   \n",
              "44   몽골 파고 (Mongolia Fago)는 서쪽 0.5 ~ 2.0 미터, 남쪽 0.5...  예측형  긍정  과거   확실   \n",
              "58   또한 새로운 코로나 상황이 조직 될 것이라는 신호에 따르면 Bitcoin이 주요 수...  예측형  긍정  과거  불확실   \n",
              "65         미시시피는 강을 제외한 모든 지역에서 \"행복\"의 수준에있을 것으로 예상됩니다.  예측형  긍정  과거  불확실   \n",
              "97   기상 기관은 오늘 아침 서부 중앙 바다에 위치한 고온 압력의 경계에서 국가가 대부분...  예측형  긍정  과거   확실   \n",
              "129  2020년에는 한국 경제연구소가 한국의 제4차 산업혁명 분야에서 노동 부족률이 20...  예측형  긍정  과거  불확실   \n",
              "149                      이는 20kg 당 30퍼센트 이상인 것으로 추정됐다.  예측형  긍정  과거  불확실   \n",
              "151  월스트리트의 바클레이스와 제프리스 투자 은행은 5 월 가격 상승을 발표 한 후 Fe...  예측형  긍정  과거   확실   \n",
              "173                      반면에 0.5% 포인트 증가가 7%로 예상되었습니다.  예측형  긍정  과거   확실   \n",
              "180           또한 연간 6,000 파운드에 50 % 이상 증가 할 것으로 예상됩니다.  예측형  긍정  과거  불확실   \n",
              "209    또한 위험 관리 능력은 이익을 창출하고 지불 가능한 안정성을 유지할 것으로 예상된다.  예측형  긍정  과거   확실   \n",
              "210  스포츠에서 전반적인 도로지도를 그리는 수준에서, 미래의 스포츠에 적합한 게임은 갤럭...  예측형  미정  과거   확실   \n",
              "215                        최대 온도는 전날보다 4~12도 높아질 예정이다.  예측형  긍정  과거   확실   \n",
              "\n",
              "             label  \n",
              "1     예측형-부정-과거-확실  \n",
              "16    예측형-긍정-과거-확실  \n",
              "17   예측형-긍정-과거-불확실  \n",
              "31    예측형-긍정-과거-확실  \n",
              "32   예측형-긍정-과거-불확실  \n",
              "44    예측형-긍정-과거-확실  \n",
              "58   예측형-긍정-과거-불확실  \n",
              "65   예측형-긍정-과거-불확실  \n",
              "97    예측형-긍정-과거-확실  \n",
              "129  예측형-긍정-과거-불확실  \n",
              "149  예측형-긍정-과거-불확실  \n",
              "151   예측형-긍정-과거-확실  \n",
              "173   예측형-긍정-과거-확실  \n",
              "180  예측형-긍정-과거-불확실  \n",
              "209   예측형-긍정-과거-확실  \n",
              "210   예측형-미정-과거-확실  \n",
              "215   예측형-긍정-과거-확실  "
            ]
          },
          "execution_count": 59,
          "metadata": {},
          "output_type": "execute_result"
        }
      ],
      "source": [
        "#시제가 제대로 번역 되었는지 확인\n",
        "pred_aug[pred_aug['시제']=='과거']#.index"
      ]
    },
    {
      "cell_type": "code",
      "execution_count": null,
      "metadata": {
        "id": "Ox_x74L1CkzM"
      },
      "outputs": [],
      "source": [
        "for i in pred_aug[pred_aug['시제']=='과거'].index:\n",
        "\n",
        "  pred_aug['번역문'][i] = pred_aug['번역문'][i].replace('예상된다.', '예상 되었다.')\n",
        "  pred_aug['번역문'][i] = pred_aug['번역문'][i].replace('것이다.', '것이었다.')\n",
        "  pred_aug['번역문'][i] = pred_aug['번역문'][i].replace('전망이다.', '전망이었다.')\n",
        "  pred_aug['번역문'][i] = pred_aug['번역문'][i].replace('예정이다.', '예정이었다.')"
      ]
    },
    {
      "cell_type": "code",
      "execution_count": null,
      "metadata": {
        "id": "FZJyiye7CqbO"
      },
      "outputs": [],
      "source": [
        "import random\n",
        "\n",
        "pred_aug['번역문']=pred_aug['번역문'].map(lambda x: re.sub(r'입니다[.]$', '이다.', x))\n",
        "pred_aug['번역문']=pred_aug['번역문'].map(lambda x: re.sub(r'보이다[.]$', '보인다.', x))\n",
        "pred_aug['번역문']=pred_aug['번역문'].map(lambda x: re.sub(r'됩니다[.]$', '된다.', x))\n",
        "pred_aug['번역문']=pred_aug['번역문'].map(lambda x: re.sub(r'합니다[.]$', '한다.', x))\n",
        "pred_aug['번역문']=pred_aug['번역문'].map(lambda x: re.sub(r'습니다[.]$', '겠다.', x))\n",
        "pred_aug['번역문']=pred_aug['번역문'].map(lambda x: re.sub(r'했겠다[.]$', '했다.', x))\n",
        "\n",
        "for i, sent in enumerate(pred_aug['번역문']):\n",
        "  r = random.uniform(0, 1)\n",
        "  if r>0.5:\n",
        "    pred_aug['번역문'][i]=re.sub(r'예상', '전망', pred_aug['번역문'][i])\n",
        "\n",
        "for i, sent in enumerate(pred_aug['번역문']):\n",
        "  r = random.uniform(0, 1)\n",
        "  if r>0.5:\n",
        "    pred_aug['번역문'][i]=re.sub(r'것으로 전망된다[.]', '전망이다.', pred_aug['번역문'][i])\n",
        "\n",
        "pred_aug['번역문']=pred_aug['번역문'].map(lambda x: re.sub(r'전망이[ ]있겠다[.]$', '전망이 있다.', x))\n",
        "pred_aug['번역문']=pred_aug['번역문'].map(lambda x: re.sub(r'예측하고[ ]있겠다[.]$', '예측하고 있다.', x))\n",
        "pred_aug['번역문']=pred_aug['번역문'].map(lambda x: re.sub(r'서 전망이다[.]$', '설 전망이다.', x))\n",
        "pred_aug['번역문']=pred_aug['번역문'].map(lambda x: re.sub(r'전망되지[ ]않겠다[.]$', '전망되지는 않는다.', x))"
      ]
    },
    {
      "cell_type": "code",
      "execution_count": null,
      "metadata": {
        "id": "A8Rkn1auIRQC"
      },
      "outputs": [],
      "source": [
        "pred_aug.to_csv('pred_aug.csv', index=False, encoding='utf-8-sig')"
      ]
    },
    {
      "cell_type": "markdown",
      "metadata": {
        "id": "ZfE7oApNEGUK"
      },
      "source": [
        "#### [극성: 미정] 역번역"
      ]
    },
    {
      "cell_type": "code",
      "execution_count": null,
      "metadata": {
        "colab": {
          "base_uri": "https://localhost:8080/"
        },
        "id": "09qkU5oeDHO1",
        "outputId": "8f4921d9-2cee-4b4a-df3e-99fea2bc010d"
      },
      "outputs": [
        {
          "name": "stderr",
          "output_type": "stream",
          "text": [
            "100%|██████████| 183/183 [07:53<00:00,  2.59s/it]\n"
          ]
        }
      ],
      "source": [
        "df_train_non_aug_ = trans_augmentation(df_train_non_aug, '극성')"
      ]
    },
    {
      "cell_type": "code",
      "execution_count": null,
      "metadata": {
        "id": "7BMHRaLAzyJK"
      },
      "outputs": [],
      "source": [
        "#번역 이상한 것 제거\n",
        "non_aug=df_train_non_aug_.drop([4, 7, 8, 13, 15, 21, 25, 27, 29, 34, 36, 37, 38, 39, 41, 42, 44, 48, 50, 51, 53, 59, 60, 61, 63, 64, 66, 67, 68, 75, 76, 81, 86, 89, 91, 99, 100, 103, 104, 105, 108, 109, 110, 111, 113, 114, 115, 131, 133, 135, 138, 137, 140, 141, 142, 144, 145, 146, 148, 149, 166, 168, 171, 174, 175, 176, 178, 179, 180, 181]) #인간지능"
      ]
    },
    {
      "cell_type": "code",
      "execution_count": null,
      "metadata": {
        "id": "o0iVB44enxpZ"
      },
      "outputs": [],
      "source": [
        "df_train_non_aug[df_train_non_aug['시제']=='과거']"
      ]
    },
    {
      "cell_type": "code",
      "execution_count": null,
      "metadata": {
        "id": "tRWjBMRbl0bZ"
      },
      "outputs": [],
      "source": [
        "non_aug.reset_index(drop=True, inplace=True)"
      ]
    },
    {
      "cell_type": "code",
      "execution_count": null,
      "metadata": {
        "id": "wS273zx5g_1z"
      },
      "outputs": [],
      "source": [
        "non_aug['번역문']=non_aug['번역문'].map(lambda x: re.sub(r'입니다[.]$', '이다.', x))\n",
        "non_aug['번역문']=non_aug['번역문'].map(lambda x: re.sub(r'보이다[.]$', '보인다.', x)) #보입니다. -> 보이다. -> 보인다.\n",
        "non_aug['번역문']=non_aug['번역문'].map(lambda x: re.sub(r'됩니다[.]$', '된다.', x))\n",
        "non_aug['번역문']=non_aug['번역문'].map(lambda x: re.sub(r'합니다[.]$', '한다.', x))\n",
        "non_aug['번역문']=non_aug['번역문'].map(lambda x: re.sub(r'습니다[.]$', '다.', x))\n",
        "non_aug['번역문']=non_aug['번역문'].map(lambda x: re.sub(r'습니까[?]$', '나요?', x))\n",
        "non_aug['번역문']=non_aug['번역문'].map(lambda x: re.sub(r'미칩니[ ]까[?][\"]$', '미치나요?', x))\n"
      ]
    },
    {
      "cell_type": "code",
      "execution_count": null,
      "metadata": {
        "id": "q5C65B68klW6"
      },
      "outputs": [],
      "source": [
        "non_aug.to_csv('non_aug.csv', index=False, encoding='utf-8-sig')"
      ]
    },
    {
      "cell_type": "markdown",
      "metadata": {
        "id": "2G-_ChhqFXmz"
      },
      "source": [
        "#### 역번역 증강문 합치기"
      ]
    },
    {
      "cell_type": "code",
      "execution_count": null,
      "metadata": {
        "id": "TVYOomtA7Mxg"
      },
      "outputs": [],
      "source": [
        "pred_aug=pd.read_csv('pred_aug.csv')\n",
        "non_aug=pd.read_csv('non_aug.csv')"
      ]
    },
    {
      "cell_type": "code",
      "execution_count": null,
      "metadata": {
        "id": "rrpZ_K-z8S8G"
      },
      "outputs": [],
      "source": [
        "pred_aug=pred_aug.rename(columns = {'번역문': '문장'})\n",
        "non_aug=non_aug.rename(columns = {'번역문': '문장'})"
      ]
    },
    {
      "cell_type": "code",
      "execution_count": null,
      "metadata": {
        "id": "o7ATwA5vKrBZ"
      },
      "outputs": [],
      "source": [
        "trans_aug=pd.concat([pred_aug, non_aug], axis=0).reset_index(drop=True)"
      ]
    },
    {
      "cell_type": "code",
      "execution_count": null,
      "metadata": {
        "id": "lTgeIxluK95V"
      },
      "outputs": [],
      "source": [
        "trans_aug=trans_aug.drop_duplicates()\n",
        "trans_aug.to_csv('trans_aug.csv', index=False, encoding='utf-8-sig')"
      ]
    },
    {
      "cell_type": "markdown",
      "metadata": {
        "id": "PQ_o9JuvZaO1"
      },
      "source": [
        "## 증강 데이터 불러오기, Under sampling 및 레이블 인코딩"
      ]
    },
    {
      "cell_type": "code",
      "execution_count": 2,
      "metadata": {
        "id": "eFlmNtYnI3_d"
      },
      "outputs": [],
      "source": [
        "df_train_aug = pd.read_csv('df_train_aug2.csv')\n",
        "df_val_aug = pd.read_csv('df_val_aug2.csv')"
      ]
    },
    {
      "cell_type": "code",
      "execution_count": null,
      "metadata": {
        "id": "ZmhIi_s1E5eK"
      },
      "outputs": [],
      "source": [
        "df_train = pd.read_csv('df_train.csv')\n",
        "df_val = pd.read_csv('df_val.csv')"
      ]
    },
    {
      "cell_type": "code",
      "execution_count": null,
      "metadata": {
        "colab": {
          "base_uri": "https://localhost:8080/"
        },
        "id": "S9UD7RdyE5EO",
        "outputId": "de624c73-5555-4eb2-c699-73ec5aaa3a9e"
      },
      "outputs": [
        {
          "data": {
            "text/plain": [
              "(사실형    10851\n",
              " 추론형     1722\n",
              " 대화형      480\n",
              " 예측형      372\n",
              " Name: 유형, dtype: int64,\n",
              " 사실형    26627\n",
              " 추론형     5912\n",
              " 대화형     2118\n",
              " 예측형     1843\n",
              " Name: 유형, dtype: int64)"
            ]
          },
          "execution_count": 13,
          "metadata": {},
          "output_type": "execute_result"
        }
      ],
      "source": [
        "df_train.유형.value_counts(), df_train_aug.유형.value_counts()"
      ]
    },
    {
      "cell_type": "code",
      "execution_count": null,
      "metadata": {
        "id": "X-4irO9Ho3Kt"
      },
      "outputs": [],
      "source": [
        "df_train.극성.value_counts(), df_train_aug.극성.value_counts()"
      ]
    },
    {
      "cell_type": "code",
      "execution_count": null,
      "metadata": {
        "id": "zOPtdSz7FDnR"
      },
      "outputs": [],
      "source": [
        "df_train.시제.value_counts(), df_train_aug.시제.value_counts()"
      ]
    },
    {
      "cell_type": "code",
      "execution_count": null,
      "metadata": {
        "id": "L0Y9KJ-8FD9J"
      },
      "outputs": [],
      "source": [
        "df_train.확실성.value_counts(), df_train_aug.확실성.value_counts()"
      ]
    },
    {
      "cell_type": "code",
      "execution_count": null,
      "metadata": {
        "id": "PofUxsjbo796"
      },
      "outputs": [],
      "source": [
        "df_val_aug.duplicated().sum()"
      ]
    },
    {
      "cell_type": "code",
      "execution_count": null,
      "metadata": {
        "id": "ISW-74pMKK7h"
      },
      "outputs": [],
      "source": [
        "df_train_aug = df_train_aug.sample(frac=1)\n",
        "df_val_aug = df_val_aug.sample(frac=1)"
      ]
    },
    {
      "cell_type": "code",
      "execution_count": null,
      "metadata": {
        "colab": {
          "base_uri": "https://localhost:8080/"
        },
        "id": "40FHJpcXTSOY",
        "outputId": "a7115e29-9bcd-40c2-ddc8-fc8dfc209f01"
      },
      "outputs": [
        {
          "data": {
            "text/plain": [
              "7946"
            ]
          },
          "execution_count": 100,
          "metadata": {},
          "output_type": "execute_result"
        }
      ],
      "source": [
        "len(df_val_aug)"
      ]
    },
    {
      "cell_type": "code",
      "execution_count": null,
      "metadata": {
        "colab": {
          "base_uri": "https://localhost:8080/"
        },
        "id": "ymT6U7zHLD1R",
        "outputId": "3b929878-f4fd-4d6a-cb46-cbbbb0552e8b"
      },
      "outputs": [
        {
          "data": {
            "text/plain": [
              "Int64Index([19864,   799, 29485, 16796, 20458, 14073, 19907, 17694,  1456,\n",
              "            19153,\n",
              "            ...\n",
              "            12458, 24897, 12647, 16765,  9606, 29310,    72, 30544, 15299,\n",
              "            19933],\n",
              "           dtype='int64', length=30708)"
            ]
          },
          "execution_count": 14,
          "metadata": {},
          "output_type": "execute_result"
        }
      ],
      "source": [
        "df_train_aug.index"
      ]
    },
    {
      "cell_type": "code",
      "execution_count": 3,
      "metadata": {
        "id": "mgmWnHa0JRN5"
      },
      "outputs": [],
      "source": [
        "import random\n",
        "def under_sampling(df):\n",
        "  random.seed(42)\n",
        "  for i in df.index:\n",
        "    r = random.uniform(0, 1)\n",
        "    if r>0.4:\n",
        "      if df['극성'][i] == '긍정' and df['확실성'][i] == '확실':\n",
        "        df = df.drop(i)\n",
        "    \n",
        "  return df.reset_index(drop=True)\n",
        "\n",
        "df_train_aug_under = under_sampling(df_train_aug)\n",
        "df_val_aug_under = under_sampling(df_val_aug)"
      ]
    },
    {
      "cell_type": "code",
      "execution_count": null,
      "metadata": {
        "id": "S_E-1CfhonWh"
      },
      "outputs": [],
      "source": [
        "df_val_aug_under"
      ]
    },
    {
      "cell_type": "code",
      "execution_count": null,
      "metadata": {
        "id": "KisKLDhINB5h"
      },
      "outputs": [],
      "source": [
        "df_train_aug.유형.value_counts(normalize=True), df_train_aug_under.유형.value_counts(normalize=True)"
      ]
    },
    {
      "cell_type": "code",
      "execution_count": null,
      "metadata": {
        "id": "QAs01v8tQnqe"
      },
      "outputs": [],
      "source": [
        "df_train_aug.극성.value_counts(normalize=True), df_train_aug_under.극성.value_counts(normalize=True)"
      ]
    },
    {
      "cell_type": "code",
      "execution_count": null,
      "metadata": {
        "id": "T7DJREQVP39Q"
      },
      "outputs": [],
      "source": [
        "df_train_aug.시제.value_counts(normalize=True), df_train_aug_under.시제.value_counts(normalize=True)"
      ]
    },
    {
      "cell_type": "code",
      "execution_count": null,
      "metadata": {
        "id": "tGlNvb0kP8xh"
      },
      "outputs": [],
      "source": [
        "df_train_aug.확실성.value_counts(normalize=True), df_train_aug_under.확실성.value_counts(normalize=True)"
      ]
    },
    {
      "cell_type": "code",
      "execution_count": null,
      "metadata": {
        "id": "XWypqeuJZFx2"
      },
      "outputs": [],
      "source": [
        "def label_enc(df):\n",
        "  type_le = preprocessing.LabelEncoder()\n",
        "  df[\"유형\"] = type_le.fit_transform(df[\"유형\"].values)\n",
        "\n",
        "  polarity_le = preprocessing.LabelEncoder()\n",
        "  df[\"극성\"] = polarity_le.fit_transform(df[\"극성\"].values)\n",
        "\n",
        "  tense_le = preprocessing.LabelEncoder()\n",
        "  df[\"시제\"] = tense_le.fit_transform(df[\"시제\"].values)\n",
        "\n",
        "\n",
        "  certainty_le = preprocessing.LabelEncoder()\n",
        "  df[\"확실성\"] = certainty_le.fit_transform(df[\"확실성\"].values)\n",
        "\n",
        "  return type_le, polarity_le, tense_le, certainty_le\n"
      ]
    },
    {
      "cell_type": "code",
      "execution_count": null,
      "metadata": {
        "colab": {
          "base_uri": "https://localhost:8080/"
        },
        "id": "p21FtAYAw5As",
        "outputId": "be4de54f-e600-4ea5-b790-aaab362c3aa0"
      },
      "outputs": [
        {
          "data": {
            "text/plain": [
              "30708"
            ]
          },
          "execution_count": 259,
          "metadata": {},
          "output_type": "execute_result"
        }
      ],
      "source": [
        "len(df_train_aug)"
      ]
    },
    {
      "cell_type": "code",
      "execution_count": null,
      "metadata": {
        "id": "CU2zttb4nWmZ"
      },
      "outputs": [],
      "source": [
        "df_aug = pd.concat([df_train_aug.reset_index(drop=True), df_val_aug.reset_index(drop=True)])\n",
        "\n",
        "type_le, polarity_le, tense_le, certainty_le = label_enc(df_aug)\n",
        "\n",
        "df_train_aug = df_aug[:30708]\n",
        "df_val_aug = df_aug[30708:]"
      ]
    },
    {
      "cell_type": "code",
      "execution_count": null,
      "metadata": {
        "id": "k9N3-91qwhTu"
      },
      "outputs": [],
      "source": [
        "type_le, polarity_le, tense_le, certainty_le = label_enc(df)"
      ]
    },
    {
      "cell_type": "markdown",
      "metadata": {
        "id": "TTPXMqekqPPn"
      },
      "source": [
        "# 토큰화 및 모델 불러오기"
      ]
    },
    {
      "cell_type": "markdown",
      "metadata": {
        "id": "VVAx3_8Xdo4m"
      },
      "source": [
        "## 데이터셋 분리"
      ]
    },
    {
      "cell_type": "code",
      "execution_count": null,
      "metadata": {
        "id": "jAC5v_VqHtkN"
      },
      "outputs": [],
      "source": [
        "from datasets import Dataset, DatasetDict, load_dataset"
      ]
    },
    {
      "cell_type": "code",
      "execution_count": null,
      "metadata": {
        "id": "Sv5CnOGtaWWK"
      },
      "outputs": [],
      "source": [
        "def make_dataset(df):\n",
        "  raw_dict=df.to_dict(\"list\") #테이블을 딕셔너리형태로 바꿈.\n",
        "  raw_ds=Dataset.from_dict(raw_dict) #딕셔너리를 데이터세트 형태로 바꿈.\n",
        "\n",
        "  return raw_ds\n",
        "\n",
        "#ds = make_dataset(df)"
      ]
    },
    {
      "cell_type": "code",
      "execution_count": null,
      "metadata": {
        "id": "aWes_fveavDX"
      },
      "outputs": [],
      "source": [
        "#ds_train = make_dataset(df_train_aug_under)\n",
        "#ds_val = make_dataset(df_val_aug_under)\n",
        "ds_train = make_dataset(df_train_aug)\n",
        "ds_val = make_dataset(df_val_aug)"
      ]
    },
    {
      "cell_type": "code",
      "execution_count": null,
      "metadata": {
        "id": "ug0Ib4Tcr1xd"
      },
      "outputs": [],
      "source": [
        "ds_test = make_dataset(df_test)"
      ]
    },
    {
      "cell_type": "code",
      "execution_count": null,
      "metadata": {
        "colab": {
          "base_uri": "https://localhost:8080/"
        },
        "id": "Qwdla5QZDv0S",
        "outputId": "8c6aa437-a390-49d7-ae89-d8a484befb6a"
      },
      "outputs": [
        {
          "data": {
            "text/plain": [
              "Dataset({\n",
              "    features: ['문장', '유형', '극성', '시제', '확실성'],\n",
              "    num_rows: 7946\n",
              "})"
            ]
          },
          "execution_count": 269,
          "metadata": {},
          "output_type": "execute_result"
        }
      ],
      "source": [
        "ds_val"
      ]
    },
    {
      "cell_type": "markdown",
      "metadata": {
        "id": "w_V7JXSBdts2"
      },
      "source": [
        "## 토큰화 CLS 토큰 hidden state 만들기"
      ]
    },
    {
      "cell_type": "code",
      "execution_count": null,
      "metadata": {
        "colab": {
          "base_uri": "https://localhost:8080/",
          "height": 330,
          "referenced_widgets": [
            "6a27e9bfcf78477394ed7fdabd38c1a5",
            "291ee187e6a04e239b0558f81b6c77f2",
            "ee9f7097537144d789992bdc0f7ffc97",
            "07d17d398bc74ac0bbcab21d0314fd4c",
            "591d13984ad042cc9d5882cf2dd227fa",
            "91eecbd3273047ee873ad3cd7819ed01",
            "1011ff8f5e374e4a9af080782789ad9e",
            "1b165057f61449e58eb201f3598c1215",
            "775031e84eb54b639e30bd85308b4b7c",
            "3bbe2bb7f0fa42379a9b108a48883c5a",
            "b70a555b41eb46cbaf42470ea8eb3c71",
            "2110c15230434c61a85f3ac8bc38bac4",
            "c8bbac9297144ba88e35511fc80d7123",
            "93e4f15aa01f4892926689a3a7b420d8",
            "018ddef8a08b42b0a9711e86c206cc87",
            "c0c96cc17fa044638b34e7bf401e8d71",
            "b2244bf62c0b456db29bf1d8f143d7a1"
          ]
        },
        "id": "IrCj7X3q_sfF",
        "outputId": "2fdbc2e3-d0b6-4f3b-d515-73b0fe1f9e1a"
      },
      "outputs": [
        {
          "name": "stdout",
          "output_type": "stream",
          "text": [
            "Token is valid.\n",
            "Your token has been saved to /root/.cache/huggingface/token\n",
            "Login successful\n"
          ]
        }
      ],
      "source": [
        "from huggingface_hub import notebook_login\n",
        "notebook_login()"
      ]
    },
    {
      "cell_type": "code",
      "execution_count": null,
      "metadata": {
        "colab": {
          "base_uri": "https://localhost:8080/",
          "height": 220,
          "referenced_widgets": [
            "1ef78aa759d84ab48d4eead90eedc1a5",
            "a5c3a505f6fa46d1984e10d1380104a2",
            "812ec702d91d45cbba41d227bef77f86",
            "4fbcabaa3f15454bac62cbac9176a09c",
            "ec573723a53049258ab14ba9c28f5722",
            "1befaef2def94684adf94ef38526c8a3",
            "45a649ac3a3e4b6d956ce9e28989b9a3",
            "78569723771b427091c4cccbe529cbd1",
            "c9e855bb80eb4044be3429f585c9eb72",
            "372f0a715b1b45ccaeb9131429ca9b2d",
            "c2b2f84d0dd946e281eed334d98af1c2",
            "976364c38f7b452386cfb377fde2e920",
            "a109ed05625d48089b9383c3800aeeb9",
            "d42b6eab1e424d5c83cd8f766d7cdc94",
            "81eaebbd347f447ca25a056e6d9db32c",
            "40e76033a5094329956f2d26285719cc",
            "b148dbd876c24b1db1293e2bde0cc676",
            "916b1730e2b44748a12e29cba257e249",
            "0d9cced8bc0a417aa72d7e43cfa90a1b",
            "8d3ef1a756e34faebb562e37bf43d6d4",
            "9053d3599a7047eda94fcb69a729f208",
            "456cb497e1c043a9bb3b48e3f72ccd5c",
            "f4766f253aa64f7e858312d7cf8601fb",
            "58bab504ccae4bf2b027f9985894f34c",
            "df5fcec300004ecab4cbe5fd188429a4",
            "5d6f522c9e2a410486240b1a5935d497",
            "19dc880ca2a04531bfe84df2f086cb27",
            "8cb7629421054928aa022f61c34cbb08",
            "ef7c94c4f1f24022a50064deba4c35c7",
            "35c3d4f5940f49beaca22ac5b871330d",
            "1799adea8eb54a4c84148a4a1d277c33",
            "7260117340bf4620a0dd73e7546bd602",
            "549a186e32f14bed9a78d30d8c9e3682",
            "eb65e7dc7af04a99bd8d45e2c60cf015",
            "a352c67480e34a7ab4eccc783fbd834a",
            "6bd0fffedda14b61abb719c112593821",
            "b582b138381d4665a4a238b8df4a3718",
            "49025eb53cc5486fb428e9abaf866d56",
            "49a6248f91fa4fa7b486c5696c589a3d",
            "e556ceee5e394d02826cef67cb82fdc0",
            "31ef5bdd615d4ba29ee2c7917eea92fe",
            "d01defeb63c54ad49b7ab26b665a145b",
            "8123dc12bf20467c86061c79f698f342",
            "fae4f47920d34f7cb6b79ba0d72e9e71"
          ]
        },
        "id": "wChJuOCWYBPi",
        "outputId": "7f197187-87e2-4ed5-c90e-bf76fcbb6121"
      },
      "outputs": [],
      "source": [
        "from transformers import AutoModel, AutoTokenizer\n",
        "model_ckpt = \"snunlp/KR-BERT-char16424\"\n",
        "tokenizer = AutoTokenizer.from_pretrained(model_ckpt)\n",
        "model = AutoModel.from_pretrained(model_ckpt).to(device)\n"
      ]
    },
    {
      "cell_type": "code",
      "execution_count": 5,
      "metadata": {
        "colab": {
          "base_uri": "https://localhost:8080/"
        },
        "id": "5wfQimRlmhl9",
        "outputId": "2d888213-0df8-410e-9317-2f8215547419"
      },
      "outputs": [
        {
          "data": {
            "text/plain": [
              "['[CLS]',\n",
              " '치료',\n",
              " '##제',\n",
              " '##가',\n",
              " '없다고',\n",
              " '치료',\n",
              " '##법',\n",
              " '##이',\n",
              " '없는',\n",
              " '것은',\n",
              " '아니다',\n",
              " '[SEP]']"
            ]
          },
          "execution_count": 5,
          "metadata": {},
          "output_type": "execute_result"
        }
      ],
      "source": [
        "encoded_text = tokenizer('치료제가 없다고 치료법이 없는 것은 아니다')\n",
        "tokenizer.convert_ids_to_tokens(encoded_text.input_ids)"
      ]
    },
    {
      "cell_type": "code",
      "execution_count": null,
      "metadata": {
        "id": "aXpG-9Bp6a_z"
      },
      "outputs": [],
      "source": [
        "from transformers import AutoConfig"
      ]
    },
    {
      "cell_type": "code",
      "execution_count": null,
      "metadata": {
        "id": "rVhkmD2z6TYs"
      },
      "outputs": [],
      "source": [
        "config=AutoConfig.from_pretrained(model_ckpt)"
      ]
    },
    {
      "cell_type": "code",
      "execution_count": null,
      "metadata": {
        "colab": {
          "base_uri": "https://localhost:8080/"
        },
        "id": "Y_PiTvja6isd",
        "outputId": "8e988dd8-c49f-4b6e-99c3-d337eb8055ef"
      },
      "outputs": [
        {
          "data": {
            "text/plain": [
              "BertConfig {\n",
              "  \"_name_or_path\": \"snunlp/KR-BERT-char16424\",\n",
              "  \"attention_probs_dropout_prob\": 0.1,\n",
              "  \"classifier_dropout\": null,\n",
              "  \"hidden_act\": \"gelu\",\n",
              "  \"hidden_dropout_prob\": 0.1,\n",
              "  \"hidden_size\": 768,\n",
              "  \"initializer_range\": 0.02,\n",
              "  \"intermediate_size\": 3072,\n",
              "  \"layer_norm_eps\": 1e-12,\n",
              "  \"max_position_embeddings\": 512,\n",
              "  \"model_type\": \"bert\",\n",
              "  \"num_attention_heads\": 12,\n",
              "  \"num_hidden_layers\": 12,\n",
              "  \"pad_token_id\": 0,\n",
              "  \"position_embedding_type\": \"absolute\",\n",
              "  \"transformers_version\": \"4.28.1\",\n",
              "  \"type_vocab_size\": 2,\n",
              "  \"use_cache\": true,\n",
              "  \"vocab_size\": 16424\n",
              "}"
            ]
          },
          "execution_count": 6,
          "metadata": {},
          "output_type": "execute_result"
        }
      ],
      "source": [
        "config"
      ]
    },
    {
      "cell_type": "code",
      "execution_count": null,
      "metadata": {
        "id": "2dsE_q8P6yo8"
      },
      "outputs": [],
      "source": [
        "from sklearn.model_selection import train_test_split"
      ]
    },
    {
      "cell_type": "code",
      "execution_count": null,
      "metadata": {
        "id": "5doxWE3rakeE"
      },
      "outputs": [],
      "source": [
        "model"
      ]
    },
    {
      "cell_type": "code",
      "execution_count": null,
      "metadata": {
        "id": "hRMKXsb2Umh5"
      },
      "outputs": [],
      "source": [
        "tokenizer.vocab"
      ]
    },
    {
      "cell_type": "code",
      "execution_count": null,
      "metadata": {
        "id": "ilNTGiJ2U2yQ"
      },
      "outputs": [],
      "source": [
        "tokenizer.model_max_length"
      ]
    },
    {
      "cell_type": "code",
      "execution_count": null,
      "metadata": {
        "id": "4AlMhdi-U9VC"
      },
      "outputs": [],
      "source": [
        "tokenizer.model_input_names"
      ]
    },
    {
      "cell_type": "code",
      "execution_count": null,
      "metadata": {
        "id": "Qg4H1kp4YrPe"
      },
      "outputs": [],
      "source": [
        "def tokenize(batch):\n",
        "  return tokenizer(batch['문장'], padding=True, truncation=True, return_token_type_ids=False)\n",
        "\n",
        "def encode(dataset):\n",
        "  datasets_encoded = dataset.map(tokenize, batched=True, batch_size=None)\n",
        "  return datasets_encoded\n"
      ]
    },
    {
      "cell_type": "code",
      "execution_count": null,
      "metadata": {
        "colab": {
          "base_uri": "https://localhost:8080/",
          "height": 35,
          "referenced_widgets": [
            "0407768593ab4ede8f9a2c8cc201d7d8",
            "2e83146d74244cbb9a208848c6a12d45",
            "884f35bf85224d539e6caefd6ec0d17a",
            "d1af110500a44b59a6129768cabcabfc",
            "7aa142d78e684e6fb74511f7c5e3faa1",
            "1bd0e7e9891c44c0bfa3856d3b7505ea",
            "8dbd9c22ddca4d19afcb596390ef8240",
            "f25af294ab034ab4bb7fdd82939c264a",
            "290bc5d5a231428b96ef4c591ec06b58",
            "0c308baebe0149a395311a871a4814e1",
            "877b19aca9c548b5abba12285c3fea30"
          ]
        },
        "id": "qRpvcnM-VRHG",
        "outputId": "66d081e2-1104-4482-ff80-14d1430bb95f"
      },
      "outputs": [],
      "source": [
        "#ds_encoded = encode(ds)"
      ]
    },
    {
      "cell_type": "code",
      "execution_count": null,
      "metadata": {
        "colab": {
          "base_uri": "https://localhost:8080/",
          "height": 17,
          "referenced_widgets": [
            "3a446baa62f64b138cab38354e91f9fe",
            "e21f291e304148f5868ef0153bc333a0",
            "cff9ba0ef286482b9902ee1be969bf06",
            "8dbc9d51708a4c6286fbece7f4b0cf6b",
            "17c9a402fd2e4bdb9e86cd0d69d095e9",
            "ac7b2470047a4b7c895858d8a1dfb7d6",
            "770c51d3983443c7ae86c8c66e2b14ad",
            "8ee6af9b0dfa4f57b5adbf5e0da863b9",
            "ce4661f0ea6b40de9d89297342f4d290",
            "fc5c875c59f84b7ba2acc45cad6252b7",
            "59d379492cc444f5871034360dca2048",
            "78ca1366df9b490c99b180ac619c65d9",
            "c685bd8990d44322ab80effa4bfdb785",
            "3767ee57e4d54edb9e832d40b053d976",
            "a28940eb17104d08a7180054c0daa6c6",
            "ca616d7c7134472387ec712c27d1b7b0",
            "2c745fd839144a81aba59f096a6ec148",
            "a8bfe019da65467c9ed8d7eecb8485d7",
            "bdaf516f69f34fa881094b1aa01010d9",
            "64b4ba88df7949f9b9852f9891ad937d",
            "96fab344b404490e8ba8ad3a28a053a1",
            "b3b1d3702b3848038f8c5b0e4518405c"
          ]
        },
        "id": "_ZewH0agcPNo",
        "outputId": "f9c984d3-ce13-444c-83f1-35cc36f505f1"
      },
      "outputs": [],
      "source": [
        "ds_train_encoded = encode(ds_train)\n",
        "ds_val_encoded = encode(ds_val)\n"
      ]
    },
    {
      "cell_type": "code",
      "execution_count": null,
      "metadata": {
        "colab": {
          "base_uri": "https://localhost:8080/",
          "height": 17,
          "referenced_widgets": [
            "d6b37a29291c48a7ae3221cd93f68286",
            "ae25f16f50394b90a7ac66559392586d",
            "21c9b110e36f4471b6a145bd037360c8",
            "43e71e11d8854e8ca3af7271de3d4e2b",
            "2e2c01d8ffea4d138ef11ddd520faef0",
            "69570c24726140aa8c3b0865fa0759fb",
            "a9cdb16d85d64cb7be010468f72fe236",
            "562b36deaba64255bafc76371938f18c",
            "760eae6e0cb945fdab945bcd9d7fb563",
            "b9fed0e7adf741949f1719ab80b8fe15",
            "f06ec8353d3b41a1925de0260de294e7"
          ]
        },
        "id": "Ee6jTnTjr8nw",
        "outputId": "c3156bc8-682b-4076-9bd5-075910994942"
      },
      "outputs": [],
      "source": [
        "ds_test_encoded = encode(ds_test)"
      ]
    },
    {
      "cell_type": "code",
      "execution_count": null,
      "metadata": {
        "colab": {
          "base_uri": "https://localhost:8080/"
        },
        "id": "CDq6Os-YV_XP",
        "outputId": "7d9f97d1-2b2c-49f3-87cf-f63ffebb66ff"
      },
      "outputs": [
        {
          "data": {
            "text/plain": [
              "Dataset({\n",
              "    features: ['ID', '문장', 'input_ids', 'attention_mask'],\n",
              "    num_rows: 7090\n",
              "})"
            ]
          },
          "execution_count": 43,
          "metadata": {},
          "output_type": "execute_result"
        }
      ],
      "source": [
        "ds_test_encoded"
      ]
    },
    {
      "cell_type": "code",
      "execution_count": null,
      "metadata": {
        "colab": {
          "base_uri": "https://localhost:8080/"
        },
        "id": "3qS0l-K5ShN6",
        "outputId": "481fda65-df7b-4c28-b02e-eb6c56a9013f"
      },
      "outputs": [
        {
          "data": {
            "text/plain": [
              "Dataset({\n",
              "    features: ['문장', '유형', '극성', '시제', '확실성', 'input_ids', 'attention_mask'],\n",
              "    num_rows: 7946\n",
              "})"
            ]
          },
          "execution_count": 272,
          "metadata": {},
          "output_type": "execute_result"
        }
      ],
      "source": [
        "ds_val_encoded"
      ]
    },
    {
      "cell_type": "code",
      "execution_count": null,
      "metadata": {
        "id": "tS-2LAn5rB4u"
      },
      "outputs": [],
      "source": [
        "def extract_hidden_states(batch):\n",
        "  inputs={k:v.to(device) for k, v in batch.items() if k in tokenizer.model_input_names}\n",
        "  with torch.no_grad():\n",
        "    last_hidden_state=model(**inputs).last_hidden_state\n",
        "\n",
        "  return {\"hidden_state\": last_hidden_state[:,0].cpu().numpy()}\n"
      ]
    },
    {
      "cell_type": "code",
      "execution_count": null,
      "metadata": {
        "id": "j0PSk8PkIZEz"
      },
      "outputs": [],
      "source": [
        "#hidden = hidden.train_test_split(test_size=0.2, seed=1)\n",
        "#train_hidden = hidden['train']\n",
        "#val_hidden = hidden['test']"
      ]
    },
    {
      "cell_type": "code",
      "execution_count": null,
      "metadata": {
        "id": "lJtwfZi_vmtP"
      },
      "outputs": [],
      "source": [
        "ds_train_encoded.set_format(\"torch\", columns=['input_ids', 'attention_mask', '유형', '극성', '시제', '확실성'])\n",
        "ds_val_encoded.set_format(\"torch\", columns=['input_ids', 'attention_mask', '유형', '극성', '시제', '확실성'])\n"
      ]
    },
    {
      "cell_type": "code",
      "execution_count": null,
      "metadata": {
        "colab": {
          "base_uri": "https://localhost:8080/"
        },
        "id": "FnBsKLKHyAI5",
        "outputId": "55dbb951-76ed-46f0-d186-055a29a4da60"
      },
      "outputs": [
        {
          "data": {
            "text/plain": [
              "Dataset({\n",
              "    features: ['문장', '유형', '극성', '시제', '확실성', 'input_ids', 'attention_mask'],\n",
              "    num_rows: 30708\n",
              "})"
            ]
          },
          "execution_count": 279,
          "metadata": {},
          "output_type": "execute_result"
        }
      ],
      "source": [
        "ds_train_encoded"
      ]
    },
    {
      "cell_type": "code",
      "execution_count": null,
      "metadata": {
        "colab": {
          "base_uri": "https://localhost:8080/",
          "height": 17,
          "referenced_widgets": [
            "c235f05bba9446eb936fe067daa6f781",
            "a316c514939b4e19b7285dc6d86a2ab6",
            "2fc867f615014955be9d7d1fb0502a37",
            "24839cf6d0b64f7389d9b215c5b12495",
            "4b505bba8d7b4deb9e7c6c140a23d1cf",
            "90697d0e5ff04e339e6f760c905d13cb",
            "aa5cf005c15a42a58f76ace905da57de",
            "a50549e49d0449f1bbec8657f8b8cff4",
            "bab8ddd201f2451eabd0f8ae92faf8c6",
            "02ffe364196b4cde95cef8902c7f3628",
            "9b1017040d6b4a1fbe8fbc7dd072b006",
            "7e0d251758604fbf92282d54b8be4df6",
            "df199c2c489c480481423f3aefa817e7",
            "52a2243f552d4f1c86317b966dd47af5",
            "41346088ef914034b9e9f7c99883bd0a",
            "61923679d69b483382947072befcbb6e",
            "ff2071b8c91e424a8216eeac7a17972b",
            "cba819b39b794729977eca2e9396aa3a",
            "a439b8eeae234a18abfec5449635ece7",
            "e4db4c8eb2dc4c2293e8a44b63594f67",
            "5871fd3658914936b5dc8e3cf9d1bd6d",
            "2eb43d9fd6284a268babf7771fa5df3c"
          ]
        },
        "id": "8vVUyijzU0Vw",
        "outputId": "d4b5bedb-fbca-4b79-ce9b-d36284584074"
      },
      "outputs": [],
      "source": [
        "train_hidden = ds_train_encoded.map(extract_hidden_states, batched=True)\n",
        "val_hidden = ds_val_encoded.map(extract_hidden_states, batched=True)"
      ]
    },
    {
      "cell_type": "code",
      "execution_count": null,
      "metadata": {
        "colab": {
          "base_uri": "https://localhost:8080/",
          "height": 17,
          "referenced_widgets": [
            "763cc5938b594e0c87514118cda101b4",
            "03b890442ce149d1b984852fd7ebc770",
            "5c9ce46c48c94aed98be9a00e4dcea44",
            "fd82cf3bd2534a3cb7fbf97a87ee1c5a",
            "40c3d28c4cdb4cb0a399e1fac6eb913c",
            "8ca31299db9b4fbe997ba64023e9462a",
            "ae8cd8923e2e486eb67a6b46c8654b3f",
            "48e97a59ea504b1e9c46e2a93894fc68",
            "4de9d60812314a4c82a54a3acc9da7ad",
            "fd636559376a41c29427c502d44b2566",
            "4345d91c569a4507ad6a143dc7435f33"
          ]
        },
        "id": "vKjQr3ZYsGIz",
        "outputId": "3a21c863-8f50-4ed1-f121-1a182e7d4813"
      },
      "outputs": [],
      "source": [
        "ds_test_encoded.set_format(\"torch\", columns=['input_ids', 'attention_mask'])\n",
        "test_hidden = ds_test_encoded.map(extract_hidden_states, batched = True)"
      ]
    },
    {
      "cell_type": "code",
      "execution_count": null,
      "metadata": {
        "colab": {
          "base_uri": "https://localhost:8080/"
        },
        "id": "xUdmJv4yoZY-",
        "outputId": "f6e7ae20-c054-4d2b-9b29-3e4309c710e2"
      },
      "outputs": [
        {
          "data": {
            "text/plain": [
              "Dataset({\n",
              "    features: ['문장', '유형', '극성', '시제', '확실성', 'input_ids', 'attention_mask', 'hidden_state'],\n",
              "    num_rows: 30708\n",
              "})"
            ]
          },
          "execution_count": 292,
          "metadata": {},
          "output_type": "execute_result"
        }
      ],
      "source": [
        "train_hidden"
      ]
    },
    {
      "cell_type": "code",
      "execution_count": null,
      "metadata": {
        "colab": {
          "base_uri": "https://localhost:8080/"
        },
        "id": "MPBtUNNlocBR",
        "outputId": "54982d6d-7707-428a-c6e7-c564ff68c677"
      },
      "outputs": [
        {
          "data": {
            "text/plain": [
              "Dataset({\n",
              "    features: ['문장', '유형', '극성', '시제', '확실성', 'input_ids', 'attention_mask', 'hidden_state'],\n",
              "    num_rows: 7946\n",
              "})"
            ]
          },
          "execution_count": 293,
          "metadata": {},
          "output_type": "execute_result"
        }
      ],
      "source": [
        "val_hidden"
      ]
    },
    {
      "cell_type": "code",
      "execution_count": null,
      "metadata": {
        "colab": {
          "base_uri": "https://localhost:8080/",
          "height": 17,
          "referenced_widgets": [
            "257243ab9c8e4ff08dc247faf580bb7d",
            "dbc8c49abca848c093d4ab0ad710719d",
            "43917a580c194c1a97653122c1a691fe",
            "fe91a39fff5d4f7a973bc176cf2d4e93",
            "f9f81bc136c2453ea796dbca76252eed",
            "3dabc110d0fa4da7b1460a8a6d7a4939",
            "cb613102c11b41fb9ec63a709eaa8e9f",
            "6f60ee07dfc545e596c5b5c8fc9e8318",
            "c8feed238fdf4eea9dfe78ecaa65f558",
            "36bdaa0507db4cc1a2d11687f557b747",
            "3c76a05509b741a8abb423c7ec4c0d7d",
            "290d95aebe494ff287ec3644ce59fdad",
            "038d91a45ada44138ea2b509a2e60dc0",
            "23fa37de4f534d37bfa0eb00cf31179a",
            "5bdf303f0ce04439a0b42c0fb2e18c97",
            "bad90619c0e5440a9c88814dd81ea148",
            "b263ae1f2db84c6d98bc4963146997c2",
            "8db6d487fe20466ab8e47f1d8ed138ce",
            "ce2289a9a58d42cca4bb25fc49b8bba9",
            "3b6da6c326104a359cc133adfe38a472",
            "67e1341325c546cf98013ee5c824a0e6",
            "5e4c3b09057f400a902ed7a072d8dc21"
          ]
        },
        "id": "9KAY3vOdpDUw",
        "outputId": "d7583691-3bf9-430e-88d3-e2fd58921f8e"
      },
      "outputs": [],
      "source": [
        "train_hidden.save_to_disk(\"train_hidden_aug\")\n",
        "val_hidden.save_to_disk(\"val_hidden_aug\")\n",
        "#test_hidden.save_to_disk(\"test_hidden\")"
      ]
    },
    {
      "cell_type": "code",
      "execution_count": null,
      "metadata": {
        "colab": {
          "base_uri": "https://localhost:8080/"
        },
        "id": "EftVaWNRqY8-",
        "outputId": "e66a148e-6502-436e-e85b-cb7dfc1625dd"
      },
      "outputs": [
        {
          "name": "stdout",
          "output_type": "stream",
          "text": [
            "  adding: content/train_hidden_aug/ (stored 0%)\n",
            "  adding: content/train_hidden_aug/data-00000-of-00001.arrow (deflated 31%)\n",
            "  adding: content/train_hidden_aug/state.json (deflated 42%)\n",
            "  adding: content/train_hidden_aug/dataset_info.json (deflated 75%)\n"
          ]
        }
      ],
      "source": [
        "!zip -r /content/train_hdn.zip /content/train_hidden/\n",
        "!zip -r /content/val_hdn.zip /content/val_hidden/\n",
        "!zip -r /content/test_hdn.zip /content/test_hidden/"
      ]
    },
    {
      "cell_type": "code",
      "execution_count": null,
      "metadata": {
        "id": "Ju_i6x0OscyP"
      },
      "outputs": [],
      "source": [
        "!zip -r /content/train_hdn_aug.zip /content/train_hidden_aug/\n",
        "!zip -r /content/val_hdn_aug.zip /content/val_hidden_aug/"
      ]
    },
    {
      "cell_type": "code",
      "execution_count": null,
      "metadata": {
        "colab": {
          "base_uri": "https://localhost:8080/"
        },
        "id": "rY57cIE8B6Sc",
        "outputId": "ee1fe0aa-abd3-4805-b992-9777dbda55e7"
      },
      "outputs": [
        {
          "name": "stdout",
          "output_type": "stream",
          "text": [
            "  adding: content/train_hidden_aug_30000/ (stored 0%)\n",
            "  adding: content/train_hidden_aug_30000/data-00000-of-00001.arrow (deflated 37%)\n",
            "  adding: content/train_hidden_aug_30000/state.json (deflated 42%)\n",
            "  adding: content/train_hidden_aug_30000/dataset_info.json (deflated 74%)\n",
            "  adding: content/val_hidden_aug_8000/ (stored 0%)\n",
            "  adding: content/val_hidden_aug_8000/data-00000-of-00001.arrow (deflated 26%)\n",
            "  adding: content/val_hidden_aug_8000/state.json (deflated 43%)\n",
            "  adding: content/val_hidden_aug_8000/dataset_info.json (deflated 74%)\n"
          ]
        }
      ],
      "source": [
        "!zip -r /content/train_hdn_aug_3000.zip /content/train_hidden_aug_30000/\n",
        "!zip -r /content/val_hdn_aug_8000.zip /content/val_hidden_aug_8000/"
      ]
    },
    {
      "cell_type": "markdown",
      "metadata": {
        "id": "ihbFgXM8P0_8"
      },
      "source": [
        "#### logistic regression(base line)"
      ]
    },
    {
      "cell_type": "code",
      "execution_count": null,
      "metadata": {
        "id": "apIiFk4jQdvq"
      },
      "outputs": [],
      "source": [
        "def preprocess(df):\n",
        "  df['문장']=df['문장'].map(lambda x: re.sub(r'[\\d]+', '1', x)) #숫자를 1로 바꿈.\n",
        "  df['문장']=df['문장'].map(lambda x: re.sub(r'[a-zA-Z]+', 'a', x)) #영어를 a로 바꿈.\n",
        "  df['문장']=df['문장'].map(lambda x: re.sub(r'[^ a가-힣1]', '', x)) #한글, 1, a 제외 문자 제거"
      ]
    },
    {
      "cell_type": "code",
      "execution_count": null,
      "metadata": {
        "id": "d1ScrYUYegzu"
      },
      "outputs": [],
      "source": [
        "preprocess(df)\n",
        "preprocess(df_test)"
      ]
    },
    {
      "cell_type": "code",
      "execution_count": null,
      "metadata": {
        "colab": {
          "base_uri": "https://localhost:8080/",
          "height": 423
        },
        "id": "Odgn6u-5KQVu",
        "outputId": "4a072f82-7b2f-4d33-e450-16024ef40b8d"
      },
      "outputs": [
        {
          "data": {
            "text/html": [
              "\n",
              "  <div id=\"df-11a8b54f-8cb4-446a-aa12-2d8e056e3ee4\">\n",
              "    <div class=\"colab-df-container\">\n",
              "      <div>\n",
              "<style scoped>\n",
              "    .dataframe tbody tr th:only-of-type {\n",
              "        vertical-align: middle;\n",
              "    }\n",
              "\n",
              "    .dataframe tbody tr th {\n",
              "        vertical-align: top;\n",
              "    }\n",
              "\n",
              "    .dataframe thead th {\n",
              "        text-align: right;\n",
              "    }\n",
              "</style>\n",
              "<table border=\"1\" class=\"dataframe\">\n",
              "  <thead>\n",
              "    <tr style=\"text-align: right;\">\n",
              "      <th></th>\n",
              "      <th>문장</th>\n",
              "      <th>유형</th>\n",
              "      <th>극성</th>\n",
              "      <th>시제</th>\n",
              "      <th>확실성</th>\n",
              "      <th>label</th>\n",
              "    </tr>\n",
              "  </thead>\n",
              "  <tbody>\n",
              "    <tr>\n",
              "      <th>0</th>\n",
              "      <td>1포인트 금리 인상은 1년 이후 1년 만에 처음이다</td>\n",
              "      <td>사실형</td>\n",
              "      <td>긍정</td>\n",
              "      <td>현재</td>\n",
              "      <td>확실</td>\n",
              "      <td>사실형-긍정-현재-확실</td>\n",
              "    </tr>\n",
              "    <tr>\n",
              "      <th>1</th>\n",
              "      <td>이어 앞으로 전문가들과 함께 1주 단위로 상황을 재평가할 예정이라며 그 이전이라도 ...</td>\n",
              "      <td>사실형</td>\n",
              "      <td>긍정</td>\n",
              "      <td>과거</td>\n",
              "      <td>확실</td>\n",
              "      <td>사실형-긍정-과거-확실</td>\n",
              "    </tr>\n",
              "    <tr>\n",
              "      <th>2</th>\n",
              "      <td>정부가 고유가 대응을 위해 1월부터 연말까지 유류세 인하 폭을 1에서 1까지 확대한다</td>\n",
              "      <td>사실형</td>\n",
              "      <td>긍정</td>\n",
              "      <td>미래</td>\n",
              "      <td>확실</td>\n",
              "      <td>사실형-긍정-미래-확실</td>\n",
              "    </tr>\n",
              "    <tr>\n",
              "      <th>3</th>\n",
              "      <td>서울시는 올해 1월 즉시 견인 유예시간 1분을 제공하겠다고 밝혔지만 하루 만에 차도...</td>\n",
              "      <td>사실형</td>\n",
              "      <td>긍정</td>\n",
              "      <td>과거</td>\n",
              "      <td>확실</td>\n",
              "      <td>사실형-긍정-과거-확실</td>\n",
              "    </tr>\n",
              "    <tr>\n",
              "      <th>4</th>\n",
              "      <td>익사한 자는 사다리에 태워 거꾸로 놓고 소금으로 코를 막아 가득 채운다</td>\n",
              "      <td>사실형</td>\n",
              "      <td>긍정</td>\n",
              "      <td>현재</td>\n",
              "      <td>확실</td>\n",
              "      <td>사실형-긍정-현재-확실</td>\n",
              "    </tr>\n",
              "    <tr>\n",
              "      <th>...</th>\n",
              "      <td>...</td>\n",
              "      <td>...</td>\n",
              "      <td>...</td>\n",
              "      <td>...</td>\n",
              "      <td>...</td>\n",
              "      <td>...</td>\n",
              "    </tr>\n",
              "    <tr>\n",
              "      <th>16501</th>\n",
              "      <td>이에 따라 대형 콘서트부터 야외 페스티벌 실내 공연 등 연이어 오픈 소식이 들려오고 있다</td>\n",
              "      <td>사실형</td>\n",
              "      <td>긍정</td>\n",
              "      <td>현재</td>\n",
              "      <td>확실</td>\n",
              "      <td>사실형-긍정-현재-확실</td>\n",
              "    </tr>\n",
              "    <tr>\n",
              "      <th>16502</th>\n",
              "      <td>신동덤은 신비한 동물사전과 해리 포터 시리즈를 잇는 마법 어드벤처물로 전편에 이어 ...</td>\n",
              "      <td>사실형</td>\n",
              "      <td>긍정</td>\n",
              "      <td>과거</td>\n",
              "      <td>확실</td>\n",
              "      <td>사실형-긍정-과거-확실</td>\n",
              "    </tr>\n",
              "    <tr>\n",
              "      <th>16503</th>\n",
              "      <td>수족냉증은 어릴 때부터 심했으며 관절은 어디 한 곳이 아니고 목 어깨 팔꿈치 등 허...</td>\n",
              "      <td>사실형</td>\n",
              "      <td>긍정</td>\n",
              "      <td>과거</td>\n",
              "      <td>확실</td>\n",
              "      <td>사실형-긍정-과거-확실</td>\n",
              "    </tr>\n",
              "    <tr>\n",
              "      <th>16504</th>\n",
              "      <td>김금희 소설가는 계약서 조정이 그리 어려운가 작가를 격려한다면서 그런 문구 하나 고...</td>\n",
              "      <td>사실형</td>\n",
              "      <td>긍정</td>\n",
              "      <td>과거</td>\n",
              "      <td>확실</td>\n",
              "      <td>사실형-긍정-과거-확실</td>\n",
              "    </tr>\n",
              "    <tr>\n",
              "      <th>16505</th>\n",
              "      <td>1만명이 넘는 방문자수를 기록한 이번 전시회는 총 1개 작품을 넥슨 사옥을 그대로 ...</td>\n",
              "      <td>사실형</td>\n",
              "      <td>긍정</td>\n",
              "      <td>과거</td>\n",
              "      <td>불확실</td>\n",
              "      <td>사실형-긍정-과거-불확실</td>\n",
              "    </tr>\n",
              "  </tbody>\n",
              "</table>\n",
              "<p>16506 rows × 6 columns</p>\n",
              "</div>\n",
              "      <button class=\"colab-df-convert\" onclick=\"convertToInteractive('df-11a8b54f-8cb4-446a-aa12-2d8e056e3ee4')\"\n",
              "              title=\"Convert this dataframe to an interactive table.\"\n",
              "              style=\"display:none;\">\n",
              "        \n",
              "  <svg xmlns=\"http://www.w3.org/2000/svg\" height=\"24px\"viewBox=\"0 0 24 24\"\n",
              "       width=\"24px\">\n",
              "    <path d=\"M0 0h24v24H0V0z\" fill=\"none\"/>\n",
              "    <path d=\"M18.56 5.44l.94 2.06.94-2.06 2.06-.94-2.06-.94-.94-2.06-.94 2.06-2.06.94zm-11 1L8.5 8.5l.94-2.06 2.06-.94-2.06-.94L8.5 2.5l-.94 2.06-2.06.94zm10 10l.94 2.06.94-2.06 2.06-.94-2.06-.94-.94-2.06-.94 2.06-2.06.94z\"/><path d=\"M17.41 7.96l-1.37-1.37c-.4-.4-.92-.59-1.43-.59-.52 0-1.04.2-1.43.59L10.3 9.45l-7.72 7.72c-.78.78-.78 2.05 0 2.83L4 21.41c.39.39.9.59 1.41.59.51 0 1.02-.2 1.41-.59l7.78-7.78 2.81-2.81c.8-.78.8-2.07 0-2.86zM5.41 20L4 18.59l7.72-7.72 1.47 1.35L5.41 20z\"/>\n",
              "  </svg>\n",
              "      </button>\n",
              "      \n",
              "  <style>\n",
              "    .colab-df-container {\n",
              "      display:flex;\n",
              "      flex-wrap:wrap;\n",
              "      gap: 12px;\n",
              "    }\n",
              "\n",
              "    .colab-df-convert {\n",
              "      background-color: #E8F0FE;\n",
              "      border: none;\n",
              "      border-radius: 50%;\n",
              "      cursor: pointer;\n",
              "      display: none;\n",
              "      fill: #1967D2;\n",
              "      height: 32px;\n",
              "      padding: 0 0 0 0;\n",
              "      width: 32px;\n",
              "    }\n",
              "\n",
              "    .colab-df-convert:hover {\n",
              "      background-color: #E2EBFA;\n",
              "      box-shadow: 0px 1px 2px rgba(60, 64, 67, 0.3), 0px 1px 3px 1px rgba(60, 64, 67, 0.15);\n",
              "      fill: #174EA6;\n",
              "    }\n",
              "\n",
              "    [theme=dark] .colab-df-convert {\n",
              "      background-color: #3B4455;\n",
              "      fill: #D2E3FC;\n",
              "    }\n",
              "\n",
              "    [theme=dark] .colab-df-convert:hover {\n",
              "      background-color: #434B5C;\n",
              "      box-shadow: 0px 1px 3px 1px rgba(0, 0, 0, 0.15);\n",
              "      filter: drop-shadow(0px 1px 2px rgba(0, 0, 0, 0.3));\n",
              "      fill: #FFFFFF;\n",
              "    }\n",
              "  </style>\n",
              "\n",
              "      <script>\n",
              "        const buttonEl =\n",
              "          document.querySelector('#df-11a8b54f-8cb4-446a-aa12-2d8e056e3ee4 button.colab-df-convert');\n",
              "        buttonEl.style.display =\n",
              "          google.colab.kernel.accessAllowed ? 'block' : 'none';\n",
              "\n",
              "        async function convertToInteractive(key) {\n",
              "          const element = document.querySelector('#df-11a8b54f-8cb4-446a-aa12-2d8e056e3ee4');\n",
              "          const dataTable =\n",
              "            await google.colab.kernel.invokeFunction('convertToInteractive',\n",
              "                                                     [key], {});\n",
              "          if (!dataTable) return;\n",
              "\n",
              "          const docLinkHtml = 'Like what you see? Visit the ' +\n",
              "            '<a target=\"_blank\" href=https://colab.research.google.com/notebooks/data_table.ipynb>data table notebook</a>'\n",
              "            + ' to learn more about interactive tables.';\n",
              "          element.innerHTML = '';\n",
              "          dataTable['output_type'] = 'display_data';\n",
              "          await google.colab.output.renderOutput(dataTable, element);\n",
              "          const docLink = document.createElement('div');\n",
              "          docLink.innerHTML = docLinkHtml;\n",
              "          element.appendChild(docLink);\n",
              "        }\n",
              "      </script>\n",
              "    </div>\n",
              "  </div>\n",
              "  "
            ],
            "text/plain": [
              "                                                      문장   유형  극성  시제  확실성  \\\n",
              "0                           1포인트 금리 인상은 1년 이후 1년 만에 처음이다  사실형  긍정  현재   확실   \n",
              "1      이어 앞으로 전문가들과 함께 1주 단위로 상황을 재평가할 예정이라며 그 이전이라도 ...  사실형  긍정  과거   확실   \n",
              "2        정부가 고유가 대응을 위해 1월부터 연말까지 유류세 인하 폭을 1에서 1까지 확대한다  사실형  긍정  미래   확실   \n",
              "3      서울시는 올해 1월 즉시 견인 유예시간 1분을 제공하겠다고 밝혔지만 하루 만에 차도...  사실형  긍정  과거   확실   \n",
              "4                익사한 자는 사다리에 태워 거꾸로 놓고 소금으로 코를 막아 가득 채운다  사실형  긍정  현재   확실   \n",
              "...                                                  ...  ...  ..  ..  ...   \n",
              "16501  이에 따라 대형 콘서트부터 야외 페스티벌 실내 공연 등 연이어 오픈 소식이 들려오고 있다  사실형  긍정  현재   확실   \n",
              "16502  신동덤은 신비한 동물사전과 해리 포터 시리즈를 잇는 마법 어드벤처물로 전편에 이어 ...  사실형  긍정  과거   확실   \n",
              "16503  수족냉증은 어릴 때부터 심했으며 관절은 어디 한 곳이 아니고 목 어깨 팔꿈치 등 허...  사실형  긍정  과거   확실   \n",
              "16504  김금희 소설가는 계약서 조정이 그리 어려운가 작가를 격려한다면서 그런 문구 하나 고...  사실형  긍정  과거   확실   \n",
              "16505  1만명이 넘는 방문자수를 기록한 이번 전시회는 총 1개 작품을 넥슨 사옥을 그대로 ...  사실형  긍정  과거  불확실   \n",
              "\n",
              "               label  \n",
              "0       사실형-긍정-현재-확실  \n",
              "1       사실형-긍정-과거-확실  \n",
              "2       사실형-긍정-미래-확실  \n",
              "3       사실형-긍정-과거-확실  \n",
              "4       사실형-긍정-현재-확실  \n",
              "...              ...  \n",
              "16501   사실형-긍정-현재-확실  \n",
              "16502   사실형-긍정-과거-확실  \n",
              "16503   사실형-긍정-과거-확실  \n",
              "16504   사실형-긍정-과거-확실  \n",
              "16505  사실형-긍정-과거-불확실  \n",
              "\n",
              "[16506 rows x 6 columns]"
            ]
          },
          "execution_count": 21,
          "metadata": {},
          "output_type": "execute_result"
        }
      ],
      "source": [
        "df"
      ]
    },
    {
      "cell_type": "code",
      "execution_count": null,
      "metadata": {
        "id": "OTQt6JEjQ1Wv"
      },
      "outputs": [],
      "source": [
        "def tokenize(batch):\n",
        "  return tokenizer(batch['문장'], padding=True, truncation=True, return_token_type_ids=False)\n",
        "\n",
        "def encode(dataset):\n",
        "  datasets_encoded = dataset.map(tokenize, batched=True, batch_size=None)\n",
        "  return datasets_encoded"
      ]
    },
    {
      "cell_type": "code",
      "execution_count": null,
      "metadata": {
        "colab": {
          "base_uri": "https://localhost:8080/",
          "height": 35,
          "referenced_widgets": [
            "7f3c05bc58134b00bf3f4f7e62c0721e",
            "4f707e980042491b93669f46232b9cc7",
            "903e09d325f848a7a983d80e41b92cf6",
            "5cd3250b84a9415ba95750198d91358f",
            "d4099e661b004322ad986eb3b28e4ff8",
            "db37cf8b012a4250bc9f0ac6f6ddb2e4",
            "5f04f11abd4e4cafbe48ca718d44a302",
            "9584ea6494fc43efbe071fcf72da28b3",
            "e83bb95fcff440dba17a2262482d007b",
            "003606d5458a4715868c654da72e7c3a",
            "43f628ff2273444d8d19a8ed172643e4"
          ]
        },
        "id": "Bk60MqpdRHTg",
        "outputId": "541075e8-f03e-437e-c91e-3f2b2ede1e13"
      },
      "outputs": [],
      "source": [
        "ds_encoded = encode(ds)"
      ]
    },
    {
      "cell_type": "code",
      "execution_count": null,
      "metadata": {
        "colab": {
          "base_uri": "https://localhost:8080/"
        },
        "id": "yf7dLMOtWzBN",
        "outputId": "eab9301b-5b50-4d12-aa2a-c17cf2935954"
      },
      "outputs": [
        {
          "data": {
            "text/plain": [
              "Dataset({\n",
              "    features: ['문장', '유형', '극성', '시제', '확실성', 'label', 'input_ids', 'attention_mask'],\n",
              "    num_rows: 16506\n",
              "})"
            ]
          },
          "execution_count": 30,
          "metadata": {},
          "output_type": "execute_result"
        }
      ],
      "source": [
        "ds_encoded"
      ]
    },
    {
      "cell_type": "code",
      "execution_count": null,
      "metadata": {
        "id": "HtlrvZXJQE11"
      },
      "outputs": [],
      "source": [
        "def extract_hidden_states(batch):\n",
        "    inputs = {k:v.to(device) for k,v in batch.items() \n",
        "              if k in tokenizer.model_input_names}\n",
        "              \n",
        "    with torch.no_grad():\n",
        "        last_hidden_state = model(**inputs).last_hidden_state\n",
        "\n",
        "    return {\"hidden_state\": last_hidden_state[:,0].cpu().numpy()}"
      ]
    },
    {
      "cell_type": "code",
      "execution_count": null,
      "metadata": {
        "id": "oncKzY7JSiqo"
      },
      "outputs": [],
      "source": [
        "ds_encoded.set_format(\"torch\", columns=[\"input_ids\", \"attention_mask\"])"
      ]
    },
    {
      "cell_type": "code",
      "execution_count": null,
      "metadata": {
        "id": "owciXG_7SxOS"
      },
      "outputs": [],
      "source": [
        "ds_hidden = ds_encoded.map(extract_hidden_states, batched=True)"
      ]
    },
    {
      "cell_type": "code",
      "execution_count": null,
      "metadata": {
        "id": "48_Eidk8T6d6"
      },
      "outputs": [],
      "source": [
        "ds_hidden"
      ]
    },
    {
      "cell_type": "code",
      "execution_count": null,
      "metadata": {
        "id": "VNSWcY6fKnXg"
      },
      "outputs": [],
      "source": [
        "ds_hidden['문장'][0]"
      ]
    },
    {
      "cell_type": "code",
      "execution_count": null,
      "metadata": {
        "id": "NuqI3kOwaSKS"
      },
      "outputs": [],
      "source": [
        "ds_hidden.save_to_disk(\"ds_hidden\")"
      ]
    },
    {
      "cell_type": "code",
      "execution_count": null,
      "metadata": {
        "id": "3sINQONMaYFL"
      },
      "outputs": [],
      "source": [
        "!zip -r /content/ds_hidden.zip /content/ds_hidden/"
      ]
    },
    {
      "cell_type": "code",
      "execution_count": null,
      "metadata": {
        "id": "b2BUaWI-at-p"
      },
      "outputs": [],
      "source": [
        "!unzip ds_hidden.zip"
      ]
    },
    {
      "cell_type": "code",
      "execution_count": null,
      "metadata": {
        "id": "bKRR2yG0bEKe"
      },
      "outputs": [],
      "source": [
        "from datasets import load_from_disk\n",
        "ds_hidden = load_from_disk(\"/content/content/ds_hidden\")"
      ]
    },
    {
      "cell_type": "code",
      "execution_count": null,
      "metadata": {
        "id": "SG44bsGBVTJX"
      },
      "outputs": [],
      "source": [
        "ds_hidden.set_format(type='pandas')"
      ]
    },
    {
      "cell_type": "code",
      "execution_count": null,
      "metadata": {
        "id": "zWDdeI_uVh-h"
      },
      "outputs": [],
      "source": [
        "df_hidden = ds_hidden[:]"
      ]
    },
    {
      "cell_type": "code",
      "execution_count": null,
      "metadata": {
        "id": "vup1C0xKeU-7"
      },
      "outputs": [],
      "source": [
        "df_hidden"
      ]
    },
    {
      "cell_type": "code",
      "execution_count": null,
      "metadata": {
        "id": "I1IXFSPOehm0"
      },
      "outputs": [],
      "source": [
        "type_le, polarity_le, tense_le, certainty_le = label_enc(df_hidden)"
      ]
    },
    {
      "cell_type": "code",
      "execution_count": null,
      "metadata": {
        "id": "ohEpUE6NYf6A"
      },
      "outputs": [],
      "source": [
        "df_type_hidden = df_hidden[['문장', '유형', 'hidden_state']]\n",
        "df_polar_hidden = df_hidden[['문장', '극성', 'hidden_state']]\n",
        "df_tense_hidden = df_hidden[['문장', '시제', 'hidden_state']]\n",
        "df_cert_hidden = df_hidden[['문장', '확실성', 'hidden_state']]"
      ]
    },
    {
      "cell_type": "code",
      "execution_count": null,
      "metadata": {
        "id": "PgNv79PeYHxt"
      },
      "outputs": [],
      "source": [
        "def to_ds(df):\n",
        "  \n",
        "  dic= df.to_dict(\"list\") #테이블을 딕셔너리형태로 바꿈.\n",
        "  ds = Dataset.from_dict(dic) #딕셔너리를 데이터세트 형태로 바꿈.\n",
        "  ds = ds.train_test_split(test_size=0.2, seed=1)\n",
        "\n",
        "  return ds"
      ]
    },
    {
      "cell_type": "code",
      "execution_count": null,
      "metadata": {
        "id": "MocbAnXKZNTH"
      },
      "outputs": [],
      "source": [
        "ds_type_hidden = to_ds(df_type_hidden)\n",
        "ds_polar_hidden = to_ds(df_polar_hidden)\n",
        "ds_tense_hidden = to_ds(df_tense_hidden)\n",
        "ds_cert_hidden = to_ds(df_cert_hidden)"
      ]
    },
    {
      "cell_type": "code",
      "execution_count": null,
      "metadata": {
        "id": "f_5FEVKYQdII"
      },
      "outputs": [],
      "source": [
        "import numpy as np\n",
        "from sklearn.linear_model import LogisticRegression\n",
        "\n",
        "def ds_split(ds, label):\n",
        "  X_train = np.array(ds[\"train\"][\"hidden_state\"])\n",
        "  X_valid = np.array(ds[\"test\"][\"hidden_state\"])\n",
        "  y_train = np.array(ds[\"train\"][label])\n",
        "  y_valid = np.array(ds[\"test\"][label])\n",
        "  \n",
        "  return X_train, X_valid, y_train, y_valid\n",
        "\n",
        "def lr(X_train, X_valid, y_train, y_valid):\n",
        "  lr_clf = LogisticRegression(max_iter=3000)\n",
        "  lr_clf.fit(X_train, y_train)\n",
        "  print(lr_clf.score(X_valid, y_valid))\n",
        "\n",
        "  return lr_clf"
      ]
    },
    {
      "cell_type": "code",
      "execution_count": null,
      "metadata": {
        "id": "MABKjPgpc-Lq"
      },
      "outputs": [],
      "source": [
        "X_type_train, X_type_val, y_type_train, y_type_val = ds_split(ds_type_hidden, '유형')\n",
        "X_polar_train, X_polar_val, y_polar_train, y_polar_val = ds_split(ds_polar_hidden, '극성')\n",
        "X_tense_train, X_tense_val, y_tense_train, y_tense_val = ds_split(ds_tense_hidden, '시제')\n",
        "X_cert_train, X_cert_val, y_cert_train, y_cert_val = ds_split(ds_cert_hidden, '확실성')"
      ]
    },
    {
      "cell_type": "code",
      "execution_count": null,
      "metadata": {
        "id": "kWPSHKG9fEXb"
      },
      "outputs": [],
      "source": [
        "lr_type = lr(X_type_train, X_type_val, y_type_train, y_type_val)\n",
        "lr_polar = lr(X_polar_train, X_polar_val, y_polar_train, y_polar_val)\n",
        "lr_tense = lr(X_tense_train, X_tense_val, y_tense_train, y_tense_val)\n",
        "lr_cert = lr(X_cert_train, X_cert_val, y_cert_train, y_cert_val)"
      ]
    },
    {
      "cell_type": "code",
      "execution_count": null,
      "metadata": {
        "id": "FLJvl-pQfdsK"
      },
      "outputs": [],
      "source": [
        "from sklearn.dummy import DummyClassifier\n",
        "\n",
        "dummy_clf = DummyClassifier(strategy=\"most_frequent\")\n",
        "dummy_clf.fit(X_type_train, y_type_train)\n",
        "dummy_clf.score(X_type_val, y_type_val)"
      ]
    },
    {
      "cell_type": "code",
      "execution_count": null,
      "metadata": {
        "id": "7FoI54mWZFb7"
      },
      "outputs": [],
      "source": [
        "!unzip test_hdn.zip"
      ]
    },
    {
      "cell_type": "code",
      "execution_count": null,
      "metadata": {
        "id": "bncKxBZCcvcq"
      },
      "outputs": [],
      "source": [
        "from datasets import load_from_disk\n",
        "test_hidden = load_from_disk(\"/content/content/test_hidden\")"
      ]
    },
    {
      "cell_type": "code",
      "execution_count": null,
      "metadata": {
        "colab": {
          "base_uri": "https://localhost:8080/"
        },
        "id": "Jbg_yJq6Zbie",
        "outputId": "428239a6-91f0-4202-bfc6-b9115d10eb61"
      },
      "outputs": [
        {
          "data": {
            "text/plain": [
              "Dataset({\n",
              "    features: ['ID', '문장', 'input_ids', 'attention_mask', 'hidden_state'],\n",
              "    num_rows: 7090\n",
              "})"
            ]
          },
          "execution_count": 54,
          "metadata": {},
          "output_type": "execute_result"
        }
      ],
      "source": [
        "test_hidden['hidden_state']"
      ]
    },
    {
      "cell_type": "code",
      "execution_count": null,
      "metadata": {
        "id": "8eHLr7axcSep"
      },
      "outputs": [],
      "source": [
        "type_preds = lr_type.predict(test_hidden['hidden_state'])\n",
        "polarity_preds = lr_polar.predict(test_hidden['hidden_state'])\n",
        "tense_preds = lr_tense.predict(test_hidden['hidden_state'])\n",
        "certainty_preds = lr_cert.predict(test_hidden['hidden_state'])"
      ]
    },
    {
      "cell_type": "code",
      "execution_count": null,
      "metadata": {
        "id": "YyTDwxJhbLnO"
      },
      "outputs": [],
      "source": [
        "type_preds = list(type_preds)\n",
        "polarity_preds = list(polarity_preds)\n",
        "tense_preds = list(tense_preds)\n",
        "certainty_preds = list(certainty_preds)"
      ]
    },
    {
      "cell_type": "code",
      "execution_count": null,
      "metadata": {
        "id": "xKE_9lYIcIN5"
      },
      "outputs": [],
      "source": [
        "type_preds = type_le.inverse_transform(type_preds)\n",
        "polarity_preds = polarity_le.inverse_transform(polarity_preds)\n",
        "tense_preds = tense_le.inverse_transform(tense_preds)\n",
        "certainty_preds = certainty_le.inverse_transform(certainty_preds)"
      ]
    },
    {
      "cell_type": "code",
      "execution_count": null,
      "metadata": {
        "id": "nF---p0safqP"
      },
      "outputs": [],
      "source": [
        "predictions = []\n",
        "for type_pred, polarity_pred, tense_pred, certainty_pred in zip(type_preds, polarity_preds, tense_preds, certainty_preds):\n",
        "    predictions.append(type_pred+'-'+polarity_pred+'-'+tense_pred+'-'+certainty_pred)"
      ]
    },
    {
      "cell_type": "code",
      "execution_count": null,
      "metadata": {
        "id": "r7UXIOaBbowi"
      },
      "outputs": [],
      "source": [
        "submit = pd.read_csv('sample_submission.csv')\n",
        "submit['label'] = predictions"
      ]
    },
    {
      "cell_type": "code",
      "execution_count": null,
      "metadata": {
        "colab": {
          "base_uri": "https://localhost:8080/",
          "height": 423
        },
        "id": "AoskZQRBcMA-",
        "outputId": "e9a7c105-22c9-403f-86c5-8941ef97f3b8"
      },
      "outputs": [
        {
          "data": {
            "text/html": [
              "\n",
              "  <div id=\"df-19dd7fa0-945d-4788-9ded-0f7ce7bf82bc\">\n",
              "    <div class=\"colab-df-container\">\n",
              "      <div>\n",
              "<style scoped>\n",
              "    .dataframe tbody tr th:only-of-type {\n",
              "        vertical-align: middle;\n",
              "    }\n",
              "\n",
              "    .dataframe tbody tr th {\n",
              "        vertical-align: top;\n",
              "    }\n",
              "\n",
              "    .dataframe thead th {\n",
              "        text-align: right;\n",
              "    }\n",
              "</style>\n",
              "<table border=\"1\" class=\"dataframe\">\n",
              "  <thead>\n",
              "    <tr style=\"text-align: right;\">\n",
              "      <th></th>\n",
              "      <th>ID</th>\n",
              "      <th>label</th>\n",
              "    </tr>\n",
              "  </thead>\n",
              "  <tbody>\n",
              "    <tr>\n",
              "      <th>0</th>\n",
              "      <td>TEST_0000</td>\n",
              "      <td>사실형-긍정-현재-확실</td>\n",
              "    </tr>\n",
              "    <tr>\n",
              "      <th>1</th>\n",
              "      <td>TEST_0001</td>\n",
              "      <td>사실형-긍정-현재-확실</td>\n",
              "    </tr>\n",
              "    <tr>\n",
              "      <th>2</th>\n",
              "      <td>TEST_0002</td>\n",
              "      <td>사실형-긍정-과거-확실</td>\n",
              "    </tr>\n",
              "    <tr>\n",
              "      <th>3</th>\n",
              "      <td>TEST_0003</td>\n",
              "      <td>사실형-긍정-현재-확실</td>\n",
              "    </tr>\n",
              "    <tr>\n",
              "      <th>4</th>\n",
              "      <td>TEST_0004</td>\n",
              "      <td>사실형-긍정-과거-확실</td>\n",
              "    </tr>\n",
              "    <tr>\n",
              "      <th>...</th>\n",
              "      <td>...</td>\n",
              "      <td>...</td>\n",
              "    </tr>\n",
              "    <tr>\n",
              "      <th>7085</th>\n",
              "      <td>TEST_7085</td>\n",
              "      <td>사실형-긍정-현재-확실</td>\n",
              "    </tr>\n",
              "    <tr>\n",
              "      <th>7086</th>\n",
              "      <td>TEST_7086</td>\n",
              "      <td>추론형-긍정-현재-확실</td>\n",
              "    </tr>\n",
              "    <tr>\n",
              "      <th>7087</th>\n",
              "      <td>TEST_7087</td>\n",
              "      <td>사실형-긍정-미래-확실</td>\n",
              "    </tr>\n",
              "    <tr>\n",
              "      <th>7088</th>\n",
              "      <td>TEST_7088</td>\n",
              "      <td>사실형-긍정-미래-확실</td>\n",
              "    </tr>\n",
              "    <tr>\n",
              "      <th>7089</th>\n",
              "      <td>TEST_7089</td>\n",
              "      <td>사실형-긍정-과거-확실</td>\n",
              "    </tr>\n",
              "  </tbody>\n",
              "</table>\n",
              "<p>7090 rows × 2 columns</p>\n",
              "</div>\n",
              "      <button class=\"colab-df-convert\" onclick=\"convertToInteractive('df-19dd7fa0-945d-4788-9ded-0f7ce7bf82bc')\"\n",
              "              title=\"Convert this dataframe to an interactive table.\"\n",
              "              style=\"display:none;\">\n",
              "        \n",
              "  <svg xmlns=\"http://www.w3.org/2000/svg\" height=\"24px\"viewBox=\"0 0 24 24\"\n",
              "       width=\"24px\">\n",
              "    <path d=\"M0 0h24v24H0V0z\" fill=\"none\"/>\n",
              "    <path d=\"M18.56 5.44l.94 2.06.94-2.06 2.06-.94-2.06-.94-.94-2.06-.94 2.06-2.06.94zm-11 1L8.5 8.5l.94-2.06 2.06-.94-2.06-.94L8.5 2.5l-.94 2.06-2.06.94zm10 10l.94 2.06.94-2.06 2.06-.94-2.06-.94-.94-2.06-.94 2.06-2.06.94z\"/><path d=\"M17.41 7.96l-1.37-1.37c-.4-.4-.92-.59-1.43-.59-.52 0-1.04.2-1.43.59L10.3 9.45l-7.72 7.72c-.78.78-.78 2.05 0 2.83L4 21.41c.39.39.9.59 1.41.59.51 0 1.02-.2 1.41-.59l7.78-7.78 2.81-2.81c.8-.78.8-2.07 0-2.86zM5.41 20L4 18.59l7.72-7.72 1.47 1.35L5.41 20z\"/>\n",
              "  </svg>\n",
              "      </button>\n",
              "      \n",
              "  <style>\n",
              "    .colab-df-container {\n",
              "      display:flex;\n",
              "      flex-wrap:wrap;\n",
              "      gap: 12px;\n",
              "    }\n",
              "\n",
              "    .colab-df-convert {\n",
              "      background-color: #E8F0FE;\n",
              "      border: none;\n",
              "      border-radius: 50%;\n",
              "      cursor: pointer;\n",
              "      display: none;\n",
              "      fill: #1967D2;\n",
              "      height: 32px;\n",
              "      padding: 0 0 0 0;\n",
              "      width: 32px;\n",
              "    }\n",
              "\n",
              "    .colab-df-convert:hover {\n",
              "      background-color: #E2EBFA;\n",
              "      box-shadow: 0px 1px 2px rgba(60, 64, 67, 0.3), 0px 1px 3px 1px rgba(60, 64, 67, 0.15);\n",
              "      fill: #174EA6;\n",
              "    }\n",
              "\n",
              "    [theme=dark] .colab-df-convert {\n",
              "      background-color: #3B4455;\n",
              "      fill: #D2E3FC;\n",
              "    }\n",
              "\n",
              "    [theme=dark] .colab-df-convert:hover {\n",
              "      background-color: #434B5C;\n",
              "      box-shadow: 0px 1px 3px 1px rgba(0, 0, 0, 0.15);\n",
              "      filter: drop-shadow(0px 1px 2px rgba(0, 0, 0, 0.3));\n",
              "      fill: #FFFFFF;\n",
              "    }\n",
              "  </style>\n",
              "\n",
              "      <script>\n",
              "        const buttonEl =\n",
              "          document.querySelector('#df-19dd7fa0-945d-4788-9ded-0f7ce7bf82bc button.colab-df-convert');\n",
              "        buttonEl.style.display =\n",
              "          google.colab.kernel.accessAllowed ? 'block' : 'none';\n",
              "\n",
              "        async function convertToInteractive(key) {\n",
              "          const element = document.querySelector('#df-19dd7fa0-945d-4788-9ded-0f7ce7bf82bc');\n",
              "          const dataTable =\n",
              "            await google.colab.kernel.invokeFunction('convertToInteractive',\n",
              "                                                     [key], {});\n",
              "          if (!dataTable) return;\n",
              "\n",
              "          const docLinkHtml = 'Like what you see? Visit the ' +\n",
              "            '<a target=\"_blank\" href=https://colab.research.google.com/notebooks/data_table.ipynb>data table notebook</a>'\n",
              "            + ' to learn more about interactive tables.';\n",
              "          element.innerHTML = '';\n",
              "          dataTable['output_type'] = 'display_data';\n",
              "          await google.colab.output.renderOutput(dataTable, element);\n",
              "          const docLink = document.createElement('div');\n",
              "          docLink.innerHTML = docLinkHtml;\n",
              "          element.appendChild(docLink);\n",
              "        }\n",
              "      </script>\n",
              "    </div>\n",
              "  </div>\n",
              "  "
            ],
            "text/plain": [
              "             ID         label\n",
              "0     TEST_0000  사실형-긍정-현재-확실\n",
              "1     TEST_0001  사실형-긍정-현재-확실\n",
              "2     TEST_0002  사실형-긍정-과거-확실\n",
              "3     TEST_0003  사실형-긍정-현재-확실\n",
              "4     TEST_0004  사실형-긍정-과거-확실\n",
              "...         ...           ...\n",
              "7085  TEST_7085  사실형-긍정-현재-확실\n",
              "7086  TEST_7086  추론형-긍정-현재-확실\n",
              "7087  TEST_7087  사실형-긍정-미래-확실\n",
              "7088  TEST_7088  사실형-긍정-미래-확실\n",
              "7089  TEST_7089  사실형-긍정-과거-확실\n",
              "\n",
              "[7090 rows x 2 columns]"
            ]
          },
          "execution_count": 84,
          "metadata": {},
          "output_type": "execute_result"
        }
      ],
      "source": [
        "submit"
      ]
    },
    {
      "cell_type": "code",
      "execution_count": null,
      "metadata": {
        "id": "Mtt3nDxEcUDC"
      },
      "outputs": [],
      "source": [
        "submit.to_csv('submit_lr_bs.csv', index=False, encoding='utf-8-sig')"
      ]
    },
    {
      "cell_type": "markdown",
      "metadata": {
        "id": "PA8i_sOHGdwp"
      },
      "source": [
        "## CustomModel"
      ]
    },
    {
      "cell_type": "code",
      "execution_count": null,
      "metadata": {
        "id": "-gkaewvaCU3-"
      },
      "outputs": [],
      "source": [
        "!unzip train_hdn.zip\n",
        "!unzip val_hdn.zip\n"
      ]
    },
    {
      "cell_type": "code",
      "execution_count": null,
      "metadata": {
        "id": "Gb_iKzfswH3A"
      },
      "outputs": [],
      "source": [
        "!unzip test_hdn.zip"
      ]
    },
    {
      "cell_type": "code",
      "execution_count": null,
      "metadata": {
        "id": "CCdiXjfowQdM"
      },
      "outputs": [],
      "source": [
        "from datasets import load_from_disk"
      ]
    },
    {
      "cell_type": "code",
      "execution_count": null,
      "metadata": {
        "id": "LsGjRMl_rVj3"
      },
      "outputs": [],
      "source": [
        "\n",
        "train_hidden = load_from_disk(\"/content/content/train_hidden\")\n",
        "val_hidden = load_from_disk(\"/content/content/val_hidden\")"
      ]
    },
    {
      "cell_type": "code",
      "execution_count": null,
      "metadata": {
        "id": "XQSN3S_-wKBl"
      },
      "outputs": [],
      "source": [
        "test_hidden = load_from_disk(\"/content/content/test_hidden\")"
      ]
    },
    {
      "cell_type": "code",
      "execution_count": null,
      "metadata": {
        "id": "TpKr8p7sJLiR"
      },
      "outputs": [],
      "source": [
        "train_hidden['문장'][0]"
      ]
    },
    {
      "cell_type": "code",
      "execution_count": null,
      "metadata": {
        "id": "vHfNgnGiJPz4"
      },
      "outputs": [],
      "source": [
        "train_hidden['input_ids'][0]"
      ]
    },
    {
      "cell_type": "code",
      "execution_count": null,
      "metadata": {
        "id": "y0FWloQyDf5K"
      },
      "outputs": [],
      "source": [
        "train_hidden['hidden_state'][0]"
      ]
    },
    {
      "cell_type": "code",
      "execution_count": null,
      "metadata": {
        "id": "F3WrQK3G3kmP"
      },
      "outputs": [],
      "source": [
        "val_hidden['유형'][0]"
      ]
    },
    {
      "cell_type": "code",
      "execution_count": null,
      "metadata": {
        "id": "HHNd64bYC6Bs"
      },
      "outputs": [],
      "source": [
        "test_hidden"
      ]
    },
    {
      "cell_type": "code",
      "execution_count": null,
      "metadata": {
        "id": "ijRkWlS_RX4D"
      },
      "outputs": [],
      "source": [
        "from datasets import Dataset, DatasetDict, load_dataset\n",
        "\n",
        "\n",
        "train_hidden.set_format(type='pandas')\n",
        "val_hidden.set_format(type='pandas')\n",
        "train_df=train_hidden[:]\n",
        "val_df=val_hidden[:]\n",
        "\n",
        "df = pd.concat([train_df, val_df], axis=0).sample(frac=1).reset_index(drop=True)"
      ]
    },
    {
      "cell_type": "code",
      "execution_count": null,
      "metadata": {
        "id": "gQFjfgUk93Uw"
      },
      "outputs": [],
      "source": [
        "def to_ds(df):\n",
        "  \n",
        "  dic= df.to_dict(\"list\") #테이블을 딕셔너리형태로 바꿈.\n",
        "  ds = Dataset.from_dict(dic) #딕셔너리를 데이터세트 형태로 바꿈.\n",
        "\n",
        "  return ds\n",
        "\n",
        "#ds=to_ds(df)"
      ]
    },
    {
      "cell_type": "code",
      "execution_count": null,
      "metadata": {
        "id": "5hVVOcQ-1OJr"
      },
      "outputs": [],
      "source": [
        "from typing import Optional, Sequence\n",
        "from torch import Tensor"
      ]
    },
    {
      "attachments": {},
      "cell_type": "markdown",
      "metadata": {},
      "source": [
        "https://github.com/HaloKim/Competitions/blob/main/%5BDacon%5D%EB%AC%B8%EC%9E%A5%EC%9C%A0%ED%98%95%EB%B6%84%EB%A5%98AI%EA%B2%BD%EC%A7%84%EB%8C%80%ED%9A%8C/740/fold.ipynb"
      ]
    },
    {
      "cell_type": "code",
      "execution_count": null,
      "metadata": {
        "id": "8nefp7EE1BZC"
      },
      "outputs": [],
      "source": [
        "class FocalLoss(nn.Module):\n",
        "    \"\"\" Focal Loss, as described in https://arxiv.org/abs/1708.02002.\n",
        "    It is essentially an enhancement to cross entropy loss and is\n",
        "    useful for classification tasks when there is a large class imbalance.\n",
        "    x is expected to contain raw, unnormalized scores for each class.\n",
        "    y is expected to contain class labels.\n",
        "    Shape:\n",
        "        - x: (batch_size, C) or (batch_size, C, d1, d2, ..., dK), K > 0.\n",
        "        - y: (batch_size,) or (batch_size, d1, d2, ..., dK), K > 0.\n",
        "    \"\"\"\n",
        "\n",
        "    def __init__(self,\n",
        "                 alpha: Optional[Tensor] = None,\n",
        "                 gamma: float = 0.,\n",
        "                 reduction: str = 'mean',\n",
        "                 ignore_index: int = -100):\n",
        "        \"\"\"Constructor.\n",
        "        Args:\n",
        "            alpha (Tensor, optional): Weights for each class. Defaults to None.\n",
        "            gamma (float, optional): A constant, as described in the paper.\n",
        "                Defaults to 0.\n",
        "            reduction (str, optional): 'mean', 'sum' or 'none'.\n",
        "                Defaults to 'mean'.\n",
        "            ignore_index (int, optional): class label to ignore.\n",
        "                Defaults to -100.\n",
        "        \"\"\"\n",
        "        if reduction not in ('mean', 'sum', 'none'):\n",
        "            raise ValueError(\n",
        "                'Reduction must be one of: \"mean\", \"sum\", \"none\".')\n",
        "\n",
        "        super().__init__()\n",
        "        self.alpha = alpha\n",
        "        self.gamma = gamma\n",
        "        self.ignore_index = ignore_index\n",
        "        self.reduction = reduction\n",
        "\n",
        "        self.nll_loss = nn.NLLLoss(\n",
        "            weight=alpha, reduction='none', ignore_index=ignore_index)\n",
        "\n",
        "    def __repr__(self):\n",
        "        arg_keys = ['alpha', 'gamma', 'ignore_index', 'reduction']\n",
        "        arg_vals = [self.__dict__[k] for k in arg_keys]\n",
        "        arg_strs = [f'{k}={v!r}' for k, v in zip(arg_keys, arg_vals)]\n",
        "        arg_str = ', '.join(arg_strs)\n",
        "        return f'{type(self).__name__}({arg_str})'\n",
        "\n",
        "    def forward(self, x: Tensor, y: Tensor) -> Tensor:\n",
        "        if x.ndim > 2:\n",
        "            # (N, C, d1, d2, ..., dK) --> (N * d1 * ... * dK, C)\n",
        "            c = x.shape[1]\n",
        "            x = x.permute(0, *range(2, x.ndim), 1).reshape(-1, c)\n",
        "            # (N, d1, d2, ..., dK) --> (N * d1 * ... * dK,)\n",
        "            y = y.view(-1)\n",
        "\n",
        "        unignored_mask = y != self.ignore_index\n",
        "        y = y[unignored_mask]\n",
        "        if len(y) == 0:\n",
        "            return torch.tensor(0.)\n",
        "        x = x[unignored_mask]\n",
        "\n",
        "        # compute weighted cross entropy term: -alpha * log(pt)\n",
        "        # (alpha is already part of self.nll_loss)\n",
        "        log_p = F.log_softmax(x, dim=-1)\n",
        "        ce = self.nll_loss(log_p, y)\n",
        "\n",
        "        # get true class column from each row\n",
        "        all_rows = torch.arange(len(x))\n",
        "        log_pt = log_p[all_rows, y]\n",
        "\n",
        "        # compute focal term: (1 - pt)^gamma\n",
        "        pt = log_pt.exp()\n",
        "        focal_term = (1 - pt)**self.gamma\n",
        "\n",
        "        # the full loss: -alpha * ((1 - pt)^gamma) * log(pt)\n",
        "        loss = focal_term * ce\n",
        "\n",
        "        if self.reduction == 'mean':\n",
        "            loss = loss.mean()\n",
        "        elif self.reduction == 'sum':\n",
        "            loss = loss.sum()\n",
        "\n",
        "        return loss\n",
        "\n",
        "\n",
        "def focal_loss(alpha: Optional[Sequence] = None,\n",
        "               gamma: float = 0.,\n",
        "               reduction: str = 'mean',\n",
        "               ignore_index: int = -100,\n",
        "               device='cpu',\n",
        "               dtype=torch.float32) -> FocalLoss:\n",
        "    \"\"\"Factory function for FocalLoss.\n",
        "    Args:\n",
        "        alpha (Sequence, optional): Weights for each class. Will be converted\n",
        "            to a Tensor if not None. Defaults to None.\n",
        "        gamma (float, optional): A constant, as described in the paper.\n",
        "            Defaults to 0.\n",
        "        reduction (str, optional): 'mean', 'sum' or 'none'.\n",
        "            Defaults to 'mean'.\n",
        "        ignore_index (int, optional): class label to ignore.\n",
        "            Defaults to -100.\n",
        "        device (str, optional): Device to move alpha to. Defaults to 'cpu'.\n",
        "        dtype (torch.dtype, optional): dtype to cast alpha to.\n",
        "            Defaults to torch.float32.\n",
        "    Returns:\n",
        "        A FocalLoss object\n",
        "    \"\"\"\n",
        "    if alpha is not None:\n",
        "        if not isinstance(alpha, Tensor):\n",
        "            alpha = torch.tensor(alpha)\n",
        "        alpha = alpha.to(device=device, dtype=dtype)\n",
        "\n",
        "    fl = FocalLoss(\n",
        "        alpha=alpha,\n",
        "        gamma=gamma,\n",
        "        reduction=reduction,\n",
        "        ignore_index=ignore_index)\n",
        "    return fl\n",
        "        \n",
        "def compute_metrics(pred):\n",
        "    # label = [[cls1,cls2,...],]\n",
        "    # preds = n list\n",
        "    focal_loss = FocalLoss()\n",
        "    labels = pred.label_ids\n",
        "    preds = pred.predictions\n",
        "    f1 = []\n",
        "    focal = []\n",
        "    for i in range(4):\n",
        "        # focal.append(focal_loss(torch.tensor(preds[i], dtype=torch.float), torch.tensor(labels[::, i],dtype=torch.float)))\n",
        "        f1.append(f1_score(y_true = labels[::, i], y_pred = preds[i], average='weighted'))\n",
        "    return {\n",
        "        #'focal': sum(focal),\n",
        "        'f1-sum': sum(f1)/4\n",
        "    }"
      ]
    },
    {
      "cell_type": "code",
      "execution_count": null,
      "metadata": {
        "id": "dahW5UqnKEkN"
      },
      "outputs": [],
      "source": [
        "class CustomModel_a(nn.Module):\n",
        "    def __init__(self, input_dim=768):\n",
        "        super(CustomModel_a, self).__init__()\n",
        "        self.feature_extract= nn.Sequential(\n",
        "            nn.Linear(in_features=input_dim, out_features=512),\n",
        "            nn.BatchNorm1d(512),\n",
        "            nn.LeakyReLU()\n",
        "        )\n",
        "\n",
        "        self.type_classifier = nn.Sequential(\n",
        "            nn.Dropout(p=0.3),\n",
        "            nn.Linear(in_features=512, out_features=4),\n",
        "        )\n",
        "        self.polarity_classifier = nn.Sequential(\n",
        "            nn.Dropout(p=0.3),\n",
        "            nn.Linear(in_features=512, out_features=3),\n",
        "        )\n",
        "        self.tense_classifier = nn.Sequential(\n",
        "            nn.Dropout(p=0.3),\n",
        "            nn.Linear(in_features=512, out_features=3),\n",
        "        )\n",
        "        self.certainty_classifier = nn.Sequential(\n",
        "            nn.Dropout(p=0.3),\n",
        "            nn.Linear(in_features=512, out_features=2),\n",
        "        )\n",
        "            \n",
        "    def forward(self, x):\n",
        "        x = self.feature_extract_first(x)\n",
        "        tense_output = self.tense_classifier(x)\n",
        "\n",
        "        x = self.feature_extract_second(x)\n",
        "        type_output = self.type_classifier(x)\n",
        "        \n",
        "        x = self.feature_extract_third(x)\n",
        "        polarity_output = self.polarity_classifier(x)\n",
        "        \n",
        "        x = self.feature_extract_forth(x)\n",
        "        certainty_output = self.certainty_classifier(x)\n",
        "    \n",
        "        return type_output, polarity_output, tense_output, certainty_output"
      ]
    },
    {
      "cell_type": "code",
      "execution_count": null,
      "metadata": {
        "id": "GtUykBSdKRNw"
      },
      "outputs": [],
      "source": [
        "def train(model, optimizer, train_loader, val_loader, scheduler, device):\n",
        "  \n",
        "    model.to(device)\n",
        "    \n",
        "    criterion = {\n",
        "        'type' : FocalLoss().to(device),\n",
        "        'polarity' : FocalLoss().to(device),\n",
        "        'tense' : FocalLoss().to(device),\n",
        "        'certainty' : FocalLoss().to(device)\n",
        "    }\n",
        "    \n",
        "    best_loss = 999999\n",
        "    best_model = None\n",
        "    \n",
        "    for epoch in range(1, CFG['EPOCHS']+40):\n",
        "        model.train()\n",
        "        train_loss = []\n",
        "        for type_label, polarity_label, tense_label, certainty_label, hidden_state in tqdm(iter(train_loader)):\n",
        "            type_label = type_label.to(device)\n",
        "            polarity_label = polarity_label.to(device)\n",
        "            tense_label = tense_label.to(device)\n",
        "            certainty_label = certainty_label.to(device)\n",
        "            hidden_state = hidden_state.to(device)\n",
        "\n",
        "            optimizer.zero_grad()\n",
        "            \n",
        "            type_logit, polarity_logit, tense_logit, certainty_logit = model(hidden_state)\n",
        "            \n",
        "            loss = 0.25 * criterion['type'](type_logit, type_label) + \\\n",
        "                    0.25 * criterion['polarity'](polarity_logit, polarity_label) + \\\n",
        "                    0.25 * criterion['tense'](tense_logit, tense_label) + \\\n",
        "                    0.25 * criterion['certainty'](certainty_logit, certainty_label)\n",
        "            \n",
        "            loss.backward()\n",
        "            optimizer.step()\n",
        "            \n",
        "            train_loss.append(loss.item())\n",
        "        \n",
        "        val_loss, val_type_f1, val_polarity_f1, val_tense_f1, val_certainty_f1 = validation(model, val_loader, criterion, device)\n",
        "        print(f'Epoch : [{epoch}] Train Loss : [{np.mean(train_loss):.5f}] Val Loss : [{val_loss:.5f}] 유형 F1 : [{val_type_f1:.5f}] 극성 F1 : [{val_polarity_f1:.5f}] 시제 F1 : [{val_tense_f1:.5f}] 확실성 F1 : [{val_certainty_f1:.5f}]')\n",
        "        \n",
        "        if scheduler is not None:\n",
        "            scheduler.step(val_loss)\n",
        "            \n",
        "        if best_loss > val_loss:\n",
        "            best_loss = val_loss\n",
        "            best_model = model\n",
        "            \n",
        "    return best_model"
      ]
    },
    {
      "cell_type": "code",
      "execution_count": null,
      "metadata": {
        "id": "Pw-AwPU0M755"
      },
      "outputs": [],
      "source": [
        "def validation(model, val_loader, criterion, device):\n",
        "    model.eval()\n",
        "    val_loss = []\n",
        "    \n",
        "    type_preds, polarity_preds, tense_preds, certainty_preds = [], [], [], []\n",
        "    type_labels, polarity_labels, tense_labels, certainty_labels = [], [], [], []\n",
        "    \n",
        "    \n",
        "    with torch.no_grad():\n",
        "        for type_label, polarity_label, tense_label, certainty_label, hidden_state in tqdm(iter(val_loader)):\n",
        "            type_label = type_label.to(device)\n",
        "            polarity_label = polarity_label.to(device)\n",
        "            tense_label = tense_label.to(device)\n",
        "            certainty_label = certainty_label.to(device)\n",
        "            hidden_state = hidden_state.to(device)\n",
        "\n",
        "            type_logit, polarity_logit, tense_logit, certainty_logit = model(hidden_state)\n",
        "            \n",
        "            loss = 0.25 * criterion['type'](type_logit, type_label) + \\\n",
        "                    0.25 * criterion['polarity'](polarity_logit, polarity_label) + \\\n",
        "                    0.25 * criterion['tense'](tense_logit, tense_label) + \\\n",
        "                    0.25 * criterion['certainty'](certainty_logit, certainty_label)\n",
        "            \n",
        "            val_loss.append(loss.item())\n",
        "            \n",
        "            type_preds += type_logit.argmax(1).detach().cpu().numpy().tolist()\n",
        "            type_labels += type_label.detach().cpu().numpy().tolist()\n",
        "            \n",
        "            polarity_preds += polarity_logit.argmax(1).detach().cpu().numpy().tolist()\n",
        "            polarity_labels += polarity_label.detach().cpu().numpy().tolist()\n",
        "            \n",
        "            tense_preds += tense_logit.argmax(1).detach().cpu().numpy().tolist()\n",
        "            tense_labels += tense_label.detach().cpu().numpy().tolist()\n",
        "            \n",
        "            certainty_preds += certainty_logit.argmax(1).detach().cpu().numpy().tolist()\n",
        "            certainty_labels += certainty_label.detach().cpu().numpy().tolist()\n",
        "    \n",
        "    type_f1 = f1_score(type_labels, type_preds, average='weighted')\n",
        "    polarity_f1 = f1_score(polarity_labels, polarity_preds, average='weighted')\n",
        "    tense_f1 = f1_score(tense_labels, tense_preds, average='weighted')\n",
        "    certainty_f1 = f1_score(certainty_labels, certainty_preds, average='weighted')\n",
        "    \n",
        "    return np.mean(val_loss), type_f1, polarity_f1, tense_f1, certainty_f1"
      ]
    },
    {
      "cell_type": "code",
      "execution_count": null,
      "metadata": {
        "id": "a--YUBmaWpH-"
      },
      "outputs": [],
      "source": [
        "from torch.utils.data import Dataset\n",
        "\n",
        "class MyDataset(Dataset):\n",
        "  def __init__(self, dataset):\n",
        "    dataset.set_format(type = 'pandas')  \n",
        "    self.df = dataset[:]\n",
        "\n",
        "  def __len__(self):\n",
        "    return len(self.df)\n",
        "\n",
        "  def __getitem__(self, index):\n",
        "    if '유형' in self.df.columns:\n",
        "      type_label = self.df['유형'][index]\n",
        "      polarity_label = self.df['극성'][index]\n",
        "      tense_label = self.df['시제'][index]\n",
        "      certainty_label = self.df['확실성'][index]\n",
        "      hidden_state = torch.tensor(self.df['hidden_state'][index])\n",
        "\n",
        "      return type_label, polarity_label, tense_label, certainty_label, hidden_state\n",
        "\n",
        "    else:\n",
        "      hidden_state = torch.tensor(self.df['hidden_state'][index])\n",
        "      return hidden_state\n"
      ]
    },
    {
      "cell_type": "markdown",
      "metadata": {
        "id": "ITiJAkAlTq6c"
      },
      "source": [
        "### k-fold"
      ]
    },
    {
      "cell_type": "code",
      "execution_count": null,
      "metadata": {
        "id": "Jh3C76P3KL4R"
      },
      "outputs": [],
      "source": [
        "from sklearn.model_selection import train_test_split, KFold"
      ]
    },
    {
      "cell_type": "code",
      "execution_count": null,
      "metadata": {
        "id": "KqNKlucpKBtU"
      },
      "outputs": [],
      "source": [
        "k = 5\n",
        "kf = KFold(n_splits=k)"
      ]
    },
    {
      "cell_type": "code",
      "execution_count": null,
      "metadata": {
        "id": "mMTUoIRXG8mT"
      },
      "outputs": [],
      "source": [
        "kf_generator = kf.split(ds)"
      ]
    },
    {
      "cell_type": "code",
      "execution_count": null,
      "metadata": {
        "id": "XW--pFlsH0yy"
      },
      "outputs": [],
      "source": [
        "train_index, val_index = next(iter(kf_generator))"
      ]
    },
    {
      "cell_type": "code",
      "execution_count": null,
      "metadata": {
        "id": "y2ua9Wg_IItP"
      },
      "outputs": [],
      "source": [
        "dataset_t = MyDataset(ds.select_columns(['유형', '극성', '시제', '확실성', 'hidden_state']).select(train_index))\n",
        "dataset_v = MyDataset(ds.select_columns(['유형', '극성', '시제', '확실성', 'hidden_state']).select(val_index))\n",
        "\n",
        "train_loader = DataLoader(dataset_t, batch_size=256, shuffle=False)\n",
        "val_loader = DataLoader(dataset_v, batch_size=256, shuffle=False)\n",
        "\n",
        "model = CustomModel()\n",
        "model.eval()\n",
        "optimizer = torch.optim.Adam(params = model.parameters(), lr = CFG[\"LEARNING_RATE\"])\n",
        "scheduler = torch.optim.lr_scheduler.ReduceLROnPlateau(optimizer, mode='min', factor=0.5, patience=2,threshold_mode='abs',min_lr=1e-8, verbose=True)\n",
        "\n",
        "infer_model = train(model, optimizer, train_loader, val_loader, scheduler, device)\n"
      ]
    },
    {
      "cell_type": "markdown",
      "metadata": {
        "id": "X_DMqRLkWvyZ"
      },
      "source": [
        "### train-val split"
      ]
    },
    {
      "cell_type": "code",
      "execution_count": null,
      "metadata": {
        "colab": {
          "base_uri": "https://localhost:8080/"
        },
        "id": "SdZWQlyAtUyK",
        "outputId": "ab654055-c3f3-4b7b-ad0b-5a8a23e90ff2"
      },
      "outputs": [
        {
          "data": {
            "text/plain": [
              "Dataset({\n",
              "    features: ['문장', '유형', '극성', '시제', '확실성', 'label', 'input_ids', 'attention_mask', 'hidden_state'],\n",
              "    num_rows: 13204\n",
              "})"
            ]
          },
          "execution_count": 226,
          "metadata": {},
          "output_type": "execute_result"
        }
      ],
      "source": [
        "train_hidden"
      ]
    },
    {
      "cell_type": "code",
      "execution_count": null,
      "metadata": {
        "id": "5ROu3N8SsKQB"
      },
      "outputs": [],
      "source": [
        "train_hidden.set_format(type='pandas')\n",
        "val_hidden.set_format(type='pandas')\n",
        "\n",
        "train_hidden_df = train_hidden[:]\n",
        "val_hidden_df = val_hidden[:]\n",
        "\n",
        "hidden_df=pd.concat([train_hidden_df, val_hidden_df])\n",
        "\n",
        "type_le, polarity_le, tense_le, certainty_le = label_enc(hidden_df)\n",
        "\n",
        "train_hidden_df = hidden_df[:18698]\n",
        "val_hidden_df = hidden_df[18698:]"
      ]
    },
    {
      "cell_type": "code",
      "execution_count": null,
      "metadata": {
        "id": "CXV3nWZ3u5j3"
      },
      "outputs": [],
      "source": [
        "from datasets import Dataset, DatasetDict, load_dataset\n",
        "\n",
        "train_hidden = to_ds(train_hidden_df)\n",
        "val_hidden = to_ds(val_hidden_df)"
      ]
    },
    {
      "cell_type": "code",
      "execution_count": null,
      "metadata": {
        "id": "o_AnVcBLvJQt"
      },
      "outputs": [],
      "source": [
        "train_hidden.set_format(\"torch\", columns=['input_ids', 'attention_mask', '유형', '극성', '시제', '확실성'])\n",
        "val_hidden.set_format(\"torch\", columns=['input_ids', 'attention_mask', '유형', '극성', '시제', '확실성'])"
      ]
    },
    {
      "cell_type": "code",
      "execution_count": null,
      "metadata": {
        "id": "ojyUKLRmUjfu"
      },
      "outputs": [],
      "source": [
        "dataset_t = MyDataset(train_hidden.select_columns(['유형', '극성', '시제', '확실성', 'hidden_state']))\n",
        "dataset_v = MyDataset(val_hidden.select_columns(['유형', '극성', '시제', '확실성', 'hidden_state']))\n",
        "\n",
        "train_loader = DataLoader(dataset_t, batch_size=256, shuffle=True)\n",
        "val_loader = DataLoader(dataset_v, batch_size=256, shuffle=True)\n"
      ]
    },
    {
      "cell_type": "code",
      "execution_count": null,
      "metadata": {
        "id": "zdiyCLw2NKV3"
      },
      "outputs": [],
      "source": [
        "model = CustomModel()\n",
        "model.eval()\n",
        "optimizer = torch.optim.Adam(params = model.parameters(), lr = CFG[\"LEARNING_RATE\"])\n",
        "scheduler = torch.optim.lr_scheduler.ReduceLROnPlateau(optimizer, mode='min', factor=0.5, patience=2,threshold_mode='abs',min_lr=1e-8, verbose=True)\n",
        "\n",
        "infer_model = train(model, optimizer, train_loader, val_loader, scheduler, device)"
      ]
    },
    {
      "cell_type": "code",
      "execution_count": null,
      "metadata": {
        "id": "adngzWGAlc25"
      },
      "outputs": [],
      "source": [
        "model_a = CustomModel_a()\n",
        "model_a.eval()\n",
        "optimizer = torch.optim.Adam(params = model_a.parameters(), lr = CFG[\"LEARNING_RATE\"])\n",
        "scheduler = torch.optim.lr_scheduler.ReduceLROnPlateau(optimizer, mode='min', factor=0.5, patience=2,threshold_mode='abs',min_lr=1e-8, verbose=True)\n",
        "\n",
        "infer_model = train(model_a, optimizer, train_loader, val_loader, scheduler, device)"
      ]
    },
    {
      "cell_type": "code",
      "execution_count": null,
      "metadata": {
        "id": "5--ERkq6lw5E"
      },
      "outputs": [],
      "source": [
        "model_b = CustomModel_b()\n",
        "model_b.eval()\n",
        "optimizer = torch.optim.Adam(params = model_b.parameters(), lr = CFG[\"LEARNING_RATE\"])\n",
        "scheduler = torch.optim.lr_scheduler.ReduceLROnPlateau(optimizer, mode='min', factor=0.5, patience=2,threshold_mode='abs',min_lr=1e-8, verbose=True)\n",
        "\n",
        "infer_model = train(model_b, optimizer, train_loader, val_loader, scheduler, device)"
      ]
    },
    {
      "cell_type": "code",
      "execution_count": null,
      "metadata": {
        "id": "wsHdUcb9l7iP"
      },
      "outputs": [],
      "source": [
        "model_c = CustomModel_c()\n",
        "model_c.eval()\n",
        "optimizer = torch.optim.Adam(params = model_c.parameters(), lr = CFG[\"LEARNING_RATE\"])\n",
        "scheduler = torch.optim.lr_scheduler.ReduceLROnPlateau(optimizer, mode='min', factor=0.5, patience=2,threshold_mode='abs',min_lr=1e-8, verbose=True)\n",
        "\n",
        "infer_model = train(model_c, optimizer, train_loader, val_loader, scheduler, device)"
      ]
    },
    {
      "cell_type": "markdown",
      "metadata": {
        "id": "7oTr54pNT24L"
      },
      "source": [
        "### inference"
      ]
    },
    {
      "cell_type": "code",
      "execution_count": null,
      "metadata": {
        "id": "RIqHYENuuLmk"
      },
      "outputs": [],
      "source": [
        "dataset_test = MyDataset(test_hidden.select_columns(['hidden_state']))\n",
        "\n",
        "# 배치 사이즈 설정\n",
        "batch_size = 256\n",
        "\n",
        "# 데이터 로더 설정\n",
        "test_loader = DataLoader(dataset_test, batch_size=batch_size, shuffle=False)\n"
      ]
    },
    {
      "cell_type": "code",
      "execution_count": null,
      "metadata": {
        "id": "Td2yw9Zse8Cz"
      },
      "outputs": [],
      "source": [
        "def inference(model, test_loader, device):\n",
        "    model.to(device)\n",
        "    model.eval()\n",
        "    \n",
        "    type_preds, polarity_preds, tense_preds, certainty_preds = [], [], [], []\n",
        "    \n",
        "    with torch.no_grad():\n",
        "        for hidden_state in tqdm(test_loader):\n",
        "            hidden_state = hidden_state.to(device)\n",
        "            \n",
        "            type_logit, polarity_logit, tense_logit, certainty_logit = model(hidden_state)\n",
        "            \n",
        "            type_preds += type_logit.argmax(1).detach().cpu().numpy().tolist()\n",
        "            polarity_preds += polarity_logit.argmax(1).detach().cpu().numpy().tolist()\n",
        "            tense_preds += tense_logit.argmax(1).detach().cpu().numpy().tolist()\n",
        "            certainty_preds += certainty_logit.argmax(1).detach().cpu().numpy().tolist()\n",
        "            \n",
        "    return type_preds, polarity_preds, tense_preds, certainty_preds"
      ]
    },
    {
      "cell_type": "code",
      "execution_count": null,
      "metadata": {
        "colab": {
          "base_uri": "https://localhost:8080/",
          "height": 49,
          "referenced_widgets": [
            "800e666f2d064aca9daf15d4224d7881",
            "7a1d89ebdb5346699423b272ab287d9a",
            "4220fd538b32472cb34a9524f3afface",
            "aa5f11c8c9604b9f85f9320acceb4aac",
            "778bffcd737c44c48ced4f1496d901a2",
            "370a4266b54c4c6b964472ea5f65f543",
            "4ebae6d244c84cda80b478e7136ba8a6",
            "908d5d3583644042adb44be083b705bc",
            "c3533b7de5b94f38948e6d05de03aaa1",
            "78fad0b91fb04382ac5cb9673e8598e9",
            "b2aa90a568e8437aa48b3686e355649f"
          ]
        },
        "id": "qRAlJiqQfM-Q",
        "outputId": "9be248b8-e428-44d5-e5df-309a5542e3d2"
      },
      "outputs": [],
      "source": [
        "type_preds, polarity_preds, tense_preds, certainty_preds = inference(model, test_loader, device)"
      ]
    },
    {
      "cell_type": "code",
      "execution_count": null,
      "metadata": {
        "id": "FHmgK5zZmJ9K"
      },
      "outputs": [],
      "source": [
        "type_preds_a, polarity_preds_a, tense_preds_a, certainty_preds_a = inference(model_a, test_loader, device)\n",
        "type_preds_b, polarity_preds_b, tense_preds_b, certainty_preds_b = inference(model_b, test_loader, device)\n",
        "type_preds_c, polarity_preds_c, tense_preds_c, certainty_preds_c = inference(model_c, test_loader, device)"
      ]
    },
    {
      "cell_type": "code",
      "execution_count": null,
      "metadata": {
        "id": "C9yo8UW2fRCm"
      },
      "outputs": [],
      "source": [
        "type_preds = type_le.inverse_transform(type_preds)\n",
        "polarity_preds = polarity_le.inverse_transform(polarity_preds)\n",
        "tense_preds = tense_le.inverse_transform(tense_preds)\n",
        "certainty_preds = certainty_le.inverse_transform(certainty_preds)"
      ]
    },
    {
      "cell_type": "code",
      "execution_count": null,
      "metadata": {
        "id": "J3MJamFofSnD"
      },
      "outputs": [],
      "source": [
        "predictions = []\n",
        "for type_pred, polarity_pred, tense_pred, certainty_pred in zip(type_preds, polarity_preds, tense_preds, certainty_preds):\n",
        "    predictions.append(type_pred+'-'+polarity_pred+'-'+tense_pred+'-'+certainty_pred)"
      ]
    },
    {
      "cell_type": "code",
      "execution_count": null,
      "metadata": {
        "id": "oNYfIz9EfcBv"
      },
      "outputs": [],
      "source": [
        "submit = pd.read_csv('sample_submission.csv')\n",
        "submit['label'] = predictions"
      ]
    },
    {
      "cell_type": "code",
      "execution_count": null,
      "metadata": {
        "colab": {
          "base_uri": "https://localhost:8080/",
          "height": 423
        },
        "id": "4I5XkXnsw8k-",
        "outputId": "bd96cc6b-9c9f-4691-a797-91a5e2300377"
      },
      "outputs": [
        {
          "data": {
            "text/html": [
              "\n",
              "  <div id=\"df-861d69db-1b6e-40a8-b865-005d3e3d46a4\">\n",
              "    <div class=\"colab-df-container\">\n",
              "      <div>\n",
              "<style scoped>\n",
              "    .dataframe tbody tr th:only-of-type {\n",
              "        vertical-align: middle;\n",
              "    }\n",
              "\n",
              "    .dataframe tbody tr th {\n",
              "        vertical-align: top;\n",
              "    }\n",
              "\n",
              "    .dataframe thead th {\n",
              "        text-align: right;\n",
              "    }\n",
              "</style>\n",
              "<table border=\"1\" class=\"dataframe\">\n",
              "  <thead>\n",
              "    <tr style=\"text-align: right;\">\n",
              "      <th></th>\n",
              "      <th>ID</th>\n",
              "      <th>문장</th>\n",
              "    </tr>\n",
              "  </thead>\n",
              "  <tbody>\n",
              "    <tr>\n",
              "      <th>0</th>\n",
              "      <td>TEST_0000</td>\n",
              "      <td>장욱진의 ＇가족＇은 허물 없는 가족애를, 처음 공개되는 정약용의 ＇정효자전＇과 ＇정...</td>\n",
              "    </tr>\n",
              "    <tr>\n",
              "      <th>1</th>\n",
              "      <td>TEST_0001</td>\n",
              "      <td>조지 W 부시, 버락 오바마 전 대통령도 전쟁 위험 때문에 버린 카드다.</td>\n",
              "    </tr>\n",
              "    <tr>\n",
              "      <th>2</th>\n",
              "      <td>TEST_0002</td>\n",
              "      <td>지난해 1분기 128억원이었던 영업이익이 올해 1분기 505억원으로 급증했다.</td>\n",
              "    </tr>\n",
              "    <tr>\n",
              "      <th>3</th>\n",
              "      <td>TEST_0003</td>\n",
              "      <td>수상 작가와 맺으려던 계약서 내용 가운데 일부가 ＇독소 조항＇으로 해석돼 수정을 요...</td>\n",
              "    </tr>\n",
              "    <tr>\n",
              "      <th>4</th>\n",
              "      <td>TEST_0004</td>\n",
              "      <td>결국 최근 KDB산업은행은 대규모 손실 위기에 닥친 에어부산에 140억원 금융지원을...</td>\n",
              "    </tr>\n",
              "    <tr>\n",
              "      <th>...</th>\n",
              "      <td>...</td>\n",
              "      <td>...</td>\n",
              "    </tr>\n",
              "    <tr>\n",
              "      <th>7085</th>\n",
              "      <td>TEST_7085</td>\n",
              "      <td>2020 세계국가편람 모바일 앱은 세계 216개국의 국가개황과 주요 경제지표, 사회...</td>\n",
              "    </tr>\n",
              "    <tr>\n",
              "      <th>7086</th>\n",
              "      <td>TEST_7086</td>\n",
              "      <td>탈세계화 징후들이 반갑지 않은 이유다.</td>\n",
              "    </tr>\n",
              "    <tr>\n",
              "      <th>7087</th>\n",
              "      <td>TEST_7087</td>\n",
              "      <td>틱톡은 6월 ＇인터넷 안전의 달＇을 맞아 올바른 개인정보 보호 관리 방법, 앱 내 ...</td>\n",
              "    </tr>\n",
              "    <tr>\n",
              "      <th>7088</th>\n",
              "      <td>TEST_7088</td>\n",
              "      <td>만약 3개월 간 채굴자들의 투표를 거쳐 2/3 이상의 해시파워가 ＇채굴세＇ 도입에 ...</td>\n",
              "    </tr>\n",
              "    <tr>\n",
              "      <th>7089</th>\n",
              "      <td>TEST_7089</td>\n",
              "      <td>아버지 홍언필이 인기척에 깨 그 광경을 지켜봤다.</td>\n",
              "    </tr>\n",
              "  </tbody>\n",
              "</table>\n",
              "<p>7090 rows × 2 columns</p>\n",
              "</div>\n",
              "      <button class=\"colab-df-convert\" onclick=\"convertToInteractive('df-861d69db-1b6e-40a8-b865-005d3e3d46a4')\"\n",
              "              title=\"Convert this dataframe to an interactive table.\"\n",
              "              style=\"display:none;\">\n",
              "        \n",
              "  <svg xmlns=\"http://www.w3.org/2000/svg\" height=\"24px\"viewBox=\"0 0 24 24\"\n",
              "       width=\"24px\">\n",
              "    <path d=\"M0 0h24v24H0V0z\" fill=\"none\"/>\n",
              "    <path d=\"M18.56 5.44l.94 2.06.94-2.06 2.06-.94-2.06-.94-.94-2.06-.94 2.06-2.06.94zm-11 1L8.5 8.5l.94-2.06 2.06-.94-2.06-.94L8.5 2.5l-.94 2.06-2.06.94zm10 10l.94 2.06.94-2.06 2.06-.94-2.06-.94-.94-2.06-.94 2.06-2.06.94z\"/><path d=\"M17.41 7.96l-1.37-1.37c-.4-.4-.92-.59-1.43-.59-.52 0-1.04.2-1.43.59L10.3 9.45l-7.72 7.72c-.78.78-.78 2.05 0 2.83L4 21.41c.39.39.9.59 1.41.59.51 0 1.02-.2 1.41-.59l7.78-7.78 2.81-2.81c.8-.78.8-2.07 0-2.86zM5.41 20L4 18.59l7.72-7.72 1.47 1.35L5.41 20z\"/>\n",
              "  </svg>\n",
              "      </button>\n",
              "      \n",
              "  <style>\n",
              "    .colab-df-container {\n",
              "      display:flex;\n",
              "      flex-wrap:wrap;\n",
              "      gap: 12px;\n",
              "    }\n",
              "\n",
              "    .colab-df-convert {\n",
              "      background-color: #E8F0FE;\n",
              "      border: none;\n",
              "      border-radius: 50%;\n",
              "      cursor: pointer;\n",
              "      display: none;\n",
              "      fill: #1967D2;\n",
              "      height: 32px;\n",
              "      padding: 0 0 0 0;\n",
              "      width: 32px;\n",
              "    }\n",
              "\n",
              "    .colab-df-convert:hover {\n",
              "      background-color: #E2EBFA;\n",
              "      box-shadow: 0px 1px 2px rgba(60, 64, 67, 0.3), 0px 1px 3px 1px rgba(60, 64, 67, 0.15);\n",
              "      fill: #174EA6;\n",
              "    }\n",
              "\n",
              "    [theme=dark] .colab-df-convert {\n",
              "      background-color: #3B4455;\n",
              "      fill: #D2E3FC;\n",
              "    }\n",
              "\n",
              "    [theme=dark] .colab-df-convert:hover {\n",
              "      background-color: #434B5C;\n",
              "      box-shadow: 0px 1px 3px 1px rgba(0, 0, 0, 0.15);\n",
              "      filter: drop-shadow(0px 1px 2px rgba(0, 0, 0, 0.3));\n",
              "      fill: #FFFFFF;\n",
              "    }\n",
              "  </style>\n",
              "\n",
              "      <script>\n",
              "        const buttonEl =\n",
              "          document.querySelector('#df-861d69db-1b6e-40a8-b865-005d3e3d46a4 button.colab-df-convert');\n",
              "        buttonEl.style.display =\n",
              "          google.colab.kernel.accessAllowed ? 'block' : 'none';\n",
              "\n",
              "        async function convertToInteractive(key) {\n",
              "          const element = document.querySelector('#df-861d69db-1b6e-40a8-b865-005d3e3d46a4');\n",
              "          const dataTable =\n",
              "            await google.colab.kernel.invokeFunction('convertToInteractive',\n",
              "                                                     [key], {});\n",
              "          if (!dataTable) return;\n",
              "\n",
              "          const docLinkHtml = 'Like what you see? Visit the ' +\n",
              "            '<a target=\"_blank\" href=https://colab.research.google.com/notebooks/data_table.ipynb>data table notebook</a>'\n",
              "            + ' to learn more about interactive tables.';\n",
              "          element.innerHTML = '';\n",
              "          dataTable['output_type'] = 'display_data';\n",
              "          await google.colab.output.renderOutput(dataTable, element);\n",
              "          const docLink = document.createElement('div');\n",
              "          docLink.innerHTML = docLinkHtml;\n",
              "          element.appendChild(docLink);\n",
              "        }\n",
              "      </script>\n",
              "    </div>\n",
              "  </div>\n",
              "  "
            ],
            "text/plain": [
              "             ID                                                 문장\n",
              "0     TEST_0000  장욱진의 ＇가족＇은 허물 없는 가족애를, 처음 공개되는 정약용의 ＇정효자전＇과 ＇정...\n",
              "1     TEST_0001           조지 W 부시, 버락 오바마 전 대통령도 전쟁 위험 때문에 버린 카드다.\n",
              "2     TEST_0002        지난해 1분기 128억원이었던 영업이익이 올해 1분기 505억원으로 급증했다.\n",
              "3     TEST_0003  수상 작가와 맺으려던 계약서 내용 가운데 일부가 ＇독소 조항＇으로 해석돼 수정을 요...\n",
              "4     TEST_0004  결국 최근 KDB산업은행은 대규모 손실 위기에 닥친 에어부산에 140억원 금융지원을...\n",
              "...         ...                                                ...\n",
              "7085  TEST_7085  2020 세계국가편람 모바일 앱은 세계 216개국의 국가개황과 주요 경제지표, 사회...\n",
              "7086  TEST_7086                              탈세계화 징후들이 반갑지 않은 이유다.\n",
              "7087  TEST_7087  틱톡은 6월 ＇인터넷 안전의 달＇을 맞아 올바른 개인정보 보호 관리 방법, 앱 내 ...\n",
              "7088  TEST_7088  만약 3개월 간 채굴자들의 투표를 거쳐 2/3 이상의 해시파워가 ＇채굴세＇ 도입에 ...\n",
              "7089  TEST_7089                        아버지 홍언필이 인기척에 깨 그 광경을 지켜봤다.\n",
              "\n",
              "[7090 rows x 2 columns]"
            ]
          },
          "execution_count": 251,
          "metadata": {},
          "output_type": "execute_result"
        }
      ],
      "source": [
        "df_test"
      ]
    },
    {
      "cell_type": "code",
      "execution_count": null,
      "metadata": {
        "colab": {
          "base_uri": "https://localhost:8080/",
          "height": 423
        },
        "id": "_fYPaDFPNtef",
        "outputId": "4e327171-347c-490d-ce2b-f72b4d196491"
      },
      "outputs": [
        {
          "data": {
            "text/html": [
              "\n",
              "  <div id=\"df-d110ab91-4d0a-4b41-a6a4-e74f88d8162b\">\n",
              "    <div class=\"colab-df-container\">\n",
              "      <div>\n",
              "<style scoped>\n",
              "    .dataframe tbody tr th:only-of-type {\n",
              "        vertical-align: middle;\n",
              "    }\n",
              "\n",
              "    .dataframe tbody tr th {\n",
              "        vertical-align: top;\n",
              "    }\n",
              "\n",
              "    .dataframe thead th {\n",
              "        text-align: right;\n",
              "    }\n",
              "</style>\n",
              "<table border=\"1\" class=\"dataframe\">\n",
              "  <thead>\n",
              "    <tr style=\"text-align: right;\">\n",
              "      <th></th>\n",
              "      <th>ID</th>\n",
              "      <th>label</th>\n",
              "    </tr>\n",
              "  </thead>\n",
              "  <tbody>\n",
              "    <tr>\n",
              "      <th>0</th>\n",
              "      <td>TEST_0000</td>\n",
              "      <td>사실형-긍정-현재-확실</td>\n",
              "    </tr>\n",
              "    <tr>\n",
              "      <th>1</th>\n",
              "      <td>TEST_0001</td>\n",
              "      <td>사실형-긍정-현재-확실</td>\n",
              "    </tr>\n",
              "    <tr>\n",
              "      <th>2</th>\n",
              "      <td>TEST_0002</td>\n",
              "      <td>사실형-긍정-과거-확실</td>\n",
              "    </tr>\n",
              "    <tr>\n",
              "      <th>3</th>\n",
              "      <td>TEST_0003</td>\n",
              "      <td>사실형-긍정-과거-확실</td>\n",
              "    </tr>\n",
              "    <tr>\n",
              "      <th>4</th>\n",
              "      <td>TEST_0004</td>\n",
              "      <td>사실형-긍정-과거-확실</td>\n",
              "    </tr>\n",
              "    <tr>\n",
              "      <th>...</th>\n",
              "      <td>...</td>\n",
              "      <td>...</td>\n",
              "    </tr>\n",
              "    <tr>\n",
              "      <th>7085</th>\n",
              "      <td>TEST_7085</td>\n",
              "      <td>사실형-긍정-현재-확실</td>\n",
              "    </tr>\n",
              "    <tr>\n",
              "      <th>7086</th>\n",
              "      <td>TEST_7086</td>\n",
              "      <td>추론형-긍정-현재-확실</td>\n",
              "    </tr>\n",
              "    <tr>\n",
              "      <th>7087</th>\n",
              "      <td>TEST_7087</td>\n",
              "      <td>사실형-긍정-현재-확실</td>\n",
              "    </tr>\n",
              "    <tr>\n",
              "      <th>7088</th>\n",
              "      <td>TEST_7088</td>\n",
              "      <td>추론형-긍정-미래-확실</td>\n",
              "    </tr>\n",
              "    <tr>\n",
              "      <th>7089</th>\n",
              "      <td>TEST_7089</td>\n",
              "      <td>사실형-긍정-과거-확실</td>\n",
              "    </tr>\n",
              "  </tbody>\n",
              "</table>\n",
              "<p>7090 rows × 2 columns</p>\n",
              "</div>\n",
              "      <button class=\"colab-df-convert\" onclick=\"convertToInteractive('df-d110ab91-4d0a-4b41-a6a4-e74f88d8162b')\"\n",
              "              title=\"Convert this dataframe to an interactive table.\"\n",
              "              style=\"display:none;\">\n",
              "        \n",
              "  <svg xmlns=\"http://www.w3.org/2000/svg\" height=\"24px\"viewBox=\"0 0 24 24\"\n",
              "       width=\"24px\">\n",
              "    <path d=\"M0 0h24v24H0V0z\" fill=\"none\"/>\n",
              "    <path d=\"M18.56 5.44l.94 2.06.94-2.06 2.06-.94-2.06-.94-.94-2.06-.94 2.06-2.06.94zm-11 1L8.5 8.5l.94-2.06 2.06-.94-2.06-.94L8.5 2.5l-.94 2.06-2.06.94zm10 10l.94 2.06.94-2.06 2.06-.94-2.06-.94-.94-2.06-.94 2.06-2.06.94z\"/><path d=\"M17.41 7.96l-1.37-1.37c-.4-.4-.92-.59-1.43-.59-.52 0-1.04.2-1.43.59L10.3 9.45l-7.72 7.72c-.78.78-.78 2.05 0 2.83L4 21.41c.39.39.9.59 1.41.59.51 0 1.02-.2 1.41-.59l7.78-7.78 2.81-2.81c.8-.78.8-2.07 0-2.86zM5.41 20L4 18.59l7.72-7.72 1.47 1.35L5.41 20z\"/>\n",
              "  </svg>\n",
              "      </button>\n",
              "      \n",
              "  <style>\n",
              "    .colab-df-container {\n",
              "      display:flex;\n",
              "      flex-wrap:wrap;\n",
              "      gap: 12px;\n",
              "    }\n",
              "\n",
              "    .colab-df-convert {\n",
              "      background-color: #E8F0FE;\n",
              "      border: none;\n",
              "      border-radius: 50%;\n",
              "      cursor: pointer;\n",
              "      display: none;\n",
              "      fill: #1967D2;\n",
              "      height: 32px;\n",
              "      padding: 0 0 0 0;\n",
              "      width: 32px;\n",
              "    }\n",
              "\n",
              "    .colab-df-convert:hover {\n",
              "      background-color: #E2EBFA;\n",
              "      box-shadow: 0px 1px 2px rgba(60, 64, 67, 0.3), 0px 1px 3px 1px rgba(60, 64, 67, 0.15);\n",
              "      fill: #174EA6;\n",
              "    }\n",
              "\n",
              "    [theme=dark] .colab-df-convert {\n",
              "      background-color: #3B4455;\n",
              "      fill: #D2E3FC;\n",
              "    }\n",
              "\n",
              "    [theme=dark] .colab-df-convert:hover {\n",
              "      background-color: #434B5C;\n",
              "      box-shadow: 0px 1px 3px 1px rgba(0, 0, 0, 0.15);\n",
              "      filter: drop-shadow(0px 1px 2px rgba(0, 0, 0, 0.3));\n",
              "      fill: #FFFFFF;\n",
              "    }\n",
              "  </style>\n",
              "\n",
              "      <script>\n",
              "        const buttonEl =\n",
              "          document.querySelector('#df-d110ab91-4d0a-4b41-a6a4-e74f88d8162b button.colab-df-convert');\n",
              "        buttonEl.style.display =\n",
              "          google.colab.kernel.accessAllowed ? 'block' : 'none';\n",
              "\n",
              "        async function convertToInteractive(key) {\n",
              "          const element = document.querySelector('#df-d110ab91-4d0a-4b41-a6a4-e74f88d8162b');\n",
              "          const dataTable =\n",
              "            await google.colab.kernel.invokeFunction('convertToInteractive',\n",
              "                                                     [key], {});\n",
              "          if (!dataTable) return;\n",
              "\n",
              "          const docLinkHtml = 'Like what you see? Visit the ' +\n",
              "            '<a target=\"_blank\" href=https://colab.research.google.com/notebooks/data_table.ipynb>data table notebook</a>'\n",
              "            + ' to learn more about interactive tables.';\n",
              "          element.innerHTML = '';\n",
              "          dataTable['output_type'] = 'display_data';\n",
              "          await google.colab.output.renderOutput(dataTable, element);\n",
              "          const docLink = document.createElement('div');\n",
              "          docLink.innerHTML = docLinkHtml;\n",
              "          element.appendChild(docLink);\n",
              "        }\n",
              "      </script>\n",
              "    </div>\n",
              "  </div>\n",
              "  "
            ],
            "text/plain": [
              "             ID         label\n",
              "0     TEST_0000  사실형-긍정-현재-확실\n",
              "1     TEST_0001  사실형-긍정-현재-확실\n",
              "2     TEST_0002  사실형-긍정-과거-확실\n",
              "3     TEST_0003  사실형-긍정-과거-확실\n",
              "4     TEST_0004  사실형-긍정-과거-확실\n",
              "...         ...           ...\n",
              "7085  TEST_7085  사실형-긍정-현재-확실\n",
              "7086  TEST_7086  추론형-긍정-현재-확실\n",
              "7087  TEST_7087  사실형-긍정-현재-확실\n",
              "7088  TEST_7088  추론형-긍정-미래-확실\n",
              "7089  TEST_7089  사실형-긍정-과거-확실\n",
              "\n",
              "[7090 rows x 2 columns]"
            ]
          },
          "execution_count": 252,
          "metadata": {},
          "output_type": "execute_result"
        }
      ],
      "source": [
        "submit"
      ]
    },
    {
      "cell_type": "code",
      "execution_count": null,
      "metadata": {
        "id": "eQc7c5PEff74"
      },
      "outputs": [],
      "source": [
        "submit.to_csv('submit_bert_focal.csv', index=False, encoding='utf-8-sig')"
      ]
    }
  ],
  "metadata": {
    "accelerator": "TPU",
    "colab": {
      "collapsed_sections": [
        "LvRXKRdDDvLn",
        "ZfE7oApNEGUK",
        "2G-_ChhqFXmz",
        "ihbFgXM8P0_8",
        "ITiJAkAlTq6c"
      ],
      "machine_shape": "hm",
      "provenance": []
    },
    "gpuClass": "standard",
    "kernelspec": {
      "display_name": "Python 3",
      "name": "python3"
    },
    "language_info": {
      "name": "python"
    },
    "widgets": {
      "application/vnd.jupyter.widget-state+json": {
        "003606d5458a4715868c654da72e7c3a": {
          "model_module": "@jupyter-widgets/base",
          "model_module_version": "1.2.0",
          "model_name": "LayoutModel",
          "state": {
            "_model_module": "@jupyter-widgets/base",
            "_model_module_version": "1.2.0",
            "_model_name": "LayoutModel",
            "_view_count": null,
            "_view_module": "@jupyter-widgets/base",
            "_view_module_version": "1.2.0",
            "_view_name": "LayoutView",
            "align_content": null,
            "align_items": null,
            "align_self": null,
            "border": null,
            "bottom": null,
            "display": null,
            "flex": null,
            "flex_flow": null,
            "grid_area": null,
            "grid_auto_columns": null,
            "grid_auto_flow": null,
            "grid_auto_rows": null,
            "grid_column": null,
            "grid_gap": null,
            "grid_row": null,
            "grid_template_areas": null,
            "grid_template_columns": null,
            "grid_template_rows": null,
            "height": null,
            "justify_content": null,
            "justify_items": null,
            "left": null,
            "margin": null,
            "max_height": null,
            "max_width": null,
            "min_height": null,
            "min_width": null,
            "object_fit": null,
            "object_position": null,
            "order": null,
            "overflow": null,
            "overflow_x": null,
            "overflow_y": null,
            "padding": null,
            "right": null,
            "top": null,
            "visibility": null,
            "width": null
          }
        },
        "018ddef8a08b42b0a9711e86c206cc87": {
          "model_module": "@jupyter-widgets/controls",
          "model_module_version": "1.5.0",
          "model_name": "ButtonStyleModel",
          "state": {
            "_model_module": "@jupyter-widgets/controls",
            "_model_module_version": "1.5.0",
            "_model_name": "ButtonStyleModel",
            "_view_count": null,
            "_view_module": "@jupyter-widgets/base",
            "_view_module_version": "1.2.0",
            "_view_name": "StyleView",
            "button_color": null,
            "font_weight": ""
          }
        },
        "02ffe364196b4cde95cef8902c7f3628": {
          "model_module": "@jupyter-widgets/base",
          "model_module_version": "1.2.0",
          "model_name": "LayoutModel",
          "state": {
            "_model_module": "@jupyter-widgets/base",
            "_model_module_version": "1.2.0",
            "_model_name": "LayoutModel",
            "_view_count": null,
            "_view_module": "@jupyter-widgets/base",
            "_view_module_version": "1.2.0",
            "_view_name": "LayoutView",
            "align_content": null,
            "align_items": null,
            "align_self": null,
            "border": null,
            "bottom": null,
            "display": null,
            "flex": null,
            "flex_flow": null,
            "grid_area": null,
            "grid_auto_columns": null,
            "grid_auto_flow": null,
            "grid_auto_rows": null,
            "grid_column": null,
            "grid_gap": null,
            "grid_row": null,
            "grid_template_areas": null,
            "grid_template_columns": null,
            "grid_template_rows": null,
            "height": null,
            "justify_content": null,
            "justify_items": null,
            "left": null,
            "margin": null,
            "max_height": null,
            "max_width": null,
            "min_height": null,
            "min_width": null,
            "object_fit": null,
            "object_position": null,
            "order": null,
            "overflow": null,
            "overflow_x": null,
            "overflow_y": null,
            "padding": null,
            "right": null,
            "top": null,
            "visibility": null,
            "width": null
          }
        },
        "038d91a45ada44138ea2b509a2e60dc0": {
          "model_module": "@jupyter-widgets/controls",
          "model_module_version": "1.5.0",
          "model_name": "HTMLModel",
          "state": {
            "_dom_classes": [],
            "_model_module": "@jupyter-widgets/controls",
            "_model_module_version": "1.5.0",
            "_model_name": "HTMLModel",
            "_view_count": null,
            "_view_module": "@jupyter-widgets/controls",
            "_view_module_version": "1.5.0",
            "_view_name": "HTMLView",
            "description": "",
            "description_tooltip": null,
            "layout": "IPY_MODEL_b263ae1f2db84c6d98bc4963146997c2",
            "placeholder": "​",
            "style": "IPY_MODEL_8db6d487fe20466ab8e47f1d8ed138ce",
            "value": "Saving the dataset (1/1 shards): 100%"
          }
        },
        "03b890442ce149d1b984852fd7ebc770": {
          "model_module": "@jupyter-widgets/controls",
          "model_module_version": "1.5.0",
          "model_name": "HTMLModel",
          "state": {
            "_dom_classes": [],
            "_model_module": "@jupyter-widgets/controls",
            "_model_module_version": "1.5.0",
            "_model_name": "HTMLModel",
            "_view_count": null,
            "_view_module": "@jupyter-widgets/controls",
            "_view_module_version": "1.5.0",
            "_view_name": "HTMLView",
            "description": "",
            "description_tooltip": null,
            "layout": "IPY_MODEL_8ca31299db9b4fbe997ba64023e9462a",
            "placeholder": "​",
            "style": "IPY_MODEL_ae8cd8923e2e486eb67a6b46c8654b3f",
            "value": "Map: 100%"
          }
        },
        "0407768593ab4ede8f9a2c8cc201d7d8": {
          "model_module": "@jupyter-widgets/controls",
          "model_module_version": "1.5.0",
          "model_name": "HBoxModel",
          "state": {
            "_dom_classes": [],
            "_model_module": "@jupyter-widgets/controls",
            "_model_module_version": "1.5.0",
            "_model_name": "HBoxModel",
            "_view_count": null,
            "_view_module": "@jupyter-widgets/controls",
            "_view_module_version": "1.5.0",
            "_view_name": "HBoxView",
            "box_style": "",
            "children": [
              "IPY_MODEL_2e83146d74244cbb9a208848c6a12d45",
              "IPY_MODEL_884f35bf85224d539e6caefd6ec0d17a",
              "IPY_MODEL_d1af110500a44b59a6129768cabcabfc"
            ],
            "layout": "IPY_MODEL_7aa142d78e684e6fb74511f7c5e3faa1"
          }
        },
        "07d17d398bc74ac0bbcab21d0314fd4c": {
          "model_module": "@jupyter-widgets/controls",
          "model_module_version": "1.5.0",
          "model_name": "CheckboxModel",
          "state": {
            "_dom_classes": [],
            "_model_module": "@jupyter-widgets/controls",
            "_model_module_version": "1.5.0",
            "_model_name": "CheckboxModel",
            "_view_count": null,
            "_view_module": "@jupyter-widgets/controls",
            "_view_module_version": "1.5.0",
            "_view_name": "CheckboxView",
            "description": "Add token as git credential?",
            "description_tooltip": null,
            "disabled": false,
            "indent": true,
            "layout": "IPY_MODEL_2110c15230434c61a85f3ac8bc38bac4",
            "style": "IPY_MODEL_c8bbac9297144ba88e35511fc80d7123",
            "value": false
          }
        },
        "0c308baebe0149a395311a871a4814e1": {
          "model_module": "@jupyter-widgets/base",
          "model_module_version": "1.2.0",
          "model_name": "LayoutModel",
          "state": {
            "_model_module": "@jupyter-widgets/base",
            "_model_module_version": "1.2.0",
            "_model_name": "LayoutModel",
            "_view_count": null,
            "_view_module": "@jupyter-widgets/base",
            "_view_module_version": "1.2.0",
            "_view_name": "LayoutView",
            "align_content": null,
            "align_items": null,
            "align_self": null,
            "border": null,
            "bottom": null,
            "display": null,
            "flex": null,
            "flex_flow": null,
            "grid_area": null,
            "grid_auto_columns": null,
            "grid_auto_flow": null,
            "grid_auto_rows": null,
            "grid_column": null,
            "grid_gap": null,
            "grid_row": null,
            "grid_template_areas": null,
            "grid_template_columns": null,
            "grid_template_rows": null,
            "height": null,
            "justify_content": null,
            "justify_items": null,
            "left": null,
            "margin": null,
            "max_height": null,
            "max_width": null,
            "min_height": null,
            "min_width": null,
            "object_fit": null,
            "object_position": null,
            "order": null,
            "overflow": null,
            "overflow_x": null,
            "overflow_y": null,
            "padding": null,
            "right": null,
            "top": null,
            "visibility": null,
            "width": null
          }
        },
        "0d9cced8bc0a417aa72d7e43cfa90a1b": {
          "model_module": "@jupyter-widgets/base",
          "model_module_version": "1.2.0",
          "model_name": "LayoutModel",
          "state": {
            "_model_module": "@jupyter-widgets/base",
            "_model_module_version": "1.2.0",
            "_model_name": "LayoutModel",
            "_view_count": null,
            "_view_module": "@jupyter-widgets/base",
            "_view_module_version": "1.2.0",
            "_view_name": "LayoutView",
            "align_content": null,
            "align_items": null,
            "align_self": null,
            "border": null,
            "bottom": null,
            "display": null,
            "flex": null,
            "flex_flow": null,
            "grid_area": null,
            "grid_auto_columns": null,
            "grid_auto_flow": null,
            "grid_auto_rows": null,
            "grid_column": null,
            "grid_gap": null,
            "grid_row": null,
            "grid_template_areas": null,
            "grid_template_columns": null,
            "grid_template_rows": null,
            "height": null,
            "justify_content": null,
            "justify_items": null,
            "left": null,
            "margin": null,
            "max_height": null,
            "max_width": null,
            "min_height": null,
            "min_width": null,
            "object_fit": null,
            "object_position": null,
            "order": null,
            "overflow": null,
            "overflow_x": null,
            "overflow_y": null,
            "padding": null,
            "right": null,
            "top": null,
            "visibility": null,
            "width": null
          }
        },
        "1011ff8f5e374e4a9af080782789ad9e": {
          "model_module": "@jupyter-widgets/base",
          "model_module_version": "1.2.0",
          "model_name": "LayoutModel",
          "state": {
            "_model_module": "@jupyter-widgets/base",
            "_model_module_version": "1.2.0",
            "_model_name": "LayoutModel",
            "_view_count": null,
            "_view_module": "@jupyter-widgets/base",
            "_view_module_version": "1.2.0",
            "_view_name": "LayoutView",
            "align_content": null,
            "align_items": "center",
            "align_self": null,
            "border": null,
            "bottom": null,
            "display": "flex",
            "flex": null,
            "flex_flow": "column",
            "grid_area": null,
            "grid_auto_columns": null,
            "grid_auto_flow": null,
            "grid_auto_rows": null,
            "grid_column": null,
            "grid_gap": null,
            "grid_row": null,
            "grid_template_areas": null,
            "grid_template_columns": null,
            "grid_template_rows": null,
            "height": null,
            "justify_content": null,
            "justify_items": null,
            "left": null,
            "margin": null,
            "max_height": null,
            "max_width": null,
            "min_height": null,
            "min_width": null,
            "object_fit": null,
            "object_position": null,
            "order": null,
            "overflow": null,
            "overflow_x": null,
            "overflow_y": null,
            "padding": null,
            "right": null,
            "top": null,
            "visibility": null,
            "width": "50%"
          }
        },
        "1799adea8eb54a4c84148a4a1d277c33": {
          "model_module": "@jupyter-widgets/controls",
          "model_module_version": "1.5.0",
          "model_name": "ProgressStyleModel",
          "state": {
            "_model_module": "@jupyter-widgets/controls",
            "_model_module_version": "1.5.0",
            "_model_name": "ProgressStyleModel",
            "_view_count": null,
            "_view_module": "@jupyter-widgets/base",
            "_view_module_version": "1.2.0",
            "_view_name": "StyleView",
            "bar_color": null,
            "description_width": ""
          }
        },
        "17c9a402fd2e4bdb9e86cd0d69d095e9": {
          "model_module": "@jupyter-widgets/base",
          "model_module_version": "1.2.0",
          "model_name": "LayoutModel",
          "state": {
            "_model_module": "@jupyter-widgets/base",
            "_model_module_version": "1.2.0",
            "_model_name": "LayoutModel",
            "_view_count": null,
            "_view_module": "@jupyter-widgets/base",
            "_view_module_version": "1.2.0",
            "_view_name": "LayoutView",
            "align_content": null,
            "align_items": null,
            "align_self": null,
            "border": null,
            "bottom": null,
            "display": null,
            "flex": null,
            "flex_flow": null,
            "grid_area": null,
            "grid_auto_columns": null,
            "grid_auto_flow": null,
            "grid_auto_rows": null,
            "grid_column": null,
            "grid_gap": null,
            "grid_row": null,
            "grid_template_areas": null,
            "grid_template_columns": null,
            "grid_template_rows": null,
            "height": null,
            "justify_content": null,
            "justify_items": null,
            "left": null,
            "margin": null,
            "max_height": null,
            "max_width": null,
            "min_height": null,
            "min_width": null,
            "object_fit": null,
            "object_position": null,
            "order": null,
            "overflow": null,
            "overflow_x": null,
            "overflow_y": null,
            "padding": null,
            "right": null,
            "top": null,
            "visibility": "hidden",
            "width": null
          }
        },
        "19dc880ca2a04531bfe84df2f086cb27": {
          "model_module": "@jupyter-widgets/base",
          "model_module_version": "1.2.0",
          "model_name": "LayoutModel",
          "state": {
            "_model_module": "@jupyter-widgets/base",
            "_model_module_version": "1.2.0",
            "_model_name": "LayoutModel",
            "_view_count": null,
            "_view_module": "@jupyter-widgets/base",
            "_view_module_version": "1.2.0",
            "_view_name": "LayoutView",
            "align_content": null,
            "align_items": null,
            "align_self": null,
            "border": null,
            "bottom": null,
            "display": null,
            "flex": null,
            "flex_flow": null,
            "grid_area": null,
            "grid_auto_columns": null,
            "grid_auto_flow": null,
            "grid_auto_rows": null,
            "grid_column": null,
            "grid_gap": null,
            "grid_row": null,
            "grid_template_areas": null,
            "grid_template_columns": null,
            "grid_template_rows": null,
            "height": null,
            "justify_content": null,
            "justify_items": null,
            "left": null,
            "margin": null,
            "max_height": null,
            "max_width": null,
            "min_height": null,
            "min_width": null,
            "object_fit": null,
            "object_position": null,
            "order": null,
            "overflow": null,
            "overflow_x": null,
            "overflow_y": null,
            "padding": null,
            "right": null,
            "top": null,
            "visibility": null,
            "width": null
          }
        },
        "1b165057f61449e58eb201f3598c1215": {
          "model_module": "@jupyter-widgets/base",
          "model_module_version": "1.2.0",
          "model_name": "LayoutModel",
          "state": {
            "_model_module": "@jupyter-widgets/base",
            "_model_module_version": "1.2.0",
            "_model_name": "LayoutModel",
            "_view_count": null,
            "_view_module": "@jupyter-widgets/base",
            "_view_module_version": "1.2.0",
            "_view_name": "LayoutView",
            "align_content": null,
            "align_items": null,
            "align_self": null,
            "border": null,
            "bottom": null,
            "display": null,
            "flex": null,
            "flex_flow": null,
            "grid_area": null,
            "grid_auto_columns": null,
            "grid_auto_flow": null,
            "grid_auto_rows": null,
            "grid_column": null,
            "grid_gap": null,
            "grid_row": null,
            "grid_template_areas": null,
            "grid_template_columns": null,
            "grid_template_rows": null,
            "height": null,
            "justify_content": null,
            "justify_items": null,
            "left": null,
            "margin": null,
            "max_height": null,
            "max_width": null,
            "min_height": null,
            "min_width": null,
            "object_fit": null,
            "object_position": null,
            "order": null,
            "overflow": null,
            "overflow_x": null,
            "overflow_y": null,
            "padding": null,
            "right": null,
            "top": null,
            "visibility": null,
            "width": null
          }
        },
        "1bd0e7e9891c44c0bfa3856d3b7505ea": {
          "model_module": "@jupyter-widgets/base",
          "model_module_version": "1.2.0",
          "model_name": "LayoutModel",
          "state": {
            "_model_module": "@jupyter-widgets/base",
            "_model_module_version": "1.2.0",
            "_model_name": "LayoutModel",
            "_view_count": null,
            "_view_module": "@jupyter-widgets/base",
            "_view_module_version": "1.2.0",
            "_view_name": "LayoutView",
            "align_content": null,
            "align_items": null,
            "align_self": null,
            "border": null,
            "bottom": null,
            "display": null,
            "flex": null,
            "flex_flow": null,
            "grid_area": null,
            "grid_auto_columns": null,
            "grid_auto_flow": null,
            "grid_auto_rows": null,
            "grid_column": null,
            "grid_gap": null,
            "grid_row": null,
            "grid_template_areas": null,
            "grid_template_columns": null,
            "grid_template_rows": null,
            "height": null,
            "justify_content": null,
            "justify_items": null,
            "left": null,
            "margin": null,
            "max_height": null,
            "max_width": null,
            "min_height": null,
            "min_width": null,
            "object_fit": null,
            "object_position": null,
            "order": null,
            "overflow": null,
            "overflow_x": null,
            "overflow_y": null,
            "padding": null,
            "right": null,
            "top": null,
            "visibility": null,
            "width": null
          }
        },
        "1befaef2def94684adf94ef38526c8a3": {
          "model_module": "@jupyter-widgets/base",
          "model_module_version": "1.2.0",
          "model_name": "LayoutModel",
          "state": {
            "_model_module": "@jupyter-widgets/base",
            "_model_module_version": "1.2.0",
            "_model_name": "LayoutModel",
            "_view_count": null,
            "_view_module": "@jupyter-widgets/base",
            "_view_module_version": "1.2.0",
            "_view_name": "LayoutView",
            "align_content": null,
            "align_items": null,
            "align_self": null,
            "border": null,
            "bottom": null,
            "display": null,
            "flex": null,
            "flex_flow": null,
            "grid_area": null,
            "grid_auto_columns": null,
            "grid_auto_flow": null,
            "grid_auto_rows": null,
            "grid_column": null,
            "grid_gap": null,
            "grid_row": null,
            "grid_template_areas": null,
            "grid_template_columns": null,
            "grid_template_rows": null,
            "height": null,
            "justify_content": null,
            "justify_items": null,
            "left": null,
            "margin": null,
            "max_height": null,
            "max_width": null,
            "min_height": null,
            "min_width": null,
            "object_fit": null,
            "object_position": null,
            "order": null,
            "overflow": null,
            "overflow_x": null,
            "overflow_y": null,
            "padding": null,
            "right": null,
            "top": null,
            "visibility": null,
            "width": null
          }
        },
        "1ef78aa759d84ab48d4eead90eedc1a5": {
          "model_module": "@jupyter-widgets/controls",
          "model_module_version": "1.5.0",
          "model_name": "HBoxModel",
          "state": {
            "_dom_classes": [],
            "_model_module": "@jupyter-widgets/controls",
            "_model_module_version": "1.5.0",
            "_model_name": "HBoxModel",
            "_view_count": null,
            "_view_module": "@jupyter-widgets/controls",
            "_view_module_version": "1.5.0",
            "_view_name": "HBoxView",
            "box_style": "",
            "children": [
              "IPY_MODEL_a5c3a505f6fa46d1984e10d1380104a2",
              "IPY_MODEL_812ec702d91d45cbba41d227bef77f86",
              "IPY_MODEL_4fbcabaa3f15454bac62cbac9176a09c"
            ],
            "layout": "IPY_MODEL_ec573723a53049258ab14ba9c28f5722"
          }
        },
        "2110c15230434c61a85f3ac8bc38bac4": {
          "model_module": "@jupyter-widgets/base",
          "model_module_version": "1.2.0",
          "model_name": "LayoutModel",
          "state": {
            "_model_module": "@jupyter-widgets/base",
            "_model_module_version": "1.2.0",
            "_model_name": "LayoutModel",
            "_view_count": null,
            "_view_module": "@jupyter-widgets/base",
            "_view_module_version": "1.2.0",
            "_view_name": "LayoutView",
            "align_content": null,
            "align_items": null,
            "align_self": null,
            "border": null,
            "bottom": null,
            "display": null,
            "flex": null,
            "flex_flow": null,
            "grid_area": null,
            "grid_auto_columns": null,
            "grid_auto_flow": null,
            "grid_auto_rows": null,
            "grid_column": null,
            "grid_gap": null,
            "grid_row": null,
            "grid_template_areas": null,
            "grid_template_columns": null,
            "grid_template_rows": null,
            "height": null,
            "justify_content": null,
            "justify_items": null,
            "left": null,
            "margin": null,
            "max_height": null,
            "max_width": null,
            "min_height": null,
            "min_width": null,
            "object_fit": null,
            "object_position": null,
            "order": null,
            "overflow": null,
            "overflow_x": null,
            "overflow_y": null,
            "padding": null,
            "right": null,
            "top": null,
            "visibility": null,
            "width": null
          }
        },
        "21c9b110e36f4471b6a145bd037360c8": {
          "model_module": "@jupyter-widgets/controls",
          "model_module_version": "1.5.0",
          "model_name": "FloatProgressModel",
          "state": {
            "_dom_classes": [],
            "_model_module": "@jupyter-widgets/controls",
            "_model_module_version": "1.5.0",
            "_model_name": "FloatProgressModel",
            "_view_count": null,
            "_view_module": "@jupyter-widgets/controls",
            "_view_module_version": "1.5.0",
            "_view_name": "ProgressView",
            "bar_style": "",
            "description": "",
            "description_tooltip": null,
            "layout": "IPY_MODEL_562b36deaba64255bafc76371938f18c",
            "max": 7090,
            "min": 0,
            "orientation": "horizontal",
            "style": "IPY_MODEL_760eae6e0cb945fdab945bcd9d7fb563",
            "value": 7090
          }
        },
        "23fa37de4f534d37bfa0eb00cf31179a": {
          "model_module": "@jupyter-widgets/controls",
          "model_module_version": "1.5.0",
          "model_name": "FloatProgressModel",
          "state": {
            "_dom_classes": [],
            "_model_module": "@jupyter-widgets/controls",
            "_model_module_version": "1.5.0",
            "_model_name": "FloatProgressModel",
            "_view_count": null,
            "_view_module": "@jupyter-widgets/controls",
            "_view_module_version": "1.5.0",
            "_view_name": "ProgressView",
            "bar_style": "",
            "description": "",
            "description_tooltip": null,
            "layout": "IPY_MODEL_ce2289a9a58d42cca4bb25fc49b8bba9",
            "max": 7946,
            "min": 0,
            "orientation": "horizontal",
            "style": "IPY_MODEL_3b6da6c326104a359cc133adfe38a472",
            "value": 7946
          }
        },
        "24839cf6d0b64f7389d9b215c5b12495": {
          "model_module": "@jupyter-widgets/controls",
          "model_module_version": "1.5.0",
          "model_name": "HTMLModel",
          "state": {
            "_dom_classes": [],
            "_model_module": "@jupyter-widgets/controls",
            "_model_module_version": "1.5.0",
            "_model_name": "HTMLModel",
            "_view_count": null,
            "_view_module": "@jupyter-widgets/controls",
            "_view_module_version": "1.5.0",
            "_view_name": "HTMLView",
            "description": "",
            "description_tooltip": null,
            "layout": "IPY_MODEL_02ffe364196b4cde95cef8902c7f3628",
            "placeholder": "​",
            "style": "IPY_MODEL_9b1017040d6b4a1fbe8fbc7dd072b006",
            "value": " 30708/30708 [54:51&lt;00:00,  9.72 examples/s]"
          }
        },
        "257243ab9c8e4ff08dc247faf580bb7d": {
          "model_module": "@jupyter-widgets/controls",
          "model_module_version": "1.5.0",
          "model_name": "HBoxModel",
          "state": {
            "_dom_classes": [],
            "_model_module": "@jupyter-widgets/controls",
            "_model_module_version": "1.5.0",
            "_model_name": "HBoxModel",
            "_view_count": null,
            "_view_module": "@jupyter-widgets/controls",
            "_view_module_version": "1.5.0",
            "_view_name": "HBoxView",
            "box_style": "",
            "children": [
              "IPY_MODEL_dbc8c49abca848c093d4ab0ad710719d",
              "IPY_MODEL_43917a580c194c1a97653122c1a691fe",
              "IPY_MODEL_fe91a39fff5d4f7a973bc176cf2d4e93"
            ],
            "layout": "IPY_MODEL_f9f81bc136c2453ea796dbca76252eed"
          }
        },
        "290bc5d5a231428b96ef4c591ec06b58": {
          "model_module": "@jupyter-widgets/controls",
          "model_module_version": "1.5.0",
          "model_name": "ProgressStyleModel",
          "state": {
            "_model_module": "@jupyter-widgets/controls",
            "_model_module_version": "1.5.0",
            "_model_name": "ProgressStyleModel",
            "_view_count": null,
            "_view_module": "@jupyter-widgets/base",
            "_view_module_version": "1.2.0",
            "_view_name": "StyleView",
            "bar_color": null,
            "description_width": ""
          }
        },
        "290d95aebe494ff287ec3644ce59fdad": {
          "model_module": "@jupyter-widgets/controls",
          "model_module_version": "1.5.0",
          "model_name": "HBoxModel",
          "state": {
            "_dom_classes": [],
            "_model_module": "@jupyter-widgets/controls",
            "_model_module_version": "1.5.0",
            "_model_name": "HBoxModel",
            "_view_count": null,
            "_view_module": "@jupyter-widgets/controls",
            "_view_module_version": "1.5.0",
            "_view_name": "HBoxView",
            "box_style": "",
            "children": [
              "IPY_MODEL_038d91a45ada44138ea2b509a2e60dc0",
              "IPY_MODEL_23fa37de4f534d37bfa0eb00cf31179a",
              "IPY_MODEL_5bdf303f0ce04439a0b42c0fb2e18c97"
            ],
            "layout": "IPY_MODEL_bad90619c0e5440a9c88814dd81ea148"
          }
        },
        "291ee187e6a04e239b0558f81b6c77f2": {
          "model_module": "@jupyter-widgets/controls",
          "model_module_version": "1.5.0",
          "model_name": "HTMLModel",
          "state": {
            "_dom_classes": [],
            "_model_module": "@jupyter-widgets/controls",
            "_model_module_version": "1.5.0",
            "_model_name": "HTMLModel",
            "_view_count": null,
            "_view_module": "@jupyter-widgets/controls",
            "_view_module_version": "1.5.0",
            "_view_name": "HTMLView",
            "description": "",
            "description_tooltip": null,
            "layout": "IPY_MODEL_1b165057f61449e58eb201f3598c1215",
            "placeholder": "​",
            "style": "IPY_MODEL_775031e84eb54b639e30bd85308b4b7c",
            "value": "<center> <img\nsrc=https://huggingface.co/front/assets/huggingface_logo-noborder.svg\nalt='Hugging Face'> <br> Copy a token from <a\nhref=\"https://huggingface.co/settings/tokens\" target=\"_blank\">your Hugging Face\ntokens page</a> and paste it below. <br> Immediately click login after copying\nyour token or it might be stored in plain text in this notebook file. </center>"
          }
        },
        "2c745fd839144a81aba59f096a6ec148": {
          "model_module": "@jupyter-widgets/base",
          "model_module_version": "1.2.0",
          "model_name": "LayoutModel",
          "state": {
            "_model_module": "@jupyter-widgets/base",
            "_model_module_version": "1.2.0",
            "_model_name": "LayoutModel",
            "_view_count": null,
            "_view_module": "@jupyter-widgets/base",
            "_view_module_version": "1.2.0",
            "_view_name": "LayoutView",
            "align_content": null,
            "align_items": null,
            "align_self": null,
            "border": null,
            "bottom": null,
            "display": null,
            "flex": null,
            "flex_flow": null,
            "grid_area": null,
            "grid_auto_columns": null,
            "grid_auto_flow": null,
            "grid_auto_rows": null,
            "grid_column": null,
            "grid_gap": null,
            "grid_row": null,
            "grid_template_areas": null,
            "grid_template_columns": null,
            "grid_template_rows": null,
            "height": null,
            "justify_content": null,
            "justify_items": null,
            "left": null,
            "margin": null,
            "max_height": null,
            "max_width": null,
            "min_height": null,
            "min_width": null,
            "object_fit": null,
            "object_position": null,
            "order": null,
            "overflow": null,
            "overflow_x": null,
            "overflow_y": null,
            "padding": null,
            "right": null,
            "top": null,
            "visibility": null,
            "width": null
          }
        },
        "2e2c01d8ffea4d138ef11ddd520faef0": {
          "model_module": "@jupyter-widgets/base",
          "model_module_version": "1.2.0",
          "model_name": "LayoutModel",
          "state": {
            "_model_module": "@jupyter-widgets/base",
            "_model_module_version": "1.2.0",
            "_model_name": "LayoutModel",
            "_view_count": null,
            "_view_module": "@jupyter-widgets/base",
            "_view_module_version": "1.2.0",
            "_view_name": "LayoutView",
            "align_content": null,
            "align_items": null,
            "align_self": null,
            "border": null,
            "bottom": null,
            "display": null,
            "flex": null,
            "flex_flow": null,
            "grid_area": null,
            "grid_auto_columns": null,
            "grid_auto_flow": null,
            "grid_auto_rows": null,
            "grid_column": null,
            "grid_gap": null,
            "grid_row": null,
            "grid_template_areas": null,
            "grid_template_columns": null,
            "grid_template_rows": null,
            "height": null,
            "justify_content": null,
            "justify_items": null,
            "left": null,
            "margin": null,
            "max_height": null,
            "max_width": null,
            "min_height": null,
            "min_width": null,
            "object_fit": null,
            "object_position": null,
            "order": null,
            "overflow": null,
            "overflow_x": null,
            "overflow_y": null,
            "padding": null,
            "right": null,
            "top": null,
            "visibility": "hidden",
            "width": null
          }
        },
        "2e83146d74244cbb9a208848c6a12d45": {
          "model_module": "@jupyter-widgets/controls",
          "model_module_version": "1.5.0",
          "model_name": "HTMLModel",
          "state": {
            "_dom_classes": [],
            "_model_module": "@jupyter-widgets/controls",
            "_model_module_version": "1.5.0",
            "_model_name": "HTMLModel",
            "_view_count": null,
            "_view_module": "@jupyter-widgets/controls",
            "_view_module_version": "1.5.0",
            "_view_name": "HTMLView",
            "description": "",
            "description_tooltip": null,
            "layout": "IPY_MODEL_1bd0e7e9891c44c0bfa3856d3b7505ea",
            "placeholder": "​",
            "style": "IPY_MODEL_8dbd9c22ddca4d19afcb596390ef8240",
            "value": "Map: 100%"
          }
        },
        "2eb43d9fd6284a268babf7771fa5df3c": {
          "model_module": "@jupyter-widgets/controls",
          "model_module_version": "1.5.0",
          "model_name": "DescriptionStyleModel",
          "state": {
            "_model_module": "@jupyter-widgets/controls",
            "_model_module_version": "1.5.0",
            "_model_name": "DescriptionStyleModel",
            "_view_count": null,
            "_view_module": "@jupyter-widgets/base",
            "_view_module_version": "1.2.0",
            "_view_name": "StyleView",
            "description_width": ""
          }
        },
        "2fc867f615014955be9d7d1fb0502a37": {
          "model_module": "@jupyter-widgets/controls",
          "model_module_version": "1.5.0",
          "model_name": "FloatProgressModel",
          "state": {
            "_dom_classes": [],
            "_model_module": "@jupyter-widgets/controls",
            "_model_module_version": "1.5.0",
            "_model_name": "FloatProgressModel",
            "_view_count": null,
            "_view_module": "@jupyter-widgets/controls",
            "_view_module_version": "1.5.0",
            "_view_name": "ProgressView",
            "bar_style": "",
            "description": "",
            "description_tooltip": null,
            "layout": "IPY_MODEL_a50549e49d0449f1bbec8657f8b8cff4",
            "max": 30708,
            "min": 0,
            "orientation": "horizontal",
            "style": "IPY_MODEL_bab8ddd201f2451eabd0f8ae92faf8c6",
            "value": 30708
          }
        },
        "31ef5bdd615d4ba29ee2c7917eea92fe": {
          "model_module": "@jupyter-widgets/base",
          "model_module_version": "1.2.0",
          "model_name": "LayoutModel",
          "state": {
            "_model_module": "@jupyter-widgets/base",
            "_model_module_version": "1.2.0",
            "_model_name": "LayoutModel",
            "_view_count": null,
            "_view_module": "@jupyter-widgets/base",
            "_view_module_version": "1.2.0",
            "_view_name": "LayoutView",
            "align_content": null,
            "align_items": null,
            "align_self": null,
            "border": null,
            "bottom": null,
            "display": null,
            "flex": null,
            "flex_flow": null,
            "grid_area": null,
            "grid_auto_columns": null,
            "grid_auto_flow": null,
            "grid_auto_rows": null,
            "grid_column": null,
            "grid_gap": null,
            "grid_row": null,
            "grid_template_areas": null,
            "grid_template_columns": null,
            "grid_template_rows": null,
            "height": null,
            "justify_content": null,
            "justify_items": null,
            "left": null,
            "margin": null,
            "max_height": null,
            "max_width": null,
            "min_height": null,
            "min_width": null,
            "object_fit": null,
            "object_position": null,
            "order": null,
            "overflow": null,
            "overflow_x": null,
            "overflow_y": null,
            "padding": null,
            "right": null,
            "top": null,
            "visibility": null,
            "width": null
          }
        },
        "35c3d4f5940f49beaca22ac5b871330d": {
          "model_module": "@jupyter-widgets/base",
          "model_module_version": "1.2.0",
          "model_name": "LayoutModel",
          "state": {
            "_model_module": "@jupyter-widgets/base",
            "_model_module_version": "1.2.0",
            "_model_name": "LayoutModel",
            "_view_count": null,
            "_view_module": "@jupyter-widgets/base",
            "_view_module_version": "1.2.0",
            "_view_name": "LayoutView",
            "align_content": null,
            "align_items": null,
            "align_self": null,
            "border": null,
            "bottom": null,
            "display": null,
            "flex": null,
            "flex_flow": null,
            "grid_area": null,
            "grid_auto_columns": null,
            "grid_auto_flow": null,
            "grid_auto_rows": null,
            "grid_column": null,
            "grid_gap": null,
            "grid_row": null,
            "grid_template_areas": null,
            "grid_template_columns": null,
            "grid_template_rows": null,
            "height": null,
            "justify_content": null,
            "justify_items": null,
            "left": null,
            "margin": null,
            "max_height": null,
            "max_width": null,
            "min_height": null,
            "min_width": null,
            "object_fit": null,
            "object_position": null,
            "order": null,
            "overflow": null,
            "overflow_x": null,
            "overflow_y": null,
            "padding": null,
            "right": null,
            "top": null,
            "visibility": null,
            "width": null
          }
        },
        "36bdaa0507db4cc1a2d11687f557b747": {
          "model_module": "@jupyter-widgets/base",
          "model_module_version": "1.2.0",
          "model_name": "LayoutModel",
          "state": {
            "_model_module": "@jupyter-widgets/base",
            "_model_module_version": "1.2.0",
            "_model_name": "LayoutModel",
            "_view_count": null,
            "_view_module": "@jupyter-widgets/base",
            "_view_module_version": "1.2.0",
            "_view_name": "LayoutView",
            "align_content": null,
            "align_items": null,
            "align_self": null,
            "border": null,
            "bottom": null,
            "display": null,
            "flex": null,
            "flex_flow": null,
            "grid_area": null,
            "grid_auto_columns": null,
            "grid_auto_flow": null,
            "grid_auto_rows": null,
            "grid_column": null,
            "grid_gap": null,
            "grid_row": null,
            "grid_template_areas": null,
            "grid_template_columns": null,
            "grid_template_rows": null,
            "height": null,
            "justify_content": null,
            "justify_items": null,
            "left": null,
            "margin": null,
            "max_height": null,
            "max_width": null,
            "min_height": null,
            "min_width": null,
            "object_fit": null,
            "object_position": null,
            "order": null,
            "overflow": null,
            "overflow_x": null,
            "overflow_y": null,
            "padding": null,
            "right": null,
            "top": null,
            "visibility": null,
            "width": null
          }
        },
        "370a4266b54c4c6b964472ea5f65f543": {
          "model_module": "@jupyter-widgets/base",
          "model_module_version": "1.2.0",
          "model_name": "LayoutModel",
          "state": {
            "_model_module": "@jupyter-widgets/base",
            "_model_module_version": "1.2.0",
            "_model_name": "LayoutModel",
            "_view_count": null,
            "_view_module": "@jupyter-widgets/base",
            "_view_module_version": "1.2.0",
            "_view_name": "LayoutView",
            "align_content": null,
            "align_items": null,
            "align_self": null,
            "border": null,
            "bottom": null,
            "display": null,
            "flex": null,
            "flex_flow": null,
            "grid_area": null,
            "grid_auto_columns": null,
            "grid_auto_flow": null,
            "grid_auto_rows": null,
            "grid_column": null,
            "grid_gap": null,
            "grid_row": null,
            "grid_template_areas": null,
            "grid_template_columns": null,
            "grid_template_rows": null,
            "height": null,
            "justify_content": null,
            "justify_items": null,
            "left": null,
            "margin": null,
            "max_height": null,
            "max_width": null,
            "min_height": null,
            "min_width": null,
            "object_fit": null,
            "object_position": null,
            "order": null,
            "overflow": null,
            "overflow_x": null,
            "overflow_y": null,
            "padding": null,
            "right": null,
            "top": null,
            "visibility": null,
            "width": null
          }
        },
        "372f0a715b1b45ccaeb9131429ca9b2d": {
          "model_module": "@jupyter-widgets/base",
          "model_module_version": "1.2.0",
          "model_name": "LayoutModel",
          "state": {
            "_model_module": "@jupyter-widgets/base",
            "_model_module_version": "1.2.0",
            "_model_name": "LayoutModel",
            "_view_count": null,
            "_view_module": "@jupyter-widgets/base",
            "_view_module_version": "1.2.0",
            "_view_name": "LayoutView",
            "align_content": null,
            "align_items": null,
            "align_self": null,
            "border": null,
            "bottom": null,
            "display": null,
            "flex": null,
            "flex_flow": null,
            "grid_area": null,
            "grid_auto_columns": null,
            "grid_auto_flow": null,
            "grid_auto_rows": null,
            "grid_column": null,
            "grid_gap": null,
            "grid_row": null,
            "grid_template_areas": null,
            "grid_template_columns": null,
            "grid_template_rows": null,
            "height": null,
            "justify_content": null,
            "justify_items": null,
            "left": null,
            "margin": null,
            "max_height": null,
            "max_width": null,
            "min_height": null,
            "min_width": null,
            "object_fit": null,
            "object_position": null,
            "order": null,
            "overflow": null,
            "overflow_x": null,
            "overflow_y": null,
            "padding": null,
            "right": null,
            "top": null,
            "visibility": null,
            "width": null
          }
        },
        "3767ee57e4d54edb9e832d40b053d976": {
          "model_module": "@jupyter-widgets/controls",
          "model_module_version": "1.5.0",
          "model_name": "FloatProgressModel",
          "state": {
            "_dom_classes": [],
            "_model_module": "@jupyter-widgets/controls",
            "_model_module_version": "1.5.0",
            "_model_name": "FloatProgressModel",
            "_view_count": null,
            "_view_module": "@jupyter-widgets/controls",
            "_view_module_version": "1.5.0",
            "_view_name": "ProgressView",
            "bar_style": "",
            "description": "",
            "description_tooltip": null,
            "layout": "IPY_MODEL_bdaf516f69f34fa881094b1aa01010d9",
            "max": 7946,
            "min": 0,
            "orientation": "horizontal",
            "style": "IPY_MODEL_64b4ba88df7949f9b9852f9891ad937d",
            "value": 7946
          }
        },
        "3a446baa62f64b138cab38354e91f9fe": {
          "model_module": "@jupyter-widgets/controls",
          "model_module_version": "1.5.0",
          "model_name": "HBoxModel",
          "state": {
            "_dom_classes": [],
            "_model_module": "@jupyter-widgets/controls",
            "_model_module_version": "1.5.0",
            "_model_name": "HBoxModel",
            "_view_count": null,
            "_view_module": "@jupyter-widgets/controls",
            "_view_module_version": "1.5.0",
            "_view_name": "HBoxView",
            "box_style": "",
            "children": [
              "IPY_MODEL_e21f291e304148f5868ef0153bc333a0",
              "IPY_MODEL_cff9ba0ef286482b9902ee1be969bf06",
              "IPY_MODEL_8dbc9d51708a4c6286fbece7f4b0cf6b"
            ],
            "layout": "IPY_MODEL_17c9a402fd2e4bdb9e86cd0d69d095e9"
          }
        },
        "3b6da6c326104a359cc133adfe38a472": {
          "model_module": "@jupyter-widgets/controls",
          "model_module_version": "1.5.0",
          "model_name": "ProgressStyleModel",
          "state": {
            "_model_module": "@jupyter-widgets/controls",
            "_model_module_version": "1.5.0",
            "_model_name": "ProgressStyleModel",
            "_view_count": null,
            "_view_module": "@jupyter-widgets/base",
            "_view_module_version": "1.2.0",
            "_view_name": "StyleView",
            "bar_color": null,
            "description_width": ""
          }
        },
        "3bbe2bb7f0fa42379a9b108a48883c5a": {
          "model_module": "@jupyter-widgets/base",
          "model_module_version": "1.2.0",
          "model_name": "LayoutModel",
          "state": {
            "_model_module": "@jupyter-widgets/base",
            "_model_module_version": "1.2.0",
            "_model_name": "LayoutModel",
            "_view_count": null,
            "_view_module": "@jupyter-widgets/base",
            "_view_module_version": "1.2.0",
            "_view_name": "LayoutView",
            "align_content": null,
            "align_items": null,
            "align_self": null,
            "border": null,
            "bottom": null,
            "display": null,
            "flex": null,
            "flex_flow": null,
            "grid_area": null,
            "grid_auto_columns": null,
            "grid_auto_flow": null,
            "grid_auto_rows": null,
            "grid_column": null,
            "grid_gap": null,
            "grid_row": null,
            "grid_template_areas": null,
            "grid_template_columns": null,
            "grid_template_rows": null,
            "height": null,
            "justify_content": null,
            "justify_items": null,
            "left": null,
            "margin": null,
            "max_height": null,
            "max_width": null,
            "min_height": null,
            "min_width": null,
            "object_fit": null,
            "object_position": null,
            "order": null,
            "overflow": null,
            "overflow_x": null,
            "overflow_y": null,
            "padding": null,
            "right": null,
            "top": null,
            "visibility": null,
            "width": null
          }
        },
        "3c76a05509b741a8abb423c7ec4c0d7d": {
          "model_module": "@jupyter-widgets/controls",
          "model_module_version": "1.5.0",
          "model_name": "DescriptionStyleModel",
          "state": {
            "_model_module": "@jupyter-widgets/controls",
            "_model_module_version": "1.5.0",
            "_model_name": "DescriptionStyleModel",
            "_view_count": null,
            "_view_module": "@jupyter-widgets/base",
            "_view_module_version": "1.2.0",
            "_view_name": "StyleView",
            "description_width": ""
          }
        },
        "3dabc110d0fa4da7b1460a8a6d7a4939": {
          "model_module": "@jupyter-widgets/base",
          "model_module_version": "1.2.0",
          "model_name": "LayoutModel",
          "state": {
            "_model_module": "@jupyter-widgets/base",
            "_model_module_version": "1.2.0",
            "_model_name": "LayoutModel",
            "_view_count": null,
            "_view_module": "@jupyter-widgets/base",
            "_view_module_version": "1.2.0",
            "_view_name": "LayoutView",
            "align_content": null,
            "align_items": null,
            "align_self": null,
            "border": null,
            "bottom": null,
            "display": null,
            "flex": null,
            "flex_flow": null,
            "grid_area": null,
            "grid_auto_columns": null,
            "grid_auto_flow": null,
            "grid_auto_rows": null,
            "grid_column": null,
            "grid_gap": null,
            "grid_row": null,
            "grid_template_areas": null,
            "grid_template_columns": null,
            "grid_template_rows": null,
            "height": null,
            "justify_content": null,
            "justify_items": null,
            "left": null,
            "margin": null,
            "max_height": null,
            "max_width": null,
            "min_height": null,
            "min_width": null,
            "object_fit": null,
            "object_position": null,
            "order": null,
            "overflow": null,
            "overflow_x": null,
            "overflow_y": null,
            "padding": null,
            "right": null,
            "top": null,
            "visibility": null,
            "width": null
          }
        },
        "40c3d28c4cdb4cb0a399e1fac6eb913c": {
          "model_module": "@jupyter-widgets/base",
          "model_module_version": "1.2.0",
          "model_name": "LayoutModel",
          "state": {
            "_model_module": "@jupyter-widgets/base",
            "_model_module_version": "1.2.0",
            "_model_name": "LayoutModel",
            "_view_count": null,
            "_view_module": "@jupyter-widgets/base",
            "_view_module_version": "1.2.0",
            "_view_name": "LayoutView",
            "align_content": null,
            "align_items": null,
            "align_self": null,
            "border": null,
            "bottom": null,
            "display": null,
            "flex": null,
            "flex_flow": null,
            "grid_area": null,
            "grid_auto_columns": null,
            "grid_auto_flow": null,
            "grid_auto_rows": null,
            "grid_column": null,
            "grid_gap": null,
            "grid_row": null,
            "grid_template_areas": null,
            "grid_template_columns": null,
            "grid_template_rows": null,
            "height": null,
            "justify_content": null,
            "justify_items": null,
            "left": null,
            "margin": null,
            "max_height": null,
            "max_width": null,
            "min_height": null,
            "min_width": null,
            "object_fit": null,
            "object_position": null,
            "order": null,
            "overflow": null,
            "overflow_x": null,
            "overflow_y": null,
            "padding": null,
            "right": null,
            "top": null,
            "visibility": "hidden",
            "width": null
          }
        },
        "40e76033a5094329956f2d26285719cc": {
          "model_module": "@jupyter-widgets/base",
          "model_module_version": "1.2.0",
          "model_name": "LayoutModel",
          "state": {
            "_model_module": "@jupyter-widgets/base",
            "_model_module_version": "1.2.0",
            "_model_name": "LayoutModel",
            "_view_count": null,
            "_view_module": "@jupyter-widgets/base",
            "_view_module_version": "1.2.0",
            "_view_name": "LayoutView",
            "align_content": null,
            "align_items": null,
            "align_self": null,
            "border": null,
            "bottom": null,
            "display": null,
            "flex": null,
            "flex_flow": null,
            "grid_area": null,
            "grid_auto_columns": null,
            "grid_auto_flow": null,
            "grid_auto_rows": null,
            "grid_column": null,
            "grid_gap": null,
            "grid_row": null,
            "grid_template_areas": null,
            "grid_template_columns": null,
            "grid_template_rows": null,
            "height": null,
            "justify_content": null,
            "justify_items": null,
            "left": null,
            "margin": null,
            "max_height": null,
            "max_width": null,
            "min_height": null,
            "min_width": null,
            "object_fit": null,
            "object_position": null,
            "order": null,
            "overflow": null,
            "overflow_x": null,
            "overflow_y": null,
            "padding": null,
            "right": null,
            "top": null,
            "visibility": null,
            "width": null
          }
        },
        "41346088ef914034b9e9f7c99883bd0a": {
          "model_module": "@jupyter-widgets/controls",
          "model_module_version": "1.5.0",
          "model_name": "HTMLModel",
          "state": {
            "_dom_classes": [],
            "_model_module": "@jupyter-widgets/controls",
            "_model_module_version": "1.5.0",
            "_model_name": "HTMLModel",
            "_view_count": null,
            "_view_module": "@jupyter-widgets/controls",
            "_view_module_version": "1.5.0",
            "_view_name": "HTMLView",
            "description": "",
            "description_tooltip": null,
            "layout": "IPY_MODEL_5871fd3658914936b5dc8e3cf9d1bd6d",
            "placeholder": "​",
            "style": "IPY_MODEL_2eb43d9fd6284a268babf7771fa5df3c",
            "value": " 7946/7946 [06:00&lt;00:00, 21.47 examples/s]"
          }
        },
        "4220fd538b32472cb34a9524f3afface": {
          "model_module": "@jupyter-widgets/controls",
          "model_module_version": "1.5.0",
          "model_name": "FloatProgressModel",
          "state": {
            "_dom_classes": [],
            "_model_module": "@jupyter-widgets/controls",
            "_model_module_version": "1.5.0",
            "_model_name": "FloatProgressModel",
            "_view_count": null,
            "_view_module": "@jupyter-widgets/controls",
            "_view_module_version": "1.5.0",
            "_view_name": "ProgressView",
            "bar_style": "success",
            "description": "",
            "description_tooltip": null,
            "layout": "IPY_MODEL_908d5d3583644042adb44be083b705bc",
            "max": 28,
            "min": 0,
            "orientation": "horizontal",
            "style": "IPY_MODEL_c3533b7de5b94f38948e6d05de03aaa1",
            "value": 28
          }
        },
        "4345d91c569a4507ad6a143dc7435f33": {
          "model_module": "@jupyter-widgets/controls",
          "model_module_version": "1.5.0",
          "model_name": "DescriptionStyleModel",
          "state": {
            "_model_module": "@jupyter-widgets/controls",
            "_model_module_version": "1.5.0",
            "_model_name": "DescriptionStyleModel",
            "_view_count": null,
            "_view_module": "@jupyter-widgets/base",
            "_view_module_version": "1.2.0",
            "_view_name": "StyleView",
            "description_width": ""
          }
        },
        "43917a580c194c1a97653122c1a691fe": {
          "model_module": "@jupyter-widgets/controls",
          "model_module_version": "1.5.0",
          "model_name": "FloatProgressModel",
          "state": {
            "_dom_classes": [],
            "_model_module": "@jupyter-widgets/controls",
            "_model_module_version": "1.5.0",
            "_model_name": "FloatProgressModel",
            "_view_count": null,
            "_view_module": "@jupyter-widgets/controls",
            "_view_module_version": "1.5.0",
            "_view_name": "ProgressView",
            "bar_style": "",
            "description": "",
            "description_tooltip": null,
            "layout": "IPY_MODEL_6f60ee07dfc545e596c5b5c8fc9e8318",
            "max": 30708,
            "min": 0,
            "orientation": "horizontal",
            "style": "IPY_MODEL_c8feed238fdf4eea9dfe78ecaa65f558",
            "value": 30708
          }
        },
        "43e71e11d8854e8ca3af7271de3d4e2b": {
          "model_module": "@jupyter-widgets/controls",
          "model_module_version": "1.5.0",
          "model_name": "HTMLModel",
          "state": {
            "_dom_classes": [],
            "_model_module": "@jupyter-widgets/controls",
            "_model_module_version": "1.5.0",
            "_model_name": "HTMLModel",
            "_view_count": null,
            "_view_module": "@jupyter-widgets/controls",
            "_view_module_version": "1.5.0",
            "_view_name": "HTMLView",
            "description": "",
            "description_tooltip": null,
            "layout": "IPY_MODEL_b9fed0e7adf741949f1719ab80b8fe15",
            "placeholder": "​",
            "style": "IPY_MODEL_f06ec8353d3b41a1925de0260de294e7",
            "value": " 7090/7090 [00:00&lt;00:00, 9842.02 examples/s]"
          }
        },
        "43f628ff2273444d8d19a8ed172643e4": {
          "model_module": "@jupyter-widgets/controls",
          "model_module_version": "1.5.0",
          "model_name": "DescriptionStyleModel",
          "state": {
            "_model_module": "@jupyter-widgets/controls",
            "_model_module_version": "1.5.0",
            "_model_name": "DescriptionStyleModel",
            "_view_count": null,
            "_view_module": "@jupyter-widgets/base",
            "_view_module_version": "1.2.0",
            "_view_name": "StyleView",
            "description_width": ""
          }
        },
        "456cb497e1c043a9bb3b48e3f72ccd5c": {
          "model_module": "@jupyter-widgets/controls",
          "model_module_version": "1.5.0",
          "model_name": "DescriptionStyleModel",
          "state": {
            "_model_module": "@jupyter-widgets/controls",
            "_model_module_version": "1.5.0",
            "_model_name": "DescriptionStyleModel",
            "_view_count": null,
            "_view_module": "@jupyter-widgets/base",
            "_view_module_version": "1.2.0",
            "_view_name": "StyleView",
            "description_width": ""
          }
        },
        "45a649ac3a3e4b6d956ce9e28989b9a3": {
          "model_module": "@jupyter-widgets/controls",
          "model_module_version": "1.5.0",
          "model_name": "DescriptionStyleModel",
          "state": {
            "_model_module": "@jupyter-widgets/controls",
            "_model_module_version": "1.5.0",
            "_model_name": "DescriptionStyleModel",
            "_view_count": null,
            "_view_module": "@jupyter-widgets/base",
            "_view_module_version": "1.2.0",
            "_view_name": "StyleView",
            "description_width": ""
          }
        },
        "48e97a59ea504b1e9c46e2a93894fc68": {
          "model_module": "@jupyter-widgets/base",
          "model_module_version": "1.2.0",
          "model_name": "LayoutModel",
          "state": {
            "_model_module": "@jupyter-widgets/base",
            "_model_module_version": "1.2.0",
            "_model_name": "LayoutModel",
            "_view_count": null,
            "_view_module": "@jupyter-widgets/base",
            "_view_module_version": "1.2.0",
            "_view_name": "LayoutView",
            "align_content": null,
            "align_items": null,
            "align_self": null,
            "border": null,
            "bottom": null,
            "display": null,
            "flex": null,
            "flex_flow": null,
            "grid_area": null,
            "grid_auto_columns": null,
            "grid_auto_flow": null,
            "grid_auto_rows": null,
            "grid_column": null,
            "grid_gap": null,
            "grid_row": null,
            "grid_template_areas": null,
            "grid_template_columns": null,
            "grid_template_rows": null,
            "height": null,
            "justify_content": null,
            "justify_items": null,
            "left": null,
            "margin": null,
            "max_height": null,
            "max_width": null,
            "min_height": null,
            "min_width": null,
            "object_fit": null,
            "object_position": null,
            "order": null,
            "overflow": null,
            "overflow_x": null,
            "overflow_y": null,
            "padding": null,
            "right": null,
            "top": null,
            "visibility": null,
            "width": null
          }
        },
        "49025eb53cc5486fb428e9abaf866d56": {
          "model_module": "@jupyter-widgets/base",
          "model_module_version": "1.2.0",
          "model_name": "LayoutModel",
          "state": {
            "_model_module": "@jupyter-widgets/base",
            "_model_module_version": "1.2.0",
            "_model_name": "LayoutModel",
            "_view_count": null,
            "_view_module": "@jupyter-widgets/base",
            "_view_module_version": "1.2.0",
            "_view_name": "LayoutView",
            "align_content": null,
            "align_items": null,
            "align_self": null,
            "border": null,
            "bottom": null,
            "display": null,
            "flex": null,
            "flex_flow": null,
            "grid_area": null,
            "grid_auto_columns": null,
            "grid_auto_flow": null,
            "grid_auto_rows": null,
            "grid_column": null,
            "grid_gap": null,
            "grid_row": null,
            "grid_template_areas": null,
            "grid_template_columns": null,
            "grid_template_rows": null,
            "height": null,
            "justify_content": null,
            "justify_items": null,
            "left": null,
            "margin": null,
            "max_height": null,
            "max_width": null,
            "min_height": null,
            "min_width": null,
            "object_fit": null,
            "object_position": null,
            "order": null,
            "overflow": null,
            "overflow_x": null,
            "overflow_y": null,
            "padding": null,
            "right": null,
            "top": null,
            "visibility": null,
            "width": null
          }
        },
        "49a6248f91fa4fa7b486c5696c589a3d": {
          "model_module": "@jupyter-widgets/base",
          "model_module_version": "1.2.0",
          "model_name": "LayoutModel",
          "state": {
            "_model_module": "@jupyter-widgets/base",
            "_model_module_version": "1.2.0",
            "_model_name": "LayoutModel",
            "_view_count": null,
            "_view_module": "@jupyter-widgets/base",
            "_view_module_version": "1.2.0",
            "_view_name": "LayoutView",
            "align_content": null,
            "align_items": null,
            "align_self": null,
            "border": null,
            "bottom": null,
            "display": null,
            "flex": null,
            "flex_flow": null,
            "grid_area": null,
            "grid_auto_columns": null,
            "grid_auto_flow": null,
            "grid_auto_rows": null,
            "grid_column": null,
            "grid_gap": null,
            "grid_row": null,
            "grid_template_areas": null,
            "grid_template_columns": null,
            "grid_template_rows": null,
            "height": null,
            "justify_content": null,
            "justify_items": null,
            "left": null,
            "margin": null,
            "max_height": null,
            "max_width": null,
            "min_height": null,
            "min_width": null,
            "object_fit": null,
            "object_position": null,
            "order": null,
            "overflow": null,
            "overflow_x": null,
            "overflow_y": null,
            "padding": null,
            "right": null,
            "top": null,
            "visibility": null,
            "width": null
          }
        },
        "4b505bba8d7b4deb9e7c6c140a23d1cf": {
          "model_module": "@jupyter-widgets/base",
          "model_module_version": "1.2.0",
          "model_name": "LayoutModel",
          "state": {
            "_model_module": "@jupyter-widgets/base",
            "_model_module_version": "1.2.0",
            "_model_name": "LayoutModel",
            "_view_count": null,
            "_view_module": "@jupyter-widgets/base",
            "_view_module_version": "1.2.0",
            "_view_name": "LayoutView",
            "align_content": null,
            "align_items": null,
            "align_self": null,
            "border": null,
            "bottom": null,
            "display": null,
            "flex": null,
            "flex_flow": null,
            "grid_area": null,
            "grid_auto_columns": null,
            "grid_auto_flow": null,
            "grid_auto_rows": null,
            "grid_column": null,
            "grid_gap": null,
            "grid_row": null,
            "grid_template_areas": null,
            "grid_template_columns": null,
            "grid_template_rows": null,
            "height": null,
            "justify_content": null,
            "justify_items": null,
            "left": null,
            "margin": null,
            "max_height": null,
            "max_width": null,
            "min_height": null,
            "min_width": null,
            "object_fit": null,
            "object_position": null,
            "order": null,
            "overflow": null,
            "overflow_x": null,
            "overflow_y": null,
            "padding": null,
            "right": null,
            "top": null,
            "visibility": "hidden",
            "width": null
          }
        },
        "4de9d60812314a4c82a54a3acc9da7ad": {
          "model_module": "@jupyter-widgets/controls",
          "model_module_version": "1.5.0",
          "model_name": "ProgressStyleModel",
          "state": {
            "_model_module": "@jupyter-widgets/controls",
            "_model_module_version": "1.5.0",
            "_model_name": "ProgressStyleModel",
            "_view_count": null,
            "_view_module": "@jupyter-widgets/base",
            "_view_module_version": "1.2.0",
            "_view_name": "StyleView",
            "bar_color": null,
            "description_width": ""
          }
        },
        "4ebae6d244c84cda80b478e7136ba8a6": {
          "model_module": "@jupyter-widgets/controls",
          "model_module_version": "1.5.0",
          "model_name": "DescriptionStyleModel",
          "state": {
            "_model_module": "@jupyter-widgets/controls",
            "_model_module_version": "1.5.0",
            "_model_name": "DescriptionStyleModel",
            "_view_count": null,
            "_view_module": "@jupyter-widgets/base",
            "_view_module_version": "1.2.0",
            "_view_name": "StyleView",
            "description_width": ""
          }
        },
        "4f707e980042491b93669f46232b9cc7": {
          "model_module": "@jupyter-widgets/controls",
          "model_module_version": "1.5.0",
          "model_name": "HTMLModel",
          "state": {
            "_dom_classes": [],
            "_model_module": "@jupyter-widgets/controls",
            "_model_module_version": "1.5.0",
            "_model_name": "HTMLModel",
            "_view_count": null,
            "_view_module": "@jupyter-widgets/controls",
            "_view_module_version": "1.5.0",
            "_view_name": "HTMLView",
            "description": "",
            "description_tooltip": null,
            "layout": "IPY_MODEL_db37cf8b012a4250bc9f0ac6f6ddb2e4",
            "placeholder": "​",
            "style": "IPY_MODEL_5f04f11abd4e4cafbe48ca718d44a302",
            "value": "Map: 100%"
          }
        },
        "4fbcabaa3f15454bac62cbac9176a09c": {
          "model_module": "@jupyter-widgets/controls",
          "model_module_version": "1.5.0",
          "model_name": "HTMLModel",
          "state": {
            "_dom_classes": [],
            "_model_module": "@jupyter-widgets/controls",
            "_model_module_version": "1.5.0",
            "_model_name": "HTMLModel",
            "_view_count": null,
            "_view_module": "@jupyter-widgets/controls",
            "_view_module_version": "1.5.0",
            "_view_name": "HTMLView",
            "description": "",
            "description_tooltip": null,
            "layout": "IPY_MODEL_372f0a715b1b45ccaeb9131429ca9b2d",
            "placeholder": "​",
            "style": "IPY_MODEL_c2b2f84d0dd946e281eed334d98af1c2",
            "value": " 28.0/28.0 [00:00&lt;00:00, 1.29kB/s]"
          }
        },
        "52a2243f552d4f1c86317b966dd47af5": {
          "model_module": "@jupyter-widgets/controls",
          "model_module_version": "1.5.0",
          "model_name": "FloatProgressModel",
          "state": {
            "_dom_classes": [],
            "_model_module": "@jupyter-widgets/controls",
            "_model_module_version": "1.5.0",
            "_model_name": "FloatProgressModel",
            "_view_count": null,
            "_view_module": "@jupyter-widgets/controls",
            "_view_module_version": "1.5.0",
            "_view_name": "ProgressView",
            "bar_style": "",
            "description": "",
            "description_tooltip": null,
            "layout": "IPY_MODEL_a439b8eeae234a18abfec5449635ece7",
            "max": 7946,
            "min": 0,
            "orientation": "horizontal",
            "style": "IPY_MODEL_e4db4c8eb2dc4c2293e8a44b63594f67",
            "value": 7946
          }
        },
        "549a186e32f14bed9a78d30d8c9e3682": {
          "model_module": "@jupyter-widgets/controls",
          "model_module_version": "1.5.0",
          "model_name": "DescriptionStyleModel",
          "state": {
            "_model_module": "@jupyter-widgets/controls",
            "_model_module_version": "1.5.0",
            "_model_name": "DescriptionStyleModel",
            "_view_count": null,
            "_view_module": "@jupyter-widgets/base",
            "_view_module_version": "1.2.0",
            "_view_name": "StyleView",
            "description_width": ""
          }
        },
        "562b36deaba64255bafc76371938f18c": {
          "model_module": "@jupyter-widgets/base",
          "model_module_version": "1.2.0",
          "model_name": "LayoutModel",
          "state": {
            "_model_module": "@jupyter-widgets/base",
            "_model_module_version": "1.2.0",
            "_model_name": "LayoutModel",
            "_view_count": null,
            "_view_module": "@jupyter-widgets/base",
            "_view_module_version": "1.2.0",
            "_view_name": "LayoutView",
            "align_content": null,
            "align_items": null,
            "align_self": null,
            "border": null,
            "bottom": null,
            "display": null,
            "flex": null,
            "flex_flow": null,
            "grid_area": null,
            "grid_auto_columns": null,
            "grid_auto_flow": null,
            "grid_auto_rows": null,
            "grid_column": null,
            "grid_gap": null,
            "grid_row": null,
            "grid_template_areas": null,
            "grid_template_columns": null,
            "grid_template_rows": null,
            "height": null,
            "justify_content": null,
            "justify_items": null,
            "left": null,
            "margin": null,
            "max_height": null,
            "max_width": null,
            "min_height": null,
            "min_width": null,
            "object_fit": null,
            "object_position": null,
            "order": null,
            "overflow": null,
            "overflow_x": null,
            "overflow_y": null,
            "padding": null,
            "right": null,
            "top": null,
            "visibility": null,
            "width": null
          }
        },
        "5871fd3658914936b5dc8e3cf9d1bd6d": {
          "model_module": "@jupyter-widgets/base",
          "model_module_version": "1.2.0",
          "model_name": "LayoutModel",
          "state": {
            "_model_module": "@jupyter-widgets/base",
            "_model_module_version": "1.2.0",
            "_model_name": "LayoutModel",
            "_view_count": null,
            "_view_module": "@jupyter-widgets/base",
            "_view_module_version": "1.2.0",
            "_view_name": "LayoutView",
            "align_content": null,
            "align_items": null,
            "align_self": null,
            "border": null,
            "bottom": null,
            "display": null,
            "flex": null,
            "flex_flow": null,
            "grid_area": null,
            "grid_auto_columns": null,
            "grid_auto_flow": null,
            "grid_auto_rows": null,
            "grid_column": null,
            "grid_gap": null,
            "grid_row": null,
            "grid_template_areas": null,
            "grid_template_columns": null,
            "grid_template_rows": null,
            "height": null,
            "justify_content": null,
            "justify_items": null,
            "left": null,
            "margin": null,
            "max_height": null,
            "max_width": null,
            "min_height": null,
            "min_width": null,
            "object_fit": null,
            "object_position": null,
            "order": null,
            "overflow": null,
            "overflow_x": null,
            "overflow_y": null,
            "padding": null,
            "right": null,
            "top": null,
            "visibility": null,
            "width": null
          }
        },
        "58bab504ccae4bf2b027f9985894f34c": {
          "model_module": "@jupyter-widgets/controls",
          "model_module_version": "1.5.0",
          "model_name": "HTMLModel",
          "state": {
            "_dom_classes": [],
            "_model_module": "@jupyter-widgets/controls",
            "_model_module_version": "1.5.0",
            "_model_name": "HTMLModel",
            "_view_count": null,
            "_view_module": "@jupyter-widgets/controls",
            "_view_module_version": "1.5.0",
            "_view_name": "HTMLView",
            "description": "",
            "description_tooltip": null,
            "layout": "IPY_MODEL_8cb7629421054928aa022f61c34cbb08",
            "placeholder": "​",
            "style": "IPY_MODEL_ef7c94c4f1f24022a50064deba4c35c7",
            "value": "Downloading (…)solve/main/vocab.txt: 100%"
          }
        },
        "591d13984ad042cc9d5882cf2dd227fa": {
          "model_module": "@jupyter-widgets/controls",
          "model_module_version": "1.5.0",
          "model_name": "ButtonModel",
          "state": {
            "_dom_classes": [],
            "_model_module": "@jupyter-widgets/controls",
            "_model_module_version": "1.5.0",
            "_model_name": "ButtonModel",
            "_view_count": null,
            "_view_module": "@jupyter-widgets/controls",
            "_view_module_version": "1.5.0",
            "_view_name": "ButtonView",
            "button_style": "",
            "description": "Login",
            "disabled": false,
            "icon": "",
            "layout": "IPY_MODEL_93e4f15aa01f4892926689a3a7b420d8",
            "style": "IPY_MODEL_018ddef8a08b42b0a9711e86c206cc87",
            "tooltip": ""
          }
        },
        "59d379492cc444f5871034360dca2048": {
          "model_module": "@jupyter-widgets/controls",
          "model_module_version": "1.5.0",
          "model_name": "DescriptionStyleModel",
          "state": {
            "_model_module": "@jupyter-widgets/controls",
            "_model_module_version": "1.5.0",
            "_model_name": "DescriptionStyleModel",
            "_view_count": null,
            "_view_module": "@jupyter-widgets/base",
            "_view_module_version": "1.2.0",
            "_view_name": "StyleView",
            "description_width": ""
          }
        },
        "5bdf303f0ce04439a0b42c0fb2e18c97": {
          "model_module": "@jupyter-widgets/controls",
          "model_module_version": "1.5.0",
          "model_name": "HTMLModel",
          "state": {
            "_dom_classes": [],
            "_model_module": "@jupyter-widgets/controls",
            "_model_module_version": "1.5.0",
            "_model_name": "HTMLModel",
            "_view_count": null,
            "_view_module": "@jupyter-widgets/controls",
            "_view_module_version": "1.5.0",
            "_view_name": "HTMLView",
            "description": "",
            "description_tooltip": null,
            "layout": "IPY_MODEL_67e1341325c546cf98013ee5c824a0e6",
            "placeholder": "​",
            "style": "IPY_MODEL_5e4c3b09057f400a902ed7a072d8dc21",
            "value": " 7946/7946 [00:00&lt;00:00, 138415.99 examples/s]"
          }
        },
        "5c9ce46c48c94aed98be9a00e4dcea44": {
          "model_module": "@jupyter-widgets/controls",
          "model_module_version": "1.5.0",
          "model_name": "FloatProgressModel",
          "state": {
            "_dom_classes": [],
            "_model_module": "@jupyter-widgets/controls",
            "_model_module_version": "1.5.0",
            "_model_name": "FloatProgressModel",
            "_view_count": null,
            "_view_module": "@jupyter-widgets/controls",
            "_view_module_version": "1.5.0",
            "_view_name": "ProgressView",
            "bar_style": "",
            "description": "",
            "description_tooltip": null,
            "layout": "IPY_MODEL_48e97a59ea504b1e9c46e2a93894fc68",
            "max": 7090,
            "min": 0,
            "orientation": "horizontal",
            "style": "IPY_MODEL_4de9d60812314a4c82a54a3acc9da7ad",
            "value": 7090
          }
        },
        "5cd3250b84a9415ba95750198d91358f": {
          "model_module": "@jupyter-widgets/controls",
          "model_module_version": "1.5.0",
          "model_name": "HTMLModel",
          "state": {
            "_dom_classes": [],
            "_model_module": "@jupyter-widgets/controls",
            "_model_module_version": "1.5.0",
            "_model_name": "HTMLModel",
            "_view_count": null,
            "_view_module": "@jupyter-widgets/controls",
            "_view_module_version": "1.5.0",
            "_view_name": "HTMLView",
            "description": "",
            "description_tooltip": null,
            "layout": "IPY_MODEL_003606d5458a4715868c654da72e7c3a",
            "placeholder": "​",
            "style": "IPY_MODEL_43f628ff2273444d8d19a8ed172643e4",
            "value": " 16506/16506 [00:02&lt;00:00, 6286.69 examples/s]"
          }
        },
        "5d6f522c9e2a410486240b1a5935d497": {
          "model_module": "@jupyter-widgets/controls",
          "model_module_version": "1.5.0",
          "model_name": "HTMLModel",
          "state": {
            "_dom_classes": [],
            "_model_module": "@jupyter-widgets/controls",
            "_model_module_version": "1.5.0",
            "_model_name": "HTMLModel",
            "_view_count": null,
            "_view_module": "@jupyter-widgets/controls",
            "_view_module_version": "1.5.0",
            "_view_name": "HTMLView",
            "description": "",
            "description_tooltip": null,
            "layout": "IPY_MODEL_7260117340bf4620a0dd73e7546bd602",
            "placeholder": "​",
            "style": "IPY_MODEL_549a186e32f14bed9a78d30d8c9e3682",
            "value": " 104k/104k [00:00&lt;00:00, 4.19MB/s]"
          }
        },
        "5e4c3b09057f400a902ed7a072d8dc21": {
          "model_module": "@jupyter-widgets/controls",
          "model_module_version": "1.5.0",
          "model_name": "DescriptionStyleModel",
          "state": {
            "_model_module": "@jupyter-widgets/controls",
            "_model_module_version": "1.5.0",
            "_model_name": "DescriptionStyleModel",
            "_view_count": null,
            "_view_module": "@jupyter-widgets/base",
            "_view_module_version": "1.2.0",
            "_view_name": "StyleView",
            "description_width": ""
          }
        },
        "5f04f11abd4e4cafbe48ca718d44a302": {
          "model_module": "@jupyter-widgets/controls",
          "model_module_version": "1.5.0",
          "model_name": "DescriptionStyleModel",
          "state": {
            "_model_module": "@jupyter-widgets/controls",
            "_model_module_version": "1.5.0",
            "_model_name": "DescriptionStyleModel",
            "_view_count": null,
            "_view_module": "@jupyter-widgets/base",
            "_view_module_version": "1.2.0",
            "_view_name": "StyleView",
            "description_width": ""
          }
        },
        "61923679d69b483382947072befcbb6e": {
          "model_module": "@jupyter-widgets/base",
          "model_module_version": "1.2.0",
          "model_name": "LayoutModel",
          "state": {
            "_model_module": "@jupyter-widgets/base",
            "_model_module_version": "1.2.0",
            "_model_name": "LayoutModel",
            "_view_count": null,
            "_view_module": "@jupyter-widgets/base",
            "_view_module_version": "1.2.0",
            "_view_name": "LayoutView",
            "align_content": null,
            "align_items": null,
            "align_self": null,
            "border": null,
            "bottom": null,
            "display": null,
            "flex": null,
            "flex_flow": null,
            "grid_area": null,
            "grid_auto_columns": null,
            "grid_auto_flow": null,
            "grid_auto_rows": null,
            "grid_column": null,
            "grid_gap": null,
            "grid_row": null,
            "grid_template_areas": null,
            "grid_template_columns": null,
            "grid_template_rows": null,
            "height": null,
            "justify_content": null,
            "justify_items": null,
            "left": null,
            "margin": null,
            "max_height": null,
            "max_width": null,
            "min_height": null,
            "min_width": null,
            "object_fit": null,
            "object_position": null,
            "order": null,
            "overflow": null,
            "overflow_x": null,
            "overflow_y": null,
            "padding": null,
            "right": null,
            "top": null,
            "visibility": "hidden",
            "width": null
          }
        },
        "64b4ba88df7949f9b9852f9891ad937d": {
          "model_module": "@jupyter-widgets/controls",
          "model_module_version": "1.5.0",
          "model_name": "ProgressStyleModel",
          "state": {
            "_model_module": "@jupyter-widgets/controls",
            "_model_module_version": "1.5.0",
            "_model_name": "ProgressStyleModel",
            "_view_count": null,
            "_view_module": "@jupyter-widgets/base",
            "_view_module_version": "1.2.0",
            "_view_name": "StyleView",
            "bar_color": null,
            "description_width": ""
          }
        },
        "67e1341325c546cf98013ee5c824a0e6": {
          "model_module": "@jupyter-widgets/base",
          "model_module_version": "1.2.0",
          "model_name": "LayoutModel",
          "state": {
            "_model_module": "@jupyter-widgets/base",
            "_model_module_version": "1.2.0",
            "_model_name": "LayoutModel",
            "_view_count": null,
            "_view_module": "@jupyter-widgets/base",
            "_view_module_version": "1.2.0",
            "_view_name": "LayoutView",
            "align_content": null,
            "align_items": null,
            "align_self": null,
            "border": null,
            "bottom": null,
            "display": null,
            "flex": null,
            "flex_flow": null,
            "grid_area": null,
            "grid_auto_columns": null,
            "grid_auto_flow": null,
            "grid_auto_rows": null,
            "grid_column": null,
            "grid_gap": null,
            "grid_row": null,
            "grid_template_areas": null,
            "grid_template_columns": null,
            "grid_template_rows": null,
            "height": null,
            "justify_content": null,
            "justify_items": null,
            "left": null,
            "margin": null,
            "max_height": null,
            "max_width": null,
            "min_height": null,
            "min_width": null,
            "object_fit": null,
            "object_position": null,
            "order": null,
            "overflow": null,
            "overflow_x": null,
            "overflow_y": null,
            "padding": null,
            "right": null,
            "top": null,
            "visibility": null,
            "width": null
          }
        },
        "69570c24726140aa8c3b0865fa0759fb": {
          "model_module": "@jupyter-widgets/base",
          "model_module_version": "1.2.0",
          "model_name": "LayoutModel",
          "state": {
            "_model_module": "@jupyter-widgets/base",
            "_model_module_version": "1.2.0",
            "_model_name": "LayoutModel",
            "_view_count": null,
            "_view_module": "@jupyter-widgets/base",
            "_view_module_version": "1.2.0",
            "_view_name": "LayoutView",
            "align_content": null,
            "align_items": null,
            "align_self": null,
            "border": null,
            "bottom": null,
            "display": null,
            "flex": null,
            "flex_flow": null,
            "grid_area": null,
            "grid_auto_columns": null,
            "grid_auto_flow": null,
            "grid_auto_rows": null,
            "grid_column": null,
            "grid_gap": null,
            "grid_row": null,
            "grid_template_areas": null,
            "grid_template_columns": null,
            "grid_template_rows": null,
            "height": null,
            "justify_content": null,
            "justify_items": null,
            "left": null,
            "margin": null,
            "max_height": null,
            "max_width": null,
            "min_height": null,
            "min_width": null,
            "object_fit": null,
            "object_position": null,
            "order": null,
            "overflow": null,
            "overflow_x": null,
            "overflow_y": null,
            "padding": null,
            "right": null,
            "top": null,
            "visibility": null,
            "width": null
          }
        },
        "6a27e9bfcf78477394ed7fdabd38c1a5": {
          "model_module": "@jupyter-widgets/controls",
          "model_module_version": "1.5.0",
          "model_name": "VBoxModel",
          "state": {
            "_dom_classes": [],
            "_model_module": "@jupyter-widgets/controls",
            "_model_module_version": "1.5.0",
            "_model_name": "VBoxModel",
            "_view_count": null,
            "_view_module": "@jupyter-widgets/controls",
            "_view_module_version": "1.5.0",
            "_view_name": "VBoxView",
            "box_style": "",
            "children": [
              "IPY_MODEL_291ee187e6a04e239b0558f81b6c77f2",
              "IPY_MODEL_ee9f7097537144d789992bdc0f7ffc97",
              "IPY_MODEL_07d17d398bc74ac0bbcab21d0314fd4c",
              "IPY_MODEL_591d13984ad042cc9d5882cf2dd227fa",
              "IPY_MODEL_91eecbd3273047ee873ad3cd7819ed01"
            ],
            "layout": "IPY_MODEL_1011ff8f5e374e4a9af080782789ad9e"
          }
        },
        "6bd0fffedda14b61abb719c112593821": {
          "model_module": "@jupyter-widgets/controls",
          "model_module_version": "1.5.0",
          "model_name": "FloatProgressModel",
          "state": {
            "_dom_classes": [],
            "_model_module": "@jupyter-widgets/controls",
            "_model_module_version": "1.5.0",
            "_model_name": "FloatProgressModel",
            "_view_count": null,
            "_view_module": "@jupyter-widgets/controls",
            "_view_module_version": "1.5.0",
            "_view_name": "ProgressView",
            "bar_style": "success",
            "description": "",
            "description_tooltip": null,
            "layout": "IPY_MODEL_31ef5bdd615d4ba29ee2c7917eea92fe",
            "max": 397106539,
            "min": 0,
            "orientation": "horizontal",
            "style": "IPY_MODEL_d01defeb63c54ad49b7ab26b665a145b",
            "value": 397106539
          }
        },
        "6f60ee07dfc545e596c5b5c8fc9e8318": {
          "model_module": "@jupyter-widgets/base",
          "model_module_version": "1.2.0",
          "model_name": "LayoutModel",
          "state": {
            "_model_module": "@jupyter-widgets/base",
            "_model_module_version": "1.2.0",
            "_model_name": "LayoutModel",
            "_view_count": null,
            "_view_module": "@jupyter-widgets/base",
            "_view_module_version": "1.2.0",
            "_view_name": "LayoutView",
            "align_content": null,
            "align_items": null,
            "align_self": null,
            "border": null,
            "bottom": null,
            "display": null,
            "flex": null,
            "flex_flow": null,
            "grid_area": null,
            "grid_auto_columns": null,
            "grid_auto_flow": null,
            "grid_auto_rows": null,
            "grid_column": null,
            "grid_gap": null,
            "grid_row": null,
            "grid_template_areas": null,
            "grid_template_columns": null,
            "grid_template_rows": null,
            "height": null,
            "justify_content": null,
            "justify_items": null,
            "left": null,
            "margin": null,
            "max_height": null,
            "max_width": null,
            "min_height": null,
            "min_width": null,
            "object_fit": null,
            "object_position": null,
            "order": null,
            "overflow": null,
            "overflow_x": null,
            "overflow_y": null,
            "padding": null,
            "right": null,
            "top": null,
            "visibility": null,
            "width": null
          }
        },
        "7260117340bf4620a0dd73e7546bd602": {
          "model_module": "@jupyter-widgets/base",
          "model_module_version": "1.2.0",
          "model_name": "LayoutModel",
          "state": {
            "_model_module": "@jupyter-widgets/base",
            "_model_module_version": "1.2.0",
            "_model_name": "LayoutModel",
            "_view_count": null,
            "_view_module": "@jupyter-widgets/base",
            "_view_module_version": "1.2.0",
            "_view_name": "LayoutView",
            "align_content": null,
            "align_items": null,
            "align_self": null,
            "border": null,
            "bottom": null,
            "display": null,
            "flex": null,
            "flex_flow": null,
            "grid_area": null,
            "grid_auto_columns": null,
            "grid_auto_flow": null,
            "grid_auto_rows": null,
            "grid_column": null,
            "grid_gap": null,
            "grid_row": null,
            "grid_template_areas": null,
            "grid_template_columns": null,
            "grid_template_rows": null,
            "height": null,
            "justify_content": null,
            "justify_items": null,
            "left": null,
            "margin": null,
            "max_height": null,
            "max_width": null,
            "min_height": null,
            "min_width": null,
            "object_fit": null,
            "object_position": null,
            "order": null,
            "overflow": null,
            "overflow_x": null,
            "overflow_y": null,
            "padding": null,
            "right": null,
            "top": null,
            "visibility": null,
            "width": null
          }
        },
        "760eae6e0cb945fdab945bcd9d7fb563": {
          "model_module": "@jupyter-widgets/controls",
          "model_module_version": "1.5.0",
          "model_name": "ProgressStyleModel",
          "state": {
            "_model_module": "@jupyter-widgets/controls",
            "_model_module_version": "1.5.0",
            "_model_name": "ProgressStyleModel",
            "_view_count": null,
            "_view_module": "@jupyter-widgets/base",
            "_view_module_version": "1.2.0",
            "_view_name": "StyleView",
            "bar_color": null,
            "description_width": ""
          }
        },
        "763cc5938b594e0c87514118cda101b4": {
          "model_module": "@jupyter-widgets/controls",
          "model_module_version": "1.5.0",
          "model_name": "HBoxModel",
          "state": {
            "_dom_classes": [],
            "_model_module": "@jupyter-widgets/controls",
            "_model_module_version": "1.5.0",
            "_model_name": "HBoxModel",
            "_view_count": null,
            "_view_module": "@jupyter-widgets/controls",
            "_view_module_version": "1.5.0",
            "_view_name": "HBoxView",
            "box_style": "",
            "children": [
              "IPY_MODEL_03b890442ce149d1b984852fd7ebc770",
              "IPY_MODEL_5c9ce46c48c94aed98be9a00e4dcea44",
              "IPY_MODEL_fd82cf3bd2534a3cb7fbf97a87ee1c5a"
            ],
            "layout": "IPY_MODEL_40c3d28c4cdb4cb0a399e1fac6eb913c"
          }
        },
        "770c51d3983443c7ae86c8c66e2b14ad": {
          "model_module": "@jupyter-widgets/controls",
          "model_module_version": "1.5.0",
          "model_name": "DescriptionStyleModel",
          "state": {
            "_model_module": "@jupyter-widgets/controls",
            "_model_module_version": "1.5.0",
            "_model_name": "DescriptionStyleModel",
            "_view_count": null,
            "_view_module": "@jupyter-widgets/base",
            "_view_module_version": "1.2.0",
            "_view_name": "StyleView",
            "description_width": ""
          }
        },
        "775031e84eb54b639e30bd85308b4b7c": {
          "model_module": "@jupyter-widgets/controls",
          "model_module_version": "1.5.0",
          "model_name": "DescriptionStyleModel",
          "state": {
            "_model_module": "@jupyter-widgets/controls",
            "_model_module_version": "1.5.0",
            "_model_name": "DescriptionStyleModel",
            "_view_count": null,
            "_view_module": "@jupyter-widgets/base",
            "_view_module_version": "1.2.0",
            "_view_name": "StyleView",
            "description_width": ""
          }
        },
        "778bffcd737c44c48ced4f1496d901a2": {
          "model_module": "@jupyter-widgets/base",
          "model_module_version": "1.2.0",
          "model_name": "LayoutModel",
          "state": {
            "_model_module": "@jupyter-widgets/base",
            "_model_module_version": "1.2.0",
            "_model_name": "LayoutModel",
            "_view_count": null,
            "_view_module": "@jupyter-widgets/base",
            "_view_module_version": "1.2.0",
            "_view_name": "LayoutView",
            "align_content": null,
            "align_items": null,
            "align_self": null,
            "border": null,
            "bottom": null,
            "display": null,
            "flex": null,
            "flex_flow": null,
            "grid_area": null,
            "grid_auto_columns": null,
            "grid_auto_flow": null,
            "grid_auto_rows": null,
            "grid_column": null,
            "grid_gap": null,
            "grid_row": null,
            "grid_template_areas": null,
            "grid_template_columns": null,
            "grid_template_rows": null,
            "height": null,
            "justify_content": null,
            "justify_items": null,
            "left": null,
            "margin": null,
            "max_height": null,
            "max_width": null,
            "min_height": null,
            "min_width": null,
            "object_fit": null,
            "object_position": null,
            "order": null,
            "overflow": null,
            "overflow_x": null,
            "overflow_y": null,
            "padding": null,
            "right": null,
            "top": null,
            "visibility": null,
            "width": null
          }
        },
        "78569723771b427091c4cccbe529cbd1": {
          "model_module": "@jupyter-widgets/base",
          "model_module_version": "1.2.0",
          "model_name": "LayoutModel",
          "state": {
            "_model_module": "@jupyter-widgets/base",
            "_model_module_version": "1.2.0",
            "_model_name": "LayoutModel",
            "_view_count": null,
            "_view_module": "@jupyter-widgets/base",
            "_view_module_version": "1.2.0",
            "_view_name": "LayoutView",
            "align_content": null,
            "align_items": null,
            "align_self": null,
            "border": null,
            "bottom": null,
            "display": null,
            "flex": null,
            "flex_flow": null,
            "grid_area": null,
            "grid_auto_columns": null,
            "grid_auto_flow": null,
            "grid_auto_rows": null,
            "grid_column": null,
            "grid_gap": null,
            "grid_row": null,
            "grid_template_areas": null,
            "grid_template_columns": null,
            "grid_template_rows": null,
            "height": null,
            "justify_content": null,
            "justify_items": null,
            "left": null,
            "margin": null,
            "max_height": null,
            "max_width": null,
            "min_height": null,
            "min_width": null,
            "object_fit": null,
            "object_position": null,
            "order": null,
            "overflow": null,
            "overflow_x": null,
            "overflow_y": null,
            "padding": null,
            "right": null,
            "top": null,
            "visibility": null,
            "width": null
          }
        },
        "78ca1366df9b490c99b180ac619c65d9": {
          "model_module": "@jupyter-widgets/controls",
          "model_module_version": "1.5.0",
          "model_name": "HBoxModel",
          "state": {
            "_dom_classes": [],
            "_model_module": "@jupyter-widgets/controls",
            "_model_module_version": "1.5.0",
            "_model_name": "HBoxModel",
            "_view_count": null,
            "_view_module": "@jupyter-widgets/controls",
            "_view_module_version": "1.5.0",
            "_view_name": "HBoxView",
            "box_style": "",
            "children": [
              "IPY_MODEL_c685bd8990d44322ab80effa4bfdb785",
              "IPY_MODEL_3767ee57e4d54edb9e832d40b053d976",
              "IPY_MODEL_a28940eb17104d08a7180054c0daa6c6"
            ],
            "layout": "IPY_MODEL_ca616d7c7134472387ec712c27d1b7b0"
          }
        },
        "78fad0b91fb04382ac5cb9673e8598e9": {
          "model_module": "@jupyter-widgets/base",
          "model_module_version": "1.2.0",
          "model_name": "LayoutModel",
          "state": {
            "_model_module": "@jupyter-widgets/base",
            "_model_module_version": "1.2.0",
            "_model_name": "LayoutModel",
            "_view_count": null,
            "_view_module": "@jupyter-widgets/base",
            "_view_module_version": "1.2.0",
            "_view_name": "LayoutView",
            "align_content": null,
            "align_items": null,
            "align_self": null,
            "border": null,
            "bottom": null,
            "display": null,
            "flex": null,
            "flex_flow": null,
            "grid_area": null,
            "grid_auto_columns": null,
            "grid_auto_flow": null,
            "grid_auto_rows": null,
            "grid_column": null,
            "grid_gap": null,
            "grid_row": null,
            "grid_template_areas": null,
            "grid_template_columns": null,
            "grid_template_rows": null,
            "height": null,
            "justify_content": null,
            "justify_items": null,
            "left": null,
            "margin": null,
            "max_height": null,
            "max_width": null,
            "min_height": null,
            "min_width": null,
            "object_fit": null,
            "object_position": null,
            "order": null,
            "overflow": null,
            "overflow_x": null,
            "overflow_y": null,
            "padding": null,
            "right": null,
            "top": null,
            "visibility": null,
            "width": null
          }
        },
        "7a1d89ebdb5346699423b272ab287d9a": {
          "model_module": "@jupyter-widgets/controls",
          "model_module_version": "1.5.0",
          "model_name": "HTMLModel",
          "state": {
            "_dom_classes": [],
            "_model_module": "@jupyter-widgets/controls",
            "_model_module_version": "1.5.0",
            "_model_name": "HTMLModel",
            "_view_count": null,
            "_view_module": "@jupyter-widgets/controls",
            "_view_module_version": "1.5.0",
            "_view_name": "HTMLView",
            "description": "",
            "description_tooltip": null,
            "layout": "IPY_MODEL_370a4266b54c4c6b964472ea5f65f543",
            "placeholder": "​",
            "style": "IPY_MODEL_4ebae6d244c84cda80b478e7136ba8a6",
            "value": "100%"
          }
        },
        "7aa142d78e684e6fb74511f7c5e3faa1": {
          "model_module": "@jupyter-widgets/base",
          "model_module_version": "1.2.0",
          "model_name": "LayoutModel",
          "state": {
            "_model_module": "@jupyter-widgets/base",
            "_model_module_version": "1.2.0",
            "_model_name": "LayoutModel",
            "_view_count": null,
            "_view_module": "@jupyter-widgets/base",
            "_view_module_version": "1.2.0",
            "_view_name": "LayoutView",
            "align_content": null,
            "align_items": null,
            "align_self": null,
            "border": null,
            "bottom": null,
            "display": null,
            "flex": null,
            "flex_flow": null,
            "grid_area": null,
            "grid_auto_columns": null,
            "grid_auto_flow": null,
            "grid_auto_rows": null,
            "grid_column": null,
            "grid_gap": null,
            "grid_row": null,
            "grid_template_areas": null,
            "grid_template_columns": null,
            "grid_template_rows": null,
            "height": null,
            "justify_content": null,
            "justify_items": null,
            "left": null,
            "margin": null,
            "max_height": null,
            "max_width": null,
            "min_height": null,
            "min_width": null,
            "object_fit": null,
            "object_position": null,
            "order": null,
            "overflow": null,
            "overflow_x": null,
            "overflow_y": null,
            "padding": null,
            "right": null,
            "top": null,
            "visibility": "hidden",
            "width": null
          }
        },
        "7e0d251758604fbf92282d54b8be4df6": {
          "model_module": "@jupyter-widgets/controls",
          "model_module_version": "1.5.0",
          "model_name": "HBoxModel",
          "state": {
            "_dom_classes": [],
            "_model_module": "@jupyter-widgets/controls",
            "_model_module_version": "1.5.0",
            "_model_name": "HBoxModel",
            "_view_count": null,
            "_view_module": "@jupyter-widgets/controls",
            "_view_module_version": "1.5.0",
            "_view_name": "HBoxView",
            "box_style": "",
            "children": [
              "IPY_MODEL_df199c2c489c480481423f3aefa817e7",
              "IPY_MODEL_52a2243f552d4f1c86317b966dd47af5",
              "IPY_MODEL_41346088ef914034b9e9f7c99883bd0a"
            ],
            "layout": "IPY_MODEL_61923679d69b483382947072befcbb6e"
          }
        },
        "7f3c05bc58134b00bf3f4f7e62c0721e": {
          "model_module": "@jupyter-widgets/controls",
          "model_module_version": "1.5.0",
          "model_name": "HBoxModel",
          "state": {
            "_dom_classes": [],
            "_model_module": "@jupyter-widgets/controls",
            "_model_module_version": "1.5.0",
            "_model_name": "HBoxModel",
            "_view_count": null,
            "_view_module": "@jupyter-widgets/controls",
            "_view_module_version": "1.5.0",
            "_view_name": "HBoxView",
            "box_style": "",
            "children": [
              "IPY_MODEL_4f707e980042491b93669f46232b9cc7",
              "IPY_MODEL_903e09d325f848a7a983d80e41b92cf6",
              "IPY_MODEL_5cd3250b84a9415ba95750198d91358f"
            ],
            "layout": "IPY_MODEL_d4099e661b004322ad986eb3b28e4ff8"
          }
        },
        "800e666f2d064aca9daf15d4224d7881": {
          "model_module": "@jupyter-widgets/controls",
          "model_module_version": "1.5.0",
          "model_name": "HBoxModel",
          "state": {
            "_dom_classes": [],
            "_model_module": "@jupyter-widgets/controls",
            "_model_module_version": "1.5.0",
            "_model_name": "HBoxModel",
            "_view_count": null,
            "_view_module": "@jupyter-widgets/controls",
            "_view_module_version": "1.5.0",
            "_view_name": "HBoxView",
            "box_style": "",
            "children": [
              "IPY_MODEL_7a1d89ebdb5346699423b272ab287d9a",
              "IPY_MODEL_4220fd538b32472cb34a9524f3afface",
              "IPY_MODEL_aa5f11c8c9604b9f85f9320acceb4aac"
            ],
            "layout": "IPY_MODEL_778bffcd737c44c48ced4f1496d901a2"
          }
        },
        "8123dc12bf20467c86061c79f698f342": {
          "model_module": "@jupyter-widgets/base",
          "model_module_version": "1.2.0",
          "model_name": "LayoutModel",
          "state": {
            "_model_module": "@jupyter-widgets/base",
            "_model_module_version": "1.2.0",
            "_model_name": "LayoutModel",
            "_view_count": null,
            "_view_module": "@jupyter-widgets/base",
            "_view_module_version": "1.2.0",
            "_view_name": "LayoutView",
            "align_content": null,
            "align_items": null,
            "align_self": null,
            "border": null,
            "bottom": null,
            "display": null,
            "flex": null,
            "flex_flow": null,
            "grid_area": null,
            "grid_auto_columns": null,
            "grid_auto_flow": null,
            "grid_auto_rows": null,
            "grid_column": null,
            "grid_gap": null,
            "grid_row": null,
            "grid_template_areas": null,
            "grid_template_columns": null,
            "grid_template_rows": null,
            "height": null,
            "justify_content": null,
            "justify_items": null,
            "left": null,
            "margin": null,
            "max_height": null,
            "max_width": null,
            "min_height": null,
            "min_width": null,
            "object_fit": null,
            "object_position": null,
            "order": null,
            "overflow": null,
            "overflow_x": null,
            "overflow_y": null,
            "padding": null,
            "right": null,
            "top": null,
            "visibility": null,
            "width": null
          }
        },
        "812ec702d91d45cbba41d227bef77f86": {
          "model_module": "@jupyter-widgets/controls",
          "model_module_version": "1.5.0",
          "model_name": "FloatProgressModel",
          "state": {
            "_dom_classes": [],
            "_model_module": "@jupyter-widgets/controls",
            "_model_module_version": "1.5.0",
            "_model_name": "FloatProgressModel",
            "_view_count": null,
            "_view_module": "@jupyter-widgets/controls",
            "_view_module_version": "1.5.0",
            "_view_name": "ProgressView",
            "bar_style": "success",
            "description": "",
            "description_tooltip": null,
            "layout": "IPY_MODEL_78569723771b427091c4cccbe529cbd1",
            "max": 28,
            "min": 0,
            "orientation": "horizontal",
            "style": "IPY_MODEL_c9e855bb80eb4044be3429f585c9eb72",
            "value": 28
          }
        },
        "81eaebbd347f447ca25a056e6d9db32c": {
          "model_module": "@jupyter-widgets/controls",
          "model_module_version": "1.5.0",
          "model_name": "HTMLModel",
          "state": {
            "_dom_classes": [],
            "_model_module": "@jupyter-widgets/controls",
            "_model_module_version": "1.5.0",
            "_model_name": "HTMLModel",
            "_view_count": null,
            "_view_module": "@jupyter-widgets/controls",
            "_view_module_version": "1.5.0",
            "_view_name": "HTMLView",
            "description": "",
            "description_tooltip": null,
            "layout": "IPY_MODEL_9053d3599a7047eda94fcb69a729f208",
            "placeholder": "​",
            "style": "IPY_MODEL_456cb497e1c043a9bb3b48e3f72ccd5c",
            "value": " 389/389 [00:00&lt;00:00, 21.1kB/s]"
          }
        },
        "877b19aca9c548b5abba12285c3fea30": {
          "model_module": "@jupyter-widgets/controls",
          "model_module_version": "1.5.0",
          "model_name": "DescriptionStyleModel",
          "state": {
            "_model_module": "@jupyter-widgets/controls",
            "_model_module_version": "1.5.0",
            "_model_name": "DescriptionStyleModel",
            "_view_count": null,
            "_view_module": "@jupyter-widgets/base",
            "_view_module_version": "1.2.0",
            "_view_name": "StyleView",
            "description_width": ""
          }
        },
        "884f35bf85224d539e6caefd6ec0d17a": {
          "model_module": "@jupyter-widgets/controls",
          "model_module_version": "1.5.0",
          "model_name": "FloatProgressModel",
          "state": {
            "_dom_classes": [],
            "_model_module": "@jupyter-widgets/controls",
            "_model_module_version": "1.5.0",
            "_model_name": "FloatProgressModel",
            "_view_count": null,
            "_view_module": "@jupyter-widgets/controls",
            "_view_module_version": "1.5.0",
            "_view_name": "ProgressView",
            "bar_style": "",
            "description": "",
            "description_tooltip": null,
            "layout": "IPY_MODEL_f25af294ab034ab4bb7fdd82939c264a",
            "max": 16506,
            "min": 0,
            "orientation": "horizontal",
            "style": "IPY_MODEL_290bc5d5a231428b96ef4c591ec06b58",
            "value": 16506
          }
        },
        "8ca31299db9b4fbe997ba64023e9462a": {
          "model_module": "@jupyter-widgets/base",
          "model_module_version": "1.2.0",
          "model_name": "LayoutModel",
          "state": {
            "_model_module": "@jupyter-widgets/base",
            "_model_module_version": "1.2.0",
            "_model_name": "LayoutModel",
            "_view_count": null,
            "_view_module": "@jupyter-widgets/base",
            "_view_module_version": "1.2.0",
            "_view_name": "LayoutView",
            "align_content": null,
            "align_items": null,
            "align_self": null,
            "border": null,
            "bottom": null,
            "display": null,
            "flex": null,
            "flex_flow": null,
            "grid_area": null,
            "grid_auto_columns": null,
            "grid_auto_flow": null,
            "grid_auto_rows": null,
            "grid_column": null,
            "grid_gap": null,
            "grid_row": null,
            "grid_template_areas": null,
            "grid_template_columns": null,
            "grid_template_rows": null,
            "height": null,
            "justify_content": null,
            "justify_items": null,
            "left": null,
            "margin": null,
            "max_height": null,
            "max_width": null,
            "min_height": null,
            "min_width": null,
            "object_fit": null,
            "object_position": null,
            "order": null,
            "overflow": null,
            "overflow_x": null,
            "overflow_y": null,
            "padding": null,
            "right": null,
            "top": null,
            "visibility": null,
            "width": null
          }
        },
        "8cb7629421054928aa022f61c34cbb08": {
          "model_module": "@jupyter-widgets/base",
          "model_module_version": "1.2.0",
          "model_name": "LayoutModel",
          "state": {
            "_model_module": "@jupyter-widgets/base",
            "_model_module_version": "1.2.0",
            "_model_name": "LayoutModel",
            "_view_count": null,
            "_view_module": "@jupyter-widgets/base",
            "_view_module_version": "1.2.0",
            "_view_name": "LayoutView",
            "align_content": null,
            "align_items": null,
            "align_self": null,
            "border": null,
            "bottom": null,
            "display": null,
            "flex": null,
            "flex_flow": null,
            "grid_area": null,
            "grid_auto_columns": null,
            "grid_auto_flow": null,
            "grid_auto_rows": null,
            "grid_column": null,
            "grid_gap": null,
            "grid_row": null,
            "grid_template_areas": null,
            "grid_template_columns": null,
            "grid_template_rows": null,
            "height": null,
            "justify_content": null,
            "justify_items": null,
            "left": null,
            "margin": null,
            "max_height": null,
            "max_width": null,
            "min_height": null,
            "min_width": null,
            "object_fit": null,
            "object_position": null,
            "order": null,
            "overflow": null,
            "overflow_x": null,
            "overflow_y": null,
            "padding": null,
            "right": null,
            "top": null,
            "visibility": null,
            "width": null
          }
        },
        "8d3ef1a756e34faebb562e37bf43d6d4": {
          "model_module": "@jupyter-widgets/controls",
          "model_module_version": "1.5.0",
          "model_name": "ProgressStyleModel",
          "state": {
            "_model_module": "@jupyter-widgets/controls",
            "_model_module_version": "1.5.0",
            "_model_name": "ProgressStyleModel",
            "_view_count": null,
            "_view_module": "@jupyter-widgets/base",
            "_view_module_version": "1.2.0",
            "_view_name": "StyleView",
            "bar_color": null,
            "description_width": ""
          }
        },
        "8db6d487fe20466ab8e47f1d8ed138ce": {
          "model_module": "@jupyter-widgets/controls",
          "model_module_version": "1.5.0",
          "model_name": "DescriptionStyleModel",
          "state": {
            "_model_module": "@jupyter-widgets/controls",
            "_model_module_version": "1.5.0",
            "_model_name": "DescriptionStyleModel",
            "_view_count": null,
            "_view_module": "@jupyter-widgets/base",
            "_view_module_version": "1.2.0",
            "_view_name": "StyleView",
            "description_width": ""
          }
        },
        "8dbc9d51708a4c6286fbece7f4b0cf6b": {
          "model_module": "@jupyter-widgets/controls",
          "model_module_version": "1.5.0",
          "model_name": "HTMLModel",
          "state": {
            "_dom_classes": [],
            "_model_module": "@jupyter-widgets/controls",
            "_model_module_version": "1.5.0",
            "_model_name": "HTMLModel",
            "_view_count": null,
            "_view_module": "@jupyter-widgets/controls",
            "_view_module_version": "1.5.0",
            "_view_name": "HTMLView",
            "description": "",
            "description_tooltip": null,
            "layout": "IPY_MODEL_fc5c875c59f84b7ba2acc45cad6252b7",
            "placeholder": "​",
            "style": "IPY_MODEL_59d379492cc444f5871034360dca2048",
            "value": " 30708/30708 [00:05&lt;00:00, 5200.65 examples/s]"
          }
        },
        "8dbd9c22ddca4d19afcb596390ef8240": {
          "model_module": "@jupyter-widgets/controls",
          "model_module_version": "1.5.0",
          "model_name": "DescriptionStyleModel",
          "state": {
            "_model_module": "@jupyter-widgets/controls",
            "_model_module_version": "1.5.0",
            "_model_name": "DescriptionStyleModel",
            "_view_count": null,
            "_view_module": "@jupyter-widgets/base",
            "_view_module_version": "1.2.0",
            "_view_name": "StyleView",
            "description_width": ""
          }
        },
        "8ee6af9b0dfa4f57b5adbf5e0da863b9": {
          "model_module": "@jupyter-widgets/base",
          "model_module_version": "1.2.0",
          "model_name": "LayoutModel",
          "state": {
            "_model_module": "@jupyter-widgets/base",
            "_model_module_version": "1.2.0",
            "_model_name": "LayoutModel",
            "_view_count": null,
            "_view_module": "@jupyter-widgets/base",
            "_view_module_version": "1.2.0",
            "_view_name": "LayoutView",
            "align_content": null,
            "align_items": null,
            "align_self": null,
            "border": null,
            "bottom": null,
            "display": null,
            "flex": null,
            "flex_flow": null,
            "grid_area": null,
            "grid_auto_columns": null,
            "grid_auto_flow": null,
            "grid_auto_rows": null,
            "grid_column": null,
            "grid_gap": null,
            "grid_row": null,
            "grid_template_areas": null,
            "grid_template_columns": null,
            "grid_template_rows": null,
            "height": null,
            "justify_content": null,
            "justify_items": null,
            "left": null,
            "margin": null,
            "max_height": null,
            "max_width": null,
            "min_height": null,
            "min_width": null,
            "object_fit": null,
            "object_position": null,
            "order": null,
            "overflow": null,
            "overflow_x": null,
            "overflow_y": null,
            "padding": null,
            "right": null,
            "top": null,
            "visibility": null,
            "width": null
          }
        },
        "903e09d325f848a7a983d80e41b92cf6": {
          "model_module": "@jupyter-widgets/controls",
          "model_module_version": "1.5.0",
          "model_name": "FloatProgressModel",
          "state": {
            "_dom_classes": [],
            "_model_module": "@jupyter-widgets/controls",
            "_model_module_version": "1.5.0",
            "_model_name": "FloatProgressModel",
            "_view_count": null,
            "_view_module": "@jupyter-widgets/controls",
            "_view_module_version": "1.5.0",
            "_view_name": "ProgressView",
            "bar_style": "",
            "description": "",
            "description_tooltip": null,
            "layout": "IPY_MODEL_9584ea6494fc43efbe071fcf72da28b3",
            "max": 16506,
            "min": 0,
            "orientation": "horizontal",
            "style": "IPY_MODEL_e83bb95fcff440dba17a2262482d007b",
            "value": 16506
          }
        },
        "9053d3599a7047eda94fcb69a729f208": {
          "model_module": "@jupyter-widgets/base",
          "model_module_version": "1.2.0",
          "model_name": "LayoutModel",
          "state": {
            "_model_module": "@jupyter-widgets/base",
            "_model_module_version": "1.2.0",
            "_model_name": "LayoutModel",
            "_view_count": null,
            "_view_module": "@jupyter-widgets/base",
            "_view_module_version": "1.2.0",
            "_view_name": "LayoutView",
            "align_content": null,
            "align_items": null,
            "align_self": null,
            "border": null,
            "bottom": null,
            "display": null,
            "flex": null,
            "flex_flow": null,
            "grid_area": null,
            "grid_auto_columns": null,
            "grid_auto_flow": null,
            "grid_auto_rows": null,
            "grid_column": null,
            "grid_gap": null,
            "grid_row": null,
            "grid_template_areas": null,
            "grid_template_columns": null,
            "grid_template_rows": null,
            "height": null,
            "justify_content": null,
            "justify_items": null,
            "left": null,
            "margin": null,
            "max_height": null,
            "max_width": null,
            "min_height": null,
            "min_width": null,
            "object_fit": null,
            "object_position": null,
            "order": null,
            "overflow": null,
            "overflow_x": null,
            "overflow_y": null,
            "padding": null,
            "right": null,
            "top": null,
            "visibility": null,
            "width": null
          }
        },
        "90697d0e5ff04e339e6f760c905d13cb": {
          "model_module": "@jupyter-widgets/base",
          "model_module_version": "1.2.0",
          "model_name": "LayoutModel",
          "state": {
            "_model_module": "@jupyter-widgets/base",
            "_model_module_version": "1.2.0",
            "_model_name": "LayoutModel",
            "_view_count": null,
            "_view_module": "@jupyter-widgets/base",
            "_view_module_version": "1.2.0",
            "_view_name": "LayoutView",
            "align_content": null,
            "align_items": null,
            "align_self": null,
            "border": null,
            "bottom": null,
            "display": null,
            "flex": null,
            "flex_flow": null,
            "grid_area": null,
            "grid_auto_columns": null,
            "grid_auto_flow": null,
            "grid_auto_rows": null,
            "grid_column": null,
            "grid_gap": null,
            "grid_row": null,
            "grid_template_areas": null,
            "grid_template_columns": null,
            "grid_template_rows": null,
            "height": null,
            "justify_content": null,
            "justify_items": null,
            "left": null,
            "margin": null,
            "max_height": null,
            "max_width": null,
            "min_height": null,
            "min_width": null,
            "object_fit": null,
            "object_position": null,
            "order": null,
            "overflow": null,
            "overflow_x": null,
            "overflow_y": null,
            "padding": null,
            "right": null,
            "top": null,
            "visibility": null,
            "width": null
          }
        },
        "908d5d3583644042adb44be083b705bc": {
          "model_module": "@jupyter-widgets/base",
          "model_module_version": "1.2.0",
          "model_name": "LayoutModel",
          "state": {
            "_model_module": "@jupyter-widgets/base",
            "_model_module_version": "1.2.0",
            "_model_name": "LayoutModel",
            "_view_count": null,
            "_view_module": "@jupyter-widgets/base",
            "_view_module_version": "1.2.0",
            "_view_name": "LayoutView",
            "align_content": null,
            "align_items": null,
            "align_self": null,
            "border": null,
            "bottom": null,
            "display": null,
            "flex": null,
            "flex_flow": null,
            "grid_area": null,
            "grid_auto_columns": null,
            "grid_auto_flow": null,
            "grid_auto_rows": null,
            "grid_column": null,
            "grid_gap": null,
            "grid_row": null,
            "grid_template_areas": null,
            "grid_template_columns": null,
            "grid_template_rows": null,
            "height": null,
            "justify_content": null,
            "justify_items": null,
            "left": null,
            "margin": null,
            "max_height": null,
            "max_width": null,
            "min_height": null,
            "min_width": null,
            "object_fit": null,
            "object_position": null,
            "order": null,
            "overflow": null,
            "overflow_x": null,
            "overflow_y": null,
            "padding": null,
            "right": null,
            "top": null,
            "visibility": null,
            "width": null
          }
        },
        "916b1730e2b44748a12e29cba257e249": {
          "model_module": "@jupyter-widgets/controls",
          "model_module_version": "1.5.0",
          "model_name": "DescriptionStyleModel",
          "state": {
            "_model_module": "@jupyter-widgets/controls",
            "_model_module_version": "1.5.0",
            "_model_name": "DescriptionStyleModel",
            "_view_count": null,
            "_view_module": "@jupyter-widgets/base",
            "_view_module_version": "1.2.0",
            "_view_name": "StyleView",
            "description_width": ""
          }
        },
        "91eecbd3273047ee873ad3cd7819ed01": {
          "model_module": "@jupyter-widgets/controls",
          "model_module_version": "1.5.0",
          "model_name": "HTMLModel",
          "state": {
            "_dom_classes": [],
            "_model_module": "@jupyter-widgets/controls",
            "_model_module_version": "1.5.0",
            "_model_name": "HTMLModel",
            "_view_count": null,
            "_view_module": "@jupyter-widgets/controls",
            "_view_module_version": "1.5.0",
            "_view_name": "HTMLView",
            "description": "",
            "description_tooltip": null,
            "layout": "IPY_MODEL_c0c96cc17fa044638b34e7bf401e8d71",
            "placeholder": "​",
            "style": "IPY_MODEL_b2244bf62c0b456db29bf1d8f143d7a1",
            "value": "\n<b>Pro Tip:</b> If you don't already have one, you can create a dedicated\n'notebooks' token with 'write' access, that you can then easily reuse for all\nnotebooks. </center>"
          }
        },
        "93e4f15aa01f4892926689a3a7b420d8": {
          "model_module": "@jupyter-widgets/base",
          "model_module_version": "1.2.0",
          "model_name": "LayoutModel",
          "state": {
            "_model_module": "@jupyter-widgets/base",
            "_model_module_version": "1.2.0",
            "_model_name": "LayoutModel",
            "_view_count": null,
            "_view_module": "@jupyter-widgets/base",
            "_view_module_version": "1.2.0",
            "_view_name": "LayoutView",
            "align_content": null,
            "align_items": null,
            "align_self": null,
            "border": null,
            "bottom": null,
            "display": null,
            "flex": null,
            "flex_flow": null,
            "grid_area": null,
            "grid_auto_columns": null,
            "grid_auto_flow": null,
            "grid_auto_rows": null,
            "grid_column": null,
            "grid_gap": null,
            "grid_row": null,
            "grid_template_areas": null,
            "grid_template_columns": null,
            "grid_template_rows": null,
            "height": null,
            "justify_content": null,
            "justify_items": null,
            "left": null,
            "margin": null,
            "max_height": null,
            "max_width": null,
            "min_height": null,
            "min_width": null,
            "object_fit": null,
            "object_position": null,
            "order": null,
            "overflow": null,
            "overflow_x": null,
            "overflow_y": null,
            "padding": null,
            "right": null,
            "top": null,
            "visibility": null,
            "width": null
          }
        },
        "9584ea6494fc43efbe071fcf72da28b3": {
          "model_module": "@jupyter-widgets/base",
          "model_module_version": "1.2.0",
          "model_name": "LayoutModel",
          "state": {
            "_model_module": "@jupyter-widgets/base",
            "_model_module_version": "1.2.0",
            "_model_name": "LayoutModel",
            "_view_count": null,
            "_view_module": "@jupyter-widgets/base",
            "_view_module_version": "1.2.0",
            "_view_name": "LayoutView",
            "align_content": null,
            "align_items": null,
            "align_self": null,
            "border": null,
            "bottom": null,
            "display": null,
            "flex": null,
            "flex_flow": null,
            "grid_area": null,
            "grid_auto_columns": null,
            "grid_auto_flow": null,
            "grid_auto_rows": null,
            "grid_column": null,
            "grid_gap": null,
            "grid_row": null,
            "grid_template_areas": null,
            "grid_template_columns": null,
            "grid_template_rows": null,
            "height": null,
            "justify_content": null,
            "justify_items": null,
            "left": null,
            "margin": null,
            "max_height": null,
            "max_width": null,
            "min_height": null,
            "min_width": null,
            "object_fit": null,
            "object_position": null,
            "order": null,
            "overflow": null,
            "overflow_x": null,
            "overflow_y": null,
            "padding": null,
            "right": null,
            "top": null,
            "visibility": null,
            "width": null
          }
        },
        "96fab344b404490e8ba8ad3a28a053a1": {
          "model_module": "@jupyter-widgets/base",
          "model_module_version": "1.2.0",
          "model_name": "LayoutModel",
          "state": {
            "_model_module": "@jupyter-widgets/base",
            "_model_module_version": "1.2.0",
            "_model_name": "LayoutModel",
            "_view_count": null,
            "_view_module": "@jupyter-widgets/base",
            "_view_module_version": "1.2.0",
            "_view_name": "LayoutView",
            "align_content": null,
            "align_items": null,
            "align_self": null,
            "border": null,
            "bottom": null,
            "display": null,
            "flex": null,
            "flex_flow": null,
            "grid_area": null,
            "grid_auto_columns": null,
            "grid_auto_flow": null,
            "grid_auto_rows": null,
            "grid_column": null,
            "grid_gap": null,
            "grid_row": null,
            "grid_template_areas": null,
            "grid_template_columns": null,
            "grid_template_rows": null,
            "height": null,
            "justify_content": null,
            "justify_items": null,
            "left": null,
            "margin": null,
            "max_height": null,
            "max_width": null,
            "min_height": null,
            "min_width": null,
            "object_fit": null,
            "object_position": null,
            "order": null,
            "overflow": null,
            "overflow_x": null,
            "overflow_y": null,
            "padding": null,
            "right": null,
            "top": null,
            "visibility": null,
            "width": null
          }
        },
        "976364c38f7b452386cfb377fde2e920": {
          "model_module": "@jupyter-widgets/controls",
          "model_module_version": "1.5.0",
          "model_name": "HBoxModel",
          "state": {
            "_dom_classes": [],
            "_model_module": "@jupyter-widgets/controls",
            "_model_module_version": "1.5.0",
            "_model_name": "HBoxModel",
            "_view_count": null,
            "_view_module": "@jupyter-widgets/controls",
            "_view_module_version": "1.5.0",
            "_view_name": "HBoxView",
            "box_style": "",
            "children": [
              "IPY_MODEL_a109ed05625d48089b9383c3800aeeb9",
              "IPY_MODEL_d42b6eab1e424d5c83cd8f766d7cdc94",
              "IPY_MODEL_81eaebbd347f447ca25a056e6d9db32c"
            ],
            "layout": "IPY_MODEL_40e76033a5094329956f2d26285719cc"
          }
        },
        "9b1017040d6b4a1fbe8fbc7dd072b006": {
          "model_module": "@jupyter-widgets/controls",
          "model_module_version": "1.5.0",
          "model_name": "DescriptionStyleModel",
          "state": {
            "_model_module": "@jupyter-widgets/controls",
            "_model_module_version": "1.5.0",
            "_model_name": "DescriptionStyleModel",
            "_view_count": null,
            "_view_module": "@jupyter-widgets/base",
            "_view_module_version": "1.2.0",
            "_view_name": "StyleView",
            "description_width": ""
          }
        },
        "a109ed05625d48089b9383c3800aeeb9": {
          "model_module": "@jupyter-widgets/controls",
          "model_module_version": "1.5.0",
          "model_name": "HTMLModel",
          "state": {
            "_dom_classes": [],
            "_model_module": "@jupyter-widgets/controls",
            "_model_module_version": "1.5.0",
            "_model_name": "HTMLModel",
            "_view_count": null,
            "_view_module": "@jupyter-widgets/controls",
            "_view_module_version": "1.5.0",
            "_view_name": "HTMLView",
            "description": "",
            "description_tooltip": null,
            "layout": "IPY_MODEL_b148dbd876c24b1db1293e2bde0cc676",
            "placeholder": "​",
            "style": "IPY_MODEL_916b1730e2b44748a12e29cba257e249",
            "value": "Downloading (…)lve/main/config.json: 100%"
          }
        },
        "a28940eb17104d08a7180054c0daa6c6": {
          "model_module": "@jupyter-widgets/controls",
          "model_module_version": "1.5.0",
          "model_name": "HTMLModel",
          "state": {
            "_dom_classes": [],
            "_model_module": "@jupyter-widgets/controls",
            "_model_module_version": "1.5.0",
            "_model_name": "HTMLModel",
            "_view_count": null,
            "_view_module": "@jupyter-widgets/controls",
            "_view_module_version": "1.5.0",
            "_view_name": "HTMLView",
            "description": "",
            "description_tooltip": null,
            "layout": "IPY_MODEL_96fab344b404490e8ba8ad3a28a053a1",
            "placeholder": "​",
            "style": "IPY_MODEL_b3b1d3702b3848038f8c5b0e4518405c",
            "value": " 7946/7946 [00:00&lt;00:00, 14830.74 examples/s]"
          }
        },
        "a316c514939b4e19b7285dc6d86a2ab6": {
          "model_module": "@jupyter-widgets/controls",
          "model_module_version": "1.5.0",
          "model_name": "HTMLModel",
          "state": {
            "_dom_classes": [],
            "_model_module": "@jupyter-widgets/controls",
            "_model_module_version": "1.5.0",
            "_model_name": "HTMLModel",
            "_view_count": null,
            "_view_module": "@jupyter-widgets/controls",
            "_view_module_version": "1.5.0",
            "_view_name": "HTMLView",
            "description": "",
            "description_tooltip": null,
            "layout": "IPY_MODEL_90697d0e5ff04e339e6f760c905d13cb",
            "placeholder": "​",
            "style": "IPY_MODEL_aa5cf005c15a42a58f76ace905da57de",
            "value": "Map: 100%"
          }
        },
        "a352c67480e34a7ab4eccc783fbd834a": {
          "model_module": "@jupyter-widgets/controls",
          "model_module_version": "1.5.0",
          "model_name": "HTMLModel",
          "state": {
            "_dom_classes": [],
            "_model_module": "@jupyter-widgets/controls",
            "_model_module_version": "1.5.0",
            "_model_name": "HTMLModel",
            "_view_count": null,
            "_view_module": "@jupyter-widgets/controls",
            "_view_module_version": "1.5.0",
            "_view_name": "HTMLView",
            "description": "",
            "description_tooltip": null,
            "layout": "IPY_MODEL_49a6248f91fa4fa7b486c5696c589a3d",
            "placeholder": "​",
            "style": "IPY_MODEL_e556ceee5e394d02826cef67cb82fdc0",
            "value": "Downloading pytorch_model.bin: 100%"
          }
        },
        "a439b8eeae234a18abfec5449635ece7": {
          "model_module": "@jupyter-widgets/base",
          "model_module_version": "1.2.0",
          "model_name": "LayoutModel",
          "state": {
            "_model_module": "@jupyter-widgets/base",
            "_model_module_version": "1.2.0",
            "_model_name": "LayoutModel",
            "_view_count": null,
            "_view_module": "@jupyter-widgets/base",
            "_view_module_version": "1.2.0",
            "_view_name": "LayoutView",
            "align_content": null,
            "align_items": null,
            "align_self": null,
            "border": null,
            "bottom": null,
            "display": null,
            "flex": null,
            "flex_flow": null,
            "grid_area": null,
            "grid_auto_columns": null,
            "grid_auto_flow": null,
            "grid_auto_rows": null,
            "grid_column": null,
            "grid_gap": null,
            "grid_row": null,
            "grid_template_areas": null,
            "grid_template_columns": null,
            "grid_template_rows": null,
            "height": null,
            "justify_content": null,
            "justify_items": null,
            "left": null,
            "margin": null,
            "max_height": null,
            "max_width": null,
            "min_height": null,
            "min_width": null,
            "object_fit": null,
            "object_position": null,
            "order": null,
            "overflow": null,
            "overflow_x": null,
            "overflow_y": null,
            "padding": null,
            "right": null,
            "top": null,
            "visibility": null,
            "width": null
          }
        },
        "a50549e49d0449f1bbec8657f8b8cff4": {
          "model_module": "@jupyter-widgets/base",
          "model_module_version": "1.2.0",
          "model_name": "LayoutModel",
          "state": {
            "_model_module": "@jupyter-widgets/base",
            "_model_module_version": "1.2.0",
            "_model_name": "LayoutModel",
            "_view_count": null,
            "_view_module": "@jupyter-widgets/base",
            "_view_module_version": "1.2.0",
            "_view_name": "LayoutView",
            "align_content": null,
            "align_items": null,
            "align_self": null,
            "border": null,
            "bottom": null,
            "display": null,
            "flex": null,
            "flex_flow": null,
            "grid_area": null,
            "grid_auto_columns": null,
            "grid_auto_flow": null,
            "grid_auto_rows": null,
            "grid_column": null,
            "grid_gap": null,
            "grid_row": null,
            "grid_template_areas": null,
            "grid_template_columns": null,
            "grid_template_rows": null,
            "height": null,
            "justify_content": null,
            "justify_items": null,
            "left": null,
            "margin": null,
            "max_height": null,
            "max_width": null,
            "min_height": null,
            "min_width": null,
            "object_fit": null,
            "object_position": null,
            "order": null,
            "overflow": null,
            "overflow_x": null,
            "overflow_y": null,
            "padding": null,
            "right": null,
            "top": null,
            "visibility": null,
            "width": null
          }
        },
        "a5c3a505f6fa46d1984e10d1380104a2": {
          "model_module": "@jupyter-widgets/controls",
          "model_module_version": "1.5.0",
          "model_name": "HTMLModel",
          "state": {
            "_dom_classes": [],
            "_model_module": "@jupyter-widgets/controls",
            "_model_module_version": "1.5.0",
            "_model_name": "HTMLModel",
            "_view_count": null,
            "_view_module": "@jupyter-widgets/controls",
            "_view_module_version": "1.5.0",
            "_view_name": "HTMLView",
            "description": "",
            "description_tooltip": null,
            "layout": "IPY_MODEL_1befaef2def94684adf94ef38526c8a3",
            "placeholder": "​",
            "style": "IPY_MODEL_45a649ac3a3e4b6d956ce9e28989b9a3",
            "value": "Downloading (…)okenizer_config.json: 100%"
          }
        },
        "a8bfe019da65467c9ed8d7eecb8485d7": {
          "model_module": "@jupyter-widgets/controls",
          "model_module_version": "1.5.0",
          "model_name": "DescriptionStyleModel",
          "state": {
            "_model_module": "@jupyter-widgets/controls",
            "_model_module_version": "1.5.0",
            "_model_name": "DescriptionStyleModel",
            "_view_count": null,
            "_view_module": "@jupyter-widgets/base",
            "_view_module_version": "1.2.0",
            "_view_name": "StyleView",
            "description_width": ""
          }
        },
        "a9cdb16d85d64cb7be010468f72fe236": {
          "model_module": "@jupyter-widgets/controls",
          "model_module_version": "1.5.0",
          "model_name": "DescriptionStyleModel",
          "state": {
            "_model_module": "@jupyter-widgets/controls",
            "_model_module_version": "1.5.0",
            "_model_name": "DescriptionStyleModel",
            "_view_count": null,
            "_view_module": "@jupyter-widgets/base",
            "_view_module_version": "1.2.0",
            "_view_name": "StyleView",
            "description_width": ""
          }
        },
        "aa5cf005c15a42a58f76ace905da57de": {
          "model_module": "@jupyter-widgets/controls",
          "model_module_version": "1.5.0",
          "model_name": "DescriptionStyleModel",
          "state": {
            "_model_module": "@jupyter-widgets/controls",
            "_model_module_version": "1.5.0",
            "_model_name": "DescriptionStyleModel",
            "_view_count": null,
            "_view_module": "@jupyter-widgets/base",
            "_view_module_version": "1.2.0",
            "_view_name": "StyleView",
            "description_width": ""
          }
        },
        "aa5f11c8c9604b9f85f9320acceb4aac": {
          "model_module": "@jupyter-widgets/controls",
          "model_module_version": "1.5.0",
          "model_name": "HTMLModel",
          "state": {
            "_dom_classes": [],
            "_model_module": "@jupyter-widgets/controls",
            "_model_module_version": "1.5.0",
            "_model_name": "HTMLModel",
            "_view_count": null,
            "_view_module": "@jupyter-widgets/controls",
            "_view_module_version": "1.5.0",
            "_view_name": "HTMLView",
            "description": "",
            "description_tooltip": null,
            "layout": "IPY_MODEL_78fad0b91fb04382ac5cb9673e8598e9",
            "placeholder": "​",
            "style": "IPY_MODEL_b2aa90a568e8437aa48b3686e355649f",
            "value": " 28/28 [00:00&lt;00:00, 99.85it/s]"
          }
        },
        "ac7b2470047a4b7c895858d8a1dfb7d6": {
          "model_module": "@jupyter-widgets/base",
          "model_module_version": "1.2.0",
          "model_name": "LayoutModel",
          "state": {
            "_model_module": "@jupyter-widgets/base",
            "_model_module_version": "1.2.0",
            "_model_name": "LayoutModel",
            "_view_count": null,
            "_view_module": "@jupyter-widgets/base",
            "_view_module_version": "1.2.0",
            "_view_name": "LayoutView",
            "align_content": null,
            "align_items": null,
            "align_self": null,
            "border": null,
            "bottom": null,
            "display": null,
            "flex": null,
            "flex_flow": null,
            "grid_area": null,
            "grid_auto_columns": null,
            "grid_auto_flow": null,
            "grid_auto_rows": null,
            "grid_column": null,
            "grid_gap": null,
            "grid_row": null,
            "grid_template_areas": null,
            "grid_template_columns": null,
            "grid_template_rows": null,
            "height": null,
            "justify_content": null,
            "justify_items": null,
            "left": null,
            "margin": null,
            "max_height": null,
            "max_width": null,
            "min_height": null,
            "min_width": null,
            "object_fit": null,
            "object_position": null,
            "order": null,
            "overflow": null,
            "overflow_x": null,
            "overflow_y": null,
            "padding": null,
            "right": null,
            "top": null,
            "visibility": null,
            "width": null
          }
        },
        "ae25f16f50394b90a7ac66559392586d": {
          "model_module": "@jupyter-widgets/controls",
          "model_module_version": "1.5.0",
          "model_name": "HTMLModel",
          "state": {
            "_dom_classes": [],
            "_model_module": "@jupyter-widgets/controls",
            "_model_module_version": "1.5.0",
            "_model_name": "HTMLModel",
            "_view_count": null,
            "_view_module": "@jupyter-widgets/controls",
            "_view_module_version": "1.5.0",
            "_view_name": "HTMLView",
            "description": "",
            "description_tooltip": null,
            "layout": "IPY_MODEL_69570c24726140aa8c3b0865fa0759fb",
            "placeholder": "​",
            "style": "IPY_MODEL_a9cdb16d85d64cb7be010468f72fe236",
            "value": "Map: 100%"
          }
        },
        "ae8cd8923e2e486eb67a6b46c8654b3f": {
          "model_module": "@jupyter-widgets/controls",
          "model_module_version": "1.5.0",
          "model_name": "DescriptionStyleModel",
          "state": {
            "_model_module": "@jupyter-widgets/controls",
            "_model_module_version": "1.5.0",
            "_model_name": "DescriptionStyleModel",
            "_view_count": null,
            "_view_module": "@jupyter-widgets/base",
            "_view_module_version": "1.2.0",
            "_view_name": "StyleView",
            "description_width": ""
          }
        },
        "b148dbd876c24b1db1293e2bde0cc676": {
          "model_module": "@jupyter-widgets/base",
          "model_module_version": "1.2.0",
          "model_name": "LayoutModel",
          "state": {
            "_model_module": "@jupyter-widgets/base",
            "_model_module_version": "1.2.0",
            "_model_name": "LayoutModel",
            "_view_count": null,
            "_view_module": "@jupyter-widgets/base",
            "_view_module_version": "1.2.0",
            "_view_name": "LayoutView",
            "align_content": null,
            "align_items": null,
            "align_self": null,
            "border": null,
            "bottom": null,
            "display": null,
            "flex": null,
            "flex_flow": null,
            "grid_area": null,
            "grid_auto_columns": null,
            "grid_auto_flow": null,
            "grid_auto_rows": null,
            "grid_column": null,
            "grid_gap": null,
            "grid_row": null,
            "grid_template_areas": null,
            "grid_template_columns": null,
            "grid_template_rows": null,
            "height": null,
            "justify_content": null,
            "justify_items": null,
            "left": null,
            "margin": null,
            "max_height": null,
            "max_width": null,
            "min_height": null,
            "min_width": null,
            "object_fit": null,
            "object_position": null,
            "order": null,
            "overflow": null,
            "overflow_x": null,
            "overflow_y": null,
            "padding": null,
            "right": null,
            "top": null,
            "visibility": null,
            "width": null
          }
        },
        "b2244bf62c0b456db29bf1d8f143d7a1": {
          "model_module": "@jupyter-widgets/controls",
          "model_module_version": "1.5.0",
          "model_name": "DescriptionStyleModel",
          "state": {
            "_model_module": "@jupyter-widgets/controls",
            "_model_module_version": "1.5.0",
            "_model_name": "DescriptionStyleModel",
            "_view_count": null,
            "_view_module": "@jupyter-widgets/base",
            "_view_module_version": "1.2.0",
            "_view_name": "StyleView",
            "description_width": ""
          }
        },
        "b263ae1f2db84c6d98bc4963146997c2": {
          "model_module": "@jupyter-widgets/base",
          "model_module_version": "1.2.0",
          "model_name": "LayoutModel",
          "state": {
            "_model_module": "@jupyter-widgets/base",
            "_model_module_version": "1.2.0",
            "_model_name": "LayoutModel",
            "_view_count": null,
            "_view_module": "@jupyter-widgets/base",
            "_view_module_version": "1.2.0",
            "_view_name": "LayoutView",
            "align_content": null,
            "align_items": null,
            "align_self": null,
            "border": null,
            "bottom": null,
            "display": null,
            "flex": null,
            "flex_flow": null,
            "grid_area": null,
            "grid_auto_columns": null,
            "grid_auto_flow": null,
            "grid_auto_rows": null,
            "grid_column": null,
            "grid_gap": null,
            "grid_row": null,
            "grid_template_areas": null,
            "grid_template_columns": null,
            "grid_template_rows": null,
            "height": null,
            "justify_content": null,
            "justify_items": null,
            "left": null,
            "margin": null,
            "max_height": null,
            "max_width": null,
            "min_height": null,
            "min_width": null,
            "object_fit": null,
            "object_position": null,
            "order": null,
            "overflow": null,
            "overflow_x": null,
            "overflow_y": null,
            "padding": null,
            "right": null,
            "top": null,
            "visibility": null,
            "width": null
          }
        },
        "b2aa90a568e8437aa48b3686e355649f": {
          "model_module": "@jupyter-widgets/controls",
          "model_module_version": "1.5.0",
          "model_name": "DescriptionStyleModel",
          "state": {
            "_model_module": "@jupyter-widgets/controls",
            "_model_module_version": "1.5.0",
            "_model_name": "DescriptionStyleModel",
            "_view_count": null,
            "_view_module": "@jupyter-widgets/base",
            "_view_module_version": "1.2.0",
            "_view_name": "StyleView",
            "description_width": ""
          }
        },
        "b3b1d3702b3848038f8c5b0e4518405c": {
          "model_module": "@jupyter-widgets/controls",
          "model_module_version": "1.5.0",
          "model_name": "DescriptionStyleModel",
          "state": {
            "_model_module": "@jupyter-widgets/controls",
            "_model_module_version": "1.5.0",
            "_model_name": "DescriptionStyleModel",
            "_view_count": null,
            "_view_module": "@jupyter-widgets/base",
            "_view_module_version": "1.2.0",
            "_view_name": "StyleView",
            "description_width": ""
          }
        },
        "b582b138381d4665a4a238b8df4a3718": {
          "model_module": "@jupyter-widgets/controls",
          "model_module_version": "1.5.0",
          "model_name": "HTMLModel",
          "state": {
            "_dom_classes": [],
            "_model_module": "@jupyter-widgets/controls",
            "_model_module_version": "1.5.0",
            "_model_name": "HTMLModel",
            "_view_count": null,
            "_view_module": "@jupyter-widgets/controls",
            "_view_module_version": "1.5.0",
            "_view_name": "HTMLView",
            "description": "",
            "description_tooltip": null,
            "layout": "IPY_MODEL_8123dc12bf20467c86061c79f698f342",
            "placeholder": "​",
            "style": "IPY_MODEL_fae4f47920d34f7cb6b79ba0d72e9e71",
            "value": " 397M/397M [00:10&lt;00:00, 37.3MB/s]"
          }
        },
        "b70a555b41eb46cbaf42470ea8eb3c71": {
          "model_module": "@jupyter-widgets/controls",
          "model_module_version": "1.5.0",
          "model_name": "DescriptionStyleModel",
          "state": {
            "_model_module": "@jupyter-widgets/controls",
            "_model_module_version": "1.5.0",
            "_model_name": "DescriptionStyleModel",
            "_view_count": null,
            "_view_module": "@jupyter-widgets/base",
            "_view_module_version": "1.2.0",
            "_view_name": "StyleView",
            "description_width": ""
          }
        },
        "b9fed0e7adf741949f1719ab80b8fe15": {
          "model_module": "@jupyter-widgets/base",
          "model_module_version": "1.2.0",
          "model_name": "LayoutModel",
          "state": {
            "_model_module": "@jupyter-widgets/base",
            "_model_module_version": "1.2.0",
            "_model_name": "LayoutModel",
            "_view_count": null,
            "_view_module": "@jupyter-widgets/base",
            "_view_module_version": "1.2.0",
            "_view_name": "LayoutView",
            "align_content": null,
            "align_items": null,
            "align_self": null,
            "border": null,
            "bottom": null,
            "display": null,
            "flex": null,
            "flex_flow": null,
            "grid_area": null,
            "grid_auto_columns": null,
            "grid_auto_flow": null,
            "grid_auto_rows": null,
            "grid_column": null,
            "grid_gap": null,
            "grid_row": null,
            "grid_template_areas": null,
            "grid_template_columns": null,
            "grid_template_rows": null,
            "height": null,
            "justify_content": null,
            "justify_items": null,
            "left": null,
            "margin": null,
            "max_height": null,
            "max_width": null,
            "min_height": null,
            "min_width": null,
            "object_fit": null,
            "object_position": null,
            "order": null,
            "overflow": null,
            "overflow_x": null,
            "overflow_y": null,
            "padding": null,
            "right": null,
            "top": null,
            "visibility": null,
            "width": null
          }
        },
        "bab8ddd201f2451eabd0f8ae92faf8c6": {
          "model_module": "@jupyter-widgets/controls",
          "model_module_version": "1.5.0",
          "model_name": "ProgressStyleModel",
          "state": {
            "_model_module": "@jupyter-widgets/controls",
            "_model_module_version": "1.5.0",
            "_model_name": "ProgressStyleModel",
            "_view_count": null,
            "_view_module": "@jupyter-widgets/base",
            "_view_module_version": "1.2.0",
            "_view_name": "StyleView",
            "bar_color": null,
            "description_width": ""
          }
        },
        "bad90619c0e5440a9c88814dd81ea148": {
          "model_module": "@jupyter-widgets/base",
          "model_module_version": "1.2.0",
          "model_name": "LayoutModel",
          "state": {
            "_model_module": "@jupyter-widgets/base",
            "_model_module_version": "1.2.0",
            "_model_name": "LayoutModel",
            "_view_count": null,
            "_view_module": "@jupyter-widgets/base",
            "_view_module_version": "1.2.0",
            "_view_name": "LayoutView",
            "align_content": null,
            "align_items": null,
            "align_self": null,
            "border": null,
            "bottom": null,
            "display": null,
            "flex": null,
            "flex_flow": null,
            "grid_area": null,
            "grid_auto_columns": null,
            "grid_auto_flow": null,
            "grid_auto_rows": null,
            "grid_column": null,
            "grid_gap": null,
            "grid_row": null,
            "grid_template_areas": null,
            "grid_template_columns": null,
            "grid_template_rows": null,
            "height": null,
            "justify_content": null,
            "justify_items": null,
            "left": null,
            "margin": null,
            "max_height": null,
            "max_width": null,
            "min_height": null,
            "min_width": null,
            "object_fit": null,
            "object_position": null,
            "order": null,
            "overflow": null,
            "overflow_x": null,
            "overflow_y": null,
            "padding": null,
            "right": null,
            "top": null,
            "visibility": "hidden",
            "width": null
          }
        },
        "bdaf516f69f34fa881094b1aa01010d9": {
          "model_module": "@jupyter-widgets/base",
          "model_module_version": "1.2.0",
          "model_name": "LayoutModel",
          "state": {
            "_model_module": "@jupyter-widgets/base",
            "_model_module_version": "1.2.0",
            "_model_name": "LayoutModel",
            "_view_count": null,
            "_view_module": "@jupyter-widgets/base",
            "_view_module_version": "1.2.0",
            "_view_name": "LayoutView",
            "align_content": null,
            "align_items": null,
            "align_self": null,
            "border": null,
            "bottom": null,
            "display": null,
            "flex": null,
            "flex_flow": null,
            "grid_area": null,
            "grid_auto_columns": null,
            "grid_auto_flow": null,
            "grid_auto_rows": null,
            "grid_column": null,
            "grid_gap": null,
            "grid_row": null,
            "grid_template_areas": null,
            "grid_template_columns": null,
            "grid_template_rows": null,
            "height": null,
            "justify_content": null,
            "justify_items": null,
            "left": null,
            "margin": null,
            "max_height": null,
            "max_width": null,
            "min_height": null,
            "min_width": null,
            "object_fit": null,
            "object_position": null,
            "order": null,
            "overflow": null,
            "overflow_x": null,
            "overflow_y": null,
            "padding": null,
            "right": null,
            "top": null,
            "visibility": null,
            "width": null
          }
        },
        "c0c96cc17fa044638b34e7bf401e8d71": {
          "model_module": "@jupyter-widgets/base",
          "model_module_version": "1.2.0",
          "model_name": "LayoutModel",
          "state": {
            "_model_module": "@jupyter-widgets/base",
            "_model_module_version": "1.2.0",
            "_model_name": "LayoutModel",
            "_view_count": null,
            "_view_module": "@jupyter-widgets/base",
            "_view_module_version": "1.2.0",
            "_view_name": "LayoutView",
            "align_content": null,
            "align_items": null,
            "align_self": null,
            "border": null,
            "bottom": null,
            "display": null,
            "flex": null,
            "flex_flow": null,
            "grid_area": null,
            "grid_auto_columns": null,
            "grid_auto_flow": null,
            "grid_auto_rows": null,
            "grid_column": null,
            "grid_gap": null,
            "grid_row": null,
            "grid_template_areas": null,
            "grid_template_columns": null,
            "grid_template_rows": null,
            "height": null,
            "justify_content": null,
            "justify_items": null,
            "left": null,
            "margin": null,
            "max_height": null,
            "max_width": null,
            "min_height": null,
            "min_width": null,
            "object_fit": null,
            "object_position": null,
            "order": null,
            "overflow": null,
            "overflow_x": null,
            "overflow_y": null,
            "padding": null,
            "right": null,
            "top": null,
            "visibility": null,
            "width": null
          }
        },
        "c235f05bba9446eb936fe067daa6f781": {
          "model_module": "@jupyter-widgets/controls",
          "model_module_version": "1.5.0",
          "model_name": "HBoxModel",
          "state": {
            "_dom_classes": [],
            "_model_module": "@jupyter-widgets/controls",
            "_model_module_version": "1.5.0",
            "_model_name": "HBoxModel",
            "_view_count": null,
            "_view_module": "@jupyter-widgets/controls",
            "_view_module_version": "1.5.0",
            "_view_name": "HBoxView",
            "box_style": "",
            "children": [
              "IPY_MODEL_a316c514939b4e19b7285dc6d86a2ab6",
              "IPY_MODEL_2fc867f615014955be9d7d1fb0502a37",
              "IPY_MODEL_24839cf6d0b64f7389d9b215c5b12495"
            ],
            "layout": "IPY_MODEL_4b505bba8d7b4deb9e7c6c140a23d1cf"
          }
        },
        "c2b2f84d0dd946e281eed334d98af1c2": {
          "model_module": "@jupyter-widgets/controls",
          "model_module_version": "1.5.0",
          "model_name": "DescriptionStyleModel",
          "state": {
            "_model_module": "@jupyter-widgets/controls",
            "_model_module_version": "1.5.0",
            "_model_name": "DescriptionStyleModel",
            "_view_count": null,
            "_view_module": "@jupyter-widgets/base",
            "_view_module_version": "1.2.0",
            "_view_name": "StyleView",
            "description_width": ""
          }
        },
        "c3533b7de5b94f38948e6d05de03aaa1": {
          "model_module": "@jupyter-widgets/controls",
          "model_module_version": "1.5.0",
          "model_name": "ProgressStyleModel",
          "state": {
            "_model_module": "@jupyter-widgets/controls",
            "_model_module_version": "1.5.0",
            "_model_name": "ProgressStyleModel",
            "_view_count": null,
            "_view_module": "@jupyter-widgets/base",
            "_view_module_version": "1.2.0",
            "_view_name": "StyleView",
            "bar_color": null,
            "description_width": ""
          }
        },
        "c685bd8990d44322ab80effa4bfdb785": {
          "model_module": "@jupyter-widgets/controls",
          "model_module_version": "1.5.0",
          "model_name": "HTMLModel",
          "state": {
            "_dom_classes": [],
            "_model_module": "@jupyter-widgets/controls",
            "_model_module_version": "1.5.0",
            "_model_name": "HTMLModel",
            "_view_count": null,
            "_view_module": "@jupyter-widgets/controls",
            "_view_module_version": "1.5.0",
            "_view_name": "HTMLView",
            "description": "",
            "description_tooltip": null,
            "layout": "IPY_MODEL_2c745fd839144a81aba59f096a6ec148",
            "placeholder": "​",
            "style": "IPY_MODEL_a8bfe019da65467c9ed8d7eecb8485d7",
            "value": "Map: 100%"
          }
        },
        "c8bbac9297144ba88e35511fc80d7123": {
          "model_module": "@jupyter-widgets/controls",
          "model_module_version": "1.5.0",
          "model_name": "DescriptionStyleModel",
          "state": {
            "_model_module": "@jupyter-widgets/controls",
            "_model_module_version": "1.5.0",
            "_model_name": "DescriptionStyleModel",
            "_view_count": null,
            "_view_module": "@jupyter-widgets/base",
            "_view_module_version": "1.2.0",
            "_view_name": "StyleView",
            "description_width": ""
          }
        },
        "c8feed238fdf4eea9dfe78ecaa65f558": {
          "model_module": "@jupyter-widgets/controls",
          "model_module_version": "1.5.0",
          "model_name": "ProgressStyleModel",
          "state": {
            "_model_module": "@jupyter-widgets/controls",
            "_model_module_version": "1.5.0",
            "_model_name": "ProgressStyleModel",
            "_view_count": null,
            "_view_module": "@jupyter-widgets/base",
            "_view_module_version": "1.2.0",
            "_view_name": "StyleView",
            "bar_color": null,
            "description_width": ""
          }
        },
        "c9e855bb80eb4044be3429f585c9eb72": {
          "model_module": "@jupyter-widgets/controls",
          "model_module_version": "1.5.0",
          "model_name": "ProgressStyleModel",
          "state": {
            "_model_module": "@jupyter-widgets/controls",
            "_model_module_version": "1.5.0",
            "_model_name": "ProgressStyleModel",
            "_view_count": null,
            "_view_module": "@jupyter-widgets/base",
            "_view_module_version": "1.2.0",
            "_view_name": "StyleView",
            "bar_color": null,
            "description_width": ""
          }
        },
        "ca616d7c7134472387ec712c27d1b7b0": {
          "model_module": "@jupyter-widgets/base",
          "model_module_version": "1.2.0",
          "model_name": "LayoutModel",
          "state": {
            "_model_module": "@jupyter-widgets/base",
            "_model_module_version": "1.2.0",
            "_model_name": "LayoutModel",
            "_view_count": null,
            "_view_module": "@jupyter-widgets/base",
            "_view_module_version": "1.2.0",
            "_view_name": "LayoutView",
            "align_content": null,
            "align_items": null,
            "align_self": null,
            "border": null,
            "bottom": null,
            "display": null,
            "flex": null,
            "flex_flow": null,
            "grid_area": null,
            "grid_auto_columns": null,
            "grid_auto_flow": null,
            "grid_auto_rows": null,
            "grid_column": null,
            "grid_gap": null,
            "grid_row": null,
            "grid_template_areas": null,
            "grid_template_columns": null,
            "grid_template_rows": null,
            "height": null,
            "justify_content": null,
            "justify_items": null,
            "left": null,
            "margin": null,
            "max_height": null,
            "max_width": null,
            "min_height": null,
            "min_width": null,
            "object_fit": null,
            "object_position": null,
            "order": null,
            "overflow": null,
            "overflow_x": null,
            "overflow_y": null,
            "padding": null,
            "right": null,
            "top": null,
            "visibility": "hidden",
            "width": null
          }
        },
        "cb613102c11b41fb9ec63a709eaa8e9f": {
          "model_module": "@jupyter-widgets/controls",
          "model_module_version": "1.5.0",
          "model_name": "DescriptionStyleModel",
          "state": {
            "_model_module": "@jupyter-widgets/controls",
            "_model_module_version": "1.5.0",
            "_model_name": "DescriptionStyleModel",
            "_view_count": null,
            "_view_module": "@jupyter-widgets/base",
            "_view_module_version": "1.2.0",
            "_view_name": "StyleView",
            "description_width": ""
          }
        },
        "cba819b39b794729977eca2e9396aa3a": {
          "model_module": "@jupyter-widgets/controls",
          "model_module_version": "1.5.0",
          "model_name": "DescriptionStyleModel",
          "state": {
            "_model_module": "@jupyter-widgets/controls",
            "_model_module_version": "1.5.0",
            "_model_name": "DescriptionStyleModel",
            "_view_count": null,
            "_view_module": "@jupyter-widgets/base",
            "_view_module_version": "1.2.0",
            "_view_name": "StyleView",
            "description_width": ""
          }
        },
        "ce2289a9a58d42cca4bb25fc49b8bba9": {
          "model_module": "@jupyter-widgets/base",
          "model_module_version": "1.2.0",
          "model_name": "LayoutModel",
          "state": {
            "_model_module": "@jupyter-widgets/base",
            "_model_module_version": "1.2.0",
            "_model_name": "LayoutModel",
            "_view_count": null,
            "_view_module": "@jupyter-widgets/base",
            "_view_module_version": "1.2.0",
            "_view_name": "LayoutView",
            "align_content": null,
            "align_items": null,
            "align_self": null,
            "border": null,
            "bottom": null,
            "display": null,
            "flex": null,
            "flex_flow": null,
            "grid_area": null,
            "grid_auto_columns": null,
            "grid_auto_flow": null,
            "grid_auto_rows": null,
            "grid_column": null,
            "grid_gap": null,
            "grid_row": null,
            "grid_template_areas": null,
            "grid_template_columns": null,
            "grid_template_rows": null,
            "height": null,
            "justify_content": null,
            "justify_items": null,
            "left": null,
            "margin": null,
            "max_height": null,
            "max_width": null,
            "min_height": null,
            "min_width": null,
            "object_fit": null,
            "object_position": null,
            "order": null,
            "overflow": null,
            "overflow_x": null,
            "overflow_y": null,
            "padding": null,
            "right": null,
            "top": null,
            "visibility": null,
            "width": null
          }
        },
        "ce4661f0ea6b40de9d89297342f4d290": {
          "model_module": "@jupyter-widgets/controls",
          "model_module_version": "1.5.0",
          "model_name": "ProgressStyleModel",
          "state": {
            "_model_module": "@jupyter-widgets/controls",
            "_model_module_version": "1.5.0",
            "_model_name": "ProgressStyleModel",
            "_view_count": null,
            "_view_module": "@jupyter-widgets/base",
            "_view_module_version": "1.2.0",
            "_view_name": "StyleView",
            "bar_color": null,
            "description_width": ""
          }
        },
        "cff9ba0ef286482b9902ee1be969bf06": {
          "model_module": "@jupyter-widgets/controls",
          "model_module_version": "1.5.0",
          "model_name": "FloatProgressModel",
          "state": {
            "_dom_classes": [],
            "_model_module": "@jupyter-widgets/controls",
            "_model_module_version": "1.5.0",
            "_model_name": "FloatProgressModel",
            "_view_count": null,
            "_view_module": "@jupyter-widgets/controls",
            "_view_module_version": "1.5.0",
            "_view_name": "ProgressView",
            "bar_style": "",
            "description": "",
            "description_tooltip": null,
            "layout": "IPY_MODEL_8ee6af9b0dfa4f57b5adbf5e0da863b9",
            "max": 30708,
            "min": 0,
            "orientation": "horizontal",
            "style": "IPY_MODEL_ce4661f0ea6b40de9d89297342f4d290",
            "value": 30708
          }
        },
        "d01defeb63c54ad49b7ab26b665a145b": {
          "model_module": "@jupyter-widgets/controls",
          "model_module_version": "1.5.0",
          "model_name": "ProgressStyleModel",
          "state": {
            "_model_module": "@jupyter-widgets/controls",
            "_model_module_version": "1.5.0",
            "_model_name": "ProgressStyleModel",
            "_view_count": null,
            "_view_module": "@jupyter-widgets/base",
            "_view_module_version": "1.2.0",
            "_view_name": "StyleView",
            "bar_color": null,
            "description_width": ""
          }
        },
        "d1af110500a44b59a6129768cabcabfc": {
          "model_module": "@jupyter-widgets/controls",
          "model_module_version": "1.5.0",
          "model_name": "HTMLModel",
          "state": {
            "_dom_classes": [],
            "_model_module": "@jupyter-widgets/controls",
            "_model_module_version": "1.5.0",
            "_model_name": "HTMLModel",
            "_view_count": null,
            "_view_module": "@jupyter-widgets/controls",
            "_view_module_version": "1.5.0",
            "_view_name": "HTMLView",
            "description": "",
            "description_tooltip": null,
            "layout": "IPY_MODEL_0c308baebe0149a395311a871a4814e1",
            "placeholder": "​",
            "style": "IPY_MODEL_877b19aca9c548b5abba12285c3fea30",
            "value": " 16506/16506 [00:02&lt;00:00, 7538.68 examples/s]"
          }
        },
        "d4099e661b004322ad986eb3b28e4ff8": {
          "model_module": "@jupyter-widgets/base",
          "model_module_version": "1.2.0",
          "model_name": "LayoutModel",
          "state": {
            "_model_module": "@jupyter-widgets/base",
            "_model_module_version": "1.2.0",
            "_model_name": "LayoutModel",
            "_view_count": null,
            "_view_module": "@jupyter-widgets/base",
            "_view_module_version": "1.2.0",
            "_view_name": "LayoutView",
            "align_content": null,
            "align_items": null,
            "align_self": null,
            "border": null,
            "bottom": null,
            "display": null,
            "flex": null,
            "flex_flow": null,
            "grid_area": null,
            "grid_auto_columns": null,
            "grid_auto_flow": null,
            "grid_auto_rows": null,
            "grid_column": null,
            "grid_gap": null,
            "grid_row": null,
            "grid_template_areas": null,
            "grid_template_columns": null,
            "grid_template_rows": null,
            "height": null,
            "justify_content": null,
            "justify_items": null,
            "left": null,
            "margin": null,
            "max_height": null,
            "max_width": null,
            "min_height": null,
            "min_width": null,
            "object_fit": null,
            "object_position": null,
            "order": null,
            "overflow": null,
            "overflow_x": null,
            "overflow_y": null,
            "padding": null,
            "right": null,
            "top": null,
            "visibility": "hidden",
            "width": null
          }
        },
        "d42b6eab1e424d5c83cd8f766d7cdc94": {
          "model_module": "@jupyter-widgets/controls",
          "model_module_version": "1.5.0",
          "model_name": "FloatProgressModel",
          "state": {
            "_dom_classes": [],
            "_model_module": "@jupyter-widgets/controls",
            "_model_module_version": "1.5.0",
            "_model_name": "FloatProgressModel",
            "_view_count": null,
            "_view_module": "@jupyter-widgets/controls",
            "_view_module_version": "1.5.0",
            "_view_name": "ProgressView",
            "bar_style": "success",
            "description": "",
            "description_tooltip": null,
            "layout": "IPY_MODEL_0d9cced8bc0a417aa72d7e43cfa90a1b",
            "max": 389,
            "min": 0,
            "orientation": "horizontal",
            "style": "IPY_MODEL_8d3ef1a756e34faebb562e37bf43d6d4",
            "value": 389
          }
        },
        "d6b37a29291c48a7ae3221cd93f68286": {
          "model_module": "@jupyter-widgets/controls",
          "model_module_version": "1.5.0",
          "model_name": "HBoxModel",
          "state": {
            "_dom_classes": [],
            "_model_module": "@jupyter-widgets/controls",
            "_model_module_version": "1.5.0",
            "_model_name": "HBoxModel",
            "_view_count": null,
            "_view_module": "@jupyter-widgets/controls",
            "_view_module_version": "1.5.0",
            "_view_name": "HBoxView",
            "box_style": "",
            "children": [
              "IPY_MODEL_ae25f16f50394b90a7ac66559392586d",
              "IPY_MODEL_21c9b110e36f4471b6a145bd037360c8",
              "IPY_MODEL_43e71e11d8854e8ca3af7271de3d4e2b"
            ],
            "layout": "IPY_MODEL_2e2c01d8ffea4d138ef11ddd520faef0"
          }
        },
        "db37cf8b012a4250bc9f0ac6f6ddb2e4": {
          "model_module": "@jupyter-widgets/base",
          "model_module_version": "1.2.0",
          "model_name": "LayoutModel",
          "state": {
            "_model_module": "@jupyter-widgets/base",
            "_model_module_version": "1.2.0",
            "_model_name": "LayoutModel",
            "_view_count": null,
            "_view_module": "@jupyter-widgets/base",
            "_view_module_version": "1.2.0",
            "_view_name": "LayoutView",
            "align_content": null,
            "align_items": null,
            "align_self": null,
            "border": null,
            "bottom": null,
            "display": null,
            "flex": null,
            "flex_flow": null,
            "grid_area": null,
            "grid_auto_columns": null,
            "grid_auto_flow": null,
            "grid_auto_rows": null,
            "grid_column": null,
            "grid_gap": null,
            "grid_row": null,
            "grid_template_areas": null,
            "grid_template_columns": null,
            "grid_template_rows": null,
            "height": null,
            "justify_content": null,
            "justify_items": null,
            "left": null,
            "margin": null,
            "max_height": null,
            "max_width": null,
            "min_height": null,
            "min_width": null,
            "object_fit": null,
            "object_position": null,
            "order": null,
            "overflow": null,
            "overflow_x": null,
            "overflow_y": null,
            "padding": null,
            "right": null,
            "top": null,
            "visibility": null,
            "width": null
          }
        },
        "dbc8c49abca848c093d4ab0ad710719d": {
          "model_module": "@jupyter-widgets/controls",
          "model_module_version": "1.5.0",
          "model_name": "HTMLModel",
          "state": {
            "_dom_classes": [],
            "_model_module": "@jupyter-widgets/controls",
            "_model_module_version": "1.5.0",
            "_model_name": "HTMLModel",
            "_view_count": null,
            "_view_module": "@jupyter-widgets/controls",
            "_view_module_version": "1.5.0",
            "_view_name": "HTMLView",
            "description": "",
            "description_tooltip": null,
            "layout": "IPY_MODEL_3dabc110d0fa4da7b1460a8a6d7a4939",
            "placeholder": "​",
            "style": "IPY_MODEL_cb613102c11b41fb9ec63a709eaa8e9f",
            "value": "Saving the dataset (1/1 shards): 100%"
          }
        },
        "df199c2c489c480481423f3aefa817e7": {
          "model_module": "@jupyter-widgets/controls",
          "model_module_version": "1.5.0",
          "model_name": "HTMLModel",
          "state": {
            "_dom_classes": [],
            "_model_module": "@jupyter-widgets/controls",
            "_model_module_version": "1.5.0",
            "_model_name": "HTMLModel",
            "_view_count": null,
            "_view_module": "@jupyter-widgets/controls",
            "_view_module_version": "1.5.0",
            "_view_name": "HTMLView",
            "description": "",
            "description_tooltip": null,
            "layout": "IPY_MODEL_ff2071b8c91e424a8216eeac7a17972b",
            "placeholder": "​",
            "style": "IPY_MODEL_cba819b39b794729977eca2e9396aa3a",
            "value": "Map: 100%"
          }
        },
        "df5fcec300004ecab4cbe5fd188429a4": {
          "model_module": "@jupyter-widgets/controls",
          "model_module_version": "1.5.0",
          "model_name": "FloatProgressModel",
          "state": {
            "_dom_classes": [],
            "_model_module": "@jupyter-widgets/controls",
            "_model_module_version": "1.5.0",
            "_model_name": "FloatProgressModel",
            "_view_count": null,
            "_view_module": "@jupyter-widgets/controls",
            "_view_module_version": "1.5.0",
            "_view_name": "ProgressView",
            "bar_style": "success",
            "description": "",
            "description_tooltip": null,
            "layout": "IPY_MODEL_35c3d4f5940f49beaca22ac5b871330d",
            "max": 103847,
            "min": 0,
            "orientation": "horizontal",
            "style": "IPY_MODEL_1799adea8eb54a4c84148a4a1d277c33",
            "value": 103847
          }
        },
        "e21f291e304148f5868ef0153bc333a0": {
          "model_module": "@jupyter-widgets/controls",
          "model_module_version": "1.5.0",
          "model_name": "HTMLModel",
          "state": {
            "_dom_classes": [],
            "_model_module": "@jupyter-widgets/controls",
            "_model_module_version": "1.5.0",
            "_model_name": "HTMLModel",
            "_view_count": null,
            "_view_module": "@jupyter-widgets/controls",
            "_view_module_version": "1.5.0",
            "_view_name": "HTMLView",
            "description": "",
            "description_tooltip": null,
            "layout": "IPY_MODEL_ac7b2470047a4b7c895858d8a1dfb7d6",
            "placeholder": "​",
            "style": "IPY_MODEL_770c51d3983443c7ae86c8c66e2b14ad",
            "value": "Map: 100%"
          }
        },
        "e4db4c8eb2dc4c2293e8a44b63594f67": {
          "model_module": "@jupyter-widgets/controls",
          "model_module_version": "1.5.0",
          "model_name": "ProgressStyleModel",
          "state": {
            "_model_module": "@jupyter-widgets/controls",
            "_model_module_version": "1.5.0",
            "_model_name": "ProgressStyleModel",
            "_view_count": null,
            "_view_module": "@jupyter-widgets/base",
            "_view_module_version": "1.2.0",
            "_view_name": "StyleView",
            "bar_color": null,
            "description_width": ""
          }
        },
        "e556ceee5e394d02826cef67cb82fdc0": {
          "model_module": "@jupyter-widgets/controls",
          "model_module_version": "1.5.0",
          "model_name": "DescriptionStyleModel",
          "state": {
            "_model_module": "@jupyter-widgets/controls",
            "_model_module_version": "1.5.0",
            "_model_name": "DescriptionStyleModel",
            "_view_count": null,
            "_view_module": "@jupyter-widgets/base",
            "_view_module_version": "1.2.0",
            "_view_name": "StyleView",
            "description_width": ""
          }
        },
        "e83bb95fcff440dba17a2262482d007b": {
          "model_module": "@jupyter-widgets/controls",
          "model_module_version": "1.5.0",
          "model_name": "ProgressStyleModel",
          "state": {
            "_model_module": "@jupyter-widgets/controls",
            "_model_module_version": "1.5.0",
            "_model_name": "ProgressStyleModel",
            "_view_count": null,
            "_view_module": "@jupyter-widgets/base",
            "_view_module_version": "1.2.0",
            "_view_name": "StyleView",
            "bar_color": null,
            "description_width": ""
          }
        },
        "eb65e7dc7af04a99bd8d45e2c60cf015": {
          "model_module": "@jupyter-widgets/controls",
          "model_module_version": "1.5.0",
          "model_name": "HBoxModel",
          "state": {
            "_dom_classes": [],
            "_model_module": "@jupyter-widgets/controls",
            "_model_module_version": "1.5.0",
            "_model_name": "HBoxModel",
            "_view_count": null,
            "_view_module": "@jupyter-widgets/controls",
            "_view_module_version": "1.5.0",
            "_view_name": "HBoxView",
            "box_style": "",
            "children": [
              "IPY_MODEL_a352c67480e34a7ab4eccc783fbd834a",
              "IPY_MODEL_6bd0fffedda14b61abb719c112593821",
              "IPY_MODEL_b582b138381d4665a4a238b8df4a3718"
            ],
            "layout": "IPY_MODEL_49025eb53cc5486fb428e9abaf866d56"
          }
        },
        "ec573723a53049258ab14ba9c28f5722": {
          "model_module": "@jupyter-widgets/base",
          "model_module_version": "1.2.0",
          "model_name": "LayoutModel",
          "state": {
            "_model_module": "@jupyter-widgets/base",
            "_model_module_version": "1.2.0",
            "_model_name": "LayoutModel",
            "_view_count": null,
            "_view_module": "@jupyter-widgets/base",
            "_view_module_version": "1.2.0",
            "_view_name": "LayoutView",
            "align_content": null,
            "align_items": null,
            "align_self": null,
            "border": null,
            "bottom": null,
            "display": null,
            "flex": null,
            "flex_flow": null,
            "grid_area": null,
            "grid_auto_columns": null,
            "grid_auto_flow": null,
            "grid_auto_rows": null,
            "grid_column": null,
            "grid_gap": null,
            "grid_row": null,
            "grid_template_areas": null,
            "grid_template_columns": null,
            "grid_template_rows": null,
            "height": null,
            "justify_content": null,
            "justify_items": null,
            "left": null,
            "margin": null,
            "max_height": null,
            "max_width": null,
            "min_height": null,
            "min_width": null,
            "object_fit": null,
            "object_position": null,
            "order": null,
            "overflow": null,
            "overflow_x": null,
            "overflow_y": null,
            "padding": null,
            "right": null,
            "top": null,
            "visibility": null,
            "width": null
          }
        },
        "ee9f7097537144d789992bdc0f7ffc97": {
          "model_module": "@jupyter-widgets/controls",
          "model_module_version": "1.5.0",
          "model_name": "PasswordModel",
          "state": {
            "_dom_classes": [],
            "_model_module": "@jupyter-widgets/controls",
            "_model_module_version": "1.5.0",
            "_model_name": "PasswordModel",
            "_view_count": null,
            "_view_module": "@jupyter-widgets/controls",
            "_view_module_version": "1.5.0",
            "_view_name": "PasswordView",
            "continuous_update": true,
            "description": "Token:",
            "description_tooltip": null,
            "disabled": false,
            "layout": "IPY_MODEL_3bbe2bb7f0fa42379a9b108a48883c5a",
            "placeholder": "​",
            "style": "IPY_MODEL_b70a555b41eb46cbaf42470ea8eb3c71",
            "value": ""
          }
        },
        "ef7c94c4f1f24022a50064deba4c35c7": {
          "model_module": "@jupyter-widgets/controls",
          "model_module_version": "1.5.0",
          "model_name": "DescriptionStyleModel",
          "state": {
            "_model_module": "@jupyter-widgets/controls",
            "_model_module_version": "1.5.0",
            "_model_name": "DescriptionStyleModel",
            "_view_count": null,
            "_view_module": "@jupyter-widgets/base",
            "_view_module_version": "1.2.0",
            "_view_name": "StyleView",
            "description_width": ""
          }
        },
        "f06ec8353d3b41a1925de0260de294e7": {
          "model_module": "@jupyter-widgets/controls",
          "model_module_version": "1.5.0",
          "model_name": "DescriptionStyleModel",
          "state": {
            "_model_module": "@jupyter-widgets/controls",
            "_model_module_version": "1.5.0",
            "_model_name": "DescriptionStyleModel",
            "_view_count": null,
            "_view_module": "@jupyter-widgets/base",
            "_view_module_version": "1.2.0",
            "_view_name": "StyleView",
            "description_width": ""
          }
        },
        "f25af294ab034ab4bb7fdd82939c264a": {
          "model_module": "@jupyter-widgets/base",
          "model_module_version": "1.2.0",
          "model_name": "LayoutModel",
          "state": {
            "_model_module": "@jupyter-widgets/base",
            "_model_module_version": "1.2.0",
            "_model_name": "LayoutModel",
            "_view_count": null,
            "_view_module": "@jupyter-widgets/base",
            "_view_module_version": "1.2.0",
            "_view_name": "LayoutView",
            "align_content": null,
            "align_items": null,
            "align_self": null,
            "border": null,
            "bottom": null,
            "display": null,
            "flex": null,
            "flex_flow": null,
            "grid_area": null,
            "grid_auto_columns": null,
            "grid_auto_flow": null,
            "grid_auto_rows": null,
            "grid_column": null,
            "grid_gap": null,
            "grid_row": null,
            "grid_template_areas": null,
            "grid_template_columns": null,
            "grid_template_rows": null,
            "height": null,
            "justify_content": null,
            "justify_items": null,
            "left": null,
            "margin": null,
            "max_height": null,
            "max_width": null,
            "min_height": null,
            "min_width": null,
            "object_fit": null,
            "object_position": null,
            "order": null,
            "overflow": null,
            "overflow_x": null,
            "overflow_y": null,
            "padding": null,
            "right": null,
            "top": null,
            "visibility": null,
            "width": null
          }
        },
        "f4766f253aa64f7e858312d7cf8601fb": {
          "model_module": "@jupyter-widgets/controls",
          "model_module_version": "1.5.0",
          "model_name": "HBoxModel",
          "state": {
            "_dom_classes": [],
            "_model_module": "@jupyter-widgets/controls",
            "_model_module_version": "1.5.0",
            "_model_name": "HBoxModel",
            "_view_count": null,
            "_view_module": "@jupyter-widgets/controls",
            "_view_module_version": "1.5.0",
            "_view_name": "HBoxView",
            "box_style": "",
            "children": [
              "IPY_MODEL_58bab504ccae4bf2b027f9985894f34c",
              "IPY_MODEL_df5fcec300004ecab4cbe5fd188429a4",
              "IPY_MODEL_5d6f522c9e2a410486240b1a5935d497"
            ],
            "layout": "IPY_MODEL_19dc880ca2a04531bfe84df2f086cb27"
          }
        },
        "f9f81bc136c2453ea796dbca76252eed": {
          "model_module": "@jupyter-widgets/base",
          "model_module_version": "1.2.0",
          "model_name": "LayoutModel",
          "state": {
            "_model_module": "@jupyter-widgets/base",
            "_model_module_version": "1.2.0",
            "_model_name": "LayoutModel",
            "_view_count": null,
            "_view_module": "@jupyter-widgets/base",
            "_view_module_version": "1.2.0",
            "_view_name": "LayoutView",
            "align_content": null,
            "align_items": null,
            "align_self": null,
            "border": null,
            "bottom": null,
            "display": null,
            "flex": null,
            "flex_flow": null,
            "grid_area": null,
            "grid_auto_columns": null,
            "grid_auto_flow": null,
            "grid_auto_rows": null,
            "grid_column": null,
            "grid_gap": null,
            "grid_row": null,
            "grid_template_areas": null,
            "grid_template_columns": null,
            "grid_template_rows": null,
            "height": null,
            "justify_content": null,
            "justify_items": null,
            "left": null,
            "margin": null,
            "max_height": null,
            "max_width": null,
            "min_height": null,
            "min_width": null,
            "object_fit": null,
            "object_position": null,
            "order": null,
            "overflow": null,
            "overflow_x": null,
            "overflow_y": null,
            "padding": null,
            "right": null,
            "top": null,
            "visibility": "hidden",
            "width": null
          }
        },
        "fae4f47920d34f7cb6b79ba0d72e9e71": {
          "model_module": "@jupyter-widgets/controls",
          "model_module_version": "1.5.0",
          "model_name": "DescriptionStyleModel",
          "state": {
            "_model_module": "@jupyter-widgets/controls",
            "_model_module_version": "1.5.0",
            "_model_name": "DescriptionStyleModel",
            "_view_count": null,
            "_view_module": "@jupyter-widgets/base",
            "_view_module_version": "1.2.0",
            "_view_name": "StyleView",
            "description_width": ""
          }
        },
        "fc5c875c59f84b7ba2acc45cad6252b7": {
          "model_module": "@jupyter-widgets/base",
          "model_module_version": "1.2.0",
          "model_name": "LayoutModel",
          "state": {
            "_model_module": "@jupyter-widgets/base",
            "_model_module_version": "1.2.0",
            "_model_name": "LayoutModel",
            "_view_count": null,
            "_view_module": "@jupyter-widgets/base",
            "_view_module_version": "1.2.0",
            "_view_name": "LayoutView",
            "align_content": null,
            "align_items": null,
            "align_self": null,
            "border": null,
            "bottom": null,
            "display": null,
            "flex": null,
            "flex_flow": null,
            "grid_area": null,
            "grid_auto_columns": null,
            "grid_auto_flow": null,
            "grid_auto_rows": null,
            "grid_column": null,
            "grid_gap": null,
            "grid_row": null,
            "grid_template_areas": null,
            "grid_template_columns": null,
            "grid_template_rows": null,
            "height": null,
            "justify_content": null,
            "justify_items": null,
            "left": null,
            "margin": null,
            "max_height": null,
            "max_width": null,
            "min_height": null,
            "min_width": null,
            "object_fit": null,
            "object_position": null,
            "order": null,
            "overflow": null,
            "overflow_x": null,
            "overflow_y": null,
            "padding": null,
            "right": null,
            "top": null,
            "visibility": null,
            "width": null
          }
        },
        "fd636559376a41c29427c502d44b2566": {
          "model_module": "@jupyter-widgets/base",
          "model_module_version": "1.2.0",
          "model_name": "LayoutModel",
          "state": {
            "_model_module": "@jupyter-widgets/base",
            "_model_module_version": "1.2.0",
            "_model_name": "LayoutModel",
            "_view_count": null,
            "_view_module": "@jupyter-widgets/base",
            "_view_module_version": "1.2.0",
            "_view_name": "LayoutView",
            "align_content": null,
            "align_items": null,
            "align_self": null,
            "border": null,
            "bottom": null,
            "display": null,
            "flex": null,
            "flex_flow": null,
            "grid_area": null,
            "grid_auto_columns": null,
            "grid_auto_flow": null,
            "grid_auto_rows": null,
            "grid_column": null,
            "grid_gap": null,
            "grid_row": null,
            "grid_template_areas": null,
            "grid_template_columns": null,
            "grid_template_rows": null,
            "height": null,
            "justify_content": null,
            "justify_items": null,
            "left": null,
            "margin": null,
            "max_height": null,
            "max_width": null,
            "min_height": null,
            "min_width": null,
            "object_fit": null,
            "object_position": null,
            "order": null,
            "overflow": null,
            "overflow_x": null,
            "overflow_y": null,
            "padding": null,
            "right": null,
            "top": null,
            "visibility": null,
            "width": null
          }
        },
        "fd82cf3bd2534a3cb7fbf97a87ee1c5a": {
          "model_module": "@jupyter-widgets/controls",
          "model_module_version": "1.5.0",
          "model_name": "HTMLModel",
          "state": {
            "_dom_classes": [],
            "_model_module": "@jupyter-widgets/controls",
            "_model_module_version": "1.5.0",
            "_model_name": "HTMLModel",
            "_view_count": null,
            "_view_module": "@jupyter-widgets/controls",
            "_view_module_version": "1.5.0",
            "_view_name": "HTMLView",
            "description": "",
            "description_tooltip": null,
            "layout": "IPY_MODEL_fd636559376a41c29427c502d44b2566",
            "placeholder": "​",
            "style": "IPY_MODEL_4345d91c569a4507ad6a143dc7435f33",
            "value": " 7090/7090 [00:14&lt;00:00, 485.62 examples/s]"
          }
        },
        "fe91a39fff5d4f7a973bc176cf2d4e93": {
          "model_module": "@jupyter-widgets/controls",
          "model_module_version": "1.5.0",
          "model_name": "HTMLModel",
          "state": {
            "_dom_classes": [],
            "_model_module": "@jupyter-widgets/controls",
            "_model_module_version": "1.5.0",
            "_model_name": "HTMLModel",
            "_view_count": null,
            "_view_module": "@jupyter-widgets/controls",
            "_view_module_version": "1.5.0",
            "_view_name": "HTMLView",
            "description": "",
            "description_tooltip": null,
            "layout": "IPY_MODEL_36bdaa0507db4cc1a2d11687f557b747",
            "placeholder": "​",
            "style": "IPY_MODEL_3c76a05509b741a8abb423c7ec4c0d7d",
            "value": " 30708/30708 [00:00&lt;00:00, 90421.50 examples/s]"
          }
        },
        "ff2071b8c91e424a8216eeac7a17972b": {
          "model_module": "@jupyter-widgets/base",
          "model_module_version": "1.2.0",
          "model_name": "LayoutModel",
          "state": {
            "_model_module": "@jupyter-widgets/base",
            "_model_module_version": "1.2.0",
            "_model_name": "LayoutModel",
            "_view_count": null,
            "_view_module": "@jupyter-widgets/base",
            "_view_module_version": "1.2.0",
            "_view_name": "LayoutView",
            "align_content": null,
            "align_items": null,
            "align_self": null,
            "border": null,
            "bottom": null,
            "display": null,
            "flex": null,
            "flex_flow": null,
            "grid_area": null,
            "grid_auto_columns": null,
            "grid_auto_flow": null,
            "grid_auto_rows": null,
            "grid_column": null,
            "grid_gap": null,
            "grid_row": null,
            "grid_template_areas": null,
            "grid_template_columns": null,
            "grid_template_rows": null,
            "height": null,
            "justify_content": null,
            "justify_items": null,
            "left": null,
            "margin": null,
            "max_height": null,
            "max_width": null,
            "min_height": null,
            "min_width": null,
            "object_fit": null,
            "object_position": null,
            "order": null,
            "overflow": null,
            "overflow_x": null,
            "overflow_y": null,
            "padding": null,
            "right": null,
            "top": null,
            "visibility": null,
            "width": null
          }
        }
      }
    }
  },
  "nbformat": 4,
  "nbformat_minor": 0
}
