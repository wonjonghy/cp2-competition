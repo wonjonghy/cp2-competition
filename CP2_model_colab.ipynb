{
  "cells": [
    {
      "cell_type": "code",
      "execution_count": null,
      "metadata": {
        "id": "5rR5ZZ6mYFfv"
      },
      "outputs": [],
      "source": [
        "!pip install transformers\n",
        "!pip install datasets\n",
        "!pip install sentencepiece"
      ]
    },
    {
      "cell_type": "markdown",
      "metadata": {
        "id": "Z00XtdrmDR9a"
      },
      "source": [
        "https://beomi.github.io/2020/02/24/Pytorch-with-TPU-on-Colab/"
      ]
    },
    {
      "cell_type": "code",
      "execution_count": null,
      "metadata": {
        "colab": {
          "base_uri": "https://localhost:8080/"
        },
        "id": "3_Ygu5DP-AMR",
        "outputId": "ce1396cc-49bc-400d-f9cd-110327566d02"
      },
      "outputs": [
        {
          "name": "stdout",
          "output_type": "stream",
          "text": [
            "Archive:  open.zip\n",
            "  inflating: sample_submission.csv   \n",
            "  inflating: test.csv                \n",
            "  inflating: train.csv               \n"
          ]
        }
      ],
      "source": [
        "!unzip open.zip"
      ]
    },
    {
      "cell_type": "code",
      "execution_count": null,
      "metadata": {
        "id": "DQazEtkuSJdG"
      },
      "outputs": [],
      "source": [
        "import random\n",
        "import pandas as pd\n",
        "import numpy as np\n",
        "import os\n",
        "import re\n",
        "\n",
        "from sklearn.model_selection import train_test_split\n",
        "from sklearn import preprocessing\n",
        "from sklearn.metrics import f1_score\n",
        "\n",
        "import torch\n",
        "import torch.nn as nn\n",
        "import torch.optim as optim\n",
        "import torch.nn.functional as F\n",
        "from torch.utils.data import Dataset, DataLoader\n",
        "\n",
        "from tqdm.auto import tqdm\n",
        "\n",
        "import warnings\n",
        "warnings.filterwarnings(action='ignore') "
      ]
    },
    {
      "cell_type": "code",
      "execution_count": null,
      "metadata": {
        "id": "QX3USWUETPUQ"
      },
      "outputs": [],
      "source": [
        "device=torch.device('cuda' if torch.cuda.is_available() else 'cpu')"
      ]
    },
    {
      "cell_type": "code",
      "execution_count": null,
      "metadata": {
        "id": "RMmsqUQXNqtp"
      },
      "outputs": [],
      "source": [
        "CFG = {\n",
        "    'EPOCHS':10,\n",
        "    'LEARNING_RATE':1e-4,\n",
        "    'BATCH_SIZE':256,\n",
        "    'SEED':41\n",
        "}"
      ]
    },
    {
      "cell_type": "markdown",
      "metadata": {
        "id": "PQ_o9JuvZaO1"
      },
      "source": [
        "## 증강 데이터 불러오기 및 레이블 인코딩"
      ]
    },
    {
      "cell_type": "code",
      "execution_count": null,
      "metadata": {
        "id": "eFlmNtYnI3_d"
      },
      "outputs": [],
      "source": [
        "df_train_aug = pd.read_csv('df_train_aug.csv')\n",
        "df_val_aug = pd.read_csv('df_val_aug.csv')"
      ]
    },
    {
      "cell_type": "code",
      "execution_count": null,
      "metadata": {
        "id": "ISW-74pMKK7h"
      },
      "outputs": [],
      "source": [
        "df_train_aug = df_train_aug.sample(frac=1)\n",
        "df_val_aug = df_val_aug.sample(frac=1)"
      ]
    },
    {
      "cell_type": "code",
      "execution_count": null,
      "metadata": {
        "colab": {
          "base_uri": "https://localhost:8080/"
        },
        "id": "40FHJpcXTSOY",
        "outputId": "a7115e29-9bcd-40c2-ddc8-fc8dfc209f01"
      },
      "outputs": [
        {
          "data": {
            "text/plain": [
              "7946"
            ]
          },
          "execution_count": 100,
          "metadata": {},
          "output_type": "execute_result"
        }
      ],
      "source": [
        "len(df_val_aug)"
      ]
    },
    {
      "cell_type": "code",
      "execution_count": null,
      "metadata": {
        "colab": {
          "base_uri": "https://localhost:8080/"
        },
        "id": "ymT6U7zHLD1R",
        "outputId": "3b929878-f4fd-4d6a-cb46-cbbbb0552e8b"
      },
      "outputs": [
        {
          "data": {
            "text/plain": [
              "Int64Index([19864,   799, 29485, 16796, 20458, 14073, 19907, 17694,  1456,\n",
              "            19153,\n",
              "            ...\n",
              "            12458, 24897, 12647, 16765,  9606, 29310,    72, 30544, 15299,\n",
              "            19933],\n",
              "           dtype='int64', length=30708)"
            ]
          },
          "execution_count": 14,
          "metadata": {},
          "output_type": "execute_result"
        }
      ],
      "source": [
        "df_train_aug.index"
      ]
    },
    {
      "cell_type": "code",
      "execution_count": null,
      "metadata": {
        "id": "mgmWnHa0JRN5"
      },
      "outputs": [],
      "source": [
        "import random\n",
        "def under_sampling(df):\n",
        "  for i in df.index:\n",
        "    r = random.uniform(0, 1)\n",
        "    if r>0.5:\n",
        "      if df['극성'][i] == '긍정' and df['확실성'][i] == '확실':\n",
        "        df = df.drop(i)\n",
        "    \n",
        "  return df.reset_index(drop=True)"
      ]
    },
    {
      "cell_type": "code",
      "execution_count": null,
      "metadata": {
        "id": "RScX7_GPL_Je"
      },
      "outputs": [],
      "source": [
        "df_train_aug_under = under_sampling(df_train_aug)\n",
        "df_val_aug_under = under_sampling(df_val_aug)"
      ]
    },
    {
      "cell_type": "code",
      "execution_count": null,
      "metadata": {
        "id": "KisKLDhINB5h"
      },
      "outputs": [],
      "source": [
        "df_train_aug.유형.value_counts(normalize=True), df_train_aug_under.유형.value_counts(normalize=True)"
      ]
    },
    {
      "cell_type": "code",
      "execution_count": null,
      "metadata": {
        "id": "QAs01v8tQnqe"
      },
      "outputs": [],
      "source": [
        "df_train_aug.극성.value_counts(normalize=True), df_train_aug_under.극성.value_counts(normalize=True)"
      ]
    },
    {
      "cell_type": "code",
      "execution_count": null,
      "metadata": {
        "id": "T7DJREQVP39Q"
      },
      "outputs": [],
      "source": [
        "df_train_aug.시제.value_counts(normalize=True), df_train_aug_under.시제.value_counts(normalize=True)"
      ]
    },
    {
      "cell_type": "code",
      "execution_count": null,
      "metadata": {
        "id": "tGlNvb0kP8xh"
      },
      "outputs": [],
      "source": [
        "df_train_aug.확실성.value_counts(normalize=True), df_train_aug_under.확실성.value_counts(normalize=True)"
      ]
    },
    {
      "cell_type": "code",
      "execution_count": null,
      "metadata": {
        "id": "XWypqeuJZFx2"
      },
      "outputs": [],
      "source": [
        "def label_enc(df):\n",
        "  type_le = preprocessing.LabelEncoder()\n",
        "  df[\"유형\"] = type_le.fit_transform(df[\"유형\"].values)\n",
        "\n",
        "  polarity_le = preprocessing.LabelEncoder()\n",
        "  df[\"극성\"] = polarity_le.fit_transform(df[\"극성\"].values)\n",
        "\n",
        "  tense_le = preprocessing.LabelEncoder()\n",
        "  df[\"시제\"] = tense_le.fit_transform(df[\"시제\"].values)\n",
        "\n",
        "\n",
        "  certainty_le = preprocessing.LabelEncoder()\n",
        "  df[\"확실성\"] = certainty_le.fit_transform(df[\"확실성\"].values)\n",
        "\n",
        "  return type_le, polarity_le, tense_le, certainty_le\n"
      ]
    },
    {
      "cell_type": "code",
      "execution_count": null,
      "metadata": {
        "colab": {
          "base_uri": "https://localhost:8080/"
        },
        "id": "p21FtAYAw5As",
        "outputId": "be4de54f-e600-4ea5-b790-aaab362c3aa0"
      },
      "outputs": [
        {
          "data": {
            "text/plain": [
              "30708"
            ]
          },
          "execution_count": 259,
          "metadata": {},
          "output_type": "execute_result"
        }
      ],
      "source": [
        "len(df_train_aug)"
      ]
    },
    {
      "cell_type": "code",
      "execution_count": null,
      "metadata": {
        "id": "CU2zttb4nWmZ"
      },
      "outputs": [],
      "source": [
        "df_aug = pd.concat([df_train_aug.reset_index(drop=True), df_val_aug.reset_index(drop=True)])\n",
        "\n",
        "type_le, polarity_le, tense_le, certainty_le = label_enc(df_aug)\n",
        "\n",
        "df_train_aug = df_aug[:30708]\n",
        "df_val_aug = df_aug[30708:]"
      ]
    },
    {
      "cell_type": "code",
      "execution_count": null,
      "metadata": {
        "id": "36qGlo2I9DfN"
      },
      "outputs": [],
      "source": [
        "type_le, polarity_le, tense_le, certainty_le = label_enc(df_aug)"
      ]
    },
    {
      "cell_type": "code",
      "execution_count": null,
      "metadata": {
        "id": "k9N3-91qwhTu"
      },
      "outputs": [],
      "source": [
        "type_le, polarity_le, tense_le, certainty_le = label_enc(df)"
      ]
    },
    {
      "cell_type": "markdown",
      "metadata": {
        "id": "TTPXMqekqPPn"
      },
      "source": [
        "# 토큰화 및 모델 불러오기"
      ]
    },
    {
      "cell_type": "markdown",
      "metadata": {
        "id": "VVAx3_8Xdo4m"
      },
      "source": [
        "## 데이터셋 분리"
      ]
    },
    {
      "cell_type": "code",
      "execution_count": null,
      "metadata": {
        "id": "jAC5v_VqHtkN"
      },
      "outputs": [],
      "source": [
        "from datasets import Dataset, DatasetDict, load_dataset"
      ]
    },
    {
      "cell_type": "code",
      "execution_count": null,
      "metadata": {
        "id": "Sv5CnOGtaWWK"
      },
      "outputs": [],
      "source": [
        "def make_dataset(df):\n",
        "  raw_dict=df.to_dict(\"list\") #테이블을 딕셔너리형태로 바꿈.\n",
        "  raw_ds=Dataset.from_dict(raw_dict) #딕셔너리를 데이터세트 형태로 바꿈.\n",
        "\n",
        "  return raw_ds\n",
        "\n",
        "#ds = make_dataset(df)"
      ]
    },
    {
      "cell_type": "code",
      "execution_count": null,
      "metadata": {
        "id": "aWes_fveavDX"
      },
      "outputs": [],
      "source": [
        "#ds_train = make_dataset(df_train_aug_under)\n",
        "#ds_val = make_dataset(df_val_aug_under)\n",
        "ds_train = make_dataset(df_train_aug)\n",
        "ds_val = make_dataset(df_val_aug)"
      ]
    },
    {
      "cell_type": "code",
      "execution_count": null,
      "metadata": {
        "id": "ug0Ib4Tcr1xd"
      },
      "outputs": [],
      "source": [
        "ds_test = make_dataset(df_test)"
      ]
    },
    {
      "cell_type": "code",
      "execution_count": null,
      "metadata": {
        "colab": {
          "base_uri": "https://localhost:8080/"
        },
        "id": "Qwdla5QZDv0S",
        "outputId": "8c6aa437-a390-49d7-ae89-d8a484befb6a"
      },
      "outputs": [
        {
          "data": {
            "text/plain": [
              "Dataset({\n",
              "    features: ['문장', '유형', '극성', '시제', '확실성'],\n",
              "    num_rows: 7946\n",
              "})"
            ]
          },
          "execution_count": 269,
          "metadata": {},
          "output_type": "execute_result"
        }
      ],
      "source": [
        "ds_val"
      ]
    },
    {
      "cell_type": "markdown",
      "metadata": {
        "id": "w_V7JXSBdts2"
      },
      "source": [
        "## 토큰화 CLS 토큰 hidden state 만들기"
      ]
    },
    {
      "cell_type": "code",
      "execution_count": null,
      "metadata": {
        "colab": {
          "base_uri": "https://localhost:8080/",
          "height": 330,
          "referenced_widgets": [
            "6a27e9bfcf78477394ed7fdabd38c1a5",
            "291ee187e6a04e239b0558f81b6c77f2",
            "ee9f7097537144d789992bdc0f7ffc97",
            "07d17d398bc74ac0bbcab21d0314fd4c",
            "591d13984ad042cc9d5882cf2dd227fa",
            "91eecbd3273047ee873ad3cd7819ed01",
            "1011ff8f5e374e4a9af080782789ad9e",
            "1b165057f61449e58eb201f3598c1215",
            "775031e84eb54b639e30bd85308b4b7c",
            "3bbe2bb7f0fa42379a9b108a48883c5a",
            "b70a555b41eb46cbaf42470ea8eb3c71",
            "2110c15230434c61a85f3ac8bc38bac4",
            "c8bbac9297144ba88e35511fc80d7123",
            "93e4f15aa01f4892926689a3a7b420d8",
            "018ddef8a08b42b0a9711e86c206cc87",
            "c0c96cc17fa044638b34e7bf401e8d71",
            "b2244bf62c0b456db29bf1d8f143d7a1"
          ]
        },
        "id": "IrCj7X3q_sfF",
        "outputId": "2fdbc2e3-d0b6-4f3b-d515-73b0fe1f9e1a"
      },
      "outputs": [
        {
          "name": "stdout",
          "output_type": "stream",
          "text": [
            "Token is valid.\n",
            "Your token has been saved to /root/.cache/huggingface/token\n",
            "Login successful\n"
          ]
        }
      ],
      "source": [
        "from huggingface_hub import notebook_login\n",
        "notebook_login()"
      ]
    },
    {
      "cell_type": "code",
      "execution_count": null,
      "metadata": {
        "colab": {
          "base_uri": "https://localhost:8080/"
        },
        "id": "wChJuOCWYBPi",
        "outputId": "6d3ca7b2-3430-474b-b7c8-6e645c1581a6"
      },
      "outputs": [
        {
          "name": "stderr",
          "output_type": "stream",
          "text": [
            "Some weights of the model checkpoint at snunlp/KR-BERT-char16424 were not used when initializing BertModel: ['cls.predictions.transform.dense.bias', 'cls.predictions.transform.LayerNorm.weight', 'cls.predictions.transform.dense.weight', 'cls.seq_relationship.weight', 'cls.seq_relationship.bias', 'cls.predictions.decoder.weight', 'cls.predictions.bias', 'cls.predictions.transform.LayerNorm.bias']\n",
            "- This IS expected if you are initializing BertModel from the checkpoint of a model trained on another task or with another architecture (e.g. initializing a BertForSequenceClassification model from a BertForPreTraining model).\n",
            "- This IS NOT expected if you are initializing BertModel from the checkpoint of a model that you expect to be exactly identical (initializing a BertForSequenceClassification model from a BertForSequenceClassification model).\n"
          ]
        }
      ],
      "source": [
        "from transformers import AutoModel, AutoTokenizer\n",
        "model_ckpt = \"snunlp/KR-BERT-char16424\"\n",
        "tokenizer = AutoTokenizer.from_pretrained(model_ckpt)\n",
        "model = AutoModel.from_pretrained(model_ckpt).to(device)\n"
      ]
    },
    {
      "cell_type": "code",
      "execution_count": null,
      "metadata": {
        "id": "rVhkmD2z6TYs"
      },
      "outputs": [],
      "source": [
        "config=AutoConfig.from_pretrained(model_ckpt)"
      ]
    },
    {
      "cell_type": "code",
      "execution_count": null,
      "metadata": {
        "id": "Y_PiTvja6isd"
      },
      "outputs": [],
      "source": [
        "config"
      ]
    },
    {
      "cell_type": "code",
      "execution_count": null,
      "metadata": {
        "id": "2dsE_q8P6yo8"
      },
      "outputs": [],
      "source": [
        "from sklearn.model_selection import train_test_split"
      ]
    },
    {
      "cell_type": "code",
      "execution_count": null,
      "metadata": {
        "id": "5doxWE3rakeE"
      },
      "outputs": [],
      "source": [
        "model"
      ]
    },
    {
      "cell_type": "code",
      "execution_count": null,
      "metadata": {
        "id": "hRMKXsb2Umh5"
      },
      "outputs": [],
      "source": [
        "tokenizer.vocab"
      ]
    },
    {
      "cell_type": "code",
      "execution_count": null,
      "metadata": {
        "id": "ilNTGiJ2U2yQ"
      },
      "outputs": [],
      "source": [
        "tokenizer.model_max_length"
      ]
    },
    {
      "cell_type": "code",
      "execution_count": null,
      "metadata": {
        "id": "4AlMhdi-U9VC"
      },
      "outputs": [],
      "source": [
        "tokenizer.model_input_names"
      ]
    },
    {
      "cell_type": "code",
      "execution_count": null,
      "metadata": {
        "id": "Qg4H1kp4YrPe"
      },
      "outputs": [],
      "source": [
        "def tokenize(batch):\n",
        "  return tokenizer(batch['문장'], padding=True, truncation=True, return_token_type_ids=False)\n",
        "\n",
        "def encode(dataset):\n",
        "  datasets_encoded = dataset.map(tokenize, batched=True, batch_size=None)\n",
        "  return datasets_encoded\n"
      ]
    },
    {
      "cell_type": "code",
      "execution_count": null,
      "metadata": {
        "colab": {
          "base_uri": "https://localhost:8080/",
          "height": 35,
          "referenced_widgets": [
            "0407768593ab4ede8f9a2c8cc201d7d8",
            "2e83146d74244cbb9a208848c6a12d45",
            "884f35bf85224d539e6caefd6ec0d17a",
            "d1af110500a44b59a6129768cabcabfc",
            "7aa142d78e684e6fb74511f7c5e3faa1",
            "1bd0e7e9891c44c0bfa3856d3b7505ea",
            "8dbd9c22ddca4d19afcb596390ef8240",
            "f25af294ab034ab4bb7fdd82939c264a",
            "290bc5d5a231428b96ef4c591ec06b58",
            "0c308baebe0149a395311a871a4814e1",
            "877b19aca9c548b5abba12285c3fea30"
          ]
        },
        "id": "qRpvcnM-VRHG",
        "outputId": "66d081e2-1104-4482-ff80-14d1430bb95f"
      },
      "outputs": [
        {
          "data": {
            "application/vnd.jupyter.widget-view+json": {
              "model_id": "0407768593ab4ede8f9a2c8cc201d7d8",
              "version_major": 2,
              "version_minor": 0
            },
            "text/plain": [
              "Map:   0%|          | 0/16506 [00:00<?, ? examples/s]"
            ]
          },
          "metadata": {},
          "output_type": "display_data"
        },
        {
          "name": "stderr",
          "output_type": "stream",
          "text": [
            "Asking to truncate to max_length but no maximum length is provided and the model has no predefined maximum length. Default to no truncation.\n"
          ]
        }
      ],
      "source": [
        "#ds_encoded = encode(ds)"
      ]
    },
    {
      "cell_type": "code",
      "execution_count": null,
      "metadata": {
        "colab": {
          "base_uri": "https://localhost:8080/",
          "height": 17,
          "referenced_widgets": [
            "3a446baa62f64b138cab38354e91f9fe",
            "e21f291e304148f5868ef0153bc333a0",
            "cff9ba0ef286482b9902ee1be969bf06",
            "8dbc9d51708a4c6286fbece7f4b0cf6b",
            "17c9a402fd2e4bdb9e86cd0d69d095e9",
            "ac7b2470047a4b7c895858d8a1dfb7d6",
            "770c51d3983443c7ae86c8c66e2b14ad",
            "8ee6af9b0dfa4f57b5adbf5e0da863b9",
            "ce4661f0ea6b40de9d89297342f4d290",
            "fc5c875c59f84b7ba2acc45cad6252b7",
            "59d379492cc444f5871034360dca2048",
            "78ca1366df9b490c99b180ac619c65d9",
            "c685bd8990d44322ab80effa4bfdb785",
            "3767ee57e4d54edb9e832d40b053d976",
            "a28940eb17104d08a7180054c0daa6c6",
            "ca616d7c7134472387ec712c27d1b7b0",
            "2c745fd839144a81aba59f096a6ec148",
            "a8bfe019da65467c9ed8d7eecb8485d7",
            "bdaf516f69f34fa881094b1aa01010d9",
            "64b4ba88df7949f9b9852f9891ad937d",
            "96fab344b404490e8ba8ad3a28a053a1",
            "b3b1d3702b3848038f8c5b0e4518405c"
          ]
        },
        "id": "_ZewH0agcPNo",
        "outputId": "f9c984d3-ce13-444c-83f1-35cc36f505f1"
      },
      "outputs": [
        {
          "data": {
            "application/vnd.jupyter.widget-view+json": {
              "model_id": "3a446baa62f64b138cab38354e91f9fe",
              "version_major": 2,
              "version_minor": 0
            },
            "text/plain": [
              "Map:   0%|          | 0/30708 [00:00<?, ? examples/s]"
            ]
          },
          "metadata": {},
          "output_type": "display_data"
        },
        {
          "data": {
            "application/vnd.jupyter.widget-view+json": {
              "model_id": "78ca1366df9b490c99b180ac619c65d9",
              "version_major": 2,
              "version_minor": 0
            },
            "text/plain": [
              "Map:   0%|          | 0/7946 [00:00<?, ? examples/s]"
            ]
          },
          "metadata": {},
          "output_type": "display_data"
        }
      ],
      "source": [
        "ds_train_encoded = encode(ds_train)\n",
        "ds_val_encoded = encode(ds_val)\n"
      ]
    },
    {
      "cell_type": "code",
      "execution_count": null,
      "metadata": {
        "colab": {
          "base_uri": "https://localhost:8080/",
          "height": 17,
          "referenced_widgets": [
            "d6b37a29291c48a7ae3221cd93f68286",
            "ae25f16f50394b90a7ac66559392586d",
            "21c9b110e36f4471b6a145bd037360c8",
            "43e71e11d8854e8ca3af7271de3d4e2b",
            "2e2c01d8ffea4d138ef11ddd520faef0",
            "69570c24726140aa8c3b0865fa0759fb",
            "a9cdb16d85d64cb7be010468f72fe236",
            "562b36deaba64255bafc76371938f18c",
            "760eae6e0cb945fdab945bcd9d7fb563",
            "b9fed0e7adf741949f1719ab80b8fe15",
            "f06ec8353d3b41a1925de0260de294e7"
          ]
        },
        "id": "Ee6jTnTjr8nw",
        "outputId": "c3156bc8-682b-4076-9bd5-075910994942"
      },
      "outputs": [
        {
          "data": {
            "application/vnd.jupyter.widget-view+json": {
              "model_id": "d6b37a29291c48a7ae3221cd93f68286",
              "version_major": 2,
              "version_minor": 0
            },
            "text/plain": [
              "Map:   0%|          | 0/7090 [00:00<?, ? examples/s]"
            ]
          },
          "metadata": {},
          "output_type": "display_data"
        }
      ],
      "source": [
        "ds_test_encoded = encode(ds_test)"
      ]
    },
    {
      "cell_type": "code",
      "execution_count": null,
      "metadata": {
        "colab": {
          "base_uri": "https://localhost:8080/"
        },
        "id": "CDq6Os-YV_XP",
        "outputId": "7d9f97d1-2b2c-49f3-87cf-f63ffebb66ff"
      },
      "outputs": [
        {
          "data": {
            "text/plain": [
              "Dataset({\n",
              "    features: ['ID', '문장', 'input_ids', 'attention_mask'],\n",
              "    num_rows: 7090\n",
              "})"
            ]
          },
          "execution_count": 43,
          "metadata": {},
          "output_type": "execute_result"
        }
      ],
      "source": [
        "ds_test_encoded"
      ]
    },
    {
      "cell_type": "code",
      "execution_count": null,
      "metadata": {
        "colab": {
          "base_uri": "https://localhost:8080/"
        },
        "id": "3qS0l-K5ShN6",
        "outputId": "481fda65-df7b-4c28-b02e-eb6c56a9013f"
      },
      "outputs": [
        {
          "data": {
            "text/plain": [
              "Dataset({\n",
              "    features: ['문장', '유형', '극성', '시제', '확실성', 'input_ids', 'attention_mask'],\n",
              "    num_rows: 7946\n",
              "})"
            ]
          },
          "execution_count": 272,
          "metadata": {},
          "output_type": "execute_result"
        }
      ],
      "source": [
        "ds_val_encoded"
      ]
    },
    {
      "cell_type": "code",
      "execution_count": null,
      "metadata": {
        "id": "tS-2LAn5rB4u"
      },
      "outputs": [],
      "source": [
        "def extract_hidden_states(batch):\n",
        "  inputs={k:v.to(device) for k, v in batch.items() if k in tokenizer.model_input_names}\n",
        "  with torch.no_grad():\n",
        "    last_hidden_state=model(**inputs).last_hidden_state\n",
        "\n",
        "  return {\"hidden_state\": last_hidden_state[:,0].cpu().numpy()}\n",
        "\n",
        "#ds_encoded.set_format(\"torch\", columns=['input_ids', 'attention_mask'])\n",
        "\n",
        "#hidden = ds_encoded.map(extract_hidden_states, batched=True)"
      ]
    },
    {
      "cell_type": "code",
      "execution_count": null,
      "metadata": {
        "id": "j0PSk8PkIZEz"
      },
      "outputs": [],
      "source": [
        "#hidden = hidden.train_test_split(test_size=0.2, seed=1)\n",
        "#train_hidden = hidden['train']\n",
        "#val_hidden = hidden['test']"
      ]
    },
    {
      "cell_type": "code",
      "execution_count": null,
      "metadata": {
        "id": "lJtwfZi_vmtP"
      },
      "outputs": [],
      "source": [
        "ds_train_encoded.set_format(\"torch\", columns=['input_ids', 'attention_mask', '유형', '극성', '시제', '확실성'])\n",
        "ds_val_encoded.set_format(\"torch\", columns=['input_ids', 'attention_mask', '유형', '극성', '시제', '확실성'])\n"
      ]
    },
    {
      "cell_type": "code",
      "execution_count": null,
      "metadata": {
        "colab": {
          "base_uri": "https://localhost:8080/"
        },
        "id": "FnBsKLKHyAI5",
        "outputId": "55dbb951-76ed-46f0-d186-055a29a4da60"
      },
      "outputs": [
        {
          "data": {
            "text/plain": [
              "Dataset({\n",
              "    features: ['문장', '유형', '극성', '시제', '확실성', 'input_ids', 'attention_mask'],\n",
              "    num_rows: 30708\n",
              "})"
            ]
          },
          "execution_count": 279,
          "metadata": {},
          "output_type": "execute_result"
        }
      ],
      "source": [
        "ds_train_encoded"
      ]
    },
    {
      "cell_type": "code",
      "execution_count": null,
      "metadata": {
        "colab": {
          "base_uri": "https://localhost:8080/",
          "height": 17,
          "referenced_widgets": [
            "c235f05bba9446eb936fe067daa6f781",
            "a316c514939b4e19b7285dc6d86a2ab6",
            "2fc867f615014955be9d7d1fb0502a37",
            "24839cf6d0b64f7389d9b215c5b12495",
            "4b505bba8d7b4deb9e7c6c140a23d1cf",
            "90697d0e5ff04e339e6f760c905d13cb",
            "aa5cf005c15a42a58f76ace905da57de",
            "a50549e49d0449f1bbec8657f8b8cff4",
            "bab8ddd201f2451eabd0f8ae92faf8c6",
            "02ffe364196b4cde95cef8902c7f3628",
            "9b1017040d6b4a1fbe8fbc7dd072b006",
            "7e0d251758604fbf92282d54b8be4df6",
            "df199c2c489c480481423f3aefa817e7",
            "52a2243f552d4f1c86317b966dd47af5",
            "41346088ef914034b9e9f7c99883bd0a",
            "61923679d69b483382947072befcbb6e",
            "ff2071b8c91e424a8216eeac7a17972b",
            "cba819b39b794729977eca2e9396aa3a",
            "a439b8eeae234a18abfec5449635ece7",
            "e4db4c8eb2dc4c2293e8a44b63594f67",
            "5871fd3658914936b5dc8e3cf9d1bd6d",
            "2eb43d9fd6284a268babf7771fa5df3c"
          ]
        },
        "id": "8vVUyijzU0Vw",
        "outputId": "d4b5bedb-fbca-4b79-ce9b-d36284584074"
      },
      "outputs": [
        {
          "data": {
            "application/vnd.jupyter.widget-view+json": {
              "model_id": "c235f05bba9446eb936fe067daa6f781",
              "version_major": 2,
              "version_minor": 0
            },
            "text/plain": [
              "Map:   0%|          | 0/30708 [00:00<?, ? examples/s]"
            ]
          },
          "metadata": {},
          "output_type": "display_data"
        },
        {
          "data": {
            "application/vnd.jupyter.widget-view+json": {
              "model_id": "7e0d251758604fbf92282d54b8be4df6",
              "version_major": 2,
              "version_minor": 0
            },
            "text/plain": [
              "Map:   0%|          | 0/7946 [00:00<?, ? examples/s]"
            ]
          },
          "metadata": {},
          "output_type": "display_data"
        }
      ],
      "source": [
        "train_hidden = ds_train_encoded.map(extract_hidden_states, batched=True)\n",
        "val_hidden = ds_val_encoded.map(extract_hidden_states, batched=True)"
      ]
    },
    {
      "cell_type": "code",
      "execution_count": null,
      "metadata": {
        "colab": {
          "base_uri": "https://localhost:8080/",
          "height": 17,
          "referenced_widgets": [
            "763cc5938b594e0c87514118cda101b4",
            "03b890442ce149d1b984852fd7ebc770",
            "5c9ce46c48c94aed98be9a00e4dcea44",
            "fd82cf3bd2534a3cb7fbf97a87ee1c5a",
            "40c3d28c4cdb4cb0a399e1fac6eb913c",
            "8ca31299db9b4fbe997ba64023e9462a",
            "ae8cd8923e2e486eb67a6b46c8654b3f",
            "48e97a59ea504b1e9c46e2a93894fc68",
            "4de9d60812314a4c82a54a3acc9da7ad",
            "fd636559376a41c29427c502d44b2566",
            "4345d91c569a4507ad6a143dc7435f33"
          ]
        },
        "id": "vKjQr3ZYsGIz",
        "outputId": "3a21c863-8f50-4ed1-f121-1a182e7d4813"
      },
      "outputs": [
        {
          "data": {
            "application/vnd.jupyter.widget-view+json": {
              "model_id": "763cc5938b594e0c87514118cda101b4",
              "version_major": 2,
              "version_minor": 0
            },
            "text/plain": [
              "Map:   0%|          | 0/7090 [00:00<?, ? examples/s]"
            ]
          },
          "metadata": {},
          "output_type": "display_data"
        }
      ],
      "source": [
        "ds_test_encoded.set_format(\"torch\", columns=['input_ids', 'attention_mask'])\n",
        "test_hidden = ds_test_encoded.map(extract_hidden_states, batched = True)"
      ]
    },
    {
      "cell_type": "code",
      "execution_count": null,
      "metadata": {
        "colab": {
          "base_uri": "https://localhost:8080/"
        },
        "id": "xUdmJv4yoZY-",
        "outputId": "f6e7ae20-c054-4d2b-9b29-3e4309c710e2"
      },
      "outputs": [
        {
          "data": {
            "text/plain": [
              "Dataset({\n",
              "    features: ['문장', '유형', '극성', '시제', '확실성', 'input_ids', 'attention_mask', 'hidden_state'],\n",
              "    num_rows: 30708\n",
              "})"
            ]
          },
          "execution_count": 292,
          "metadata": {},
          "output_type": "execute_result"
        }
      ],
      "source": [
        "train_hidden"
      ]
    },
    {
      "cell_type": "code",
      "execution_count": null,
      "metadata": {
        "colab": {
          "base_uri": "https://localhost:8080/"
        },
        "id": "MPBtUNNlocBR",
        "outputId": "54982d6d-7707-428a-c6e7-c564ff68c677"
      },
      "outputs": [
        {
          "data": {
            "text/plain": [
              "Dataset({\n",
              "    features: ['문장', '유형', '극성', '시제', '확실성', 'input_ids', 'attention_mask', 'hidden_state'],\n",
              "    num_rows: 7946\n",
              "})"
            ]
          },
          "execution_count": 293,
          "metadata": {},
          "output_type": "execute_result"
        }
      ],
      "source": [
        "val_hidden"
      ]
    },
    {
      "cell_type": "code",
      "execution_count": null,
      "metadata": {
        "colab": {
          "base_uri": "https://localhost:8080/",
          "height": 17,
          "referenced_widgets": [
            "257243ab9c8e4ff08dc247faf580bb7d",
            "dbc8c49abca848c093d4ab0ad710719d",
            "43917a580c194c1a97653122c1a691fe",
            "fe91a39fff5d4f7a973bc176cf2d4e93",
            "f9f81bc136c2453ea796dbca76252eed",
            "3dabc110d0fa4da7b1460a8a6d7a4939",
            "cb613102c11b41fb9ec63a709eaa8e9f",
            "6f60ee07dfc545e596c5b5c8fc9e8318",
            "c8feed238fdf4eea9dfe78ecaa65f558",
            "36bdaa0507db4cc1a2d11687f557b747",
            "3c76a05509b741a8abb423c7ec4c0d7d",
            "290d95aebe494ff287ec3644ce59fdad",
            "038d91a45ada44138ea2b509a2e60dc0",
            "23fa37de4f534d37bfa0eb00cf31179a",
            "5bdf303f0ce04439a0b42c0fb2e18c97",
            "bad90619c0e5440a9c88814dd81ea148",
            "b263ae1f2db84c6d98bc4963146997c2",
            "8db6d487fe20466ab8e47f1d8ed138ce",
            "ce2289a9a58d42cca4bb25fc49b8bba9",
            "3b6da6c326104a359cc133adfe38a472",
            "67e1341325c546cf98013ee5c824a0e6",
            "5e4c3b09057f400a902ed7a072d8dc21"
          ]
        },
        "id": "9KAY3vOdpDUw",
        "outputId": "d7583691-3bf9-430e-88d3-e2fd58921f8e"
      },
      "outputs": [
        {
          "data": {
            "application/vnd.jupyter.widget-view+json": {
              "model_id": "257243ab9c8e4ff08dc247faf580bb7d",
              "version_major": 2,
              "version_minor": 0
            },
            "text/plain": [
              "Saving the dataset (0/1 shards):   0%|          | 0/30708 [00:00<?, ? examples/s]"
            ]
          },
          "metadata": {},
          "output_type": "display_data"
        },
        {
          "data": {
            "application/vnd.jupyter.widget-view+json": {
              "model_id": "290d95aebe494ff287ec3644ce59fdad",
              "version_major": 2,
              "version_minor": 0
            },
            "text/plain": [
              "Saving the dataset (0/1 shards):   0%|          | 0/7946 [00:00<?, ? examples/s]"
            ]
          },
          "metadata": {},
          "output_type": "display_data"
        }
      ],
      "source": [
        "train_hidden.save_to_disk(\"train_hidden_aug\")\n",
        "val_hidden.save_to_disk(\"val_hidden_aug\")\n",
        "#test_hidden.save_to_disk(\"test_hidden\")"
      ]
    },
    {
      "cell_type": "code",
      "execution_count": null,
      "metadata": {
        "colab": {
          "base_uri": "https://localhost:8080/"
        },
        "id": "EftVaWNRqY8-",
        "outputId": "e66a148e-6502-436e-e85b-cb7dfc1625dd"
      },
      "outputs": [
        {
          "name": "stdout",
          "output_type": "stream",
          "text": [
            "  adding: content/train_hidden_aug/ (stored 0%)\n",
            "  adding: content/train_hidden_aug/data-00000-of-00001.arrow (deflated 31%)\n",
            "  adding: content/train_hidden_aug/state.json (deflated 42%)\n",
            "  adding: content/train_hidden_aug/dataset_info.json (deflated 75%)\n"
          ]
        }
      ],
      "source": [
        "!zip -r /content/train_hdn.zip /content/train_hidden/\n",
        "!zip -r /content/val_hdn.zip /content/val_hidden/\n",
        "!zip -r /content/test_hdn.zip /content/test_hidden/"
      ]
    },
    {
      "cell_type": "code",
      "execution_count": null,
      "metadata": {
        "id": "Ju_i6x0OscyP"
      },
      "outputs": [],
      "source": [
        "!zip -r /content/train_hdn_aug.zip /content/train_hidden_aug/\n",
        "!zip -r /content/val_hdn_aug.zip /content/val_hidden_aug/"
      ]
    },
    {
      "cell_type": "code",
      "execution_count": null,
      "metadata": {
        "colab": {
          "base_uri": "https://localhost:8080/"
        },
        "id": "rY57cIE8B6Sc",
        "outputId": "ee1fe0aa-abd3-4805-b992-9777dbda55e7"
      },
      "outputs": [
        {
          "name": "stdout",
          "output_type": "stream",
          "text": [
            "  adding: content/train_hidden_aug_30000/ (stored 0%)\n",
            "  adding: content/train_hidden_aug_30000/data-00000-of-00001.arrow (deflated 37%)\n",
            "  adding: content/train_hidden_aug_30000/state.json (deflated 42%)\n",
            "  adding: content/train_hidden_aug_30000/dataset_info.json (deflated 74%)\n",
            "  adding: content/val_hidden_aug_8000/ (stored 0%)\n",
            "  adding: content/val_hidden_aug_8000/data-00000-of-00001.arrow (deflated 26%)\n",
            "  adding: content/val_hidden_aug_8000/state.json (deflated 43%)\n",
            "  adding: content/val_hidden_aug_8000/dataset_info.json (deflated 74%)\n"
          ]
        }
      ],
      "source": [
        "!zip -r /content/train_hdn_aug_3000.zip /content/train_hidden_aug_30000/\n",
        "!zip -r /content/val_hdn_aug_8000.zip /content/val_hidden_aug_8000/"
      ]
    },
    {
      "cell_type": "markdown",
      "metadata": {
        "id": "PA8i_sOHGdwp"
      },
      "source": [
        "## CustomModel"
      ]
    },
    {
      "cell_type": "markdown",
      "metadata": {
        "id": "BYpZ1BJa9nm5"
      },
      "source": [
        "https://heekangpark.github.io/nlp/huggingface-bert"
      ]
    },
    {
      "cell_type": "code",
      "execution_count": null,
      "metadata": {
        "id": "5hVVOcQ-1OJr"
      },
      "outputs": [],
      "source": [
        "from typing import Optional, Sequence\n",
        "from torch import Tensor"
      ]
    },
    {
      "cell_type": "code",
      "execution_count": null,
      "metadata": {
        "id": "8nefp7EE1BZC"
      },
      "outputs": [],
      "source": [
        "class FocalLoss(nn.Module):\n",
        "    \"\"\" Focal Loss, as described in https://arxiv.org/abs/1708.02002.\n",
        "    It is essentially an enhancement to cross entropy loss and is\n",
        "    useful for classification tasks when there is a large class imbalance.\n",
        "    x is expected to contain raw, unnormalized scores for each class.\n",
        "    y is expected to contain class labels.\n",
        "    Shape:\n",
        "        - x: (batch_size, C) or (batch_size, C, d1, d2, ..., dK), K > 0.\n",
        "        - y: (batch_size,) or (batch_size, d1, d2, ..., dK), K > 0.\n",
        "    \"\"\"\n",
        "\n",
        "    def __init__(self,\n",
        "                 alpha: Optional[Tensor] = None,\n",
        "                 gamma: float = 0.,\n",
        "                 reduction: str = 'mean',\n",
        "                 ignore_index: int = -100):\n",
        "        \"\"\"Constructor.\n",
        "        Args:\n",
        "            alpha (Tensor, optional): Weights for each class. Defaults to None.\n",
        "            gamma (float, optional): A constant, as described in the paper.\n",
        "                Defaults to 0.\n",
        "            reduction (str, optional): 'mean', 'sum' or 'none'.\n",
        "                Defaults to 'mean'.\n",
        "            ignore_index (int, optional): class label to ignore.\n",
        "                Defaults to -100.\n",
        "        \"\"\"\n",
        "        if reduction not in ('mean', 'sum', 'none'):\n",
        "            raise ValueError(\n",
        "                'Reduction must be one of: \"mean\", \"sum\", \"none\".')\n",
        "\n",
        "        super().__init__()\n",
        "        self.alpha = alpha\n",
        "        self.gamma = gamma\n",
        "        self.ignore_index = ignore_index\n",
        "        self.reduction = reduction\n",
        "\n",
        "        self.nll_loss = nn.NLLLoss(\n",
        "            weight=alpha, reduction='none', ignore_index=ignore_index)\n",
        "\n",
        "    def __repr__(self):\n",
        "        arg_keys = ['alpha', 'gamma', 'ignore_index', 'reduction']\n",
        "        arg_vals = [self.__dict__[k] for k in arg_keys]\n",
        "        arg_strs = [f'{k}={v!r}' for k, v in zip(arg_keys, arg_vals)]\n",
        "        arg_str = ', '.join(arg_strs)\n",
        "        return f'{type(self).__name__}({arg_str})'\n",
        "\n",
        "    def forward(self, x: Tensor, y: Tensor) -> Tensor:\n",
        "        if x.ndim > 2:\n",
        "            # (N, C, d1, d2, ..., dK) --> (N * d1 * ... * dK, C)\n",
        "            c = x.shape[1]\n",
        "            x = x.permute(0, *range(2, x.ndim), 1).reshape(-1, c)\n",
        "            # (N, d1, d2, ..., dK) --> (N * d1 * ... * dK,)\n",
        "            y = y.view(-1)\n",
        "\n",
        "        unignored_mask = y != self.ignore_index\n",
        "        y = y[unignored_mask]\n",
        "        if len(y) == 0:\n",
        "            return torch.tensor(0.)\n",
        "        x = x[unignored_mask]\n",
        "\n",
        "        # compute weighted cross entropy term: -alpha * log(pt)\n",
        "        # (alpha is already part of self.nll_loss)\n",
        "        log_p = F.log_softmax(x, dim=-1)\n",
        "        ce = self.nll_loss(log_p, y)\n",
        "\n",
        "        # get true class column from each row\n",
        "        all_rows = torch.arange(len(x))\n",
        "        log_pt = log_p[all_rows, y]\n",
        "\n",
        "        # compute focal term: (1 - pt)^gamma\n",
        "        pt = log_pt.exp()\n",
        "        focal_term = (1 - pt)**self.gamma\n",
        "\n",
        "        # the full loss: -alpha * ((1 - pt)^gamma) * log(pt)\n",
        "        loss = focal_term * ce\n",
        "\n",
        "        if self.reduction == 'mean':\n",
        "            loss = loss.mean()\n",
        "        elif self.reduction == 'sum':\n",
        "            loss = loss.sum()\n",
        "\n",
        "        return loss\n",
        "\n",
        "\n",
        "def focal_loss(alpha: Optional[Sequence] = None,\n",
        "               gamma: float = 0.,\n",
        "               reduction: str = 'mean',\n",
        "               ignore_index: int = -100,\n",
        "               device='cpu',\n",
        "               dtype=torch.float32) -> FocalLoss:\n",
        "    \"\"\"Factory function for FocalLoss.\n",
        "    Args:\n",
        "        alpha (Sequence, optional): Weights for each class. Will be converted\n",
        "            to a Tensor if not None. Defaults to None.\n",
        "        gamma (float, optional): A constant, as described in the paper.\n",
        "            Defaults to 0.\n",
        "        reduction (str, optional): 'mean', 'sum' or 'none'.\n",
        "            Defaults to 'mean'.\n",
        "        ignore_index (int, optional): class label to ignore.\n",
        "            Defaults to -100.\n",
        "        device (str, optional): Device to move alpha to. Defaults to 'cpu'.\n",
        "        dtype (torch.dtype, optional): dtype to cast alpha to.\n",
        "            Defaults to torch.float32.\n",
        "    Returns:\n",
        "        A FocalLoss object\n",
        "    \"\"\"\n",
        "    if alpha is not None:\n",
        "        if not isinstance(alpha, Tensor):\n",
        "            alpha = torch.tensor(alpha)\n",
        "        alpha = alpha.to(device=device, dtype=dtype)\n",
        "\n",
        "    fl = FocalLoss(\n",
        "        alpha=alpha,\n",
        "        gamma=gamma,\n",
        "        reduction=reduction,\n",
        "        ignore_index=ignore_index)\n",
        "    return fl\n",
        "        \n",
        "def compute_metrics(pred):\n",
        "    # label = [[cls1,cls2,...],]\n",
        "    # preds = n list\n",
        "    focal_loss = FocalLoss()\n",
        "    labels = pred.label_ids\n",
        "    preds = pred.predictions\n",
        "    f1 = []\n",
        "    focal = []\n",
        "    for i in range(4):\n",
        "        # focal.append(focal_loss(torch.tensor(preds[i], dtype=torch.float), torch.tensor(labels[::, i],dtype=torch.float)))\n",
        "        f1.append(f1_score(y_true = labels[::, i], y_pred = preds[i], average='weighted'))\n",
        "    return {\n",
        "        #'focal': sum(focal),\n",
        "        'f1-sum': sum(f1)/4\n",
        "    }"
      ]
    },
    {
      "cell_type": "code",
      "execution_count": null,
      "metadata": {
        "id": "Wt3c4sjrzbqe"
      },
      "outputs": [],
      "source": [
        "from transformers import AutoConfig\n",
        "\n",
        "config=AutoConfig.from_pretrained(model_ckpt)"
      ]
    },
    {
      "cell_type": "code",
      "execution_count": null,
      "metadata": {
        "id": "S1irq72RRtn1"
      },
      "outputs": [],
      "source": [
        "class CustomModel(nn.Module):\n",
        "    def __init__(self, input_dim=768):\n",
        "        super(CustomModel, self).__init__()\n",
        "        self.feature_extract = nn.Sequential(\n",
        "            nn.Linear(in_features=input_dim, out_features=512),\n",
        "            nn.BatchNorm1d(512),\n",
        "            nn.LeakyReLU()\n",
        "        )\n",
        "\n",
        "        self.type_classifier = nn.Sequential(\n",
        "            nn.Dropout(p=0.3),\n",
        "            nn.Linear(in_features=512, out_features=4),\n",
        "        )\n",
        "        self.polarity_classifier = nn.Sequential(\n",
        "            nn.Dropout(p=0.3),\n",
        "            nn.Linear(in_features=512, out_features=3),\n",
        "        )\n",
        "        self.tense_classifier = nn.Sequential(\n",
        "            nn.Dropout(p=0.3),\n",
        "            nn.Linear(in_features=512, out_features=3),\n",
        "        )\n",
        "        self.certainty_classifier = nn.Sequential(\n",
        "            nn.Dropout(p=0.3),\n",
        "            nn.Linear(in_features=512, out_features=2),\n",
        "        )\n",
        "            \n",
        "    def forward(self, x):\n",
        "        x = self.feature_extract(x)\n",
        "        tense_output = self.tense_classifier(x)\n",
        "        type_output = self.type_classifier(x)\n",
        "        polarity_output = self.polarity_classifier(x)\n",
        "        certainty_output = self.certainty_classifier(x)\n",
        "    \n",
        "        return type_output, polarity_output, tense_output, certainty_output"
      ]
    },
    {
      "attachments": {},
      "cell_type": "markdown",
      "metadata": {},
      "source": [
        "### Activate Function"
      ]
    },
    {
      "cell_type": "code",
      "execution_count": null,
      "metadata": {
        "id": "AsN0-O1YXmu6"
      },
      "outputs": [],
      "source": [
        "class CustomModel_Elu(nn.Module):\n",
        "    def __init__(self, input_dim=768):\n",
        "        super(CustomModel_Elu, self).__init__()\n",
        "        self.feature_extract = nn.Sequential(\n",
        "            nn.Linear(in_features=input_dim, out_features=512),\n",
        "            nn.BatchNorm1d(512),\n",
        "            nn.ELU()\n",
        "        )\n",
        "\n",
        "        self.type_classifier = nn.Sequential(\n",
        "            nn.Dropout(p=0.3),\n",
        "            nn.Linear(in_features=512, out_features=4),\n",
        "        )\n",
        "        self.polarity_classifier = nn.Sequential(\n",
        "            nn.Dropout(p=0.3),\n",
        "            nn.Linear(in_features=512, out_features=3),\n",
        "        )\n",
        "        self.tense_classifier = nn.Sequential(\n",
        "            nn.Dropout(p=0.3),\n",
        "            nn.Linear(in_features=512, out_features=3),\n",
        "        )\n",
        "        self.certainty_classifier = nn.Sequential(\n",
        "            nn.Dropout(p=0.3),\n",
        "            nn.Linear(in_features=512, out_features=2),\n",
        "        )\n",
        "            \n",
        "    def forward(self, x):\n",
        "        x = self.feature_extract(x)\n",
        "        tense_output = self.tense_classifier(x)\n",
        "        type_output = self.type_classifier(x)\n",
        "        polarity_output = self.polarity_classifier(x)\n",
        "        certainty_output = self.certainty_classifier(x)\n",
        "\n",
        "    \n",
        "        return type_output, polarity_output, tense_output, certainty_output"
      ]
    },
    {
      "cell_type": "code",
      "execution_count": null,
      "metadata": {
        "id": "Kd-5WQsDs9JZ"
      },
      "outputs": [],
      "source": [
        "class CustomModel_tanh(nn.Module):\n",
        "    def __init__(self, input_dim=768):\n",
        "        super(CustomModel_tanh, self).__init__()\n",
        "        self.feature_extract = nn.Sequential(\n",
        "            nn.Linear(in_features=input_dim, out_features=512),\n",
        "            nn.BatchNorm1d(512),\n",
        "            nn.Tanh()\n",
        "        )\n",
        "\n",
        "        self.type_classifier = nn.Sequential(\n",
        "            nn.Dropout(p=0.3),\n",
        "            nn.Linear(in_features=512, out_features=4),\n",
        "        )\n",
        "        self.polarity_classifier = nn.Sequential(\n",
        "            nn.Dropout(p=0.3),\n",
        "            nn.Linear(in_features=512, out_features=3),\n",
        "        )\n",
        "        self.tense_classifier = nn.Sequential(\n",
        "            nn.Dropout(p=0.3),\n",
        "            nn.Linear(in_features=512, out_features=3),\n",
        "        )\n",
        "        self.certainty_classifier = nn.Sequential(\n",
        "            nn.Dropout(p=0.3),\n",
        "            nn.Linear(in_features=512, out_features=2),\n",
        "        )\n",
        "            \n",
        "    def forward(self, x):\n",
        "        x = self.feature_extract(x)\n",
        "        tense_output = self.tense_classifier(x)\n",
        "        type_output = self.type_classifier(x)\n",
        "        polarity_output = self.polarity_classifier(x)\n",
        "        certainty_output = self.certainty_classifier(x)\n",
        "\n",
        "    \n",
        "        return type_output, polarity_output, tense_output, certainty_output"
      ]
    },
    {
      "cell_type": "code",
      "execution_count": null,
      "metadata": {
        "id": "9uNXqkh-uNPe"
      },
      "outputs": [],
      "source": [
        "class CustomModel_Gelu(nn.Module):\n",
        "    def __init__(self, input_dim=768):\n",
        "        super(CustomModel_Gelu, self).__init__()\n",
        "        self.feature_extract = nn.Sequential(\n",
        "            nn.Linear(in_features=input_dim, out_features=512),\n",
        "            nn.BatchNorm1d(512),\n",
        "            nn.GELU()\n",
        "        )\n",
        "\n",
        "        self.type_classifier = nn.Sequential(\n",
        "            nn.Dropout(p=0.3),\n",
        "            nn.Linear(in_features=512, out_features=4),\n",
        "        )\n",
        "        self.polarity_classifier = nn.Sequential(\n",
        "            nn.Dropout(p=0.3),\n",
        "            nn.Linear(in_features=512, out_features=3),\n",
        "        )\n",
        "        self.tense_classifier = nn.Sequential(\n",
        "            nn.Dropout(p=0.3),\n",
        "            nn.Linear(in_features=512, out_features=3),\n",
        "        )\n",
        "        self.certainty_classifier = nn.Sequential(\n",
        "            nn.Dropout(p=0.3),\n",
        "            nn.Linear(in_features=512, out_features=2),\n",
        "        )\n",
        "            \n",
        "    def forward(self, x):\n",
        "        x = self.feature_extract(x)\n",
        "        tense_output = self.tense_classifier(x)\n",
        "        type_output = self.type_classifier(x)\n",
        "        polarity_output = self.polarity_classifier(x)\n",
        "        certainty_output = self.certainty_classifier(x)\n",
        "\n",
        "    \n",
        "        return type_output, polarity_output, tense_output, certainty_output"
      ]
    },
    {
      "cell_type": "markdown",
      "metadata": {
        "id": "RzksO0viSLrH"
      },
      "source": [
        "### Ensemble"
      ]
    },
    {
      "cell_type": "code",
      "execution_count": null,
      "metadata": {
        "id": "dahW5UqnKEkN"
      },
      "outputs": [],
      "source": [
        "class CustomModel_a(nn.Module): #시 유 극 확\n",
        "    def __init__(self, input_dim=768):\n",
        "        super(CustomModel_a, self).__init__()\n",
        "        self.feature_extract_first = nn.Sequential( #cls -> 시제 vec\n",
        "            nn.Linear(in_features=input_dim, out_features=512),\n",
        "            nn.BatchNorm1d(512),\n",
        "            nn.LeakyReLU()\n",
        "        )\n",
        "\n",
        "        self.feature_extract_second = nn.Sequential( #시제 vec -> 유형 vec\n",
        "            nn.Linear(in_features=512+768, out_features=512),\n",
        "            nn.BatchNorm1d(512),\n",
        "            nn.LeakyReLU()\n",
        "        )\n",
        "\n",
        "        self.feature_extract_third = nn.Sequential( #유형 vec -> 극성 vec\n",
        "            nn.Linear(in_features=512+768, out_features=512),\n",
        "            nn.BatchNorm1d(512),\n",
        "            nn.LeakyReLU()\n",
        "        )\n",
        "\n",
        "        self.feature_extract_forth = nn.Sequential( #극성 vec -> 확실성 vec\n",
        "            nn.Linear(in_features=512+768, out_features=512),\n",
        "            nn.BatchNorm1d(512),\n",
        "            nn.LeakyReLU()\n",
        "        )\n",
        "\n",
        "        self.type_classifier = nn.Sequential(\n",
        "            nn.Dropout(p=0.3),\n",
        "            nn.Linear(in_features=512, out_features=4),\n",
        "        )\n",
        "        self.polarity_classifier = nn.Sequential(\n",
        "            nn.Dropout(p=0.3),\n",
        "            nn.Linear(in_features=512, out_features=3),\n",
        "        )\n",
        "        self.tense_classifier = nn.Sequential(\n",
        "            nn.Dropout(p=0.3),\n",
        "            nn.Linear(in_features=512, out_features=3),\n",
        "        )\n",
        "        self.certainty_classifier = nn.Sequential(\n",
        "            nn.Dropout(p=0.3),\n",
        "            nn.Linear(in_features=512, out_features=2),\n",
        "        )\n",
        "            \n",
        "    def forward(self, t):\n",
        "        t1 = self.feature_extract_first(t)\n",
        "        tense_output = self.tense_classifier(t1)\n",
        "\n",
        "        prediction_vector = torch.cat((t1, t), dim=1)\n",
        "        t2 = self.feature_extract_second(prediction_vector)\n",
        "        type_output = self.type_classifier(t2)\n",
        "\n",
        "        prediction_vector = torch.cat((t2, t), dim=1)\n",
        "        t3 = self.feature_extract_third(prediction_vector)\n",
        "        polarity_output = self.polarity_classifier(t3)\n",
        "        \n",
        "        prediction_vector = torch.cat((t3, t), dim=1)\n",
        "        t4 = self.feature_extract_forth(prediction_vector)\n",
        "        certainty_output = self.certainty_classifier(t4)\n",
        "\n",
        "    \n",
        "        return type_output, polarity_output, tense_output, certainty_output"
      ]
    },
    {
      "cell_type": "code",
      "execution_count": null,
      "metadata": {
        "id": "JFwHecfPgDcw"
      },
      "outputs": [],
      "source": [
        "class CustomModel_b(nn.Module): #극 시 확 유\n",
        "    def __init__(self, input_dim=768):\n",
        "        super(CustomModel_b, self).__init__()\n",
        "        self.feature_extract_first = nn.Sequential( #cls -> 극성 vec\n",
        "            nn.Linear(in_features=input_dim, out_features=512),\n",
        "            nn.BatchNorm1d(512),\n",
        "            nn.LeakyReLU()\n",
        "        )\n",
        "\n",
        "        self.feature_extract_second = nn.Sequential( #극성 vec -> 시제 vec\n",
        "            nn.Linear(in_features=512+768, out_features=512),\n",
        "            nn.LeakyReLU(),\n",
        "            nn.Linear(in_features=512, out_features=512),\n",
        "            nn.LeakyReLU()\n",
        "        )\n",
        "\n",
        "        self.feature_extract_third = nn.Sequential( #시제 vec -> 확실성 vec\n",
        "            nn.Linear(in_features=512+768, out_features=512),\n",
        "            nn.LeakyReLU(),\n",
        "            nn.Linear(in_features=512, out_features=512),\n",
        "            nn.LeakyReLU()\n",
        "        )\n",
        "\n",
        "        self.feature_extract_forth = nn.Sequential( #확실성 vec -> 유형 vec\n",
        "            nn.Linear(in_features=512+768, out_features=512),\n",
        "            nn.LeakyReLU(),\n",
        "            nn.Linear(in_features=512, out_features=512),\n",
        "            nn.LeakyReLU()\n",
        "        )\n",
        "\n",
        "\n",
        "        self.type_classifier = nn.Sequential(\n",
        "            nn.Dropout(p=0.3),\n",
        "            nn.Linear(in_features=512, out_features=4),\n",
        "        )\n",
        "        self.polarity_classifier = nn.Sequential(\n",
        "            nn.Dropout(p=0.3),\n",
        "            nn.Linear(in_features=512, out_features=3),\n",
        "        )\n",
        "        self.tense_classifier = nn.Sequential(\n",
        "            nn.Dropout(p=0.3),\n",
        "            nn.Linear(in_features=512, out_features=3),\n",
        "        )\n",
        "        self.certainty_classifier = nn.Sequential(\n",
        "            nn.Dropout(p=0.3),\n",
        "            nn.Linear(in_features=512, out_features=2),\n",
        "        )\n",
        "            \n",
        "    def forward(self, t):\n",
        "        t1 = self.feature_extract_first(t)\n",
        "        polarity_output = self.polarity_classifier(t1)\n",
        "\n",
        "        prediction_vector = torch.cat((t1, t), dim=1)\n",
        "        t2 = self.feature_extract_second(prediction_vector)\n",
        "        tense_output = self.tense_classifier(t2)\n",
        "        \n",
        "        prediction_vector = torch.cat((t2, t), dim=1)\n",
        "        t3 = self.feature_extract_third(prediction_vector)\n",
        "        certainty_output = self.certainty_classifier(t3)\n",
        "        \n",
        "        prediction_vector = torch.cat((t3, t), dim=1)\n",
        "        t4 = self.feature_extract_forth(prediction_vector)\n",
        "        type_output = self.type_classifier(t4)\n",
        "    \n",
        "        return type_output, polarity_output, tense_output, certainty_output"
      ]
    },
    {
      "cell_type": "code",
      "execution_count": null,
      "metadata": {
        "id": "J4mVxiF-gObr"
      },
      "outputs": [],
      "source": [
        "class CustomModel_c(nn.Module): #확 유 극 시\n",
        "    def __init__(self, input_dim=768):\n",
        "        super(CustomModel_c, self).__init__()\n",
        "        self.feature_extract_first = nn.Sequential( #cls -> 확실성 vec\n",
        "            nn.Linear(in_features=input_dim, out_features=512),\n",
        "            nn.BatchNorm1d(512),\n",
        "            nn.LeakyReLU()\n",
        "        )\n",
        "\n",
        "        self.feature_extract_second = nn.Sequential( #확실성 vec -> 유형 vec\n",
        "            nn.Linear(in_features=512+768, out_features=512),\n",
        "            nn.BatchNorm1d(512),\n",
        "            nn.LeakyReLU()\n",
        "        )\n",
        "\n",
        "        self.feature_extract_third = nn.Sequential( #유형 vec -> 극성 vec\n",
        "            nn.Linear(in_features=512+768, out_features=512),\n",
        "            nn.BatchNorm1d(512),\n",
        "            nn.LeakyReLU()\n",
        "        )\n",
        "\n",
        "        self.feature_extract_forth = nn.Sequential( #극성 vec -> 시제 vec\n",
        "            nn.Linear(in_features=512+768, out_features=512),\n",
        "            nn.BatchNorm1d(512),\n",
        "            nn.LeakyReLU()\n",
        "        )\n",
        "\n",
        "        self.type_classifier = nn.Sequential(\n",
        "            nn.Dropout(p=0.3),\n",
        "            nn.Linear(in_features=512, out_features=4),\n",
        "        )\n",
        "        self.polarity_classifier = nn.Sequential(\n",
        "            nn.Dropout(p=0.3),\n",
        "            nn.Linear(in_features=512, out_features=3),\n",
        "        )\n",
        "        self.tense_classifier = nn.Sequential(\n",
        "            nn.Dropout(p=0.3),\n",
        "            nn.Linear(in_features=512, out_features=3),\n",
        "        )\n",
        "        self.certainty_classifier = nn.Sequential(\n",
        "            nn.Dropout(p=0.3),\n",
        "            nn.Linear(in_features=512, out_features=2),\n",
        "        )\n",
        "            \n",
        "    def forward(self, t):\n",
        "        t1 = self.feature_extract_first(t)\n",
        "        certainty_output = self.certainty_classifier(t1)\n",
        "\n",
        "        prediction_vector = torch.cat((t1, t), dim=1)\n",
        "        t2 = self.feature_extract_second(prediction_vector)\n",
        "        type_output = self.type_classifier(t2)\n",
        "        \n",
        "        prediction_vector = torch.cat((t2, t), dim=1)\n",
        "        t3 = self.feature_extract_third(prediction_vector)\n",
        "        polarity_output = self.polarity_classifier(t3)\n",
        "        \n",
        "        prediction_vector = torch.cat((t3, t), dim=1)\n",
        "        t4 = self.feature_extract_forth(prediction_vector)\n",
        "        tense_output = self.tense_classifier(t4)\n",
        "    \n",
        "        return type_output, polarity_output, tense_output, certainty_output"
      ]
    },
    {
      "cell_type": "code",
      "execution_count": null,
      "metadata": {
        "id": "D9Ij933WR7DH"
      },
      "outputs": [],
      "source": [
        "class CustomModel_d(nn.Module): #극 유 시 확\n",
        "    def __init__(self, input_dim=768):\n",
        "        super(CustomModel_d, self).__init__()\n",
        "        self.feature_extract_first = nn.Sequential( #cls -> 극성 vec\n",
        "            nn.Linear(in_features=input_dim, out_features=512),\n",
        "            nn.BatchNorm1d(512),\n",
        "            nn.LeakyReLU()\n",
        "        )\n",
        "\n",
        "        self.feature_extract_second = nn.Sequential( #극성 vec -> 유형 vec\n",
        "            nn.Linear(in_features=512+768, out_features=512),\n",
        "            nn.BatchNorm1d(512),\n",
        "            nn.LeakyReLU()\n",
        "        )\n",
        "\n",
        "        self.feature_extract_third = nn.Sequential( #유형 vec -> 시제 vec\n",
        "            nn.Linear(in_features=512+768, out_features=512),\n",
        "            nn.BatchNorm1d(512),\n",
        "            nn.LeakyReLU()\n",
        "        )\n",
        "\n",
        "        self.feature_extract_forth = nn.Sequential( #시제 vec -> 확실성 vec\n",
        "            nn.Linear(in_features=512+768, out_features=512),\n",
        "            nn.BatchNorm1d(512),\n",
        "            nn.LeakyReLU()\n",
        "        )\n",
        "\n",
        "        self.type_classifier = nn.Sequential(\n",
        "            nn.Dropout(p=0.3),\n",
        "            nn.Linear(in_features=512, out_features=4),\n",
        "        )\n",
        "        self.polarity_classifier = nn.Sequential(\n",
        "            nn.Dropout(p=0.3),\n",
        "            nn.Linear(in_features=512, out_features=3),\n",
        "        )\n",
        "        self.tense_classifier = nn.Sequential(\n",
        "            nn.Dropout(p=0.3),\n",
        "            nn.Linear(in_features=512, out_features=3),\n",
        "        )\n",
        "        self.certainty_classifier = nn.Sequential(\n",
        "            nn.Dropout(p=0.3),\n",
        "            nn.Linear(in_features=512, out_features=2),\n",
        "        )\n",
        "            \n",
        "    def forward(self, t):\n",
        "        t1 = self.feature_extract_first(t)\n",
        "        polarity_output = self.polarity_classifier(t1)\n",
        "\n",
        "        prediction_vector = torch.cat((t1, t), dim=1)\n",
        "        t2 = self.feature_extract_second(prediction_vector)\n",
        "        type_output = self.type_classifier(t2)\n",
        "        \n",
        "        prediction_vector = torch.cat((t2, t), dim=1)\n",
        "        t3 = self.feature_extract_third(prediction_vector)\n",
        "        tense_output = self.tense_classifier(t3)\n",
        "        \n",
        "        prediction_vector = torch.cat((t3, t), dim=1)\n",
        "        t4 = self.feature_extract_forth(prediction_vector)\n",
        "        certainty_output = self.certainty_classifier(t4)\n",
        "    \n",
        "        return type_output, polarity_output, tense_output, certainty_output"
      ]
    },
    {
      "cell_type": "code",
      "execution_count": null,
      "metadata": {
        "id": "92jYGjUFR7oa"
      },
      "outputs": [],
      "source": [
        "class CustomModel_e(nn.Module): #유 시 확 극\n",
        "    def __init__(self, input_dim=768):\n",
        "        super(CustomModel_e, self).__init__()\n",
        "        self.feature_extract_first = nn.Sequential( #cls -> 유형 vec\n",
        "            nn.Linear(in_features=input_dim, out_features=512),\n",
        "            nn.BatchNorm1d(512),\n",
        "            nn.LeakyReLU()\n",
        "        )\n",
        "\n",
        "        self.feature_extract_second = nn.Sequential( #유형 vec -> 시제 vec\n",
        "            nn.Linear(in_features=512+768, out_features=512),\n",
        "            nn.BatchNorm1d(512),\n",
        "            nn.LeakyReLU()\n",
        "        )\n",
        "\n",
        "        self.feature_extract_third = nn.Sequential( #시제 vec -> 확실성 vec\n",
        "            nn.Linear(in_features=512+768, out_features=512),\n",
        "            nn.BatchNorm1d(512),\n",
        "            nn.LeakyReLU()\n",
        "        )\n",
        "\n",
        "        self.feature_extract_forth = nn.Sequential( #확실성 vec -> 극성 vec\n",
        "            nn.Linear(in_features=512+768, out_features=512),\n",
        "            nn.BatchNorm1d(512),\n",
        "            nn.LeakyReLU()\n",
        "        )\n",
        "\n",
        "        self.type_classifier = nn.Sequential(\n",
        "            nn.Dropout(p=0.3),\n",
        "            nn.Linear(in_features=512, out_features=4),\n",
        "        )\n",
        "        self.polarity_classifier = nn.Sequential(\n",
        "            nn.Dropout(p=0.3),\n",
        "            nn.Linear(in_features=512, out_features=3),\n",
        "        )\n",
        "        self.tense_classifier = nn.Sequential(\n",
        "            nn.Dropout(p=0.3),\n",
        "            nn.Linear(in_features=512, out_features=3),\n",
        "        )\n",
        "        self.certainty_classifier = nn.Sequential(\n",
        "            nn.Dropout(p=0.3),\n",
        "            nn.Linear(in_features=512, out_features=2),\n",
        "        )\n",
        "            \n",
        "    def forward(self, t):\n",
        "        t1 = self.feature_extract_first(t)\n",
        "        type_output = self.type_classifier(t1)\n",
        "\n",
        "        prediction_vector = torch.cat((t1, t), dim=1)\n",
        "        t2 = self.feature_extract_second(prediction_vector)\n",
        "        tense_output = self.tense_classifier(t2)\n",
        "        \n",
        "        prediction_vector = torch.cat((t2, t), dim=1)\n",
        "        t3 = self.feature_extract_third(prediction_vector)\n",
        "        certainty_output = self.certainty_classifier(t3)\n",
        "        \n",
        "        prediction_vector = torch.cat((t3, t), dim=1)\n",
        "        t4 = self.feature_extract_forth(prediction_vector)\n",
        "        polarity_output = self.polarity_classifier(t4)\n",
        "    \n",
        "        return type_output, polarity_output, tense_output, certainty_output"
      ]
    },
    {
      "cell_type": "code",
      "execution_count": null,
      "metadata": {
        "id": "mWu82u1cG08T"
      },
      "outputs": [],
      "source": [
        "class CustomModel_f(nn.Module): #시 확 극 유\n",
        "    def __init__(self, input_dim=768):\n",
        "        super(CustomModel_f, self).__init__()\n",
        "        self.feature_extract_first = nn.Sequential( #cls -> 시제 vec\n",
        "            nn.Linear(in_features=input_dim, out_features=512),\n",
        "            nn.BatchNorm1d(512),\n",
        "            nn.LeakyReLU()\n",
        "        )\n",
        "\n",
        "        self.feature_extract_second = nn.Sequential( #시제 vec -> 확실성 vec\n",
        "            nn.Linear(in_features=512+768, out_features=512),\n",
        "            nn.BatchNorm1d(512),\n",
        "            nn.LeakyReLU()\n",
        "        )\n",
        "\n",
        "        self.feature_extract_third = nn.Sequential( #확실성 vec -> 극성 vec\n",
        "            nn.Linear(in_features=512+768, out_features=512),\n",
        "            nn.BatchNorm1d(512),\n",
        "            nn.LeakyReLU()\n",
        "        )\n",
        "\n",
        "        self.feature_extract_forth = nn.Sequential( #극성 vec -> 유형 vec\n",
        "            nn.Linear(in_features=512+768, out_features=512),\n",
        "            nn.BatchNorm1d(512),\n",
        "            nn.LeakyReLU()\n",
        "        )\n",
        "\n",
        "        self.type_classifier = nn.Sequential(\n",
        "            nn.Dropout(p=0.3),\n",
        "            nn.Linear(in_features=512, out_features=4),\n",
        "        )\n",
        "        self.polarity_classifier = nn.Sequential(\n",
        "            nn.Dropout(p=0.3),\n",
        "            nn.Linear(in_features=512, out_features=3),\n",
        "        )\n",
        "        self.tense_classifier = nn.Sequential(\n",
        "            nn.Dropout(p=0.3),\n",
        "            nn.Linear(in_features=512, out_features=3),\n",
        "        )\n",
        "        self.certainty_classifier = nn.Sequential(\n",
        "            nn.Dropout(p=0.3),\n",
        "            nn.Linear(in_features=512, out_features=2),\n",
        "        )\n",
        "            \n",
        "    def forward(self, t):\n",
        "        t1 = self.feature_extract_first(t)\n",
        "        tense_output = self.tense_classifier(t1)\n",
        "\n",
        "        prediction_vector = torch.cat((t1, t), dim=1)\n",
        "        t2 = self.feature_extract_second(prediction_vector)\n",
        "        certainty_output = self.certainty_classifier(t2)\n",
        "        \n",
        "        prediction_vector = torch.cat((t2, t), dim=1)\n",
        "        t3 = self.feature_extract_third(prediction_vector)\n",
        "        polarity_output = self.polarity_classifier(t3)\n",
        "        \n",
        "        prediction_vector = torch.cat((t3, t), dim=1)\n",
        "        t4 = self.feature_extract_forth(prediction_vector)\n",
        "        type_output = self.type_classifier(t4)\n",
        "    \n",
        "        return type_output, polarity_output, tense_output, certainty_output"
      ]
    },
    {
      "cell_type": "code",
      "execution_count": null,
      "metadata": {
        "id": "57SGK30KG6yE"
      },
      "outputs": [],
      "source": [
        "class CustomModel_g(nn.Module): #유 확 극 시\n",
        "    def __init__(self, input_dim=768):\n",
        "        super(CustomModel_g, self).__init__()\n",
        "        self.feature_extract_first = nn.Sequential( #cls -> 유형 vec\n",
        "            nn.Linear(in_features=input_dim, out_features=512),\n",
        "            nn.BatchNorm1d(512),\n",
        "            nn.LeakyReLU()\n",
        "        )\n",
        "\n",
        "        self.feature_extract_second = nn.Sequential( #유형 vec -> 확실성 vec\n",
        "            nn.Linear(in_features=512, out_features=512),\n",
        "            nn.BatchNorm1d(512),\n",
        "            nn.LeakyReLU()\n",
        "        )\n",
        "\n",
        "        self.feature_extract_third = nn.Sequential( #확실성 vec -> 극성 vec\n",
        "            nn.Linear(in_features=512, out_features=512),\n",
        "            nn.BatchNorm1d(512),\n",
        "            nn.LeakyReLU()\n",
        "        )\n",
        "\n",
        "        self.feature_extract_forth = nn.Sequential( #극성 vec -> 시제 vec\n",
        "            nn.Linear(in_features=512, out_features=512),\n",
        "            nn.BatchNorm1d(512),\n",
        "            nn.LeakyReLU()\n",
        "        )\n",
        "\n",
        "        self.type_classifier = nn.Sequential(\n",
        "            nn.Dropout(p=0.3),\n",
        "            nn.Linear(in_features=512, out_features=4),\n",
        "        )\n",
        "        self.polarity_classifier = nn.Sequential(\n",
        "            nn.Dropout(p=0.3),\n",
        "            nn.Linear(in_features=512, out_features=3),\n",
        "        )\n",
        "        self.tense_classifier = nn.Sequential(\n",
        "            nn.Dropout(p=0.3),\n",
        "            nn.Linear(in_features=512, out_features=3),\n",
        "        )\n",
        "        self.certainty_classifier = nn.Sequential(\n",
        "            nn.Dropout(p=0.3),\n",
        "            nn.Linear(in_features=512, out_features=2),\n",
        "        )\n",
        "            \n",
        "    def forward(self, t):\n",
        "        t1 = self.feature_extract_first(t)\n",
        "        type_output = self.type_classifier(t1)\n",
        "\n",
        "        t2 = self.feature_extract_second(t1)\n",
        "        certainty_output = self.certainty_classifier(t2)\n",
        "        \n",
        "        t3 = self.feature_extract_third(t2)\n",
        "        polarity_output = self.polarity_classifier(t3)\n",
        "        \n",
        "        t4 = self.feature_extract_forth(t3)\n",
        "        tense_output = self.tense_classifier(t4)\n",
        "    \n",
        "        return type_output, polarity_output, tense_output, certainty_output"
      ]
    },
    {
      "cell_type": "code",
      "execution_count": null,
      "metadata": {
        "id": "arhowXNBG9yR"
      },
      "outputs": [],
      "source": [
        "class CustomModel_h(nn.Module): #확 시 극 유\n",
        "    def __init__(self, input_dim=768):\n",
        "        super(CustomModel_h, self).__init__()\n",
        "        self.feature_extract_first = nn.Sequential( #cls -> 유형 vec\n",
        "            nn.Linear(in_features=input_dim, out_features=512),\n",
        "            nn.BatchNorm1d(512),\n",
        "            nn.LeakyReLU()\n",
        "        )\n",
        "\n",
        "        self.feature_extract_second = nn.Sequential( #유형 vec -> 시제 vec\n",
        "            nn.Linear(in_features=512, out_features=512),\n",
        "            nn.BatchNorm1d(512),\n",
        "            nn.LeakyReLU()\n",
        "        )\n",
        "\n",
        "        self.feature_extract_third = nn.Sequential( #시제 vec -> 확실성 vec\n",
        "            nn.Linear(in_features=512, out_features=512),\n",
        "            nn.BatchNorm1d(512),\n",
        "            nn.LeakyReLU()\n",
        "        )\n",
        "\n",
        "        self.feature_extract_forth = nn.Sequential( #확실성 vec -> 극성 vec\n",
        "            nn.Linear(in_features=512, out_features=512),\n",
        "            nn.BatchNorm1d(512),\n",
        "            nn.LeakyReLU()\n",
        "        )\n",
        "\n",
        "        self.type_classifier = nn.Sequential(\n",
        "            nn.Dropout(p=0.3),\n",
        "            nn.Linear(in_features=512, out_features=4),\n",
        "        )\n",
        "        self.polarity_classifier = nn.Sequential(\n",
        "            nn.Dropout(p=0.3),\n",
        "            nn.Linear(in_features=512, out_features=3),\n",
        "        )\n",
        "        self.tense_classifier = nn.Sequential(\n",
        "            nn.Dropout(p=0.3),\n",
        "            nn.Linear(in_features=512, out_features=3),\n",
        "        )\n",
        "        self.certainty_classifier = nn.Sequential(\n",
        "            nn.Dropout(p=0.3),\n",
        "            nn.Linear(in_features=512, out_features=2),\n",
        "        )\n",
        "            \n",
        "    def forward(self, t):\n",
        "        t1 = self.feature_extract_first(t)\n",
        "        type_output = self.type_classifier(t1)\n",
        "\n",
        "        t2 = self.feature_extract_second(t1)\n",
        "        tense_output = self.tense_classifier(t2)\n",
        "        \n",
        "        t3 = self.feature_extract_third(t2)\n",
        "        certainty_output = self.certainty_classifier(t3)\n",
        "        \n",
        "        t4 = self.feature_extract_forth(t3)\n",
        "        polarity_output = self.polarity_classifier(t4)\n",
        "    \n",
        "        return type_output, polarity_output, tense_output, certainty_output"
      ]
    },
    {
      "cell_type": "code",
      "execution_count": null,
      "metadata": {
        "id": "UYaraGxLHAXc"
      },
      "outputs": [],
      "source": [
        "class CustomModel_i(nn.Module): #극 유 확 시\n",
        "    def __init__(self, input_dim=768):\n",
        "        super(CustomModel_i, self).__init__()\n",
        "        self.feature_extract_first = nn.Sequential( #cls -> 극성 vec\n",
        "            nn.Linear(in_features=input_dim, out_features=512),\n",
        "            nn.BatchNorm1d(512),\n",
        "            nn.LeakyReLU()\n",
        "        )\n",
        "\n",
        "        self.feature_extract_second = nn.Sequential( #극성 vec -> 유형 vec\n",
        "            nn.Linear(in_features=512, out_features=512),\n",
        "            nn.BatchNorm1d(512),\n",
        "            nn.LeakyReLU()\n",
        "        )\n",
        "\n",
        "        self.feature_extract_third = nn.Sequential( #유형 vec -> 확실성 vec\n",
        "            nn.Linear(in_features=512, out_features=512),\n",
        "            nn.BatchNorm1d(512),\n",
        "            nn.LeakyReLU()\n",
        "        )\n",
        "\n",
        "        self.feature_extract_forth = nn.Sequential( #확실성 vec -> 시제 vec\n",
        "            nn.Linear(in_features=512, out_features=512),\n",
        "            nn.BatchNorm1d(512),\n",
        "            nn.LeakyReLU()\n",
        "        )\n",
        "\n",
        "        self.type_classifier = nn.Sequential(\n",
        "            nn.Dropout(p=0.3),\n",
        "            nn.Linear(in_features=512, out_features=4),\n",
        "        )\n",
        "        self.polarity_classifier = nn.Sequential(\n",
        "            nn.Dropout(p=0.3),\n",
        "            nn.Linear(in_features=512, out_features=3),\n",
        "        )\n",
        "        self.tense_classifier = nn.Sequential(\n",
        "            nn.Dropout(p=0.3),\n",
        "            nn.Linear(in_features=512, out_features=3),\n",
        "        )\n",
        "        self.certainty_classifier = nn.Sequential(\n",
        "            nn.Dropout(p=0.3),\n",
        "            nn.Linear(in_features=512, out_features=2),\n",
        "        )\n",
        "            \n",
        "    def forward(self, t):\n",
        "        t1 = self.feature_extract_first(t)\n",
        "        polarity_output = self.polarity_classifier(t1)\n",
        "\n",
        "        t2 = self.feature_extract_second(t1)\n",
        "        type_output = self.type_classifier(t2)\n",
        "        \n",
        "        t3 = self.feature_extract_third(t2)\n",
        "        certainty_output = self.certainty_classifier(t3)\n",
        "        \n",
        "        t4 = self.feature_extract_forth(t3)\n",
        "        tense_output = self.tense_classifier(t4)\n",
        "    \n",
        "        return type_output, polarity_output, tense_output, certainty_output"
      ]
    },
    {
      "cell_type": "code",
      "execution_count": null,
      "metadata": {
        "id": "auztzFUPHEUs"
      },
      "outputs": [],
      "source": [
        "class CustomModel_j(nn.Module): #시 확 유 극\n",
        "    def __init__(self, input_dim=768):\n",
        "        super(CustomModel_j, self).__init__()\n",
        "        self.feature_extract_first = nn.Sequential( #cls -> 시제 vec\n",
        "            nn.Linear(in_features=input_dim, out_features=512),\n",
        "            nn.BatchNorm1d(512),\n",
        "            nn.LeakyReLU()\n",
        "        )\n",
        "\n",
        "        self.feature_extract_second = nn.Sequential( #시제 vec -> 확실성 vec\n",
        "            nn.Linear(in_features=512, out_features=512),\n",
        "            nn.BatchNorm1d(512),\n",
        "            nn.LeakyReLU()\n",
        "        )\n",
        "\n",
        "        self.feature_extract_third = nn.Sequential( #확실성 vec -> 유형 vec\n",
        "            nn.Linear(in_features=512, out_features=512),\n",
        "            nn.BatchNorm1d(512),\n",
        "            nn.LeakyReLU()\n",
        "        )\n",
        "\n",
        "        self.feature_extract_forth = nn.Sequential( #유형 vec -> 극성 vec\n",
        "            nn.Linear(in_features=512, out_features=512),\n",
        "            nn.BatchNorm1d(512),\n",
        "            nn.LeakyReLU()\n",
        "        )\n",
        "\n",
        "        self.type_classifier = nn.Sequential(\n",
        "            nn.Dropout(p=0.3),\n",
        "            nn.Linear(in_features=512, out_features=4),\n",
        "        )\n",
        "        self.polarity_classifier = nn.Sequential(\n",
        "            nn.Dropout(p=0.3),\n",
        "            nn.Linear(in_features=512, out_features=3),\n",
        "        )\n",
        "        self.tense_classifier = nn.Sequential(\n",
        "            nn.Dropout(p=0.3),\n",
        "            nn.Linear(in_features=512, out_features=3),\n",
        "        )\n",
        "        self.certainty_classifier = nn.Sequential(\n",
        "            nn.Dropout(p=0.3),\n",
        "            nn.Linear(in_features=512, out_features=2),\n",
        "        )\n",
        "            \n",
        "    def forward(self, t):\n",
        "        t1 = self.feature_extract_first(t)\n",
        "        tense_output = self.tense_classifier(t1)\n",
        "\n",
        "        t2 = self.feature_extract_second(t1)\n",
        "        certainty_output = self.certainty_classifier(t2)\n",
        "        \n",
        "        t3 = self.feature_extract_third(t2)\n",
        "        type_output = self.type_classifier(t3)\n",
        "        \n",
        "        t4 = self.feature_extract_forth(t3)\n",
        "        polarity_output = self.polarity_classifier(t4)\n",
        "    \n",
        "        return type_output, polarity_output, tense_output, certainty_output"
      ]
    },
    {
      "cell_type": "markdown",
      "metadata": {
        "id": "YU4AoMpgdQdd"
      },
      "source": [
        "### train, validation"
      ]
    },
    {
      "cell_type": "code",
      "execution_count": null,
      "metadata": {
        "id": "GtUykBSdKRNw"
      },
      "outputs": [],
      "source": [
        "def train(model, optimizer, train_loader, val_loader, scheduler, device):\n",
        "  \n",
        "    model.to(device)\n",
        "    \n",
        "    criterion = {\n",
        "        'type' : FocalLoss().to(device),\n",
        "        'polarity' : FocalLoss().to(device),\n",
        "        'tense' : FocalLoss().to(device),\n",
        "        'certainty' : FocalLoss().to(device)\n",
        "    }\n",
        "    \n",
        "    best_loss = 999999\n",
        "    best_model = None\n",
        "    \n",
        "    for epoch in range(1, CFG['EPOCHS']+41):\n",
        "        model.train()\n",
        "        train_loss = []\n",
        "        for type_label, polarity_label, tense_label, certainty_label, hidden_state in tqdm(iter(train_loader)):\n",
        "            type_label = type_label.to(device)\n",
        "            polarity_label = polarity_label.to(device)\n",
        "            tense_label = tense_label.to(device)\n",
        "            certainty_label = certainty_label.to(device)\n",
        "            hidden_state = hidden_state.to(device)\n",
        "\n",
        "            optimizer.zero_grad()\n",
        "            \n",
        "            type_logit, polarity_logit, tense_logit, certainty_logit = model(hidden_state)\n",
        "            \n",
        "            loss = 0.28 * criterion['type'](type_logit, type_label) + \\\n",
        "                    0.16 * criterion['polarity'](polarity_logit, polarity_label) + \\\n",
        "                    0.28 * criterion['tense'](tense_logit, tense_label) + \\\n",
        "                    0.28 * criterion['certainty'](certainty_logit, certainty_label)\n",
        "            \n",
        "            loss.backward()\n",
        "            optimizer.step()\n",
        "            \n",
        "            train_loss.append(loss.item())\n",
        "        \n",
        "        val_loss, val_type_f1, val_polarity_f1, val_tense_f1, val_certainty_f1 = validation(model, val_loader, criterion, device)\n",
        "        print(f'Epoch : [{epoch}] Train Loss : [{np.mean(train_loss):.5f}] Val Loss : [{val_loss:.5f}] 유형 F1 : [{val_type_f1:.5f}] 극성 F1 : [{val_polarity_f1:.5f}] 시제 F1 : [{val_tense_f1:.5f}] 확실성 F1 : [{val_certainty_f1:.5f}]')\n",
        "        \n",
        "        if scheduler is not None:\n",
        "            scheduler.step(val_loss)\n",
        "            \n",
        "        if best_loss > val_loss:\n",
        "            best_loss = val_loss\n",
        "            best_model = model\n",
        "            \n",
        "    return best_model"
      ]
    },
    {
      "cell_type": "code",
      "execution_count": null,
      "metadata": {
        "id": "Pw-AwPU0M755"
      },
      "outputs": [],
      "source": [
        "def validation(model, val_loader, criterion, device):\n",
        "    model.eval()\n",
        "    val_loss = []\n",
        "    \n",
        "    type_preds, polarity_preds, tense_preds, certainty_preds = [], [], [], []\n",
        "    type_labels, polarity_labels, tense_labels, certainty_labels = [], [], [], []\n",
        "    \n",
        "    \n",
        "    with torch.no_grad():\n",
        "        for type_label, polarity_label, tense_label, certainty_label, hidden_state in tqdm(iter(val_loader)):\n",
        "            type_label = type_label.to(device)\n",
        "            polarity_label = polarity_label.to(device)\n",
        "            tense_label = tense_label.to(device)\n",
        "            certainty_label = certainty_label.to(device)\n",
        "            hidden_state = hidden_state.to(device)\n",
        "\n",
        "            type_logit, polarity_logit, tense_logit, certainty_logit = model(hidden_state)\n",
        "            \n",
        "            loss = 0.25 * criterion['type'](type_logit, type_label) + \\\n",
        "                    0.25 * criterion['polarity'](polarity_logit, polarity_label) + \\\n",
        "                    0.25 * criterion['tense'](tense_logit, tense_label) + \\\n",
        "                    0.25 * criterion['certainty'](certainty_logit, certainty_label)\n",
        "            \n",
        "            val_loss.append(loss.item())\n",
        "            \n",
        "            type_preds += type_logit.argmax(1).detach().cpu().numpy().tolist()\n",
        "            type_labels += type_label.detach().cpu().numpy().tolist()\n",
        "            \n",
        "            polarity_preds += polarity_logit.argmax(1).detach().cpu().numpy().tolist()\n",
        "            polarity_labels += polarity_label.detach().cpu().numpy().tolist()\n",
        "            \n",
        "            tense_preds += tense_logit.argmax(1).detach().cpu().numpy().tolist()\n",
        "            tense_labels += tense_label.detach().cpu().numpy().tolist()\n",
        "            \n",
        "            certainty_preds += certainty_logit.argmax(1).detach().cpu().numpy().tolist()\n",
        "            certainty_labels += certainty_label.detach().cpu().numpy().tolist()\n",
        "    \n",
        "    type_f1 = f1_score(type_labels, type_preds, average='weighted')\n",
        "    polarity_f1 = f1_score(polarity_labels, polarity_preds, average='weighted')\n",
        "    tense_f1 = f1_score(tense_labels, tense_preds, average='weighted')\n",
        "    certainty_f1 = f1_score(certainty_labels, certainty_preds, average='weighted')\n",
        "    \n",
        "    return np.mean(val_loss), type_f1, polarity_f1, tense_f1, certainty_f1"
      ]
    },
    {
      "cell_type": "code",
      "execution_count": null,
      "metadata": {
        "id": "a--YUBmaWpH-"
      },
      "outputs": [],
      "source": [
        "from torch.utils.data import Dataset\n",
        "\n",
        "class MyDataset(Dataset):\n",
        "  def __init__(self, dataset):\n",
        "    dataset.set_format(type = 'pandas')  \n",
        "    self.df = dataset[:]\n",
        "\n",
        "  def __len__(self):\n",
        "    return len(self.df)\n",
        "\n",
        "  def __getitem__(self, index):\n",
        "    if '유형' in self.df.columns:\n",
        "      type_label = self.df['유형'][index]\n",
        "      polarity_label = self.df['극성'][index]\n",
        "      tense_label = self.df['시제'][index]\n",
        "      certainty_label = self.df['확실성'][index]\n",
        "      hidden_state = torch.tensor(self.df['hidden_state'][index])\n",
        "\n",
        "      return type_label, polarity_label, tense_label, certainty_label, hidden_state\n",
        "\n",
        "    else:\n",
        "      hidden_state = torch.tensor(self.df['hidden_state'][index])\n",
        "      return hidden_state\n"
      ]
    },
    {
      "cell_type": "code",
      "execution_count": null,
      "metadata": {
        "id": "Lj1zeV3aiFYv"
      },
      "outputs": [],
      "source": [
        "import random\n",
        "def under_sampling(df):\n",
        "  random.seed(42)\n",
        "  for i in df.index:\n",
        "    r = random.uniform(0, 1)\n",
        "    if r>0.4:\n",
        "      if df['극성'][i] == '긍정' and df['확실성'][i] == '확실':\n",
        "        df = df.drop(i)\n",
        "    \n",
        "  return df.reset_index(drop=True)\n",
        "\n",
        "df_train_aug_under = under_sampling(df_train_aug)\n",
        "df_val_aug_under = under_sampling(df_val_aug)"
      ]
    },
    {
      "cell_type": "code",
      "execution_count": null,
      "metadata": {
        "id": "ntBAokCwijBN"
      },
      "outputs": [],
      "source": [
        "df_train_aug_under = under_sampling(df_train_aug)\n",
        "df_val_aug_under = under_sampling(df_val_aug)"
      ]
    },
    {
      "cell_type": "code",
      "execution_count": null,
      "metadata": {
        "id": "DYOTltI5jhfy"
      },
      "outputs": [],
      "source": [
        "df1 = under_sampling(df)\n",
        "\n",
        "# 이전에 함수를 실행했을 때와 결과가 동일한지 확인합니다.\n",
        "df2 = under_sampling(df)\n",
        "assert df1.equals(df2)"
      ]
    },
    {
      "cell_type": "code",
      "execution_count": null,
      "metadata": {
        "id": "Rl7FDtXojrOQ"
      },
      "outputs": [],
      "source": [
        "def label_enc(df):\n",
        "  type_le = preprocessing.LabelEncoder()\n",
        "  df[\"유형\"] = type_le.fit_transform(df[\"유형\"].values)\n",
        "\n",
        "  polarity_le = preprocessing.LabelEncoder()\n",
        "  df[\"극성\"] = polarity_le.fit_transform(df[\"극성\"].values)\n",
        "\n",
        "  tense_le = preprocessing.LabelEncoder()\n",
        "  df[\"시제\"] = tense_le.fit_transform(df[\"시제\"].values)\n",
        "\n",
        "\n",
        "  certainty_le = preprocessing.LabelEncoder()\n",
        "  df[\"확실성\"] = certainty_le.fit_transform(df[\"확실성\"].values)\n",
        "\n",
        "  return type_le, polarity_le, tense_le, certainty_le"
      ]
    },
    {
      "cell_type": "markdown",
      "metadata": {
        "id": "ITiJAkAlTq6c"
      },
      "source": [
        "### k-fold"
      ]
    },
    {
      "cell_type": "code",
      "execution_count": null,
      "metadata": {
        "id": "Jh3C76P3KL4R"
      },
      "outputs": [],
      "source": [
        "from sklearn.model_selection import train_test_split, KFold"
      ]
    },
    {
      "cell_type": "code",
      "execution_count": null,
      "metadata": {
        "id": "KqNKlucpKBtU"
      },
      "outputs": [],
      "source": [
        "k = 5\n",
        "kf = KFold(n_splits=k)"
      ]
    },
    {
      "cell_type": "code",
      "execution_count": null,
      "metadata": {
        "id": "mMTUoIRXG8mT"
      },
      "outputs": [],
      "source": [
        "kf_generator = kf.split(ds)"
      ]
    },
    {
      "cell_type": "code",
      "execution_count": null,
      "metadata": {
        "id": "XW--pFlsH0yy"
      },
      "outputs": [],
      "source": [
        "train_index, val_index = next(iter(kf_generator))"
      ]
    },
    {
      "cell_type": "code",
      "execution_count": null,
      "metadata": {
        "id": "y2ua9Wg_IItP"
      },
      "outputs": [],
      "source": [
        "dataset_t = MyDataset(ds.select_columns(['유형', '극성', '시제', '확실성', 'hidden_state']).select(train_index))\n",
        "dataset_v = MyDataset(ds.select_columns(['유형', '극성', '시제', '확실성', 'hidden_state']).select(val_index))\n",
        "\n",
        "train_loader = DataLoader(dataset_t, batch_size=256, shuffle=False)\n",
        "val_loader = DataLoader(dataset_v, batch_size=256, shuffle=False)\n",
        "\n",
        "model = CustomModel()\n",
        "model.eval()\n",
        "optimizer = torch.optim.Adam(params = model.parameters(), lr = CFG[\"LEARNING_RATE\"])\n",
        "scheduler = torch.optim.lr_scheduler.ReduceLROnPlateau(optimizer, mode='min', factor=0.5, patience=2,threshold_mode='abs',min_lr=1e-8, verbose=True)\n",
        "\n",
        "infer_model = train(model, optimizer, train_loader, val_loader, scheduler, device)\n"
      ]
    },
    {
      "cell_type": "markdown",
      "metadata": {
        "id": "X_DMqRLkWvyZ"
      },
      "source": [
        "### train-val split"
      ]
    },
    {
      "cell_type": "code",
      "execution_count": null,
      "metadata": {
        "colab": {
          "base_uri": "https://localhost:8080/"
        },
        "id": "SEwfq411AiWa",
        "outputId": "bb719cf1-6a5d-4965-aaaf-e2c9ed7c8ead"
      },
      "outputs": [
        {
          "name": "stdout",
          "output_type": "stream",
          "text": [
            "Archive:  test_hdn.zip\n",
            "   creating: content/test_hidden/\n",
            "  inflating: content/test_hidden/data-00000-of-00001.arrow  \n",
            "  inflating: content/test_hidden/dataset_info.json  \n",
            "  inflating: content/test_hidden/state.json  \n",
            "Archive:  train_hdn_aug.zip\n",
            "   creating: content/train_hidden_aug/\n",
            "  inflating: content/train_hidden_aug/data-00000-of-00001.arrow  \n",
            "  inflating: content/train_hidden_aug/state.json  \n",
            "  inflating: content/train_hidden_aug/dataset_info.json  \n",
            "Archive:  val_hdn_aug.zip\n",
            "   creating: content/val_hidden_aug/\n",
            "  inflating: content/val_hidden_aug/data-00000-of-00001.arrow  \n",
            "  inflating: content/val_hidden_aug/state.json  \n",
            "  inflating: content/val_hidden_aug/dataset_info.json  \n"
          ]
        }
      ],
      "source": [
        "#!unzip train_hdn.zip\n",
        "#!unzip val_hdn.zip\n",
        "!unzip test_hdn.zip\n",
        "!unzip train_hdn_aug.zip\n",
        "!unzip val_hdn_aug.zip"
      ]
    },
    {
      "cell_type": "code",
      "execution_count": null,
      "metadata": {
        "colab": {
          "base_uri": "https://localhost:8080/"
        },
        "id": "VNw_xraIZij4",
        "outputId": "ed9df391-021c-40ac-ef85-50d5a60a0bad"
      },
      "outputs": [
        {
          "name": "stdout",
          "output_type": "stream",
          "text": [
            "Archive:  ds_hidden.zip\n",
            "replace content/ds_hidden/dataset_info.json? [y]es, [n]o, [A]ll, [N]one, [r]ename: "
          ]
        }
      ],
      "source": [
        "!unzip ds_hidden.zip\n"
      ]
    },
    {
      "cell_type": "code",
      "execution_count": null,
      "metadata": {
        "id": "PS9K_geiZw_j"
      },
      "outputs": [],
      "source": [
        "ds_hidden = load_from_disk(\"/content/content/ds_hidden\")"
      ]
    },
    {
      "cell_type": "code",
      "execution_count": null,
      "metadata": {
        "id": "IQAY3cHMAll3"
      },
      "outputs": [],
      "source": [
        "from datasets import load_from_disk\n",
        "\n",
        "train_hidden = load_from_disk(\"/content/content/train_hidden_aug\")\n",
        "val_hidden = load_from_disk(\"/content/content/val_hidden_aug\")\n",
        "test_hidden = load_from_disk(\"/content/content/test_hidden\")\n",
        "\n",
        "#train_hidden = load_from_disk(\"/content/content/train_hidden_aug_30000\")\n",
        "#val_hidden = load_from_disk(\"/content/content/val_hidden_aug_8000\")\n"
      ]
    },
    {
      "cell_type": "code",
      "execution_count": null,
      "metadata": {
        "colab": {
          "base_uri": "https://localhost:8080/"
        },
        "id": "VaJoVpl4agqJ",
        "outputId": "caa641a9-4133-4af8-b428-44fa6021f6fc"
      },
      "outputs": [
        {
          "data": {
            "text/plain": [
              "Dataset({\n",
              "    features: ['문장', '유형', '극성', '시제', '확실성', 'input_ids', 'attention_mask', 'hidden_state'],\n",
              "    num_rows: 18698\n",
              "})"
            ]
          },
          "execution_count": 18,
          "metadata": {},
          "output_type": "execute_result"
        }
      ],
      "source": [
        "train_hidden"
      ]
    },
    {
      "cell_type": "code",
      "execution_count": null,
      "metadata": {
        "colab": {
          "base_uri": "https://localhost:8080/"
        },
        "id": "3dkaOYpkalHy",
        "outputId": "745b0525-a721-4882-d207-75c8533388eb"
      },
      "outputs": [
        {
          "data": {
            "text/plain": [
              "Dataset({\n",
              "    features: ['문장', '유형', '극성', '시제', '확실성', 'input_ids', 'attention_mask', 'hidden_state'],\n",
              "    num_rows: 4879\n",
              "})"
            ]
          },
          "execution_count": 19,
          "metadata": {},
          "output_type": "execute_result"
        }
      ],
      "source": [
        "val_hidden"
      ]
    },
    {
      "cell_type": "code",
      "execution_count": null,
      "metadata": {
        "id": "KGc-zPfhApJF"
      },
      "outputs": [],
      "source": [
        "from datasets import Dataset, DatasetDict, load_dataset\n",
        "\n",
        "train_hidden.set_format(type='pandas')\n",
        "val_hidden.set_format(type='pandas')\n",
        "train_hidden_df=train_hidden[:]\n",
        "val_hidden_df=val_hidden[:]\n",
        "\n",
        "df_hidden = pd.concat([train_hidden_df, val_hidden_df], axis=0)\n"
      ]
    },
    {
      "cell_type": "code",
      "execution_count": null,
      "metadata": {
        "id": "fZet-OTJBB6s"
      },
      "outputs": [],
      "source": [
        "def label_enc(df):\n",
        "  type_le = preprocessing.LabelEncoder()\n",
        "  df[\"유형\"] = type_le.fit_transform(df[\"유형\"].values)\n",
        "\n",
        "  polarity_le = preprocessing.LabelEncoder()\n",
        "  df[\"극성\"] = polarity_le.fit_transform(df[\"극성\"].values)\n",
        "\n",
        "  tense_le = preprocessing.LabelEncoder()\n",
        "  df[\"시제\"] = tense_le.fit_transform(df[\"시제\"].values)\n",
        "\n",
        "\n",
        "  certainty_le = preprocessing.LabelEncoder()\n",
        "  df[\"확실성\"] = certainty_le.fit_transform(df[\"확실성\"].values)\n",
        "\n",
        "  return type_le, polarity_le, tense_le, certainty_le"
      ]
    },
    {
      "cell_type": "code",
      "execution_count": null,
      "metadata": {
        "id": "5ROu3N8SsKQB"
      },
      "outputs": [],
      "source": [
        "type_le, polarity_le, tense_le, certainty_le = label_enc(df_hidden)\n",
        "\n",
        "train_df_hidden = df_hidden[:18698]\n",
        "val_df_hidden = df_hidden[18698:]"
      ]
    },
    {
      "cell_type": "code",
      "execution_count": null,
      "metadata": {
        "id": "q6H8TnkjAzjf"
      },
      "outputs": [],
      "source": [
        "def to_ds(df):\n",
        "  \n",
        "  dic= df.to_dict(\"list\") #테이블을 딕셔너리형태로 바꿈.\n",
        "  ds = Dataset.from_dict(dic) #딕셔너리를 데이터세트 형태로 바꿈.\n",
        "\n",
        "  return ds\n",
        "\n",
        "#ds=to_ds(df)"
      ]
    },
    {
      "cell_type": "code",
      "execution_count": null,
      "metadata": {
        "id": "CXV3nWZ3u5j3"
      },
      "outputs": [],
      "source": [
        "from datasets import Dataset, DatasetDict, load_dataset\n",
        "\n",
        "train_hidden = to_ds(train_df_hidden)\n",
        "val_hidden = to_ds(val_df_hidden)"
      ]
    },
    {
      "cell_type": "code",
      "execution_count": null,
      "metadata": {
        "colab": {
          "base_uri": "https://localhost:8080/"
        },
        "id": "4BE3wOLHrI6U",
        "outputId": "f8736146-f11e-4fbc-9e96-279063ccbccd"
      },
      "outputs": [
        {
          "data": {
            "text/plain": [
              "tensor(1)"
            ]
          },
          "execution_count": 27,
          "metadata": {},
          "output_type": "execute_result"
        }
      ],
      "source": [
        "train_hidden['유형'][0]"
      ]
    },
    {
      "cell_type": "code",
      "execution_count": null,
      "metadata": {
        "id": "o_AnVcBLvJQt"
      },
      "outputs": [],
      "source": [
        "train_hidden.set_format(\"torch\", columns=['input_ids', 'attention_mask', '유형', '극성', '시제', '확실성'])\n",
        "val_hidden.set_format(\"torch\", columns=['input_ids', 'attention_mask', '유형', '극성', '시제', '확실성'])"
      ]
    },
    {
      "cell_type": "code",
      "execution_count": null,
      "metadata": {
        "id": "ojyUKLRmUjfu"
      },
      "outputs": [],
      "source": [
        "dataset_t = MyDataset(train_hidden.select_columns(['유형', '극성', '시제', '확실성', 'hidden_state']))\n",
        "dataset_v = MyDataset(val_hidden.select_columns(['유형', '극성', '시제', '확실성', 'hidden_state']))\n",
        "\n",
        "train_loader = DataLoader(dataset_t, batch_size=512, shuffle=True)\n",
        "val_loader = DataLoader(dataset_v, batch_size=512, shuffle=True)\n"
      ]
    },
    {
      "cell_type": "code",
      "execution_count": null,
      "metadata": {
        "id": "q2pPDLUEtXbk"
      },
      "outputs": [],
      "source": [
        "model = CustomModel()\n",
        "model.eval()\n",
        "optimizer = torch.optim.Adam(params = model.parameters(), lr = CFG[\"LEARNING_RATE\"])\n",
        "scheduler = torch.optim.lr_scheduler.ReduceLROnPlateau(optimizer, mode='min', factor=0.5, patience=2,threshold_mode='abs',min_lr=1e-8, verbose=True)\n",
        "\n",
        "infer_model = train(model, optimizer, train_loader, val_loader, scheduler, device)"
      ]
    },
    {
      "cell_type": "code",
      "execution_count": null,
      "metadata": {
        "id": "zdiyCLw2NKV3"
      },
      "outputs": [],
      "source": [
        "model_Elu = CustomModel_Elu()\n",
        "model_Elu.eval()\n",
        "optimizer = torch.optim.Adam(params = model_Elu.parameters(), lr = CFG[\"LEARNING_RATE\"])\n",
        "scheduler = torch.optim.lr_scheduler.ReduceLROnPlateau(optimizer, mode='min', factor=0.5, patience=2,threshold_mode='abs',min_lr=1e-8, verbose=True)\n",
        "\n",
        "infer_model = train(model_Elu, optimizer, train_loader, val_loader, scheduler, device)"
      ]
    },
    {
      "cell_type": "code",
      "execution_count": null,
      "metadata": {
        "id": "SVZlxq44tIhi"
      },
      "outputs": [],
      "source": [
        "model_tanh = CustomModel_tanh()\n",
        "model_tanh.eval()\n",
        "optimizer = torch.optim.Adam(params = model_tanh.parameters(), lr = CFG[\"LEARNING_RATE\"])\n",
        "scheduler = torch.optim.lr_scheduler.ReduceLROnPlateau(optimizer, mode='min', factor=0.5, patience=2,threshold_mode='abs',min_lr=1e-8, verbose=True)\n",
        "\n",
        "infer_model = train(model_tanh, optimizer, train_loader, val_loader, scheduler, device)"
      ]
    },
    {
      "cell_type": "code",
      "execution_count": null,
      "metadata": {
        "id": "lr_5eFUmuZjJ"
      },
      "outputs": [],
      "source": [
        "model_Gelu = CustomModel_Gelu()\n",
        "model_Gelu.eval()\n",
        "optimizer = torch.optim.Adam(params = model_Gelu.parameters(), lr = CFG[\"LEARNING_RATE\"])\n",
        "scheduler = torch.optim.lr_scheduler.ReduceLROnPlateau(optimizer, mode='min', factor=0.5, patience=2,threshold_mode='abs',min_lr=1e-8, verbose=True)\n",
        "\n",
        "infer_model = train(model_Gelu, optimizer, train_loader, val_loader, scheduler, device)"
      ]
    },
    {
      "cell_type": "markdown",
      "metadata": {
        "id": "7oTr54pNT24L"
      },
      "source": [
        "### inference"
      ]
    },
    {
      "cell_type": "code",
      "execution_count": null,
      "metadata": {
        "id": "RIqHYENuuLmk"
      },
      "outputs": [],
      "source": [
        "dataset_test = MyDataset(test_hidden.select_columns(['hidden_state']))\n",
        "\n",
        "# 배치 사이즈 설정\n",
        "batch_size = 256\n",
        "\n",
        "# 데이터 로더 설정\n",
        "test_loader = DataLoader(dataset_test, batch_size=batch_size, shuffle=False)\n"
      ]
    },
    {
      "cell_type": "code",
      "execution_count": null,
      "metadata": {
        "colab": {
          "base_uri": "https://localhost:8080/",
          "height": 49,
          "referenced_widgets": [
            "addd9e00152f45bca41c2a20f7660e7b",
            "f8a680d0473949ed93cd97bd9d5f5873",
            "4797d4436348499981b60d9813671905",
            "a61ed47255644fa8a6b81472e6a915e5",
            "a5618ffdd01d4f6ea3333e54d8cd17c2",
            "23f1fe48f75449f2a1c891e440d69dd0",
            "e61c91093ac24b18abcb58007823eec6",
            "1a5fe97c430643d7b4a12514c2ca5ce7",
            "0d0f9b5e64e64f05bb9ba0958f9bde1e",
            "6da8d73237f14a7e84d9dff0106a82fa",
            "92e4567dd5b648c6ae67533c9210d72d"
          ]
        },
        "id": "Td2yw9Zse8Cz",
        "outputId": "44bc2b61-5d50-4773-acab-c912989b454f"
      },
      "outputs": [
        {
          "data": {
            "application/vnd.jupyter.widget-view+json": {
              "model_id": "addd9e00152f45bca41c2a20f7660e7b",
              "version_major": 2,
              "version_minor": 0
            },
            "text/plain": [
              "  0%|          | 0/28 [00:00<?, ?it/s]"
            ]
          },
          "metadata": {},
          "output_type": "display_data"
        }
      ],
      "source": [
        "def inference(model1,model2, model3, test_loader, device):\n",
        "    model1.to(device)\n",
        "    model1.eval()\n",
        "\n",
        "    model2.to(device)\n",
        "    model2.eval()\n",
        "\n",
        "    model3.to(device)\n",
        "    model3.eval()\n",
        "\n",
        "    #model4.to(device)\n",
        "    #model4.eval()\n",
        "\n",
        "    type_preds, polarity_preds, tense_preds, certainty_preds = [], [], [], []\n",
        "    \n",
        "    with torch.no_grad():\n",
        "        for hidden_state in tqdm(test_loader):\n",
        "            hidden_state = hidden_state.to(device)\n",
        "            \n",
        "            type_logit_1, polarity_logit_1, tense_logit_1, certainty_logit_1 = model1(hidden_state)\n",
        "            type_logit_2, polarity_logit_2, tense_logit_2, certainty_logit_2 = model2(hidden_state)\n",
        "            type_logit_3, polarity_logit_3, tense_logit_3, certainty_logit_3 = model3(hidden_state)\n",
        "            #type_logit_4, polarity_logit_4, tense_logit_4, certainty_logit_4 = model3(hidden_state)\n",
        "            \n",
        "            # Get the maximum logits for each prediction type\n",
        "            type_pred = torch.argmax((type_logit_1 + type_logit_2 + type_logit_3)/3, dim=1).tolist()\n",
        "            polarity_pred = torch.argmax((polarity_logit_1 + polarity_logit_2 + polarity_logit_3)/3, dim=1).tolist()\n",
        "            tense_pred = torch.argmax((tense_logit_1 + tense_logit_2 + tense_logit_3)/3, dim=1).tolist()\n",
        "            certainty_pred = torch.argmax((certainty_logit_1 + certainty_logit_2 + certainty_logit_3)/3, dim=1).tolist()\n",
        "\n",
        "            # Append the maximum logits to the prediction type lists\n",
        "            type_preds += type_pred\n",
        "            polarity_preds += polarity_pred\n",
        "            tense_preds += tense_pred\n",
        "            certainty_preds += certainty_pred\n",
        "            \n",
        "    return type_preds, polarity_preds, tense_preds, certainty_preds\n",
        "\n",
        "type_preds, polarity_preds, tense_preds, certainty_preds = inference(model_Elu, model_tanh, model_Gelu, test_loader, device) #results are wierd...."
      ]
    },
    {
      "cell_type": "code",
      "execution_count": null,
      "metadata": {
        "colab": {
          "base_uri": "https://localhost:8080/",
          "height": 49,
          "referenced_widgets": [
            "4c6822c4414f44c2897224148bbd55ff",
            "dac6922e075e4b52b8ef20c1755f34c7",
            "245faf37adf34e468c838c55868758e0",
            "2111a6e90dde44229c01c2fe35af0123",
            "ff712d6b34b94bdfb204dfa32e669049",
            "714f2514028b4f5688ce45bdd96e0a84",
            "dba4155d641544819b9caaf33630b2a4",
            "a2f3bbee3afb423f90ef7030aa4dce74",
            "7db8febee3a64b5a82cf7d3c5cacd78f",
            "4311cb7c8a744f5886815c395012bdb8",
            "f2453437d8f34d5c81120e43f81803a2"
          ]
        },
        "id": "qRAlJiqQfM-Q",
        "outputId": "a0d1e0a9-ce17-4eb1-85a6-c2aded387c28"
      },
      "outputs": [
        {
          "data": {
            "application/vnd.jupyter.widget-view+json": {
              "model_id": "4c6822c4414f44c2897224148bbd55ff",
              "version_major": 2,
              "version_minor": 0
            },
            "text/plain": [
              "  0%|          | 0/28 [00:00<?, ?it/s]"
            ]
          },
          "metadata": {},
          "output_type": "display_data"
        }
      ],
      "source": [
        "type_preds, polarity_preds, tense_preds, certainty_preds = inference(model_Elu, model_tanh, model_Gelu, test_loader, device)"
      ]
    },
    {
      "cell_type": "code",
      "execution_count": null,
      "metadata": {
        "id": "nyymfQwYDrxE"
      },
      "outputs": [],
      "source": [
        "type_preds"
      ]
    },
    {
      "cell_type": "markdown",
      "metadata": {
        "id": "VqpADEgBvjH7"
      },
      "source": [
        "#### submission"
      ]
    },
    {
      "cell_type": "code",
      "execution_count": null,
      "metadata": {
        "id": "C9yo8UW2fRCm"
      },
      "outputs": [],
      "source": [
        "type_preds = type_le.inverse_transform(type_preds)\n",
        "polarity_preds = polarity_le.inverse_transform(polarity_preds)\n",
        "tense_preds = tense_le.inverse_transform(tense_preds)\n",
        "certainty_preds = certainty_le.inverse_transform(certainty_preds)"
      ]
    },
    {
      "cell_type": "code",
      "execution_count": null,
      "metadata": {
        "colab": {
          "base_uri": "https://localhost:8080/"
        },
        "id": "xPil1LVFgOmN",
        "outputId": "2c6acd86-e777-4ea5-adf0-498da4fc76a6"
      },
      "outputs": [
        {
          "data": {
            "text/plain": [
              "array(['사실형', '사실형', '사실형', ..., '사실형', '추론형', '사실형'], dtype=object)"
            ]
          },
          "execution_count": 146,
          "metadata": {},
          "output_type": "execute_result"
        }
      ],
      "source": [
        "type_preds"
      ]
    },
    {
      "cell_type": "code",
      "execution_count": null,
      "metadata": {
        "id": "J3MJamFofSnD"
      },
      "outputs": [],
      "source": [
        "predictions = []\n",
        "for type_pred, polarity_pred, tense_pred, certainty_pred in zip(type_preds, polarity_preds, tense_preds, certainty_preds):\n",
        "    predictions.append(type_pred+'-'+polarity_pred+'-'+tense_pred+'-'+certainty_pred)"
      ]
    },
    {
      "cell_type": "code",
      "execution_count": null,
      "metadata": {
        "id": "oNYfIz9EfcBv"
      },
      "outputs": [],
      "source": [
        "submit = pd.read_csv('sample_submission.csv')\n",
        "submit['label'] = predictions"
      ]
    },
    {
      "cell_type": "code",
      "execution_count": null,
      "metadata": {
        "colab": {
          "base_uri": "https://localhost:8080/",
          "height": 423
        },
        "id": "LTozoLya2vdE",
        "outputId": "aaafdadd-d402-40a7-b526-e9de7155f07d"
      },
      "outputs": [
        {
          "data": {
            "text/html": [
              "\n",
              "  <div id=\"df-5fdee3a0-9ba4-43ca-add8-36ae75221e9b\">\n",
              "    <div class=\"colab-df-container\">\n",
              "      <div>\n",
              "<style scoped>\n",
              "    .dataframe tbody tr th:only-of-type {\n",
              "        vertical-align: middle;\n",
              "    }\n",
              "\n",
              "    .dataframe tbody tr th {\n",
              "        vertical-align: top;\n",
              "    }\n",
              "\n",
              "    .dataframe thead th {\n",
              "        text-align: right;\n",
              "    }\n",
              "</style>\n",
              "<table border=\"1\" class=\"dataframe\">\n",
              "  <thead>\n",
              "    <tr style=\"text-align: right;\">\n",
              "      <th></th>\n",
              "      <th>ID</th>\n",
              "      <th>label</th>\n",
              "    </tr>\n",
              "  </thead>\n",
              "  <tbody>\n",
              "    <tr>\n",
              "      <th>0</th>\n",
              "      <td>TEST_0000</td>\n",
              "      <td>사실형-긍정-현재-확실</td>\n",
              "    </tr>\n",
              "    <tr>\n",
              "      <th>1</th>\n",
              "      <td>TEST_0001</td>\n",
              "      <td>사실형-긍정-현재-확실</td>\n",
              "    </tr>\n",
              "    <tr>\n",
              "      <th>2</th>\n",
              "      <td>TEST_0002</td>\n",
              "      <td>사실형-긍정-과거-확실</td>\n",
              "    </tr>\n",
              "    <tr>\n",
              "      <th>3</th>\n",
              "      <td>TEST_0003</td>\n",
              "      <td>사실형-긍정-과거-확실</td>\n",
              "    </tr>\n",
              "    <tr>\n",
              "      <th>4</th>\n",
              "      <td>TEST_0004</td>\n",
              "      <td>사실형-긍정-과거-확실</td>\n",
              "    </tr>\n",
              "    <tr>\n",
              "      <th>...</th>\n",
              "      <td>...</td>\n",
              "      <td>...</td>\n",
              "    </tr>\n",
              "    <tr>\n",
              "      <th>7085</th>\n",
              "      <td>TEST_7085</td>\n",
              "      <td>사실형-긍정-현재-확실</td>\n",
              "    </tr>\n",
              "    <tr>\n",
              "      <th>7086</th>\n",
              "      <td>TEST_7086</td>\n",
              "      <td>사실형-긍정-현재-확실</td>\n",
              "    </tr>\n",
              "    <tr>\n",
              "      <th>7087</th>\n",
              "      <td>TEST_7087</td>\n",
              "      <td>사실형-긍정-현재-확실</td>\n",
              "    </tr>\n",
              "    <tr>\n",
              "      <th>7088</th>\n",
              "      <td>TEST_7088</td>\n",
              "      <td>추론형-긍정-미래-확실</td>\n",
              "    </tr>\n",
              "    <tr>\n",
              "      <th>7089</th>\n",
              "      <td>TEST_7089</td>\n",
              "      <td>사실형-긍정-과거-확실</td>\n",
              "    </tr>\n",
              "  </tbody>\n",
              "</table>\n",
              "<p>7090 rows × 2 columns</p>\n",
              "</div>\n",
              "      <button class=\"colab-df-convert\" onclick=\"convertToInteractive('df-5fdee3a0-9ba4-43ca-add8-36ae75221e9b')\"\n",
              "              title=\"Convert this dataframe to an interactive table.\"\n",
              "              style=\"display:none;\">\n",
              "        \n",
              "  <svg xmlns=\"http://www.w3.org/2000/svg\" height=\"24px\"viewBox=\"0 0 24 24\"\n",
              "       width=\"24px\">\n",
              "    <path d=\"M0 0h24v24H0V0z\" fill=\"none\"/>\n",
              "    <path d=\"M18.56 5.44l.94 2.06.94-2.06 2.06-.94-2.06-.94-.94-2.06-.94 2.06-2.06.94zm-11 1L8.5 8.5l.94-2.06 2.06-.94-2.06-.94L8.5 2.5l-.94 2.06-2.06.94zm10 10l.94 2.06.94-2.06 2.06-.94-2.06-.94-.94-2.06-.94 2.06-2.06.94z\"/><path d=\"M17.41 7.96l-1.37-1.37c-.4-.4-.92-.59-1.43-.59-.52 0-1.04.2-1.43.59L10.3 9.45l-7.72 7.72c-.78.78-.78 2.05 0 2.83L4 21.41c.39.39.9.59 1.41.59.51 0 1.02-.2 1.41-.59l7.78-7.78 2.81-2.81c.8-.78.8-2.07 0-2.86zM5.41 20L4 18.59l7.72-7.72 1.47 1.35L5.41 20z\"/>\n",
              "  </svg>\n",
              "      </button>\n",
              "      \n",
              "  <style>\n",
              "    .colab-df-container {\n",
              "      display:flex;\n",
              "      flex-wrap:wrap;\n",
              "      gap: 12px;\n",
              "    }\n",
              "\n",
              "    .colab-df-convert {\n",
              "      background-color: #E8F0FE;\n",
              "      border: none;\n",
              "      border-radius: 50%;\n",
              "      cursor: pointer;\n",
              "      display: none;\n",
              "      fill: #1967D2;\n",
              "      height: 32px;\n",
              "      padding: 0 0 0 0;\n",
              "      width: 32px;\n",
              "    }\n",
              "\n",
              "    .colab-df-convert:hover {\n",
              "      background-color: #E2EBFA;\n",
              "      box-shadow: 0px 1px 2px rgba(60, 64, 67, 0.3), 0px 1px 3px 1px rgba(60, 64, 67, 0.15);\n",
              "      fill: #174EA6;\n",
              "    }\n",
              "\n",
              "    [theme=dark] .colab-df-convert {\n",
              "      background-color: #3B4455;\n",
              "      fill: #D2E3FC;\n",
              "    }\n",
              "\n",
              "    [theme=dark] .colab-df-convert:hover {\n",
              "      background-color: #434B5C;\n",
              "      box-shadow: 0px 1px 3px 1px rgba(0, 0, 0, 0.15);\n",
              "      filter: drop-shadow(0px 1px 2px rgba(0, 0, 0, 0.3));\n",
              "      fill: #FFFFFF;\n",
              "    }\n",
              "  </style>\n",
              "\n",
              "      <script>\n",
              "        const buttonEl =\n",
              "          document.querySelector('#df-5fdee3a0-9ba4-43ca-add8-36ae75221e9b button.colab-df-convert');\n",
              "        buttonEl.style.display =\n",
              "          google.colab.kernel.accessAllowed ? 'block' : 'none';\n",
              "\n",
              "        async function convertToInteractive(key) {\n",
              "          const element = document.querySelector('#df-5fdee3a0-9ba4-43ca-add8-36ae75221e9b');\n",
              "          const dataTable =\n",
              "            await google.colab.kernel.invokeFunction('convertToInteractive',\n",
              "                                                     [key], {});\n",
              "          if (!dataTable) return;\n",
              "\n",
              "          const docLinkHtml = 'Like what you see? Visit the ' +\n",
              "            '<a target=\"_blank\" href=https://colab.research.google.com/notebooks/data_table.ipynb>data table notebook</a>'\n",
              "            + ' to learn more about interactive tables.';\n",
              "          element.innerHTML = '';\n",
              "          dataTable['output_type'] = 'display_data';\n",
              "          await google.colab.output.renderOutput(dataTable, element);\n",
              "          const docLink = document.createElement('div');\n",
              "          docLink.innerHTML = docLinkHtml;\n",
              "          element.appendChild(docLink);\n",
              "        }\n",
              "      </script>\n",
              "    </div>\n",
              "  </div>\n",
              "  "
            ],
            "text/plain": [
              "             ID         label\n",
              "0     TEST_0000  사실형-긍정-현재-확실\n",
              "1     TEST_0001  사실형-긍정-현재-확실\n",
              "2     TEST_0002  사실형-긍정-과거-확실\n",
              "3     TEST_0003  사실형-긍정-과거-확실\n",
              "4     TEST_0004  사실형-긍정-과거-확실\n",
              "...         ...           ...\n",
              "7085  TEST_7085  사실형-긍정-현재-확실\n",
              "7086  TEST_7086  사실형-긍정-현재-확실\n",
              "7087  TEST_7087  사실형-긍정-현재-확실\n",
              "7088  TEST_7088  추론형-긍정-미래-확실\n",
              "7089  TEST_7089  사실형-긍정-과거-확실\n",
              "\n",
              "[7090 rows x 2 columns]"
            ]
          },
          "execution_count": 166,
          "metadata": {},
          "output_type": "execute_result"
        }
      ],
      "source": [
        "submit"
      ]
    },
    {
      "cell_type": "code",
      "execution_count": null,
      "metadata": {
        "id": "eQc7c5PEff74"
      },
      "outputs": [],
      "source": [
        "submit.to_csv('submit_bert_focal_aug_func_ens4.csv', index=False, encoding='utf-8-sig')"
      ]
    }
  ],
  "metadata": {
    "accelerator": "TPU",
    "colab": {
      "collapsed_sections": [
        "VVAx3_8Xdo4m",
        "w_V7JXSBdts2",
        "RzksO0viSLrH",
        "ITiJAkAlTq6c"
      ],
      "machine_shape": "hm",
      "provenance": []
    },
    "gpuClass": "standard",
    "kernelspec": {
      "display_name": "Python 3",
      "name": "python3"
    },
    "language_info": {
      "name": "python"
    },
    "widgets": {
      "application/vnd.jupyter.widget-state+json": {
        "018ddef8a08b42b0a9711e86c206cc87": {
          "model_module": "@jupyter-widgets/controls",
          "model_module_version": "1.5.0",
          "model_name": "ButtonStyleModel",
          "state": {
            "_model_module": "@jupyter-widgets/controls",
            "_model_module_version": "1.5.0",
            "_model_name": "ButtonStyleModel",
            "_view_count": null,
            "_view_module": "@jupyter-widgets/base",
            "_view_module_version": "1.2.0",
            "_view_name": "StyleView",
            "button_color": null,
            "font_weight": ""
          }
        },
        "02ffe364196b4cde95cef8902c7f3628": {
          "model_module": "@jupyter-widgets/base",
          "model_module_version": "1.2.0",
          "model_name": "LayoutModel",
          "state": {
            "_model_module": "@jupyter-widgets/base",
            "_model_module_version": "1.2.0",
            "_model_name": "LayoutModel",
            "_view_count": null,
            "_view_module": "@jupyter-widgets/base",
            "_view_module_version": "1.2.0",
            "_view_name": "LayoutView",
            "align_content": null,
            "align_items": null,
            "align_self": null,
            "border": null,
            "bottom": null,
            "display": null,
            "flex": null,
            "flex_flow": null,
            "grid_area": null,
            "grid_auto_columns": null,
            "grid_auto_flow": null,
            "grid_auto_rows": null,
            "grid_column": null,
            "grid_gap": null,
            "grid_row": null,
            "grid_template_areas": null,
            "grid_template_columns": null,
            "grid_template_rows": null,
            "height": null,
            "justify_content": null,
            "justify_items": null,
            "left": null,
            "margin": null,
            "max_height": null,
            "max_width": null,
            "min_height": null,
            "min_width": null,
            "object_fit": null,
            "object_position": null,
            "order": null,
            "overflow": null,
            "overflow_x": null,
            "overflow_y": null,
            "padding": null,
            "right": null,
            "top": null,
            "visibility": null,
            "width": null
          }
        },
        "038d91a45ada44138ea2b509a2e60dc0": {
          "model_module": "@jupyter-widgets/controls",
          "model_module_version": "1.5.0",
          "model_name": "HTMLModel",
          "state": {
            "_dom_classes": [],
            "_model_module": "@jupyter-widgets/controls",
            "_model_module_version": "1.5.0",
            "_model_name": "HTMLModel",
            "_view_count": null,
            "_view_module": "@jupyter-widgets/controls",
            "_view_module_version": "1.5.0",
            "_view_name": "HTMLView",
            "description": "",
            "description_tooltip": null,
            "layout": "IPY_MODEL_b263ae1f2db84c6d98bc4963146997c2",
            "placeholder": "​",
            "style": "IPY_MODEL_8db6d487fe20466ab8e47f1d8ed138ce",
            "value": "Saving the dataset (1/1 shards): 100%"
          }
        },
        "03b890442ce149d1b984852fd7ebc770": {
          "model_module": "@jupyter-widgets/controls",
          "model_module_version": "1.5.0",
          "model_name": "HTMLModel",
          "state": {
            "_dom_classes": [],
            "_model_module": "@jupyter-widgets/controls",
            "_model_module_version": "1.5.0",
            "_model_name": "HTMLModel",
            "_view_count": null,
            "_view_module": "@jupyter-widgets/controls",
            "_view_module_version": "1.5.0",
            "_view_name": "HTMLView",
            "description": "",
            "description_tooltip": null,
            "layout": "IPY_MODEL_8ca31299db9b4fbe997ba64023e9462a",
            "placeholder": "​",
            "style": "IPY_MODEL_ae8cd8923e2e486eb67a6b46c8654b3f",
            "value": "Map: 100%"
          }
        },
        "0407768593ab4ede8f9a2c8cc201d7d8": {
          "model_module": "@jupyter-widgets/controls",
          "model_module_version": "1.5.0",
          "model_name": "HBoxModel",
          "state": {
            "_dom_classes": [],
            "_model_module": "@jupyter-widgets/controls",
            "_model_module_version": "1.5.0",
            "_model_name": "HBoxModel",
            "_view_count": null,
            "_view_module": "@jupyter-widgets/controls",
            "_view_module_version": "1.5.0",
            "_view_name": "HBoxView",
            "box_style": "",
            "children": [
              "IPY_MODEL_2e83146d74244cbb9a208848c6a12d45",
              "IPY_MODEL_884f35bf85224d539e6caefd6ec0d17a",
              "IPY_MODEL_d1af110500a44b59a6129768cabcabfc"
            ],
            "layout": "IPY_MODEL_7aa142d78e684e6fb74511f7c5e3faa1"
          }
        },
        "07d17d398bc74ac0bbcab21d0314fd4c": {
          "model_module": "@jupyter-widgets/controls",
          "model_module_version": "1.5.0",
          "model_name": "CheckboxModel",
          "state": {
            "_dom_classes": [],
            "_model_module": "@jupyter-widgets/controls",
            "_model_module_version": "1.5.0",
            "_model_name": "CheckboxModel",
            "_view_count": null,
            "_view_module": "@jupyter-widgets/controls",
            "_view_module_version": "1.5.0",
            "_view_name": "CheckboxView",
            "description": "Add token as git credential?",
            "description_tooltip": null,
            "disabled": false,
            "indent": true,
            "layout": "IPY_MODEL_2110c15230434c61a85f3ac8bc38bac4",
            "style": "IPY_MODEL_c8bbac9297144ba88e35511fc80d7123",
            "value": false
          }
        },
        "0c308baebe0149a395311a871a4814e1": {
          "model_module": "@jupyter-widgets/base",
          "model_module_version": "1.2.0",
          "model_name": "LayoutModel",
          "state": {
            "_model_module": "@jupyter-widgets/base",
            "_model_module_version": "1.2.0",
            "_model_name": "LayoutModel",
            "_view_count": null,
            "_view_module": "@jupyter-widgets/base",
            "_view_module_version": "1.2.0",
            "_view_name": "LayoutView",
            "align_content": null,
            "align_items": null,
            "align_self": null,
            "border": null,
            "bottom": null,
            "display": null,
            "flex": null,
            "flex_flow": null,
            "grid_area": null,
            "grid_auto_columns": null,
            "grid_auto_flow": null,
            "grid_auto_rows": null,
            "grid_column": null,
            "grid_gap": null,
            "grid_row": null,
            "grid_template_areas": null,
            "grid_template_columns": null,
            "grid_template_rows": null,
            "height": null,
            "justify_content": null,
            "justify_items": null,
            "left": null,
            "margin": null,
            "max_height": null,
            "max_width": null,
            "min_height": null,
            "min_width": null,
            "object_fit": null,
            "object_position": null,
            "order": null,
            "overflow": null,
            "overflow_x": null,
            "overflow_y": null,
            "padding": null,
            "right": null,
            "top": null,
            "visibility": null,
            "width": null
          }
        },
        "0d0f9b5e64e64f05bb9ba0958f9bde1e": {
          "model_module": "@jupyter-widgets/controls",
          "model_module_version": "1.5.0",
          "model_name": "ProgressStyleModel",
          "state": {
            "_model_module": "@jupyter-widgets/controls",
            "_model_module_version": "1.5.0",
            "_model_name": "ProgressStyleModel",
            "_view_count": null,
            "_view_module": "@jupyter-widgets/base",
            "_view_module_version": "1.2.0",
            "_view_name": "StyleView",
            "bar_color": null,
            "description_width": ""
          }
        },
        "1011ff8f5e374e4a9af080782789ad9e": {
          "model_module": "@jupyter-widgets/base",
          "model_module_version": "1.2.0",
          "model_name": "LayoutModel",
          "state": {
            "_model_module": "@jupyter-widgets/base",
            "_model_module_version": "1.2.0",
            "_model_name": "LayoutModel",
            "_view_count": null,
            "_view_module": "@jupyter-widgets/base",
            "_view_module_version": "1.2.0",
            "_view_name": "LayoutView",
            "align_content": null,
            "align_items": "center",
            "align_self": null,
            "border": null,
            "bottom": null,
            "display": "flex",
            "flex": null,
            "flex_flow": "column",
            "grid_area": null,
            "grid_auto_columns": null,
            "grid_auto_flow": null,
            "grid_auto_rows": null,
            "grid_column": null,
            "grid_gap": null,
            "grid_row": null,
            "grid_template_areas": null,
            "grid_template_columns": null,
            "grid_template_rows": null,
            "height": null,
            "justify_content": null,
            "justify_items": null,
            "left": null,
            "margin": null,
            "max_height": null,
            "max_width": null,
            "min_height": null,
            "min_width": null,
            "object_fit": null,
            "object_position": null,
            "order": null,
            "overflow": null,
            "overflow_x": null,
            "overflow_y": null,
            "padding": null,
            "right": null,
            "top": null,
            "visibility": null,
            "width": "50%"
          }
        },
        "17c9a402fd2e4bdb9e86cd0d69d095e9": {
          "model_module": "@jupyter-widgets/base",
          "model_module_version": "1.2.0",
          "model_name": "LayoutModel",
          "state": {
            "_model_module": "@jupyter-widgets/base",
            "_model_module_version": "1.2.0",
            "_model_name": "LayoutModel",
            "_view_count": null,
            "_view_module": "@jupyter-widgets/base",
            "_view_module_version": "1.2.0",
            "_view_name": "LayoutView",
            "align_content": null,
            "align_items": null,
            "align_self": null,
            "border": null,
            "bottom": null,
            "display": null,
            "flex": null,
            "flex_flow": null,
            "grid_area": null,
            "grid_auto_columns": null,
            "grid_auto_flow": null,
            "grid_auto_rows": null,
            "grid_column": null,
            "grid_gap": null,
            "grid_row": null,
            "grid_template_areas": null,
            "grid_template_columns": null,
            "grid_template_rows": null,
            "height": null,
            "justify_content": null,
            "justify_items": null,
            "left": null,
            "margin": null,
            "max_height": null,
            "max_width": null,
            "min_height": null,
            "min_width": null,
            "object_fit": null,
            "object_position": null,
            "order": null,
            "overflow": null,
            "overflow_x": null,
            "overflow_y": null,
            "padding": null,
            "right": null,
            "top": null,
            "visibility": "hidden",
            "width": null
          }
        },
        "1a5fe97c430643d7b4a12514c2ca5ce7": {
          "model_module": "@jupyter-widgets/base",
          "model_module_version": "1.2.0",
          "model_name": "LayoutModel",
          "state": {
            "_model_module": "@jupyter-widgets/base",
            "_model_module_version": "1.2.0",
            "_model_name": "LayoutModel",
            "_view_count": null,
            "_view_module": "@jupyter-widgets/base",
            "_view_module_version": "1.2.0",
            "_view_name": "LayoutView",
            "align_content": null,
            "align_items": null,
            "align_self": null,
            "border": null,
            "bottom": null,
            "display": null,
            "flex": null,
            "flex_flow": null,
            "grid_area": null,
            "grid_auto_columns": null,
            "grid_auto_flow": null,
            "grid_auto_rows": null,
            "grid_column": null,
            "grid_gap": null,
            "grid_row": null,
            "grid_template_areas": null,
            "grid_template_columns": null,
            "grid_template_rows": null,
            "height": null,
            "justify_content": null,
            "justify_items": null,
            "left": null,
            "margin": null,
            "max_height": null,
            "max_width": null,
            "min_height": null,
            "min_width": null,
            "object_fit": null,
            "object_position": null,
            "order": null,
            "overflow": null,
            "overflow_x": null,
            "overflow_y": null,
            "padding": null,
            "right": null,
            "top": null,
            "visibility": null,
            "width": null
          }
        },
        "1b165057f61449e58eb201f3598c1215": {
          "model_module": "@jupyter-widgets/base",
          "model_module_version": "1.2.0",
          "model_name": "LayoutModel",
          "state": {
            "_model_module": "@jupyter-widgets/base",
            "_model_module_version": "1.2.0",
            "_model_name": "LayoutModel",
            "_view_count": null,
            "_view_module": "@jupyter-widgets/base",
            "_view_module_version": "1.2.0",
            "_view_name": "LayoutView",
            "align_content": null,
            "align_items": null,
            "align_self": null,
            "border": null,
            "bottom": null,
            "display": null,
            "flex": null,
            "flex_flow": null,
            "grid_area": null,
            "grid_auto_columns": null,
            "grid_auto_flow": null,
            "grid_auto_rows": null,
            "grid_column": null,
            "grid_gap": null,
            "grid_row": null,
            "grid_template_areas": null,
            "grid_template_columns": null,
            "grid_template_rows": null,
            "height": null,
            "justify_content": null,
            "justify_items": null,
            "left": null,
            "margin": null,
            "max_height": null,
            "max_width": null,
            "min_height": null,
            "min_width": null,
            "object_fit": null,
            "object_position": null,
            "order": null,
            "overflow": null,
            "overflow_x": null,
            "overflow_y": null,
            "padding": null,
            "right": null,
            "top": null,
            "visibility": null,
            "width": null
          }
        },
        "1bd0e7e9891c44c0bfa3856d3b7505ea": {
          "model_module": "@jupyter-widgets/base",
          "model_module_version": "1.2.0",
          "model_name": "LayoutModel",
          "state": {
            "_model_module": "@jupyter-widgets/base",
            "_model_module_version": "1.2.0",
            "_model_name": "LayoutModel",
            "_view_count": null,
            "_view_module": "@jupyter-widgets/base",
            "_view_module_version": "1.2.0",
            "_view_name": "LayoutView",
            "align_content": null,
            "align_items": null,
            "align_self": null,
            "border": null,
            "bottom": null,
            "display": null,
            "flex": null,
            "flex_flow": null,
            "grid_area": null,
            "grid_auto_columns": null,
            "grid_auto_flow": null,
            "grid_auto_rows": null,
            "grid_column": null,
            "grid_gap": null,
            "grid_row": null,
            "grid_template_areas": null,
            "grid_template_columns": null,
            "grid_template_rows": null,
            "height": null,
            "justify_content": null,
            "justify_items": null,
            "left": null,
            "margin": null,
            "max_height": null,
            "max_width": null,
            "min_height": null,
            "min_width": null,
            "object_fit": null,
            "object_position": null,
            "order": null,
            "overflow": null,
            "overflow_x": null,
            "overflow_y": null,
            "padding": null,
            "right": null,
            "top": null,
            "visibility": null,
            "width": null
          }
        },
        "2110c15230434c61a85f3ac8bc38bac4": {
          "model_module": "@jupyter-widgets/base",
          "model_module_version": "1.2.0",
          "model_name": "LayoutModel",
          "state": {
            "_model_module": "@jupyter-widgets/base",
            "_model_module_version": "1.2.0",
            "_model_name": "LayoutModel",
            "_view_count": null,
            "_view_module": "@jupyter-widgets/base",
            "_view_module_version": "1.2.0",
            "_view_name": "LayoutView",
            "align_content": null,
            "align_items": null,
            "align_self": null,
            "border": null,
            "bottom": null,
            "display": null,
            "flex": null,
            "flex_flow": null,
            "grid_area": null,
            "grid_auto_columns": null,
            "grid_auto_flow": null,
            "grid_auto_rows": null,
            "grid_column": null,
            "grid_gap": null,
            "grid_row": null,
            "grid_template_areas": null,
            "grid_template_columns": null,
            "grid_template_rows": null,
            "height": null,
            "justify_content": null,
            "justify_items": null,
            "left": null,
            "margin": null,
            "max_height": null,
            "max_width": null,
            "min_height": null,
            "min_width": null,
            "object_fit": null,
            "object_position": null,
            "order": null,
            "overflow": null,
            "overflow_x": null,
            "overflow_y": null,
            "padding": null,
            "right": null,
            "top": null,
            "visibility": null,
            "width": null
          }
        },
        "2111a6e90dde44229c01c2fe35af0123": {
          "model_module": "@jupyter-widgets/controls",
          "model_module_version": "1.5.0",
          "model_name": "HTMLModel",
          "state": {
            "_dom_classes": [],
            "_model_module": "@jupyter-widgets/controls",
            "_model_module_version": "1.5.0",
            "_model_name": "HTMLModel",
            "_view_count": null,
            "_view_module": "@jupyter-widgets/controls",
            "_view_module_version": "1.5.0",
            "_view_name": "HTMLView",
            "description": "",
            "description_tooltip": null,
            "layout": "IPY_MODEL_4311cb7c8a744f5886815c395012bdb8",
            "placeholder": "​",
            "style": "IPY_MODEL_f2453437d8f34d5c81120e43f81803a2",
            "value": " 28/28 [00:00&lt;00:00, 75.85it/s]"
          }
        },
        "21c9b110e36f4471b6a145bd037360c8": {
          "model_module": "@jupyter-widgets/controls",
          "model_module_version": "1.5.0",
          "model_name": "FloatProgressModel",
          "state": {
            "_dom_classes": [],
            "_model_module": "@jupyter-widgets/controls",
            "_model_module_version": "1.5.0",
            "_model_name": "FloatProgressModel",
            "_view_count": null,
            "_view_module": "@jupyter-widgets/controls",
            "_view_module_version": "1.5.0",
            "_view_name": "ProgressView",
            "bar_style": "",
            "description": "",
            "description_tooltip": null,
            "layout": "IPY_MODEL_562b36deaba64255bafc76371938f18c",
            "max": 7090,
            "min": 0,
            "orientation": "horizontal",
            "style": "IPY_MODEL_760eae6e0cb945fdab945bcd9d7fb563",
            "value": 7090
          }
        },
        "23f1fe48f75449f2a1c891e440d69dd0": {
          "model_module": "@jupyter-widgets/base",
          "model_module_version": "1.2.0",
          "model_name": "LayoutModel",
          "state": {
            "_model_module": "@jupyter-widgets/base",
            "_model_module_version": "1.2.0",
            "_model_name": "LayoutModel",
            "_view_count": null,
            "_view_module": "@jupyter-widgets/base",
            "_view_module_version": "1.2.0",
            "_view_name": "LayoutView",
            "align_content": null,
            "align_items": null,
            "align_self": null,
            "border": null,
            "bottom": null,
            "display": null,
            "flex": null,
            "flex_flow": null,
            "grid_area": null,
            "grid_auto_columns": null,
            "grid_auto_flow": null,
            "grid_auto_rows": null,
            "grid_column": null,
            "grid_gap": null,
            "grid_row": null,
            "grid_template_areas": null,
            "grid_template_columns": null,
            "grid_template_rows": null,
            "height": null,
            "justify_content": null,
            "justify_items": null,
            "left": null,
            "margin": null,
            "max_height": null,
            "max_width": null,
            "min_height": null,
            "min_width": null,
            "object_fit": null,
            "object_position": null,
            "order": null,
            "overflow": null,
            "overflow_x": null,
            "overflow_y": null,
            "padding": null,
            "right": null,
            "top": null,
            "visibility": null,
            "width": null
          }
        },
        "23fa37de4f534d37bfa0eb00cf31179a": {
          "model_module": "@jupyter-widgets/controls",
          "model_module_version": "1.5.0",
          "model_name": "FloatProgressModel",
          "state": {
            "_dom_classes": [],
            "_model_module": "@jupyter-widgets/controls",
            "_model_module_version": "1.5.0",
            "_model_name": "FloatProgressModel",
            "_view_count": null,
            "_view_module": "@jupyter-widgets/controls",
            "_view_module_version": "1.5.0",
            "_view_name": "ProgressView",
            "bar_style": "",
            "description": "",
            "description_tooltip": null,
            "layout": "IPY_MODEL_ce2289a9a58d42cca4bb25fc49b8bba9",
            "max": 7946,
            "min": 0,
            "orientation": "horizontal",
            "style": "IPY_MODEL_3b6da6c326104a359cc133adfe38a472",
            "value": 7946
          }
        },
        "245faf37adf34e468c838c55868758e0": {
          "model_module": "@jupyter-widgets/controls",
          "model_module_version": "1.5.0",
          "model_name": "FloatProgressModel",
          "state": {
            "_dom_classes": [],
            "_model_module": "@jupyter-widgets/controls",
            "_model_module_version": "1.5.0",
            "_model_name": "FloatProgressModel",
            "_view_count": null,
            "_view_module": "@jupyter-widgets/controls",
            "_view_module_version": "1.5.0",
            "_view_name": "ProgressView",
            "bar_style": "success",
            "description": "",
            "description_tooltip": null,
            "layout": "IPY_MODEL_a2f3bbee3afb423f90ef7030aa4dce74",
            "max": 28,
            "min": 0,
            "orientation": "horizontal",
            "style": "IPY_MODEL_7db8febee3a64b5a82cf7d3c5cacd78f",
            "value": 28
          }
        },
        "24839cf6d0b64f7389d9b215c5b12495": {
          "model_module": "@jupyter-widgets/controls",
          "model_module_version": "1.5.0",
          "model_name": "HTMLModel",
          "state": {
            "_dom_classes": [],
            "_model_module": "@jupyter-widgets/controls",
            "_model_module_version": "1.5.0",
            "_model_name": "HTMLModel",
            "_view_count": null,
            "_view_module": "@jupyter-widgets/controls",
            "_view_module_version": "1.5.0",
            "_view_name": "HTMLView",
            "description": "",
            "description_tooltip": null,
            "layout": "IPY_MODEL_02ffe364196b4cde95cef8902c7f3628",
            "placeholder": "​",
            "style": "IPY_MODEL_9b1017040d6b4a1fbe8fbc7dd072b006",
            "value": " 30708/30708 [54:51&lt;00:00,  9.72 examples/s]"
          }
        },
        "257243ab9c8e4ff08dc247faf580bb7d": {
          "model_module": "@jupyter-widgets/controls",
          "model_module_version": "1.5.0",
          "model_name": "HBoxModel",
          "state": {
            "_dom_classes": [],
            "_model_module": "@jupyter-widgets/controls",
            "_model_module_version": "1.5.0",
            "_model_name": "HBoxModel",
            "_view_count": null,
            "_view_module": "@jupyter-widgets/controls",
            "_view_module_version": "1.5.0",
            "_view_name": "HBoxView",
            "box_style": "",
            "children": [
              "IPY_MODEL_dbc8c49abca848c093d4ab0ad710719d",
              "IPY_MODEL_43917a580c194c1a97653122c1a691fe",
              "IPY_MODEL_fe91a39fff5d4f7a973bc176cf2d4e93"
            ],
            "layout": "IPY_MODEL_f9f81bc136c2453ea796dbca76252eed"
          }
        },
        "290bc5d5a231428b96ef4c591ec06b58": {
          "model_module": "@jupyter-widgets/controls",
          "model_module_version": "1.5.0",
          "model_name": "ProgressStyleModel",
          "state": {
            "_model_module": "@jupyter-widgets/controls",
            "_model_module_version": "1.5.0",
            "_model_name": "ProgressStyleModel",
            "_view_count": null,
            "_view_module": "@jupyter-widgets/base",
            "_view_module_version": "1.2.0",
            "_view_name": "StyleView",
            "bar_color": null,
            "description_width": ""
          }
        },
        "290d95aebe494ff287ec3644ce59fdad": {
          "model_module": "@jupyter-widgets/controls",
          "model_module_version": "1.5.0",
          "model_name": "HBoxModel",
          "state": {
            "_dom_classes": [],
            "_model_module": "@jupyter-widgets/controls",
            "_model_module_version": "1.5.0",
            "_model_name": "HBoxModel",
            "_view_count": null,
            "_view_module": "@jupyter-widgets/controls",
            "_view_module_version": "1.5.0",
            "_view_name": "HBoxView",
            "box_style": "",
            "children": [
              "IPY_MODEL_038d91a45ada44138ea2b509a2e60dc0",
              "IPY_MODEL_23fa37de4f534d37bfa0eb00cf31179a",
              "IPY_MODEL_5bdf303f0ce04439a0b42c0fb2e18c97"
            ],
            "layout": "IPY_MODEL_bad90619c0e5440a9c88814dd81ea148"
          }
        },
        "291ee187e6a04e239b0558f81b6c77f2": {
          "model_module": "@jupyter-widgets/controls",
          "model_module_version": "1.5.0",
          "model_name": "HTMLModel",
          "state": {
            "_dom_classes": [],
            "_model_module": "@jupyter-widgets/controls",
            "_model_module_version": "1.5.0",
            "_model_name": "HTMLModel",
            "_view_count": null,
            "_view_module": "@jupyter-widgets/controls",
            "_view_module_version": "1.5.0",
            "_view_name": "HTMLView",
            "description": "",
            "description_tooltip": null,
            "layout": "IPY_MODEL_1b165057f61449e58eb201f3598c1215",
            "placeholder": "​",
            "style": "IPY_MODEL_775031e84eb54b639e30bd85308b4b7c",
            "value": "<center> <img\nsrc=https://huggingface.co/front/assets/huggingface_logo-noborder.svg\nalt='Hugging Face'> <br> Copy a token from <a\nhref=\"https://huggingface.co/settings/tokens\" target=\"_blank\">your Hugging Face\ntokens page</a> and paste it below. <br> Immediately click login after copying\nyour token or it might be stored in plain text in this notebook file. </center>"
          }
        },
        "2c745fd839144a81aba59f096a6ec148": {
          "model_module": "@jupyter-widgets/base",
          "model_module_version": "1.2.0",
          "model_name": "LayoutModel",
          "state": {
            "_model_module": "@jupyter-widgets/base",
            "_model_module_version": "1.2.0",
            "_model_name": "LayoutModel",
            "_view_count": null,
            "_view_module": "@jupyter-widgets/base",
            "_view_module_version": "1.2.0",
            "_view_name": "LayoutView",
            "align_content": null,
            "align_items": null,
            "align_self": null,
            "border": null,
            "bottom": null,
            "display": null,
            "flex": null,
            "flex_flow": null,
            "grid_area": null,
            "grid_auto_columns": null,
            "grid_auto_flow": null,
            "grid_auto_rows": null,
            "grid_column": null,
            "grid_gap": null,
            "grid_row": null,
            "grid_template_areas": null,
            "grid_template_columns": null,
            "grid_template_rows": null,
            "height": null,
            "justify_content": null,
            "justify_items": null,
            "left": null,
            "margin": null,
            "max_height": null,
            "max_width": null,
            "min_height": null,
            "min_width": null,
            "object_fit": null,
            "object_position": null,
            "order": null,
            "overflow": null,
            "overflow_x": null,
            "overflow_y": null,
            "padding": null,
            "right": null,
            "top": null,
            "visibility": null,
            "width": null
          }
        },
        "2e2c01d8ffea4d138ef11ddd520faef0": {
          "model_module": "@jupyter-widgets/base",
          "model_module_version": "1.2.0",
          "model_name": "LayoutModel",
          "state": {
            "_model_module": "@jupyter-widgets/base",
            "_model_module_version": "1.2.0",
            "_model_name": "LayoutModel",
            "_view_count": null,
            "_view_module": "@jupyter-widgets/base",
            "_view_module_version": "1.2.0",
            "_view_name": "LayoutView",
            "align_content": null,
            "align_items": null,
            "align_self": null,
            "border": null,
            "bottom": null,
            "display": null,
            "flex": null,
            "flex_flow": null,
            "grid_area": null,
            "grid_auto_columns": null,
            "grid_auto_flow": null,
            "grid_auto_rows": null,
            "grid_column": null,
            "grid_gap": null,
            "grid_row": null,
            "grid_template_areas": null,
            "grid_template_columns": null,
            "grid_template_rows": null,
            "height": null,
            "justify_content": null,
            "justify_items": null,
            "left": null,
            "margin": null,
            "max_height": null,
            "max_width": null,
            "min_height": null,
            "min_width": null,
            "object_fit": null,
            "object_position": null,
            "order": null,
            "overflow": null,
            "overflow_x": null,
            "overflow_y": null,
            "padding": null,
            "right": null,
            "top": null,
            "visibility": "hidden",
            "width": null
          }
        },
        "2e83146d74244cbb9a208848c6a12d45": {
          "model_module": "@jupyter-widgets/controls",
          "model_module_version": "1.5.0",
          "model_name": "HTMLModel",
          "state": {
            "_dom_classes": [],
            "_model_module": "@jupyter-widgets/controls",
            "_model_module_version": "1.5.0",
            "_model_name": "HTMLModel",
            "_view_count": null,
            "_view_module": "@jupyter-widgets/controls",
            "_view_module_version": "1.5.0",
            "_view_name": "HTMLView",
            "description": "",
            "description_tooltip": null,
            "layout": "IPY_MODEL_1bd0e7e9891c44c0bfa3856d3b7505ea",
            "placeholder": "​",
            "style": "IPY_MODEL_8dbd9c22ddca4d19afcb596390ef8240",
            "value": "Map: 100%"
          }
        },
        "2eb43d9fd6284a268babf7771fa5df3c": {
          "model_module": "@jupyter-widgets/controls",
          "model_module_version": "1.5.0",
          "model_name": "DescriptionStyleModel",
          "state": {
            "_model_module": "@jupyter-widgets/controls",
            "_model_module_version": "1.5.0",
            "_model_name": "DescriptionStyleModel",
            "_view_count": null,
            "_view_module": "@jupyter-widgets/base",
            "_view_module_version": "1.2.0",
            "_view_name": "StyleView",
            "description_width": ""
          }
        },
        "2fc867f615014955be9d7d1fb0502a37": {
          "model_module": "@jupyter-widgets/controls",
          "model_module_version": "1.5.0",
          "model_name": "FloatProgressModel",
          "state": {
            "_dom_classes": [],
            "_model_module": "@jupyter-widgets/controls",
            "_model_module_version": "1.5.0",
            "_model_name": "FloatProgressModel",
            "_view_count": null,
            "_view_module": "@jupyter-widgets/controls",
            "_view_module_version": "1.5.0",
            "_view_name": "ProgressView",
            "bar_style": "",
            "description": "",
            "description_tooltip": null,
            "layout": "IPY_MODEL_a50549e49d0449f1bbec8657f8b8cff4",
            "max": 30708,
            "min": 0,
            "orientation": "horizontal",
            "style": "IPY_MODEL_bab8ddd201f2451eabd0f8ae92faf8c6",
            "value": 30708
          }
        },
        "36bdaa0507db4cc1a2d11687f557b747": {
          "model_module": "@jupyter-widgets/base",
          "model_module_version": "1.2.0",
          "model_name": "LayoutModel",
          "state": {
            "_model_module": "@jupyter-widgets/base",
            "_model_module_version": "1.2.0",
            "_model_name": "LayoutModel",
            "_view_count": null,
            "_view_module": "@jupyter-widgets/base",
            "_view_module_version": "1.2.0",
            "_view_name": "LayoutView",
            "align_content": null,
            "align_items": null,
            "align_self": null,
            "border": null,
            "bottom": null,
            "display": null,
            "flex": null,
            "flex_flow": null,
            "grid_area": null,
            "grid_auto_columns": null,
            "grid_auto_flow": null,
            "grid_auto_rows": null,
            "grid_column": null,
            "grid_gap": null,
            "grid_row": null,
            "grid_template_areas": null,
            "grid_template_columns": null,
            "grid_template_rows": null,
            "height": null,
            "justify_content": null,
            "justify_items": null,
            "left": null,
            "margin": null,
            "max_height": null,
            "max_width": null,
            "min_height": null,
            "min_width": null,
            "object_fit": null,
            "object_position": null,
            "order": null,
            "overflow": null,
            "overflow_x": null,
            "overflow_y": null,
            "padding": null,
            "right": null,
            "top": null,
            "visibility": null,
            "width": null
          }
        },
        "3767ee57e4d54edb9e832d40b053d976": {
          "model_module": "@jupyter-widgets/controls",
          "model_module_version": "1.5.0",
          "model_name": "FloatProgressModel",
          "state": {
            "_dom_classes": [],
            "_model_module": "@jupyter-widgets/controls",
            "_model_module_version": "1.5.0",
            "_model_name": "FloatProgressModel",
            "_view_count": null,
            "_view_module": "@jupyter-widgets/controls",
            "_view_module_version": "1.5.0",
            "_view_name": "ProgressView",
            "bar_style": "",
            "description": "",
            "description_tooltip": null,
            "layout": "IPY_MODEL_bdaf516f69f34fa881094b1aa01010d9",
            "max": 7946,
            "min": 0,
            "orientation": "horizontal",
            "style": "IPY_MODEL_64b4ba88df7949f9b9852f9891ad937d",
            "value": 7946
          }
        },
        "3a446baa62f64b138cab38354e91f9fe": {
          "model_module": "@jupyter-widgets/controls",
          "model_module_version": "1.5.0",
          "model_name": "HBoxModel",
          "state": {
            "_dom_classes": [],
            "_model_module": "@jupyter-widgets/controls",
            "_model_module_version": "1.5.0",
            "_model_name": "HBoxModel",
            "_view_count": null,
            "_view_module": "@jupyter-widgets/controls",
            "_view_module_version": "1.5.0",
            "_view_name": "HBoxView",
            "box_style": "",
            "children": [
              "IPY_MODEL_e21f291e304148f5868ef0153bc333a0",
              "IPY_MODEL_cff9ba0ef286482b9902ee1be969bf06",
              "IPY_MODEL_8dbc9d51708a4c6286fbece7f4b0cf6b"
            ],
            "layout": "IPY_MODEL_17c9a402fd2e4bdb9e86cd0d69d095e9"
          }
        },
        "3b6da6c326104a359cc133adfe38a472": {
          "model_module": "@jupyter-widgets/controls",
          "model_module_version": "1.5.0",
          "model_name": "ProgressStyleModel",
          "state": {
            "_model_module": "@jupyter-widgets/controls",
            "_model_module_version": "1.5.0",
            "_model_name": "ProgressStyleModel",
            "_view_count": null,
            "_view_module": "@jupyter-widgets/base",
            "_view_module_version": "1.2.0",
            "_view_name": "StyleView",
            "bar_color": null,
            "description_width": ""
          }
        },
        "3bbe2bb7f0fa42379a9b108a48883c5a": {
          "model_module": "@jupyter-widgets/base",
          "model_module_version": "1.2.0",
          "model_name": "LayoutModel",
          "state": {
            "_model_module": "@jupyter-widgets/base",
            "_model_module_version": "1.2.0",
            "_model_name": "LayoutModel",
            "_view_count": null,
            "_view_module": "@jupyter-widgets/base",
            "_view_module_version": "1.2.0",
            "_view_name": "LayoutView",
            "align_content": null,
            "align_items": null,
            "align_self": null,
            "border": null,
            "bottom": null,
            "display": null,
            "flex": null,
            "flex_flow": null,
            "grid_area": null,
            "grid_auto_columns": null,
            "grid_auto_flow": null,
            "grid_auto_rows": null,
            "grid_column": null,
            "grid_gap": null,
            "grid_row": null,
            "grid_template_areas": null,
            "grid_template_columns": null,
            "grid_template_rows": null,
            "height": null,
            "justify_content": null,
            "justify_items": null,
            "left": null,
            "margin": null,
            "max_height": null,
            "max_width": null,
            "min_height": null,
            "min_width": null,
            "object_fit": null,
            "object_position": null,
            "order": null,
            "overflow": null,
            "overflow_x": null,
            "overflow_y": null,
            "padding": null,
            "right": null,
            "top": null,
            "visibility": null,
            "width": null
          }
        },
        "3c76a05509b741a8abb423c7ec4c0d7d": {
          "model_module": "@jupyter-widgets/controls",
          "model_module_version": "1.5.0",
          "model_name": "DescriptionStyleModel",
          "state": {
            "_model_module": "@jupyter-widgets/controls",
            "_model_module_version": "1.5.0",
            "_model_name": "DescriptionStyleModel",
            "_view_count": null,
            "_view_module": "@jupyter-widgets/base",
            "_view_module_version": "1.2.0",
            "_view_name": "StyleView",
            "description_width": ""
          }
        },
        "3dabc110d0fa4da7b1460a8a6d7a4939": {
          "model_module": "@jupyter-widgets/base",
          "model_module_version": "1.2.0",
          "model_name": "LayoutModel",
          "state": {
            "_model_module": "@jupyter-widgets/base",
            "_model_module_version": "1.2.0",
            "_model_name": "LayoutModel",
            "_view_count": null,
            "_view_module": "@jupyter-widgets/base",
            "_view_module_version": "1.2.0",
            "_view_name": "LayoutView",
            "align_content": null,
            "align_items": null,
            "align_self": null,
            "border": null,
            "bottom": null,
            "display": null,
            "flex": null,
            "flex_flow": null,
            "grid_area": null,
            "grid_auto_columns": null,
            "grid_auto_flow": null,
            "grid_auto_rows": null,
            "grid_column": null,
            "grid_gap": null,
            "grid_row": null,
            "grid_template_areas": null,
            "grid_template_columns": null,
            "grid_template_rows": null,
            "height": null,
            "justify_content": null,
            "justify_items": null,
            "left": null,
            "margin": null,
            "max_height": null,
            "max_width": null,
            "min_height": null,
            "min_width": null,
            "object_fit": null,
            "object_position": null,
            "order": null,
            "overflow": null,
            "overflow_x": null,
            "overflow_y": null,
            "padding": null,
            "right": null,
            "top": null,
            "visibility": null,
            "width": null
          }
        },
        "40c3d28c4cdb4cb0a399e1fac6eb913c": {
          "model_module": "@jupyter-widgets/base",
          "model_module_version": "1.2.0",
          "model_name": "LayoutModel",
          "state": {
            "_model_module": "@jupyter-widgets/base",
            "_model_module_version": "1.2.0",
            "_model_name": "LayoutModel",
            "_view_count": null,
            "_view_module": "@jupyter-widgets/base",
            "_view_module_version": "1.2.0",
            "_view_name": "LayoutView",
            "align_content": null,
            "align_items": null,
            "align_self": null,
            "border": null,
            "bottom": null,
            "display": null,
            "flex": null,
            "flex_flow": null,
            "grid_area": null,
            "grid_auto_columns": null,
            "grid_auto_flow": null,
            "grid_auto_rows": null,
            "grid_column": null,
            "grid_gap": null,
            "grid_row": null,
            "grid_template_areas": null,
            "grid_template_columns": null,
            "grid_template_rows": null,
            "height": null,
            "justify_content": null,
            "justify_items": null,
            "left": null,
            "margin": null,
            "max_height": null,
            "max_width": null,
            "min_height": null,
            "min_width": null,
            "object_fit": null,
            "object_position": null,
            "order": null,
            "overflow": null,
            "overflow_x": null,
            "overflow_y": null,
            "padding": null,
            "right": null,
            "top": null,
            "visibility": "hidden",
            "width": null
          }
        },
        "41346088ef914034b9e9f7c99883bd0a": {
          "model_module": "@jupyter-widgets/controls",
          "model_module_version": "1.5.0",
          "model_name": "HTMLModel",
          "state": {
            "_dom_classes": [],
            "_model_module": "@jupyter-widgets/controls",
            "_model_module_version": "1.5.0",
            "_model_name": "HTMLModel",
            "_view_count": null,
            "_view_module": "@jupyter-widgets/controls",
            "_view_module_version": "1.5.0",
            "_view_name": "HTMLView",
            "description": "",
            "description_tooltip": null,
            "layout": "IPY_MODEL_5871fd3658914936b5dc8e3cf9d1bd6d",
            "placeholder": "​",
            "style": "IPY_MODEL_2eb43d9fd6284a268babf7771fa5df3c",
            "value": " 7946/7946 [06:00&lt;00:00, 21.47 examples/s]"
          }
        },
        "4311cb7c8a744f5886815c395012bdb8": {
          "model_module": "@jupyter-widgets/base",
          "model_module_version": "1.2.0",
          "model_name": "LayoutModel",
          "state": {
            "_model_module": "@jupyter-widgets/base",
            "_model_module_version": "1.2.0",
            "_model_name": "LayoutModel",
            "_view_count": null,
            "_view_module": "@jupyter-widgets/base",
            "_view_module_version": "1.2.0",
            "_view_name": "LayoutView",
            "align_content": null,
            "align_items": null,
            "align_self": null,
            "border": null,
            "bottom": null,
            "display": null,
            "flex": null,
            "flex_flow": null,
            "grid_area": null,
            "grid_auto_columns": null,
            "grid_auto_flow": null,
            "grid_auto_rows": null,
            "grid_column": null,
            "grid_gap": null,
            "grid_row": null,
            "grid_template_areas": null,
            "grid_template_columns": null,
            "grid_template_rows": null,
            "height": null,
            "justify_content": null,
            "justify_items": null,
            "left": null,
            "margin": null,
            "max_height": null,
            "max_width": null,
            "min_height": null,
            "min_width": null,
            "object_fit": null,
            "object_position": null,
            "order": null,
            "overflow": null,
            "overflow_x": null,
            "overflow_y": null,
            "padding": null,
            "right": null,
            "top": null,
            "visibility": null,
            "width": null
          }
        },
        "4345d91c569a4507ad6a143dc7435f33": {
          "model_module": "@jupyter-widgets/controls",
          "model_module_version": "1.5.0",
          "model_name": "DescriptionStyleModel",
          "state": {
            "_model_module": "@jupyter-widgets/controls",
            "_model_module_version": "1.5.0",
            "_model_name": "DescriptionStyleModel",
            "_view_count": null,
            "_view_module": "@jupyter-widgets/base",
            "_view_module_version": "1.2.0",
            "_view_name": "StyleView",
            "description_width": ""
          }
        },
        "43917a580c194c1a97653122c1a691fe": {
          "model_module": "@jupyter-widgets/controls",
          "model_module_version": "1.5.0",
          "model_name": "FloatProgressModel",
          "state": {
            "_dom_classes": [],
            "_model_module": "@jupyter-widgets/controls",
            "_model_module_version": "1.5.0",
            "_model_name": "FloatProgressModel",
            "_view_count": null,
            "_view_module": "@jupyter-widgets/controls",
            "_view_module_version": "1.5.0",
            "_view_name": "ProgressView",
            "bar_style": "",
            "description": "",
            "description_tooltip": null,
            "layout": "IPY_MODEL_6f60ee07dfc545e596c5b5c8fc9e8318",
            "max": 30708,
            "min": 0,
            "orientation": "horizontal",
            "style": "IPY_MODEL_c8feed238fdf4eea9dfe78ecaa65f558",
            "value": 30708
          }
        },
        "43e71e11d8854e8ca3af7271de3d4e2b": {
          "model_module": "@jupyter-widgets/controls",
          "model_module_version": "1.5.0",
          "model_name": "HTMLModel",
          "state": {
            "_dom_classes": [],
            "_model_module": "@jupyter-widgets/controls",
            "_model_module_version": "1.5.0",
            "_model_name": "HTMLModel",
            "_view_count": null,
            "_view_module": "@jupyter-widgets/controls",
            "_view_module_version": "1.5.0",
            "_view_name": "HTMLView",
            "description": "",
            "description_tooltip": null,
            "layout": "IPY_MODEL_b9fed0e7adf741949f1719ab80b8fe15",
            "placeholder": "​",
            "style": "IPY_MODEL_f06ec8353d3b41a1925de0260de294e7",
            "value": " 7090/7090 [00:00&lt;00:00, 9842.02 examples/s]"
          }
        },
        "4797d4436348499981b60d9813671905": {
          "model_module": "@jupyter-widgets/controls",
          "model_module_version": "1.5.0",
          "model_name": "FloatProgressModel",
          "state": {
            "_dom_classes": [],
            "_model_module": "@jupyter-widgets/controls",
            "_model_module_version": "1.5.0",
            "_model_name": "FloatProgressModel",
            "_view_count": null,
            "_view_module": "@jupyter-widgets/controls",
            "_view_module_version": "1.5.0",
            "_view_name": "ProgressView",
            "bar_style": "success",
            "description": "",
            "description_tooltip": null,
            "layout": "IPY_MODEL_1a5fe97c430643d7b4a12514c2ca5ce7",
            "max": 28,
            "min": 0,
            "orientation": "horizontal",
            "style": "IPY_MODEL_0d0f9b5e64e64f05bb9ba0958f9bde1e",
            "value": 28
          }
        },
        "48e97a59ea504b1e9c46e2a93894fc68": {
          "model_module": "@jupyter-widgets/base",
          "model_module_version": "1.2.0",
          "model_name": "LayoutModel",
          "state": {
            "_model_module": "@jupyter-widgets/base",
            "_model_module_version": "1.2.0",
            "_model_name": "LayoutModel",
            "_view_count": null,
            "_view_module": "@jupyter-widgets/base",
            "_view_module_version": "1.2.0",
            "_view_name": "LayoutView",
            "align_content": null,
            "align_items": null,
            "align_self": null,
            "border": null,
            "bottom": null,
            "display": null,
            "flex": null,
            "flex_flow": null,
            "grid_area": null,
            "grid_auto_columns": null,
            "grid_auto_flow": null,
            "grid_auto_rows": null,
            "grid_column": null,
            "grid_gap": null,
            "grid_row": null,
            "grid_template_areas": null,
            "grid_template_columns": null,
            "grid_template_rows": null,
            "height": null,
            "justify_content": null,
            "justify_items": null,
            "left": null,
            "margin": null,
            "max_height": null,
            "max_width": null,
            "min_height": null,
            "min_width": null,
            "object_fit": null,
            "object_position": null,
            "order": null,
            "overflow": null,
            "overflow_x": null,
            "overflow_y": null,
            "padding": null,
            "right": null,
            "top": null,
            "visibility": null,
            "width": null
          }
        },
        "4b505bba8d7b4deb9e7c6c140a23d1cf": {
          "model_module": "@jupyter-widgets/base",
          "model_module_version": "1.2.0",
          "model_name": "LayoutModel",
          "state": {
            "_model_module": "@jupyter-widgets/base",
            "_model_module_version": "1.2.0",
            "_model_name": "LayoutModel",
            "_view_count": null,
            "_view_module": "@jupyter-widgets/base",
            "_view_module_version": "1.2.0",
            "_view_name": "LayoutView",
            "align_content": null,
            "align_items": null,
            "align_self": null,
            "border": null,
            "bottom": null,
            "display": null,
            "flex": null,
            "flex_flow": null,
            "grid_area": null,
            "grid_auto_columns": null,
            "grid_auto_flow": null,
            "grid_auto_rows": null,
            "grid_column": null,
            "grid_gap": null,
            "grid_row": null,
            "grid_template_areas": null,
            "grid_template_columns": null,
            "grid_template_rows": null,
            "height": null,
            "justify_content": null,
            "justify_items": null,
            "left": null,
            "margin": null,
            "max_height": null,
            "max_width": null,
            "min_height": null,
            "min_width": null,
            "object_fit": null,
            "object_position": null,
            "order": null,
            "overflow": null,
            "overflow_x": null,
            "overflow_y": null,
            "padding": null,
            "right": null,
            "top": null,
            "visibility": "hidden",
            "width": null
          }
        },
        "4c6822c4414f44c2897224148bbd55ff": {
          "model_module": "@jupyter-widgets/controls",
          "model_module_version": "1.5.0",
          "model_name": "HBoxModel",
          "state": {
            "_dom_classes": [],
            "_model_module": "@jupyter-widgets/controls",
            "_model_module_version": "1.5.0",
            "_model_name": "HBoxModel",
            "_view_count": null,
            "_view_module": "@jupyter-widgets/controls",
            "_view_module_version": "1.5.0",
            "_view_name": "HBoxView",
            "box_style": "",
            "children": [
              "IPY_MODEL_dac6922e075e4b52b8ef20c1755f34c7",
              "IPY_MODEL_245faf37adf34e468c838c55868758e0",
              "IPY_MODEL_2111a6e90dde44229c01c2fe35af0123"
            ],
            "layout": "IPY_MODEL_ff712d6b34b94bdfb204dfa32e669049"
          }
        },
        "4de9d60812314a4c82a54a3acc9da7ad": {
          "model_module": "@jupyter-widgets/controls",
          "model_module_version": "1.5.0",
          "model_name": "ProgressStyleModel",
          "state": {
            "_model_module": "@jupyter-widgets/controls",
            "_model_module_version": "1.5.0",
            "_model_name": "ProgressStyleModel",
            "_view_count": null,
            "_view_module": "@jupyter-widgets/base",
            "_view_module_version": "1.2.0",
            "_view_name": "StyleView",
            "bar_color": null,
            "description_width": ""
          }
        },
        "52a2243f552d4f1c86317b966dd47af5": {
          "model_module": "@jupyter-widgets/controls",
          "model_module_version": "1.5.0",
          "model_name": "FloatProgressModel",
          "state": {
            "_dom_classes": [],
            "_model_module": "@jupyter-widgets/controls",
            "_model_module_version": "1.5.0",
            "_model_name": "FloatProgressModel",
            "_view_count": null,
            "_view_module": "@jupyter-widgets/controls",
            "_view_module_version": "1.5.0",
            "_view_name": "ProgressView",
            "bar_style": "",
            "description": "",
            "description_tooltip": null,
            "layout": "IPY_MODEL_a439b8eeae234a18abfec5449635ece7",
            "max": 7946,
            "min": 0,
            "orientation": "horizontal",
            "style": "IPY_MODEL_e4db4c8eb2dc4c2293e8a44b63594f67",
            "value": 7946
          }
        },
        "562b36deaba64255bafc76371938f18c": {
          "model_module": "@jupyter-widgets/base",
          "model_module_version": "1.2.0",
          "model_name": "LayoutModel",
          "state": {
            "_model_module": "@jupyter-widgets/base",
            "_model_module_version": "1.2.0",
            "_model_name": "LayoutModel",
            "_view_count": null,
            "_view_module": "@jupyter-widgets/base",
            "_view_module_version": "1.2.0",
            "_view_name": "LayoutView",
            "align_content": null,
            "align_items": null,
            "align_self": null,
            "border": null,
            "bottom": null,
            "display": null,
            "flex": null,
            "flex_flow": null,
            "grid_area": null,
            "grid_auto_columns": null,
            "grid_auto_flow": null,
            "grid_auto_rows": null,
            "grid_column": null,
            "grid_gap": null,
            "grid_row": null,
            "grid_template_areas": null,
            "grid_template_columns": null,
            "grid_template_rows": null,
            "height": null,
            "justify_content": null,
            "justify_items": null,
            "left": null,
            "margin": null,
            "max_height": null,
            "max_width": null,
            "min_height": null,
            "min_width": null,
            "object_fit": null,
            "object_position": null,
            "order": null,
            "overflow": null,
            "overflow_x": null,
            "overflow_y": null,
            "padding": null,
            "right": null,
            "top": null,
            "visibility": null,
            "width": null
          }
        },
        "5871fd3658914936b5dc8e3cf9d1bd6d": {
          "model_module": "@jupyter-widgets/base",
          "model_module_version": "1.2.0",
          "model_name": "LayoutModel",
          "state": {
            "_model_module": "@jupyter-widgets/base",
            "_model_module_version": "1.2.0",
            "_model_name": "LayoutModel",
            "_view_count": null,
            "_view_module": "@jupyter-widgets/base",
            "_view_module_version": "1.2.0",
            "_view_name": "LayoutView",
            "align_content": null,
            "align_items": null,
            "align_self": null,
            "border": null,
            "bottom": null,
            "display": null,
            "flex": null,
            "flex_flow": null,
            "grid_area": null,
            "grid_auto_columns": null,
            "grid_auto_flow": null,
            "grid_auto_rows": null,
            "grid_column": null,
            "grid_gap": null,
            "grid_row": null,
            "grid_template_areas": null,
            "grid_template_columns": null,
            "grid_template_rows": null,
            "height": null,
            "justify_content": null,
            "justify_items": null,
            "left": null,
            "margin": null,
            "max_height": null,
            "max_width": null,
            "min_height": null,
            "min_width": null,
            "object_fit": null,
            "object_position": null,
            "order": null,
            "overflow": null,
            "overflow_x": null,
            "overflow_y": null,
            "padding": null,
            "right": null,
            "top": null,
            "visibility": null,
            "width": null
          }
        },
        "591d13984ad042cc9d5882cf2dd227fa": {
          "model_module": "@jupyter-widgets/controls",
          "model_module_version": "1.5.0",
          "model_name": "ButtonModel",
          "state": {
            "_dom_classes": [],
            "_model_module": "@jupyter-widgets/controls",
            "_model_module_version": "1.5.0",
            "_model_name": "ButtonModel",
            "_view_count": null,
            "_view_module": "@jupyter-widgets/controls",
            "_view_module_version": "1.5.0",
            "_view_name": "ButtonView",
            "button_style": "",
            "description": "Login",
            "disabled": false,
            "icon": "",
            "layout": "IPY_MODEL_93e4f15aa01f4892926689a3a7b420d8",
            "style": "IPY_MODEL_018ddef8a08b42b0a9711e86c206cc87",
            "tooltip": ""
          }
        },
        "59d379492cc444f5871034360dca2048": {
          "model_module": "@jupyter-widgets/controls",
          "model_module_version": "1.5.0",
          "model_name": "DescriptionStyleModel",
          "state": {
            "_model_module": "@jupyter-widgets/controls",
            "_model_module_version": "1.5.0",
            "_model_name": "DescriptionStyleModel",
            "_view_count": null,
            "_view_module": "@jupyter-widgets/base",
            "_view_module_version": "1.2.0",
            "_view_name": "StyleView",
            "description_width": ""
          }
        },
        "5bdf303f0ce04439a0b42c0fb2e18c97": {
          "model_module": "@jupyter-widgets/controls",
          "model_module_version": "1.5.0",
          "model_name": "HTMLModel",
          "state": {
            "_dom_classes": [],
            "_model_module": "@jupyter-widgets/controls",
            "_model_module_version": "1.5.0",
            "_model_name": "HTMLModel",
            "_view_count": null,
            "_view_module": "@jupyter-widgets/controls",
            "_view_module_version": "1.5.0",
            "_view_name": "HTMLView",
            "description": "",
            "description_tooltip": null,
            "layout": "IPY_MODEL_67e1341325c546cf98013ee5c824a0e6",
            "placeholder": "​",
            "style": "IPY_MODEL_5e4c3b09057f400a902ed7a072d8dc21",
            "value": " 7946/7946 [00:00&lt;00:00, 138415.99 examples/s]"
          }
        },
        "5c9ce46c48c94aed98be9a00e4dcea44": {
          "model_module": "@jupyter-widgets/controls",
          "model_module_version": "1.5.0",
          "model_name": "FloatProgressModel",
          "state": {
            "_dom_classes": [],
            "_model_module": "@jupyter-widgets/controls",
            "_model_module_version": "1.5.0",
            "_model_name": "FloatProgressModel",
            "_view_count": null,
            "_view_module": "@jupyter-widgets/controls",
            "_view_module_version": "1.5.0",
            "_view_name": "ProgressView",
            "bar_style": "",
            "description": "",
            "description_tooltip": null,
            "layout": "IPY_MODEL_48e97a59ea504b1e9c46e2a93894fc68",
            "max": 7090,
            "min": 0,
            "orientation": "horizontal",
            "style": "IPY_MODEL_4de9d60812314a4c82a54a3acc9da7ad",
            "value": 7090
          }
        },
        "5e4c3b09057f400a902ed7a072d8dc21": {
          "model_module": "@jupyter-widgets/controls",
          "model_module_version": "1.5.0",
          "model_name": "DescriptionStyleModel",
          "state": {
            "_model_module": "@jupyter-widgets/controls",
            "_model_module_version": "1.5.0",
            "_model_name": "DescriptionStyleModel",
            "_view_count": null,
            "_view_module": "@jupyter-widgets/base",
            "_view_module_version": "1.2.0",
            "_view_name": "StyleView",
            "description_width": ""
          }
        },
        "61923679d69b483382947072befcbb6e": {
          "model_module": "@jupyter-widgets/base",
          "model_module_version": "1.2.0",
          "model_name": "LayoutModel",
          "state": {
            "_model_module": "@jupyter-widgets/base",
            "_model_module_version": "1.2.0",
            "_model_name": "LayoutModel",
            "_view_count": null,
            "_view_module": "@jupyter-widgets/base",
            "_view_module_version": "1.2.0",
            "_view_name": "LayoutView",
            "align_content": null,
            "align_items": null,
            "align_self": null,
            "border": null,
            "bottom": null,
            "display": null,
            "flex": null,
            "flex_flow": null,
            "grid_area": null,
            "grid_auto_columns": null,
            "grid_auto_flow": null,
            "grid_auto_rows": null,
            "grid_column": null,
            "grid_gap": null,
            "grid_row": null,
            "grid_template_areas": null,
            "grid_template_columns": null,
            "grid_template_rows": null,
            "height": null,
            "justify_content": null,
            "justify_items": null,
            "left": null,
            "margin": null,
            "max_height": null,
            "max_width": null,
            "min_height": null,
            "min_width": null,
            "object_fit": null,
            "object_position": null,
            "order": null,
            "overflow": null,
            "overflow_x": null,
            "overflow_y": null,
            "padding": null,
            "right": null,
            "top": null,
            "visibility": "hidden",
            "width": null
          }
        },
        "64b4ba88df7949f9b9852f9891ad937d": {
          "model_module": "@jupyter-widgets/controls",
          "model_module_version": "1.5.0",
          "model_name": "ProgressStyleModel",
          "state": {
            "_model_module": "@jupyter-widgets/controls",
            "_model_module_version": "1.5.0",
            "_model_name": "ProgressStyleModel",
            "_view_count": null,
            "_view_module": "@jupyter-widgets/base",
            "_view_module_version": "1.2.0",
            "_view_name": "StyleView",
            "bar_color": null,
            "description_width": ""
          }
        },
        "67e1341325c546cf98013ee5c824a0e6": {
          "model_module": "@jupyter-widgets/base",
          "model_module_version": "1.2.0",
          "model_name": "LayoutModel",
          "state": {
            "_model_module": "@jupyter-widgets/base",
            "_model_module_version": "1.2.0",
            "_model_name": "LayoutModel",
            "_view_count": null,
            "_view_module": "@jupyter-widgets/base",
            "_view_module_version": "1.2.0",
            "_view_name": "LayoutView",
            "align_content": null,
            "align_items": null,
            "align_self": null,
            "border": null,
            "bottom": null,
            "display": null,
            "flex": null,
            "flex_flow": null,
            "grid_area": null,
            "grid_auto_columns": null,
            "grid_auto_flow": null,
            "grid_auto_rows": null,
            "grid_column": null,
            "grid_gap": null,
            "grid_row": null,
            "grid_template_areas": null,
            "grid_template_columns": null,
            "grid_template_rows": null,
            "height": null,
            "justify_content": null,
            "justify_items": null,
            "left": null,
            "margin": null,
            "max_height": null,
            "max_width": null,
            "min_height": null,
            "min_width": null,
            "object_fit": null,
            "object_position": null,
            "order": null,
            "overflow": null,
            "overflow_x": null,
            "overflow_y": null,
            "padding": null,
            "right": null,
            "top": null,
            "visibility": null,
            "width": null
          }
        },
        "69570c24726140aa8c3b0865fa0759fb": {
          "model_module": "@jupyter-widgets/base",
          "model_module_version": "1.2.0",
          "model_name": "LayoutModel",
          "state": {
            "_model_module": "@jupyter-widgets/base",
            "_model_module_version": "1.2.0",
            "_model_name": "LayoutModel",
            "_view_count": null,
            "_view_module": "@jupyter-widgets/base",
            "_view_module_version": "1.2.0",
            "_view_name": "LayoutView",
            "align_content": null,
            "align_items": null,
            "align_self": null,
            "border": null,
            "bottom": null,
            "display": null,
            "flex": null,
            "flex_flow": null,
            "grid_area": null,
            "grid_auto_columns": null,
            "grid_auto_flow": null,
            "grid_auto_rows": null,
            "grid_column": null,
            "grid_gap": null,
            "grid_row": null,
            "grid_template_areas": null,
            "grid_template_columns": null,
            "grid_template_rows": null,
            "height": null,
            "justify_content": null,
            "justify_items": null,
            "left": null,
            "margin": null,
            "max_height": null,
            "max_width": null,
            "min_height": null,
            "min_width": null,
            "object_fit": null,
            "object_position": null,
            "order": null,
            "overflow": null,
            "overflow_x": null,
            "overflow_y": null,
            "padding": null,
            "right": null,
            "top": null,
            "visibility": null,
            "width": null
          }
        },
        "6a27e9bfcf78477394ed7fdabd38c1a5": {
          "model_module": "@jupyter-widgets/controls",
          "model_module_version": "1.5.0",
          "model_name": "VBoxModel",
          "state": {
            "_dom_classes": [],
            "_model_module": "@jupyter-widgets/controls",
            "_model_module_version": "1.5.0",
            "_model_name": "VBoxModel",
            "_view_count": null,
            "_view_module": "@jupyter-widgets/controls",
            "_view_module_version": "1.5.0",
            "_view_name": "VBoxView",
            "box_style": "",
            "children": [
              "IPY_MODEL_291ee187e6a04e239b0558f81b6c77f2",
              "IPY_MODEL_ee9f7097537144d789992bdc0f7ffc97",
              "IPY_MODEL_07d17d398bc74ac0bbcab21d0314fd4c",
              "IPY_MODEL_591d13984ad042cc9d5882cf2dd227fa",
              "IPY_MODEL_91eecbd3273047ee873ad3cd7819ed01"
            ],
            "layout": "IPY_MODEL_1011ff8f5e374e4a9af080782789ad9e"
          }
        },
        "6da8d73237f14a7e84d9dff0106a82fa": {
          "model_module": "@jupyter-widgets/base",
          "model_module_version": "1.2.0",
          "model_name": "LayoutModel",
          "state": {
            "_model_module": "@jupyter-widgets/base",
            "_model_module_version": "1.2.0",
            "_model_name": "LayoutModel",
            "_view_count": null,
            "_view_module": "@jupyter-widgets/base",
            "_view_module_version": "1.2.0",
            "_view_name": "LayoutView",
            "align_content": null,
            "align_items": null,
            "align_self": null,
            "border": null,
            "bottom": null,
            "display": null,
            "flex": null,
            "flex_flow": null,
            "grid_area": null,
            "grid_auto_columns": null,
            "grid_auto_flow": null,
            "grid_auto_rows": null,
            "grid_column": null,
            "grid_gap": null,
            "grid_row": null,
            "grid_template_areas": null,
            "grid_template_columns": null,
            "grid_template_rows": null,
            "height": null,
            "justify_content": null,
            "justify_items": null,
            "left": null,
            "margin": null,
            "max_height": null,
            "max_width": null,
            "min_height": null,
            "min_width": null,
            "object_fit": null,
            "object_position": null,
            "order": null,
            "overflow": null,
            "overflow_x": null,
            "overflow_y": null,
            "padding": null,
            "right": null,
            "top": null,
            "visibility": null,
            "width": null
          }
        },
        "6f60ee07dfc545e596c5b5c8fc9e8318": {
          "model_module": "@jupyter-widgets/base",
          "model_module_version": "1.2.0",
          "model_name": "LayoutModel",
          "state": {
            "_model_module": "@jupyter-widgets/base",
            "_model_module_version": "1.2.0",
            "_model_name": "LayoutModel",
            "_view_count": null,
            "_view_module": "@jupyter-widgets/base",
            "_view_module_version": "1.2.0",
            "_view_name": "LayoutView",
            "align_content": null,
            "align_items": null,
            "align_self": null,
            "border": null,
            "bottom": null,
            "display": null,
            "flex": null,
            "flex_flow": null,
            "grid_area": null,
            "grid_auto_columns": null,
            "grid_auto_flow": null,
            "grid_auto_rows": null,
            "grid_column": null,
            "grid_gap": null,
            "grid_row": null,
            "grid_template_areas": null,
            "grid_template_columns": null,
            "grid_template_rows": null,
            "height": null,
            "justify_content": null,
            "justify_items": null,
            "left": null,
            "margin": null,
            "max_height": null,
            "max_width": null,
            "min_height": null,
            "min_width": null,
            "object_fit": null,
            "object_position": null,
            "order": null,
            "overflow": null,
            "overflow_x": null,
            "overflow_y": null,
            "padding": null,
            "right": null,
            "top": null,
            "visibility": null,
            "width": null
          }
        },
        "714f2514028b4f5688ce45bdd96e0a84": {
          "model_module": "@jupyter-widgets/base",
          "model_module_version": "1.2.0",
          "model_name": "LayoutModel",
          "state": {
            "_model_module": "@jupyter-widgets/base",
            "_model_module_version": "1.2.0",
            "_model_name": "LayoutModel",
            "_view_count": null,
            "_view_module": "@jupyter-widgets/base",
            "_view_module_version": "1.2.0",
            "_view_name": "LayoutView",
            "align_content": null,
            "align_items": null,
            "align_self": null,
            "border": null,
            "bottom": null,
            "display": null,
            "flex": null,
            "flex_flow": null,
            "grid_area": null,
            "grid_auto_columns": null,
            "grid_auto_flow": null,
            "grid_auto_rows": null,
            "grid_column": null,
            "grid_gap": null,
            "grid_row": null,
            "grid_template_areas": null,
            "grid_template_columns": null,
            "grid_template_rows": null,
            "height": null,
            "justify_content": null,
            "justify_items": null,
            "left": null,
            "margin": null,
            "max_height": null,
            "max_width": null,
            "min_height": null,
            "min_width": null,
            "object_fit": null,
            "object_position": null,
            "order": null,
            "overflow": null,
            "overflow_x": null,
            "overflow_y": null,
            "padding": null,
            "right": null,
            "top": null,
            "visibility": null,
            "width": null
          }
        },
        "760eae6e0cb945fdab945bcd9d7fb563": {
          "model_module": "@jupyter-widgets/controls",
          "model_module_version": "1.5.0",
          "model_name": "ProgressStyleModel",
          "state": {
            "_model_module": "@jupyter-widgets/controls",
            "_model_module_version": "1.5.0",
            "_model_name": "ProgressStyleModel",
            "_view_count": null,
            "_view_module": "@jupyter-widgets/base",
            "_view_module_version": "1.2.0",
            "_view_name": "StyleView",
            "bar_color": null,
            "description_width": ""
          }
        },
        "763cc5938b594e0c87514118cda101b4": {
          "model_module": "@jupyter-widgets/controls",
          "model_module_version": "1.5.0",
          "model_name": "HBoxModel",
          "state": {
            "_dom_classes": [],
            "_model_module": "@jupyter-widgets/controls",
            "_model_module_version": "1.5.0",
            "_model_name": "HBoxModel",
            "_view_count": null,
            "_view_module": "@jupyter-widgets/controls",
            "_view_module_version": "1.5.0",
            "_view_name": "HBoxView",
            "box_style": "",
            "children": [
              "IPY_MODEL_03b890442ce149d1b984852fd7ebc770",
              "IPY_MODEL_5c9ce46c48c94aed98be9a00e4dcea44",
              "IPY_MODEL_fd82cf3bd2534a3cb7fbf97a87ee1c5a"
            ],
            "layout": "IPY_MODEL_40c3d28c4cdb4cb0a399e1fac6eb913c"
          }
        },
        "770c51d3983443c7ae86c8c66e2b14ad": {
          "model_module": "@jupyter-widgets/controls",
          "model_module_version": "1.5.0",
          "model_name": "DescriptionStyleModel",
          "state": {
            "_model_module": "@jupyter-widgets/controls",
            "_model_module_version": "1.5.0",
            "_model_name": "DescriptionStyleModel",
            "_view_count": null,
            "_view_module": "@jupyter-widgets/base",
            "_view_module_version": "1.2.0",
            "_view_name": "StyleView",
            "description_width": ""
          }
        },
        "775031e84eb54b639e30bd85308b4b7c": {
          "model_module": "@jupyter-widgets/controls",
          "model_module_version": "1.5.0",
          "model_name": "DescriptionStyleModel",
          "state": {
            "_model_module": "@jupyter-widgets/controls",
            "_model_module_version": "1.5.0",
            "_model_name": "DescriptionStyleModel",
            "_view_count": null,
            "_view_module": "@jupyter-widgets/base",
            "_view_module_version": "1.2.0",
            "_view_name": "StyleView",
            "description_width": ""
          }
        },
        "78ca1366df9b490c99b180ac619c65d9": {
          "model_module": "@jupyter-widgets/controls",
          "model_module_version": "1.5.0",
          "model_name": "HBoxModel",
          "state": {
            "_dom_classes": [],
            "_model_module": "@jupyter-widgets/controls",
            "_model_module_version": "1.5.0",
            "_model_name": "HBoxModel",
            "_view_count": null,
            "_view_module": "@jupyter-widgets/controls",
            "_view_module_version": "1.5.0",
            "_view_name": "HBoxView",
            "box_style": "",
            "children": [
              "IPY_MODEL_c685bd8990d44322ab80effa4bfdb785",
              "IPY_MODEL_3767ee57e4d54edb9e832d40b053d976",
              "IPY_MODEL_a28940eb17104d08a7180054c0daa6c6"
            ],
            "layout": "IPY_MODEL_ca616d7c7134472387ec712c27d1b7b0"
          }
        },
        "7aa142d78e684e6fb74511f7c5e3faa1": {
          "model_module": "@jupyter-widgets/base",
          "model_module_version": "1.2.0",
          "model_name": "LayoutModel",
          "state": {
            "_model_module": "@jupyter-widgets/base",
            "_model_module_version": "1.2.0",
            "_model_name": "LayoutModel",
            "_view_count": null,
            "_view_module": "@jupyter-widgets/base",
            "_view_module_version": "1.2.0",
            "_view_name": "LayoutView",
            "align_content": null,
            "align_items": null,
            "align_self": null,
            "border": null,
            "bottom": null,
            "display": null,
            "flex": null,
            "flex_flow": null,
            "grid_area": null,
            "grid_auto_columns": null,
            "grid_auto_flow": null,
            "grid_auto_rows": null,
            "grid_column": null,
            "grid_gap": null,
            "grid_row": null,
            "grid_template_areas": null,
            "grid_template_columns": null,
            "grid_template_rows": null,
            "height": null,
            "justify_content": null,
            "justify_items": null,
            "left": null,
            "margin": null,
            "max_height": null,
            "max_width": null,
            "min_height": null,
            "min_width": null,
            "object_fit": null,
            "object_position": null,
            "order": null,
            "overflow": null,
            "overflow_x": null,
            "overflow_y": null,
            "padding": null,
            "right": null,
            "top": null,
            "visibility": "hidden",
            "width": null
          }
        },
        "7db8febee3a64b5a82cf7d3c5cacd78f": {
          "model_module": "@jupyter-widgets/controls",
          "model_module_version": "1.5.0",
          "model_name": "ProgressStyleModel",
          "state": {
            "_model_module": "@jupyter-widgets/controls",
            "_model_module_version": "1.5.0",
            "_model_name": "ProgressStyleModel",
            "_view_count": null,
            "_view_module": "@jupyter-widgets/base",
            "_view_module_version": "1.2.0",
            "_view_name": "StyleView",
            "bar_color": null,
            "description_width": ""
          }
        },
        "7e0d251758604fbf92282d54b8be4df6": {
          "model_module": "@jupyter-widgets/controls",
          "model_module_version": "1.5.0",
          "model_name": "HBoxModel",
          "state": {
            "_dom_classes": [],
            "_model_module": "@jupyter-widgets/controls",
            "_model_module_version": "1.5.0",
            "_model_name": "HBoxModel",
            "_view_count": null,
            "_view_module": "@jupyter-widgets/controls",
            "_view_module_version": "1.5.0",
            "_view_name": "HBoxView",
            "box_style": "",
            "children": [
              "IPY_MODEL_df199c2c489c480481423f3aefa817e7",
              "IPY_MODEL_52a2243f552d4f1c86317b966dd47af5",
              "IPY_MODEL_41346088ef914034b9e9f7c99883bd0a"
            ],
            "layout": "IPY_MODEL_61923679d69b483382947072befcbb6e"
          }
        },
        "877b19aca9c548b5abba12285c3fea30": {
          "model_module": "@jupyter-widgets/controls",
          "model_module_version": "1.5.0",
          "model_name": "DescriptionStyleModel",
          "state": {
            "_model_module": "@jupyter-widgets/controls",
            "_model_module_version": "1.5.0",
            "_model_name": "DescriptionStyleModel",
            "_view_count": null,
            "_view_module": "@jupyter-widgets/base",
            "_view_module_version": "1.2.0",
            "_view_name": "StyleView",
            "description_width": ""
          }
        },
        "884f35bf85224d539e6caefd6ec0d17a": {
          "model_module": "@jupyter-widgets/controls",
          "model_module_version": "1.5.0",
          "model_name": "FloatProgressModel",
          "state": {
            "_dom_classes": [],
            "_model_module": "@jupyter-widgets/controls",
            "_model_module_version": "1.5.0",
            "_model_name": "FloatProgressModel",
            "_view_count": null,
            "_view_module": "@jupyter-widgets/controls",
            "_view_module_version": "1.5.0",
            "_view_name": "ProgressView",
            "bar_style": "",
            "description": "",
            "description_tooltip": null,
            "layout": "IPY_MODEL_f25af294ab034ab4bb7fdd82939c264a",
            "max": 16506,
            "min": 0,
            "orientation": "horizontal",
            "style": "IPY_MODEL_290bc5d5a231428b96ef4c591ec06b58",
            "value": 16506
          }
        },
        "8ca31299db9b4fbe997ba64023e9462a": {
          "model_module": "@jupyter-widgets/base",
          "model_module_version": "1.2.0",
          "model_name": "LayoutModel",
          "state": {
            "_model_module": "@jupyter-widgets/base",
            "_model_module_version": "1.2.0",
            "_model_name": "LayoutModel",
            "_view_count": null,
            "_view_module": "@jupyter-widgets/base",
            "_view_module_version": "1.2.0",
            "_view_name": "LayoutView",
            "align_content": null,
            "align_items": null,
            "align_self": null,
            "border": null,
            "bottom": null,
            "display": null,
            "flex": null,
            "flex_flow": null,
            "grid_area": null,
            "grid_auto_columns": null,
            "grid_auto_flow": null,
            "grid_auto_rows": null,
            "grid_column": null,
            "grid_gap": null,
            "grid_row": null,
            "grid_template_areas": null,
            "grid_template_columns": null,
            "grid_template_rows": null,
            "height": null,
            "justify_content": null,
            "justify_items": null,
            "left": null,
            "margin": null,
            "max_height": null,
            "max_width": null,
            "min_height": null,
            "min_width": null,
            "object_fit": null,
            "object_position": null,
            "order": null,
            "overflow": null,
            "overflow_x": null,
            "overflow_y": null,
            "padding": null,
            "right": null,
            "top": null,
            "visibility": null,
            "width": null
          }
        },
        "8db6d487fe20466ab8e47f1d8ed138ce": {
          "model_module": "@jupyter-widgets/controls",
          "model_module_version": "1.5.0",
          "model_name": "DescriptionStyleModel",
          "state": {
            "_model_module": "@jupyter-widgets/controls",
            "_model_module_version": "1.5.0",
            "_model_name": "DescriptionStyleModel",
            "_view_count": null,
            "_view_module": "@jupyter-widgets/base",
            "_view_module_version": "1.2.0",
            "_view_name": "StyleView",
            "description_width": ""
          }
        },
        "8dbc9d51708a4c6286fbece7f4b0cf6b": {
          "model_module": "@jupyter-widgets/controls",
          "model_module_version": "1.5.0",
          "model_name": "HTMLModel",
          "state": {
            "_dom_classes": [],
            "_model_module": "@jupyter-widgets/controls",
            "_model_module_version": "1.5.0",
            "_model_name": "HTMLModel",
            "_view_count": null,
            "_view_module": "@jupyter-widgets/controls",
            "_view_module_version": "1.5.0",
            "_view_name": "HTMLView",
            "description": "",
            "description_tooltip": null,
            "layout": "IPY_MODEL_fc5c875c59f84b7ba2acc45cad6252b7",
            "placeholder": "​",
            "style": "IPY_MODEL_59d379492cc444f5871034360dca2048",
            "value": " 30708/30708 [00:05&lt;00:00, 5200.65 examples/s]"
          }
        },
        "8dbd9c22ddca4d19afcb596390ef8240": {
          "model_module": "@jupyter-widgets/controls",
          "model_module_version": "1.5.0",
          "model_name": "DescriptionStyleModel",
          "state": {
            "_model_module": "@jupyter-widgets/controls",
            "_model_module_version": "1.5.0",
            "_model_name": "DescriptionStyleModel",
            "_view_count": null,
            "_view_module": "@jupyter-widgets/base",
            "_view_module_version": "1.2.0",
            "_view_name": "StyleView",
            "description_width": ""
          }
        },
        "8ee6af9b0dfa4f57b5adbf5e0da863b9": {
          "model_module": "@jupyter-widgets/base",
          "model_module_version": "1.2.0",
          "model_name": "LayoutModel",
          "state": {
            "_model_module": "@jupyter-widgets/base",
            "_model_module_version": "1.2.0",
            "_model_name": "LayoutModel",
            "_view_count": null,
            "_view_module": "@jupyter-widgets/base",
            "_view_module_version": "1.2.0",
            "_view_name": "LayoutView",
            "align_content": null,
            "align_items": null,
            "align_self": null,
            "border": null,
            "bottom": null,
            "display": null,
            "flex": null,
            "flex_flow": null,
            "grid_area": null,
            "grid_auto_columns": null,
            "grid_auto_flow": null,
            "grid_auto_rows": null,
            "grid_column": null,
            "grid_gap": null,
            "grid_row": null,
            "grid_template_areas": null,
            "grid_template_columns": null,
            "grid_template_rows": null,
            "height": null,
            "justify_content": null,
            "justify_items": null,
            "left": null,
            "margin": null,
            "max_height": null,
            "max_width": null,
            "min_height": null,
            "min_width": null,
            "object_fit": null,
            "object_position": null,
            "order": null,
            "overflow": null,
            "overflow_x": null,
            "overflow_y": null,
            "padding": null,
            "right": null,
            "top": null,
            "visibility": null,
            "width": null
          }
        },
        "90697d0e5ff04e339e6f760c905d13cb": {
          "model_module": "@jupyter-widgets/base",
          "model_module_version": "1.2.0",
          "model_name": "LayoutModel",
          "state": {
            "_model_module": "@jupyter-widgets/base",
            "_model_module_version": "1.2.0",
            "_model_name": "LayoutModel",
            "_view_count": null,
            "_view_module": "@jupyter-widgets/base",
            "_view_module_version": "1.2.0",
            "_view_name": "LayoutView",
            "align_content": null,
            "align_items": null,
            "align_self": null,
            "border": null,
            "bottom": null,
            "display": null,
            "flex": null,
            "flex_flow": null,
            "grid_area": null,
            "grid_auto_columns": null,
            "grid_auto_flow": null,
            "grid_auto_rows": null,
            "grid_column": null,
            "grid_gap": null,
            "grid_row": null,
            "grid_template_areas": null,
            "grid_template_columns": null,
            "grid_template_rows": null,
            "height": null,
            "justify_content": null,
            "justify_items": null,
            "left": null,
            "margin": null,
            "max_height": null,
            "max_width": null,
            "min_height": null,
            "min_width": null,
            "object_fit": null,
            "object_position": null,
            "order": null,
            "overflow": null,
            "overflow_x": null,
            "overflow_y": null,
            "padding": null,
            "right": null,
            "top": null,
            "visibility": null,
            "width": null
          }
        },
        "91eecbd3273047ee873ad3cd7819ed01": {
          "model_module": "@jupyter-widgets/controls",
          "model_module_version": "1.5.0",
          "model_name": "HTMLModel",
          "state": {
            "_dom_classes": [],
            "_model_module": "@jupyter-widgets/controls",
            "_model_module_version": "1.5.0",
            "_model_name": "HTMLModel",
            "_view_count": null,
            "_view_module": "@jupyter-widgets/controls",
            "_view_module_version": "1.5.0",
            "_view_name": "HTMLView",
            "description": "",
            "description_tooltip": null,
            "layout": "IPY_MODEL_c0c96cc17fa044638b34e7bf401e8d71",
            "placeholder": "​",
            "style": "IPY_MODEL_b2244bf62c0b456db29bf1d8f143d7a1",
            "value": "\n<b>Pro Tip:</b> If you don't already have one, you can create a dedicated\n'notebooks' token with 'write' access, that you can then easily reuse for all\nnotebooks. </center>"
          }
        },
        "92e4567dd5b648c6ae67533c9210d72d": {
          "model_module": "@jupyter-widgets/controls",
          "model_module_version": "1.5.0",
          "model_name": "DescriptionStyleModel",
          "state": {
            "_model_module": "@jupyter-widgets/controls",
            "_model_module_version": "1.5.0",
            "_model_name": "DescriptionStyleModel",
            "_view_count": null,
            "_view_module": "@jupyter-widgets/base",
            "_view_module_version": "1.2.0",
            "_view_name": "StyleView",
            "description_width": ""
          }
        },
        "93e4f15aa01f4892926689a3a7b420d8": {
          "model_module": "@jupyter-widgets/base",
          "model_module_version": "1.2.0",
          "model_name": "LayoutModel",
          "state": {
            "_model_module": "@jupyter-widgets/base",
            "_model_module_version": "1.2.0",
            "_model_name": "LayoutModel",
            "_view_count": null,
            "_view_module": "@jupyter-widgets/base",
            "_view_module_version": "1.2.0",
            "_view_name": "LayoutView",
            "align_content": null,
            "align_items": null,
            "align_self": null,
            "border": null,
            "bottom": null,
            "display": null,
            "flex": null,
            "flex_flow": null,
            "grid_area": null,
            "grid_auto_columns": null,
            "grid_auto_flow": null,
            "grid_auto_rows": null,
            "grid_column": null,
            "grid_gap": null,
            "grid_row": null,
            "grid_template_areas": null,
            "grid_template_columns": null,
            "grid_template_rows": null,
            "height": null,
            "justify_content": null,
            "justify_items": null,
            "left": null,
            "margin": null,
            "max_height": null,
            "max_width": null,
            "min_height": null,
            "min_width": null,
            "object_fit": null,
            "object_position": null,
            "order": null,
            "overflow": null,
            "overflow_x": null,
            "overflow_y": null,
            "padding": null,
            "right": null,
            "top": null,
            "visibility": null,
            "width": null
          }
        },
        "96fab344b404490e8ba8ad3a28a053a1": {
          "model_module": "@jupyter-widgets/base",
          "model_module_version": "1.2.0",
          "model_name": "LayoutModel",
          "state": {
            "_model_module": "@jupyter-widgets/base",
            "_model_module_version": "1.2.0",
            "_model_name": "LayoutModel",
            "_view_count": null,
            "_view_module": "@jupyter-widgets/base",
            "_view_module_version": "1.2.0",
            "_view_name": "LayoutView",
            "align_content": null,
            "align_items": null,
            "align_self": null,
            "border": null,
            "bottom": null,
            "display": null,
            "flex": null,
            "flex_flow": null,
            "grid_area": null,
            "grid_auto_columns": null,
            "grid_auto_flow": null,
            "grid_auto_rows": null,
            "grid_column": null,
            "grid_gap": null,
            "grid_row": null,
            "grid_template_areas": null,
            "grid_template_columns": null,
            "grid_template_rows": null,
            "height": null,
            "justify_content": null,
            "justify_items": null,
            "left": null,
            "margin": null,
            "max_height": null,
            "max_width": null,
            "min_height": null,
            "min_width": null,
            "object_fit": null,
            "object_position": null,
            "order": null,
            "overflow": null,
            "overflow_x": null,
            "overflow_y": null,
            "padding": null,
            "right": null,
            "top": null,
            "visibility": null,
            "width": null
          }
        },
        "9b1017040d6b4a1fbe8fbc7dd072b006": {
          "model_module": "@jupyter-widgets/controls",
          "model_module_version": "1.5.0",
          "model_name": "DescriptionStyleModel",
          "state": {
            "_model_module": "@jupyter-widgets/controls",
            "_model_module_version": "1.5.0",
            "_model_name": "DescriptionStyleModel",
            "_view_count": null,
            "_view_module": "@jupyter-widgets/base",
            "_view_module_version": "1.2.0",
            "_view_name": "StyleView",
            "description_width": ""
          }
        },
        "a28940eb17104d08a7180054c0daa6c6": {
          "model_module": "@jupyter-widgets/controls",
          "model_module_version": "1.5.0",
          "model_name": "HTMLModel",
          "state": {
            "_dom_classes": [],
            "_model_module": "@jupyter-widgets/controls",
            "_model_module_version": "1.5.0",
            "_model_name": "HTMLModel",
            "_view_count": null,
            "_view_module": "@jupyter-widgets/controls",
            "_view_module_version": "1.5.0",
            "_view_name": "HTMLView",
            "description": "",
            "description_tooltip": null,
            "layout": "IPY_MODEL_96fab344b404490e8ba8ad3a28a053a1",
            "placeholder": "​",
            "style": "IPY_MODEL_b3b1d3702b3848038f8c5b0e4518405c",
            "value": " 7946/7946 [00:00&lt;00:00, 14830.74 examples/s]"
          }
        },
        "a2f3bbee3afb423f90ef7030aa4dce74": {
          "model_module": "@jupyter-widgets/base",
          "model_module_version": "1.2.0",
          "model_name": "LayoutModel",
          "state": {
            "_model_module": "@jupyter-widgets/base",
            "_model_module_version": "1.2.0",
            "_model_name": "LayoutModel",
            "_view_count": null,
            "_view_module": "@jupyter-widgets/base",
            "_view_module_version": "1.2.0",
            "_view_name": "LayoutView",
            "align_content": null,
            "align_items": null,
            "align_self": null,
            "border": null,
            "bottom": null,
            "display": null,
            "flex": null,
            "flex_flow": null,
            "grid_area": null,
            "grid_auto_columns": null,
            "grid_auto_flow": null,
            "grid_auto_rows": null,
            "grid_column": null,
            "grid_gap": null,
            "grid_row": null,
            "grid_template_areas": null,
            "grid_template_columns": null,
            "grid_template_rows": null,
            "height": null,
            "justify_content": null,
            "justify_items": null,
            "left": null,
            "margin": null,
            "max_height": null,
            "max_width": null,
            "min_height": null,
            "min_width": null,
            "object_fit": null,
            "object_position": null,
            "order": null,
            "overflow": null,
            "overflow_x": null,
            "overflow_y": null,
            "padding": null,
            "right": null,
            "top": null,
            "visibility": null,
            "width": null
          }
        },
        "a316c514939b4e19b7285dc6d86a2ab6": {
          "model_module": "@jupyter-widgets/controls",
          "model_module_version": "1.5.0",
          "model_name": "HTMLModel",
          "state": {
            "_dom_classes": [],
            "_model_module": "@jupyter-widgets/controls",
            "_model_module_version": "1.5.0",
            "_model_name": "HTMLModel",
            "_view_count": null,
            "_view_module": "@jupyter-widgets/controls",
            "_view_module_version": "1.5.0",
            "_view_name": "HTMLView",
            "description": "",
            "description_tooltip": null,
            "layout": "IPY_MODEL_90697d0e5ff04e339e6f760c905d13cb",
            "placeholder": "​",
            "style": "IPY_MODEL_aa5cf005c15a42a58f76ace905da57de",
            "value": "Map: 100%"
          }
        },
        "a439b8eeae234a18abfec5449635ece7": {
          "model_module": "@jupyter-widgets/base",
          "model_module_version": "1.2.0",
          "model_name": "LayoutModel",
          "state": {
            "_model_module": "@jupyter-widgets/base",
            "_model_module_version": "1.2.0",
            "_model_name": "LayoutModel",
            "_view_count": null,
            "_view_module": "@jupyter-widgets/base",
            "_view_module_version": "1.2.0",
            "_view_name": "LayoutView",
            "align_content": null,
            "align_items": null,
            "align_self": null,
            "border": null,
            "bottom": null,
            "display": null,
            "flex": null,
            "flex_flow": null,
            "grid_area": null,
            "grid_auto_columns": null,
            "grid_auto_flow": null,
            "grid_auto_rows": null,
            "grid_column": null,
            "grid_gap": null,
            "grid_row": null,
            "grid_template_areas": null,
            "grid_template_columns": null,
            "grid_template_rows": null,
            "height": null,
            "justify_content": null,
            "justify_items": null,
            "left": null,
            "margin": null,
            "max_height": null,
            "max_width": null,
            "min_height": null,
            "min_width": null,
            "object_fit": null,
            "object_position": null,
            "order": null,
            "overflow": null,
            "overflow_x": null,
            "overflow_y": null,
            "padding": null,
            "right": null,
            "top": null,
            "visibility": null,
            "width": null
          }
        },
        "a50549e49d0449f1bbec8657f8b8cff4": {
          "model_module": "@jupyter-widgets/base",
          "model_module_version": "1.2.0",
          "model_name": "LayoutModel",
          "state": {
            "_model_module": "@jupyter-widgets/base",
            "_model_module_version": "1.2.0",
            "_model_name": "LayoutModel",
            "_view_count": null,
            "_view_module": "@jupyter-widgets/base",
            "_view_module_version": "1.2.0",
            "_view_name": "LayoutView",
            "align_content": null,
            "align_items": null,
            "align_self": null,
            "border": null,
            "bottom": null,
            "display": null,
            "flex": null,
            "flex_flow": null,
            "grid_area": null,
            "grid_auto_columns": null,
            "grid_auto_flow": null,
            "grid_auto_rows": null,
            "grid_column": null,
            "grid_gap": null,
            "grid_row": null,
            "grid_template_areas": null,
            "grid_template_columns": null,
            "grid_template_rows": null,
            "height": null,
            "justify_content": null,
            "justify_items": null,
            "left": null,
            "margin": null,
            "max_height": null,
            "max_width": null,
            "min_height": null,
            "min_width": null,
            "object_fit": null,
            "object_position": null,
            "order": null,
            "overflow": null,
            "overflow_x": null,
            "overflow_y": null,
            "padding": null,
            "right": null,
            "top": null,
            "visibility": null,
            "width": null
          }
        },
        "a5618ffdd01d4f6ea3333e54d8cd17c2": {
          "model_module": "@jupyter-widgets/base",
          "model_module_version": "1.2.0",
          "model_name": "LayoutModel",
          "state": {
            "_model_module": "@jupyter-widgets/base",
            "_model_module_version": "1.2.0",
            "_model_name": "LayoutModel",
            "_view_count": null,
            "_view_module": "@jupyter-widgets/base",
            "_view_module_version": "1.2.0",
            "_view_name": "LayoutView",
            "align_content": null,
            "align_items": null,
            "align_self": null,
            "border": null,
            "bottom": null,
            "display": null,
            "flex": null,
            "flex_flow": null,
            "grid_area": null,
            "grid_auto_columns": null,
            "grid_auto_flow": null,
            "grid_auto_rows": null,
            "grid_column": null,
            "grid_gap": null,
            "grid_row": null,
            "grid_template_areas": null,
            "grid_template_columns": null,
            "grid_template_rows": null,
            "height": null,
            "justify_content": null,
            "justify_items": null,
            "left": null,
            "margin": null,
            "max_height": null,
            "max_width": null,
            "min_height": null,
            "min_width": null,
            "object_fit": null,
            "object_position": null,
            "order": null,
            "overflow": null,
            "overflow_x": null,
            "overflow_y": null,
            "padding": null,
            "right": null,
            "top": null,
            "visibility": null,
            "width": null
          }
        },
        "a61ed47255644fa8a6b81472e6a915e5": {
          "model_module": "@jupyter-widgets/controls",
          "model_module_version": "1.5.0",
          "model_name": "HTMLModel",
          "state": {
            "_dom_classes": [],
            "_model_module": "@jupyter-widgets/controls",
            "_model_module_version": "1.5.0",
            "_model_name": "HTMLModel",
            "_view_count": null,
            "_view_module": "@jupyter-widgets/controls",
            "_view_module_version": "1.5.0",
            "_view_name": "HTMLView",
            "description": "",
            "description_tooltip": null,
            "layout": "IPY_MODEL_6da8d73237f14a7e84d9dff0106a82fa",
            "placeholder": "​",
            "style": "IPY_MODEL_92e4567dd5b648c6ae67533c9210d72d",
            "value": " 28/28 [00:00&lt;00:00, 78.53it/s]"
          }
        },
        "a8bfe019da65467c9ed8d7eecb8485d7": {
          "model_module": "@jupyter-widgets/controls",
          "model_module_version": "1.5.0",
          "model_name": "DescriptionStyleModel",
          "state": {
            "_model_module": "@jupyter-widgets/controls",
            "_model_module_version": "1.5.0",
            "_model_name": "DescriptionStyleModel",
            "_view_count": null,
            "_view_module": "@jupyter-widgets/base",
            "_view_module_version": "1.2.0",
            "_view_name": "StyleView",
            "description_width": ""
          }
        },
        "a9cdb16d85d64cb7be010468f72fe236": {
          "model_module": "@jupyter-widgets/controls",
          "model_module_version": "1.5.0",
          "model_name": "DescriptionStyleModel",
          "state": {
            "_model_module": "@jupyter-widgets/controls",
            "_model_module_version": "1.5.0",
            "_model_name": "DescriptionStyleModel",
            "_view_count": null,
            "_view_module": "@jupyter-widgets/base",
            "_view_module_version": "1.2.0",
            "_view_name": "StyleView",
            "description_width": ""
          }
        },
        "aa5cf005c15a42a58f76ace905da57de": {
          "model_module": "@jupyter-widgets/controls",
          "model_module_version": "1.5.0",
          "model_name": "DescriptionStyleModel",
          "state": {
            "_model_module": "@jupyter-widgets/controls",
            "_model_module_version": "1.5.0",
            "_model_name": "DescriptionStyleModel",
            "_view_count": null,
            "_view_module": "@jupyter-widgets/base",
            "_view_module_version": "1.2.0",
            "_view_name": "StyleView",
            "description_width": ""
          }
        },
        "ac7b2470047a4b7c895858d8a1dfb7d6": {
          "model_module": "@jupyter-widgets/base",
          "model_module_version": "1.2.0",
          "model_name": "LayoutModel",
          "state": {
            "_model_module": "@jupyter-widgets/base",
            "_model_module_version": "1.2.0",
            "_model_name": "LayoutModel",
            "_view_count": null,
            "_view_module": "@jupyter-widgets/base",
            "_view_module_version": "1.2.0",
            "_view_name": "LayoutView",
            "align_content": null,
            "align_items": null,
            "align_self": null,
            "border": null,
            "bottom": null,
            "display": null,
            "flex": null,
            "flex_flow": null,
            "grid_area": null,
            "grid_auto_columns": null,
            "grid_auto_flow": null,
            "grid_auto_rows": null,
            "grid_column": null,
            "grid_gap": null,
            "grid_row": null,
            "grid_template_areas": null,
            "grid_template_columns": null,
            "grid_template_rows": null,
            "height": null,
            "justify_content": null,
            "justify_items": null,
            "left": null,
            "margin": null,
            "max_height": null,
            "max_width": null,
            "min_height": null,
            "min_width": null,
            "object_fit": null,
            "object_position": null,
            "order": null,
            "overflow": null,
            "overflow_x": null,
            "overflow_y": null,
            "padding": null,
            "right": null,
            "top": null,
            "visibility": null,
            "width": null
          }
        },
        "addd9e00152f45bca41c2a20f7660e7b": {
          "model_module": "@jupyter-widgets/controls",
          "model_module_version": "1.5.0",
          "model_name": "HBoxModel",
          "state": {
            "_dom_classes": [],
            "_model_module": "@jupyter-widgets/controls",
            "_model_module_version": "1.5.0",
            "_model_name": "HBoxModel",
            "_view_count": null,
            "_view_module": "@jupyter-widgets/controls",
            "_view_module_version": "1.5.0",
            "_view_name": "HBoxView",
            "box_style": "",
            "children": [
              "IPY_MODEL_f8a680d0473949ed93cd97bd9d5f5873",
              "IPY_MODEL_4797d4436348499981b60d9813671905",
              "IPY_MODEL_a61ed47255644fa8a6b81472e6a915e5"
            ],
            "layout": "IPY_MODEL_a5618ffdd01d4f6ea3333e54d8cd17c2"
          }
        },
        "ae25f16f50394b90a7ac66559392586d": {
          "model_module": "@jupyter-widgets/controls",
          "model_module_version": "1.5.0",
          "model_name": "HTMLModel",
          "state": {
            "_dom_classes": [],
            "_model_module": "@jupyter-widgets/controls",
            "_model_module_version": "1.5.0",
            "_model_name": "HTMLModel",
            "_view_count": null,
            "_view_module": "@jupyter-widgets/controls",
            "_view_module_version": "1.5.0",
            "_view_name": "HTMLView",
            "description": "",
            "description_tooltip": null,
            "layout": "IPY_MODEL_69570c24726140aa8c3b0865fa0759fb",
            "placeholder": "​",
            "style": "IPY_MODEL_a9cdb16d85d64cb7be010468f72fe236",
            "value": "Map: 100%"
          }
        },
        "ae8cd8923e2e486eb67a6b46c8654b3f": {
          "model_module": "@jupyter-widgets/controls",
          "model_module_version": "1.5.0",
          "model_name": "DescriptionStyleModel",
          "state": {
            "_model_module": "@jupyter-widgets/controls",
            "_model_module_version": "1.5.0",
            "_model_name": "DescriptionStyleModel",
            "_view_count": null,
            "_view_module": "@jupyter-widgets/base",
            "_view_module_version": "1.2.0",
            "_view_name": "StyleView",
            "description_width": ""
          }
        },
        "b2244bf62c0b456db29bf1d8f143d7a1": {
          "model_module": "@jupyter-widgets/controls",
          "model_module_version": "1.5.0",
          "model_name": "DescriptionStyleModel",
          "state": {
            "_model_module": "@jupyter-widgets/controls",
            "_model_module_version": "1.5.0",
            "_model_name": "DescriptionStyleModel",
            "_view_count": null,
            "_view_module": "@jupyter-widgets/base",
            "_view_module_version": "1.2.0",
            "_view_name": "StyleView",
            "description_width": ""
          }
        },
        "b263ae1f2db84c6d98bc4963146997c2": {
          "model_module": "@jupyter-widgets/base",
          "model_module_version": "1.2.0",
          "model_name": "LayoutModel",
          "state": {
            "_model_module": "@jupyter-widgets/base",
            "_model_module_version": "1.2.0",
            "_model_name": "LayoutModel",
            "_view_count": null,
            "_view_module": "@jupyter-widgets/base",
            "_view_module_version": "1.2.0",
            "_view_name": "LayoutView",
            "align_content": null,
            "align_items": null,
            "align_self": null,
            "border": null,
            "bottom": null,
            "display": null,
            "flex": null,
            "flex_flow": null,
            "grid_area": null,
            "grid_auto_columns": null,
            "grid_auto_flow": null,
            "grid_auto_rows": null,
            "grid_column": null,
            "grid_gap": null,
            "grid_row": null,
            "grid_template_areas": null,
            "grid_template_columns": null,
            "grid_template_rows": null,
            "height": null,
            "justify_content": null,
            "justify_items": null,
            "left": null,
            "margin": null,
            "max_height": null,
            "max_width": null,
            "min_height": null,
            "min_width": null,
            "object_fit": null,
            "object_position": null,
            "order": null,
            "overflow": null,
            "overflow_x": null,
            "overflow_y": null,
            "padding": null,
            "right": null,
            "top": null,
            "visibility": null,
            "width": null
          }
        },
        "b3b1d3702b3848038f8c5b0e4518405c": {
          "model_module": "@jupyter-widgets/controls",
          "model_module_version": "1.5.0",
          "model_name": "DescriptionStyleModel",
          "state": {
            "_model_module": "@jupyter-widgets/controls",
            "_model_module_version": "1.5.0",
            "_model_name": "DescriptionStyleModel",
            "_view_count": null,
            "_view_module": "@jupyter-widgets/base",
            "_view_module_version": "1.2.0",
            "_view_name": "StyleView",
            "description_width": ""
          }
        },
        "b70a555b41eb46cbaf42470ea8eb3c71": {
          "model_module": "@jupyter-widgets/controls",
          "model_module_version": "1.5.0",
          "model_name": "DescriptionStyleModel",
          "state": {
            "_model_module": "@jupyter-widgets/controls",
            "_model_module_version": "1.5.0",
            "_model_name": "DescriptionStyleModel",
            "_view_count": null,
            "_view_module": "@jupyter-widgets/base",
            "_view_module_version": "1.2.0",
            "_view_name": "StyleView",
            "description_width": ""
          }
        },
        "b9fed0e7adf741949f1719ab80b8fe15": {
          "model_module": "@jupyter-widgets/base",
          "model_module_version": "1.2.0",
          "model_name": "LayoutModel",
          "state": {
            "_model_module": "@jupyter-widgets/base",
            "_model_module_version": "1.2.0",
            "_model_name": "LayoutModel",
            "_view_count": null,
            "_view_module": "@jupyter-widgets/base",
            "_view_module_version": "1.2.0",
            "_view_name": "LayoutView",
            "align_content": null,
            "align_items": null,
            "align_self": null,
            "border": null,
            "bottom": null,
            "display": null,
            "flex": null,
            "flex_flow": null,
            "grid_area": null,
            "grid_auto_columns": null,
            "grid_auto_flow": null,
            "grid_auto_rows": null,
            "grid_column": null,
            "grid_gap": null,
            "grid_row": null,
            "grid_template_areas": null,
            "grid_template_columns": null,
            "grid_template_rows": null,
            "height": null,
            "justify_content": null,
            "justify_items": null,
            "left": null,
            "margin": null,
            "max_height": null,
            "max_width": null,
            "min_height": null,
            "min_width": null,
            "object_fit": null,
            "object_position": null,
            "order": null,
            "overflow": null,
            "overflow_x": null,
            "overflow_y": null,
            "padding": null,
            "right": null,
            "top": null,
            "visibility": null,
            "width": null
          }
        },
        "bab8ddd201f2451eabd0f8ae92faf8c6": {
          "model_module": "@jupyter-widgets/controls",
          "model_module_version": "1.5.0",
          "model_name": "ProgressStyleModel",
          "state": {
            "_model_module": "@jupyter-widgets/controls",
            "_model_module_version": "1.5.0",
            "_model_name": "ProgressStyleModel",
            "_view_count": null,
            "_view_module": "@jupyter-widgets/base",
            "_view_module_version": "1.2.0",
            "_view_name": "StyleView",
            "bar_color": null,
            "description_width": ""
          }
        },
        "bad90619c0e5440a9c88814dd81ea148": {
          "model_module": "@jupyter-widgets/base",
          "model_module_version": "1.2.0",
          "model_name": "LayoutModel",
          "state": {
            "_model_module": "@jupyter-widgets/base",
            "_model_module_version": "1.2.0",
            "_model_name": "LayoutModel",
            "_view_count": null,
            "_view_module": "@jupyter-widgets/base",
            "_view_module_version": "1.2.0",
            "_view_name": "LayoutView",
            "align_content": null,
            "align_items": null,
            "align_self": null,
            "border": null,
            "bottom": null,
            "display": null,
            "flex": null,
            "flex_flow": null,
            "grid_area": null,
            "grid_auto_columns": null,
            "grid_auto_flow": null,
            "grid_auto_rows": null,
            "grid_column": null,
            "grid_gap": null,
            "grid_row": null,
            "grid_template_areas": null,
            "grid_template_columns": null,
            "grid_template_rows": null,
            "height": null,
            "justify_content": null,
            "justify_items": null,
            "left": null,
            "margin": null,
            "max_height": null,
            "max_width": null,
            "min_height": null,
            "min_width": null,
            "object_fit": null,
            "object_position": null,
            "order": null,
            "overflow": null,
            "overflow_x": null,
            "overflow_y": null,
            "padding": null,
            "right": null,
            "top": null,
            "visibility": "hidden",
            "width": null
          }
        },
        "bdaf516f69f34fa881094b1aa01010d9": {
          "model_module": "@jupyter-widgets/base",
          "model_module_version": "1.2.0",
          "model_name": "LayoutModel",
          "state": {
            "_model_module": "@jupyter-widgets/base",
            "_model_module_version": "1.2.0",
            "_model_name": "LayoutModel",
            "_view_count": null,
            "_view_module": "@jupyter-widgets/base",
            "_view_module_version": "1.2.0",
            "_view_name": "LayoutView",
            "align_content": null,
            "align_items": null,
            "align_self": null,
            "border": null,
            "bottom": null,
            "display": null,
            "flex": null,
            "flex_flow": null,
            "grid_area": null,
            "grid_auto_columns": null,
            "grid_auto_flow": null,
            "grid_auto_rows": null,
            "grid_column": null,
            "grid_gap": null,
            "grid_row": null,
            "grid_template_areas": null,
            "grid_template_columns": null,
            "grid_template_rows": null,
            "height": null,
            "justify_content": null,
            "justify_items": null,
            "left": null,
            "margin": null,
            "max_height": null,
            "max_width": null,
            "min_height": null,
            "min_width": null,
            "object_fit": null,
            "object_position": null,
            "order": null,
            "overflow": null,
            "overflow_x": null,
            "overflow_y": null,
            "padding": null,
            "right": null,
            "top": null,
            "visibility": null,
            "width": null
          }
        },
        "c0c96cc17fa044638b34e7bf401e8d71": {
          "model_module": "@jupyter-widgets/base",
          "model_module_version": "1.2.0",
          "model_name": "LayoutModel",
          "state": {
            "_model_module": "@jupyter-widgets/base",
            "_model_module_version": "1.2.0",
            "_model_name": "LayoutModel",
            "_view_count": null,
            "_view_module": "@jupyter-widgets/base",
            "_view_module_version": "1.2.0",
            "_view_name": "LayoutView",
            "align_content": null,
            "align_items": null,
            "align_self": null,
            "border": null,
            "bottom": null,
            "display": null,
            "flex": null,
            "flex_flow": null,
            "grid_area": null,
            "grid_auto_columns": null,
            "grid_auto_flow": null,
            "grid_auto_rows": null,
            "grid_column": null,
            "grid_gap": null,
            "grid_row": null,
            "grid_template_areas": null,
            "grid_template_columns": null,
            "grid_template_rows": null,
            "height": null,
            "justify_content": null,
            "justify_items": null,
            "left": null,
            "margin": null,
            "max_height": null,
            "max_width": null,
            "min_height": null,
            "min_width": null,
            "object_fit": null,
            "object_position": null,
            "order": null,
            "overflow": null,
            "overflow_x": null,
            "overflow_y": null,
            "padding": null,
            "right": null,
            "top": null,
            "visibility": null,
            "width": null
          }
        },
        "c235f05bba9446eb936fe067daa6f781": {
          "model_module": "@jupyter-widgets/controls",
          "model_module_version": "1.5.0",
          "model_name": "HBoxModel",
          "state": {
            "_dom_classes": [],
            "_model_module": "@jupyter-widgets/controls",
            "_model_module_version": "1.5.0",
            "_model_name": "HBoxModel",
            "_view_count": null,
            "_view_module": "@jupyter-widgets/controls",
            "_view_module_version": "1.5.0",
            "_view_name": "HBoxView",
            "box_style": "",
            "children": [
              "IPY_MODEL_a316c514939b4e19b7285dc6d86a2ab6",
              "IPY_MODEL_2fc867f615014955be9d7d1fb0502a37",
              "IPY_MODEL_24839cf6d0b64f7389d9b215c5b12495"
            ],
            "layout": "IPY_MODEL_4b505bba8d7b4deb9e7c6c140a23d1cf"
          }
        },
        "c685bd8990d44322ab80effa4bfdb785": {
          "model_module": "@jupyter-widgets/controls",
          "model_module_version": "1.5.0",
          "model_name": "HTMLModel",
          "state": {
            "_dom_classes": [],
            "_model_module": "@jupyter-widgets/controls",
            "_model_module_version": "1.5.0",
            "_model_name": "HTMLModel",
            "_view_count": null,
            "_view_module": "@jupyter-widgets/controls",
            "_view_module_version": "1.5.0",
            "_view_name": "HTMLView",
            "description": "",
            "description_tooltip": null,
            "layout": "IPY_MODEL_2c745fd839144a81aba59f096a6ec148",
            "placeholder": "​",
            "style": "IPY_MODEL_a8bfe019da65467c9ed8d7eecb8485d7",
            "value": "Map: 100%"
          }
        },
        "c8bbac9297144ba88e35511fc80d7123": {
          "model_module": "@jupyter-widgets/controls",
          "model_module_version": "1.5.0",
          "model_name": "DescriptionStyleModel",
          "state": {
            "_model_module": "@jupyter-widgets/controls",
            "_model_module_version": "1.5.0",
            "_model_name": "DescriptionStyleModel",
            "_view_count": null,
            "_view_module": "@jupyter-widgets/base",
            "_view_module_version": "1.2.0",
            "_view_name": "StyleView",
            "description_width": ""
          }
        },
        "c8feed238fdf4eea9dfe78ecaa65f558": {
          "model_module": "@jupyter-widgets/controls",
          "model_module_version": "1.5.0",
          "model_name": "ProgressStyleModel",
          "state": {
            "_model_module": "@jupyter-widgets/controls",
            "_model_module_version": "1.5.0",
            "_model_name": "ProgressStyleModel",
            "_view_count": null,
            "_view_module": "@jupyter-widgets/base",
            "_view_module_version": "1.2.0",
            "_view_name": "StyleView",
            "bar_color": null,
            "description_width": ""
          }
        },
        "ca616d7c7134472387ec712c27d1b7b0": {
          "model_module": "@jupyter-widgets/base",
          "model_module_version": "1.2.0",
          "model_name": "LayoutModel",
          "state": {
            "_model_module": "@jupyter-widgets/base",
            "_model_module_version": "1.2.0",
            "_model_name": "LayoutModel",
            "_view_count": null,
            "_view_module": "@jupyter-widgets/base",
            "_view_module_version": "1.2.0",
            "_view_name": "LayoutView",
            "align_content": null,
            "align_items": null,
            "align_self": null,
            "border": null,
            "bottom": null,
            "display": null,
            "flex": null,
            "flex_flow": null,
            "grid_area": null,
            "grid_auto_columns": null,
            "grid_auto_flow": null,
            "grid_auto_rows": null,
            "grid_column": null,
            "grid_gap": null,
            "grid_row": null,
            "grid_template_areas": null,
            "grid_template_columns": null,
            "grid_template_rows": null,
            "height": null,
            "justify_content": null,
            "justify_items": null,
            "left": null,
            "margin": null,
            "max_height": null,
            "max_width": null,
            "min_height": null,
            "min_width": null,
            "object_fit": null,
            "object_position": null,
            "order": null,
            "overflow": null,
            "overflow_x": null,
            "overflow_y": null,
            "padding": null,
            "right": null,
            "top": null,
            "visibility": "hidden",
            "width": null
          }
        },
        "cb613102c11b41fb9ec63a709eaa8e9f": {
          "model_module": "@jupyter-widgets/controls",
          "model_module_version": "1.5.0",
          "model_name": "DescriptionStyleModel",
          "state": {
            "_model_module": "@jupyter-widgets/controls",
            "_model_module_version": "1.5.0",
            "_model_name": "DescriptionStyleModel",
            "_view_count": null,
            "_view_module": "@jupyter-widgets/base",
            "_view_module_version": "1.2.0",
            "_view_name": "StyleView",
            "description_width": ""
          }
        },
        "cba819b39b794729977eca2e9396aa3a": {
          "model_module": "@jupyter-widgets/controls",
          "model_module_version": "1.5.0",
          "model_name": "DescriptionStyleModel",
          "state": {
            "_model_module": "@jupyter-widgets/controls",
            "_model_module_version": "1.5.0",
            "_model_name": "DescriptionStyleModel",
            "_view_count": null,
            "_view_module": "@jupyter-widgets/base",
            "_view_module_version": "1.2.0",
            "_view_name": "StyleView",
            "description_width": ""
          }
        },
        "ce2289a9a58d42cca4bb25fc49b8bba9": {
          "model_module": "@jupyter-widgets/base",
          "model_module_version": "1.2.0",
          "model_name": "LayoutModel",
          "state": {
            "_model_module": "@jupyter-widgets/base",
            "_model_module_version": "1.2.0",
            "_model_name": "LayoutModel",
            "_view_count": null,
            "_view_module": "@jupyter-widgets/base",
            "_view_module_version": "1.2.0",
            "_view_name": "LayoutView",
            "align_content": null,
            "align_items": null,
            "align_self": null,
            "border": null,
            "bottom": null,
            "display": null,
            "flex": null,
            "flex_flow": null,
            "grid_area": null,
            "grid_auto_columns": null,
            "grid_auto_flow": null,
            "grid_auto_rows": null,
            "grid_column": null,
            "grid_gap": null,
            "grid_row": null,
            "grid_template_areas": null,
            "grid_template_columns": null,
            "grid_template_rows": null,
            "height": null,
            "justify_content": null,
            "justify_items": null,
            "left": null,
            "margin": null,
            "max_height": null,
            "max_width": null,
            "min_height": null,
            "min_width": null,
            "object_fit": null,
            "object_position": null,
            "order": null,
            "overflow": null,
            "overflow_x": null,
            "overflow_y": null,
            "padding": null,
            "right": null,
            "top": null,
            "visibility": null,
            "width": null
          }
        },
        "ce4661f0ea6b40de9d89297342f4d290": {
          "model_module": "@jupyter-widgets/controls",
          "model_module_version": "1.5.0",
          "model_name": "ProgressStyleModel",
          "state": {
            "_model_module": "@jupyter-widgets/controls",
            "_model_module_version": "1.5.0",
            "_model_name": "ProgressStyleModel",
            "_view_count": null,
            "_view_module": "@jupyter-widgets/base",
            "_view_module_version": "1.2.0",
            "_view_name": "StyleView",
            "bar_color": null,
            "description_width": ""
          }
        },
        "cff9ba0ef286482b9902ee1be969bf06": {
          "model_module": "@jupyter-widgets/controls",
          "model_module_version": "1.5.0",
          "model_name": "FloatProgressModel",
          "state": {
            "_dom_classes": [],
            "_model_module": "@jupyter-widgets/controls",
            "_model_module_version": "1.5.0",
            "_model_name": "FloatProgressModel",
            "_view_count": null,
            "_view_module": "@jupyter-widgets/controls",
            "_view_module_version": "1.5.0",
            "_view_name": "ProgressView",
            "bar_style": "",
            "description": "",
            "description_tooltip": null,
            "layout": "IPY_MODEL_8ee6af9b0dfa4f57b5adbf5e0da863b9",
            "max": 30708,
            "min": 0,
            "orientation": "horizontal",
            "style": "IPY_MODEL_ce4661f0ea6b40de9d89297342f4d290",
            "value": 30708
          }
        },
        "d1af110500a44b59a6129768cabcabfc": {
          "model_module": "@jupyter-widgets/controls",
          "model_module_version": "1.5.0",
          "model_name": "HTMLModel",
          "state": {
            "_dom_classes": [],
            "_model_module": "@jupyter-widgets/controls",
            "_model_module_version": "1.5.0",
            "_model_name": "HTMLModel",
            "_view_count": null,
            "_view_module": "@jupyter-widgets/controls",
            "_view_module_version": "1.5.0",
            "_view_name": "HTMLView",
            "description": "",
            "description_tooltip": null,
            "layout": "IPY_MODEL_0c308baebe0149a395311a871a4814e1",
            "placeholder": "​",
            "style": "IPY_MODEL_877b19aca9c548b5abba12285c3fea30",
            "value": " 16506/16506 [00:02&lt;00:00, 7538.68 examples/s]"
          }
        },
        "d6b37a29291c48a7ae3221cd93f68286": {
          "model_module": "@jupyter-widgets/controls",
          "model_module_version": "1.5.0",
          "model_name": "HBoxModel",
          "state": {
            "_dom_classes": [],
            "_model_module": "@jupyter-widgets/controls",
            "_model_module_version": "1.5.0",
            "_model_name": "HBoxModel",
            "_view_count": null,
            "_view_module": "@jupyter-widgets/controls",
            "_view_module_version": "1.5.0",
            "_view_name": "HBoxView",
            "box_style": "",
            "children": [
              "IPY_MODEL_ae25f16f50394b90a7ac66559392586d",
              "IPY_MODEL_21c9b110e36f4471b6a145bd037360c8",
              "IPY_MODEL_43e71e11d8854e8ca3af7271de3d4e2b"
            ],
            "layout": "IPY_MODEL_2e2c01d8ffea4d138ef11ddd520faef0"
          }
        },
        "dac6922e075e4b52b8ef20c1755f34c7": {
          "model_module": "@jupyter-widgets/controls",
          "model_module_version": "1.5.0",
          "model_name": "HTMLModel",
          "state": {
            "_dom_classes": [],
            "_model_module": "@jupyter-widgets/controls",
            "_model_module_version": "1.5.0",
            "_model_name": "HTMLModel",
            "_view_count": null,
            "_view_module": "@jupyter-widgets/controls",
            "_view_module_version": "1.5.0",
            "_view_name": "HTMLView",
            "description": "",
            "description_tooltip": null,
            "layout": "IPY_MODEL_714f2514028b4f5688ce45bdd96e0a84",
            "placeholder": "​",
            "style": "IPY_MODEL_dba4155d641544819b9caaf33630b2a4",
            "value": "100%"
          }
        },
        "dba4155d641544819b9caaf33630b2a4": {
          "model_module": "@jupyter-widgets/controls",
          "model_module_version": "1.5.0",
          "model_name": "DescriptionStyleModel",
          "state": {
            "_model_module": "@jupyter-widgets/controls",
            "_model_module_version": "1.5.0",
            "_model_name": "DescriptionStyleModel",
            "_view_count": null,
            "_view_module": "@jupyter-widgets/base",
            "_view_module_version": "1.2.0",
            "_view_name": "StyleView",
            "description_width": ""
          }
        },
        "dbc8c49abca848c093d4ab0ad710719d": {
          "model_module": "@jupyter-widgets/controls",
          "model_module_version": "1.5.0",
          "model_name": "HTMLModel",
          "state": {
            "_dom_classes": [],
            "_model_module": "@jupyter-widgets/controls",
            "_model_module_version": "1.5.0",
            "_model_name": "HTMLModel",
            "_view_count": null,
            "_view_module": "@jupyter-widgets/controls",
            "_view_module_version": "1.5.0",
            "_view_name": "HTMLView",
            "description": "",
            "description_tooltip": null,
            "layout": "IPY_MODEL_3dabc110d0fa4da7b1460a8a6d7a4939",
            "placeholder": "​",
            "style": "IPY_MODEL_cb613102c11b41fb9ec63a709eaa8e9f",
            "value": "Saving the dataset (1/1 shards): 100%"
          }
        },
        "df199c2c489c480481423f3aefa817e7": {
          "model_module": "@jupyter-widgets/controls",
          "model_module_version": "1.5.0",
          "model_name": "HTMLModel",
          "state": {
            "_dom_classes": [],
            "_model_module": "@jupyter-widgets/controls",
            "_model_module_version": "1.5.0",
            "_model_name": "HTMLModel",
            "_view_count": null,
            "_view_module": "@jupyter-widgets/controls",
            "_view_module_version": "1.5.0",
            "_view_name": "HTMLView",
            "description": "",
            "description_tooltip": null,
            "layout": "IPY_MODEL_ff2071b8c91e424a8216eeac7a17972b",
            "placeholder": "​",
            "style": "IPY_MODEL_cba819b39b794729977eca2e9396aa3a",
            "value": "Map: 100%"
          }
        },
        "e21f291e304148f5868ef0153bc333a0": {
          "model_module": "@jupyter-widgets/controls",
          "model_module_version": "1.5.0",
          "model_name": "HTMLModel",
          "state": {
            "_dom_classes": [],
            "_model_module": "@jupyter-widgets/controls",
            "_model_module_version": "1.5.0",
            "_model_name": "HTMLModel",
            "_view_count": null,
            "_view_module": "@jupyter-widgets/controls",
            "_view_module_version": "1.5.0",
            "_view_name": "HTMLView",
            "description": "",
            "description_tooltip": null,
            "layout": "IPY_MODEL_ac7b2470047a4b7c895858d8a1dfb7d6",
            "placeholder": "​",
            "style": "IPY_MODEL_770c51d3983443c7ae86c8c66e2b14ad",
            "value": "Map: 100%"
          }
        },
        "e4db4c8eb2dc4c2293e8a44b63594f67": {
          "model_module": "@jupyter-widgets/controls",
          "model_module_version": "1.5.0",
          "model_name": "ProgressStyleModel",
          "state": {
            "_model_module": "@jupyter-widgets/controls",
            "_model_module_version": "1.5.0",
            "_model_name": "ProgressStyleModel",
            "_view_count": null,
            "_view_module": "@jupyter-widgets/base",
            "_view_module_version": "1.2.0",
            "_view_name": "StyleView",
            "bar_color": null,
            "description_width": ""
          }
        },
        "e61c91093ac24b18abcb58007823eec6": {
          "model_module": "@jupyter-widgets/controls",
          "model_module_version": "1.5.0",
          "model_name": "DescriptionStyleModel",
          "state": {
            "_model_module": "@jupyter-widgets/controls",
            "_model_module_version": "1.5.0",
            "_model_name": "DescriptionStyleModel",
            "_view_count": null,
            "_view_module": "@jupyter-widgets/base",
            "_view_module_version": "1.2.0",
            "_view_name": "StyleView",
            "description_width": ""
          }
        },
        "ee9f7097537144d789992bdc0f7ffc97": {
          "model_module": "@jupyter-widgets/controls",
          "model_module_version": "1.5.0",
          "model_name": "PasswordModel",
          "state": {
            "_dom_classes": [],
            "_model_module": "@jupyter-widgets/controls",
            "_model_module_version": "1.5.0",
            "_model_name": "PasswordModel",
            "_view_count": null,
            "_view_module": "@jupyter-widgets/controls",
            "_view_module_version": "1.5.0",
            "_view_name": "PasswordView",
            "continuous_update": true,
            "description": "Token:",
            "description_tooltip": null,
            "disabled": false,
            "layout": "IPY_MODEL_3bbe2bb7f0fa42379a9b108a48883c5a",
            "placeholder": "​",
            "style": "IPY_MODEL_b70a555b41eb46cbaf42470ea8eb3c71",
            "value": ""
          }
        },
        "f06ec8353d3b41a1925de0260de294e7": {
          "model_module": "@jupyter-widgets/controls",
          "model_module_version": "1.5.0",
          "model_name": "DescriptionStyleModel",
          "state": {
            "_model_module": "@jupyter-widgets/controls",
            "_model_module_version": "1.5.0",
            "_model_name": "DescriptionStyleModel",
            "_view_count": null,
            "_view_module": "@jupyter-widgets/base",
            "_view_module_version": "1.2.0",
            "_view_name": "StyleView",
            "description_width": ""
          }
        },
        "f2453437d8f34d5c81120e43f81803a2": {
          "model_module": "@jupyter-widgets/controls",
          "model_module_version": "1.5.0",
          "model_name": "DescriptionStyleModel",
          "state": {
            "_model_module": "@jupyter-widgets/controls",
            "_model_module_version": "1.5.0",
            "_model_name": "DescriptionStyleModel",
            "_view_count": null,
            "_view_module": "@jupyter-widgets/base",
            "_view_module_version": "1.2.0",
            "_view_name": "StyleView",
            "description_width": ""
          }
        },
        "f25af294ab034ab4bb7fdd82939c264a": {
          "model_module": "@jupyter-widgets/base",
          "model_module_version": "1.2.0",
          "model_name": "LayoutModel",
          "state": {
            "_model_module": "@jupyter-widgets/base",
            "_model_module_version": "1.2.0",
            "_model_name": "LayoutModel",
            "_view_count": null,
            "_view_module": "@jupyter-widgets/base",
            "_view_module_version": "1.2.0",
            "_view_name": "LayoutView",
            "align_content": null,
            "align_items": null,
            "align_self": null,
            "border": null,
            "bottom": null,
            "display": null,
            "flex": null,
            "flex_flow": null,
            "grid_area": null,
            "grid_auto_columns": null,
            "grid_auto_flow": null,
            "grid_auto_rows": null,
            "grid_column": null,
            "grid_gap": null,
            "grid_row": null,
            "grid_template_areas": null,
            "grid_template_columns": null,
            "grid_template_rows": null,
            "height": null,
            "justify_content": null,
            "justify_items": null,
            "left": null,
            "margin": null,
            "max_height": null,
            "max_width": null,
            "min_height": null,
            "min_width": null,
            "object_fit": null,
            "object_position": null,
            "order": null,
            "overflow": null,
            "overflow_x": null,
            "overflow_y": null,
            "padding": null,
            "right": null,
            "top": null,
            "visibility": null,
            "width": null
          }
        },
        "f8a680d0473949ed93cd97bd9d5f5873": {
          "model_module": "@jupyter-widgets/controls",
          "model_module_version": "1.5.0",
          "model_name": "HTMLModel",
          "state": {
            "_dom_classes": [],
            "_model_module": "@jupyter-widgets/controls",
            "_model_module_version": "1.5.0",
            "_model_name": "HTMLModel",
            "_view_count": null,
            "_view_module": "@jupyter-widgets/controls",
            "_view_module_version": "1.5.0",
            "_view_name": "HTMLView",
            "description": "",
            "description_tooltip": null,
            "layout": "IPY_MODEL_23f1fe48f75449f2a1c891e440d69dd0",
            "placeholder": "​",
            "style": "IPY_MODEL_e61c91093ac24b18abcb58007823eec6",
            "value": "100%"
          }
        },
        "f9f81bc136c2453ea796dbca76252eed": {
          "model_module": "@jupyter-widgets/base",
          "model_module_version": "1.2.0",
          "model_name": "LayoutModel",
          "state": {
            "_model_module": "@jupyter-widgets/base",
            "_model_module_version": "1.2.0",
            "_model_name": "LayoutModel",
            "_view_count": null,
            "_view_module": "@jupyter-widgets/base",
            "_view_module_version": "1.2.0",
            "_view_name": "LayoutView",
            "align_content": null,
            "align_items": null,
            "align_self": null,
            "border": null,
            "bottom": null,
            "display": null,
            "flex": null,
            "flex_flow": null,
            "grid_area": null,
            "grid_auto_columns": null,
            "grid_auto_flow": null,
            "grid_auto_rows": null,
            "grid_column": null,
            "grid_gap": null,
            "grid_row": null,
            "grid_template_areas": null,
            "grid_template_columns": null,
            "grid_template_rows": null,
            "height": null,
            "justify_content": null,
            "justify_items": null,
            "left": null,
            "margin": null,
            "max_height": null,
            "max_width": null,
            "min_height": null,
            "min_width": null,
            "object_fit": null,
            "object_position": null,
            "order": null,
            "overflow": null,
            "overflow_x": null,
            "overflow_y": null,
            "padding": null,
            "right": null,
            "top": null,
            "visibility": "hidden",
            "width": null
          }
        },
        "fc5c875c59f84b7ba2acc45cad6252b7": {
          "model_module": "@jupyter-widgets/base",
          "model_module_version": "1.2.0",
          "model_name": "LayoutModel",
          "state": {
            "_model_module": "@jupyter-widgets/base",
            "_model_module_version": "1.2.0",
            "_model_name": "LayoutModel",
            "_view_count": null,
            "_view_module": "@jupyter-widgets/base",
            "_view_module_version": "1.2.0",
            "_view_name": "LayoutView",
            "align_content": null,
            "align_items": null,
            "align_self": null,
            "border": null,
            "bottom": null,
            "display": null,
            "flex": null,
            "flex_flow": null,
            "grid_area": null,
            "grid_auto_columns": null,
            "grid_auto_flow": null,
            "grid_auto_rows": null,
            "grid_column": null,
            "grid_gap": null,
            "grid_row": null,
            "grid_template_areas": null,
            "grid_template_columns": null,
            "grid_template_rows": null,
            "height": null,
            "justify_content": null,
            "justify_items": null,
            "left": null,
            "margin": null,
            "max_height": null,
            "max_width": null,
            "min_height": null,
            "min_width": null,
            "object_fit": null,
            "object_position": null,
            "order": null,
            "overflow": null,
            "overflow_x": null,
            "overflow_y": null,
            "padding": null,
            "right": null,
            "top": null,
            "visibility": null,
            "width": null
          }
        },
        "fd636559376a41c29427c502d44b2566": {
          "model_module": "@jupyter-widgets/base",
          "model_module_version": "1.2.0",
          "model_name": "LayoutModel",
          "state": {
            "_model_module": "@jupyter-widgets/base",
            "_model_module_version": "1.2.0",
            "_model_name": "LayoutModel",
            "_view_count": null,
            "_view_module": "@jupyter-widgets/base",
            "_view_module_version": "1.2.0",
            "_view_name": "LayoutView",
            "align_content": null,
            "align_items": null,
            "align_self": null,
            "border": null,
            "bottom": null,
            "display": null,
            "flex": null,
            "flex_flow": null,
            "grid_area": null,
            "grid_auto_columns": null,
            "grid_auto_flow": null,
            "grid_auto_rows": null,
            "grid_column": null,
            "grid_gap": null,
            "grid_row": null,
            "grid_template_areas": null,
            "grid_template_columns": null,
            "grid_template_rows": null,
            "height": null,
            "justify_content": null,
            "justify_items": null,
            "left": null,
            "margin": null,
            "max_height": null,
            "max_width": null,
            "min_height": null,
            "min_width": null,
            "object_fit": null,
            "object_position": null,
            "order": null,
            "overflow": null,
            "overflow_x": null,
            "overflow_y": null,
            "padding": null,
            "right": null,
            "top": null,
            "visibility": null,
            "width": null
          }
        },
        "fd82cf3bd2534a3cb7fbf97a87ee1c5a": {
          "model_module": "@jupyter-widgets/controls",
          "model_module_version": "1.5.0",
          "model_name": "HTMLModel",
          "state": {
            "_dom_classes": [],
            "_model_module": "@jupyter-widgets/controls",
            "_model_module_version": "1.5.0",
            "_model_name": "HTMLModel",
            "_view_count": null,
            "_view_module": "@jupyter-widgets/controls",
            "_view_module_version": "1.5.0",
            "_view_name": "HTMLView",
            "description": "",
            "description_tooltip": null,
            "layout": "IPY_MODEL_fd636559376a41c29427c502d44b2566",
            "placeholder": "​",
            "style": "IPY_MODEL_4345d91c569a4507ad6a143dc7435f33",
            "value": " 7090/7090 [00:14&lt;00:00, 485.62 examples/s]"
          }
        },
        "fe91a39fff5d4f7a973bc176cf2d4e93": {
          "model_module": "@jupyter-widgets/controls",
          "model_module_version": "1.5.0",
          "model_name": "HTMLModel",
          "state": {
            "_dom_classes": [],
            "_model_module": "@jupyter-widgets/controls",
            "_model_module_version": "1.5.0",
            "_model_name": "HTMLModel",
            "_view_count": null,
            "_view_module": "@jupyter-widgets/controls",
            "_view_module_version": "1.5.0",
            "_view_name": "HTMLView",
            "description": "",
            "description_tooltip": null,
            "layout": "IPY_MODEL_36bdaa0507db4cc1a2d11687f557b747",
            "placeholder": "​",
            "style": "IPY_MODEL_3c76a05509b741a8abb423c7ec4c0d7d",
            "value": " 30708/30708 [00:00&lt;00:00, 90421.50 examples/s]"
          }
        },
        "ff2071b8c91e424a8216eeac7a17972b": {
          "model_module": "@jupyter-widgets/base",
          "model_module_version": "1.2.0",
          "model_name": "LayoutModel",
          "state": {
            "_model_module": "@jupyter-widgets/base",
            "_model_module_version": "1.2.0",
            "_model_name": "LayoutModel",
            "_view_count": null,
            "_view_module": "@jupyter-widgets/base",
            "_view_module_version": "1.2.0",
            "_view_name": "LayoutView",
            "align_content": null,
            "align_items": null,
            "align_self": null,
            "border": null,
            "bottom": null,
            "display": null,
            "flex": null,
            "flex_flow": null,
            "grid_area": null,
            "grid_auto_columns": null,
            "grid_auto_flow": null,
            "grid_auto_rows": null,
            "grid_column": null,
            "grid_gap": null,
            "grid_row": null,
            "grid_template_areas": null,
            "grid_template_columns": null,
            "grid_template_rows": null,
            "height": null,
            "justify_content": null,
            "justify_items": null,
            "left": null,
            "margin": null,
            "max_height": null,
            "max_width": null,
            "min_height": null,
            "min_width": null,
            "object_fit": null,
            "object_position": null,
            "order": null,
            "overflow": null,
            "overflow_x": null,
            "overflow_y": null,
            "padding": null,
            "right": null,
            "top": null,
            "visibility": null,
            "width": null
          }
        },
        "ff712d6b34b94bdfb204dfa32e669049": {
          "model_module": "@jupyter-widgets/base",
          "model_module_version": "1.2.0",
          "model_name": "LayoutModel",
          "state": {
            "_model_module": "@jupyter-widgets/base",
            "_model_module_version": "1.2.0",
            "_model_name": "LayoutModel",
            "_view_count": null,
            "_view_module": "@jupyter-widgets/base",
            "_view_module_version": "1.2.0",
            "_view_name": "LayoutView",
            "align_content": null,
            "align_items": null,
            "align_self": null,
            "border": null,
            "bottom": null,
            "display": null,
            "flex": null,
            "flex_flow": null,
            "grid_area": null,
            "grid_auto_columns": null,
            "grid_auto_flow": null,
            "grid_auto_rows": null,
            "grid_column": null,
            "grid_gap": null,
            "grid_row": null,
            "grid_template_areas": null,
            "grid_template_columns": null,
            "grid_template_rows": null,
            "height": null,
            "justify_content": null,
            "justify_items": null,
            "left": null,
            "margin": null,
            "max_height": null,
            "max_width": null,
            "min_height": null,
            "min_width": null,
            "object_fit": null,
            "object_position": null,
            "order": null,
            "overflow": null,
            "overflow_x": null,
            "overflow_y": null,
            "padding": null,
            "right": null,
            "top": null,
            "visibility": null,
            "width": null
          }
        }
      }
    }
  },
  "nbformat": 4,
  "nbformat_minor": 0
}
