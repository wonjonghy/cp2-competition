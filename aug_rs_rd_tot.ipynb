{
 "cells": [
  {
   "cell_type": "code",
   "execution_count": 1,
   "metadata": {},
   "outputs": [
    {
     "name": "stderr",
     "output_type": "stream",
     "text": [
      "c:\\Users\\WONJONGHYEON\\anaconda3\\envs\\CP2\\lib\\site-packages\\tqdm\\auto.py:21: TqdmWarning: IProgress not found. Please update jupyter and ipywidgets. See https://ipywidgets.readthedocs.io/en/stable/user_install.html\n",
      "  from .autonotebook import tqdm as notebook_tqdm\n"
     ]
    }
   ],
   "source": [
    "import pandas as pd\n",
    "import numpy as np\n",
    "import re\n",
    "from sklearn.preprocessing import LabelEncoder\n",
    "from datasets import Dataset, DatasetDict, load_dataset\n",
    "import torch\n",
    "import random"
   ]
  },
  {
   "cell_type": "code",
   "execution_count": 543,
   "metadata": {},
   "outputs": [],
   "source": [
    "df=pd.read_csv('train.csv').drop(['ID'], axis=1)\n",
    "trans_aug=pd.read_csv(r'C:\\Users\\WONJONGHYEON\\OneDrive\\바탕 화면\\cp2-competition\\augment_csv\\trans_aug.csv').drop(['label'], axis=1)\n",
    "\n",
    "trans_aug['label'] = trans_aug['유형'] + '-' + trans_aug['극성'] + '-' + trans_aug['시제'] + '-' + trans_aug['확실성']"
   ]
  },
  {
   "cell_type": "code",
   "execution_count": 545,
   "metadata": {},
   "outputs": [
    {
     "data": {
      "text/html": [
       "<div>\n",
       "<style scoped>\n",
       "    .dataframe tbody tr th:only-of-type {\n",
       "        vertical-align: middle;\n",
       "    }\n",
       "\n",
       "    .dataframe tbody tr th {\n",
       "        vertical-align: top;\n",
       "    }\n",
       "\n",
       "    .dataframe thead th {\n",
       "        text-align: right;\n",
       "    }\n",
       "</style>\n",
       "<table border=\"1\" class=\"dataframe\">\n",
       "  <thead>\n",
       "    <tr style=\"text-align: right;\">\n",
       "      <th></th>\n",
       "      <th>label</th>\n",
       "    </tr>\n",
       "  </thead>\n",
       "  <tbody>\n",
       "    <tr>\n",
       "      <th>사실형-긍정-과거-확실</th>\n",
       "      <td>7113</td>\n",
       "    </tr>\n",
       "    <tr>\n",
       "      <th>사실형-긍정-현재-확실</th>\n",
       "      <td>4743</td>\n",
       "    </tr>\n",
       "    <tr>\n",
       "      <th>추론형-긍정-현재-확실</th>\n",
       "      <td>1101</td>\n",
       "    </tr>\n",
       "    <tr>\n",
       "      <th>사실형-긍정-미래-확실</th>\n",
       "      <td>649</td>\n",
       "    </tr>\n",
       "    <tr>\n",
       "      <th>추론형-긍정-과거-확실</th>\n",
       "      <td>335</td>\n",
       "    </tr>\n",
       "  </tbody>\n",
       "</table>\n",
       "</div>"
      ],
      "text/plain": [
       "              label\n",
       "사실형-긍정-과거-확실   7113\n",
       "사실형-긍정-현재-확실   4743\n",
       "추론형-긍정-현재-확실   1101\n",
       "사실형-긍정-미래-확실    649\n",
       "추론형-긍정-과거-확실    335"
      ]
     },
     "execution_count": 545,
     "metadata": {},
     "output_type": "execute_result"
    }
   ],
   "source": [
    "label_table = df['label'].value_counts().to_frame()\n",
    "label_table.head()"
   ]
  },
  {
   "cell_type": "code",
   "execution_count": 546,
   "metadata": {},
   "outputs": [
    {
     "data": {
      "text/html": [
       "<div>\n",
       "<style scoped>\n",
       "    .dataframe tbody tr th:only-of-type {\n",
       "        vertical-align: middle;\n",
       "    }\n",
       "\n",
       "    .dataframe tbody tr th {\n",
       "        vertical-align: top;\n",
       "    }\n",
       "\n",
       "    .dataframe thead th {\n",
       "        text-align: right;\n",
       "    }\n",
       "</style>\n",
       "<table border=\"1\" class=\"dataframe\">\n",
       "  <thead>\n",
       "    <tr style=\"text-align: right;\">\n",
       "      <th></th>\n",
       "      <th>label</th>\n",
       "    </tr>\n",
       "  </thead>\n",
       "  <tbody>\n",
       "    <tr>\n",
       "      <th>예측형-긍정-미래-불확실</th>\n",
       "      <td>263</td>\n",
       "    </tr>\n",
       "    <tr>\n",
       "      <th>예측형-긍정-미래-확실</th>\n",
       "      <td>107</td>\n",
       "    </tr>\n",
       "    <tr>\n",
       "      <th>대화형-미정-현재-불확실</th>\n",
       "      <td>47</td>\n",
       "    </tr>\n",
       "    <tr>\n",
       "      <th>사실형-미정-미래-확실</th>\n",
       "      <td>42</td>\n",
       "    </tr>\n",
       "    <tr>\n",
       "      <th>사실형-미정-미래-불확실</th>\n",
       "      <td>38</td>\n",
       "    </tr>\n",
       "  </tbody>\n",
       "</table>\n",
       "</div>"
      ],
      "text/plain": [
       "               label\n",
       "예측형-긍정-미래-불확실    263\n",
       "예측형-긍정-미래-확실     107\n",
       "대화형-미정-현재-불확실     47\n",
       "사실형-미정-미래-확실      42\n",
       "사실형-미정-미래-불확실     38"
      ]
     },
     "execution_count": 546,
     "metadata": {},
     "output_type": "execute_result"
    }
   ],
   "source": [
    "aug_label_table = trans_aug['label'].value_counts().to_frame()\n",
    "aug_label_table.head()"
   ]
  },
  {
   "cell_type": "code",
   "execution_count": null,
   "metadata": {},
   "outputs": [],
   "source": [
    "aug_label_table"
   ]
  },
  {
   "cell_type": "code",
   "execution_count": 547,
   "metadata": {},
   "outputs": [],
   "source": [
    "labels = label_table[label_table.label>=10].index"
   ]
  },
  {
   "cell_type": "code",
   "execution_count": 548,
   "metadata": {},
   "outputs": [],
   "source": [
    "aug_labels = aug_label_table[aug_label_table.label>=10].index"
   ]
  },
  {
   "cell_type": "code",
   "execution_count": 549,
   "metadata": {},
   "outputs": [
    {
     "data": {
      "text/plain": [
       "Index(['예측형-긍정-미래-불확실', '예측형-긍정-미래-확실', '대화형-미정-현재-불확실', '사실형-미정-미래-확실',\n",
       "       '사실형-미정-미래-불확실', '대화형-미정-미래-불확실', '추론형-미정-미래-불확실', '사실형-미정-현재-확실',\n",
       "       '예측형-긍정-현재-확실', '예측형-미정-미래-불확실', '예측형-긍정-과거-확실', '예측형-긍정-현재-불확실',\n",
       "       '예측형-긍정-과거-불확실', '대화형-미정-과거-불확실'],\n",
       "      dtype='object')"
      ]
     },
     "execution_count": 549,
     "metadata": {},
     "output_type": "execute_result"
    }
   ],
   "source": [
    "aug_labels"
   ]
  },
  {
   "cell_type": "code",
   "execution_count": 550,
   "metadata": {},
   "outputs": [],
   "source": [
    "idx_lst, aug_idx_lst = [], []"
   ]
  },
  {
   "cell_type": "code",
   "execution_count": 551,
   "metadata": {},
   "outputs": [],
   "source": [
    "for idx, label in enumerate(df['label']):\n",
    "    if not label in list(labels):\n",
    "        idx_lst.append(idx)\n",
    "\n",
    "for idx, label in enumerate(trans_aug['label']):\n",
    "    if not label in list(aug_labels):\n",
    "        aug_idx_lst.append(idx)"
   ]
  },
  {
   "cell_type": "code",
   "execution_count": 552,
   "metadata": {},
   "outputs": [],
   "source": [
    "df_in=df.drop(idx_lst)\n",
    "df_in.reset_index(drop=True, inplace=True)\n",
    "\n",
    "df_out=df.iloc[idx_lst]\n",
    "df_out.reset_index(drop=True, inplace=True)\n",
    "df_out=df_out.sample(frac=1)\n"
   ]
  },
  {
   "cell_type": "code",
   "execution_count": 553,
   "metadata": {},
   "outputs": [],
   "source": [
    "aug_in=trans_aug.drop(aug_idx_lst)\n",
    "aug_in.reset_index(drop=True, inplace=True)\n",
    "\n",
    "aug_out=trans_aug.iloc[aug_idx_lst]\n",
    "aug_out.reset_index(drop=True, inplace=True)\n",
    "aug_out=aug_out.sample(frac=1)"
   ]
  },
  {
   "cell_type": "code",
   "execution_count": 570,
   "metadata": {},
   "outputs": [],
   "source": [
    "from sklearn.model_selection import train_test_split\n",
    "df_t, df_v, y_t, y_v = train_test_split(df_in[['문장', '유형', '극성', '시제', '확실성']], df_in[['label']], test_size=0.2, stratify=df_in['label'], random_state=1)\n",
    "aug_t, aug_v, aug_y_t, aug_y_v = train_test_split(aug_in[['문장', '유형', '극성', '시제', '확실성']], aug_in[['label']], test_size=0.2, stratify=aug_in['label'], random_state=1)"
   ]
  },
  {
   "cell_type": "code",
   "execution_count": 573,
   "metadata": {},
   "outputs": [
    {
     "data": {
      "text/plain": [
       "label        \n",
       "예측형-긍정-미래-불확실    0.375000\n",
       "예측형-긍정-미래-확실     0.151786\n",
       "대화형-미정-현재-불확실    0.067857\n",
       "사실형-미정-미래-확실     0.060714\n",
       "대화형-미정-미래-불확실    0.053571\n",
       "사실형-미정-미래-불확실    0.053571\n",
       "추론형-미정-미래-불확실    0.046429\n",
       "사실형-미정-현재-확실     0.037500\n",
       "예측형-긍정-현재-확실     0.032143\n",
       "예측형-미정-미래-불확실    0.030357\n",
       "예측형-긍정-과거-확실     0.025000\n",
       "예측형-긍정-현재-불확실    0.023214\n",
       "대화형-미정-과거-불확실    0.021429\n",
       "예측형-긍정-과거-불확실    0.021429\n",
       "dtype: float64"
      ]
     },
     "execution_count": 573,
     "metadata": {},
     "output_type": "execute_result"
    }
   ],
   "source": [
    "aug_y_t.value_counts(normalize=True)"
   ]
  },
  {
   "cell_type": "code",
   "execution_count": 572,
   "metadata": {},
   "outputs": [
    {
     "data": {
      "text/plain": [
       "label        \n",
       "예측형-긍정-미래-불확실    0.375887\n",
       "예측형-긍정-미래-확실     0.156028\n",
       "대화형-미정-현재-불확실    0.063830\n",
       "사실형-미정-미래-불확실    0.056738\n",
       "사실형-미정-미래-확실     0.056738\n",
       "대화형-미정-미래-불확실    0.049645\n",
       "추론형-미정-미래-불확실    0.049645\n",
       "사실형-미정-현재-확실     0.035461\n",
       "예측형-긍정-현재-확실     0.035461\n",
       "예측형-긍정-과거-확실     0.028369\n",
       "예측형-미정-미래-불확실    0.028369\n",
       "대화형-미정-과거-불확실    0.021277\n",
       "예측형-긍정-과거-불확실    0.021277\n",
       "예측형-긍정-현재-불확실    0.021277\n",
       "dtype: float64"
      ]
     },
     "execution_count": 572,
     "metadata": {},
     "output_type": "execute_result"
    }
   ],
   "source": [
    "aug_y_v.value_counts(normalize=True)"
   ]
  },
  {
   "cell_type": "code",
   "execution_count": 555,
   "metadata": {},
   "outputs": [
    {
     "data": {
      "text/plain": [
       "(92, 52)"
      ]
     },
     "execution_count": 555,
     "metadata": {},
     "output_type": "execute_result"
    }
   ],
   "source": [
    "len(df_out), len(aug_out)"
   ]
  },
  {
   "cell_type": "code",
   "execution_count": 556,
   "metadata": {},
   "outputs": [],
   "source": [
    "df_t = pd.concat([df_t, df_out[:41].drop(['label'], axis=1)], axis=0)\n",
    "df_v = pd.concat([df_v, df_out[41:].drop(['label'], axis=1)], axis=0)\n",
    "aug_t = pd.concat([aug_t, aug_out[:26].drop(['label'], axis=1)], axis=0)\n",
    "aug_v = pd.concat([aug_v, aug_out[26:].drop(['label'], axis=1)], axis=0)"
   ]
  },
  {
   "cell_type": "code",
   "execution_count": 563,
   "metadata": {},
   "outputs": [],
   "source": [
    "df_t = pd.concat([df_t, aug_t], axis=0)\n",
    "df_t.drop_duplicates(inplace=True)\n",
    "df_v = pd.concat([df_v, aug_v], axis=0)\n",
    "df_v.drop_duplicates(inplace=True)"
   ]
  },
  {
   "cell_type": "code",
   "execution_count": 564,
   "metadata": {},
   "outputs": [
    {
     "data": {
      "text/html": [
       "<div>\n",
       "<style scoped>\n",
       "    .dataframe tbody tr th:only-of-type {\n",
       "        vertical-align: middle;\n",
       "    }\n",
       "\n",
       "    .dataframe tbody tr th {\n",
       "        vertical-align: top;\n",
       "    }\n",
       "\n",
       "    .dataframe thead th {\n",
       "        text-align: right;\n",
       "    }\n",
       "</style>\n",
       "<table border=\"1\" class=\"dataframe\">\n",
       "  <thead>\n",
       "    <tr style=\"text-align: right;\">\n",
       "      <th></th>\n",
       "      <th>문장</th>\n",
       "      <th>유형</th>\n",
       "      <th>극성</th>\n",
       "      <th>시제</th>\n",
       "      <th>확실성</th>\n",
       "    </tr>\n",
       "  </thead>\n",
       "  <tbody>\n",
       "    <tr>\n",
       "      <th>3680</th>\n",
       "      <td>특히 거래량 중 고래들이 차지하는 비중이 높을 때 더욱 그렇다.</td>\n",
       "      <td>사실형</td>\n",
       "      <td>긍정</td>\n",
       "      <td>현재</td>\n",
       "      <td>확실</td>\n",
       "    </tr>\n",
       "    <tr>\n",
       "      <th>8405</th>\n",
       "      <td>그러나 닛산 측은 모든 권한이 곤 회장에게 과도하게 집중돼 그가 전횡을 일삼은 것이...</td>\n",
       "      <td>사실형</td>\n",
       "      <td>긍정</td>\n",
       "      <td>과거</td>\n",
       "      <td>확실</td>\n",
       "    </tr>\n",
       "    <tr>\n",
       "      <th>7944</th>\n",
       "      <td>서울의 한 아파트에 사는 A씨는 윗집에 사는 B씨에게 층간소음 문제로 항의하다 결국...</td>\n",
       "      <td>사실형</td>\n",
       "      <td>긍정</td>\n",
       "      <td>과거</td>\n",
       "      <td>확실</td>\n",
       "    </tr>\n",
       "    <tr>\n",
       "      <th>266</th>\n",
       "      <td>하지만 현행 동물 보호법은 ＇목을 매달면 안 된다＇든가 ＇공개된 장소에서 죽이면 안...</td>\n",
       "      <td>사실형</td>\n",
       "      <td>긍정</td>\n",
       "      <td>현재</td>\n",
       "      <td>확실</td>\n",
       "    </tr>\n",
       "    <tr>\n",
       "      <th>7185</th>\n",
       "      <td>허리는 묶은 듯이 오목하고 빛깔은 말린 생강 같다.</td>\n",
       "      <td>추론형</td>\n",
       "      <td>긍정</td>\n",
       "      <td>현재</td>\n",
       "      <td>확실</td>\n",
       "    </tr>\n",
       "    <tr>\n",
       "      <th>...</th>\n",
       "      <td>...</td>\n",
       "      <td>...</td>\n",
       "      <td>...</td>\n",
       "      <td>...</td>\n",
       "      <td>...</td>\n",
       "    </tr>\n",
       "    <tr>\n",
       "      <th>39</th>\n",
       "      <td>공군의 태평양 횡단 직항 비행은 처음으로, 이번 방미 비행을 통해 조종사들은 장거리...</td>\n",
       "      <td>추론형</td>\n",
       "      <td>미정</td>\n",
       "      <td>현재</td>\n",
       "      <td>확실</td>\n",
       "    </tr>\n",
       "    <tr>\n",
       "      <th>10</th>\n",
       "      <td>\"당신이 처음부터 OTT 사업을 성장시키고 싶었다면, Cupplay의 'Time t...</td>\n",
       "      <td>예측형</td>\n",
       "      <td>부정</td>\n",
       "      <td>과거</td>\n",
       "      <td>확실</td>\n",
       "    </tr>\n",
       "    <tr>\n",
       "      <th>50</th>\n",
       "      <td>처음으로 공군의 교차 태평양 직항 비행은 조종사가 장거리 항해 훈련을 경험할 수있게...</td>\n",
       "      <td>추론형</td>\n",
       "      <td>미정</td>\n",
       "      <td>현재</td>\n",
       "      <td>확실</td>\n",
       "    </tr>\n",
       "    <tr>\n",
       "      <th>28</th>\n",
       "      <td>정 대표는 ＂세계적으로 사망률이 높은 만성질환인 뇌졸중에 대한 예방제 외에 삶의 질...</td>\n",
       "      <td>사실형</td>\n",
       "      <td>미정</td>\n",
       "      <td>현재</td>\n",
       "      <td>불확실</td>\n",
       "    </tr>\n",
       "    <tr>\n",
       "      <th>42</th>\n",
       "      <td>영웅은 2주 연속으로 배제되지 않으며, 팬과 플레이어의 의견을 적극적으로 감소함으로...</td>\n",
       "      <td>추론형</td>\n",
       "      <td>미정</td>\n",
       "      <td>미래</td>\n",
       "      <td>확실</td>\n",
       "    </tr>\n",
       "  </tbody>\n",
       "</table>\n",
       "<p>13538 rows × 5 columns</p>\n",
       "</div>"
      ],
      "text/plain": [
       "                                                     문장   유형  극성  시제  확실성\n",
       "3680                특히 거래량 중 고래들이 차지하는 비중이 높을 때 더욱 그렇다.  사실형  긍정  현재   확실\n",
       "8405  그러나 닛산 측은 모든 권한이 곤 회장에게 과도하게 집중돼 그가 전횡을 일삼은 것이...  사실형  긍정  과거   확실\n",
       "7944  서울의 한 아파트에 사는 A씨는 윗집에 사는 B씨에게 층간소음 문제로 항의하다 결국...  사실형  긍정  과거   확실\n",
       "266   하지만 현행 동물 보호법은 ＇목을 매달면 안 된다＇든가 ＇공개된 장소에서 죽이면 안...  사실형  긍정  현재   확실\n",
       "7185                       허리는 묶은 듯이 오목하고 빛깔은 말린 생강 같다.  추론형  긍정  현재   확실\n",
       "...                                                 ...  ...  ..  ..  ...\n",
       "39    공군의 태평양 횡단 직항 비행은 처음으로, 이번 방미 비행을 통해 조종사들은 장거리...  추론형  미정  현재   확실\n",
       "10    \"당신이 처음부터 OTT 사업을 성장시키고 싶었다면, Cupplay의 'Time t...  예측형  부정  과거   확실\n",
       "50    처음으로 공군의 교차 태평양 직항 비행은 조종사가 장거리 항해 훈련을 경험할 수있게...  추론형  미정  현재   확실\n",
       "28    정 대표는 ＂세계적으로 사망률이 높은 만성질환인 뇌졸중에 대한 예방제 외에 삶의 질...  사실형  미정  현재  불확실\n",
       "42    영웅은 2주 연속으로 배제되지 않으며, 팬과 플레이어의 의견을 적극적으로 감소함으로...  추론형  미정  미래   확실\n",
       "\n",
       "[13538 rows x 5 columns]"
      ]
     },
     "execution_count": 564,
     "metadata": {},
     "output_type": "execute_result"
    }
   ],
   "source": [
    "df_t"
   ]
  },
  {
   "cell_type": "code",
   "execution_count": 565,
   "metadata": {},
   "outputs": [
    {
     "data": {
      "text/html": [
       "<div>\n",
       "<style scoped>\n",
       "    .dataframe tbody tr th:only-of-type {\n",
       "        vertical-align: middle;\n",
       "    }\n",
       "\n",
       "    .dataframe tbody tr th {\n",
       "        vertical-align: top;\n",
       "    }\n",
       "\n",
       "    .dataframe thead th {\n",
       "        text-align: right;\n",
       "    }\n",
       "</style>\n",
       "<table border=\"1\" class=\"dataframe\">\n",
       "  <thead>\n",
       "    <tr style=\"text-align: right;\">\n",
       "      <th></th>\n",
       "      <th>문장</th>\n",
       "      <th>유형</th>\n",
       "      <th>극성</th>\n",
       "      <th>시제</th>\n",
       "      <th>확실성</th>\n",
       "    </tr>\n",
       "  </thead>\n",
       "  <tbody>\n",
       "    <tr>\n",
       "      <th>3048</th>\n",
       "      <td>앞서 한 장관은 현 경제 상황에 대해 ＂경제전쟁이 시작됐다고 할 만큼 물가 상승, ...</td>\n",
       "      <td>사실형</td>\n",
       "      <td>긍정</td>\n",
       "      <td>과거</td>\n",
       "      <td>확실</td>\n",
       "    </tr>\n",
       "    <tr>\n",
       "      <th>5017</th>\n",
       "      <td>전통 유통업의 몰락은 비단 한국만의 현상은 아니다.</td>\n",
       "      <td>사실형</td>\n",
       "      <td>부정</td>\n",
       "      <td>현재</td>\n",
       "      <td>확실</td>\n",
       "    </tr>\n",
       "    <tr>\n",
       "      <th>16031</th>\n",
       "      <td>이들은 7차례에 걸쳐 OLED 패널 대형화 핵심 기술을 LG디스플레이 측에 넘겼다.</td>\n",
       "      <td>사실형</td>\n",
       "      <td>긍정</td>\n",
       "      <td>과거</td>\n",
       "      <td>확실</td>\n",
       "    </tr>\n",
       "    <tr>\n",
       "      <th>918</th>\n",
       "      <td>4년 전 손목 부상과 슬럼프에 빠졌던 위기를 넘기고 누구도 예상하지 못한 금메달을 ...</td>\n",
       "      <td>추론형</td>\n",
       "      <td>긍정</td>\n",
       "      <td>과거</td>\n",
       "      <td>확실</td>\n",
       "    </tr>\n",
       "    <tr>\n",
       "      <th>14363</th>\n",
       "      <td>이 부회장은 ＂서로에게 기생하고 있다는 것은 모든 사람에게 영향을 미치는 것＂이라며...</td>\n",
       "      <td>사실형</td>\n",
       "      <td>긍정</td>\n",
       "      <td>과거</td>\n",
       "      <td>확실</td>\n",
       "    </tr>\n",
       "    <tr>\n",
       "      <th>...</th>\n",
       "      <td>...</td>\n",
       "      <td>...</td>\n",
       "      <td>...</td>\n",
       "      <td>...</td>\n",
       "      <td>...</td>\n",
       "    </tr>\n",
       "    <tr>\n",
       "      <th>41</th>\n",
       "      <td>그러나 최근에는 표적 치료의 출현이 전염된 유방암 치료의 효율성을 크게 향상시켰으며...</td>\n",
       "      <td>사실형</td>\n",
       "      <td>미정</td>\n",
       "      <td>현재</td>\n",
       "      <td>불확실</td>\n",
       "    </tr>\n",
       "    <tr>\n",
       "      <th>14</th>\n",
       "      <td>중국은 새로운 코로나 바이러스 감염에 대처하고 내부 물을 정상화하기 위해 미국에 약...</td>\n",
       "      <td>예측형</td>\n",
       "      <td>부정</td>\n",
       "      <td>미래</td>\n",
       "      <td>불확실</td>\n",
       "    </tr>\n",
       "    <tr>\n",
       "      <th>13</th>\n",
       "      <td>Baugh 교수는 \"국내 사업이라면 LP 자회사 부동산 시장이 완전히 운영되고 세금...</td>\n",
       "      <td>예측형</td>\n",
       "      <td>미정</td>\n",
       "      <td>현재</td>\n",
       "      <td>불확실</td>\n",
       "    </tr>\n",
       "    <tr>\n",
       "      <th>46</th>\n",
       "      <td>그는 “전통적인 뇌졸중에 대한 예방 조치 외에도 전 세계적으로 높은 사망률이 있으며...</td>\n",
       "      <td>사실형</td>\n",
       "      <td>미정</td>\n",
       "      <td>현재</td>\n",
       "      <td>불확실</td>\n",
       "    </tr>\n",
       "    <tr>\n",
       "      <th>47</th>\n",
       "      <td>그때 나는 그가 무슨 똥을 말하고 있는지 궁금했다.</td>\n",
       "      <td>대화형</td>\n",
       "      <td>미정</td>\n",
       "      <td>과거</td>\n",
       "      <td>확실</td>\n",
       "    </tr>\n",
       "  </tbody>\n",
       "</table>\n",
       "<p>3486 rows × 5 columns</p>\n",
       "</div>"
      ],
      "text/plain": [
       "                                                      문장   유형  극성  시제  확실성\n",
       "3048   앞서 한 장관은 현 경제 상황에 대해 ＂경제전쟁이 시작됐다고 할 만큼 물가 상승, ...  사실형  긍정  과거   확실\n",
       "5017                        전통 유통업의 몰락은 비단 한국만의 현상은 아니다.  사실형  부정  현재   확실\n",
       "16031     이들은 7차례에 걸쳐 OLED 패널 대형화 핵심 기술을 LG디스플레이 측에 넘겼다.  사실형  긍정  과거   확실\n",
       "918    4년 전 손목 부상과 슬럼프에 빠졌던 위기를 넘기고 누구도 예상하지 못한 금메달을 ...  추론형  긍정  과거   확실\n",
       "14363  이 부회장은 ＂서로에게 기생하고 있다는 것은 모든 사람에게 영향을 미치는 것＂이라며...  사실형  긍정  과거   확실\n",
       "...                                                  ...  ...  ..  ..  ...\n",
       "41     그러나 최근에는 표적 치료의 출현이 전염된 유방암 치료의 효율성을 크게 향상시켰으며...  사실형  미정  현재  불확실\n",
       "14     중국은 새로운 코로나 바이러스 감염에 대처하고 내부 물을 정상화하기 위해 미국에 약...  예측형  부정  미래  불확실\n",
       "13     Baugh 교수는 \"국내 사업이라면 LP 자회사 부동산 시장이 완전히 운영되고 세금...  예측형  미정  현재  불확실\n",
       "46     그는 “전통적인 뇌졸중에 대한 예방 조치 외에도 전 세계적으로 높은 사망률이 있으며...  사실형  미정  현재  불확실\n",
       "47                          그때 나는 그가 무슨 똥을 말하고 있는지 궁금했다.  대화형  미정  과거   확실\n",
       "\n",
       "[3486 rows x 5 columns]"
      ]
     },
     "execution_count": 565,
     "metadata": {},
     "output_type": "execute_result"
    }
   ],
   "source": [
    "df_v"
   ]
  },
  {
   "cell_type": "code",
   "execution_count": 566,
   "metadata": {},
   "outputs": [
    {
     "data": {
      "text/plain": [
       "(사실형    10874\n",
       " 추론형     1724\n",
       " 대화형      498\n",
       " 예측형      442\n",
       " Name: 유형, dtype: int64,\n",
       " 사실형    2740\n",
       " 추론형     451\n",
       " 예측형     155\n",
       " 대화형     140\n",
       " Name: 유형, dtype: int64)"
      ]
     },
     "execution_count": 566,
     "metadata": {},
     "output_type": "execute_result"
    }
   ],
   "source": [
    "df_t['유형'].value_counts(), df_v['유형'].value_counts()"
   ]
  },
  {
   "cell_type": "code",
   "execution_count": 567,
   "metadata": {},
   "outputs": [
    {
     "data": {
      "text/plain": [
       "(긍정    12834\n",
       " 부정      439\n",
       " 미정      265\n",
       " Name: 극성, dtype: int64,\n",
       " 긍정    3244\n",
       " 부정     135\n",
       " 미정     107\n",
       " Name: 극성, dtype: int64)"
      ]
     },
     "execution_count": 567,
     "metadata": {},
     "output_type": "execute_result"
    }
   ],
   "source": [
    "df_t['극성'].value_counts(), df_v['극성'].value_counts()"
   ]
  },
  {
   "cell_type": "code",
   "execution_count": 568,
   "metadata": {},
   "outputs": [
    {
     "data": {
      "text/plain": [
       "(과거    6433\n",
       " 현재    5531\n",
       " 미래    1574\n",
       " Name: 시제, dtype: int64,\n",
       " 과거    1625\n",
       " 현재    1415\n",
       " 미래     446\n",
       " Name: 시제, dtype: int64)"
      ]
     },
     "execution_count": 568,
     "metadata": {},
     "output_type": "execute_result"
    }
   ],
   "source": [
    "df_t['시제'].value_counts(), df_v['시제'].value_counts()"
   ]
  },
  {
   "cell_type": "code",
   "execution_count": 569,
   "metadata": {},
   "outputs": [
    {
     "data": {
      "text/plain": [
       "(확실     12235\n",
       " 불확실     1303\n",
       " Name: 확실성, dtype: int64,\n",
       " 확실     3095\n",
       " 불확실     391\n",
       " Name: 확실성, dtype: int64)"
      ]
     },
     "execution_count": 569,
     "metadata": {},
     "output_type": "execute_result"
    }
   ],
   "source": [
    "df_t['확실성'].value_counts(), df_v['확실성'].value_counts()"
   ]
  },
  {
   "cell_type": "code",
   "execution_count": 575,
   "metadata": {},
   "outputs": [],
   "source": [
    "import re\n",
    "\n",
    "def preprocess(df): \n",
    "  df['문장']=df['문장'].map(lambda x: re.sub(r'[\\d]+', '1', x)) #숫자를 1로 바꿈.\n",
    "  df['문장']=df['문장'].map(lambda x: re.sub(r'[a-zA-Z]+', 'a', x)) #영어를 a로 바꿈.\n",
    "  df['문장']=df['문장'].map(lambda x: re.sub(r'[^ a가-힣1]', '', x)) #한글, 1, a 제외 문자 제거"
   ]
  },
  {
   "cell_type": "code",
   "execution_count": 576,
   "metadata": {},
   "outputs": [
    {
     "data": {
      "text/plain": [
       "(None, None)"
      ]
     },
     "execution_count": 576,
     "metadata": {},
     "output_type": "execute_result"
    }
   ],
   "source": [
    "preprocess(df_t)\n",
    "preprocess(df_v)"
   ]
  },
  {
   "cell_type": "code",
   "execution_count": 383,
   "metadata": {},
   "outputs": [],
   "source": [
    "df_aug = pd.concat([df_aug, trans_aug], axis=0).drop_duplicates()"
   ]
  },
  {
   "cell_type": "code",
   "execution_count": 384,
   "metadata": {},
   "outputs": [
    {
     "data": {
      "text/html": [
       "<div>\n",
       "<style scoped>\n",
       "    .dataframe tbody tr th:only-of-type {\n",
       "        vertical-align: middle;\n",
       "    }\n",
       "\n",
       "    .dataframe tbody tr th {\n",
       "        vertical-align: top;\n",
       "    }\n",
       "\n",
       "    .dataframe thead th {\n",
       "        text-align: right;\n",
       "    }\n",
       "</style>\n",
       "<table border=\"1\" class=\"dataframe\">\n",
       "  <thead>\n",
       "    <tr style=\"text-align: right;\">\n",
       "      <th></th>\n",
       "      <th>문장</th>\n",
       "      <th>유형</th>\n",
       "      <th>극성</th>\n",
       "      <th>시제</th>\n",
       "      <th>확실성</th>\n",
       "    </tr>\n",
       "  </thead>\n",
       "  <tbody>\n",
       "    <tr>\n",
       "      <th>12</th>\n",
       "      <td>비가 내리는 지역에서는 돌풍과 함께 천둥번개가 치고 일부 지역에선 우박이 떨어지는 ...</td>\n",
       "      <td>2</td>\n",
       "      <td>0</td>\n",
       "      <td>1</td>\n",
       "      <td>0</td>\n",
       "    </tr>\n",
       "    <tr>\n",
       "      <th>39</th>\n",
       "      <td>사람 친구는 어느 한쪽에 애인이 생기면 끊어주는 게 쌈빡한 예의 아닐까</td>\n",
       "      <td>0</td>\n",
       "      <td>0</td>\n",
       "      <td>1</td>\n",
       "      <td>1</td>\n",
       "    </tr>\n",
       "    <tr>\n",
       "      <th>47</th>\n",
       "      <td>a 사업을 처음부터 직접 키우려 했다면 쿠팡플레이의 타임 투 마켓은 1년이 걸렸을 것이다</td>\n",
       "      <td>2</td>\n",
       "      <td>2</td>\n",
       "      <td>0</td>\n",
       "      <td>1</td>\n",
       "    </tr>\n",
       "    <tr>\n",
       "      <th>63</th>\n",
       "      <td>산소통도 셰르파도 포기한 채 나만의 힘으로 오른다는 뜻입니다</td>\n",
       "      <td>0</td>\n",
       "      <td>0</td>\n",
       "      <td>2</td>\n",
       "      <td>1</td>\n",
       "    </tr>\n",
       "    <tr>\n",
       "      <th>72</th>\n",
       "      <td>최민철 배우의 a형 독감 확진 판정으로 뮤지컬 레베카 1월 1일 잭 파벨 역 캐스팅...</td>\n",
       "      <td>0</td>\n",
       "      <td>0</td>\n",
       "      <td>0</td>\n",
       "      <td>1</td>\n",
       "    </tr>\n",
       "    <tr>\n",
       "      <th>...</th>\n",
       "      <td>...</td>\n",
       "      <td>...</td>\n",
       "      <td>...</td>\n",
       "      <td>...</td>\n",
       "      <td>...</td>\n",
       "    </tr>\n",
       "    <tr>\n",
       "      <th>748</th>\n",
       "      <td>시베리아 전염병과 마찬가지로 우리가 이미 알고있는 전염병이나 새로운 감염은 동물 전...</td>\n",
       "      <td>0</td>\n",
       "      <td>1</td>\n",
       "      <td>1</td>\n",
       "      <td>0</td>\n",
       "    </tr>\n",
       "    <tr>\n",
       "      <th>749</th>\n",
       "      <td>새로운 a a a a 1는 기존의 a 1 월드 챔피언십 시리즈의 후계자로 1 개 이...</td>\n",
       "      <td>1</td>\n",
       "      <td>1</td>\n",
       "      <td>1</td>\n",
       "      <td>1</td>\n",
       "    </tr>\n",
       "    <tr>\n",
       "      <th>750</th>\n",
       "      <td>거기 거리가 있나요</td>\n",
       "      <td>0</td>\n",
       "      <td>1</td>\n",
       "      <td>2</td>\n",
       "      <td>0</td>\n",
       "    </tr>\n",
       "    <tr>\n",
       "      <th>751</th>\n",
       "      <td>aa의 운영 대상인 공군은 1월 1일부터 1월 1일까지 한국 유형 전투기 aa 지명...</td>\n",
       "      <td>1</td>\n",
       "      <td>1</td>\n",
       "      <td>1</td>\n",
       "      <td>1</td>\n",
       "    </tr>\n",
       "    <tr>\n",
       "      <th>752</th>\n",
       "      <td>1월에는 홍콩프랑크푸르트 경로가 1주에서 1주로 늘어나고 1월 1일부터 홍콩런던 경...</td>\n",
       "      <td>1</td>\n",
       "      <td>1</td>\n",
       "      <td>1</td>\n",
       "      <td>1</td>\n",
       "    </tr>\n",
       "  </tbody>\n",
       "</table>\n",
       "<p>3564 rows × 5 columns</p>\n",
       "</div>"
      ],
      "text/plain": [
       "                                                    문장  유형  극성  시제  확실성\n",
       "12   비가 내리는 지역에서는 돌풍과 함께 천둥번개가 치고 일부 지역에선 우박이 떨어지는 ...   2   0   1    0\n",
       "39             사람 친구는 어느 한쪽에 애인이 생기면 끊어주는 게 쌈빡한 예의 아닐까   0   0   1    1\n",
       "47   a 사업을 처음부터 직접 키우려 했다면 쿠팡플레이의 타임 투 마켓은 1년이 걸렸을 것이다   2   2   0    1\n",
       "63                   산소통도 셰르파도 포기한 채 나만의 힘으로 오른다는 뜻입니다   0   0   2    1\n",
       "72   최민철 배우의 a형 독감 확진 판정으로 뮤지컬 레베카 1월 1일 잭 파벨 역 캐스팅...   0   0   0    1\n",
       "..                                                 ...  ..  ..  ..  ...\n",
       "748  시베리아 전염병과 마찬가지로 우리가 이미 알고있는 전염병이나 새로운 감염은 동물 전...   0   1   1    0\n",
       "749  새로운 a a a a 1는 기존의 a 1 월드 챔피언십 시리즈의 후계자로 1 개 이...   1   1   1    1\n",
       "750                                         거기 거리가 있나요   0   1   2    0\n",
       "751  aa의 운영 대상인 공군은 1월 1일부터 1월 1일까지 한국 유형 전투기 aa 지명...   1   1   1    1\n",
       "752  1월에는 홍콩프랑크푸르트 경로가 1주에서 1주로 늘어나고 1월 1일부터 홍콩런던 경...   1   1   1    1\n",
       "\n",
       "[3564 rows x 5 columns]"
      ]
     },
     "execution_count": 384,
     "metadata": {},
     "output_type": "execute_result"
    }
   ],
   "source": [
    "df_aug"
   ]
  },
  {
   "cell_type": "code",
   "execution_count": 385,
   "metadata": {},
   "outputs": [
    {
     "data": {
      "text/plain": [
       "1    1737\n",
       "3     732\n",
       "0     611\n",
       "2     484\n",
       "Name: 유형, dtype: int64"
      ]
     },
     "execution_count": 385,
     "metadata": {},
     "output_type": "execute_result"
    }
   ],
   "source": [
    "df_aug.유형.value_counts()"
   ]
  },
  {
   "cell_type": "code",
   "execution_count": 387,
   "metadata": {},
   "outputs": [],
   "source": [
    "df_aug=pd.concat([df_aug, df[df['유형']==1].sample(n=200, random_state=1)]) #증강할 문장: 유형-사실 200\n",
    "df_aug=pd.concat([df_aug, df[df['유형']==3].sample(n=800, random_state=3)]) #증강할 문장: 유형-추론 800\n",
    "df_aug=pd.concat([df_aug, df[df['극성']==0].sample(n=200, random_state=1)]) #증강할 문장: 극성-긍정 200\n",
    "df_aug=pd.concat([df_aug, df[df['확실성']==1].sample(n=200, random_state=2)]) #증강할 문장: 확실성-확실 200\n",
    "df_aug=pd.concat([df_aug, df[df['시제']!=1].sample(n=200, random_state=2)]) #증강할 문장: 시제-현재, 과거 200"
   ]
  },
  {
   "cell_type": "code",
   "execution_count": 389,
   "metadata": {},
   "outputs": [],
   "source": [
    "df_aug = df_aug.drop_duplicates()"
   ]
  },
  {
   "cell_type": "code",
   "execution_count": 390,
   "metadata": {},
   "outputs": [
    {
     "data": {
      "text/plain": [
       "(1    2356\n",
       " 3    1311\n",
       " 0     611\n",
       " 2     484\n",
       " Name: 유형, dtype: int64,\n",
       " 0    3892\n",
       " 2     569\n",
       " 1     301\n",
       " Name: 극성, dtype: int64)"
      ]
     },
     "execution_count": 390,
     "metadata": {},
     "output_type": "execute_result"
    }
   ],
   "source": [
    "df_aug.유형.value_counts(), df_aug.극성.value_counts()"
   ]
  },
  {
   "cell_type": "code",
   "execution_count": 391,
   "metadata": {},
   "outputs": [
    {
     "data": {
      "text/plain": [
       "(1    1889\n",
       " 2    1720\n",
       " 0    1153\n",
       " Name: 시제, dtype: int64,\n",
       " 1    3192\n",
       " 0    1570\n",
       " Name: 확실성, dtype: int64)"
      ]
     },
     "execution_count": 391,
     "metadata": {},
     "output_type": "execute_result"
    }
   ],
   "source": [
    "df_aug.시제.value_counts(), df_aug.확실성.value_counts()"
   ]
  },
  {
   "cell_type": "code",
   "execution_count": 95,
   "metadata": {},
   "outputs": [],
   "source": [
    "import spacy\n",
    "from spacy.lang.ko.examples import sentences \n",
    "nlp = spacy.load(\"ko_core_news_sm\") #python -m spacy download ko_core_news_sm"
   ]
  },
  {
   "cell_type": "code",
   "execution_count": 96,
   "metadata": {},
   "outputs": [],
   "source": [
    "# open 불용어.txt, stop_words_set(불용어 사전) 만듬.\n",
    "import locale\n",
    "\n",
    "# 지역 설정 변경\n",
    "locale.setlocale(locale.LC_COLLATE, 'ko_KR.UTF-8')\n",
    "\n",
    "stop_words = {}\n",
    "\n",
    "with open('불용어.txt', 'r') as f:\n",
    "    for line in f:\n",
    "        line = line.strip('\\n')\n",
    "        line = line.split(':')  # 줄 바꿈 문자 제거\n",
    "        key = line[0] #key\n",
    "        value = line[1].split(', ')  # value\n",
    "        value.sort(key=locale.strxfrm)\n",
    "        stop_words[key] = value  # 딕셔너리에 추가\n",
    "\n",
    "\n",
    "# stop_words_set\n",
    "stop_words_lst=[]\n",
    "for _, value in stop_words.items():\n",
    "    stop_words_lst.extend(value)\n",
    "\n",
    "stop_words_set=set(stop_words_lst)\n",
    "stop_words_set.update(nlp.Defaults.stop_words)"
   ]
  },
  {
   "cell_type": "code",
   "execution_count": 97,
   "metadata": {},
   "outputs": [],
   "source": [
    "# 특수문자, 괄호, 괄호 안 문장 제거 함수 (증강 함수에 포함됨)\n",
    "def get_only_words(line):\n",
    "  parseText= re.compile(r'\\([^()]*\\)').sub('',  line)\n",
    "  parseText= re.compile('[^ \\w]').sub('', parseText)\n",
    "\n",
    "  return parseText"
   ]
  },
  {
   "cell_type": "code",
   "execution_count": null,
   "metadata": {},
   "outputs": [],
   "source": [
    "neg_adv_lst=['못', '안', '전혀', '결코', '별로', '그리', '도대체', '도저히', '절대', '그다지', '절대로', '도무지', '채', '미처', '좀처럼', '여간', '영', '비단', '차마', '통', '구태여']"
   ]
  },
  {
   "cell_type": "code",
   "execution_count": 137,
   "metadata": {},
   "outputs": [],
   "source": [
    "for neg_adv in neg_adv_lst:\n",
    "    if neg_adv in stop_words_set:\n",
    "        stop_words_set.remove(neg_adv)"
   ]
  },
  {
   "cell_type": "code",
   "execution_count": 161,
   "metadata": {},
   "outputs": [
    {
     "data": {
      "text/plain": [
       "True"
      ]
     },
     "execution_count": 161,
     "metadata": {},
     "output_type": "execute_result"
    }
   ],
   "source": [
    "'수' in stop_words_set"
   ]
  },
  {
   "cell_type": "code",
   "execution_count": 162,
   "metadata": {},
   "outputs": [],
   "source": [
    "stop_words_set.remove('수') #예측에 많이 쓰이는 의존명사"
   ]
  },
  {
   "cell_type": "code",
   "execution_count": 163,
   "metadata": {},
   "outputs": [],
   "source": [
    "def random_deletion(words, p):\n",
    "\n",
    "    new_words=[]\n",
    "    for token in words:\n",
    "        r=random.uniform(0, 1)\n",
    "        if r>p:\n",
    "            if token.text in stop_words_set: #1-p의 확률로 불용어를 제거한다.\n",
    "                continue\n",
    "            if (token.pos_ =='ADV') and (token.dep_ not in ['ROOT', 'fixed']) and (token.text not in neg_adv_lst): #1-p의 확률로 부정 부사를 제외한 부사 제거\n",
    "                continue\n",
    "            if token.pos_ in ['ADJ', 'NUM'] and token.dep_ not in ['ROOT', 'fixed']: #1-p확률로 수식하는 단어를 제거\n",
    "                continue\n",
    "        \n",
    "        new_words.append(token.text) #포함되는 토큰을 담는다.\n",
    "    return new_words"
   ]
  },
  {
   "cell_type": "code",
   "execution_count": 412,
   "metadata": {},
   "outputs": [
    {
     "name": "stdout",
     "output_type": "stream",
     "text": [
      "제1호 PART nmod\n",
      "태풍 NOUN compound\n",
      "마이삭이 NOUN nsubj\n",
      "오는 VERB acl\n",
      "이상의 NOUN nmod\n",
      "전국에 ADV obl\n",
      "바람과 CCONJ dislocated\n",
      "일부 NOUN compound\n",
      "지역에는 NOUN conj\n",
      "11일 NOUN compound\n",
      "물폭탄이 NOUN dislocated\n",
      "예상된다 ADV ROOT\n"
     ]
    }
   ],
   "source": [
    "doc = nlp(\"제1호 태풍 마이삭이 오는 이상의 전국에 바람과 일부 지역에는 11일 물폭탄이 예상된다\")\n",
    "for token in doc:\n",
    "    print(token.text, token.pos_, token.dep_)"
   ]
  },
  {
   "cell_type": "code",
   "execution_count": null,
   "metadata": {},
   "outputs": [],
   "source": []
  },
  {
   "cell_type": "code",
   "execution_count": 148,
   "metadata": {},
   "outputs": [
    {
     "data": {
      "text/plain": [
       "['마이크', '테스트', '전혀', '모르겠다', '.']"
      ]
     },
     "execution_count": 148,
     "metadata": {},
     "output_type": "execute_result"
    }
   ],
   "source": [
    "random_deletion(doc, 0)\n"
   ]
  },
  {
   "cell_type": "code",
   "execution_count": 149,
   "metadata": {},
   "outputs": [],
   "source": [
    "def random_swap(words, n):\n",
    "\tnew_words = words.copy()\n",
    "\tfor _ in range(n):\n",
    "\t\tnew_words = swap_word(new_words)\n",
    "\n",
    "\treturn new_words\n",
    "\n",
    "def swap_word(new_words):\n",
    "\tif len(new_words) > 4:\n",
    "\t\trandom_idx_1 = random.randint(1, len(new_words)-2) #양 끝 단어는 교체하지 못하게 함.\n",
    "\t\trandom_idx_2 = random_idx_1\n",
    "\t\tcounter = 0\n",
    "\n",
    "\t\twhile random_idx_2 == random_idx_1:\n",
    "\t\t\trandom_idx_2 = random.randint(1, len(new_words)-2)\n",
    "\t\t\tcounter += 1\n",
    "\t\t\tif counter > 3:\n",
    "\t\t\t\treturn new_words\n",
    "\n",
    "\t\tnew_words[random_idx_1], new_words[random_idx_2] = new_words[random_idx_2], new_words[random_idx_1]\n",
    "\treturn new_words\n"
   ]
  },
  {
   "cell_type": "code",
   "execution_count": 167,
   "metadata": {},
   "outputs": [],
   "source": [
    "def EDA(sentence, alpha_rs=0.1, p_rd=0.5, num_aug=5): #증강 문장 수, 제거 확률은 하이퍼파라미터처럼 조절해야 할 듯 함.\n",
    "\n",
    "\tsentence = get_only_words(sentence)\n",
    "\tdocs = nlp(sentence)\n",
    "\n",
    "\taugmented_sentences = []\n",
    "\n",
    "\t# rd\n",
    "\tfor _ in range(num_aug):\n",
    "\t\ta_words = random_deletion(docs, p_rd)\n",
    "\t\tif len(a_words) > 4:\n",
    "\t\t\taugmented_sentences.append(\" \".join(a_words))\n",
    "\t\n",
    "\tif len(augmented_sentences) < 2:\n",
    "\t\taugmented_sentences.append(sentence)\n",
    "\n",
    "\t\n",
    "\t# rs\n",
    "\tfor i, sent in enumerate(augmented_sentences):\n",
    "\t\twords = sent.split(' ')\n",
    "\t\twords = [word for word in words if word != \"\"]\n",
    "\t\tif words:\n",
    "\t\t\tif len(words)<20:\n",
    "\t\t\t\tnum_words=len(words)\n",
    "\t\t\t\tn_rs = max(1, int(alpha_rs*num_words))\n",
    "\t\t\t\ta_words = random_swap(words, n_rs)\n",
    "\t\t\t\taugmented_sentences[i] = \" \".join(a_words)\n",
    "\n",
    "\trandom.shuffle(augmented_sentences)\n",
    "\n",
    "\n",
    "\treturn augmented_sentences"
   ]
  },
  {
   "cell_type": "code",
   "execution_count": null,
   "metadata": {},
   "outputs": [],
   "source": [
    "doc = nlp(\"비가 내리는 지역에서는 돌풍과 함께 천둥번개가 치고 일부 지역에선 우박이 떨어지는 곳이 있을 예정이다\")\n",
    "for token in doc:\n",
    "    print(token.text, token.pos_, token.dep_)"
   ]
  },
  {
   "cell_type": "code",
   "execution_count": null,
   "metadata": {},
   "outputs": [],
   "source": [
    "EDA(\"비가 내리는 지역에서는 돌풍과 함께 천둥번개가 치고 일부 지역에선 우박이 떨어지는 곳이 예정이다\")"
   ]
  },
  {
   "cell_type": "code",
   "execution_count": 308,
   "metadata": {},
   "outputs": [],
   "source": [
    "df_aug.reset_index(drop=True, inplace=True)"
   ]
  },
  {
   "cell_type": "code",
   "execution_count": 314,
   "metadata": {},
   "outputs": [
    {
     "data": {
      "text/html": [
       "<div>\n",
       "<style scoped>\n",
       "    .dataframe tbody tr th:only-of-type {\n",
       "        vertical-align: middle;\n",
       "    }\n",
       "\n",
       "    .dataframe tbody tr th {\n",
       "        vertical-align: top;\n",
       "    }\n",
       "\n",
       "    .dataframe thead th {\n",
       "        text-align: right;\n",
       "    }\n",
       "</style>\n",
       "<table border=\"1\" class=\"dataframe\">\n",
       "  <thead>\n",
       "    <tr style=\"text-align: right;\">\n",
       "      <th></th>\n",
       "      <th>문장</th>\n",
       "      <th>유형</th>\n",
       "      <th>극성</th>\n",
       "      <th>시제</th>\n",
       "      <th>확실성</th>\n",
       "    </tr>\n",
       "  </thead>\n",
       "  <tbody>\n",
       "    <tr>\n",
       "      <th>0</th>\n",
       "      <td>비가 내리는 지역에서는 돌풍과 함께 천둥번개가 치고 일부 지역에선 우박이 떨어지는 ...</td>\n",
       "      <td>2</td>\n",
       "      <td>0</td>\n",
       "      <td>1</td>\n",
       "      <td>0</td>\n",
       "    </tr>\n",
       "    <tr>\n",
       "      <th>1</th>\n",
       "      <td>사람 친구는 어느 한쪽에 애인이 생기면 끊어주는 게 쌈빡한 예의 아닐까</td>\n",
       "      <td>0</td>\n",
       "      <td>0</td>\n",
       "      <td>1</td>\n",
       "      <td>1</td>\n",
       "    </tr>\n",
       "    <tr>\n",
       "      <th>2</th>\n",
       "      <td>a 사업을 처음부터 직접 키우려 했다면 쿠팡플레이의 타임 투 마켓은 1년이 걸렸을 것이다</td>\n",
       "      <td>2</td>\n",
       "      <td>2</td>\n",
       "      <td>0</td>\n",
       "      <td>1</td>\n",
       "    </tr>\n",
       "    <tr>\n",
       "      <th>3</th>\n",
       "      <td>산소통도 셰르파도 포기한 채 나만의 힘으로 오른다는 뜻입니다</td>\n",
       "      <td>0</td>\n",
       "      <td>0</td>\n",
       "      <td>2</td>\n",
       "      <td>1</td>\n",
       "    </tr>\n",
       "    <tr>\n",
       "      <th>4</th>\n",
       "      <td>최민철 배우의 a형 독감 확진 판정으로 뮤지컬 레베카 1월 1일 잭 파벨 역 캐스팅...</td>\n",
       "      <td>0</td>\n",
       "      <td>0</td>\n",
       "      <td>0</td>\n",
       "      <td>1</td>\n",
       "    </tr>\n",
       "    <tr>\n",
       "      <th>...</th>\n",
       "      <td>...</td>\n",
       "      <td>...</td>\n",
       "      <td>...</td>\n",
       "      <td>...</td>\n",
       "      <td>...</td>\n",
       "    </tr>\n",
       "    <tr>\n",
       "      <th>4357</th>\n",
       "      <td>고대일록은 리더십의 실종이 어떤 결과를 초래하는지 잘 보여준다</td>\n",
       "      <td>3</td>\n",
       "      <td>0</td>\n",
       "      <td>2</td>\n",
       "      <td>1</td>\n",
       "    </tr>\n",
       "    <tr>\n",
       "      <th>4358</th>\n",
       "      <td>조선의 지배층은 길이 넓고 다리가 견고할 경우 조선이 잦은 외침을 받아 남아나지 않...</td>\n",
       "      <td>1</td>\n",
       "      <td>0</td>\n",
       "      <td>0</td>\n",
       "      <td>1</td>\n",
       "    </tr>\n",
       "    <tr>\n",
       "      <th>4359</th>\n",
       "      <td>그러나 이 같은 수치는 한 달 새 코픽스의 변동을 단순 계산한 것이며 이번달 코픽스...</td>\n",
       "      <td>3</td>\n",
       "      <td>0</td>\n",
       "      <td>2</td>\n",
       "      <td>1</td>\n",
       "    </tr>\n",
       "    <tr>\n",
       "      <th>4360</th>\n",
       "      <td>그러나 여전히 11는 주위 사람들의 시선이 부담스러워 구매를 못 했다고 응답했다</td>\n",
       "      <td>1</td>\n",
       "      <td>0</td>\n",
       "      <td>0</td>\n",
       "      <td>1</td>\n",
       "    </tr>\n",
       "    <tr>\n",
       "      <th>4361</th>\n",
       "      <td>각 인물들은 모두 다른 사연과 이유로 단 하나뿐인 돈 가방을 차지하려 하는 모습을 보인다</td>\n",
       "      <td>1</td>\n",
       "      <td>0</td>\n",
       "      <td>2</td>\n",
       "      <td>1</td>\n",
       "    </tr>\n",
       "  </tbody>\n",
       "</table>\n",
       "<p>4362 rows × 5 columns</p>\n",
       "</div>"
      ],
      "text/plain": [
       "                                                     문장  유형  극성  시제  확실성\n",
       "0     비가 내리는 지역에서는 돌풍과 함께 천둥번개가 치고 일부 지역에선 우박이 떨어지는 ...   2   0   1    0\n",
       "1               사람 친구는 어느 한쪽에 애인이 생기면 끊어주는 게 쌈빡한 예의 아닐까   0   0   1    1\n",
       "2     a 사업을 처음부터 직접 키우려 했다면 쿠팡플레이의 타임 투 마켓은 1년이 걸렸을 것이다   2   2   0    1\n",
       "3                     산소통도 셰르파도 포기한 채 나만의 힘으로 오른다는 뜻입니다   0   0   2    1\n",
       "4     최민철 배우의 a형 독감 확진 판정으로 뮤지컬 레베카 1월 1일 잭 파벨 역 캐스팅...   0   0   0    1\n",
       "...                                                 ...  ..  ..  ..  ...\n",
       "4357                 고대일록은 리더십의 실종이 어떤 결과를 초래하는지 잘 보여준다   3   0   2    1\n",
       "4358  조선의 지배층은 길이 넓고 다리가 견고할 경우 조선이 잦은 외침을 받아 남아나지 않...   1   0   0    1\n",
       "4359  그러나 이 같은 수치는 한 달 새 코픽스의 변동을 단순 계산한 것이며 이번달 코픽스...   3   0   2    1\n",
       "4360       그러나 여전히 11는 주위 사람들의 시선이 부담스러워 구매를 못 했다고 응답했다   1   0   0    1\n",
       "4361  각 인물들은 모두 다른 사연과 이유로 단 하나뿐인 돈 가방을 차지하려 하는 모습을 보인다   1   0   2    1\n",
       "\n",
       "[4362 rows x 5 columns]"
      ]
     },
     "execution_count": 314,
     "metadata": {},
     "output_type": "execute_result"
    }
   ],
   "source": [
    "df_aug"
   ]
  },
  {
   "cell_type": "code",
   "execution_count": 344,
   "metadata": {},
   "outputs": [],
   "source": [
    "def rs_rd_aug(df):\n",
    "  df_new=df.copy()\n",
    "  aug_sent_lst = []\n",
    "  label_lst = []\n",
    "\n",
    "  for idx, sent in enumerate(df_new['문장']):\n",
    "    aug_sents = EDA(sent)\n",
    "    aug_num = len(aug_sents)\n",
    "    label=list(df_new[['유형', '극성', '시제', '확실성']].iloc[idx].values)\n",
    "    \n",
    "    sent_label_lst = [label for _ in range(aug_num)]\n",
    "    label_lst.extend(sent_label_lst)\n",
    "\n",
    "    aug_sent_lst.extend(aug_sents)\n",
    "    \n",
    "  label_df = pd.DataFrame(label_lst, columns=['유형', '극성', '시제', '확실성'], dtype=int)\n",
    "  sent_df = pd.DataFrame(aug_sent_lst, columns=['문장'])\n",
    "  \n",
    "  aug_df=pd.concat([sent_df, label_df], axis = 1)\n",
    "\n",
    "  return aug_df"
   ]
  },
  {
   "cell_type": "code",
   "execution_count": 327,
   "metadata": {},
   "outputs": [
    {
     "data": {
      "text/html": [
       "<div>\n",
       "<style scoped>\n",
       "    .dataframe tbody tr th:only-of-type {\n",
       "        vertical-align: middle;\n",
       "    }\n",
       "\n",
       "    .dataframe tbody tr th {\n",
       "        vertical-align: top;\n",
       "    }\n",
       "\n",
       "    .dataframe thead th {\n",
       "        text-align: right;\n",
       "    }\n",
       "</style>\n",
       "<table border=\"1\" class=\"dataframe\">\n",
       "  <thead>\n",
       "    <tr style=\"text-align: right;\">\n",
       "      <th></th>\n",
       "      <th>문장</th>\n",
       "      <th>유형</th>\n",
       "      <th>극성</th>\n",
       "      <th>시제</th>\n",
       "      <th>확실성</th>\n",
       "    </tr>\n",
       "  </thead>\n",
       "  <tbody>\n",
       "    <tr>\n",
       "      <th>0</th>\n",
       "      <td>비가 내리는 지역에서는 돌풍과 함께 천둥번개가 치고 일부 지역에선 우박이 떨어지는 ...</td>\n",
       "      <td>2</td>\n",
       "      <td>0</td>\n",
       "      <td>1</td>\n",
       "      <td>0</td>\n",
       "    </tr>\n",
       "    <tr>\n",
       "      <th>1</th>\n",
       "      <td>사람 친구는 어느 한쪽에 애인이 생기면 끊어주는 게 쌈빡한 예의 아닐까</td>\n",
       "      <td>0</td>\n",
       "      <td>0</td>\n",
       "      <td>1</td>\n",
       "      <td>1</td>\n",
       "    </tr>\n",
       "    <tr>\n",
       "      <th>2</th>\n",
       "      <td>a 사업을 처음부터 직접 키우려 했다면 쿠팡플레이의 타임 투 마켓은 1년이 걸렸을 것이다</td>\n",
       "      <td>2</td>\n",
       "      <td>2</td>\n",
       "      <td>0</td>\n",
       "      <td>1</td>\n",
       "    </tr>\n",
       "    <tr>\n",
       "      <th>3</th>\n",
       "      <td>산소통도 셰르파도 포기한 채 나만의 힘으로 오른다는 뜻입니다</td>\n",
       "      <td>0</td>\n",
       "      <td>0</td>\n",
       "      <td>2</td>\n",
       "      <td>1</td>\n",
       "    </tr>\n",
       "    <tr>\n",
       "      <th>4</th>\n",
       "      <td>최민철 배우의 a형 독감 확진 판정으로 뮤지컬 레베카 1월 1일 잭 파벨 역 캐스팅...</td>\n",
       "      <td>0</td>\n",
       "      <td>0</td>\n",
       "      <td>0</td>\n",
       "      <td>1</td>\n",
       "    </tr>\n",
       "    <tr>\n",
       "      <th>...</th>\n",
       "      <td>...</td>\n",
       "      <td>...</td>\n",
       "      <td>...</td>\n",
       "      <td>...</td>\n",
       "      <td>...</td>\n",
       "    </tr>\n",
       "    <tr>\n",
       "      <th>4357</th>\n",
       "      <td>고대일록은 리더십의 실종이 어떤 결과를 초래하는지 잘 보여준다</td>\n",
       "      <td>3</td>\n",
       "      <td>0</td>\n",
       "      <td>2</td>\n",
       "      <td>1</td>\n",
       "    </tr>\n",
       "    <tr>\n",
       "      <th>4358</th>\n",
       "      <td>조선의 지배층은 길이 넓고 다리가 견고할 경우 조선이 잦은 외침을 받아 남아나지 않...</td>\n",
       "      <td>1</td>\n",
       "      <td>0</td>\n",
       "      <td>0</td>\n",
       "      <td>1</td>\n",
       "    </tr>\n",
       "    <tr>\n",
       "      <th>4359</th>\n",
       "      <td>그러나 이 같은 수치는 한 달 새 코픽스의 변동을 단순 계산한 것이며 이번달 코픽스...</td>\n",
       "      <td>3</td>\n",
       "      <td>0</td>\n",
       "      <td>2</td>\n",
       "      <td>1</td>\n",
       "    </tr>\n",
       "    <tr>\n",
       "      <th>4360</th>\n",
       "      <td>그러나 여전히 11는 주위 사람들의 시선이 부담스러워 구매를 못 했다고 응답했다</td>\n",
       "      <td>1</td>\n",
       "      <td>0</td>\n",
       "      <td>0</td>\n",
       "      <td>1</td>\n",
       "    </tr>\n",
       "    <tr>\n",
       "      <th>4361</th>\n",
       "      <td>각 인물들은 모두 다른 사연과 이유로 단 하나뿐인 돈 가방을 차지하려 하는 모습을 보인다</td>\n",
       "      <td>1</td>\n",
       "      <td>0</td>\n",
       "      <td>2</td>\n",
       "      <td>1</td>\n",
       "    </tr>\n",
       "  </tbody>\n",
       "</table>\n",
       "<p>4362 rows × 5 columns</p>\n",
       "</div>"
      ],
      "text/plain": [
       "                                                     문장  유형  극성  시제  확실성\n",
       "0     비가 내리는 지역에서는 돌풍과 함께 천둥번개가 치고 일부 지역에선 우박이 떨어지는 ...   2   0   1    0\n",
       "1               사람 친구는 어느 한쪽에 애인이 생기면 끊어주는 게 쌈빡한 예의 아닐까   0   0   1    1\n",
       "2     a 사업을 처음부터 직접 키우려 했다면 쿠팡플레이의 타임 투 마켓은 1년이 걸렸을 것이다   2   2   0    1\n",
       "3                     산소통도 셰르파도 포기한 채 나만의 힘으로 오른다는 뜻입니다   0   0   2    1\n",
       "4     최민철 배우의 a형 독감 확진 판정으로 뮤지컬 레베카 1월 1일 잭 파벨 역 캐스팅...   0   0   0    1\n",
       "...                                                 ...  ..  ..  ..  ...\n",
       "4357                 고대일록은 리더십의 실종이 어떤 결과를 초래하는지 잘 보여준다   3   0   2    1\n",
       "4358  조선의 지배층은 길이 넓고 다리가 견고할 경우 조선이 잦은 외침을 받아 남아나지 않...   1   0   0    1\n",
       "4359  그러나 이 같은 수치는 한 달 새 코픽스의 변동을 단순 계산한 것이며 이번달 코픽스...   3   0   2    1\n",
       "4360       그러나 여전히 11는 주위 사람들의 시선이 부담스러워 구매를 못 했다고 응답했다   1   0   0    1\n",
       "4361  각 인물들은 모두 다른 사연과 이유로 단 하나뿐인 돈 가방을 차지하려 하는 모습을 보인다   1   0   2    1\n",
       "\n",
       "[4362 rows x 5 columns]"
      ]
     },
     "execution_count": 327,
     "metadata": {},
     "output_type": "execute_result"
    }
   ],
   "source": [
    "df_aug"
   ]
  },
  {
   "cell_type": "code",
   "execution_count": 392,
   "metadata": {},
   "outputs": [],
   "source": [
    "df_aug_ = rs_rd_aug(df_aug)"
   ]
  },
  {
   "cell_type": "code",
   "execution_count": 393,
   "metadata": {},
   "outputs": [
    {
     "data": {
      "text/html": [
       "<div>\n",
       "<style scoped>\n",
       "    .dataframe tbody tr th:only-of-type {\n",
       "        vertical-align: middle;\n",
       "    }\n",
       "\n",
       "    .dataframe tbody tr th {\n",
       "        vertical-align: top;\n",
       "    }\n",
       "\n",
       "    .dataframe thead th {\n",
       "        text-align: right;\n",
       "    }\n",
       "</style>\n",
       "<table border=\"1\" class=\"dataframe\">\n",
       "  <thead>\n",
       "    <tr style=\"text-align: right;\">\n",
       "      <th></th>\n",
       "      <th>문장</th>\n",
       "      <th>유형</th>\n",
       "      <th>극성</th>\n",
       "      <th>시제</th>\n",
       "      <th>확실성</th>\n",
       "    </tr>\n",
       "  </thead>\n",
       "  <tbody>\n",
       "    <tr>\n",
       "      <th>0</th>\n",
       "      <td>비가 내리는 지역에서는 치고 곳이 지역에선 우박이 떨어지는 일부 있을 예정이다</td>\n",
       "      <td>2</td>\n",
       "      <td>0</td>\n",
       "      <td>1</td>\n",
       "      <td>0</td>\n",
       "    </tr>\n",
       "    <tr>\n",
       "      <th>1</th>\n",
       "      <td>비가 떨어지는 지역에서는 돌풍과 함께 천둥번개가 치고 일부 지역에선 우박이 내리는 ...</td>\n",
       "      <td>2</td>\n",
       "      <td>0</td>\n",
       "      <td>1</td>\n",
       "      <td>0</td>\n",
       "    </tr>\n",
       "    <tr>\n",
       "      <th>2</th>\n",
       "      <td>비가 내리는 지역에서는 돌풍과 함께 천둥번개가 치고 일부 우박이 있을 곳이 떨어지는...</td>\n",
       "      <td>2</td>\n",
       "      <td>0</td>\n",
       "      <td>1</td>\n",
       "      <td>0</td>\n",
       "    </tr>\n",
       "    <tr>\n",
       "      <th>3</th>\n",
       "      <td>비가 곳이 지역에서는 천둥번개가 치고 일부 우박이 떨어지는 내리는 예정이다</td>\n",
       "      <td>2</td>\n",
       "      <td>0</td>\n",
       "      <td>1</td>\n",
       "      <td>0</td>\n",
       "    </tr>\n",
       "    <tr>\n",
       "      <th>4</th>\n",
       "      <td>비가 내리는 곳이 돌풍과 치고 일부 지역에선 우박이 떨어지는 지역에서는 예정이다</td>\n",
       "      <td>2</td>\n",
       "      <td>0</td>\n",
       "      <td>1</td>\n",
       "      <td>0</td>\n",
       "    </tr>\n",
       "    <tr>\n",
       "      <th>...</th>\n",
       "      <td>...</td>\n",
       "      <td>...</td>\n",
       "      <td>...</td>\n",
       "      <td>...</td>\n",
       "      <td>...</td>\n",
       "    </tr>\n",
       "    <tr>\n",
       "      <th>22587</th>\n",
       "      <td>각 인물들은 모두 사연과 이유로 하나뿐인 모습을 가방을 차지하려 하는 돈 보인다</td>\n",
       "      <td>1</td>\n",
       "      <td>0</td>\n",
       "      <td>2</td>\n",
       "      <td>1</td>\n",
       "    </tr>\n",
       "    <tr>\n",
       "      <th>22588</th>\n",
       "      <td>각 인물들은 다른 하는 이유로 하나뿐인 돈 가방을 차지하려 사연과 모습을 보인다</td>\n",
       "      <td>1</td>\n",
       "      <td>0</td>\n",
       "      <td>2</td>\n",
       "      <td>1</td>\n",
       "    </tr>\n",
       "    <tr>\n",
       "      <th>22589</th>\n",
       "      <td>각 인물들은 모두 다른 하나뿐인 이유로 사연과 돈 가방을 차지하려 하는 모습을 보인다</td>\n",
       "      <td>1</td>\n",
       "      <td>0</td>\n",
       "      <td>2</td>\n",
       "      <td>1</td>\n",
       "    </tr>\n",
       "    <tr>\n",
       "      <th>22590</th>\n",
       "      <td>각 인물들은 모두 다른 사연과 가방을 단 돈 이유로 차지하려 하는 모습을 보인다</td>\n",
       "      <td>1</td>\n",
       "      <td>0</td>\n",
       "      <td>2</td>\n",
       "      <td>1</td>\n",
       "    </tr>\n",
       "    <tr>\n",
       "      <th>22591</th>\n",
       "      <td>인물들은 하나뿐인 사연과 이유로 단 다른 돈 가방을 차지하려 하는 모습을 보인다</td>\n",
       "      <td>1</td>\n",
       "      <td>0</td>\n",
       "      <td>2</td>\n",
       "      <td>1</td>\n",
       "    </tr>\n",
       "  </tbody>\n",
       "</table>\n",
       "<p>22592 rows × 5 columns</p>\n",
       "</div>"
      ],
      "text/plain": [
       "                                                      문장  유형  극성  시제  확실성\n",
       "0            비가 내리는 지역에서는 치고 곳이 지역에선 우박이 떨어지는 일부 있을 예정이다   2   0   1    0\n",
       "1      비가 떨어지는 지역에서는 돌풍과 함께 천둥번개가 치고 일부 지역에선 우박이 내리는 ...   2   0   1    0\n",
       "2      비가 내리는 지역에서는 돌풍과 함께 천둥번개가 치고 일부 우박이 있을 곳이 떨어지는...   2   0   1    0\n",
       "3              비가 곳이 지역에서는 천둥번개가 치고 일부 우박이 떨어지는 내리는 예정이다   2   0   1    0\n",
       "4           비가 내리는 곳이 돌풍과 치고 일부 지역에선 우박이 떨어지는 지역에서는 예정이다   2   0   1    0\n",
       "...                                                  ...  ..  ..  ..  ...\n",
       "22587       각 인물들은 모두 사연과 이유로 하나뿐인 모습을 가방을 차지하려 하는 돈 보인다   1   0   2    1\n",
       "22588       각 인물들은 다른 하는 이유로 하나뿐인 돈 가방을 차지하려 사연과 모습을 보인다   1   0   2    1\n",
       "22589    각 인물들은 모두 다른 하나뿐인 이유로 사연과 돈 가방을 차지하려 하는 모습을 보인다   1   0   2    1\n",
       "22590       각 인물들은 모두 다른 사연과 가방을 단 돈 이유로 차지하려 하는 모습을 보인다   1   0   2    1\n",
       "22591       인물들은 하나뿐인 사연과 이유로 단 다른 돈 가방을 차지하려 하는 모습을 보인다   1   0   2    1\n",
       "\n",
       "[22592 rows x 5 columns]"
      ]
     },
     "execution_count": 393,
     "metadata": {},
     "output_type": "execute_result"
    }
   ],
   "source": [
    "df_aug_"
   ]
  },
  {
   "cell_type": "code",
   "execution_count": 394,
   "metadata": {},
   "outputs": [],
   "source": [
    "df_aug_.drop_duplicates(inplace=True)"
   ]
  },
  {
   "cell_type": "code",
   "execution_count": 395,
   "metadata": {},
   "outputs": [
    {
     "data": {
      "text/plain": [
       "문장     0\n",
       "유형     0\n",
       "극성     0\n",
       "시제     0\n",
       "확실성    0\n",
       "dtype: int64"
      ]
     },
     "execution_count": 395,
     "metadata": {},
     "output_type": "execute_result"
    }
   ],
   "source": [
    "df_aug_.isna().sum()"
   ]
  },
  {
   "cell_type": "code",
   "execution_count": 396,
   "metadata": {},
   "outputs": [
    {
     "data": {
      "text/plain": [
       "(1    10846\n",
       " 3     5984\n",
       " 0     2483\n",
       " 2     2303\n",
       " Name: 유형, dtype: int64,\n",
       " 0    17785\n",
       " 2     2536\n",
       " 1     1295\n",
       " Name: 극성, dtype: int64)"
      ]
     },
     "execution_count": 396,
     "metadata": {},
     "output_type": "execute_result"
    }
   ],
   "source": [
    "df_aug_.유형.value_counts(), df_aug_.극성.value_counts()"
   ]
  },
  {
   "cell_type": "code",
   "execution_count": 364,
   "metadata": {},
   "outputs": [
    {
     "data": {
      "text/plain": [
       "1    1889\n",
       "2    1421\n",
       "0    1052\n",
       "Name: 시제, dtype: int64"
      ]
     },
     "execution_count": 364,
     "metadata": {},
     "output_type": "execute_result"
    }
   ],
   "source": [
    "df_aug.시제.value_counts()"
   ]
  },
  {
   "cell_type": "code",
   "execution_count": 397,
   "metadata": {},
   "outputs": [
    {
     "data": {
      "text/plain": [
       "(1    8900\n",
       " 2    7479\n",
       " 0    5237\n",
       " Name: 시제, dtype: int64,\n",
       " 1    14378\n",
       " 0     7238\n",
       " Name: 확실성, dtype: int64)"
      ]
     },
     "execution_count": 397,
     "metadata": {},
     "output_type": "execute_result"
    }
   ],
   "source": [
    "df_aug_.시제.value_counts(), df_aug_.확실성.value_counts()"
   ]
  },
  {
   "cell_type": "code",
   "execution_count": 398,
   "metadata": {},
   "outputs": [],
   "source": [
    "df_type = df[df['유형']!=1]\n",
    "df_polar = df[df['극성']!=0]\n",
    "df_certainty = df[df['확실성']==0]\n",
    "df_tense = df[df['시제']==1]"
   ]
  },
  {
   "cell_type": "code",
   "execution_count": 400,
   "metadata": {},
   "outputs": [],
   "source": [
    "df_under_type = df[df['유형']==1].sample(2000)\n",
    "df_under_polar = df[df['극성']==0].sample(2000)\n",
    "df_under_certainty = df[df['확실성']==1].sample(2000)\n",
    "df_under_tense = df[df['시제']!=1].sample(2000)"
   ]
  },
  {
   "cell_type": "code",
   "execution_count": 402,
   "metadata": {},
   "outputs": [],
   "source": [
    "df_under = pd.concat([df_under_type, df_under_polar, df_under_certainty, df_under_tense]).drop_duplicates()"
   ]
  },
  {
   "cell_type": "code",
   "execution_count": 399,
   "metadata": {},
   "outputs": [
    {
     "data": {
      "text/html": [
       "<div>\n",
       "<style scoped>\n",
       "    .dataframe tbody tr th:only-of-type {\n",
       "        vertical-align: middle;\n",
       "    }\n",
       "\n",
       "    .dataframe tbody tr th {\n",
       "        vertical-align: top;\n",
       "    }\n",
       "\n",
       "    .dataframe thead th {\n",
       "        text-align: right;\n",
       "    }\n",
       "</style>\n",
       "<table border=\"1\" class=\"dataframe\">\n",
       "  <thead>\n",
       "    <tr style=\"text-align: right;\">\n",
       "      <th></th>\n",
       "      <th>문장</th>\n",
       "      <th>유형</th>\n",
       "      <th>극성</th>\n",
       "      <th>시제</th>\n",
       "      <th>확실성</th>\n",
       "    </tr>\n",
       "  </thead>\n",
       "  <tbody>\n",
       "    <tr>\n",
       "      <th>0</th>\n",
       "      <td>비가 내리는 지역에서는 치고 곳이 지역에선 우박이 떨어지는 일부 있을 예정이다</td>\n",
       "      <td>2</td>\n",
       "      <td>0</td>\n",
       "      <td>1</td>\n",
       "      <td>0</td>\n",
       "    </tr>\n",
       "    <tr>\n",
       "      <th>1</th>\n",
       "      <td>비가 떨어지는 지역에서는 돌풍과 함께 천둥번개가 치고 일부 지역에선 우박이 내리는 ...</td>\n",
       "      <td>2</td>\n",
       "      <td>0</td>\n",
       "      <td>1</td>\n",
       "      <td>0</td>\n",
       "    </tr>\n",
       "    <tr>\n",
       "      <th>2</th>\n",
       "      <td>비가 내리는 지역에서는 돌풍과 함께 천둥번개가 치고 일부 우박이 있을 곳이 떨어지는...</td>\n",
       "      <td>2</td>\n",
       "      <td>0</td>\n",
       "      <td>1</td>\n",
       "      <td>0</td>\n",
       "    </tr>\n",
       "    <tr>\n",
       "      <th>3</th>\n",
       "      <td>비가 곳이 지역에서는 천둥번개가 치고 일부 우박이 떨어지는 내리는 예정이다</td>\n",
       "      <td>2</td>\n",
       "      <td>0</td>\n",
       "      <td>1</td>\n",
       "      <td>0</td>\n",
       "    </tr>\n",
       "    <tr>\n",
       "      <th>4</th>\n",
       "      <td>비가 내리는 곳이 돌풍과 치고 일부 지역에선 우박이 떨어지는 지역에서는 예정이다</td>\n",
       "      <td>2</td>\n",
       "      <td>0</td>\n",
       "      <td>1</td>\n",
       "      <td>0</td>\n",
       "    </tr>\n",
       "    <tr>\n",
       "      <th>...</th>\n",
       "      <td>...</td>\n",
       "      <td>...</td>\n",
       "      <td>...</td>\n",
       "      <td>...</td>\n",
       "      <td>...</td>\n",
       "    </tr>\n",
       "    <tr>\n",
       "      <th>16286</th>\n",
       "      <td>산재로 인해 노동자가 사망할 경우 도급인에게는 1년 이하 징역 또는 1억원 이하 벌...</td>\n",
       "      <td>1</td>\n",
       "      <td>0</td>\n",
       "      <td>1</td>\n",
       "      <td>1</td>\n",
       "    </tr>\n",
       "    <tr>\n",
       "      <th>16311</th>\n",
       "      <td>장중 대규모 주식을 매도하면 주가가 급락할 수 있어 장이 끝난 뒤 매매에 나선다</td>\n",
       "      <td>1</td>\n",
       "      <td>0</td>\n",
       "      <td>1</td>\n",
       "      <td>1</td>\n",
       "    </tr>\n",
       "    <tr>\n",
       "      <th>16340</th>\n",
       "      <td>중국 터키 스웨덴 등은 조만간 시범운영에 나설 예정이다</td>\n",
       "      <td>1</td>\n",
       "      <td>0</td>\n",
       "      <td>1</td>\n",
       "      <td>1</td>\n",
       "    </tr>\n",
       "    <tr>\n",
       "      <th>16470</th>\n",
       "      <td>채권 만기는 내년 1월로 이를 상환하지 못하면 디폴트 위기를 맞게 된다</td>\n",
       "      <td>1</td>\n",
       "      <td>0</td>\n",
       "      <td>1</td>\n",
       "      <td>1</td>\n",
       "    </tr>\n",
       "    <tr>\n",
       "      <th>16486</th>\n",
       "      <td>불안한 1대들과 공감하며 소통했던 라디오 a의 모습부터 사회적 문제 제기와 해결까지...</td>\n",
       "      <td>1</td>\n",
       "      <td>0</td>\n",
       "      <td>1</td>\n",
       "      <td>1</td>\n",
       "    </tr>\n",
       "  </tbody>\n",
       "</table>\n",
       "<p>25962 rows × 5 columns</p>\n",
       "</div>"
      ],
      "text/plain": [
       "                                                      문장  유형  극성  시제  확실성\n",
       "0            비가 내리는 지역에서는 치고 곳이 지역에선 우박이 떨어지는 일부 있을 예정이다   2   0   1    0\n",
       "1      비가 떨어지는 지역에서는 돌풍과 함께 천둥번개가 치고 일부 지역에선 우박이 내리는 ...   2   0   1    0\n",
       "2      비가 내리는 지역에서는 돌풍과 함께 천둥번개가 치고 일부 우박이 있을 곳이 떨어지는...   2   0   1    0\n",
       "3              비가 곳이 지역에서는 천둥번개가 치고 일부 우박이 떨어지는 내리는 예정이다   2   0   1    0\n",
       "4           비가 내리는 곳이 돌풍과 치고 일부 지역에선 우박이 떨어지는 지역에서는 예정이다   2   0   1    0\n",
       "...                                                  ...  ..  ..  ..  ...\n",
       "16286  산재로 인해 노동자가 사망할 경우 도급인에게는 1년 이하 징역 또는 1억원 이하 벌...   1   0   1    1\n",
       "16311       장중 대규모 주식을 매도하면 주가가 급락할 수 있어 장이 끝난 뒤 매매에 나선다   1   0   1    1\n",
       "16340                     중국 터키 스웨덴 등은 조만간 시범운영에 나설 예정이다   1   0   1    1\n",
       "16470            채권 만기는 내년 1월로 이를 상환하지 못하면 디폴트 위기를 맞게 된다   1   0   1    1\n",
       "16486  불안한 1대들과 공감하며 소통했던 라디오 a의 모습부터 사회적 문제 제기와 해결까지...   1   0   1    1\n",
       "\n",
       "[25962 rows x 5 columns]"
      ]
     },
     "execution_count": 399,
     "metadata": {},
     "output_type": "execute_result"
    }
   ],
   "source": [
    "df_aug_=pd.concat([df_aug_, df_type, df_polar, df_certainty, df_tense]).drop_duplicates()\n"
   ]
  },
  {
   "cell_type": "code",
   "execution_count": 403,
   "metadata": {},
   "outputs": [
    {
     "data": {
      "text/html": [
       "<div>\n",
       "<style scoped>\n",
       "    .dataframe tbody tr th:only-of-type {\n",
       "        vertical-align: middle;\n",
       "    }\n",
       "\n",
       "    .dataframe tbody tr th {\n",
       "        vertical-align: top;\n",
       "    }\n",
       "\n",
       "    .dataframe thead th {\n",
       "        text-align: right;\n",
       "    }\n",
       "</style>\n",
       "<table border=\"1\" class=\"dataframe\">\n",
       "  <thead>\n",
       "    <tr style=\"text-align: right;\">\n",
       "      <th></th>\n",
       "      <th>문장</th>\n",
       "      <th>유형</th>\n",
       "      <th>극성</th>\n",
       "      <th>시제</th>\n",
       "      <th>확실성</th>\n",
       "    </tr>\n",
       "  </thead>\n",
       "  <tbody>\n",
       "    <tr>\n",
       "      <th>0</th>\n",
       "      <td>비가 내리는 지역에서는 치고 곳이 지역에선 우박이 떨어지는 일부 있을 예정이다</td>\n",
       "      <td>2</td>\n",
       "      <td>0</td>\n",
       "      <td>1</td>\n",
       "      <td>0</td>\n",
       "    </tr>\n",
       "    <tr>\n",
       "      <th>1</th>\n",
       "      <td>비가 떨어지는 지역에서는 돌풍과 함께 천둥번개가 치고 일부 지역에선 우박이 내리는 ...</td>\n",
       "      <td>2</td>\n",
       "      <td>0</td>\n",
       "      <td>1</td>\n",
       "      <td>0</td>\n",
       "    </tr>\n",
       "    <tr>\n",
       "      <th>2</th>\n",
       "      <td>비가 내리는 지역에서는 돌풍과 함께 천둥번개가 치고 일부 우박이 있을 곳이 떨어지는...</td>\n",
       "      <td>2</td>\n",
       "      <td>0</td>\n",
       "      <td>1</td>\n",
       "      <td>0</td>\n",
       "    </tr>\n",
       "    <tr>\n",
       "      <th>3</th>\n",
       "      <td>비가 곳이 지역에서는 천둥번개가 치고 일부 우박이 떨어지는 내리는 예정이다</td>\n",
       "      <td>2</td>\n",
       "      <td>0</td>\n",
       "      <td>1</td>\n",
       "      <td>0</td>\n",
       "    </tr>\n",
       "    <tr>\n",
       "      <th>4</th>\n",
       "      <td>비가 내리는 곳이 돌풍과 치고 일부 지역에선 우박이 떨어지는 지역에서는 예정이다</td>\n",
       "      <td>2</td>\n",
       "      <td>0</td>\n",
       "      <td>1</td>\n",
       "      <td>0</td>\n",
       "    </tr>\n",
       "    <tr>\n",
       "      <th>...</th>\n",
       "      <td>...</td>\n",
       "      <td>...</td>\n",
       "      <td>...</td>\n",
       "      <td>...</td>\n",
       "      <td>...</td>\n",
       "    </tr>\n",
       "    <tr>\n",
       "      <th>14005</th>\n",
       "      <td>또한 a씨가 자신이 근무한 편의점에서 1일 동안 최소 1만원 이상의 돈을 들여 상품...</td>\n",
       "      <td>1</td>\n",
       "      <td>0</td>\n",
       "      <td>0</td>\n",
       "      <td>0</td>\n",
       "    </tr>\n",
       "    <tr>\n",
       "      <th>3872</th>\n",
       "      <td>오유리 빗썸경제연구소 정책연구팀장은 국내 규제가 미국의 동향을 따를 가능성이 높은 ...</td>\n",
       "      <td>1</td>\n",
       "      <td>0</td>\n",
       "      <td>0</td>\n",
       "      <td>1</td>\n",
       "    </tr>\n",
       "    <tr>\n",
       "      <th>14875</th>\n",
       "      <td>보라네트워크는 카카오게임즈의 계열사다</td>\n",
       "      <td>1</td>\n",
       "      <td>0</td>\n",
       "      <td>2</td>\n",
       "      <td>1</td>\n",
       "    </tr>\n",
       "    <tr>\n",
       "      <th>5136</th>\n",
       "      <td>컴투스는 최근 크리티카 글로벌의 a1a 블록체인 생태계 합류를 위해 참여자들이 직접...</td>\n",
       "      <td>1</td>\n",
       "      <td>0</td>\n",
       "      <td>0</td>\n",
       "      <td>1</td>\n",
       "    </tr>\n",
       "    <tr>\n",
       "      <th>5142</th>\n",
       "      <td>여기에 더불어민주당의 두 번째 고민이 담겨 있다</td>\n",
       "      <td>1</td>\n",
       "      <td>0</td>\n",
       "      <td>2</td>\n",
       "      <td>1</td>\n",
       "    </tr>\n",
       "  </tbody>\n",
       "</table>\n",
       "<p>28124 rows × 5 columns</p>\n",
       "</div>"
      ],
      "text/plain": [
       "                                                      문장  유형  극성  시제  확실성\n",
       "0            비가 내리는 지역에서는 치고 곳이 지역에선 우박이 떨어지는 일부 있을 예정이다   2   0   1    0\n",
       "1      비가 떨어지는 지역에서는 돌풍과 함께 천둥번개가 치고 일부 지역에선 우박이 내리는 ...   2   0   1    0\n",
       "2      비가 내리는 지역에서는 돌풍과 함께 천둥번개가 치고 일부 우박이 있을 곳이 떨어지는...   2   0   1    0\n",
       "3              비가 곳이 지역에서는 천둥번개가 치고 일부 우박이 떨어지는 내리는 예정이다   2   0   1    0\n",
       "4           비가 내리는 곳이 돌풍과 치고 일부 지역에선 우박이 떨어지는 지역에서는 예정이다   2   0   1    0\n",
       "...                                                  ...  ..  ..  ..  ...\n",
       "14005  또한 a씨가 자신이 근무한 편의점에서 1일 동안 최소 1만원 이상의 돈을 들여 상품...   1   0   0    0\n",
       "3872   오유리 빗썸경제연구소 정책연구팀장은 국내 규제가 미국의 동향을 따를 가능성이 높은 ...   1   0   0    1\n",
       "14875                               보라네트워크는 카카오게임즈의 계열사다   1   0   2    1\n",
       "5136   컴투스는 최근 크리티카 글로벌의 a1a 블록체인 생태계 합류를 위해 참여자들이 직접...   1   0   0    1\n",
       "5142                          여기에 더불어민주당의 두 번째 고민이 담겨 있다   1   0   2    1\n",
       "\n",
       "[28124 rows x 5 columns]"
      ]
     },
     "execution_count": 403,
     "metadata": {},
     "output_type": "execute_result"
    }
   ],
   "source": [
    "pd.concat([df_aug_, df_under]).drop_duplicates()"
   ]
  },
  {
   "cell_type": "code",
   "execution_count": 404,
   "metadata": {},
   "outputs": [],
   "source": [
    "df_aug = pd.concat([df_aug_, df_under]).drop_duplicates()"
   ]
  },
  {
   "cell_type": "code",
   "execution_count": 406,
   "metadata": {},
   "outputs": [
    {
     "data": {
      "text/plain": [
       "28124"
      ]
     },
     "execution_count": 406,
     "metadata": {},
     "output_type": "execute_result"
    }
   ],
   "source": [
    "len(df_aug)"
   ]
  },
  {
   "cell_type": "code",
   "execution_count": 409,
   "metadata": {},
   "outputs": [
    {
     "data": {
      "text/plain": [
       "1    20608\n",
       "0     7516\n",
       "Name: 확실성, dtype: int64"
      ]
     },
     "execution_count": 409,
     "metadata": {},
     "output_type": "execute_result"
    }
   ],
   "source": [
    "df_aug.확실성.value_counts()"
   ]
  },
  {
   "cell_type": "code",
   "execution_count": 410,
   "metadata": {},
   "outputs": [],
   "source": [
    "df_aug.to_csv('df_aug.csv', index=False, encoding='utf-8-sig')"
   ]
  }
 ],
 "metadata": {
  "kernelspec": {
   "display_name": "CP2",
   "language": "python",
   "name": "python3"
  },
  "language_info": {
   "codemirror_mode": {
    "name": "ipython",
    "version": 3
   },
   "file_extension": ".py",
   "mimetype": "text/x-python",
   "name": "python",
   "nbconvert_exporter": "python",
   "pygments_lexer": "ipython3",
   "version": "3.8.16"
  },
  "orig_nbformat": 4
 },
 "nbformat": 4,
 "nbformat_minor": 2
}
