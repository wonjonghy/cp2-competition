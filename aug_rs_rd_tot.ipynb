{
 "cells": [
  {
   "cell_type": "code",
   "execution_count": 1,
   "metadata": {},
   "outputs": [
    {
     "name": "stderr",
     "output_type": "stream",
     "text": [
      "c:\\Users\\WONJONGHYEON\\anaconda3\\envs\\CP2\\lib\\site-packages\\tqdm\\auto.py:21: TqdmWarning: IProgress not found. Please update jupyter and ipywidgets. See https://ipywidgets.readthedocs.io/en/stable/user_install.html\n",
      "  from .autonotebook import tqdm as notebook_tqdm\n"
     ]
    }
   ],
   "source": [
    "import pandas as pd\n",
    "import numpy as np\n",
    "import re\n",
    "import random"
   ]
  },
  {
   "attachments": {},
   "cell_type": "markdown",
   "metadata": {},
   "source": [
    "## 데이터 불러오기 및 분리"
   ]
  },
  {
   "cell_type": "code",
   "execution_count": 1062,
   "metadata": {},
   "outputs": [],
   "source": [
    "df=pd.read_csv('train.csv').drop(['ID'], axis=1)\n",
    "trans_aug=pd.read_csv(r'C:\\Users\\WONJONGHYEON\\OneDrive\\바탕 화면\\cp2-competition\\augment_csv\\trans_aug.csv')"
   ]
  },
  {
   "cell_type": "code",
   "execution_count": null,
   "metadata": {},
   "outputs": [],
   "source": [
    "df"
   ]
  },
  {
   "cell_type": "code",
   "execution_count": null,
   "metadata": {},
   "outputs": [],
   "source": [
    "trans_aug"
   ]
  },
  {
   "cell_type": "code",
   "execution_count": 1064,
   "metadata": {},
   "outputs": [],
   "source": [
    "df.drop_duplicates(subset=['문장', 'label'], inplace=True) #문장, 레이블 동시 중복 제거\n",
    "df.reset_index(drop=True, inplace=True)\n",
    "\n",
    "df['확실성'][14963]='확실'\n",
    "df['label'][14963]='사실형-긍정-현재-확실' #맞게 변경\n",
    "\n",
    "df.drop_duplicates(subset='문장', keep='last', inplace=True) #틀린 레이블을 가진 중복 문장 제거\n",
    "df.reset_index(drop=True, inplace=True)"
   ]
  },
  {
   "cell_type": "code",
   "execution_count": 1065,
   "metadata": {},
   "outputs": [
    {
     "data": {
      "text/html": [
       "<div>\n",
       "<style scoped>\n",
       "    .dataframe tbody tr th:only-of-type {\n",
       "        vertical-align: middle;\n",
       "    }\n",
       "\n",
       "    .dataframe tbody tr th {\n",
       "        vertical-align: top;\n",
       "    }\n",
       "\n",
       "    .dataframe thead th {\n",
       "        text-align: right;\n",
       "    }\n",
       "</style>\n",
       "<table border=\"1\" class=\"dataframe\">\n",
       "  <thead>\n",
       "    <tr style=\"text-align: right;\">\n",
       "      <th></th>\n",
       "      <th>label</th>\n",
       "    </tr>\n",
       "  </thead>\n",
       "  <tbody>\n",
       "    <tr>\n",
       "      <th>사실형-긍정-과거-확실</th>\n",
       "      <td>7099</td>\n",
       "    </tr>\n",
       "    <tr>\n",
       "      <th>사실형-긍정-현재-확실</th>\n",
       "      <td>4735</td>\n",
       "    </tr>\n",
       "    <tr>\n",
       "      <th>추론형-긍정-현재-확실</th>\n",
       "      <td>1099</td>\n",
       "    </tr>\n",
       "    <tr>\n",
       "      <th>사실형-긍정-미래-확실</th>\n",
       "      <td>647</td>\n",
       "    </tr>\n",
       "    <tr>\n",
       "      <th>추론형-긍정-과거-확실</th>\n",
       "      <td>334</td>\n",
       "    </tr>\n",
       "  </tbody>\n",
       "</table>\n",
       "</div>"
      ],
      "text/plain": [
       "              label\n",
       "사실형-긍정-과거-확실   7099\n",
       "사실형-긍정-현재-확실   4735\n",
       "추론형-긍정-현재-확실   1099\n",
       "사실형-긍정-미래-확실    647\n",
       "추론형-긍정-과거-확실    334"
      ]
     },
     "execution_count": 1065,
     "metadata": {},
     "output_type": "execute_result"
    }
   ],
   "source": [
    "label_table = df['label'].value_counts().to_frame()\n",
    "label_table.head()"
   ]
  },
  {
   "cell_type": "code",
   "execution_count": 546,
   "metadata": {},
   "outputs": [
    {
     "data": {
      "text/html": [
       "<div>\n",
       "<style scoped>\n",
       "    .dataframe tbody tr th:only-of-type {\n",
       "        vertical-align: middle;\n",
       "    }\n",
       "\n",
       "    .dataframe tbody tr th {\n",
       "        vertical-align: top;\n",
       "    }\n",
       "\n",
       "    .dataframe thead th {\n",
       "        text-align: right;\n",
       "    }\n",
       "</style>\n",
       "<table border=\"1\" class=\"dataframe\">\n",
       "  <thead>\n",
       "    <tr style=\"text-align: right;\">\n",
       "      <th></th>\n",
       "      <th>label</th>\n",
       "    </tr>\n",
       "  </thead>\n",
       "  <tbody>\n",
       "    <tr>\n",
       "      <th>예측형-긍정-미래-불확실</th>\n",
       "      <td>263</td>\n",
       "    </tr>\n",
       "    <tr>\n",
       "      <th>예측형-긍정-미래-확실</th>\n",
       "      <td>107</td>\n",
       "    </tr>\n",
       "    <tr>\n",
       "      <th>대화형-미정-현재-불확실</th>\n",
       "      <td>47</td>\n",
       "    </tr>\n",
       "    <tr>\n",
       "      <th>사실형-미정-미래-확실</th>\n",
       "      <td>42</td>\n",
       "    </tr>\n",
       "    <tr>\n",
       "      <th>사실형-미정-미래-불확실</th>\n",
       "      <td>38</td>\n",
       "    </tr>\n",
       "  </tbody>\n",
       "</table>\n",
       "</div>"
      ],
      "text/plain": [
       "               label\n",
       "예측형-긍정-미래-불확실    263\n",
       "예측형-긍정-미래-확실     107\n",
       "대화형-미정-현재-불확실     47\n",
       "사실형-미정-미래-확실      42\n",
       "사실형-미정-미래-불확실     38"
      ]
     },
     "execution_count": 546,
     "metadata": {},
     "output_type": "execute_result"
    }
   ],
   "source": [
    "aug_label_table = trans_aug['label'].value_counts().to_frame()\n",
    "aug_label_table.head()"
   ]
  },
  {
   "cell_type": "code",
   "execution_count": 547,
   "metadata": {},
   "outputs": [],
   "source": [
    "labels = label_table[label_table.label>=10].index\n",
    "aug_labels = aug_label_table[aug_label_table.label>=10].index"
   ]
  },
  {
   "cell_type": "code",
   "execution_count": 550,
   "metadata": {},
   "outputs": [],
   "source": [
    "idx_lst, aug_idx_lst = [], []\n",
    "\n",
    "for idx, label in enumerate(df['label']):\n",
    "    if not label in list(labels):\n",
    "        idx_lst.append(idx)\n",
    "\n",
    "for idx, label in enumerate(trans_aug['label']):\n",
    "    if not label in list(aug_labels):\n",
    "        aug_idx_lst.append(idx)"
   ]
  },
  {
   "cell_type": "code",
   "execution_count": 552,
   "metadata": {},
   "outputs": [],
   "source": [
    "df_in=df.drop(idx_lst)\n",
    "df_in.reset_index(drop=True, inplace=True)\n",
    "\n",
    "df_out=df.iloc[idx_lst]\n",
    "df_out.reset_index(drop=True, inplace=True)\n",
    "df_out=df_out.sample(frac=1)\n"
   ]
  },
  {
   "cell_type": "code",
   "execution_count": 553,
   "metadata": {},
   "outputs": [],
   "source": [
    "aug_in=trans_aug.drop(aug_idx_lst)\n",
    "aug_in.reset_index(drop=True, inplace=True)\n",
    "\n",
    "aug_out=trans_aug.iloc[aug_idx_lst]\n",
    "aug_out.reset_index(drop=True, inplace=True)\n",
    "aug_out=aug_out.sample(frac=1)"
   ]
  },
  {
   "cell_type": "code",
   "execution_count": 570,
   "metadata": {},
   "outputs": [],
   "source": [
    "from sklearn.model_selection import train_test_split\n",
    "df_train, df_val, y_t, y_v = train_test_split(df_in[['문장', '유형', '극성', '시제', '확실성']], df_in[['label']], test_size=0.2, stratify=df_in['label'], random_state=1)\n",
    "aug_train, aug_val, aug_y_t, aug_y_v = train_test_split(aug_in[['문장', '유형', '극성', '시제', '확실성']], aug_in[['label']], test_size=0.2, stratify=aug_in['label'], random_state=1)"
   ]
  },
  {
   "cell_type": "code",
   "execution_count": 573,
   "metadata": {},
   "outputs": [
    {
     "data": {
      "text/plain": [
       "label        \n",
       "예측형-긍정-미래-불확실    0.375000\n",
       "예측형-긍정-미래-확실     0.151786\n",
       "대화형-미정-현재-불확실    0.067857\n",
       "사실형-미정-미래-확실     0.060714\n",
       "대화형-미정-미래-불확실    0.053571\n",
       "사실형-미정-미래-불확실    0.053571\n",
       "추론형-미정-미래-불확실    0.046429\n",
       "사실형-미정-현재-확실     0.037500\n",
       "예측형-긍정-현재-확실     0.032143\n",
       "예측형-미정-미래-불확실    0.030357\n",
       "예측형-긍정-과거-확실     0.025000\n",
       "예측형-긍정-현재-불확실    0.023214\n",
       "대화형-미정-과거-불확실    0.021429\n",
       "예측형-긍정-과거-불확실    0.021429\n",
       "dtype: float64"
      ]
     },
     "execution_count": 573,
     "metadata": {},
     "output_type": "execute_result"
    }
   ],
   "source": [
    "aug_y_t.value_counts(normalize=True)"
   ]
  },
  {
   "cell_type": "code",
   "execution_count": 572,
   "metadata": {},
   "outputs": [
    {
     "data": {
      "text/plain": [
       "label        \n",
       "예측형-긍정-미래-불확실    0.375887\n",
       "예측형-긍정-미래-확실     0.156028\n",
       "대화형-미정-현재-불확실    0.063830\n",
       "사실형-미정-미래-불확실    0.056738\n",
       "사실형-미정-미래-확실     0.056738\n",
       "대화형-미정-미래-불확실    0.049645\n",
       "추론형-미정-미래-불확실    0.049645\n",
       "사실형-미정-현재-확실     0.035461\n",
       "예측형-긍정-현재-확실     0.035461\n",
       "예측형-긍정-과거-확실     0.028369\n",
       "예측형-미정-미래-불확실    0.028369\n",
       "대화형-미정-과거-불확실    0.021277\n",
       "예측형-긍정-과거-불확실    0.021277\n",
       "예측형-긍정-현재-불확실    0.021277\n",
       "dtype: float64"
      ]
     },
     "execution_count": 572,
     "metadata": {},
     "output_type": "execute_result"
    }
   ],
   "source": [
    "aug_y_v.value_counts(normalize=True)"
   ]
  },
  {
   "cell_type": "code",
   "execution_count": 555,
   "metadata": {},
   "outputs": [
    {
     "data": {
      "text/plain": [
       "(92, 52)"
      ]
     },
     "execution_count": 555,
     "metadata": {},
     "output_type": "execute_result"
    }
   ],
   "source": [
    "len(df_out), len(aug_out)"
   ]
  },
  {
   "cell_type": "code",
   "execution_count": 556,
   "metadata": {},
   "outputs": [],
   "source": [
    "df_train = pd.concat([df_train, df_out[:41].drop(['label'], axis=1)], axis=0)\n",
    "df_val = pd.concat([df_val, df_out[41:].drop(['label'], axis=1)], axis=0)\n",
    "aug_train = pd.concat([aug_train, aug_out[:26].drop(['label'], axis=1)], axis=0)\n",
    "aug_val = pd.concat([aug_val, aug_out[26:].drop(['label'], axis=1)], axis=0)"
   ]
  },
  {
   "cell_type": "code",
   "execution_count": 563,
   "metadata": {},
   "outputs": [],
   "source": [
    "df_train = pd.concat([df_train, aug_train], axis=0)\n",
    "df_train.drop_duplicates(inplace=True)\n",
    "df_val = pd.concat([df_val, aug_val], axis=0)\n",
    "df_val.drop_duplicates(inplace=True)"
   ]
  },
  {
   "cell_type": "code",
   "execution_count": null,
   "metadata": {},
   "outputs": [],
   "source": [
    "df_train['유형'].value_counts(), df_val['유형'].value_counts()"
   ]
  },
  {
   "cell_type": "code",
   "execution_count": null,
   "metadata": {},
   "outputs": [],
   "source": [
    "df_train['극성'].value_counts(), df_val['극성'].value_counts()"
   ]
  },
  {
   "cell_type": "code",
   "execution_count": null,
   "metadata": {},
   "outputs": [],
   "source": [
    "df_train['시제'].value_counts(), df_val['시제'].value_counts()"
   ]
  },
  {
   "cell_type": "code",
   "execution_count": null,
   "metadata": {},
   "outputs": [],
   "source": [
    "df_train['확실성'].value_counts(), df_val['확실성'].value_counts()"
   ]
  },
  {
   "cell_type": "code",
   "execution_count": 741,
   "metadata": {},
   "outputs": [],
   "source": [
    "df_train = pd.read_csv('df_train.csv')\n",
    "df_val = pd.read_csv('df_val.csv')"
   ]
  },
  {
   "cell_type": "code",
   "execution_count": null,
   "metadata": {},
   "outputs": [],
   "source": [
    "df_train"
   ]
  },
  {
   "cell_type": "code",
   "execution_count": null,
   "metadata": {},
   "outputs": [],
   "source": [
    "df_val"
   ]
  },
  {
   "attachments": {},
   "cell_type": "markdown",
   "metadata": {},
   "source": [
    "## rs, rd"
   ]
  },
  {
   "cell_type": "code",
   "execution_count": 1050,
   "metadata": {},
   "outputs": [],
   "source": [
    "import spacy\n",
    "from spacy.lang.ko.examples import sentences \n",
    "nlp = spacy.load(\"ko_core_news_sm\") #python -m spacy download ko_core_news_sm"
   ]
  },
  {
   "attachments": {},
   "cell_type": "markdown",
   "metadata": {},
   "source": [
    "### 불용어 가져오기"
   ]
  },
  {
   "cell_type": "code",
   "execution_count": 909,
   "metadata": {},
   "outputs": [],
   "source": [
    "# open 불용어.txt, stop_words_set(불용어 사전) 만듬.\n",
    "import locale\n",
    "\n",
    "# 지역 설정 변경\n",
    "locale.setlocale(locale.LC_COLLATE, 'ko_KR.UTF-8')\n",
    "\n",
    "stop_words = {}\n",
    "\n",
    "with open('불용어.txt', 'r') as f:\n",
    "    for line in f:\n",
    "        line = line.strip('\\n')\n",
    "        line = line.split(':')  # 줄 바꿈 문자 제거\n",
    "        key = line[0] #key\n",
    "        value = line[1].split(', ')  # value\n",
    "        value.sort(key=locale.strxfrm)\n",
    "        stop_words[key] = value  # 딕셔너리에 추가\n",
    "\n",
    "\n",
    "# stop_words_set\n",
    "stop_words_lst=[]\n",
    "for _, value in stop_words.items():\n",
    "    stop_words_lst.extend(value)\n",
    "\n",
    "stop_words_set=set(stop_words_lst)\n",
    "stop_words_set.update(nlp.Defaults.stop_words)"
   ]
  },
  {
   "cell_type": "code",
   "execution_count": 910,
   "metadata": {},
   "outputs": [],
   "source": [
    "neg_adv_lst=['못', '안', '전혀', '결코', '별로', '그리', '도대체', '도저히', '절대', '그다지', '절대로', '도무지', '채', '미처', '좀처럼', '여간', '영', '비단', '차마', '통', '구태여']"
   ]
  },
  {
   "cell_type": "code",
   "execution_count": 911,
   "metadata": {},
   "outputs": [],
   "source": [
    "for neg_adv in neg_adv_lst:\n",
    "    if neg_adv in stop_words_set:\n",
    "        stop_words_set.remove(neg_adv)"
   ]
  },
  {
   "cell_type": "code",
   "execution_count": 912,
   "metadata": {},
   "outputs": [
    {
     "data": {
      "text/plain": [
       "True"
      ]
     },
     "execution_count": 912,
     "metadata": {},
     "output_type": "execute_result"
    }
   ],
   "source": [
    "'수' in stop_words_set"
   ]
  },
  {
   "cell_type": "code",
   "execution_count": 913,
   "metadata": {},
   "outputs": [],
   "source": [
    "stop_words_set.remove('수') #예측에 많이 쓰이는 의존명사(수) 제거"
   ]
  },
  {
   "attachments": {},
   "cell_type": "markdown",
   "metadata": {},
   "source": [
    "### random deletion"
   ]
  },
  {
   "cell_type": "code",
   "execution_count": 1051,
   "metadata": {},
   "outputs": [],
   "source": [
    "def random_deletion(words, p):\n",
    "\n",
    "    new_words=[]\n",
    "    for token in words:\n",
    "        r=random.uniform(0, 1)\n",
    "        spt = token.lemma_.split('+')\n",
    "        if r>p:\n",
    "            if token.text in stop_words_set: #1-p의 확률로 불용어를 제거한다.\n",
    "                continue\n",
    "            if (token.pos_ =='ADV') and (token.dep_ not in ['ROOT', 'fixed', 'conj']) and (token.text not in neg_adv_lst): #1-p의 확률로 부정 부사를 제외한 부사 제거\n",
    "                continue\n",
    "            if token.pos_ in ['ADJ', 'NUM'] and token.dep_ not in ['ROOT', 'fixed', 'conj']: #1-p확률로 수식하는 단어를 제거\n",
    "                continue\n",
    "            if token.pos_ != 'VERB' and len(spt) == 2 and spt[0] != '나' and spt[-1] in ['은', '는', '이', '가', '을', '를', '에', '에게', '의', '께서']:\n",
    "                new_words.append(''.join(spt[:-1]))\n",
    "                continue\n",
    "        \n",
    "        new_words.append(token.text) #포함되는 토큰을 담는다.\n",
    "\n",
    "    if len(new_words) < 4:\n",
    "      new_words = [token.text for token in words]\n",
    "      \n",
    "    return new_words"
   ]
  },
  {
   "cell_type": "code",
   "execution_count": 1053,
   "metadata": {},
   "outputs": [
    {
     "data": {
      "text/plain": [
       "['하늘', '나는', '자동차', '붕붕', '봤어']"
      ]
     },
     "execution_count": 1053,
     "metadata": {},
     "output_type": "execute_result"
    }
   ],
   "source": [
    "random_deletion(nlp('하늘을 나는 꼬마 자동차 붕붕을 봤어'), 0)"
   ]
  },
  {
   "cell_type": "code",
   "execution_count": 1055,
   "metadata": {},
   "outputs": [
    {
     "name": "stdout",
     "output_type": "stream",
     "text": [
      "하늘을 NOUN obj 하늘+을\n",
      "나는 PRON ccomp 나+는\n",
      "꼬마 ADV compound 꼬마\n",
      "자동차 NOUN compound 자동차\n",
      "붕붕을 CCONJ ROOT 붕붕+을\n",
      "봤어 PROPN conj 봤어\n"
     ]
    }
   ],
   "source": [
    "doc = nlp('하늘을 나는 꼬마 자동차 붕붕을 봤어')\n",
    "for token in doc:\n",
    "    print(token.text, token.pos_, token.dep_, token.lemma_)"
   ]
  },
  {
   "attachments": {},
   "cell_type": "markdown",
   "metadata": {},
   "source": [
    "### random swap"
   ]
  },
  {
   "cell_type": "code",
   "execution_count": 974,
   "metadata": {},
   "outputs": [],
   "source": [
    "def random_swap(words, n):\n",
    "\tnew_words = words.copy()\n",
    "\tfor _ in range(n):\n",
    "\t\tnew_words = swap_word(new_words)\n",
    "\n",
    "\treturn new_words\n",
    "\n",
    "def swap_word(new_words):\n",
    "\tif len(new_words) > 4:\n",
    "\t\trandom_idx_1 = random.randint(1, len(new_words)-2) #양 끝 단어는 교체하지 못하게 함.\n",
    "\t\trandom_idx_2 = random_idx_1\n",
    "\t\tcounter = 0\n",
    "\n",
    "\t\twhile random_idx_2 == random_idx_1:\n",
    "\t\t\trandom_idx_2 = random.randint(1, len(new_words)-2)\n",
    "\t\t\tcounter += 1\n",
    "\t\t\tif counter > 3:\n",
    "\t\t\t\treturn new_words\n",
    "\n",
    "\t\tnew_words[random_idx_1], new_words[random_idx_2] = new_words[random_idx_2], new_words[random_idx_1]\n",
    "\treturn new_words\n"
   ]
  },
  {
   "attachments": {},
   "cell_type": "markdown",
   "metadata": {},
   "source": [
    "### EDA(Easy Data Augmentation)"
   ]
  },
  {
   "cell_type": "code",
   "execution_count": 975,
   "metadata": {},
   "outputs": [],
   "source": [
    "df_train = pd.read_csv('df_train.csv')\n",
    "df_val = pd.read_csv('df_val.csv')"
   ]
  },
  {
   "cell_type": "code",
   "execution_count": 976,
   "metadata": {},
   "outputs": [],
   "source": [
    "def EDA(sentence, alpha_rs=0.15, p_rd=0.5): \n",
    "\n",
    "\tdocs = nlp(sentence)\n",
    "\twords = random_deletion(docs, p_rd)\n",
    "\t\n",
    "\tif words:\n",
    "\t\tnum_words=len(words)\n",
    "\t\tif num_words<20:\n",
    "\t\t\tn_rs = max(1, int(alpha_rs*num_words))\n",
    "\t\t\ta_words = random_swap(words, n_rs)\n",
    "\t\t\taugmented_sentences = \" \".join(a_words)\n",
    "\n",
    "\t\telse:\taugmented_sentences = \" \".join(words)\n",
    "\n",
    "\treturn augmented_sentences"
   ]
  },
  {
   "cell_type": "code",
   "execution_count": 977,
   "metadata": {},
   "outputs": [],
   "source": [
    "def df_augmentation(df):\n",
    "\n",
    "    df_aug = df.copy()\n",
    "\n",
    "    for i in range(len(df)):\n",
    "        \n",
    "        r = random.uniform(0, 1)\n",
    "        sentence_type = df['유형'][i]\n",
    "        sentence_polarity = df['극성'][i]\n",
    "        sentence_certainty = df['확실성'][i]\n",
    "        sentence_tense = df['시제'][i]\n",
    "\n",
    "\n",
    "        if sentence_type == '추론형':\n",
    "            if r <= 0.5:\n",
    "                df_aug['문장'][i] = EDA(df_aug['문장'][i])\n",
    "                continue\n",
    "\n",
    "        if sentence_type != '사실형' and sentence_type != '추론형':\n",
    "            df_aug['문장'][i] = EDA(df_aug['문장'][i])\n",
    "            continue\n",
    "\n",
    "        \n",
    "        if sentence_certainty == '불확실':\n",
    "            df_aug['문장'][i] = EDA(df_aug['문장'][i])\n",
    "            continue\n",
    "\n",
    "        if sentence_polarity != '긍정':\n",
    "            df_aug['문장'][i] = EDA(df_aug['문장'][i])\n",
    "            continue\n",
    "\n",
    "        if sentence_tense == '미래':\n",
    "            if r <= 0.7:\n",
    "                df_aug['문장'][i] = EDA(df_aug['문장'][i])\n",
    "                continue\n",
    "\n",
    "        else:\n",
    "            if r<=0.3:\n",
    "                df_aug['문장'][i] = EDA(df_aug['문장'][i])\n",
    "\n",
    "    return df_aug\n",
    "\n"
   ]
  },
  {
   "cell_type": "code",
   "execution_count": 1033,
   "metadata": {},
   "outputs": [],
   "source": [
    "df_train_aug_1 = df_augmentation(df_train)\n",
    "df_train_aug_2 = df_augmentation(df_train)\n",
    "df_train_aug_3 = df_augmentation(df_train)\n",
    "df_train_aug_4 = df_augmentation(df_train)\n",
    "\n",
    "df_train_aug = pd.concat([df_train_aug_1, df_train_aug_2, df_train_aug_3, df_train_aug_4, df_train], axis=0).drop_duplicates().reset_index(drop=True)"
   ]
  },
  {
   "cell_type": "code",
   "execution_count": null,
   "metadata": {},
   "outputs": [],
   "source": [
    "df_train_aug"
   ]
  },
  {
   "cell_type": "code",
   "execution_count": 1039,
   "metadata": {},
   "outputs": [],
   "source": [
    "df_val_aug_1 = df_augmentation(df_val)\n",
    "df_val_aug_2 = df_augmentation(df_val)\n",
    "df_val_aug_3 = df_augmentation(df_val)\n",
    "df_val_aug_4 = df_augmentation(df_val)\n",
    "\n",
    "df_val_aug = pd.concat([df_val_aug_1, df_val_aug_2, df_val_aug_3, df_val_aug_4, df_val], axis=0).drop_duplicates().reset_index(drop=True)"
   ]
  },
  {
   "cell_type": "code",
   "execution_count": 1003,
   "metadata": {},
   "outputs": [
    {
     "data": {
      "text/plain": [
       "13425"
      ]
     },
     "execution_count": 1003,
     "metadata": {},
     "output_type": "execute_result"
    }
   ],
   "source": [
    "len(df_train)"
   ]
  },
  {
   "cell_type": "code",
   "execution_count": 1004,
   "metadata": {},
   "outputs": [
    {
     "data": {
      "text/plain": [
       "30708"
      ]
     },
     "execution_count": 1004,
     "metadata": {},
     "output_type": "execute_result"
    }
   ],
   "source": [
    "len(df_train_aug)"
   ]
  },
  {
   "cell_type": "code",
   "execution_count": 1043,
   "metadata": {},
   "outputs": [
    {
     "data": {
      "text/plain": [
       "9357"
      ]
     },
     "execution_count": 1043,
     "metadata": {},
     "output_type": "execute_result"
    }
   ],
   "source": [
    "len(df_val_aug)"
   ]
  },
  {
   "attachments": {},
   "cell_type": "markdown",
   "metadata": {},
   "source": [
    "#### value_counts"
   ]
  },
  {
   "cell_type": "code",
   "execution_count": null,
   "metadata": {},
   "outputs": [],
   "source": [
    "df_train.유형.value_counts(), df_train_aug['유형'].value_counts()"
   ]
  },
  {
   "cell_type": "code",
   "execution_count": null,
   "metadata": {},
   "outputs": [],
   "source": [
    "df_train.극성.value_counts(normalize=True), df_train_aug['극성'].value_counts(normalize=True)"
   ]
  },
  {
   "cell_type": "code",
   "execution_count": null,
   "metadata": {},
   "outputs": [],
   "source": [
    "df_train.시제.value_counts(), df_train_aug['시제'].value_counts()"
   ]
  },
  {
   "cell_type": "code",
   "execution_count": null,
   "metadata": {},
   "outputs": [],
   "source": [
    "df_train.확실성.value_counts(), df_train_aug['확실성'].value_counts()"
   ]
  },
  {
   "cell_type": "code",
   "execution_count": null,
   "metadata": {},
   "outputs": [],
   "source": [
    "df_val_aug.유형.value_counts(), df_val.유형.value_counts()"
   ]
  },
  {
   "cell_type": "code",
   "execution_count": null,
   "metadata": {},
   "outputs": [],
   "source": [
    "df_val_aug.극성.value_counts(), df_val.극성.value_counts()"
   ]
  },
  {
   "cell_type": "code",
   "execution_count": null,
   "metadata": {},
   "outputs": [],
   "source": [
    "df_val_aug.시제.value_counts(), df_val.시제.value_counts()"
   ]
  },
  {
   "cell_type": "code",
   "execution_count": null,
   "metadata": {},
   "outputs": [],
   "source": [
    "df_val_aug.확실성.value_counts(), df_val.확실성.value_counts()"
   ]
  },
  {
   "cell_type": "code",
   "execution_count": null,
   "metadata": {},
   "outputs": [],
   "source": [
    "df_train_aug.isna().sum()"
   ]
  },
  {
   "cell_type": "code",
   "execution_count": null,
   "metadata": {},
   "outputs": [],
   "source": [
    "df_val_aug.isna().sum()"
   ]
  },
  {
   "cell_type": "code",
   "execution_count": 1046,
   "metadata": {},
   "outputs": [],
   "source": [
    "df_train_aug.to_csv('df_train_aug2.csv', index=False, encoding='utf-8-sig')"
   ]
  },
  {
   "cell_type": "code",
   "execution_count": 1047,
   "metadata": {},
   "outputs": [],
   "source": [
    "df_val_aug.to_csv('df_val_aug2.csv', index=False, encoding='utf-8-sig')"
   ]
  }
 ],
 "metadata": {
  "kernelspec": {
   "display_name": "CP2",
   "language": "python",
   "name": "python3"
  },
  "language_info": {
   "codemirror_mode": {
    "name": "ipython",
    "version": 3
   },
   "file_extension": ".py",
   "mimetype": "text/x-python",
   "name": "python",
   "nbconvert_exporter": "python",
   "pygments_lexer": "ipython3",
   "version": "3.8.16"
  },
  "orig_nbformat": 4
 },
 "nbformat": 4,
 "nbformat_minor": 2
}
