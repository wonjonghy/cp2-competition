{
 "cells": [
  {
   "cell_type": "code",
   "execution_count": 1,
   "metadata": {},
   "outputs": [
    {
     "name": "stderr",
     "output_type": "stream",
     "text": [
      "c:\\Users\\WONJONGHYEON\\anaconda3\\envs\\CP2\\lib\\site-packages\\tqdm\\auto.py:21: TqdmWarning: IProgress not found. Please update jupyter and ipywidgets. See https://ipywidgets.readthedocs.io/en/stable/user_install.html\n",
      "  from .autonotebook import tqdm as notebook_tqdm\n"
     ]
    }
   ],
   "source": [
    "import pandas as pd\n",
    "import numpy as np\n",
    "import re\n",
    "from sklearn.preprocessing import LabelEncoder\n",
    "from datasets import Dataset, DatasetDict, load_dataset\n",
    "import torch\n",
    "import random"
   ]
  },
  {
   "attachments": {},
   "cell_type": "markdown",
   "metadata": {},
   "source": [
    "## 데이터 불러오기 및 분리"
   ]
  },
  {
   "cell_type": "code",
   "execution_count": 738,
   "metadata": {},
   "outputs": [],
   "source": [
    "df=pd.read_csv('train.csv').drop(['ID'], axis=1)\n",
    "trans_aug=pd.read_csv(r'C:\\Users\\WONJONGHYEON\\OneDrive\\바탕 화면\\cp2-competition\\augment_csv\\trans_aug.csv')\n",
    "\n"
   ]
  },
  {
   "cell_type": "code",
   "execution_count": 739,
   "metadata": {},
   "outputs": [
    {
     "data": {
      "text/html": [
       "<div>\n",
       "<style scoped>\n",
       "    .dataframe tbody tr th:only-of-type {\n",
       "        vertical-align: middle;\n",
       "    }\n",
       "\n",
       "    .dataframe tbody tr th {\n",
       "        vertical-align: top;\n",
       "    }\n",
       "\n",
       "    .dataframe thead th {\n",
       "        text-align: right;\n",
       "    }\n",
       "</style>\n",
       "<table border=\"1\" class=\"dataframe\">\n",
       "  <thead>\n",
       "    <tr style=\"text-align: right;\">\n",
       "      <th></th>\n",
       "      <th>문장</th>\n",
       "      <th>유형</th>\n",
       "      <th>극성</th>\n",
       "      <th>시제</th>\n",
       "      <th>확실성</th>\n",
       "      <th>label</th>\n",
       "    </tr>\n",
       "  </thead>\n",
       "  <tbody>\n",
       "    <tr>\n",
       "      <th>0</th>\n",
       "      <td>0.75%포인트 금리 인상은 1994년 이후 28년 만에 처음이다.</td>\n",
       "      <td>사실형</td>\n",
       "      <td>긍정</td>\n",
       "      <td>현재</td>\n",
       "      <td>확실</td>\n",
       "      <td>사실형-긍정-현재-확실</td>\n",
       "    </tr>\n",
       "    <tr>\n",
       "      <th>1</th>\n",
       "      <td>이어 ＂앞으로 전문가들과 함께 4주 단위로 상황을 재평가할 예정＂이라며 ＂그 이전이...</td>\n",
       "      <td>사실형</td>\n",
       "      <td>긍정</td>\n",
       "      <td>과거</td>\n",
       "      <td>확실</td>\n",
       "      <td>사실형-긍정-과거-확실</td>\n",
       "    </tr>\n",
       "    <tr>\n",
       "      <th>2</th>\n",
       "      <td>정부가 고유가 대응을 위해 7월부터 연말까지 유류세 인하 폭을 30%에서 37%까지...</td>\n",
       "      <td>사실형</td>\n",
       "      <td>긍정</td>\n",
       "      <td>미래</td>\n",
       "      <td>확실</td>\n",
       "      <td>사실형-긍정-미래-확실</td>\n",
       "    </tr>\n",
       "    <tr>\n",
       "      <th>3</th>\n",
       "      <td>서울시는 올해 3월 즉시 견인 유예시간 60분을 제공하겠다고 밝혔지만, 하루 만에 ...</td>\n",
       "      <td>사실형</td>\n",
       "      <td>긍정</td>\n",
       "      <td>과거</td>\n",
       "      <td>확실</td>\n",
       "      <td>사실형-긍정-과거-확실</td>\n",
       "    </tr>\n",
       "    <tr>\n",
       "      <th>4</th>\n",
       "      <td>익사한 자는 사다리에 태워 거꾸로 놓고 소금으로 코를 막아 가득 채운다.</td>\n",
       "      <td>사실형</td>\n",
       "      <td>긍정</td>\n",
       "      <td>현재</td>\n",
       "      <td>확실</td>\n",
       "      <td>사실형-긍정-현재-확실</td>\n",
       "    </tr>\n",
       "    <tr>\n",
       "      <th>...</th>\n",
       "      <td>...</td>\n",
       "      <td>...</td>\n",
       "      <td>...</td>\n",
       "      <td>...</td>\n",
       "      <td>...</td>\n",
       "      <td>...</td>\n",
       "    </tr>\n",
       "    <tr>\n",
       "      <th>16536</th>\n",
       "      <td>＇신동덤＇은 ＇신비한 동물사전＇과 ＇해리 포터＇ 시리즈를 잇는 마법 어드벤처물로, ...</td>\n",
       "      <td>사실형</td>\n",
       "      <td>긍정</td>\n",
       "      <td>과거</td>\n",
       "      <td>확실</td>\n",
       "      <td>사실형-긍정-과거-확실</td>\n",
       "    </tr>\n",
       "    <tr>\n",
       "      <th>16537</th>\n",
       "      <td>수족냉증은 어릴 때부터 심했으며 관절은 어디 한 곳이 아니고 목, 어깨, 팔꿈치, ...</td>\n",
       "      <td>사실형</td>\n",
       "      <td>긍정</td>\n",
       "      <td>과거</td>\n",
       "      <td>확실</td>\n",
       "      <td>사실형-긍정-과거-확실</td>\n",
       "    </tr>\n",
       "    <tr>\n",
       "      <th>16538</th>\n",
       "      <td>김금희 소설가는 ＂계약서 조정이 그리 어려운가 작가를 격려한다면서 그런 문구 하나 ...</td>\n",
       "      <td>사실형</td>\n",
       "      <td>긍정</td>\n",
       "      <td>과거</td>\n",
       "      <td>확실</td>\n",
       "      <td>사실형-긍정-과거-확실</td>\n",
       "    </tr>\n",
       "    <tr>\n",
       "      <th>16539</th>\n",
       "      <td>1만명이 넘는 방문자수를 기록한 이번 전시회는 총 77개 작품을 넥슨 사옥을 그대로...</td>\n",
       "      <td>사실형</td>\n",
       "      <td>긍정</td>\n",
       "      <td>과거</td>\n",
       "      <td>불확실</td>\n",
       "      <td>사실형-긍정-과거-불확실</td>\n",
       "    </tr>\n",
       "    <tr>\n",
       "      <th>16540</th>\n",
       "      <td>《목민심서》의 내용이다.</td>\n",
       "      <td>사실형</td>\n",
       "      <td>긍정</td>\n",
       "      <td>현재</td>\n",
       "      <td>확실</td>\n",
       "      <td>사실형-긍정-현재-확실</td>\n",
       "    </tr>\n",
       "  </tbody>\n",
       "</table>\n",
       "<p>16541 rows × 6 columns</p>\n",
       "</div>"
      ],
      "text/plain": [
       "                                                      문장   유형  극성  시제  확실성  \\\n",
       "0                  0.75%포인트 금리 인상은 1994년 이후 28년 만에 처음이다.  사실형  긍정  현재   확실   \n",
       "1      이어 ＂앞으로 전문가들과 함께 4주 단위로 상황을 재평가할 예정＂이라며 ＂그 이전이...  사실형  긍정  과거   확실   \n",
       "2      정부가 고유가 대응을 위해 7월부터 연말까지 유류세 인하 폭을 30%에서 37%까지...  사실형  긍정  미래   확실   \n",
       "3      서울시는 올해 3월 즉시 견인 유예시간 60분을 제공하겠다고 밝혔지만, 하루 만에 ...  사실형  긍정  과거   확실   \n",
       "4               익사한 자는 사다리에 태워 거꾸로 놓고 소금으로 코를 막아 가득 채운다.  사실형  긍정  현재   확실   \n",
       "...                                                  ...  ...  ..  ..  ...   \n",
       "16536  ＇신동덤＇은 ＇신비한 동물사전＇과 ＇해리 포터＇ 시리즈를 잇는 마법 어드벤처물로, ...  사실형  긍정  과거   확실   \n",
       "16537  수족냉증은 어릴 때부터 심했으며 관절은 어디 한 곳이 아니고 목, 어깨, 팔꿈치, ...  사실형  긍정  과거   확실   \n",
       "16538  김금희 소설가는 ＂계약서 조정이 그리 어려운가 작가를 격려한다면서 그런 문구 하나 ...  사실형  긍정  과거   확실   \n",
       "16539  1만명이 넘는 방문자수를 기록한 이번 전시회는 총 77개 작품을 넥슨 사옥을 그대로...  사실형  긍정  과거  불확실   \n",
       "16540                                      《목민심서》의 내용이다.  사실형  긍정  현재   확실   \n",
       "\n",
       "               label  \n",
       "0       사실형-긍정-현재-확실  \n",
       "1       사실형-긍정-과거-확실  \n",
       "2       사실형-긍정-미래-확실  \n",
       "3       사실형-긍정-과거-확실  \n",
       "4       사실형-긍정-현재-확실  \n",
       "...              ...  \n",
       "16536   사실형-긍정-과거-확실  \n",
       "16537   사실형-긍정-과거-확실  \n",
       "16538   사실형-긍정-과거-확실  \n",
       "16539  사실형-긍정-과거-불확실  \n",
       "16540   사실형-긍정-현재-확실  \n",
       "\n",
       "[16541 rows x 6 columns]"
      ]
     },
     "execution_count": 739,
     "metadata": {},
     "output_type": "execute_result"
    }
   ],
   "source": [
    "df"
   ]
  },
  {
   "cell_type": "code",
   "execution_count": 740,
   "metadata": {},
   "outputs": [
    {
     "data": {
      "text/html": [
       "<div>\n",
       "<style scoped>\n",
       "    .dataframe tbody tr th:only-of-type {\n",
       "        vertical-align: middle;\n",
       "    }\n",
       "\n",
       "    .dataframe tbody tr th {\n",
       "        vertical-align: top;\n",
       "    }\n",
       "\n",
       "    .dataframe thead th {\n",
       "        text-align: right;\n",
       "    }\n",
       "</style>\n",
       "<table border=\"1\" class=\"dataframe\">\n",
       "  <thead>\n",
       "    <tr style=\"text-align: right;\">\n",
       "      <th></th>\n",
       "      <th>문장</th>\n",
       "      <th>유형</th>\n",
       "      <th>극성</th>\n",
       "      <th>시제</th>\n",
       "      <th>확실성</th>\n",
       "      <th>label</th>\n",
       "    </tr>\n",
       "  </thead>\n",
       "  <tbody>\n",
       "    <tr>\n",
       "      <th>0</th>\n",
       "      <td>비가 오는 지역에는 폭풍과 함께 폭풍이 있을 것이며, 일부 지역에는 폭풍이 떨어지는...</td>\n",
       "      <td>예측형</td>\n",
       "      <td>긍정</td>\n",
       "      <td>미래</td>\n",
       "      <td>불확실</td>\n",
       "      <td>예측형-긍정-미래-불확실</td>\n",
       "    </tr>\n",
       "    <tr>\n",
       "      <th>1</th>\n",
       "      <td>\"당신이 처음부터 OTT 사업을 성장시키고 싶었다면, Cupplay의 'Time t...</td>\n",
       "      <td>예측형</td>\n",
       "      <td>부정</td>\n",
       "      <td>과거</td>\n",
       "      <td>확실</td>\n",
       "      <td>예측형-부정-과거-확실</td>\n",
       "    </tr>\n",
       "    <tr>\n",
       "      <th>2</th>\n",
       "      <td>바다에는 폭풍이 폭풍으로 타는 곳들이 있을 것이다.</td>\n",
       "      <td>예측형</td>\n",
       "      <td>미정</td>\n",
       "      <td>미래</td>\n",
       "      <td>불확실</td>\n",
       "      <td>예측형-미정-미래-불확실</td>\n",
       "    </tr>\n",
       "    <tr>\n",
       "      <th>3</th>\n",
       "      <td>정부는 단기 유동성에 기여하는 무역 자금을 지원하고 금융으로 기업 자금을 적극적으로...</td>\n",
       "      <td>예측형</td>\n",
       "      <td>긍정</td>\n",
       "      <td>미래</td>\n",
       "      <td>확실</td>\n",
       "      <td>예측형-긍정-미래-확실</td>\n",
       "    </tr>\n",
       "    <tr>\n",
       "      <th>4</th>\n",
       "      <td>외국 석탄 발전소와 광산은 또한 $ 1.9 억을 처분 할 계획이다.</td>\n",
       "      <td>예측형</td>\n",
       "      <td>긍정</td>\n",
       "      <td>미래</td>\n",
       "      <td>불확실</td>\n",
       "      <td>예측형-긍정-미래-불확실</td>\n",
       "    </tr>\n",
       "    <tr>\n",
       "      <th>...</th>\n",
       "      <td>...</td>\n",
       "      <td>...</td>\n",
       "      <td>...</td>\n",
       "      <td>...</td>\n",
       "      <td>...</td>\n",
       "      <td>...</td>\n",
       "    </tr>\n",
       "    <tr>\n",
       "      <th>323</th>\n",
       "      <td>시베리아 전염병과 마찬가지로 우리가 이미 알고있는 전염병이나 새로운 감염은 동물 전...</td>\n",
       "      <td>대화형</td>\n",
       "      <td>미정</td>\n",
       "      <td>미래</td>\n",
       "      <td>불확실</td>\n",
       "      <td>대화형-미정-미래-불확실</td>\n",
       "    </tr>\n",
       "    <tr>\n",
       "      <th>324</th>\n",
       "      <td>새로운 ESL Pro Tour Starcraft 2는 기존의 Starcraft 2 ...</td>\n",
       "      <td>사실형</td>\n",
       "      <td>미정</td>\n",
       "      <td>미래</td>\n",
       "      <td>확실</td>\n",
       "      <td>사실형-미정-미래-확실</td>\n",
       "    </tr>\n",
       "    <tr>\n",
       "      <th>325</th>\n",
       "      <td>거기 거리가 있나요?</td>\n",
       "      <td>대화형</td>\n",
       "      <td>미정</td>\n",
       "      <td>현재</td>\n",
       "      <td>불확실</td>\n",
       "      <td>대화형-미정-현재-불확실</td>\n",
       "    </tr>\n",
       "    <tr>\n",
       "      <th>326</th>\n",
       "      <td>KF-X의 운영 대상인 공군은 10월 1일부터 10월 30일까지 한국 유형 전투기 ...</td>\n",
       "      <td>사실형</td>\n",
       "      <td>미정</td>\n",
       "      <td>미래</td>\n",
       "      <td>확실</td>\n",
       "      <td>사실형-미정-미래-확실</td>\n",
       "    </tr>\n",
       "    <tr>\n",
       "      <th>327</th>\n",
       "      <td>5월에는 홍콩-프랑크푸르트 경로가 4주에서 5주로 늘어나고, 5월 30일부터 홍콩-...</td>\n",
       "      <td>사실형</td>\n",
       "      <td>미정</td>\n",
       "      <td>미래</td>\n",
       "      <td>확실</td>\n",
       "      <td>사실형-미정-미래-확실</td>\n",
       "    </tr>\n",
       "  </tbody>\n",
       "</table>\n",
       "<p>328 rows × 6 columns</p>\n",
       "</div>"
      ],
      "text/plain": [
       "                                                    문장   유형  극성  시제  확실성  \\\n",
       "0    비가 오는 지역에는 폭풍과 함께 폭풍이 있을 것이며, 일부 지역에는 폭풍이 떨어지는...  예측형  긍정  미래  불확실   \n",
       "1    \"당신이 처음부터 OTT 사업을 성장시키고 싶었다면, Cupplay의 'Time t...  예측형  부정  과거   확실   \n",
       "2                         바다에는 폭풍이 폭풍으로 타는 곳들이 있을 것이다.  예측형  미정  미래  불확실   \n",
       "3    정부는 단기 유동성에 기여하는 무역 자금을 지원하고 금융으로 기업 자금을 적극적으로...  예측형  긍정  미래   확실   \n",
       "4                외국 석탄 발전소와 광산은 또한 $ 1.9 억을 처분 할 계획이다.  예측형  긍정  미래  불확실   \n",
       "..                                                 ...  ...  ..  ..  ...   \n",
       "323  시베리아 전염병과 마찬가지로 우리가 이미 알고있는 전염병이나 새로운 감염은 동물 전...  대화형  미정  미래  불확실   \n",
       "324  새로운 ESL Pro Tour Starcraft 2는 기존의 Starcraft 2 ...  사실형  미정  미래   확실   \n",
       "325                                        거기 거리가 있나요?  대화형  미정  현재  불확실   \n",
       "326  KF-X의 운영 대상인 공군은 10월 1일부터 10월 30일까지 한국 유형 전투기 ...  사실형  미정  미래   확실   \n",
       "327  5월에는 홍콩-프랑크푸르트 경로가 4주에서 5주로 늘어나고, 5월 30일부터 홍콩-...  사실형  미정  미래   확실   \n",
       "\n",
       "             label  \n",
       "0    예측형-긍정-미래-불확실  \n",
       "1     예측형-부정-과거-확실  \n",
       "2    예측형-미정-미래-불확실  \n",
       "3     예측형-긍정-미래-확실  \n",
       "4    예측형-긍정-미래-불확실  \n",
       "..             ...  \n",
       "323  대화형-미정-미래-불확실  \n",
       "324   사실형-미정-미래-확실  \n",
       "325  대화형-미정-현재-불확실  \n",
       "326   사실형-미정-미래-확실  \n",
       "327   사실형-미정-미래-확실  \n",
       "\n",
       "[328 rows x 6 columns]"
      ]
     },
     "execution_count": 740,
     "metadata": {},
     "output_type": "execute_result"
    }
   ],
   "source": [
    "trans_aug"
   ]
  },
  {
   "cell_type": "code",
   "execution_count": 545,
   "metadata": {},
   "outputs": [
    {
     "data": {
      "text/html": [
       "<div>\n",
       "<style scoped>\n",
       "    .dataframe tbody tr th:only-of-type {\n",
       "        vertical-align: middle;\n",
       "    }\n",
       "\n",
       "    .dataframe tbody tr th {\n",
       "        vertical-align: top;\n",
       "    }\n",
       "\n",
       "    .dataframe thead th {\n",
       "        text-align: right;\n",
       "    }\n",
       "</style>\n",
       "<table border=\"1\" class=\"dataframe\">\n",
       "  <thead>\n",
       "    <tr style=\"text-align: right;\">\n",
       "      <th></th>\n",
       "      <th>label</th>\n",
       "    </tr>\n",
       "  </thead>\n",
       "  <tbody>\n",
       "    <tr>\n",
       "      <th>사실형-긍정-과거-확실</th>\n",
       "      <td>7113</td>\n",
       "    </tr>\n",
       "    <tr>\n",
       "      <th>사실형-긍정-현재-확실</th>\n",
       "      <td>4743</td>\n",
       "    </tr>\n",
       "    <tr>\n",
       "      <th>추론형-긍정-현재-확실</th>\n",
       "      <td>1101</td>\n",
       "    </tr>\n",
       "    <tr>\n",
       "      <th>사실형-긍정-미래-확실</th>\n",
       "      <td>649</td>\n",
       "    </tr>\n",
       "    <tr>\n",
       "      <th>추론형-긍정-과거-확실</th>\n",
       "      <td>335</td>\n",
       "    </tr>\n",
       "  </tbody>\n",
       "</table>\n",
       "</div>"
      ],
      "text/plain": [
       "              label\n",
       "사실형-긍정-과거-확실   7113\n",
       "사실형-긍정-현재-확실   4743\n",
       "추론형-긍정-현재-확실   1101\n",
       "사실형-긍정-미래-확실    649\n",
       "추론형-긍정-과거-확실    335"
      ]
     },
     "execution_count": 545,
     "metadata": {},
     "output_type": "execute_result"
    }
   ],
   "source": [
    "label_table = df['label'].value_counts().to_frame()\n",
    "label_table.head()"
   ]
  },
  {
   "cell_type": "code",
   "execution_count": 546,
   "metadata": {},
   "outputs": [
    {
     "data": {
      "text/html": [
       "<div>\n",
       "<style scoped>\n",
       "    .dataframe tbody tr th:only-of-type {\n",
       "        vertical-align: middle;\n",
       "    }\n",
       "\n",
       "    .dataframe tbody tr th {\n",
       "        vertical-align: top;\n",
       "    }\n",
       "\n",
       "    .dataframe thead th {\n",
       "        text-align: right;\n",
       "    }\n",
       "</style>\n",
       "<table border=\"1\" class=\"dataframe\">\n",
       "  <thead>\n",
       "    <tr style=\"text-align: right;\">\n",
       "      <th></th>\n",
       "      <th>label</th>\n",
       "    </tr>\n",
       "  </thead>\n",
       "  <tbody>\n",
       "    <tr>\n",
       "      <th>예측형-긍정-미래-불확실</th>\n",
       "      <td>263</td>\n",
       "    </tr>\n",
       "    <tr>\n",
       "      <th>예측형-긍정-미래-확실</th>\n",
       "      <td>107</td>\n",
       "    </tr>\n",
       "    <tr>\n",
       "      <th>대화형-미정-현재-불확실</th>\n",
       "      <td>47</td>\n",
       "    </tr>\n",
       "    <tr>\n",
       "      <th>사실형-미정-미래-확실</th>\n",
       "      <td>42</td>\n",
       "    </tr>\n",
       "    <tr>\n",
       "      <th>사실형-미정-미래-불확실</th>\n",
       "      <td>38</td>\n",
       "    </tr>\n",
       "  </tbody>\n",
       "</table>\n",
       "</div>"
      ],
      "text/plain": [
       "               label\n",
       "예측형-긍정-미래-불확실    263\n",
       "예측형-긍정-미래-확실     107\n",
       "대화형-미정-현재-불확실     47\n",
       "사실형-미정-미래-확실      42\n",
       "사실형-미정-미래-불확실     38"
      ]
     },
     "execution_count": 546,
     "metadata": {},
     "output_type": "execute_result"
    }
   ],
   "source": [
    "aug_label_table = trans_aug['label'].value_counts().to_frame()\n",
    "aug_label_table.head()"
   ]
  },
  {
   "cell_type": "code",
   "execution_count": 547,
   "metadata": {},
   "outputs": [],
   "source": [
    "labels = label_table[label_table.label>=10].index\n",
    "aug_labels = aug_label_table[aug_label_table.label>=10].index"
   ]
  },
  {
   "cell_type": "code",
   "execution_count": 550,
   "metadata": {},
   "outputs": [],
   "source": [
    "idx_lst, aug_idx_lst = [], []\n",
    "\n",
    "for idx, label in enumerate(df['label']):\n",
    "    if not label in list(labels):\n",
    "        idx_lst.append(idx)\n",
    "\n",
    "for idx, label in enumerate(trans_aug['label']):\n",
    "    if not label in list(aug_labels):\n",
    "        aug_idx_lst.append(idx)"
   ]
  },
  {
   "cell_type": "code",
   "execution_count": 552,
   "metadata": {},
   "outputs": [],
   "source": [
    "df_in=df.drop(idx_lst)\n",
    "df_in.reset_index(drop=True, inplace=True)\n",
    "\n",
    "df_out=df.iloc[idx_lst]\n",
    "df_out.reset_index(drop=True, inplace=True)\n",
    "df_out=df_out.sample(frac=1)\n"
   ]
  },
  {
   "cell_type": "code",
   "execution_count": 553,
   "metadata": {},
   "outputs": [],
   "source": [
    "aug_in=trans_aug.drop(aug_idx_lst)\n",
    "aug_in.reset_index(drop=True, inplace=True)\n",
    "\n",
    "aug_out=trans_aug.iloc[aug_idx_lst]\n",
    "aug_out.reset_index(drop=True, inplace=True)\n",
    "aug_out=aug_out.sample(frac=1)"
   ]
  },
  {
   "cell_type": "code",
   "execution_count": 570,
   "metadata": {},
   "outputs": [],
   "source": [
    "from sklearn.model_selection import train_test_split\n",
    "df_train, df_val, y_t, y_v = train_test_split(df_in[['문장', '유형', '극성', '시제', '확실성']], df_in[['label']], test_size=0.2, stratify=df_in['label'], random_state=1)\n",
    "aug_train, aug_val, aug_y_t, aug_y_v = train_test_split(aug_in[['문장', '유형', '극성', '시제', '확실성']], aug_in[['label']], test_size=0.2, stratify=aug_in['label'], random_state=1)"
   ]
  },
  {
   "cell_type": "code",
   "execution_count": 573,
   "metadata": {},
   "outputs": [
    {
     "data": {
      "text/plain": [
       "label        \n",
       "예측형-긍정-미래-불확실    0.375000\n",
       "예측형-긍정-미래-확실     0.151786\n",
       "대화형-미정-현재-불확실    0.067857\n",
       "사실형-미정-미래-확실     0.060714\n",
       "대화형-미정-미래-불확실    0.053571\n",
       "사실형-미정-미래-불확실    0.053571\n",
       "추론형-미정-미래-불확실    0.046429\n",
       "사실형-미정-현재-확실     0.037500\n",
       "예측형-긍정-현재-확실     0.032143\n",
       "예측형-미정-미래-불확실    0.030357\n",
       "예측형-긍정-과거-확실     0.025000\n",
       "예측형-긍정-현재-불확실    0.023214\n",
       "대화형-미정-과거-불확실    0.021429\n",
       "예측형-긍정-과거-불확실    0.021429\n",
       "dtype: float64"
      ]
     },
     "execution_count": 573,
     "metadata": {},
     "output_type": "execute_result"
    }
   ],
   "source": [
    "aug_y_t.value_counts(normalize=True)"
   ]
  },
  {
   "cell_type": "code",
   "execution_count": 572,
   "metadata": {},
   "outputs": [
    {
     "data": {
      "text/plain": [
       "label        \n",
       "예측형-긍정-미래-불확실    0.375887\n",
       "예측형-긍정-미래-확실     0.156028\n",
       "대화형-미정-현재-불확실    0.063830\n",
       "사실형-미정-미래-불확실    0.056738\n",
       "사실형-미정-미래-확실     0.056738\n",
       "대화형-미정-미래-불확실    0.049645\n",
       "추론형-미정-미래-불확실    0.049645\n",
       "사실형-미정-현재-확실     0.035461\n",
       "예측형-긍정-현재-확실     0.035461\n",
       "예측형-긍정-과거-확실     0.028369\n",
       "예측형-미정-미래-불확실    0.028369\n",
       "대화형-미정-과거-불확실    0.021277\n",
       "예측형-긍정-과거-불확실    0.021277\n",
       "예측형-긍정-현재-불확실    0.021277\n",
       "dtype: float64"
      ]
     },
     "execution_count": 572,
     "metadata": {},
     "output_type": "execute_result"
    }
   ],
   "source": [
    "aug_y_v.value_counts(normalize=True)"
   ]
  },
  {
   "cell_type": "code",
   "execution_count": 555,
   "metadata": {},
   "outputs": [
    {
     "data": {
      "text/plain": [
       "(92, 52)"
      ]
     },
     "execution_count": 555,
     "metadata": {},
     "output_type": "execute_result"
    }
   ],
   "source": [
    "len(df_out), len(aug_out)"
   ]
  },
  {
   "cell_type": "code",
   "execution_count": 556,
   "metadata": {},
   "outputs": [],
   "source": [
    "df_train = pd.concat([df_train, df_out[:41].drop(['label'], axis=1)], axis=0)\n",
    "df_val = pd.concat([df_val, df_out[41:].drop(['label'], axis=1)], axis=0)\n",
    "aug_train = pd.concat([aug_train, aug_out[:26].drop(['label'], axis=1)], axis=0)\n",
    "aug_val = pd.concat([aug_val, aug_out[26:].drop(['label'], axis=1)], axis=0)"
   ]
  },
  {
   "cell_type": "code",
   "execution_count": 563,
   "metadata": {},
   "outputs": [],
   "source": [
    "df_train = pd.concat([df_train, aug_train], axis=0)\n",
    "df_train.drop_duplicates(inplace=True)\n",
    "df_val = pd.concat([df_val, aug_val], axis=0)\n",
    "df_val.drop_duplicates(inplace=True)"
   ]
  },
  {
   "cell_type": "code",
   "execution_count": 808,
   "metadata": {},
   "outputs": [
    {
     "data": {
      "text/plain": [
       "(사실형    10851\n",
       " 추론형     1722\n",
       " 대화형      480\n",
       " 예측형      372\n",
       " Name: 유형, dtype: int64,\n",
       " 사실형    2732\n",
       " 추론형     445\n",
       " 대화형     131\n",
       " 예측형     112\n",
       " Name: 유형, dtype: int64)"
      ]
     },
     "execution_count": 808,
     "metadata": {},
     "output_type": "execute_result"
    }
   ],
   "source": [
    "df_train['유형'].value_counts(), df_val['유형'].value_counts()"
   ]
  },
  {
   "cell_type": "code",
   "execution_count": 746,
   "metadata": {},
   "outputs": [
    {
     "data": {
      "text/plain": [
       "(긍정    12764\n",
       " 부정      440\n",
       " 미정      221\n",
       " Name: 극성, dtype: int64,\n",
       " 긍정    3210\n",
       " 부정     130\n",
       " 미정      80\n",
       " Name: 극성, dtype: int64)"
      ]
     },
     "execution_count": 746,
     "metadata": {},
     "output_type": "execute_result"
    }
   ],
   "source": [
    "df_train['극성'].value_counts(), df_val['극성'].value_counts()"
   ]
  },
  {
   "cell_type": "code",
   "execution_count": 744,
   "metadata": {},
   "outputs": [
    {
     "data": {
      "text/plain": [
       "(과거    6421\n",
       " 현재    5495\n",
       " 미래    1509\n",
       " Name: 시제, dtype: int64,\n",
       " 과거    1624\n",
       " 현재    1413\n",
       " 미래     383\n",
       " Name: 시제, dtype: int64)"
      ]
     },
     "execution_count": 744,
     "metadata": {},
     "output_type": "execute_result"
    }
   ],
   "source": [
    "df_train['시제'].value_counts(), df_val['시제'].value_counts()"
   ]
  },
  {
   "cell_type": "code",
   "execution_count": 743,
   "metadata": {},
   "outputs": [
    {
     "data": {
      "text/plain": [
       "(확실     12199\n",
       " 불확실     1226\n",
       " Name: 확실성, dtype: int64,\n",
       " 확실     3072\n",
       " 불확실     348\n",
       " Name: 확실성, dtype: int64)"
      ]
     },
     "execution_count": 743,
     "metadata": {},
     "output_type": "execute_result"
    }
   ],
   "source": [
    "df_train['확실성'].value_counts(), df_val['확실성'].value_counts()"
   ]
  },
  {
   "cell_type": "code",
   "execution_count": 741,
   "metadata": {},
   "outputs": [],
   "source": [
    "df_train = pd.read_csv('df_train.csv')\n",
    "df_val = pd.read_csv('df_val.csv')"
   ]
  },
  {
   "cell_type": "code",
   "execution_count": 742,
   "metadata": {},
   "outputs": [
    {
     "data": {
      "text/html": [
       "<div>\n",
       "<style scoped>\n",
       "    .dataframe tbody tr th:only-of-type {\n",
       "        vertical-align: middle;\n",
       "    }\n",
       "\n",
       "    .dataframe tbody tr th {\n",
       "        vertical-align: top;\n",
       "    }\n",
       "\n",
       "    .dataframe thead th {\n",
       "        text-align: right;\n",
       "    }\n",
       "</style>\n",
       "<table border=\"1\" class=\"dataframe\">\n",
       "  <thead>\n",
       "    <tr style=\"text-align: right;\">\n",
       "      <th></th>\n",
       "      <th>문장</th>\n",
       "      <th>유형</th>\n",
       "      <th>극성</th>\n",
       "      <th>시제</th>\n",
       "      <th>확실성</th>\n",
       "    </tr>\n",
       "  </thead>\n",
       "  <tbody>\n",
       "    <tr>\n",
       "      <th>0</th>\n",
       "      <td>오는 1월 말에 개최될 예정이던 아시아 최대 미술품 거래 장터인 아트바젤홍콩이 코로...</td>\n",
       "      <td>사실형</td>\n",
       "      <td>긍정</td>\n",
       "      <td>과거</td>\n",
       "      <td>확실</td>\n",
       "    </tr>\n",
       "    <tr>\n",
       "      <th>1</th>\n",
       "      <td>어우야담에 따르면 당시 사람들은 그를 보고 어람좌객이라고 불렀다</td>\n",
       "      <td>사실형</td>\n",
       "      <td>긍정</td>\n",
       "      <td>과거</td>\n",
       "      <td>확실</td>\n",
       "    </tr>\n",
       "    <tr>\n",
       "      <th>2</th>\n",
       "      <td>봉준호 감독은 예상치 못했다며 고개를 내저었고 시상식장을 가득 메운 이들의 우렁찬 ...</td>\n",
       "      <td>사실형</td>\n",
       "      <td>긍정</td>\n",
       "      <td>과거</td>\n",
       "      <td>확실</td>\n",
       "    </tr>\n",
       "    <tr>\n",
       "      <th>3</th>\n",
       "      <td>어제에 이어 프라이버시 대표 코인인 지코인a과 지캐시a가 각각 1 1로 상승 a 1...</td>\n",
       "      <td>대화형</td>\n",
       "      <td>긍정</td>\n",
       "      <td>과거</td>\n",
       "      <td>확실</td>\n",
       "    </tr>\n",
       "    <tr>\n",
       "      <th>4</th>\n",
       "      <td>나는 내 나름의 등반 방식에 대해 포기 알피니즘이라는 말을 붙였습니다</td>\n",
       "      <td>대화형</td>\n",
       "      <td>긍정</td>\n",
       "      <td>과거</td>\n",
       "      <td>확실</td>\n",
       "    </tr>\n",
       "    <tr>\n",
       "      <th>...</th>\n",
       "      <td>...</td>\n",
       "      <td>...</td>\n",
       "      <td>...</td>\n",
       "      <td>...</td>\n",
       "      <td>...</td>\n",
       "    </tr>\n",
       "    <tr>\n",
       "      <th>13420</th>\n",
       "      <td>리그에 참여하지 않는 사용자가 함께 즐길 수있는 구조를 만들기 위해 a 측면을 강화...</td>\n",
       "      <td>사실형</td>\n",
       "      <td>미정</td>\n",
       "      <td>현재</td>\n",
       "      <td>확실</td>\n",
       "    </tr>\n",
       "    <tr>\n",
       "      <th>13421</th>\n",
       "      <td>뉴욕 타임즈는 이번 주 회의는 1년 이후 가장 큰 금리 인프라를 논의하는 것으로 보...</td>\n",
       "      <td>예측형</td>\n",
       "      <td>긍정</td>\n",
       "      <td>과거</td>\n",
       "      <td>확실</td>\n",
       "    </tr>\n",
       "    <tr>\n",
       "      <th>13422</th>\n",
       "      <td>1일 기상청에 따르면 1일 오후 늦게부터 경기의 밤과 남쪽과 서쪽 광장 사이에 남쪽...</td>\n",
       "      <td>예측형</td>\n",
       "      <td>미정</td>\n",
       "      <td>미래</td>\n",
       "      <td>확실</td>\n",
       "    </tr>\n",
       "    <tr>\n",
       "      <th>13423</th>\n",
       "      <td>영웅은 1주 연속으로 배제되지 않으며 팬과 플레이어의 의견을 적극적으로 감소함으로써...</td>\n",
       "      <td>추론형</td>\n",
       "      <td>미정</td>\n",
       "      <td>미래</td>\n",
       "      <td>확실</td>\n",
       "    </tr>\n",
       "    <tr>\n",
       "      <th>13424</th>\n",
       "      <td>처음으로 공군의 교차 태평양 직항 비행은 조종사가 장거리 항해 훈련을 경험할 수있게...</td>\n",
       "      <td>추론형</td>\n",
       "      <td>미정</td>\n",
       "      <td>현재</td>\n",
       "      <td>확실</td>\n",
       "    </tr>\n",
       "  </tbody>\n",
       "</table>\n",
       "<p>13425 rows × 5 columns</p>\n",
       "</div>"
      ],
      "text/plain": [
       "                                                      문장   유형  극성  시제 확실성\n",
       "0      오는 1월 말에 개최될 예정이던 아시아 최대 미술품 거래 장터인 아트바젤홍콩이 코로...  사실형  긍정  과거  확실\n",
       "1                    어우야담에 따르면 당시 사람들은 그를 보고 어람좌객이라고 불렀다  사실형  긍정  과거  확실\n",
       "2      봉준호 감독은 예상치 못했다며 고개를 내저었고 시상식장을 가득 메운 이들의 우렁찬 ...  사실형  긍정  과거  확실\n",
       "3      어제에 이어 프라이버시 대표 코인인 지코인a과 지캐시a가 각각 1 1로 상승 a 1...  대화형  긍정  과거  확실\n",
       "4                 나는 내 나름의 등반 방식에 대해 포기 알피니즘이라는 말을 붙였습니다  대화형  긍정  과거  확실\n",
       "...                                                  ...  ...  ..  ..  ..\n",
       "13420  리그에 참여하지 않는 사용자가 함께 즐길 수있는 구조를 만들기 위해 a 측면을 강화...  사실형  미정  현재  확실\n",
       "13421  뉴욕 타임즈는 이번 주 회의는 1년 이후 가장 큰 금리 인프라를 논의하는 것으로 보...  예측형  긍정  과거  확실\n",
       "13422  1일 기상청에 따르면 1일 오후 늦게부터 경기의 밤과 남쪽과 서쪽 광장 사이에 남쪽...  예측형  미정  미래  확실\n",
       "13423  영웅은 1주 연속으로 배제되지 않으며 팬과 플레이어의 의견을 적극적으로 감소함으로써...  추론형  미정  미래  확실\n",
       "13424  처음으로 공군의 교차 태평양 직항 비행은 조종사가 장거리 항해 훈련을 경험할 수있게...  추론형  미정  현재  확실\n",
       "\n",
       "[13425 rows x 5 columns]"
      ]
     },
     "execution_count": 742,
     "metadata": {},
     "output_type": "execute_result"
    }
   ],
   "source": [
    "df_train"
   ]
  },
  {
   "attachments": {},
   "cell_type": "markdown",
   "metadata": {},
   "source": [
    "## rs, rd"
   ]
  },
  {
   "cell_type": "code",
   "execution_count": 908,
   "metadata": {},
   "outputs": [],
   "source": [
    "import spacy\n",
    "from spacy.lang.ko.examples import sentences \n",
    "nlp = spacy.load(\"ko_core_news_sm\") #python -m spacy download ko_core_news_sm"
   ]
  },
  {
   "attachments": {},
   "cell_type": "markdown",
   "metadata": {},
   "source": [
    "### 불용어 가져오기"
   ]
  },
  {
   "cell_type": "code",
   "execution_count": 909,
   "metadata": {},
   "outputs": [],
   "source": [
    "# open 불용어.txt, stop_words_set(불용어 사전) 만듬.\n",
    "import locale\n",
    "\n",
    "# 지역 설정 변경\n",
    "locale.setlocale(locale.LC_COLLATE, 'ko_KR.UTF-8')\n",
    "\n",
    "stop_words = {}\n",
    "\n",
    "with open('불용어.txt', 'r') as f:\n",
    "    for line in f:\n",
    "        line = line.strip('\\n')\n",
    "        line = line.split(':')  # 줄 바꿈 문자 제거\n",
    "        key = line[0] #key\n",
    "        value = line[1].split(', ')  # value\n",
    "        value.sort(key=locale.strxfrm)\n",
    "        stop_words[key] = value  # 딕셔너리에 추가\n",
    "\n",
    "\n",
    "# stop_words_set\n",
    "stop_words_lst=[]\n",
    "for _, value in stop_words.items():\n",
    "    stop_words_lst.extend(value)\n",
    "\n",
    "stop_words_set=set(stop_words_lst)\n",
    "stop_words_set.update(nlp.Defaults.stop_words)"
   ]
  },
  {
   "cell_type": "code",
   "execution_count": 910,
   "metadata": {},
   "outputs": [],
   "source": [
    "neg_adv_lst=['못', '안', '전혀', '결코', '별로', '그리', '도대체', '도저히', '절대', '그다지', '절대로', '도무지', '채', '미처', '좀처럼', '여간', '영', '비단', '차마', '통', '구태여']"
   ]
  },
  {
   "cell_type": "code",
   "execution_count": 911,
   "metadata": {},
   "outputs": [],
   "source": [
    "for neg_adv in neg_adv_lst:\n",
    "    if neg_adv in stop_words_set:\n",
    "        stop_words_set.remove(neg_adv)"
   ]
  },
  {
   "cell_type": "code",
   "execution_count": 912,
   "metadata": {},
   "outputs": [
    {
     "data": {
      "text/plain": [
       "True"
      ]
     },
     "execution_count": 912,
     "metadata": {},
     "output_type": "execute_result"
    }
   ],
   "source": [
    "'수' in stop_words_set"
   ]
  },
  {
   "cell_type": "code",
   "execution_count": 913,
   "metadata": {},
   "outputs": [],
   "source": [
    "stop_words_set.remove('수') #예측에 많이 쓰이는 의존명사"
   ]
  },
  {
   "attachments": {},
   "cell_type": "markdown",
   "metadata": {},
   "source": [
    "### random deletion"
   ]
  },
  {
   "cell_type": "code",
   "execution_count": 973,
   "metadata": {},
   "outputs": [],
   "source": [
    "def random_deletion(words, p):\n",
    "\n",
    "    new_words=[]\n",
    "    for token in words:\n",
    "        r=random.uniform(0, 1)\n",
    "        spt = token.lemma_.split('+')\n",
    "        if r>p:\n",
    "            if token.text in stop_words_set: #1-p의 확률로 불용어를 제거한다.\n",
    "                continue\n",
    "            if (token.pos_ =='ADV') and (token.dep_ not in ['ROOT', 'fixed', 'conj']) and (token.text not in neg_adv_lst): #1-p의 확률로 부정 부사를 제외한 부사 제거\n",
    "                continue\n",
    "            if token.pos_ in ['ADJ', 'NUM'] and token.dep_ not in ['ROOT', 'fixed', 'conj']: #1-p확률로 수식하는 단어를 제거\n",
    "                continue\n",
    "            if token.pos_ != 'VERB' and len(spt) == 2 and spt[0] != '나' and spt[-1] in ['은', '는', '이', '가', '을', '를', '에', '에게', '의', '께서']:\n",
    "                new_words.append(''.join(spt[:-1]))\n",
    "                continue\n",
    "        \n",
    "        new_words.append(token.text) #포함되는 토큰을 담는다.\n",
    "\n",
    "    if len(new_words) < 4:\n",
    "      new_words = [token.text for token in words]\n",
    "      \n",
    "    return new_words"
   ]
  },
  {
   "cell_type": "code",
   "execution_count": 915,
   "metadata": {},
   "outputs": [
    {
     "name": "stdout",
     "output_type": "stream",
     "text": [
      "하늘\n",
      "나는\n",
      "꿈\n",
      "꾸는\n",
      "꼬마\n",
      "자동차\n"
     ]
    }
   ],
   "source": [
    "doc = nlp(\"하늘을 나는 꿈을 꾸는 꼬마 자동차\")\n",
    "for token in doc:\n",
    "    \n",
    "    spt = token.lemma_.split('+')\n",
    "    if token.pos_ != 'VERB' and len(spt) == 2 and spt[0] != '나' and spt[-1] in ['은', '는', '이', '가', '을', '를', '에', '에게', '의', '께서', '께']:\n",
    "        print(''.join(spt[:-1]))\n",
    "    else:\n",
    "        print(token.text)\n",
    "\n"
   ]
  },
  {
   "cell_type": "code",
   "execution_count": null,
   "metadata": {},
   "outputs": [],
   "source": [
    "doc = nlp(df_train.iloc[[98]]['문장'][98])\n",
    "for token in doc:\n",
    "    print(token.text, token.pos_, token.dep_, token.lemma_)"
   ]
  },
  {
   "cell_type": "code",
   "execution_count": 972,
   "metadata": {},
   "outputs": [
    {
     "data": {
      "text/html": [
       "<div>\n",
       "<style scoped>\n",
       "    .dataframe tbody tr th:only-of-type {\n",
       "        vertical-align: middle;\n",
       "    }\n",
       "\n",
       "    .dataframe tbody tr th {\n",
       "        vertical-align: top;\n",
       "    }\n",
       "\n",
       "    .dataframe thead th {\n",
       "        text-align: right;\n",
       "    }\n",
       "</style>\n",
       "<table border=\"1\" class=\"dataframe\">\n",
       "  <thead>\n",
       "    <tr style=\"text-align: right;\">\n",
       "      <th></th>\n",
       "      <th>문장</th>\n",
       "      <th>유형</th>\n",
       "      <th>극성</th>\n",
       "      <th>시제</th>\n",
       "      <th>확실성</th>\n",
       "    </tr>\n",
       "  </thead>\n",
       "  <tbody>\n",
       "    <tr>\n",
       "      <th>98</th>\n",
       "      <td>1조원 영업이익을 내는 기업도 기업어음 발행에 차질이 빚어져 1월 위기설이 떠돌았던...</td>\n",
       "      <td>대화형</td>\n",
       "      <td>긍정</td>\n",
       "      <td>현재</td>\n",
       "      <td>확실</td>\n",
       "    </tr>\n",
       "  </tbody>\n",
       "</table>\n",
       "</div>"
      ],
      "text/plain": [
       "                                                   문장   유형  극성  시제 확실성\n",
       "98  1조원 영업이익을 내는 기업도 기업어음 발행에 차질이 빚어져 1월 위기설이 떠돌았던...  대화형  긍정  현재  확실"
      ]
     },
     "execution_count": 972,
     "metadata": {},
     "output_type": "execute_result"
    }
   ],
   "source": [
    "df_train.iloc[[98]]"
   ]
  },
  {
   "cell_type": "code",
   "execution_count": null,
   "metadata": {},
   "outputs": [],
   "source": [
    "random_deletion(doc, 0.5)\n"
   ]
  },
  {
   "attachments": {},
   "cell_type": "markdown",
   "metadata": {},
   "source": [
    "### random swap"
   ]
  },
  {
   "cell_type": "code",
   "execution_count": 974,
   "metadata": {},
   "outputs": [],
   "source": [
    "def random_swap(words, n):\n",
    "\tnew_words = words.copy()\n",
    "\tfor _ in range(n):\n",
    "\t\tnew_words = swap_word(new_words)\n",
    "\n",
    "\treturn new_words\n",
    "\n",
    "def swap_word(new_words):\n",
    "\tif len(new_words) > 4:\n",
    "\t\trandom_idx_1 = random.randint(1, len(new_words)-2) #양 끝 단어는 교체하지 못하게 함.\n",
    "\t\trandom_idx_2 = random_idx_1\n",
    "\t\tcounter = 0\n",
    "\n",
    "\t\twhile random_idx_2 == random_idx_1:\n",
    "\t\t\trandom_idx_2 = random.randint(1, len(new_words)-2)\n",
    "\t\t\tcounter += 1\n",
    "\t\t\tif counter > 3:\n",
    "\t\t\t\treturn new_words\n",
    "\n",
    "\t\tnew_words[random_idx_1], new_words[random_idx_2] = new_words[random_idx_2], new_words[random_idx_1]\n",
    "\treturn new_words\n"
   ]
  },
  {
   "attachments": {},
   "cell_type": "markdown",
   "metadata": {},
   "source": [
    "### EDA(Easy Data Augmentation)"
   ]
  },
  {
   "cell_type": "code",
   "execution_count": 975,
   "metadata": {},
   "outputs": [],
   "source": [
    "df_train = pd.read_csv('df_train.csv')\n",
    "df_val = pd.read_csv('df_val.csv')"
   ]
  },
  {
   "cell_type": "code",
   "execution_count": 976,
   "metadata": {},
   "outputs": [],
   "source": [
    "def EDA(sentence, alpha_rs=0.15, p_rd=0.5): \n",
    "\n",
    "\tdocs = nlp(sentence)\n",
    "\twords = random_deletion(docs, p_rd)\n",
    "\t\n",
    "\tif words:\n",
    "\t\tnum_words=len(words)\n",
    "\t\tif num_words<20:\n",
    "\t\t\tn_rs = max(1, int(alpha_rs*num_words))\n",
    "\t\t\ta_words = random_swap(words, n_rs)\n",
    "\t\t\taugmented_sentences = \" \".join(a_words)\n",
    "\n",
    "\t\telse:\taugmented_sentences = \" \".join(words)\n",
    "\n",
    "\treturn augmented_sentences"
   ]
  },
  {
   "cell_type": "code",
   "execution_count": 977,
   "metadata": {},
   "outputs": [],
   "source": [
    "def df_augmentation(df):\n",
    "\n",
    "    df_aug = df.copy()\n",
    "\n",
    "    for i in range(len(df)):\n",
    "        \n",
    "        r = random.uniform(0, 1)\n",
    "        sentence_type = df['유형'][i]\n",
    "        sentence_polarity = df['극성'][i]\n",
    "        sentence_certainty = df['확실성'][i]\n",
    "        sentence_tense = df['시제'][i]\n",
    "\n",
    "\n",
    "        if sentence_type == '추론형':\n",
    "            if r <= 0.5:\n",
    "                df_aug['문장'][i] = EDA(df_aug['문장'][i])\n",
    "                continue\n",
    "\n",
    "        if sentence_type != '사실형' and sentence_type != '추론형':\n",
    "            df_aug['문장'][i] = EDA(df_aug['문장'][i])\n",
    "            continue\n",
    "\n",
    "        \n",
    "        if sentence_certainty == '불확실':\n",
    "            df_aug['문장'][i] = EDA(df_aug['문장'][i])\n",
    "            continue\n",
    "\n",
    "        if sentence_polarity != '긍정':\n",
    "            df_aug['문장'][i] = EDA(df_aug['문장'][i])\n",
    "            continue\n",
    "\n",
    "        if sentence_tense == '미래':\n",
    "            if r <= 0.7:\n",
    "                df_aug['문장'][i] = EDA(df_aug['문장'][i])\n",
    "                continue\n",
    "\n",
    "        else:\n",
    "            if r<=0.3:\n",
    "                df_aug['문장'][i] = EDA(df_aug['문장'][i])\n",
    "\n",
    "    return df_aug\n",
    "\n"
   ]
  },
  {
   "cell_type": "code",
   "execution_count": null,
   "metadata": {},
   "outputs": [],
   "source": [
    "doc = nlp(df_train.iloc[[98]]['문장'][98])\n",
    "for token in doc:\n",
    "    print(token.text, token.pos_, token.dep_, token.lemma_)"
   ]
  },
  {
   "cell_type": "code",
   "execution_count": 979,
   "metadata": {},
   "outputs": [],
   "source": [
    "df_train_aug_1 = df_augmentation(df_train)\n",
    "df_train_aug_2 = df_augmentation(df_train)\n",
    "df_train_aug_3 = df_augmentation(df_train)\n",
    "df_train_aug = pd.concat([df_train_aug_1, df_train_aug_2, df_train_aug_3, df_train], axis=0).drop_duplicates().reset_index(drop=True)"
   ]
  },
  {
   "cell_type": "code",
   "execution_count": 986,
   "metadata": {},
   "outputs": [],
   "source": [
    "df_val_aug_1 = df_augmentation(df_val)\n",
    "df_val_aug_2 = df_augmentation(df_val)\n",
    "df_val_aug_3 = df_augmentation(df_val)\n",
    "df_val_aug = pd.concat([df_val_aug_1, df_val_aug_2, df_val_aug_3, df_val], axis=0).drop_duplicates().reset_index(drop=True)"
   ]
  },
  {
   "cell_type": "code",
   "execution_count": 1003,
   "metadata": {},
   "outputs": [
    {
     "data": {
      "text/plain": [
       "13425"
      ]
     },
     "execution_count": 1003,
     "metadata": {},
     "output_type": "execute_result"
    }
   ],
   "source": [
    "len(df_train)"
   ]
  },
  {
   "cell_type": "code",
   "execution_count": 1004,
   "metadata": {},
   "outputs": [
    {
     "data": {
      "text/plain": [
       "30708"
      ]
     },
     "execution_count": 1004,
     "metadata": {},
     "output_type": "execute_result"
    }
   ],
   "source": [
    "len(df_train_aug)"
   ]
  },
  {
   "attachments": {},
   "cell_type": "markdown",
   "metadata": {},
   "source": [
    "#### value_counts"
   ]
  },
  {
   "cell_type": "code",
   "execution_count": 999,
   "metadata": {},
   "outputs": [
    {
     "data": {
      "text/plain": [
       "(사실형    10851\n",
       " 추론형     1722\n",
       " 대화형      480\n",
       " 예측형      372\n",
       " Name: 유형, dtype: int64,\n",
       " 사실형    22650\n",
       " 추론형     4854\n",
       " 대화형     1727\n",
       " 예측형     1477\n",
       " Name: 유형, dtype: int64)"
      ]
     },
     "execution_count": 999,
     "metadata": {},
     "output_type": "execute_result"
    }
   ],
   "source": [
    "df_train.유형.value_counts(), df_train_aug['유형'].value_counts()"
   ]
  },
  {
   "cell_type": "code",
   "execution_count": 993,
   "metadata": {},
   "outputs": [
    {
     "data": {
      "text/plain": [
       "(긍정    12764\n",
       " 부정      440\n",
       " 미정      221\n",
       " Name: 극성, dtype: int64,\n",
       " 긍정    26207\n",
       " 부정     1277\n",
       " 미정      617\n",
       " Name: 극성, dtype: int64)"
      ]
     },
     "execution_count": 993,
     "metadata": {},
     "output_type": "execute_result"
    }
   ],
   "source": [
    "df_train.극성.value_counts(), df_train_aug['극성'].value_counts()"
   ]
  },
  {
   "cell_type": "code",
   "execution_count": 995,
   "metadata": {},
   "outputs": [
    {
     "data": {
      "text/plain": [
       "(과거    6421\n",
       " 현재    5495\n",
       " 미래    1509\n",
       " Name: 시제, dtype: int64,\n",
       " 과거    12559\n",
       " 현재    11225\n",
       " 미래     4317\n",
       " Name: 시제, dtype: int64)"
      ]
     },
     "execution_count": 995,
     "metadata": {},
     "output_type": "execute_result"
    }
   ],
   "source": [
    "df_train.시제.value_counts(), df_train_aug['시제'].value_counts()"
   ]
  },
  {
   "cell_type": "code",
   "execution_count": 996,
   "metadata": {},
   "outputs": [
    {
     "data": {
      "text/plain": [
       "(확실     12199\n",
       " 불확실     1226\n",
       " Name: 확실성, dtype: int64,\n",
       " 확실     24527\n",
       " 불확실     3574\n",
       " Name: 확실성, dtype: int64)"
      ]
     },
     "execution_count": 996,
     "metadata": {},
     "output_type": "execute_result"
    }
   ],
   "source": [
    "df_train.확실성.value_counts(), df_train_aug['확실성'].value_counts()"
   ]
  },
  {
   "cell_type": "code",
   "execution_count": 1005,
   "metadata": {},
   "outputs": [
    {
     "data": {
      "text/plain": [
       "(사실형    5742\n",
       " 추론형    1274\n",
       " 대화형     483\n",
       " 예측형     447\n",
       " Name: 유형, dtype: int64,\n",
       " 사실형    2732\n",
       " 추론형     445\n",
       " 대화형     131\n",
       " 예측형     112\n",
       " Name: 유형, dtype: int64)"
      ]
     },
     "execution_count": 1005,
     "metadata": {},
     "output_type": "execute_result"
    }
   ],
   "source": [
    "df_val_aug.유형.value_counts(), df_val.유형.value_counts()"
   ]
  },
  {
   "cell_type": "code",
   "execution_count": 1006,
   "metadata": {},
   "outputs": [
    {
     "data": {
      "text/plain": [
       "(긍정    7132\n",
       " 부정     508\n",
       " 미정     306\n",
       " Name: 극성, dtype: int64,\n",
       " 긍정    3210\n",
       " 부정     130\n",
       " 미정      80\n",
       " Name: 극성, dtype: int64)"
      ]
     },
     "execution_count": 1006,
     "metadata": {},
     "output_type": "execute_result"
    }
   ],
   "source": [
    "df_val_aug.극성.value_counts(), df_val.극성.value_counts()"
   ]
  },
  {
   "cell_type": "code",
   "execution_count": 1007,
   "metadata": {},
   "outputs": [
    {
     "data": {
      "text/plain": [
       "(과거    3422\n",
       " 현재    3166\n",
       " 미래    1358\n",
       " Name: 시제, dtype: int64,\n",
       " 과거    1624\n",
       " 현재    1413\n",
       " 미래     383\n",
       " Name: 시제, dtype: int64)"
      ]
     },
     "execution_count": 1007,
     "metadata": {},
     "output_type": "execute_result"
    }
   ],
   "source": [
    "df_val_aug.시제.value_counts(), df_val.시제.value_counts()"
   ]
  },
  {
   "cell_type": "code",
   "execution_count": 1008,
   "metadata": {},
   "outputs": [
    {
     "data": {
      "text/plain": [
       "(확실     6585\n",
       " 불확실    1361\n",
       " Name: 확실성, dtype: int64,\n",
       " 확실     3072\n",
       " 불확실     348\n",
       " Name: 확실성, dtype: int64)"
      ]
     },
     "execution_count": 1008,
     "metadata": {},
     "output_type": "execute_result"
    }
   ],
   "source": [
    "df_val_aug.확실성.value_counts(), df_val.확실성.value_counts()"
   ]
  },
  {
   "cell_type": "code",
   "execution_count": 1023,
   "metadata": {},
   "outputs": [
    {
     "data": {
      "text/plain": [
       "문장     0\n",
       "유형     0\n",
       "극성     0\n",
       "시제     0\n",
       "확실성    0\n",
       "dtype: int64"
      ]
     },
     "execution_count": 1023,
     "metadata": {},
     "output_type": "execute_result"
    }
   ],
   "source": [
    "df_train_aug.isna().sum()"
   ]
  },
  {
   "cell_type": "code",
   "execution_count": 1024,
   "metadata": {},
   "outputs": [
    {
     "data": {
      "text/plain": [
       "문장     0\n",
       "유형     0\n",
       "극성     0\n",
       "시제     0\n",
       "확실성    0\n",
       "dtype: int64"
      ]
     },
     "execution_count": 1024,
     "metadata": {},
     "output_type": "execute_result"
    }
   ],
   "source": [
    "df_val_aug.isna().sum()"
   ]
  },
  {
   "cell_type": "code",
   "execution_count": 1025,
   "metadata": {},
   "outputs": [],
   "source": [
    "df_train_aug.to_csv('df_train_aug.csv', index=False, encoding='utf-8-sig')"
   ]
  },
  {
   "cell_type": "code",
   "execution_count": 1026,
   "metadata": {},
   "outputs": [],
   "source": [
    "df_val.to_csv('df_val_aug.csv', index=False, encoding='utf-8-sig')"
   ]
  },
  {
   "cell_type": "code",
   "execution_count": 400,
   "metadata": {},
   "outputs": [],
   "source": [
    "df_under_type = df[df['유형']==1].sample(2000)\n",
    "df_under_polar = df[df['극성']==0].sample(2000)\n",
    "df_under_certainty = df[df['확실성']==1].sample(2000)\n",
    "df_under_tense = df[df['시제']!=1].sample(2000)"
   ]
  },
  {
   "cell_type": "code",
   "execution_count": 402,
   "metadata": {},
   "outputs": [],
   "source": [
    "df_under = pd.concat([df_under_type, df_under_polar, df_under_certainty, df_under_tense]).drop_duplicates()"
   ]
  },
  {
   "cell_type": "code",
   "execution_count": 399,
   "metadata": {},
   "outputs": [
    {
     "data": {
      "text/html": [
       "<div>\n",
       "<style scoped>\n",
       "    .dataframe tbody tr th:only-of-type {\n",
       "        vertical-align: middle;\n",
       "    }\n",
       "\n",
       "    .dataframe tbody tr th {\n",
       "        vertical-align: top;\n",
       "    }\n",
       "\n",
       "    .dataframe thead th {\n",
       "        text-align: right;\n",
       "    }\n",
       "</style>\n",
       "<table border=\"1\" class=\"dataframe\">\n",
       "  <thead>\n",
       "    <tr style=\"text-align: right;\">\n",
       "      <th></th>\n",
       "      <th>문장</th>\n",
       "      <th>유형</th>\n",
       "      <th>극성</th>\n",
       "      <th>시제</th>\n",
       "      <th>확실성</th>\n",
       "    </tr>\n",
       "  </thead>\n",
       "  <tbody>\n",
       "    <tr>\n",
       "      <th>0</th>\n",
       "      <td>비가 내리는 지역에서는 치고 곳이 지역에선 우박이 떨어지는 일부 있을 예정이다</td>\n",
       "      <td>2</td>\n",
       "      <td>0</td>\n",
       "      <td>1</td>\n",
       "      <td>0</td>\n",
       "    </tr>\n",
       "    <tr>\n",
       "      <th>1</th>\n",
       "      <td>비가 떨어지는 지역에서는 돌풍과 함께 천둥번개가 치고 일부 지역에선 우박이 내리는 ...</td>\n",
       "      <td>2</td>\n",
       "      <td>0</td>\n",
       "      <td>1</td>\n",
       "      <td>0</td>\n",
       "    </tr>\n",
       "    <tr>\n",
       "      <th>2</th>\n",
       "      <td>비가 내리는 지역에서는 돌풍과 함께 천둥번개가 치고 일부 우박이 있을 곳이 떨어지는...</td>\n",
       "      <td>2</td>\n",
       "      <td>0</td>\n",
       "      <td>1</td>\n",
       "      <td>0</td>\n",
       "    </tr>\n",
       "    <tr>\n",
       "      <th>3</th>\n",
       "      <td>비가 곳이 지역에서는 천둥번개가 치고 일부 우박이 떨어지는 내리는 예정이다</td>\n",
       "      <td>2</td>\n",
       "      <td>0</td>\n",
       "      <td>1</td>\n",
       "      <td>0</td>\n",
       "    </tr>\n",
       "    <tr>\n",
       "      <th>4</th>\n",
       "      <td>비가 내리는 곳이 돌풍과 치고 일부 지역에선 우박이 떨어지는 지역에서는 예정이다</td>\n",
       "      <td>2</td>\n",
       "      <td>0</td>\n",
       "      <td>1</td>\n",
       "      <td>0</td>\n",
       "    </tr>\n",
       "    <tr>\n",
       "      <th>...</th>\n",
       "      <td>...</td>\n",
       "      <td>...</td>\n",
       "      <td>...</td>\n",
       "      <td>...</td>\n",
       "      <td>...</td>\n",
       "    </tr>\n",
       "    <tr>\n",
       "      <th>16286</th>\n",
       "      <td>산재로 인해 노동자가 사망할 경우 도급인에게는 1년 이하 징역 또는 1억원 이하 벌...</td>\n",
       "      <td>1</td>\n",
       "      <td>0</td>\n",
       "      <td>1</td>\n",
       "      <td>1</td>\n",
       "    </tr>\n",
       "    <tr>\n",
       "      <th>16311</th>\n",
       "      <td>장중 대규모 주식을 매도하면 주가가 급락할 수 있어 장이 끝난 뒤 매매에 나선다</td>\n",
       "      <td>1</td>\n",
       "      <td>0</td>\n",
       "      <td>1</td>\n",
       "      <td>1</td>\n",
       "    </tr>\n",
       "    <tr>\n",
       "      <th>16340</th>\n",
       "      <td>중국 터키 스웨덴 등은 조만간 시범운영에 나설 예정이다</td>\n",
       "      <td>1</td>\n",
       "      <td>0</td>\n",
       "      <td>1</td>\n",
       "      <td>1</td>\n",
       "    </tr>\n",
       "    <tr>\n",
       "      <th>16470</th>\n",
       "      <td>채권 만기는 내년 1월로 이를 상환하지 못하면 디폴트 위기를 맞게 된다</td>\n",
       "      <td>1</td>\n",
       "      <td>0</td>\n",
       "      <td>1</td>\n",
       "      <td>1</td>\n",
       "    </tr>\n",
       "    <tr>\n",
       "      <th>16486</th>\n",
       "      <td>불안한 1대들과 공감하며 소통했던 라디오 a의 모습부터 사회적 문제 제기와 해결까지...</td>\n",
       "      <td>1</td>\n",
       "      <td>0</td>\n",
       "      <td>1</td>\n",
       "      <td>1</td>\n",
       "    </tr>\n",
       "  </tbody>\n",
       "</table>\n",
       "<p>25962 rows × 5 columns</p>\n",
       "</div>"
      ],
      "text/plain": [
       "                                                      문장  유형  극성  시제  확실성\n",
       "0            비가 내리는 지역에서는 치고 곳이 지역에선 우박이 떨어지는 일부 있을 예정이다   2   0   1    0\n",
       "1      비가 떨어지는 지역에서는 돌풍과 함께 천둥번개가 치고 일부 지역에선 우박이 내리는 ...   2   0   1    0\n",
       "2      비가 내리는 지역에서는 돌풍과 함께 천둥번개가 치고 일부 우박이 있을 곳이 떨어지는...   2   0   1    0\n",
       "3              비가 곳이 지역에서는 천둥번개가 치고 일부 우박이 떨어지는 내리는 예정이다   2   0   1    0\n",
       "4           비가 내리는 곳이 돌풍과 치고 일부 지역에선 우박이 떨어지는 지역에서는 예정이다   2   0   1    0\n",
       "...                                                  ...  ..  ..  ..  ...\n",
       "16286  산재로 인해 노동자가 사망할 경우 도급인에게는 1년 이하 징역 또는 1억원 이하 벌...   1   0   1    1\n",
       "16311       장중 대규모 주식을 매도하면 주가가 급락할 수 있어 장이 끝난 뒤 매매에 나선다   1   0   1    1\n",
       "16340                     중국 터키 스웨덴 등은 조만간 시범운영에 나설 예정이다   1   0   1    1\n",
       "16470            채권 만기는 내년 1월로 이를 상환하지 못하면 디폴트 위기를 맞게 된다   1   0   1    1\n",
       "16486  불안한 1대들과 공감하며 소통했던 라디오 a의 모습부터 사회적 문제 제기와 해결까지...   1   0   1    1\n",
       "\n",
       "[25962 rows x 5 columns]"
      ]
     },
     "execution_count": 399,
     "metadata": {},
     "output_type": "execute_result"
    }
   ],
   "source": [
    "df_aug_=pd.concat([df_aug_, df_type, df_polar, df_certainty, df_tense]).drop_duplicates()\n"
   ]
  },
  {
   "cell_type": "code",
   "execution_count": 403,
   "metadata": {},
   "outputs": [
    {
     "data": {
      "text/html": [
       "<div>\n",
       "<style scoped>\n",
       "    .dataframe tbody tr th:only-of-type {\n",
       "        vertical-align: middle;\n",
       "    }\n",
       "\n",
       "    .dataframe tbody tr th {\n",
       "        vertical-align: top;\n",
       "    }\n",
       "\n",
       "    .dataframe thead th {\n",
       "        text-align: right;\n",
       "    }\n",
       "</style>\n",
       "<table border=\"1\" class=\"dataframe\">\n",
       "  <thead>\n",
       "    <tr style=\"text-align: right;\">\n",
       "      <th></th>\n",
       "      <th>문장</th>\n",
       "      <th>유형</th>\n",
       "      <th>극성</th>\n",
       "      <th>시제</th>\n",
       "      <th>확실성</th>\n",
       "    </tr>\n",
       "  </thead>\n",
       "  <tbody>\n",
       "    <tr>\n",
       "      <th>0</th>\n",
       "      <td>비가 내리는 지역에서는 치고 곳이 지역에선 우박이 떨어지는 일부 있을 예정이다</td>\n",
       "      <td>2</td>\n",
       "      <td>0</td>\n",
       "      <td>1</td>\n",
       "      <td>0</td>\n",
       "    </tr>\n",
       "    <tr>\n",
       "      <th>1</th>\n",
       "      <td>비가 떨어지는 지역에서는 돌풍과 함께 천둥번개가 치고 일부 지역에선 우박이 내리는 ...</td>\n",
       "      <td>2</td>\n",
       "      <td>0</td>\n",
       "      <td>1</td>\n",
       "      <td>0</td>\n",
       "    </tr>\n",
       "    <tr>\n",
       "      <th>2</th>\n",
       "      <td>비가 내리는 지역에서는 돌풍과 함께 천둥번개가 치고 일부 우박이 있을 곳이 떨어지는...</td>\n",
       "      <td>2</td>\n",
       "      <td>0</td>\n",
       "      <td>1</td>\n",
       "      <td>0</td>\n",
       "    </tr>\n",
       "    <tr>\n",
       "      <th>3</th>\n",
       "      <td>비가 곳이 지역에서는 천둥번개가 치고 일부 우박이 떨어지는 내리는 예정이다</td>\n",
       "      <td>2</td>\n",
       "      <td>0</td>\n",
       "      <td>1</td>\n",
       "      <td>0</td>\n",
       "    </tr>\n",
       "    <tr>\n",
       "      <th>4</th>\n",
       "      <td>비가 내리는 곳이 돌풍과 치고 일부 지역에선 우박이 떨어지는 지역에서는 예정이다</td>\n",
       "      <td>2</td>\n",
       "      <td>0</td>\n",
       "      <td>1</td>\n",
       "      <td>0</td>\n",
       "    </tr>\n",
       "    <tr>\n",
       "      <th>...</th>\n",
       "      <td>...</td>\n",
       "      <td>...</td>\n",
       "      <td>...</td>\n",
       "      <td>...</td>\n",
       "      <td>...</td>\n",
       "    </tr>\n",
       "    <tr>\n",
       "      <th>14005</th>\n",
       "      <td>또한 a씨가 자신이 근무한 편의점에서 1일 동안 최소 1만원 이상의 돈을 들여 상품...</td>\n",
       "      <td>1</td>\n",
       "      <td>0</td>\n",
       "      <td>0</td>\n",
       "      <td>0</td>\n",
       "    </tr>\n",
       "    <tr>\n",
       "      <th>3872</th>\n",
       "      <td>오유리 빗썸경제연구소 정책연구팀장은 국내 규제가 미국의 동향을 따를 가능성이 높은 ...</td>\n",
       "      <td>1</td>\n",
       "      <td>0</td>\n",
       "      <td>0</td>\n",
       "      <td>1</td>\n",
       "    </tr>\n",
       "    <tr>\n",
       "      <th>14875</th>\n",
       "      <td>보라네트워크는 카카오게임즈의 계열사다</td>\n",
       "      <td>1</td>\n",
       "      <td>0</td>\n",
       "      <td>2</td>\n",
       "      <td>1</td>\n",
       "    </tr>\n",
       "    <tr>\n",
       "      <th>5136</th>\n",
       "      <td>컴투스는 최근 크리티카 글로벌의 a1a 블록체인 생태계 합류를 위해 참여자들이 직접...</td>\n",
       "      <td>1</td>\n",
       "      <td>0</td>\n",
       "      <td>0</td>\n",
       "      <td>1</td>\n",
       "    </tr>\n",
       "    <tr>\n",
       "      <th>5142</th>\n",
       "      <td>여기에 더불어민주당의 두 번째 고민이 담겨 있다</td>\n",
       "      <td>1</td>\n",
       "      <td>0</td>\n",
       "      <td>2</td>\n",
       "      <td>1</td>\n",
       "    </tr>\n",
       "  </tbody>\n",
       "</table>\n",
       "<p>28124 rows × 5 columns</p>\n",
       "</div>"
      ],
      "text/plain": [
       "                                                      문장  유형  극성  시제  확실성\n",
       "0            비가 내리는 지역에서는 치고 곳이 지역에선 우박이 떨어지는 일부 있을 예정이다   2   0   1    0\n",
       "1      비가 떨어지는 지역에서는 돌풍과 함께 천둥번개가 치고 일부 지역에선 우박이 내리는 ...   2   0   1    0\n",
       "2      비가 내리는 지역에서는 돌풍과 함께 천둥번개가 치고 일부 우박이 있을 곳이 떨어지는...   2   0   1    0\n",
       "3              비가 곳이 지역에서는 천둥번개가 치고 일부 우박이 떨어지는 내리는 예정이다   2   0   1    0\n",
       "4           비가 내리는 곳이 돌풍과 치고 일부 지역에선 우박이 떨어지는 지역에서는 예정이다   2   0   1    0\n",
       "...                                                  ...  ..  ..  ..  ...\n",
       "14005  또한 a씨가 자신이 근무한 편의점에서 1일 동안 최소 1만원 이상의 돈을 들여 상품...   1   0   0    0\n",
       "3872   오유리 빗썸경제연구소 정책연구팀장은 국내 규제가 미국의 동향을 따를 가능성이 높은 ...   1   0   0    1\n",
       "14875                               보라네트워크는 카카오게임즈의 계열사다   1   0   2    1\n",
       "5136   컴투스는 최근 크리티카 글로벌의 a1a 블록체인 생태계 합류를 위해 참여자들이 직접...   1   0   0    1\n",
       "5142                          여기에 더불어민주당의 두 번째 고민이 담겨 있다   1   0   2    1\n",
       "\n",
       "[28124 rows x 5 columns]"
      ]
     },
     "execution_count": 403,
     "metadata": {},
     "output_type": "execute_result"
    }
   ],
   "source": [
    "pd.concat([df_aug_, df_under]).drop_duplicates()"
   ]
  },
  {
   "cell_type": "code",
   "execution_count": 404,
   "metadata": {},
   "outputs": [],
   "source": [
    "df_aug = pd.concat([df_aug_, df_under]).drop_duplicates()"
   ]
  },
  {
   "cell_type": "code",
   "execution_count": 406,
   "metadata": {},
   "outputs": [
    {
     "data": {
      "text/plain": [
       "28124"
      ]
     },
     "execution_count": 406,
     "metadata": {},
     "output_type": "execute_result"
    }
   ],
   "source": [
    "len(df_aug)"
   ]
  },
  {
   "cell_type": "code",
   "execution_count": 409,
   "metadata": {},
   "outputs": [
    {
     "data": {
      "text/plain": [
       "1    20608\n",
       "0     7516\n",
       "Name: 확실성, dtype: int64"
      ]
     },
     "execution_count": 409,
     "metadata": {},
     "output_type": "execute_result"
    }
   ],
   "source": [
    "df_aug.확실성.value_counts()"
   ]
  },
  {
   "cell_type": "code",
   "execution_count": 410,
   "metadata": {},
   "outputs": [],
   "source": [
    "df_aug.to_csv('df_aug.csv', index=False, encoding='utf-8-sig')"
   ]
  }
 ],
 "metadata": {
  "kernelspec": {
   "display_name": "CP2",
   "language": "python",
   "name": "python3"
  },
  "language_info": {
   "codemirror_mode": {
    "name": "ipython",
    "version": 3
   },
   "file_extension": ".py",
   "mimetype": "text/x-python",
   "name": "python",
   "nbconvert_exporter": "python",
   "pygments_lexer": "ipython3",
   "version": "3.8.16"
  },
  "orig_nbformat": 4
 },
 "nbformat": 4,
 "nbformat_minor": 2
}
